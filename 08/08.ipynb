{
 "cells": [
  {
   "cell_type": "markdown",
   "metadata": {
    "toc": "true"
   },
   "source": [
    " # Table of Contents\n",
    "<div class=\"toc\" style=\"margin-top: 1em;\"><ul class=\"toc-item\" id=\"toc-level0\"><li><span><a href=\"http://localhost:8888/notebooks/08/08.ipynb#Jednovýběrový-t-test\" data-toc-modified-id=\"Jednovýběrový-t-test-1\"><span class=\"toc-item-num\">1&nbsp;&nbsp;</span>Jednovýběrový t-test</a></span><ul class=\"toc-item\"><li><span><a href=\"http://localhost:8888/notebooks/08/08.ipynb#Příklad\" data-toc-modified-id=\"Příklad-1.1\"><span class=\"toc-item-num\">1.1&nbsp;&nbsp;</span>Příklad</a></span></li></ul></li><li><span><a href=\"http://localhost:8888/notebooks/08/08.ipynb#Dvouvýběrový-t-test-na-nezávislých-vzorcích\" data-toc-modified-id=\"Dvouvýběrový-t-test-na-nezávislých-vzorcích-2\"><span class=\"toc-item-num\">2&nbsp;&nbsp;</span>Dvouvýběrový t-test na nezávislých vzorcích</a></span><ul class=\"toc-item\"><li><span><a href=\"http://localhost:8888/notebooks/08/08.ipynb#Příklad\" data-toc-modified-id=\"Příklad-2.1\"><span class=\"toc-item-num\">2.1&nbsp;&nbsp;</span>Příklad</a></span></li></ul></li><li><span><a href=\"http://localhost:8888/notebooks/08/08.ipynb#Párový-dvouvýběrový-t-test\" data-toc-modified-id=\"Párový-dvouvýběrový-t-test-3\"><span class=\"toc-item-num\">3&nbsp;&nbsp;</span>Párový dvouvýběrový t-test</a></span><ul class=\"toc-item\"><li><span><a href=\"http://localhost:8888/notebooks/08/08.ipynb#Příklad\" data-toc-modified-id=\"Příklad-3.1\"><span class=\"toc-item-num\">3.1&nbsp;&nbsp;</span>Příklad</a></span></li></ul></li><li><span><a href=\"http://localhost:8888/notebooks/08/08.ipynb#Vícenásobné-porovnání-/-ANOVA\" data-toc-modified-id=\"Vícenásobné-porovnání-/-ANOVA-4\"><span class=\"toc-item-num\">4&nbsp;&nbsp;</span>Vícenásobné porovnání / ANOVA</a></span><ul class=\"toc-item\"><li><span><a href=\"http://localhost:8888/notebooks/08/08.ipynb#Příklad\" data-toc-modified-id=\"Příklad-4.1\"><span class=\"toc-item-num\">4.1&nbsp;&nbsp;</span>Příklad</a></span></li><li><span><a href=\"http://localhost:8888/notebooks/08/08.ipynb#Post-hoc-analýza\" data-toc-modified-id=\"Post-hoc-analýza-4.2\"><span class=\"toc-item-num\">4.2&nbsp;&nbsp;</span>Post-hoc analýza</a></span></li></ul></li></ul></div>"
   ]
  },
  {
   "cell_type": "markdown",
   "metadata": {},
   "source": [
    "# Testování základních statistických hypotéz\n",
    "\n",
    "V této lekci si na několika příkladech ukážeme a vysvětlíme testování nejběžnějších statistických hypotéz. V žádném případě se nejedná o vyčerpávající seznam metod pro všechny situace, ale pouhý základ pro případy, se kterými se ve vědě setkáváme asi nejčastěji. Kompletnější a ucelenější seznam metod a situací, ve kterých se různé testování statistických hypotéz používá, lze nalézt [na stránkách](https://stats.idre.ucla.edu/other/mult-pkg/whatstat/) Institute for Digital Research and Education, University of California.\n",
    "\n",
    "## Jednovýběrový t-test\n",
    "\n",
    "Nejjednodušším statistickým testem je pravděpodobně jednovýběrový t-test na průměr, ve kterém lze testovat následující *alternativní hypotézy*:\n",
    "\n",
    "$H_1:\\ \\mu\\ \\ne\\ \\mu_0$\n",
    "\n",
    "$H_1:\\ \\mu\\ >\\ \\mu_0$\n",
    "\n",
    "$H_1:\\ \\mu\\ <\\ \\mu_0$\n",
    "\n",
    "proti *nulové hypotéze*, která je definovaná takto:\n",
    "\n",
    "$H_0:\\ \\mu\\ =\\ \\mu_0$\n",
    "\n",
    "Při jednovýběrovém t-testu se tedy snažíte na určité hladině pravděpodobnosti dokázat, že skutečný populační průměr $\\mu$  je jiný než ten očekávaný, $\\mu_0$. Z t-testu tedy vyplývá, zda můžete tvrdit, že prvky vašeho vzorku pocházejí z jiné než předpokládané populace.\n",
    "\n",
    "Jednovýběrový t-test vychází z definice intervalu spolehlivosti pro průměr a jeho tzv. *testovací statistika* má následující tvar:\n",
    "\n",
    "$t = \\frac{\\overline{x} - \\mu_0}{s/\\sqrt{n}}$\n",
    "\n",
    "Pokud si vzpomínáte na interval spolehlivosti tak, jak byl definován v předchozí lekci, víte, že hodnota $t$ odpovídá velikosti chyby, kterou při našem odhadu z konkrétního vzorku s určitou pravděpodobností uděláme vlivem náhodných jevů. U statistikého testu tedy chceme naopak vědět hodnotu $t$ v případě hypotetického populačního průměru $\\mu_0$. Takto vypočtená hodnota $t$ určuje maximální velikost intervalu spolehlivosti, který ještě neobsahuje hodnotu $\\mu_0$. Po sestavení libovolného intervalu spolehlivosti, by set totiž nulová hypotéza zamítla pouze tehdy, když by $\\mu_0$ leželo mimo interval -- nešlo by tedy s danou pravděpodobností (spolehlivostí) na základě posbíraných dat tvrdit, že by $\\mu_0$ mohl být skutečný populační průměr.\n",
    "\n",
    "Testovací statistika $t$ též určuje tzv. p-hodnotu ($p$), což je minimální hladina pravděpodobnosti (*statistické významnosti*), při které ještě můžeme nulovou hypotézu zamítnout (menší zvolená statistická významnost by už vedla k nepotrvrzení $H_1$). Pokud bychom tedy vytvořili více než (1-$p$)% interval spolehlivosti, už bychom nemohli $H_0$ zamítnout, neboť by interval obsahoval i hodnotu $\\mu_0$.\n",
    "\n",
    "### Příklad\n",
    "\n",
    "V předchozí lekci jste měli za [úkol](../07/ukoly/07_zadani.ipynb) sestavit interval spolehlivosti pro objem piva, který vyteče do lahve z vašeho prehistorického plnícího stroje. Pojďme si teď ověřit, zda není náhodou možné o našem stroji tvrdit, že šidí naše zákazníky a že z něj v průměru vytéká méně než deklarovaných 500 ml.\n",
    "\n",
    "Nulovou hypotézou v našem případě bude:\n",
    "\n",
    "$H_0:\\ \\mu\\ =\\ 500$\n",
    "\n",
    "tedy že stroj nešidí zákazníky a dělá přesně to, co má. Naší alternativní hypotézu pak sestavíme takto:\n",
    "\n",
    "$H_1:\\ \\mu\\ <\\ 500$\n",
    "\n",
    "tedy že stroj plní lahve pod míru. \n",
    "\n",
    "V tomto konkrétním testu se tedy snažíme dokázat, že náš stroj šidí zákazníky. Pro náš test zvolíme hladinu významnosti 1%, což je šance, že chybně přijmeme $H_1$ za předpokladu, že $H_0$ platí (tzv. *chyba prvního řádu*).  Pokud tedy sestavíme příslušný jednostranný 99% interval spolehlivosti pro průměr, ${\\displaystyle \\left(-\\infty, \\overline{x} + t^{*}{s  \\over {\\sqrt {n}}}\\right) }$, kde $t$ odpovídá 99% spolehlivosti, máme šanci 1%, že skutečný průměr se v tomto intervalu nenachází. $H_0$ bychom tedy v tomto příkladě chybně zamítnuli pouze s pravděpodobností 1% a to v případě, že interval spolehlivosti neobsahuje deklarovanou hodnotu 500 ml, ale ve skutečnosti je populační průměr opravdu roven 500 ml.\n",
    "\n",
    "Přejděme teď však již k samotnému výpočtu a ověřme si, jak na tom náš stroj asi je:"
   ]
  },
  {
   "cell_type": "code",
   "execution_count": 1,
   "metadata": {},
   "outputs": [
    {
     "data": {
      "text/html": [
       "<ol class=list-inline>\n",
       "\t<li>-Inf</li>\n",
       "\t<li>505.649487152757</li>\n",
       "</ol>\n"
      ],
      "text/latex": [
       "\\begin{enumerate*}\n",
       "\\item -Inf\n",
       "\\item 505.649487152757\n",
       "\\end{enumerate*}\n"
      ],
      "text/markdown": [
       "1. -Inf\n",
       "2. 505.649487152757\n",
       "\n",
       "\n"
      ],
      "text/plain": [
       "[1]     -Inf 505.6495"
      ]
     },
     "metadata": {},
     "output_type": "display_data"
    }
   ],
   "source": [
    "# načtení dat\n",
    "mereni <- read.table(\"../07/ukoly/plnici_stroj.csv\")$Volume\n",
    "\n",
    "# určení jednostranného 99% intervalu spolehlivosti\n",
    "x <- mean(mereni) # průměr vzorku\n",
    "s <- sd(mereni) # směrodatná odchylka vzorku\n",
    "N <- length(mereni) # počet měření\n",
    "sem <- s / sqrt(N) # střední chyba průměru\n",
    "df <- length(mereni) - 1 # počet stupňů volnosti příslušného t-rozdělení\n",
    "t_99 <- qt(0.99, df = df) # příslušná hodnota t pro 99% interval spolehlivosti\n",
    "\n",
    "# interval spolehlivosti\n",
    "c(\n",
    "    -Inf\n",
    "    , x + (t_99 * sem)\n",
    ")"
   ]
  },
  {
   "cell_type": "markdown",
   "metadata": {},
   "source": [
    "Hodnota 500 ml tedy do 99% intervalu spolehlivosti patří. Nemůžeme o našem stroji tedy na hladině významnosti 1% tvrdit, že by systematicky šidil naše zákazníky. To je dobrý výsledek, ale mějte na paměti, že to *neznamená* automatické přijmutí nulové hypotézy. Výsledek testu znamená pouze to, že nemáme dostatek důkazů na to, abychom mohli spolehlivé tvrdit, že $H_0$ není pravdivá a platí $H_1$. Hladina významnosti testu je totiž pouze pravděpodobnost chyby prvního řádu (Type I error) za předpokladu, že nulová hypotéza platí. Výsledek testu nám tedy vůbec nic neříká o platnosti nulové hypotézy. Platnost nulové hypotézy je pouze náš předpoklad a test nám v tomto ohledu neposkytuje pro toto žádný důkaz.\n",
    "\n",
    "Určení intervalu spolehlivosti je tedy jednou z možností jak provést tento test, ale v praxi běžnou metodou je postup přes výpočet testovací statistiky, kterou jsme si výše uvedli jako:\n",
    "\n",
    "$t = \\frac{\\overline{x} - \\mu_0}{s/\\sqrt{n}}$\n",
    "\n",
    "My si ji zde za použití proměnných výše můžeme spočítat například takto:"
   ]
  },
  {
   "cell_type": "code",
   "execution_count": 2,
   "metadata": {},
   "outputs": [
    {
     "data": {
      "text/html": [
       "-1.52046261020793"
      ],
      "text/latex": [
       "-1.52046261020793"
      ],
      "text/markdown": [
       "-1.52046261020793"
      ],
      "text/plain": [
       "[1] -1.520463"
      ]
     },
     "metadata": {},
     "output_type": "display_data"
    }
   ],
   "source": [
    "t <- (x - 500) / sem\n",
    "t"
   ]
  },
  {
   "cell_type": "markdown",
   "metadata": {},
   "source": [
    "Odpovídající p-hodnotu bychom pak snadno získali z distribuční funkce:"
   ]
  },
  {
   "cell_type": "code",
   "execution_count": 3,
   "metadata": {},
   "outputs": [
    {
     "data": {
      "text/html": [
       "0.0724311264162951"
      ],
      "text/latex": [
       "0.0724311264162951"
      ],
      "text/markdown": [
       "0.0724311264162951"
      ],
      "text/plain": [
       "[1] 0.07243113"
      ]
     },
     "metadata": {},
     "output_type": "display_data"
    }
   ],
   "source": [
    "p <- pt(t, df = df)\n",
    "p"
   ]
  },
  {
   "cell_type": "markdown",
   "metadata": {},
   "source": [
    "Toto je tedy minimální hodnota statistické významnosti, na které bychom mohli zamítnout $H_0$. Tato hodnota je větší než námi požadovaná statistická významnost testu (7.2% oproti 1%). Stačilo by nám tedy například sestrojit pouze cca 92.8% interval spolehlivosti na to, aby hodnotu 500 ml těsně neobsahoval:"
   ]
  },
  {
   "cell_type": "code",
   "execution_count": 4,
   "metadata": {},
   "outputs": [
    {
     "data": {
      "text/html": [
       "92.7568873583705"
      ],
      "text/latex": [
       "92.7568873583705"
      ],
      "text/markdown": [
       "92.7568873583705"
      ],
      "text/plain": [
       "[1] 92.75689"
      ]
     },
     "metadata": {},
     "output_type": "display_data"
    },
    {
     "data": {
      "text/html": [
       "<ol class=list-inline>\n",
       "\t<li>-Inf</li>\n",
       "\t<li>500</li>\n",
       "</ol>\n"
      ],
      "text/latex": [
       "\\begin{enumerate*}\n",
       "\\item -Inf\n",
       "\\item 500\n",
       "\\end{enumerate*}\n"
      ],
      "text/markdown": [
       "1. -Inf\n",
       "2. 500\n",
       "\n",
       "\n"
      ],
      "text/plain": [
       "[1] -Inf  500"
      ]
     },
     "metadata": {},
     "output_type": "display_data"
    }
   ],
   "source": [
    "(1 - p) * 100\n",
    "c(\n",
    "    -Inf\n",
    "    , x + (abs(t) * sem)\n",
    ")"
   ]
  },
  {
   "cell_type": "markdown",
   "metadata": {},
   "source": [
    "Vidíme tedy, že $H_0$ nelze na hladině významnosti 1% v našem případě zamítnout, neboť intervaly spolehlivosti větší než 92.76% a výše by už obsahovaly hodnotu 500ml.\n",
    "\n",
    "V R máme samozřejmě funkce, které nám testování statistických hypotéz usnadňují, a my tak často nebudeme muset ani znát přesný tvar testovací statistiky, abychom získali příslušný interval spolehlivosti a p-hodnotu. V předchozí lekci jsme si již trochu předtavili funkci `t.test`, která umožňuje nejen testování ale i výpočet intervalu spolehlivosti. V našem případě bychom výsledek našeho testu získali jednoduše takto:"
   ]
  },
  {
   "cell_type": "code",
   "execution_count": 5,
   "metadata": {},
   "outputs": [
    {
     "data": {
      "text/plain": [
       "\n",
       "\tOne Sample t-test\n",
       "\n",
       "data:  mereni\n",
       "t = -1.5205, df = 19, p-value = 0.07243\n",
       "alternative hypothesis: true mean is less than 500\n",
       "99 percent confidence interval:\n",
       "     -Inf 505.6495\n",
       "sample estimates:\n",
       "mean of x \n",
       " 491.5705 \n"
      ]
     },
     "metadata": {},
     "output_type": "display_data"
    }
   ],
   "source": [
    "t.test(mereni, mu = 500, alternative = \"less\", conf.level = 0.99)"
   ]
  },
  {
   "cell_type": "markdown",
   "metadata": {},
   "source": [
    "Funkci tedy stačí jako první argument poslat naše data a dále jen dalšími argumenty specifikovat $\\mu_0$, tvar alternativní hypotézy a hladinu spolehlivosti pro příslušný interval. \n",
    "\n",
    "Výstupem funkce ve skutečnosti není pouze řetězec, jak by se mohlo zdát, ale objekt:"
   ]
  },
  {
   "cell_type": "code",
   "execution_count": 6,
   "metadata": {},
   "outputs": [
    {
     "data": {
      "text/html": [
       "'htest'"
      ],
      "text/latex": [
       "'htest'"
      ],
      "text/markdown": [
       "'htest'"
      ],
      "text/plain": [
       "[1] \"htest\""
      ]
     },
     "metadata": {},
     "output_type": "display_data"
    }
   ],
   "source": [
    "result <- t.test(mereni, mu = 500, alternative = \"less\", conf.level = 0.99)\n",
    "class(result)"
   ]
  },
  {
   "cell_type": "markdown",
   "metadata": {},
   "source": [
    "Pokud tento objekt pošleme funkci `print` jako parameter dostaneme stejný výstup jako nahoře:"
   ]
  },
  {
   "cell_type": "code",
   "execution_count": 7,
   "metadata": {},
   "outputs": [
    {
     "name": "stdout",
     "output_type": "stream",
     "text": [
      "\n",
      "\tOne Sample t-test\n",
      "\n",
      "data:  mereni\n",
      "t = -1.5205, df = 19, p-value = 0.07243\n",
      "alternative hypothesis: true mean is less than 500\n",
      "99 percent confidence interval:\n",
      "     -Inf 505.6495\n",
      "sample estimates:\n",
      "mean of x \n",
      " 491.5705 \n",
      "\n"
     ]
    }
   ],
   "source": [
    "print(result)"
   ]
  },
  {
   "cell_type": "markdown",
   "metadata": {},
   "source": [
    "Funkce `print` se totiž dokáže objektu třídy `htest` zeptat na jeho textovou reprezentaci a tu potom vrátí, což je výstup, který vidíme nahoře. Objekt `htest` si můžeme představit jako takový lepší seznam, který obsahuje všechny detaily o výpočtu. Stejně jako u seznamů lze jména jednotlivých položek zjistit pomocí funkce `names`:"
   ]
  },
  {
   "cell_type": "code",
   "execution_count": 8,
   "metadata": {},
   "outputs": [
    {
     "data": {
      "text/html": [
       "<ol class=list-inline>\n",
       "\t<li>'statistic'</li>\n",
       "\t<li>'parameter'</li>\n",
       "\t<li>'p.value'</li>\n",
       "\t<li>'conf.int'</li>\n",
       "\t<li>'estimate'</li>\n",
       "\t<li>'null.value'</li>\n",
       "\t<li>'alternative'</li>\n",
       "\t<li>'method'</li>\n",
       "\t<li>'data.name'</li>\n",
       "</ol>\n"
      ],
      "text/latex": [
       "\\begin{enumerate*}\n",
       "\\item 'statistic'\n",
       "\\item 'parameter'\n",
       "\\item 'p.value'\n",
       "\\item 'conf.int'\n",
       "\\item 'estimate'\n",
       "\\item 'null.value'\n",
       "\\item 'alternative'\n",
       "\\item 'method'\n",
       "\\item 'data.name'\n",
       "\\end{enumerate*}\n"
      ],
      "text/markdown": [
       "1. 'statistic'\n",
       "2. 'parameter'\n",
       "3. 'p.value'\n",
       "4. 'conf.int'\n",
       "5. 'estimate'\n",
       "6. 'null.value'\n",
       "7. 'alternative'\n",
       "8. 'method'\n",
       "9. 'data.name'\n",
       "\n",
       "\n"
      ],
      "text/plain": [
       "[1] \"statistic\"   \"parameter\"   \"p.value\"     \"conf.int\"    \"estimate\"   \n",
       "[6] \"null.value\"  \"alternative\" \"method\"      \"data.name\"  "
      ]
     },
     "metadata": {},
     "output_type": "display_data"
    }
   ],
   "source": [
    "names(result)"
   ]
  },
  {
   "cell_type": "markdown",
   "metadata": {},
   "source": [
    "Objektu se tedy můžeme přímo zeptat na vypočtenou testovací statistiku:"
   ]
  },
  {
   "cell_type": "code",
   "execution_count": 9,
   "metadata": {},
   "outputs": [
    {
     "data": {
      "text/html": [
       "<strong>t:</strong> -1.52046261020793"
      ],
      "text/latex": [
       "\\textbf{t:} -1.52046261020793"
      ],
      "text/markdown": [
       "**t:** -1.52046261020793"
      ],
      "text/plain": [
       "        t \n",
       "-1.520463 "
      ]
     },
     "metadata": {},
     "output_type": "display_data"
    }
   ],
   "source": [
    "result$statistic"
   ]
  },
  {
   "cell_type": "markdown",
   "metadata": {},
   "source": [
    "počet stupňů volnosti:"
   ]
  },
  {
   "cell_type": "code",
   "execution_count": 10,
   "metadata": {},
   "outputs": [
    {
     "data": {
      "text/html": [
       "<strong>df:</strong> 19"
      ],
      "text/latex": [
       "\\textbf{df:} 19"
      ],
      "text/markdown": [
       "**df:** 19"
      ],
      "text/plain": [
       "df \n",
       "19 "
      ]
     },
     "metadata": {},
     "output_type": "display_data"
    }
   ],
   "source": [
    "result$parameter"
   ]
  },
  {
   "cell_type": "markdown",
   "metadata": {},
   "source": [
    "p-hodnotu:"
   ]
  },
  {
   "cell_type": "code",
   "execution_count": 11,
   "metadata": {},
   "outputs": [
    {
     "data": {
      "text/html": [
       "0.0724311264162952"
      ],
      "text/latex": [
       "0.0724311264162952"
      ],
      "text/markdown": [
       "0.0724311264162952"
      ],
      "text/plain": [
       "[1] 0.07243113"
      ]
     },
     "metadata": {},
     "output_type": "display_data"
    }
   ],
   "source": [
    "result$p.value"
   ]
  },
  {
   "cell_type": "markdown",
   "metadata": {},
   "source": [
    "interval spolehlivosti:"
   ]
  },
  {
   "cell_type": "code",
   "execution_count": 12,
   "metadata": {},
   "outputs": [
    {
     "data": {
      "text/html": [
       "<ol class=list-inline>\n",
       "\t<li>-Inf</li>\n",
       "\t<li>505.649487152757</li>\n",
       "</ol>\n"
      ],
      "text/latex": [
       "\\begin{enumerate*}\n",
       "\\item -Inf\n",
       "\\item 505.649487152757\n",
       "\\end{enumerate*}\n"
      ],
      "text/markdown": [
       "1. -Inf\n",
       "2. 505.649487152757\n",
       "\n",
       "\n"
      ],
      "text/plain": [
       "[1]     -Inf 505.6495\n",
       "attr(,\"conf.level\")\n",
       "[1] 0.99"
      ]
     },
     "metadata": {},
     "output_type": "display_data"
    }
   ],
   "source": [
    "result$conf.int"
   ]
  },
  {
   "cell_type": "markdown",
   "metadata": {},
   "source": [
    "odhad populačního průměru ze vzorku, tj. průměr z měření:"
   ]
  },
  {
   "cell_type": "code",
   "execution_count": 13,
   "metadata": {},
   "outputs": [
    {
     "data": {
      "text/html": [
       "<strong>mean of x:</strong> 491.5705"
      ],
      "text/latex": [
       "\\textbf{mean of x:} 491.5705"
      ],
      "text/markdown": [
       "**mean of x:** 491.5705"
      ],
      "text/plain": [
       "mean of x \n",
       " 491.5705 "
      ]
     },
     "metadata": {},
     "output_type": "display_data"
    },
    {
     "data": {
      "text/html": [
       "491.5705"
      ],
      "text/latex": [
       "491.5705"
      ],
      "text/markdown": [
       "491.5705"
      ],
      "text/plain": [
       "[1] 491.5705"
      ]
     },
     "metadata": {},
     "output_type": "display_data"
    }
   ],
   "source": [
    "result$estimate\n",
    "x"
   ]
  },
  {
   "cell_type": "markdown",
   "metadata": {},
   "source": [
    "hodnotu průměru v nulové hypotéze:"
   ]
  },
  {
   "cell_type": "code",
   "execution_count": 14,
   "metadata": {},
   "outputs": [
    {
     "data": {
      "text/html": [
       "<strong>mean:</strong> 500"
      ],
      "text/latex": [
       "\\textbf{mean:} 500"
      ],
      "text/markdown": [
       "**mean:** 500"
      ],
      "text/plain": [
       "mean \n",
       " 500 "
      ]
     },
     "metadata": {},
     "output_type": "display_data"
    }
   ],
   "source": [
    "result$null.value"
   ]
  },
  {
   "cell_type": "markdown",
   "metadata": {},
   "source": [
    "variantu alternativní hypotézy:"
   ]
  },
  {
   "cell_type": "code",
   "execution_count": 15,
   "metadata": {},
   "outputs": [
    {
     "data": {
      "text/html": [
       "'less'"
      ],
      "text/latex": [
       "'less'"
      ],
      "text/markdown": [
       "'less'"
      ],
      "text/plain": [
       "[1] \"less\""
      ]
     },
     "metadata": {},
     "output_type": "display_data"
    }
   ],
   "source": [
    "result$alternative"
   ]
  },
  {
   "cell_type": "markdown",
   "metadata": {},
   "source": [
    "variantu t-testu:"
   ]
  },
  {
   "cell_type": "code",
   "execution_count": 16,
   "metadata": {},
   "outputs": [
    {
     "data": {
      "text/html": [
       "'One Sample t-test'"
      ],
      "text/latex": [
       "'One Sample t-test'"
      ],
      "text/markdown": [
       "'One Sample t-test'"
      ],
      "text/plain": [
       "[1] \"One Sample t-test\""
      ]
     },
     "metadata": {},
     "output_type": "display_data"
    }
   ],
   "source": [
    "result$method"
   ]
  },
  {
   "cell_type": "markdown",
   "metadata": {},
   "source": [
    "a název proměnné, která obsahovala data pro test:"
   ]
  },
  {
   "cell_type": "code",
   "execution_count": 17,
   "metadata": {},
   "outputs": [
    {
     "data": {
      "text/html": [
       "'mereni'"
      ],
      "text/latex": [
       "'mereni'"
      ],
      "text/markdown": [
       "'mereni'"
      ],
      "text/plain": [
       "[1] \"mereni\""
      ]
     },
     "metadata": {},
     "output_type": "display_data"
    }
   ],
   "source": [
    "result$data.name"
   ]
  },
  {
   "cell_type": "markdown",
   "metadata": {},
   "source": [
    "Většina funkcí pro statistické testování v R vrací výsledek jako podobný objekt, takže pokud potřebujete zpracovávat výsledky testování automaticky, máte to většinou v R velice snadné. V praxi je použití takových funkcí velice vhodné, neboť jejich použití je zpravidla méně náchylné na chyby než explicitní použití vzorečků. \n",
    "\n",
    "Uveďme si teď ještě na závěr, jak by probíhal tento test v případě jiné alternativní hypotézy. Řekněme, že bychom se snažili dokázat, že náš stroj nedělá svou práci spolehlivě, tzn. testovat obsoustrannou alternativní hypotézu:\n",
    "\n",
    "$H_1:\\ \\mu\\ \\ne\\ \\mu_0$\n",
    "\n",
    "Snažíme se tedy dokázat, že stroj neplní lahve na požadovanou hodnotu, tedy že je buď přeplňuje nebo naopak plní pod míru. V podání funkce `t.test` bude test vypadat následovně:"
   ]
  },
  {
   "cell_type": "code",
   "execution_count": 18,
   "metadata": {},
   "outputs": [
    {
     "data": {
      "text/plain": [
       "\n",
       "\tOne Sample t-test\n",
       "\n",
       "data:  mereni\n",
       "t = -1.5205, df = 19, p-value = 0.1449\n",
       "alternative hypothesis: true mean is not equal to 500\n",
       "99 percent confidence interval:\n",
       " 475.7094 507.4316\n",
       "sample estimates:\n",
       "mean of x \n",
       " 491.5705 \n"
      ]
     },
     "metadata": {},
     "output_type": "display_data"
    }
   ],
   "source": [
    "t.test(mereni, mu = 500, alternative = \"two.sided\", conf.level = 0.99)"
   ]
  },
  {
   "cell_type": "markdown",
   "metadata": {},
   "source": [
    "Funkci `t.test` bychom mohli zavolat i bez parametru pro alternativní hypotézu. Režim \"two.sided\" je totiž výchozí nastavení:"
   ]
  },
  {
   "cell_type": "code",
   "execution_count": 19,
   "metadata": {},
   "outputs": [
    {
     "data": {
      "text/plain": [
       "\n",
       "\tOne Sample t-test\n",
       "\n",
       "data:  mereni\n",
       "t = -1.5205, df = 19, p-value = 0.1449\n",
       "alternative hypothesis: true mean is not equal to 500\n",
       "99 percent confidence interval:\n",
       " 475.7094 507.4316\n",
       "sample estimates:\n",
       "mean of x \n",
       " 491.5705 \n"
      ]
     },
     "metadata": {},
     "output_type": "display_data"
    }
   ],
   "source": [
    "t.test(mereni, mu = 500, conf.level = 0.99)"
   ]
  },
  {
   "cell_type": "markdown",
   "metadata": {},
   "source": [
    "Výchozí úroveň spolehlivosti funkce `t.test` je pak 5%:"
   ]
  },
  {
   "cell_type": "code",
   "execution_count": 20,
   "metadata": {},
   "outputs": [
    {
     "data": {
      "text/plain": [
       "\n",
       "\tOne Sample t-test\n",
       "\n",
       "data:  mereni\n",
       "t = -1.5205, df = 19, p-value = 0.1449\n",
       "alternative hypothesis: true mean is not equal to 500\n",
       "95 percent confidence interval:\n",
       " 479.9667 503.1743\n",
       "sample estimates:\n",
       "mean of x \n",
       " 491.5705 \n"
      ]
     },
     "metadata": {},
     "output_type": "display_data"
    }
   ],
   "source": [
    "result <- t.test(mereni, mu = 500)\n",
    "result"
   ]
  },
  {
   "cell_type": "markdown",
   "metadata": {},
   "source": [
    "Všimněte si, že se sníženou hladinou významnosti se nám zúžil interval spolehlivosti (odhad je přesnější, ale riziko chyby je větší). Pokud bychom použili hodnotu stejnou jako je naše p-hodnota, měli bychom dostat interval, který už hodnotu 500 ml těsně neobsahuje:"
   ]
  },
  {
   "cell_type": "code",
   "execution_count": 21,
   "metadata": {},
   "outputs": [
    {
     "data": {
      "text/plain": [
       "\n",
       "\tOne Sample t-test\n",
       "\n",
       "data:  mereni\n",
       "t = -1.5205, df = 19, p-value = 0.1449\n",
       "alternative hypothesis: true mean is not equal to 500\n",
       "85.51377 percent confidence interval:\n",
       " 483.141 500.000\n",
       "sample estimates:\n",
       "mean of x \n",
       " 491.5705 \n"
      ]
     },
     "metadata": {},
     "output_type": "display_data"
    }
   ],
   "source": [
    "t.test(\n",
    "    mereni\n",
    "    , mu = 500\n",
    "    , conf.level=1-result$p.value\n",
    ")"
   ]
  },
  {
   "cell_type": "markdown",
   "metadata": {},
   "source": [
    "Je tomu tedy skutečně tak a interval spolehlivosti hodnotu 500 ml neobsahuje (interval je oboustranně otevřený, takže do něj hodnota 500 ml nespadá). Vyšší hladina spolehlivosti by již vedla k zahrnutí $\\mu_0$, a tedy by již nešlo $H_1$ přijmout:"
   ]
  },
  {
   "cell_type": "code",
   "execution_count": 22,
   "metadata": {},
   "outputs": [
    {
     "data": {
      "text/plain": [
       "\n",
       "\tOne Sample t-test\n",
       "\n",
       "data:  mereni\n",
       "t = -1.5205, df = 19, p-value = 0.1449\n",
       "alternative hypothesis: true mean is not equal to 500\n",
       "85.52377 percent confidence interval:\n",
       " 483.1388 500.0022\n",
       "sample estimates:\n",
       "mean of x \n",
       " 491.5705 \n"
      ]
     },
     "metadata": {},
     "output_type": "display_data"
    }
   ],
   "source": [
    "t.test(\n",
    "    mereni\n",
    "    , mu = 500\n",
    "    , conf.level=1-(result$p.value - 0.0001)\n",
    ")"
   ]
  },
  {
   "cell_type": "markdown",
   "metadata": {},
   "source": [
    "## Dvouvýběrový t-test na nezávislých vzorcích\n",
    "\n",
    "Dvouvýběrový t-test slouží k porovnání průměrů dvou nezávislých výběrů. Zpravidla se tak snažíme dokázat (opět na určité hladině významnosti), že náhodná veličina nabývá v obou případech různých hodnot. Nulová a alternativní hypotéza se většinou definují takto:\n",
    "\n",
    "$H_0:\\ \\mu_1\\ =\\ \\mu_2$\n",
    "\n",
    "$H_1:\\ \\mu_1\\ \\ne\\ \\mu_2$\n",
    "\n",
    "ale mohli bychom i testovat alternativní hypotézy, ve kterých je například jeden průměr větší než druhý a naopak, tedy $H_1:\\ \\mu_1\\ <\\ \\mu_2$ nebo $H_1:\\ \\mu_1\\ >\\ \\mu_2$. \n",
    "\n",
    "Testovací statistika má v nejobecnější podobě následující tvar:\n",
    "\n",
    "${\\displaystyle t={{\\overline {X}}_{1}-{\\overline {X}}_{2} \\over {\\displaystyle {\\sqrt {{s_{1}^{2} \\over n_{1}}+{s_{2}^{2} \\over n_{2}}}}}}}$\n",
    "\n",
    "Stupně volnosti příslušného t rozdělení se pak vypočtou takto:\n",
    "\n",
    "$ \\mathrm{d.f.} = \\frac{(s_1^2/n_1 + s_2^2/n_2)^2}{(s_1^2/n_1)^2/(n_1-1) + (s_2^2/n_2)^2/(n_2-1)}$\n",
    "\n",
    "Říkáme \"v nejobecnější podobě\", neboť existuje i zjednodušená varianta, která předpokládá rovnost směrodatných odchylek obou vzorků (viz [wiki](https://en.wikipedia.org/wiki/Student's_t-test#Independent_two-sample_t-test)). Pokud máte dobrý důvod se domnívat, že tento předpoklad platí, je vhodné tuto metodu použít, neboť to znamená větší sílu testu. My však budeme v této lekci používat tzv. Welchův test, kterému odpovídají vzorečky nahoře. Tento test je sice více konzervativní, ale pro jeho použití není platnost tohoto předpokladu nutná.\n",
    "\n",
    "### Příklad\n",
    "\n",
    "V příkladu, na kterém si nezávislý dvouvýběrový t-test ukážeme, se opět vrátíme k Albertovi Michelsonovi a jeho experimentům s měřením rychlosti světla z [předchozí lekce](../07/). Michelson totiž v roce 1882 provedl nové měření, ale s jiným experimentálním uspořádáním ([S.M. Stigler, \"Do Robust Estimators Work with Real Data?\", The Annals of Statistics,1977, pp 1055-1098](http://darp.lse.ac.uk/PapersDB/Stigler_&#40;AnnStat_77&#41;.pdf)). Pojďme teď tedy zjistit, jak mu nová měření vyšla a zda jeho nový experiment skutečně vedl k jiným výsledkům než ten předchozí. Data z obou měření máme k dispozici v souboru `light_speed.csv`:"
   ]
  },
  {
   "cell_type": "code",
   "execution_count": 23,
   "metadata": {},
   "outputs": [
    {
     "data": {
      "text/html": [
       "<table>\n",
       "<thead><tr><th scope=col>Y1879</th><th scope=col>Y1882</th></tr></thead>\n",
       "<tbody>\n",
       "\t<tr><td> 850</td><td>883 </td></tr>\n",
       "\t<tr><td> 740</td><td>816 </td></tr>\n",
       "\t<tr><td> 900</td><td>778 </td></tr>\n",
       "\t<tr><td>1070</td><td>796 </td></tr>\n",
       "\t<tr><td> 930</td><td>682 </td></tr>\n",
       "\t<tr><td> 850</td><td>711 </td></tr>\n",
       "</tbody>\n",
       "</table>\n"
      ],
      "text/latex": [
       "\\begin{tabular}{r|ll}\n",
       " Y1879 & Y1882\\\\\n",
       "\\hline\n",
       "\t  850 & 883 \\\\\n",
       "\t  740 & 816 \\\\\n",
       "\t  900 & 778 \\\\\n",
       "\t 1070 & 796 \\\\\n",
       "\t  930 & 682 \\\\\n",
       "\t  850 & 711 \\\\\n",
       "\\end{tabular}\n"
      ],
      "text/markdown": [
       "\n",
       "Y1879 | Y1882 | \n",
       "|---|---|---|---|---|---|\n",
       "|  850 | 883  | \n",
       "|  740 | 816  | \n",
       "|  900 | 778  | \n",
       "| 1070 | 796  | \n",
       "|  930 | 682  | \n",
       "|  850 | 711  | \n",
       "\n",
       "\n"
      ],
      "text/plain": [
       "  Y1879 Y1882\n",
       "1  850  883  \n",
       "2  740  816  \n",
       "3  900  778  \n",
       "4 1070  796  \n",
       "5  930  682  \n",
       "6  850  711  "
      ]
     },
     "metadata": {},
     "output_type": "display_data"
    },
    {
     "data": {
      "text/html": [
       "<table>\n",
       "<thead><tr><th></th><th scope=col>Y1879</th><th scope=col>Y1882</th></tr></thead>\n",
       "<tbody>\n",
       "\t<tr><th scope=row>95</th><td>810</td><td>NA </td></tr>\n",
       "\t<tr><th scope=row>96</th><td>940</td><td>NA </td></tr>\n",
       "\t<tr><th scope=row>97</th><td>950</td><td>NA </td></tr>\n",
       "\t<tr><th scope=row>98</th><td>800</td><td>NA </td></tr>\n",
       "\t<tr><th scope=row>99</th><td>810</td><td>NA </td></tr>\n",
       "\t<tr><th scope=row>100</th><td>870</td><td>NA </td></tr>\n",
       "</tbody>\n",
       "</table>\n"
      ],
      "text/latex": [
       "\\begin{tabular}{r|ll}\n",
       "  & Y1879 & Y1882\\\\\n",
       "\\hline\n",
       "\t95 & 810 & NA \\\\\n",
       "\t96 & 940 & NA \\\\\n",
       "\t97 & 950 & NA \\\\\n",
       "\t98 & 800 & NA \\\\\n",
       "\t99 & 810 & NA \\\\\n",
       "\t100 & 870 & NA \\\\\n",
       "\\end{tabular}\n"
      ],
      "text/markdown": [
       "\n",
       "| <!--/--> | Y1879 | Y1882 | \n",
       "|---|---|---|---|---|---|\n",
       "| 95 | 810 | NA  | \n",
       "| 96 | 940 | NA  | \n",
       "| 97 | 950 | NA  | \n",
       "| 98 | 800 | NA  | \n",
       "| 99 | 810 | NA  | \n",
       "| 100 | 870 | NA  | \n",
       "\n",
       "\n"
      ],
      "text/plain": [
       "    Y1879 Y1882\n",
       "95  810   NA   \n",
       "96  940   NA   \n",
       "97  950   NA   \n",
       "98  800   NA   \n",
       "99  810   NA   \n",
       "100 870   NA   "
      ]
     },
     "metadata": {},
     "output_type": "display_data"
    }
   ],
   "source": [
    "df_lightspeed <- read.table(\n",
    "    \"light_speed.csv\"\n",
    "    , header = T\n",
    ")\n",
    "head(df_lightspeed)\n",
    "tail(df_lightspeed)"
   ]
  },
  {
   "cell_type": "markdown",
   "metadata": {},
   "source": [
    "Je vidět, že v roce 1882 Albert zřejmě provedl měření méně, neboť naše tabulka v některých polích na konci obsahuje neznámé hodnoty. Pojďme teď za pomoci funkce `is.na` zjistit, kolik měření tedy v roce 1882 provedl: "
   ]
  },
  {
   "cell_type": "code",
   "execution_count": 24,
   "metadata": {},
   "outputs": [
    {
     "data": {
      "text/html": [
       "23"
      ],
      "text/latex": [
       "23"
      ],
      "text/markdown": [
       "23"
      ],
      "text/plain": [
       "[1] 23"
      ]
     },
     "metadata": {},
     "output_type": "display_data"
    }
   ],
   "source": [
    "sum(!is.na(df_lightspeed$Y1882))"
   ]
  },
  {
   "cell_type": "markdown",
   "metadata": {},
   "source": [
    "Albert tedy v roce 1882 provedl pouhých 23 měření. \n",
    "\n",
    "Uložme si nyní data do dvou zvláštních vektorů a podíváme se na každý experiment podrobněji:"
   ]
  },
  {
   "cell_type": "code",
   "execution_count": 25,
   "metadata": {
    "collapsed": true
   },
   "outputs": [],
   "source": [
    "lightspeed_1879 <- df_lightspeed$Y1879\n",
    "lightspeed_1882 <- df_lightspeed$Y1882[!is.na(df_lightspeed$Y1882)]"
   ]
  },
  {
   "cell_type": "markdown",
   "metadata": {},
   "source": [
    "Zobrazíme si histogramy obou měření:"
   ]
  },
  {
   "cell_type": "code",
   "execution_count": 26,
   "metadata": {},
   "outputs": [
    {
     "data": {
      "image/png": "[encoded data removed]",
      "text/plain": [
       "Plot with title “Histogram of lightspeed_1879”"
      ]
     },
     "metadata": {},
     "output_type": "display_data"
    },
    {
     "data": {
      "image/png": "[encoded data removed]",
      "text/plain": [
       "Plot with title “Histogram of lightspeed_1882”"
      ]
     },
     "metadata": {},
     "output_type": "display_data"
    }
   ],
   "source": [
    "hist(lightspeed_1879, breaks = 15)\n",
    "hist(lightspeed_1882, breaks = 15)"
   ]
  },
  {
   "cell_type": "markdown",
   "metadata": {},
   "source": [
    "Z histogramů můžeme odhadnout, že rychlosti naměřené v roce 1882 byly zřejmě o něco nižší než v roce 1879.\n",
    "\n",
    "Jedním ze způsobů jak porovnat dva vzorky a distribuce získaných hodnot trochu více podrobněji je vykreslení hustot pravděpodobnosti, které se odvodí z konkrétních datových bodů. K tomu slouží funkce `density`, která vrací speciální objekt obsahující dva vektory (`x` a `y`), které reprezentují spočtené hodnoty proložené hustoty (`y`) pro různé hypotetické hodnoty rychlosti světla (`x`):"
   ]
  },
  {
   "cell_type": "code",
   "execution_count": 27,
   "metadata": {},
   "outputs": [
    {
     "data": {
      "text/html": [
       "'density'"
      ],
      "text/latex": [
       "'density'"
      ],
      "text/markdown": [
       "'density'"
      ],
      "text/plain": [
       "[1] \"density\""
      ]
     },
     "metadata": {},
     "output_type": "display_data"
    },
    {
     "data": {
      "text/html": [
       "<ol class=list-inline>\n",
       "\t<li>551.816719670129</li>\n",
       "\t<li>552.964208047154</li>\n",
       "\t<li>554.111696424179</li>\n",
       "\t<li>555.259184801203</li>\n",
       "\t<li>556.406673178228</li>\n",
       "\t<li>557.554161555253</li>\n",
       "</ol>\n"
      ],
      "text/latex": [
       "\\begin{enumerate*}\n",
       "\\item 551.816719670129\n",
       "\\item 552.964208047154\n",
       "\\item 554.111696424179\n",
       "\\item 555.259184801203\n",
       "\\item 556.406673178228\n",
       "\\item 557.554161555253\n",
       "\\end{enumerate*}\n"
      ],
      "text/markdown": [
       "1. 551.816719670129\n",
       "2. 552.964208047154\n",
       "3. 554.111696424179\n",
       "4. 555.259184801203\n",
       "5. 556.406673178228\n",
       "6. 557.554161555253\n",
       "\n",
       "\n"
      ],
      "text/plain": [
       "[1] 551.8167 552.9642 554.1117 555.2592 556.4067 557.5542"
      ]
     },
     "metadata": {},
     "output_type": "display_data"
    },
    {
     "data": {
      "text/html": [
       "<ol class=list-inline>\n",
       "\t<li>1.99688622013838e-06</li>\n",
       "\t<li>2.31797759233469e-06</li>\n",
       "\t<li>2.6789192505607e-06</li>\n",
       "\t<li>3.10650587378773e-06</li>\n",
       "\t<li>3.58703842182909e-06</li>\n",
       "\t<li>4.12459157192109e-06</li>\n",
       "</ol>\n"
      ],
      "text/latex": [
       "\\begin{enumerate*}\n",
       "\\item 1.99688622013838e-06\n",
       "\\item 2.31797759233469e-06\n",
       "\\item 2.6789192505607e-06\n",
       "\\item 3.10650587378773e-06\n",
       "\\item 3.58703842182909e-06\n",
       "\\item 4.12459157192109e-06\n",
       "\\end{enumerate*}\n"
      ],
      "text/markdown": [
       "1. 1.99688622013838e-06\n",
       "2. 2.31797759233469e-06\n",
       "3. 2.6789192505607e-06\n",
       "4. 3.10650587378773e-06\n",
       "5. 3.58703842182909e-06\n",
       "6. 4.12459157192109e-06\n",
       "\n",
       "\n"
      ],
      "text/plain": [
       "[1] 1.996886e-06 2.317978e-06 2.678919e-06 3.106506e-06 3.587038e-06\n",
       "[6] 4.124592e-06"
      ]
     },
     "metadata": {},
     "output_type": "display_data"
    }
   ],
   "source": [
    "dens_1879 <- density(lightspeed_1879)\n",
    "dens_1882 <- density(lightspeed_1882)\n",
    "\n",
    "class(dens_1879)\n",
    "head(dens_1879$x)\n",
    "head(dens_1879$y)"
   ]
  },
  {
   "cell_type": "markdown",
   "metadata": {},
   "source": [
    "Takto získané hustoty si můžeme zobrazit pomocí jednoduchého grafu a nejčastěji naměřené hodnoty v obou případech mezi sebou porovnat:"
   ]
  },
  {
   "cell_type": "code",
   "execution_count": 28,
   "metadata": {},
   "outputs": [
    {
     "data": {
      "image/png": "[encoded data removed]",
      "text/plain": [
       "Plot with title “Speed of light (1879 vs. 1882)”"
      ]
     },
     "metadata": {},
     "output_type": "display_data"
    }
   ],
   "source": [
    "plot(\n",
    "    dens_1879$x\n",
    "    , dens_1879$y\n",
    "    , xlab = \"lightspeed\"\n",
    "    , col = \"red\"\n",
    "    , main = \"Speed of light (1879 vs. 1882)\"\n",
    "    , type = \"l\"\n",
    ")\n",
    "lines(dens_1882$x, dens_1882$y, col = \"blue\")\n",
    "\n",
    "# umístění legendy do grafu\n",
    "legend(600, 0.005, c(\"1879\", \"1882\"), fill = c(\"red\", \"blue\"))"
   ]
  },
  {
   "cell_type": "markdown",
   "metadata": {},
   "source": [
    "Vidíme tedy, že v roce 1882 skutečně došlo ve většině případů k naměření nižších hodnot než v roce 1879. Je však tento rozdíl statisticky významný? Odpověď na tuto otázku nám opět poskytne funkce `t.test`:"
   ]
  },
  {
   "cell_type": "code",
   "execution_count": 29,
   "metadata": {},
   "outputs": [
    {
     "data": {
      "text/plain": [
       "\n",
       "\tWelch Two Sample t-test\n",
       "\n",
       "data:  lightspeed_1879 and lightspeed_1882\n",
       "t = 4.0598, df = 27.754, p-value = 0.0003625\n",
       "alternative hypothesis: true difference in means is not equal to 0\n",
       "95 percent confidence interval:\n",
       "  47.63387 144.73135\n",
       "sample estimates:\n",
       "mean of x mean of y \n",
       " 852.4000  756.2174 \n"
      ]
     },
     "metadata": {},
     "output_type": "display_data"
    }
   ],
   "source": [
    "t.test(lightspeed_1879, lightspeed_1882)"
   ]
  },
  {
   "cell_type": "markdown",
   "metadata": {},
   "source": [
    "Jelikož v tomto případě jde vlastně o konstrukci intervalu spolehlivosti pro rozdíl obou průměrů, můžeme z výstupu nahoře vyčíst, že na hladině pravděpodobnosti 5% můžeme nulovou hypotézu, $\\mu_1\\ -\\ \\mu_2\\ =\\ 0$, zamítnout, neboť vypočtený interval spolehlivosti nulu neobsahuje. Zároveň můžeme vidět, že nulovou hypotézu bychom zamítli i na hladině pravděpodobnosti 1%, neboť vypočtená p-hodnota je menší než 0.01. Není tedy pochyb o tom, že rozdíl v obou měřeních je statisticky významný.\n",
    "\n",
    "Pokud bychom měli důvod domnívat se, že směrodatné odchylky byly v případě obou měření stejné (například pokud by detekce probíhala stejným způsobem, a tudíž se stejnou experimentální chybou v obou případech), mohli bychom tohoto faktu využít a použít jinou variantu t-testu:"
   ]
  },
  {
   "cell_type": "code",
   "execution_count": 30,
   "metadata": {},
   "outputs": [
    {
     "data": {
      "text/plain": [
       "\n",
       "\tTwo Sample t-test\n",
       "\n",
       "data:  lightspeed_1879 and lightspeed_1882\n",
       "t = 4.9038, df = 121, p-value = 2.957e-06\n",
       "alternative hypothesis: true difference in means is not equal to 0\n",
       "95 percent confidence interval:\n",
       "  57.35155 135.01367\n",
       "sample estimates:\n",
       "mean of x mean of y \n",
       " 852.4000  756.2174 \n"
      ]
     },
     "metadata": {},
     "output_type": "display_data"
    }
   ],
   "source": [
    "t.test(lightspeed_1879, lightspeed_1882, var.equal = T)"
   ]
  },
  {
   "cell_type": "markdown",
   "metadata": {},
   "source": [
    "Všimněte si, že interval spolehlivosti je v tomto případě užší a i p-hodnota je nižší. Pokud by tedy náš předpoklad platil, získali bychom přesnější odhad rozdílu obou průměrů a tím pádem statisticky významnější výsledek. V našem příkladě si však tímto předpokladem nejsme jistí, a proto bychom se spíše měli opírat o výsledky získané použitím Welchova testu.\n",
    "\n",
    "Zbývá už jen otázka, zda se Albert v roce 1882 svým měřením lépe přiblížil hodnotě skutečné. Zjistili bychom to spočtením intervalu spolehlivosti:"
   ]
  },
  {
   "cell_type": "code",
   "execution_count": 31,
   "metadata": {},
   "outputs": [
    {
     "data": {
      "text/plain": [
       "\n",
       "\tOne Sample t-test\n",
       "\n",
       "data:  lightspeed_1882\n",
       "t = 33.858, df = 22, p-value < 2.2e-16\n",
       "alternative hypothesis: true mean is not equal to 0\n",
       "95 percent confidence interval:\n",
       " 709.8976 802.5372\n",
       "sample estimates:\n",
       "mean of x \n",
       " 756.2174 \n"
      ]
     },
     "metadata": {},
     "output_type": "display_data"
    }
   ],
   "source": [
    "t.test(lightspeed_1882)"
   ]
  },
  {
   "cell_type": "markdown",
   "metadata": {},
   "source": [
    "a porovnáním se skutečnou hodnotou, která je pro tento experiment [710.5](http://darp.lse.ac.uk/PapersDB/Stigler_&#40;AnnStat_77&#41;.pdf). Skutečná hodnota se tedy vejde do 95% intervalu spolehlivosti získaném z Albertových dat, a tudíž bychom mohli tvrdit, že se ve svém odhadu trefil. Nicméně všimněte si, že v porovnání s rokem 1879 je tento interval spolehlivosti mnohem širší:"
   ]
  },
  {
   "cell_type": "code",
   "execution_count": 32,
   "metadata": {},
   "outputs": [
    {
     "data": {
      "text/html": [
       "<ol class=list-inline>\n",
       "\t<li>709.897556785537</li>\n",
       "\t<li>802.537225823159</li>\n",
       "</ol>\n"
      ],
      "text/latex": [
       "\\begin{enumerate*}\n",
       "\\item 709.897556785537\n",
       "\\item 802.537225823159\n",
       "\\end{enumerate*}\n"
      ],
      "text/markdown": [
       "1. 709.897556785537\n",
       "2. 802.537225823159\n",
       "\n",
       "\n"
      ],
      "text/plain": [
       "[1] 709.8976 802.5372\n",
       "attr(,\"conf.level\")\n",
       "[1] 0.95"
      ]
     },
     "metadata": {},
     "output_type": "display_data"
    },
    {
     "data": {
      "text/html": [
       "<ol class=list-inline>\n",
       "\t<li>836.722593166331</li>\n",
       "\t<li>868.077406833669</li>\n",
       "</ol>\n"
      ],
      "text/latex": [
       "\\begin{enumerate*}\n",
       "\\item 836.722593166331\n",
       "\\item 868.077406833669\n",
       "\\end{enumerate*}\n"
      ],
      "text/markdown": [
       "1. 836.722593166331\n",
       "2. 868.077406833669\n",
       "\n",
       "\n"
      ],
      "text/plain": [
       "[1] 836.7226 868.0774\n",
       "attr(,\"conf.level\")\n",
       "[1] 0.95"
      ]
     },
     "metadata": {},
     "output_type": "display_data"
    }
   ],
   "source": [
    "t.test(lightspeed_1882)$conf.int\n",
    "t.test(lightspeed_1879)$conf.int"
   ]
  },
  {
   "cell_type": "markdown",
   "metadata": {},
   "source": [
    "Širší interval je pravděpodobně důsledek menšího počtu měření z roku 1882. Čili v tomto roce se Albert trefil, ale jeho měření jsou spojená s mnohem větší nejistotou. Mohlo by se tedy stát, že pokud by Albert v roce 1882 provedl měření více, snížil by tak střední chybu průměru a my bychom zjistili, že skutečnou rychlost nebyl schopen přesně změřit ani v tomto experimentu a že jeho metoda opět rychlost světla nadhodnotila, i když o něco méně než v roce 1879.\n",
    "\n",
    "## Párový dvouvýběrový t-test\n",
    "\n",
    "Párový t-test se zpravidla používá v situacích, kde je mezi dvěma měřeními určitá  souvislost (vzorky z populace nejsou vzájemně nezávislé). Nejtypičtějším příkladem je experiment, kde měření probíhá opakovaně na stejném vzorku z populace (tzv. opakované měření, angl. repeated measures). Může to být například skupina dobrovolníků, u které měříme hodnotu nějaké veličiny před a po podání návykové látky, nebo vzorky u kterých měříme koncentraci určité látky v době vytvoření směsi a po několika hodinách. \n",
    "\n",
    "Můžeme však takto i zkoumat rozdíl mezi dvěma různými skupinami, ve kterých jsou jednotlivé položky spárované. Příkladem může být například několik párů studentů stejného programu, ročníku, univerzity a se stejným prospěchem, kde u každého z nich zkoumáme nějaký externí vliv na prospěch v určitém předmětu (například jeden člen páru po hodině povinně 5 minut poslouchá hudbu a druhý nikoliv).\n",
    "\n",
    "Tvar nulové a alternativní hyptézy u párového testu by se dal zapsat jako:\n",
    "\n",
    "$H_0:\\ \\mu_d\\ =\\ \\mu_{d0}$\n",
    "\n",
    "$H_1:\\ \\mu_d\\ \\ne\\ \\mu_{d0}$\n",
    "\n",
    "kde $\\mu_d$ zde udává rozdíl v měřené veličině ve zpárovaných vzorcích a $\\mu_{d0}$ je očekávaná hodnota. Testovací statistika má pak následující tvar:\n",
    "\n",
    "$t = \\frac{\\overline{X}_D - \\mu_{d0}}{\\frac{s_D}{\\sqrt{n}}}$\n",
    "\n",
    "kde $\\overline{X}_D$ je výběrový průměr rozdílů ve spárovaných měřeních a $s_D$ je jejich směrodatná odchylka, $n$ zde potom označuje počet párů, nikoliv celkový počet měření. Párový t-test tedy vlastně probíhá stejně jako jednovýběrový t-test, který však uskutečňujeme na rozdílech mezi spárovanými měřeními. Ve většině případů budeme rozdíl $\\mu_d$ testovat proti $\\mu_{d0} = 0$, což reprezentuje případ, kdy mezi páry není vidět žádný rozdíl.\n",
    "\n",
    "### Příklad\n",
    "\n",
    "Pojďme si teď párový test ukázat na jednoduchém příkladu. V roce 1993 vyšel v novinách The Columbus Dispatch článek (*Lafferty, M. B. (1993), \"OSU scientists get a kick out of sports controversy, \"The Columbus Dispatch (November, 21, 1993), B7.*), který se snažil vyvrátit mýtus, že fotbalový míč naplněný heliem se bude ve svých vlastnostech výrazně lišit od míče naplněného vzduchem. Výzkumnící zde nechali střídavě jednoho hráče provést 39 výkopů s míčem naplněným na stejný tlak heliem a s míčem naplněným vzduchem. Experiment byl prováděn párově a to tak, že hráč nejprve vykopl míč naplněný vzduchem a hned potom míč s heliem. Výsledky experimentu tedy nebyly ovlivněny možnou získanou praxí hráče nebo únavou jeho kopací nohy. U každého výkopu se pak zaznamenala dokopnutá vzdálenost v yardech, která byla ve studii použita jako nezávislá proměná, která by pravděpodobně byla ovlivněna významným rozdílem ve fyzikálních vlastnostech míče. Data k této studii jsou uložena v souboru `kicks.csv`:"
   ]
  },
  {
   "cell_type": "code",
   "execution_count": 33,
   "metadata": {},
   "outputs": [
    {
     "data": {
      "text/html": [
       "<table>\n",
       "<thead><tr><th scope=col>Trial</th><th scope=col>Air</th><th scope=col>Helium</th></tr></thead>\n",
       "<tbody>\n",
       "\t<tr><td>1 </td><td>25</td><td>25</td></tr>\n",
       "\t<tr><td>2 </td><td>23</td><td>16</td></tr>\n",
       "\t<tr><td>3 </td><td>18</td><td>25</td></tr>\n",
       "\t<tr><td>4 </td><td>16</td><td>14</td></tr>\n",
       "\t<tr><td>5 </td><td>35</td><td>23</td></tr>\n",
       "\t<tr><td>6 </td><td>15</td><td>29</td></tr>\n",
       "</tbody>\n",
       "</table>\n"
      ],
      "text/latex": [
       "\\begin{tabular}{r|lll}\n",
       " Trial & Air & Helium\\\\\n",
       "\\hline\n",
       "\t 1  & 25 & 25\\\\\n",
       "\t 2  & 23 & 16\\\\\n",
       "\t 3  & 18 & 25\\\\\n",
       "\t 4  & 16 & 14\\\\\n",
       "\t 5  & 35 & 23\\\\\n",
       "\t 6  & 15 & 29\\\\\n",
       "\\end{tabular}\n"
      ],
      "text/markdown": [
       "\n",
       "Trial | Air | Helium | \n",
       "|---|---|---|---|---|---|\n",
       "| 1  | 25 | 25 | \n",
       "| 2  | 23 | 16 | \n",
       "| 3  | 18 | 25 | \n",
       "| 4  | 16 | 14 | \n",
       "| 5  | 35 | 23 | \n",
       "| 6  | 15 | 29 | \n",
       "\n",
       "\n"
      ],
      "text/plain": [
       "  Trial Air Helium\n",
       "1 1     25  25    \n",
       "2 2     23  16    \n",
       "3 3     18  25    \n",
       "4 4     16  14    \n",
       "5 5     35  23    \n",
       "6 6     15  29    "
      ]
     },
     "metadata": {},
     "output_type": "display_data"
    }
   ],
   "source": [
    "df_kicks <- read.table(\"kicks.csv\", header = T, sep=\"\\t\")\n",
    "head(df_kicks)"
   ]
  },
  {
   "cell_type": "markdown",
   "metadata": {},
   "source": [
    "Data jsou celkem přímočará: sloupec \"Trial\" označuje konkrétní pokus a sloupce \"Air\" a \"Helium\" obsahují samotná data o vzdálenostech za použití vzduchového a heliového míče. Do tabulky bychom si též mohli uložit jednotlivé párové rozdíly:"
   ]
  },
  {
   "cell_type": "code",
   "execution_count": 34,
   "metadata": {},
   "outputs": [
    {
     "data": {
      "text/html": [
       "<table>\n",
       "<thead><tr><th scope=col>Trial</th><th scope=col>Air</th><th scope=col>Helium</th><th scope=col>DiffAH</th></tr></thead>\n",
       "<tbody>\n",
       "\t<tr><td>1  </td><td>25 </td><td>25 </td><td>  0</td></tr>\n",
       "\t<tr><td>2  </td><td>23 </td><td>16 </td><td>  7</td></tr>\n",
       "\t<tr><td>3  </td><td>18 </td><td>25 </td><td> -7</td></tr>\n",
       "\t<tr><td>4  </td><td>16 </td><td>14 </td><td>  2</td></tr>\n",
       "\t<tr><td>5  </td><td>35 </td><td>23 </td><td> 12</td></tr>\n",
       "\t<tr><td>6  </td><td>15 </td><td>29 </td><td>-14</td></tr>\n",
       "</tbody>\n",
       "</table>\n"
      ],
      "text/latex": [
       "\\begin{tabular}{r|llll}\n",
       " Trial & Air & Helium & DiffAH\\\\\n",
       "\\hline\n",
       "\t 1   & 25  & 25  &   0\\\\\n",
       "\t 2   & 23  & 16  &   7\\\\\n",
       "\t 3   & 18  & 25  &  -7\\\\\n",
       "\t 4   & 16  & 14  &   2\\\\\n",
       "\t 5   & 35  & 23  &  12\\\\\n",
       "\t 6   & 15  & 29  & -14\\\\\n",
       "\\end{tabular}\n"
      ],
      "text/markdown": [
       "\n",
       "Trial | Air | Helium | DiffAH | \n",
       "|---|---|---|---|---|---|\n",
       "| 1   | 25  | 25  |   0 | \n",
       "| 2   | 23  | 16  |   7 | \n",
       "| 3   | 18  | 25  |  -7 | \n",
       "| 4   | 16  | 14  |   2 | \n",
       "| 5   | 35  | 23  |  12 | \n",
       "| 6   | 15  | 29  | -14 | \n",
       "\n",
       "\n"
      ],
      "text/plain": [
       "  Trial Air Helium DiffAH\n",
       "1 1     25  25       0   \n",
       "2 2     23  16       7   \n",
       "3 3     18  25      -7   \n",
       "4 4     16  14       2   \n",
       "5 5     35  23      12   \n",
       "6 6     15  29     -14   "
      ]
     },
     "metadata": {},
     "output_type": "display_data"
    }
   ],
   "source": [
    "df_kicks$DiffAH <- df_kicks$Air - df_kicks$Helium\n",
    "head(df_kicks)"
   ]
  },
  {
   "cell_type": "markdown",
   "metadata": {},
   "source": [
    "a zobrazit si jejich histogram:"
   ]
  },
  {
   "cell_type": "code",
   "execution_count": 35,
   "metadata": {},
   "outputs": [
    {
     "data": {
      "image/png": "[encoded data removed]",
      "text/plain": [
       "Plot with title “Histogram of df_kicks$DiffAH”"
      ]
     },
     "metadata": {},
     "output_type": "display_data"
    }
   ],
   "source": [
    "hist(df_kicks$DiffAH)"
   ]
  },
  {
   "cell_type": "markdown",
   "metadata": {},
   "source": [
    "Již z histogramu je vidět, že v chování obou míčů asi nebude žádný rozdíl a pokud ano, tak jenom velmi mírný. Ještě než si však zkusíme toto tvrzení ověřit statistivkým testem, pojďme se podívat na průběh pokusů v čase pro jednotlivé páry:"
   ]
  },
  {
   "cell_type": "code",
   "execution_count": 36,
   "metadata": {},
   "outputs": [
    {
     "data": {
      "image/png": "[encoded data removed]",
      "text/plain": [
       "plot without title"
      ]
     },
     "metadata": {},
     "output_type": "display_data"
    }
   ],
   "source": [
    "plot(df_kicks$Trial, df_kicks$Air, type = \"l\", col = \"blue\", ylim = c(10, 40))\n",
    "lines(df_kicks$Trial, df_kicks$Helium, col = \"red\")"
   ]
  },
  {
   "cell_type": "markdown",
   "metadata": {},
   "source": [
    "Z grafu vidíme, že některé výkopy s heliovým míčem se našemu hráči vůbec nepovedly. Tyto páry bychom mohli v datech ponechat nebo je označit za odlehlé a tyto experimenty úplně vyřadit. My je v datech zatím ponecháme, ale později si zkusíme provést párový test i bez nich.\n",
    "\n",
    "Funkce `t.test` v R umožňuje snadné provedení párového testu, takže toho teď využijme:"
   ]
  },
  {
   "cell_type": "code",
   "execution_count": 37,
   "metadata": {},
   "outputs": [
    {
     "data": {
      "text/plain": [
       "\n",
       "\tPaired t-test\n",
       "\n",
       "data:  df_kicks$Helium and df_kicks$Air\n",
       "t = 0.41976, df = 38, p-value = 0.677\n",
       "alternative hypothesis: true difference in means is not equal to 0\n",
       "95 percent confidence interval:\n",
       " -1.764346  2.687423\n",
       "sample estimates:\n",
       "mean of the differences \n",
       "              0.4615385 \n"
      ]
     },
     "metadata": {},
     "output_type": "display_data"
    }
   ],
   "source": [
    "t.test(df_kicks$Helium, df_kicks$Air, paired = T)"
   ]
  },
  {
   "cell_type": "markdown",
   "metadata": {},
   "source": [
    "Získali jsme tedy poměrně vysokou p-hodnotu, takže zřejmě nelze spolehlivě tvrdit, že by heliový míč měl významný vliv na hráčův výkop. Podívejme se, zda se situace změní po odstranění některých odlehlých bodů. Řekněmě, že za odlehlé body označíme všechny páry, kde byl alespoň jeden z výkopů kratší než 15 yardů:"
   ]
  },
  {
   "cell_type": "code",
   "execution_count": 38,
   "metadata": {},
   "outputs": [
    {
     "data": {
      "text/html": [
       "4"
      ],
      "text/latex": [
       "4"
      ],
      "text/markdown": [
       "4"
      ],
      "text/plain": [
       "[1] 4"
      ]
     },
     "metadata": {},
     "output_type": "display_data"
    },
    {
     "data": {
      "text/html": [
       "35"
      ],
      "text/latex": [
       "35"
      ],
      "text/markdown": [
       "35"
      ],
      "text/plain": [
       "[1] 35"
      ]
     },
     "metadata": {},
     "output_type": "display_data"
    }
   ],
   "source": [
    "mask <- df_kicks$Helium < 15 | df_kicks$Air < 15\n",
    "sum(mask)\n",
    "df_kicks_noout <- df_kicks[!mask,]\n",
    "nrow(df_kicks_noout)"
   ]
  },
  {
   "cell_type": "markdown",
   "metadata": {},
   "source": [
    "Z dat jsme tedy odstranili 4 odlehlé body a výsledek nového testu bude vypadat následovně:"
   ]
  },
  {
   "cell_type": "code",
   "execution_count": 39,
   "metadata": {},
   "outputs": [
    {
     "data": {
      "text/plain": [
       "\n",
       "\tPaired t-test\n",
       "\n",
       "data:  df_kicks_noout$Helium and df_kicks_noout$Air\n",
       "t = 1.5547, df = 34, p-value = 0.1293\n",
       "alternative hypothesis: true difference in means is not equal to 0\n",
       "95 percent confidence interval:\n",
       " -0.4914943  3.6914943\n",
       "sample estimates:\n",
       "mean of the differences \n",
       "                    1.6 \n"
      ]
     },
     "metadata": {},
     "output_type": "display_data"
    }
   ],
   "source": [
    "t.test(df_kicks_noout$Helium, df_kicks_noout$Air, paired = T)"
   ]
  },
  {
   "cell_type": "markdown",
   "metadata": {},
   "source": [
    "Zde nám již p-hodnota vyšla o něco menší, ale opět jsme nedostali statisticky významný výsledek. Můžeme tedy skutečně ukončit naší analýzu se závěrem, že neexistuje důkaz pro ovlivnění délky výkopu v případě použití helia místo vzduchu."
   ]
  },
  {
   "cell_type": "markdown",
   "metadata": {
    "collapsed": true
   },
   "source": [
    "## Vícenásobné porovnání / ANOVA\n",
    "\n",
    "V této lekci jsme se zatím zabývali jednoduchými t-testy, které představují standartní postup při porovnávání dvou náhodných výběrů. Například v případě dvouvýběrového t-testu se zkoumá, zda výběry pocházejí ze stejné populace či nikoliv a to vzhledem k hodnotě určité náhodné veličiny (např. zda jsme ve dvou nezávislých experimentech naměřili stejnou nebo různou rychlost světla). Tento problém lze však popsat i obecněji. Dalo by se říci, že vlastně tvoříme jakýsi model pro jednu *závislou proměnnou* (rychlost světla), která závisí na jedné *nezávislé proměnné* (experiment), což je *faktor* dvou *úrovní* (experiment v roce 1879 a 1882). T-test nám potom vlastně říká, zda je naše závislá proměnná ovlivněná tou nezávislou a zda je tato závislost statisticky významná. V kontextu příkladu s měřením rychlosti světla by to tedy bylo zkoumání faktu, zda je naměřená hodnota statisticky významně ovlivněna rokem, ve kterém bylo měření provedeno, což je pouze jinak vyjádřený problém, který jsme řešili v kapitole výše.\n",
    "\n",
    "V této kapitole si ukážeme, jak správně řešit problém, kdy má nezávislá proměnná více než dva faktory, tedy řešit vzájemné porovnání v případě více než dvou náhodných výběrů. V případě vícenásobného porovnání totiž nestačí pouze provést dvouvýběrové t-testy mezi všemi dvojcemi výběrů, jak by asi někoho napadlo, ale je třeba vzít do úvahy i chybu prvního řádu a její akumulaci v případě, že je třeba provést vícero porovnání. Představte si například, že nezávislá proměnná má 30 faktorů, tzn. že musíme provést ${\\binom {30}{2}}={\\frac {30!}{2!(30-2)!}}=4950$ vzájemných porovnání:"
   ]
  },
  {
   "cell_type": "code",
   "execution_count": 40,
   "metadata": {},
   "outputs": [
    {
     "data": {
      "text/html": [
       "435"
      ],
      "text/latex": [
       "435"
      ],
      "text/markdown": [
       "435"
      ],
      "text/plain": [
       "[1] 435"
      ]
     },
     "metadata": {},
     "output_type": "display_data"
    }
   ],
   "source": [
    "factorial(30) / (factorial(2) * factorial(30 - 2))"
   ]
  },
  {
   "cell_type": "markdown",
   "metadata": {},
   "source": [
    "U každého z nich pak máme například na hladině významnosti 1% (prvděpodobnost nesprávného zamítnutí nulové hypotézy) vždy šanci 99%, že platnou nulovou hypotézu nezamítneme a nezjistíme tak správně žádný efekt na závislou proměnnou. V případě provedení jednoho testu je to celkem velká spolehlivost, ale co v případě, že testů budeme muset provést stovky? S jakou pravděpodobností se nám pak stane, že opravdu správně nezjistíme, že úroveň nezávislé proměnné nemá žádný efekt na závislou proměnnou? Odpověď je, že bohužel poměrně nízká:"
   ]
  },
  {
   "cell_type": "code",
   "execution_count": 41,
   "metadata": {},
   "outputs": [
    {
     "data": {
      "text/html": [
       "0.0126272753252975"
      ],
      "text/latex": [
       "0.0126272753252975"
      ],
      "text/markdown": [
       "0.0126272753252975"
      ],
      "text/plain": [
       "[1] 0.01262728"
      ]
     },
     "metadata": {},
     "output_type": "display_data"
    }
   ],
   "source": [
    "0.99^435"
   ]
  },
  {
   "cell_type": "markdown",
   "metadata": {},
   "source": [
    "V tomto případě je tedy pravděpodobnost, že opravdu ve všech případech správně nezamítneme nulovou hypotézu a vyhneme se tak špatnému závěru velmi mizivá a to asi 1.3%. Jinak řečeno máme 98.7% pravděpodobnost, že se dopustíme chyby prvního řádu, tj. že alespoň jednou chybně zamítneme nulovou hypotézu:"
   ]
  },
  {
   "cell_type": "code",
   "execution_count": 42,
   "metadata": {},
   "outputs": [
    {
     "data": {
      "text/html": [
       "0.987372724674702"
      ],
      "text/latex": [
       "0.987372724674702"
      ],
      "text/markdown": [
       "0.987372724674702"
      ],
      "text/plain": [
       "[1] 0.9873727"
      ]
     },
     "metadata": {},
     "output_type": "display_data"
    }
   ],
   "source": [
    "1 - 0.99^435"
   ]
  },
  {
   "cell_type": "markdown",
   "metadata": {},
   "source": [
    "Metodou, která netrpí tímto neduhem a skutečně nám spolehlivě ukáže zda úroveň nezávislé proměnné nějak ovlivňuje hodnotu té závislé, je *analýza rozptylu* (analysis of variance, ANOVA). ANOVA by se dala považovat za rozšíření t-testu, ve kterém předpokládáme rovnost směrodatných odchylek závislé proměnné ve všech porovnávaných skupinách. Toto je třeba mít na paměti, neboť tradiční ANOVA vychází právě z tohoto předpokladu. V případě analýzy rozptylu vypadá nulová hypotéza následovně:\n",
    "\n",
    "$H_0:\\mu_1=\\mu_2=\\ldots=\\mu_j=\\ldots=\\mu_J$\n",
    "\n",
    "Alternativní hypotéza pak říká:\n",
    "\n",
    "$H_1:$ alespoň jeden populační průměr $\\mu_j$ se liší od ostatních\n",
    "\n",
    "Snažíme se tedy dokázat, že existuje alsopň jedna dvojce rozdílných populačních průměrů. Testovací statistika má v případě analýzy rozptylu následující tvar: \n",
    "\n",
    "$\\Large F={\\frac  {\\frac{SS_{B}}{f_{b}}}{ \\frac{SS_{W}}{f_{w}}}=\\frac  {MSS_{B}}{MSS_{W}}}$\n",
    "\n",
    "Narozdíl od hodnoty t v t-testu má toto tzv. *F ratio* F-rozdělení, jehož tvar závisí na dvou stupních volnosti: $f_{b}=J-1$ a $f_{w}=N-1$, což jsou zároveň normalizační členy při převodu sumy čtverců odchylek mezi skupinami (between groups, $SS_{B}$), a sumy čtverců v rámci skupin (within groups, $SS_{W}$), na jejich zprůměrované varianty, $MSS_{B}$ a $MSS_{W}$. $SS_{B}$ a $SS_{W}$ jsou dány vztahy:\n",
    "\n",
    "$SS_{B}=SS_{T} - SS_{W}$\n",
    "\n",
    "$SS_{T}=\\sum_{i=1}^N (x_{i} - \\overline{x})^2$\n",
    "\n",
    "$SS_{W}=\\sum_{j=1}^J\\sum_{i=1}^N (x_{ij} - \\overline{x_j})^2$\n",
    "\n",
    "Jak vidíme, tak suma čtverců $SS_{B}$ závisí na rozdílu mezi celkovou sumou čtverců, $SS_{T}$, a sumou sum čtverců odchylek v jednotlivých skupinách, $SS_{W}$. Tento rozdíl tak obsahuje informaci o tom, jak moc jsou si průměry jednotlivých skupin blízké nebo vzdálené. Tento člen se totiž v případě blízkých průměrů bude blížit nule a naopak se bude zvětšovat, pokud alespoň jeden z průměrů bude nějak vybočovat. V případě blízkých průměrů by totiž celková suma čtverců, $SS_{T}$, měla být stejná jako suma sum čtverců odchylek v jednotlivých skupinách,  $SS_{W}$.\n",
    "\n",
    "### Příklad\n",
    "\n",
    "Aplikaci analýzy rozptylu si ukážeme na jednoduchém příkladě, ve kterém budeme mít za úkol analyzovat data nasbíraná o různých druzích párků a určit, zda z pohledu energetického obsahu a obsahu soli záleží na tom, jaký typ párku budeme konzumovat. Tento test nám tedy napoví, zda je možné, že po některých párcích budeme více tloustnout nebo zda od nich máme očekávat větší dávku soli. Data k analýze jsou uložená v souboru `dogs.csv` a každý řádek v tomto souboru představuje jeden konkrétní párek:"
   ]
  },
  {
   "cell_type": "code",
   "execution_count": 43,
   "metadata": {},
   "outputs": [
    {
     "data": {
      "text/html": [
       "<table>\n",
       "<thead><tr><th scope=col>Type</th><th scope=col>Calories</th><th scope=col>Sodium</th></tr></thead>\n",
       "<tbody>\n",
       "\t<tr><td>Beef</td><td>186 </td><td>495 </td></tr>\n",
       "\t<tr><td>Beef</td><td>181 </td><td>477 </td></tr>\n",
       "\t<tr><td>Beef</td><td>176 </td><td>425 </td></tr>\n",
       "\t<tr><td>Beef</td><td>149 </td><td>322 </td></tr>\n",
       "\t<tr><td>Beef</td><td>184 </td><td>482 </td></tr>\n",
       "\t<tr><td>Beef</td><td>190 </td><td>587 </td></tr>\n",
       "</tbody>\n",
       "</table>\n"
      ],
      "text/latex": [
       "\\begin{tabular}{r|lll}\n",
       " Type & Calories & Sodium\\\\\n",
       "\\hline\n",
       "\t Beef & 186  & 495 \\\\\n",
       "\t Beef & 181  & 477 \\\\\n",
       "\t Beef & 176  & 425 \\\\\n",
       "\t Beef & 149  & 322 \\\\\n",
       "\t Beef & 184  & 482 \\\\\n",
       "\t Beef & 190  & 587 \\\\\n",
       "\\end{tabular}\n"
      ],
      "text/markdown": [
       "\n",
       "Type | Calories | Sodium | \n",
       "|---|---|---|---|---|---|\n",
       "| Beef | 186  | 495  | \n",
       "| Beef | 181  | 477  | \n",
       "| Beef | 176  | 425  | \n",
       "| Beef | 149  | 322  | \n",
       "| Beef | 184  | 482  | \n",
       "| Beef | 190  | 587  | \n",
       "\n",
       "\n"
      ],
      "text/plain": [
       "  Type Calories Sodium\n",
       "1 Beef 186      495   \n",
       "2 Beef 181      477   \n",
       "3 Beef 176      425   \n",
       "4 Beef 149      322   \n",
       "5 Beef 184      482   \n",
       "6 Beef 190      587   "
      ]
     },
     "metadata": {},
     "output_type": "display_data"
    },
    {
     "data": {
      "text/html": [
       "<ol class=list-inline>\n",
       "\t<li>54</li>\n",
       "\t<li>3</li>\n",
       "</ol>\n"
      ],
      "text/latex": [
       "\\begin{enumerate*}\n",
       "\\item 54\n",
       "\\item 3\n",
       "\\end{enumerate*}\n"
      ],
      "text/markdown": [
       "1. 54\n",
       "2. 3\n",
       "\n",
       "\n"
      ],
      "text/plain": [
       "[1] 54  3"
      ]
     },
     "metadata": {},
     "output_type": "display_data"
    },
    {
     "data": {
      "text/html": [
       "<ol class=list-inline>\n",
       "\t<li>'Beef'</li>\n",
       "\t<li>'Meat'</li>\n",
       "\t<li>'Poultry'</li>\n",
       "</ol>\n"
      ],
      "text/latex": [
       "\\begin{enumerate*}\n",
       "\\item 'Beef'\n",
       "\\item 'Meat'\n",
       "\\item 'Poultry'\n",
       "\\end{enumerate*}\n"
      ],
      "text/markdown": [
       "1. 'Beef'\n",
       "2. 'Meat'\n",
       "3. 'Poultry'\n",
       "\n",
       "\n"
      ],
      "text/plain": [
       "[1] \"Beef\"    \"Meat\"    \"Poultry\""
      ]
     },
     "metadata": {},
     "output_type": "display_data"
    }
   ],
   "source": [
    "df_dogs <- read.table(\"dogs.csv\", header = T, sep = \",\")\n",
    "head(df_dogs)\n",
    "dim(df_dogs)\n",
    "levels(df_dogs$Type)"
   ]
  },
  {
   "cell_type": "markdown",
   "metadata": {},
   "source": [
    "V tomto příkladu tedy máme jednu nezávislou proměnnou (*Type*). Tato proměnná zastupuje typ párku a má následující tři úrovně:\n",
    "\n",
    "1. *Beef* - hovězí párky\n",
    "2. *Poultry* - drůbeží párky\n",
    "3. *Meat* - \"masové\" párky (mix hovězího a vepřového, maximálně jen 15% drůbežího)\n",
    "\n",
    "Máme zde tedy tři skupiny párků, které mezi sebou budeme porovnávat a sledovat jejich efekt na dvě možné závislé proměnné (*Calories* a *Sodium*). Čili provedeme dvě analýzy rozptylu, jednu pro energetický obsah (*Calories*) a druhou pro obsah sodíku (*Sodium*).\n",
    "\n",
    "Začněmě nejprve obsahem kalorií a zobrazme si jednotlivé skupiny pomocí boxplotu:"
   ]
  },
  {
   "cell_type": "code",
   "execution_count": 44,
   "metadata": {},
   "outputs": [
    {
     "data": {
      "text/html": [
       "20"
      ],
      "text/latex": [
       "20"
      ],
      "text/markdown": [
       "20"
      ],
      "text/plain": [
       "[1] 20"
      ]
     },
     "metadata": {},
     "output_type": "display_data"
    },
    {
     "data": {
      "text/html": [
       "17"
      ],
      "text/latex": [
       "17"
      ],
      "text/markdown": [
       "17"
      ],
      "text/plain": [
       "[1] 17"
      ]
     },
     "metadata": {},
     "output_type": "display_data"
    },
    {
     "data": {
      "text/html": [
       "17"
      ],
      "text/latex": [
       "17"
      ],
      "text/markdown": [
       "17"
      ],
      "text/plain": [
       "[1] 17"
      ]
     },
     "metadata": {},
     "output_type": "display_data"
    },
    {
     "data": {
      "image/png": "[encoded data removed]",
      "text/plain": [
       "plot without title"
      ]
     },
     "metadata": {},
     "output_type": "display_data"
    }
   ],
   "source": [
    "cals_total <- df_dogs$Calories\n",
    "cals_beef <- df_dogs[df_dogs$Type == \"Beef\", \"Calories\"]\n",
    "cals_poultry <- df_dogs[df_dogs$Type == \"Poultry\", \"Calories\"]\n",
    "cals_meat <- df_dogs[df_dogs$Type == \"Meat\", \"Calories\"]\n",
    "\n",
    "length(cals_beef)\n",
    "length(cals_poultry)\n",
    "length(cals_meat)\n",
    "\n",
    "boxplot(\n",
    "    cals_beef\n",
    "    , cals_poultry\n",
    "    , cals_meat\n",
    "    , names = c(\"Beef\", \"Poultry\", \"Meat\")\n",
    "    , ylab = \"Calories\"\n",
    ")"
   ]
  },
  {
   "cell_type": "markdown",
   "metadata": {},
   "source": [
    "U každé kategorie párků máme tedy k dispozici cca 20 datových bodů a zdá se, že drůbeží párky obsahují měně energie než ostatní. Přistupme však již k analýze rozptylu a ověřme si, že mezi jednotlivými druhy párků je opravdu významný rozdíl. Lze tak učinit dosazením do vzorečků výše:"
   ]
  },
  {
   "cell_type": "code",
   "execution_count": 45,
   "metadata": {},
   "outputs": [
    {
     "data": {
      "text/html": [
       "16.0739926962943"
      ],
      "text/latex": [
       "16.0739926962943"
      ],
      "text/markdown": [
       "16.0739926962943"
      ],
      "text/plain": [
       "[1] 16.07399"
      ]
     },
     "metadata": {},
     "output_type": "display_data"
    }
   ],
   "source": [
    "mean_cals_total <- mean(cals_total) # celkový průměr\n",
    "mean_cals_beef <- mean(cals_beef) # hovězí průměr\n",
    "mean_cals_poultry <- mean(cals_poultry) # drůbeží průměr\n",
    "mean_cals_meat <- mean(cals_meat) # vepřový průměr\n",
    "\n",
    "N <- length(cals_total) # celkový počet datových bodů\n",
    "J <- length(levels(df_dogs$Type)) # úrovně nezávislé proměnné (počet náhodných výběrů)\n",
    "\n",
    "# suma čtverců within group\n",
    "ss_w <- sum(\n",
    "    c(\n",
    "        sum((cals_beef - mean_cals_beef)^2)\n",
    "        , sum((cals_poultry - mean_cals_poultry)^2)\n",
    "        , sum((cals_meat - mean_cals_meat)^2)\n",
    "    )\n",
    ")\n",
    "# suma čtverců total\n",
    "ss_t <- sum((cals_total - mean_cals_total)^2)\n",
    "# suma čtverců between group\n",
    "ss_b <- ss_t - ss_w\n",
    "\n",
    "# stupně volnosti\n",
    "f_b <- J - 1\n",
    "f_w <- N - J\n",
    "\n",
    "# F ratio\n",
    "F = (ss_b / f_b) / (ss_w / f_w)\n",
    "F"
   ]
  },
  {
   "cell_type": "markdown",
   "metadata": {},
   "source": [
    "Toto je tedy konkrétní hodnota testovací statistiky v případě energetického obsahu. Toto F ratio odpovídá následující p-hodnotě:"
   ]
  },
  {
   "cell_type": "code",
   "execution_count": 46,
   "metadata": {},
   "outputs": [
    {
     "data": {
      "text/html": [
       "3.86207183855625e-06"
      ],
      "text/latex": [
       "3.86207183855625e-06"
      ],
      "text/markdown": [
       "3.86207183855625e-06"
      ],
      "text/plain": [
       "[1] 3.862072e-06"
      ]
     },
     "metadata": {},
     "output_type": "display_data"
    }
   ],
   "source": [
    "p_val <- 1 - pf(F, f_b, f_w)\n",
    "p_val"
   ]
  },
  {
   "cell_type": "markdown",
   "metadata": {},
   "source": [
    "Funkce `pf` je zde (podobně jako `pt` u t-rozdělení) distribuční funkcí daného F-rozdělení a tato funkce má následující tvar:"
   ]
  },
  {
   "cell_type": "code",
   "execution_count": 47,
   "metadata": {},
   "outputs": [
    {
     "data": {
      "image/png": "[encoded data removed]",
      "text/plain": [
       "plot without title"
      ]
     },
     "metadata": {},
     "output_type": "display_data"
    }
   ],
   "source": [
    "F_range <- seq(0, 20, 0.1)\n",
    "plot(F_range, pf(F_range, f_b, f_w), type = 'l')"
   ]
  },
  {
   "cell_type": "markdown",
   "metadata": {},
   "source": [
    "Tato p-hodnota tedy představuje velmi vysokou statistickou významnost a my můžeme spolehlivě tvrdit, že typ zkonzumovaného párku má skutečně vliv na získané množství energie. Pozor, ANOVA nám neříká nic o tom, které skupiny se opravdu liší! To můžeme zjistit až pomocí dalších tzv. post-hoc testů, které budou diskutovány níže. V tento okamžik můžeme pouze říci, že různé druhy párků mají různý obsah energie.\n",
    "\n",
    "Tuto analýzu rozptylu lze též v R jednoduše provést bez explicitního dosazování do vzorečků pomocí funkce `aov`:"
   ]
  },
  {
   "cell_type": "code",
   "execution_count": 48,
   "metadata": {},
   "outputs": [
    {
     "data": {
      "text/plain": [
       "             Df Sum Sq Mean Sq F value   Pr(>F)    \n",
       "df_dogs$Type  2  17692    8846   16.07 3.86e-06 ***\n",
       "Residuals    51  28067     550                     \n",
       "---\n",
       "Signif. codes:  0 ‘***’ 0.001 ‘**’ 0.01 ‘*’ 0.05 ‘.’ 0.1 ‘ ’ 1"
      ]
     },
     "metadata": {},
     "output_type": "display_data"
    }
   ],
   "source": [
    "result <- aov(cals_total~df_dogs$Type)\n",
    "summary(result)"
   ]
  },
  {
   "cell_type": "markdown",
   "metadata": {},
   "source": [
    "Funkce `aov` jako první parametr akceptuje objekt typu `formula`:"
   ]
  },
  {
   "cell_type": "code",
   "execution_count": 49,
   "metadata": {},
   "outputs": [
    {
     "data": {
      "text/html": [
       "'formula'"
      ],
      "text/latex": [
       "'formula'"
      ],
      "text/markdown": [
       "'formula'"
      ],
      "text/plain": [
       "[1] \"formula\""
      ]
     },
     "metadata": {},
     "output_type": "display_data"
    }
   ],
   "source": [
    "class(cals_total~df_dogs$Type)"
   ]
  },
  {
   "cell_type": "markdown",
   "metadata": {},
   "source": [
    "O těchto objektech jsme si zatím nic neříkali. Pomocí této speciální syntaxe se v R definují modely a další vzájmené vztahy. My jsme si již na začátku této kapitoly řekli, že na naše data se můžeme dívat jako na model, který na základě úrovně nezávislé proměné (typ párku) předpovídá hodnotu závislé proměnné (množství kalorií). Právě tento vztah jsme vyjádřili pomocí předpisu `cals_total~df_dogs$Type`. Funkce `aov` pak už jen spočítá příslušné hodnoty a my pomocí funkce summary získáme výsledek v podobě přehledného výstupu. Výstup lze též jednoduše převést na pojmenovaný vektor:"
   ]
  },
  {
   "cell_type": "code",
   "execution_count": 50,
   "metadata": {},
   "outputs": [
    {
     "data": {
      "text/html": [
       "<dl class=dl-horizontal>\n",
       "\t<dt>Df1</dt>\n",
       "\t\t<dd>2</dd>\n",
       "\t<dt>Df2</dt>\n",
       "\t\t<dd>51</dd>\n",
       "\t<dt>Sum Sq1</dt>\n",
       "\t\t<dd>17692.1950980392</dd>\n",
       "\t<dt>Sum Sq2</dt>\n",
       "\t\t<dd>28067.1382352941</dd>\n",
       "\t<dt>Mean Sq1</dt>\n",
       "\t\t<dd>8846.0975490196</dd>\n",
       "\t<dt>Mean Sq2</dt>\n",
       "\t\t<dd>550.336043829296</dd>\n",
       "\t<dt>F value1</dt>\n",
       "\t\t<dd>16.0739926962943</dd>\n",
       "\t<dt>F value2</dt>\n",
       "\t\t<dd>NA</dd>\n",
       "\t<dt>Pr(&gt;F)1</dt>\n",
       "\t\t<dd>3.86207183854871e-06</dd>\n",
       "\t<dt>Pr(&gt;F)2</dt>\n",
       "\t\t<dd>NA</dd>\n",
       "</dl>\n"
      ],
      "text/latex": [
       "\\begin{description*}\n",
       "\\item[Df1] 2\n",
       "\\item[Df2] 51\n",
       "\\item[Sum Sq1] 17692.1950980392\n",
       "\\item[Sum Sq2] 28067.1382352941\n",
       "\\item[Mean Sq1] 8846.0975490196\n",
       "\\item[Mean Sq2] 550.336043829296\n",
       "\\item[F value1] 16.0739926962943\n",
       "\\item[F value2] NA\n",
       "\\item[Pr(>F)1] 3.86207183854871e-06\n",
       "\\item[Pr(>F)2] NA\n",
       "\\end{description*}\n"
      ],
      "text/markdown": [
       "Df1\n",
       ":   2Df2\n",
       ":   51Sum Sq1\n",
       ":   17692.1950980392Sum Sq2\n",
       ":   28067.1382352941Mean Sq1\n",
       ":   8846.0975490196Mean Sq2\n",
       ":   550.336043829296F value1\n",
       ":   16.0739926962943F value2\n",
       ":   NAPr(&amp;gt;F)1\n",
       ":   3.86207183854871e-06Pr(&amp;gt;F)2\n",
       ":   NA\n",
       "\n"
      ],
      "text/plain": [
       "         Df1          Df2      Sum Sq1      Sum Sq2     Mean Sq1     Mean Sq2 \n",
       "2.000000e+00 5.100000e+01 1.769220e+04 2.806714e+04 8.846098e+03 5.503360e+02 \n",
       "    F value1     F value2      Pr(>F)1      Pr(>F)2 \n",
       "1.607399e+01           NA 3.862072e-06           NA "
      ]
     },
     "metadata": {},
     "output_type": "display_data"
    }
   ],
   "source": [
    "result <- unlist(summary(result))\n",
    "result"
   ]
  },
  {
   "cell_type": "markdown",
   "metadata": {},
   "source": [
    "a zajistit si tak jednoduchý přístup k jednotlivým hodnotám a mezivýsledkům jako jsou příslušné sumy čtverců:"
   ]
  },
  {
   "cell_type": "code",
   "execution_count": 51,
   "metadata": {},
   "outputs": [
    {
     "data": {
      "text/html": [
       "17692.1950980392"
      ],
      "text/latex": [
       "17692.1950980392"
      ],
      "text/markdown": [
       "17692.1950980392"
      ],
      "text/plain": [
       "[1] 17692.2"
      ]
     },
     "metadata": {},
     "output_type": "display_data"
    },
    {
     "data": {
      "text/html": [
       "28067.1382352941"
      ],
      "text/latex": [
       "28067.1382352941"
      ],
      "text/markdown": [
       "28067.1382352941"
      ],
      "text/plain": [
       "[1] 28067.14"
      ]
     },
     "metadata": {},
     "output_type": "display_data"
    }
   ],
   "source": [
    "result[[\"Sum Sq1\"]]\n",
    "result[[\"Sum Sq2\"]]"
   ]
  },
  {
   "cell_type": "markdown",
   "metadata": {},
   "source": [
    "včetně jejich zprůměrovaných alternativ:"
   ]
  },
  {
   "cell_type": "code",
   "execution_count": 52,
   "metadata": {},
   "outputs": [
    {
     "data": {
      "text/html": [
       "8846.0975490196"
      ],
      "text/latex": [
       "8846.0975490196"
      ],
      "text/markdown": [
       "8846.0975490196"
      ],
      "text/plain": [
       "[1] 8846.098"
      ]
     },
     "metadata": {},
     "output_type": "display_data"
    },
    {
     "data": {
      "text/html": [
       "550.336043829296"
      ],
      "text/latex": [
       "550.336043829296"
      ],
      "text/markdown": [
       "550.336043829296"
      ],
      "text/plain": [
       "[1] 550.336"
      ]
     },
     "metadata": {},
     "output_type": "display_data"
    }
   ],
   "source": [
    "result[[\"Mean Sq1\"]]\n",
    "result[[\"Mean Sq2\"]]"
   ]
  },
  {
   "cell_type": "markdown",
   "metadata": {},
   "source": [
    "a testovací statistiky a p-hodnoty:"
   ]
  },
  {
   "cell_type": "code",
   "execution_count": 53,
   "metadata": {},
   "outputs": [
    {
     "data": {
      "text/html": [
       "16.0739926962943"
      ],
      "text/latex": [
       "16.0739926962943"
      ],
      "text/markdown": [
       "16.0739926962943"
      ],
      "text/plain": [
       "[1] 16.07399"
      ]
     },
     "metadata": {},
     "output_type": "display_data"
    },
    {
     "data": {
      "text/html": [
       "3.86207183854871e-06"
      ],
      "text/latex": [
       "3.86207183854871e-06"
      ],
      "text/markdown": [
       "3.86207183854871e-06"
      ],
      "text/plain": [
       "[1] 3.862072e-06"
      ]
     },
     "metadata": {},
     "output_type": "display_data"
    }
   ],
   "source": [
    "result[[\"F value1\"]]\n",
    "result[[\"Pr(>F)1\"]]"
   ]
  },
  {
   "cell_type": "markdown",
   "metadata": {},
   "source": [
    "Tyto hodnoty si můžeme zkontrolovat proti těm, které jsme získali z manuálního výpočtu výše:"
   ]
  },
  {
   "cell_type": "code",
   "execution_count": 54,
   "metadata": {},
   "outputs": [
    {
     "data": {
      "text/html": [
       "17692.1950980392"
      ],
      "text/latex": [
       "17692.1950980392"
      ],
      "text/markdown": [
       "17692.1950980392"
      ],
      "text/plain": [
       "[1] 17692.2"
      ]
     },
     "metadata": {},
     "output_type": "display_data"
    },
    {
     "data": {
      "text/html": [
       "28067.1382352941"
      ],
      "text/latex": [
       "28067.1382352941"
      ],
      "text/markdown": [
       "28067.1382352941"
      ],
      "text/plain": [
       "[1] 28067.14"
      ]
     },
     "metadata": {},
     "output_type": "display_data"
    },
    {
     "data": {
      "text/html": [
       "8846.09754901961"
      ],
      "text/latex": [
       "8846.09754901961"
      ],
      "text/markdown": [
       "8846.09754901961"
      ],
      "text/plain": [
       "[1] 8846.098"
      ]
     },
     "metadata": {},
     "output_type": "display_data"
    },
    {
     "data": {
      "text/html": [
       "550.336043829296"
      ],
      "text/latex": [
       "550.336043829296"
      ],
      "text/markdown": [
       "550.336043829296"
      ],
      "text/plain": [
       "[1] 550.336"
      ]
     },
     "metadata": {},
     "output_type": "display_data"
    },
    {
     "data": {
      "text/html": [
       "16.0739926962943"
      ],
      "text/latex": [
       "16.0739926962943"
      ],
      "text/markdown": [
       "16.0739926962943"
      ],
      "text/plain": [
       "[1] 16.07399"
      ]
     },
     "metadata": {},
     "output_type": "display_data"
    },
    {
     "data": {
      "text/html": [
       "3.86207183855625e-06"
      ],
      "text/latex": [
       "3.86207183855625e-06"
      ],
      "text/markdown": [
       "3.86207183855625e-06"
      ],
      "text/plain": [
       "[1] 3.862072e-06"
      ]
     },
     "metadata": {},
     "output_type": "display_data"
    }
   ],
   "source": [
    "ss_b\n",
    "ss_w\n",
    "ss_b / f_b\n",
    "ss_w / f_w\n",
    "F\n",
    "p_val"
   ]
  },
  {
   "cell_type": "markdown",
   "metadata": {},
   "source": [
    "V další části tohoto příkladu se podívame na druhou možnou závislou proměnnou, kterou je obsah sodíku. Tato proměnná nám říká, kolik soli se asi v jednotlivých párcích nachází. Pojďme teď zjistit, zda jsou některé párky slanější než ostatní. Nejprve si opět zobrazíme příslušný boxplot, abychom měli hrubou představu o rozsahu jednotlivých hodnot. Tentokrát si data rozdělíme jednoduše pomocí funkce `split`:"
   ]
  },
  {
   "cell_type": "code",
   "execution_count": 55,
   "metadata": {},
   "outputs": [
    {
     "data": {
      "image/png": "[encoded data removed]",
      "text/plain": [
       "plot without title"
      ]
     },
     "metadata": {},
     "output_type": "display_data"
    }
   ],
   "source": [
    "df_dogs_split <- split(df_dogs, df_dogs$Type)\n",
    "boxplot(\n",
    "    df_dogs_split$Beef$Sodium\n",
    "    , df_dogs_split$Poultry$Sodium\n",
    "    , df_dogs_split$Meat$Sodium\n",
    "    , names = c(\"Beef\", \"Poultry\", \"Meat\")\n",
    "    , ylab = \"Sodium\"\n",
    ")"
   ]
  },
  {
   "cell_type": "markdown",
   "metadata": {},
   "source": [
    "Zdá se, že v hovězích párcích je o něco méně soli než v ostatních, ale je to opravdu tak? Rozptyl hodnot je u hovězích párků totiž poměrně vysoký, což bude mít zřejmě vliv na statistickou významnost testu (vzpomeňte si na tvar testovací statistiky výše). Pojďme tedy provést analýzu rozptylu a zjistit, zda je mezi jednotlivými skupinami nějaký rozdíl vzhledem k obsahu soli."
   ]
  },
  {
   "cell_type": "code",
   "execution_count": 56,
   "metadata": {},
   "outputs": [
    {
     "data": {
      "text/plain": [
       "             Df Sum Sq Mean Sq F value Pr(>F)\n",
       "df_dogs$Type  2  31739   15869   1.778  0.179\n",
       "Residuals    51 455249    8926               "
      ]
     },
     "metadata": {},
     "output_type": "display_data"
    }
   ],
   "source": [
    "summary(aov(df_dogs$Sodium ~ df_dogs$Type))"
   ]
  },
  {
   "cell_type": "markdown",
   "metadata": {},
   "source": [
    "V případě obsahu sodíku nám tedy vyšla poměrně vysoká p-hodnota a my tak nemůžeme říci, že by se jednotlivé druhy párků nějak lišily vzhledem k obsahu soli. Výsledek bychom ještě mohli upravit odstraněním odlehlého bodu z kategorie \"Meat\" (viz boxplot výše), ale to ponecháme čtenáři jako cvičení.\n",
    "\n",
    "Celkovým závěrem z takovéto analýzy by tedy bylo, že různé druhy párků mají různý obsah energie, a tudíž se po nich zřejmě bude různě tloustnout. Pokud jde o obsah soli, nedá se říci, že by některé párky byly slanější než ostatní.\n",
    "\n",
    "### Post-hoc analýza\n",
    "\n",
    "Všimněte si, že v příkladu s párky jsme v případě významného výsledku na základě analýzy rozptylu nemohli přesně rozhodnout o tom, které druhy se vlastně mezi sebou liší a které ne. Tuto informaci nám poskytnou až tzv. post-hoc testy, které vzájemně porovnají jednotlivé skupiny a u každého porovnání vysloví konečný verdikt. Během post-hoc analýzy však již musíme dbát na to, že provádíme vícenásobné porovnání a tuto skutečnost zohlednit.\n",
    "\n",
    "Nejjednodušší metodou jak provést post-hoc testy v našem příkladu s párky je provedení vzájemných t-testů mezi všemi druhy párků navzájem a nalézt tak konkrétní dvojice, které se od sebe liší. Musíme však vzít v úvahu již na začátku zmíněné násobení statistické chyby. Přímočarým řešením tohoto problému je tzv. *Bonferroniho korekce*, která spočívá ve vydělení požadované hladiny významnosti počtem porovnání. Pokud bychom tedy požadovali v našem příkladu s párky celkovou statistickou významnost 5%, pak bychom u každého testu považovali za statisticky významný výsledek pouze testy s výslednou p-hodnotou nižší než 0.017:"
   ]
  },
  {
   "cell_type": "code",
   "execution_count": 57,
   "metadata": {},
   "outputs": [
    {
     "data": {
      "text/html": [
       "0.0166666666666667"
      ],
      "text/latex": [
       "0.0166666666666667"
      ],
      "text/markdown": [
       "0.0166666666666667"
      ],
      "text/plain": [
       "[1] 0.01666667"
      ]
     },
     "metadata": {},
     "output_type": "display_data"
    }
   ],
   "source": [
    "0.05 / 3"
   ]
  },
  {
   "cell_type": "markdown",
   "metadata": {},
   "source": [
    "Každou p-hodnotu bychom též mohli vynásobit třemi a výslednou hodnotu pak provnat s originální hladinou významnosti:"
   ]
  },
  {
   "cell_type": "code",
   "execution_count": 58,
   "metadata": {},
   "outputs": [
    {
     "data": {
      "text/html": [
       "<ol class=list-inline>\n",
       "\t<li>3.68603077052987e-05</li>\n",
       "\t<li>2.45017350350629</li>\n",
       "\t<li>9.05185706244107e-05</li>\n",
       "</ol>\n"
      ],
      "text/latex": [
       "\\begin{enumerate*}\n",
       "\\item 3.68603077052987e-05\n",
       "\\item 2.45017350350629\n",
       "\\item 9.05185706244107e-05\n",
       "\\end{enumerate*}\n"
      ],
      "text/markdown": [
       "1. 3.68603077052987e-05\n",
       "2. 2.45017350350629\n",
       "3. 9.05185706244107e-05\n",
       "\n",
       "\n"
      ],
      "text/plain": [
       "[1] 3.686031e-05 2.450174e+00 9.051857e-05"
      ]
     },
     "metadata": {},
     "output_type": "display_data"
    }
   ],
   "source": [
    "p_vals <- c(\n",
    "    t.test(cals_beef, cals_poultry)$p.value\n",
    "    , t.test(cals_beef, cals_meat)$p.value\n",
    "    , t.test(cals_meat, cals_poultry)$p.value\n",
    ")\n",
    "p_vals * 3"
   ]
  },
  {
   "cell_type": "markdown",
   "metadata": {},
   "source": [
    "Stejnou korekci můžeme též provést pomocí funkce `p.adjust`:"
   ]
  },
  {
   "cell_type": "code",
   "execution_count": 59,
   "metadata": {},
   "outputs": [
    {
     "data": {
      "text/html": [
       "<ol class=list-inline>\n",
       "\t<li>3.68603077052987e-05</li>\n",
       "\t<li>1</li>\n",
       "\t<li>9.05185706244107e-05</li>\n",
       "</ol>\n"
      ],
      "text/latex": [
       "\\begin{enumerate*}\n",
       "\\item 3.68603077052987e-05\n",
       "\\item 1\n",
       "\\item 9.05185706244107e-05\n",
       "\\end{enumerate*}\n"
      ],
      "text/markdown": [
       "1. 3.68603077052987e-05\n",
       "2. 1\n",
       "3. 9.05185706244107e-05\n",
       "\n",
       "\n"
      ],
      "text/plain": [
       "[1] 3.686031e-05 1.000000e+00 9.051857e-05"
      ]
     },
     "metadata": {},
     "output_type": "display_data"
    }
   ],
   "source": [
    "p.adjust(p_vals,  method = \"bonferroni\")"
   ]
  },
  {
   "cell_type": "markdown",
   "metadata": {},
   "source": [
    "Jelikož p-hodnota větší než 1 nemá smysl, je výsledek prostředního vynásobení nahrazen jedničkou. Tato funkce umí spočítat více korekčních metod, které jsou často vhodnější než poměrně konzervativní Bonferroniho korekce, viz dokumentace:"
   ]
  },
  {
   "cell_type": "code",
   "execution_count": 60,
   "metadata": {
    "collapsed": true
   },
   "outputs": [],
   "source": [
    "?p.adjust"
   ]
  },
  {
   "cell_type": "markdown",
   "metadata": {},
   "source": [
    "Kompletní provedení vícenásobného t-testu je pak možné provést funkcí `pairwise.t.test`, která za nás rovnou vytvoří patřičné dvojice pro porovnávání a zobrazí souhrn výsledků:"
   ]
  },
  {
   "cell_type": "code",
   "execution_count": 61,
   "metadata": {},
   "outputs": [
    {
     "data": {
      "text/plain": [
       "\n",
       "\tPairwise comparisons using t tests with non-pooled SD \n",
       "\n",
       "data:  df_dogs$Calories and df_dogs$Type \n",
       "\n",
       "        Beef    Meat   \n",
       "Meat    1       -      \n",
       "Poultry 3.7e-05 9.1e-05\n",
       "\n",
       "P value adjustment method: bonferroni "
      ]
     },
     "metadata": {},
     "output_type": "display_data"
    }
   ],
   "source": [
    "result <- pairwise.t.test(\n",
    "    df_dogs$Calories\n",
    "    , df_dogs$Type\n",
    "    , p.adjust.method = \"bonferroni\"\n",
    "    , pool.sd=FALSE\n",
    ")\n",
    "result"
   ]
  },
  {
   "cell_type": "markdown",
   "metadata": {},
   "source": [
    "K matici p-hodnot se lze dostat jednoduše pomocí atributu `p.value`:"
   ]
  },
  {
   "cell_type": "code",
   "execution_count": 62,
   "metadata": {},
   "outputs": [
    {
     "data": {
      "text/html": [
       "<table>\n",
       "<thead><tr><th></th><th scope=col>Beef</th><th scope=col>Meat</th></tr></thead>\n",
       "<tbody>\n",
       "\t<tr><th scope=row>Meat</th><td>1.000000e+00</td><td>          NA</td></tr>\n",
       "\t<tr><th scope=row>Poultry</th><td>3.686031e-05</td><td>9.051857e-05</td></tr>\n",
       "</tbody>\n",
       "</table>\n"
      ],
      "text/latex": [
       "\\begin{tabular}{r|ll}\n",
       "  & Beef & Meat\\\\\n",
       "\\hline\n",
       "\tMeat & 1.000000e+00 &           NA\\\\\n",
       "\tPoultry & 3.686031e-05 & 9.051857e-05\\\\\n",
       "\\end{tabular}\n"
      ],
      "text/markdown": [
       "\n",
       "| <!--/--> | Beef | Meat | \n",
       "|---|---|\n",
       "| Meat | 1.000000e+00 |           NA | \n",
       "| Poultry | 3.686031e-05 | 9.051857e-05 | \n",
       "\n",
       "\n"
      ],
      "text/plain": [
       "        Beef         Meat        \n",
       "Meat    1.000000e+00           NA\n",
       "Poultry 3.686031e-05 9.051857e-05"
      ]
     },
     "metadata": {},
     "output_type": "display_data"
    }
   ],
   "source": [
    "result$p.value"
   ]
  },
  {
   "cell_type": "markdown",
   "metadata": {},
   "source": [
    "Možností jak provést post-hoc analýzu je však [celá řada](http://www.statisticshowto.com/post-hoc/). My si na závěr z těchto metod ještě ukážeme tzv. [Tukeyho test](http://www.statisticshowto.com/tukey-test-honest-significant-difference/), se kterým se v praxi setkáváme poměrně často. V R je to spolu s provedením analýzy rozptylu záležitost na jednu řádku (nezapomeňte si však předem ověřit, že vám analýza rozptylu skutečně vyšla statisticky významně):"
   ]
  },
  {
   "cell_type": "code",
   "execution_count": 63,
   "metadata": {},
   "outputs": [
    {
     "data": {
      "text/plain": [
       "  Tukey multiple comparisons of means\n",
       "    95% family-wise confidence level\n",
       "\n",
       "Fit: aov(formula = df_dogs$Calories ~ df_dogs$Type)\n",
       "\n",
       "$`df_dogs$Type`\n",
       "                   diff       lwr       upr     p adj\n",
       "Meat-Beef      1.855882 -16.82550  20.53726 0.9688129\n",
       "Poultry-Beef -38.085294 -56.76667 -19.40391 0.0000277\n",
       "Poultry-Meat -39.941176 -59.36515 -20.51720 0.0000239\n"
      ]
     },
     "metadata": {},
     "output_type": "display_data"
    }
   ],
   "source": [
    "tukey_result <- TukeyHSD(aov(df_dogs$Calories ~ df_dogs$Type))\n",
    "tukey_result"
   ]
  },
  {
   "cell_type": "markdown",
   "metadata": {},
   "source": [
    "Výslednou tabulku s výsledky, kterou vidíme výše, lze jednoduše získat jako `data.frame` pomocí atributu pojmenovaného podle naší datové proměnné:"
   ]
  },
  {
   "cell_type": "code",
   "execution_count": 64,
   "metadata": {},
   "outputs": [
    {
     "data": {
      "text/html": [
       "<table>\n",
       "<thead><tr><th></th><th scope=col>diff</th><th scope=col>lwr</th><th scope=col>upr</th><th scope=col>p adj</th></tr></thead>\n",
       "<tbody>\n",
       "\t<tr><th scope=row>Meat-Beef</th><td>  1.855882  </td><td>-16.82550   </td><td> 20.53726   </td><td>9.688129e-01</td></tr>\n",
       "\t<tr><th scope=row>Poultry-Beef</th><td>-38.085294  </td><td>-56.76667   </td><td>-19.40391   </td><td>2.767694e-05</td></tr>\n",
       "\t<tr><th scope=row>Poultry-Meat</th><td>-39.941176  </td><td>-59.36515   </td><td>-20.51720   </td><td>2.390087e-05</td></tr>\n",
       "</tbody>\n",
       "</table>\n"
      ],
      "text/latex": [
       "\\begin{tabular}{r|llll}\n",
       "  & diff & lwr & upr & p adj\\\\\n",
       "\\hline\n",
       "\tMeat-Beef &   1.855882   & -16.82550    &  20.53726    & 9.688129e-01\\\\\n",
       "\tPoultry-Beef & -38.085294   & -56.76667    & -19.40391    & 2.767694e-05\\\\\n",
       "\tPoultry-Meat & -39.941176   & -59.36515    & -20.51720    & 2.390087e-05\\\\\n",
       "\\end{tabular}\n"
      ],
      "text/markdown": [
       "\n",
       "| <!--/--> | diff | lwr | upr | p adj | \n",
       "|---|---|---|\n",
       "| Meat-Beef |   1.855882   | -16.82550    |  20.53726    | 9.688129e-01 | \n",
       "| Poultry-Beef | -38.085294   | -56.76667    | -19.40391    | 2.767694e-05 | \n",
       "| Poultry-Meat | -39.941176   | -59.36515    | -20.51720    | 2.390087e-05 | \n",
       "\n",
       "\n"
      ],
      "text/plain": [
       "             diff       lwr       upr       p adj       \n",
       "Meat-Beef      1.855882 -16.82550  20.53726 9.688129e-01\n",
       "Poultry-Beef -38.085294 -56.76667 -19.40391 2.767694e-05\n",
       "Poultry-Meat -39.941176 -59.36515 -20.51720 2.390087e-05"
      ]
     },
     "metadata": {},
     "output_type": "display_data"
    }
   ],
   "source": [
    "tukey_result$df_dogs"
   ]
  },
  {
   "cell_type": "markdown",
   "metadata": {},
   "source": [
    "V této tabulce vidíme rozdíly mezi jednotlivými průměry (`diff`), horní a dolní hranici vypočteného intervalu spolehlivosti (`lwr` a `upr`) a příslušné upravené p-hodnoty (`p adj`). Výsledek Tukeyho testu lze též přehledně zobrazit pomocí grafu:"
   ]
  },
  {
   "cell_type": "code",
   "execution_count": 65,
   "metadata": {},
   "outputs": [
    {
     "data": {
      "image/png": "[encoded data removed]",
      "text/plain": [
       "Plot with title “95% family-wise confidence level\n",
       "”"
      ]
     },
     "metadata": {},
     "output_type": "display_data"
    }
   ],
   "source": [
    "plot(tukey_result)"
   ]
  },
  {
   "cell_type": "markdown",
   "metadata": {},
   "source": [
    "V něm vidíme příslušné intervaly spolehlivosti pro rozdíly jednotlivých průměrů ve všech porovnáních."
   ]
  },
  {
   "cell_type": "code",
   "execution_count": null,
   "metadata": {
    "collapsed": true
   },
   "outputs": [],
   "source": []
  }
 ],
 "metadata": {
  "kernelspec": {
   "display_name": "R",
   "language": "R",
   "name": "ir"
  },
  "language_info": {
   "codemirror_mode": "r",
   "file_extension": ".r",
   "mimetype": "text/x-r-source",
   "name": "R",
   "pygments_lexer": "r",
   "version": "3.3.2"
  },
  "toc": {
   "nav_menu": {},
   "number_sections": true,
   "sideBar": true,
   "skip_h1_title": true,
   "toc_cell": true,
   "toc_position": {},
   "toc_section_display": "block",
   "toc_window_display": false
  }
 },
 "nbformat": 4,
 "nbformat_minor": 2
}
