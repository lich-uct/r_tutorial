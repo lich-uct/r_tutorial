{
 "cells": [
  {
   "cell_type": "markdown",
   "metadata": {
    "toc": "true"
   },
   "source": [
    " # Table of Contents\n",
    "<div class=\"toc\" style=\"margin-top: 1em;\"><ul class=\"toc-item\" id=\"toc-level0\"><li><span><a href=\"http://localhost:8888/notebooks/08/08.ipynb#Jednovýběrový-t-test\" data-toc-modified-id=\"Jednovýběrový-t-test-1\"><span class=\"toc-item-num\">1&nbsp;&nbsp;</span>Jednovýběrový t-test</a></span></li><li><span><a href=\"http://localhost:8888/notebooks/08/08.ipynb#Dvouvýběrový-t-test\" data-toc-modified-id=\"Dvouvýběrový-t-test-2\"><span class=\"toc-item-num\">2&nbsp;&nbsp;</span>Dvouvýběrový t-test</a></span></li><li><span><a href=\"http://localhost:8888/notebooks/08/08.ipynb#Life-Goals\" data-toc-modified-id=\"Life-Goals-3\"><span class=\"toc-item-num\">3&nbsp;&nbsp;</span>Life Goals</a></span></li></ul></div>"
   ]
  },
  {
   "cell_type": "markdown",
   "metadata": {},
   "source": [
    "# Testování statistických hypotéz\n",
    "\n",
    "V této lekci si na několika příkladech ukážeme a vysvětlíme testování několika nejběžnějších statistických hypotéz. V žádném případě se nejedná o vyčerpávající seznam metod pro všechny situace, ale pouhý základ pro případy, se kterými se ve vědě setkáváme asi nejčastěji. Jako kompletnější a ucelenější seznam metod a situací, ve kterých se různé testování statistických hypotéz používá, lze doporučit [dokument](https://stats.idre.ucla.edu/other/mult-pkg/whatstat/) na stránkách Institute for Digital Research and Education, University of California.\n",
    "\n",
    "## Jednovýběrový t-test\n",
    "\n",
    "Nejjednodušším statistickým testem je pravděpodobně jednovýběrový t-test na průměr, ve kterém lze testovat následující alternativní hypotézy:\n",
    "\n",
    "$H_1:\\ \\mu\\ \\ne\\ \\mu_0$\n",
    "\n",
    "$H_1:\\ \\mu\\ >\\ \\mu_0$\n",
    "\n",
    "$H_1:\\ \\mu\\ <\\ \\mu_0$\n",
    "\n",
    "proti nulové hypotéze, která je definovaná takto:\n",
    "\n",
    "$H_0:\\ \\mu\\ =\\ \\mu_0$\n",
    "\n",
    "Při jednovýběrovém t-testu se tedy snažíte na určité hladině pravděpodobnosti dokázat, že skutečný populační průměr $\\mu$  je jiný než ten očekávaný, $\\mu_0$. Z t-testu tedy vyplývá, zda můžete tvrdit, že prvky vašeho vzorku pocházejí z jiné než předpokládané populace.\n",
    "\n",
    "Jednovýběrový t-test je vlastně založen na definici intervalu spolehlivosti pro průměr a testovací statistika má následující tvar:\n",
    "\n",
    "$t = \\frac{\\overline{x} - \\mu_0}{s/\\sqrt{n}}$\n",
    "\n",
    "Pokud si vzpomínáte na interval spolehlivosti tak, jak byl definován v předchozí lekci, víte, že hodnota $t$ odpovídá velikosti chyby, kterou při našem odhadu z konkrétního vzorku s určitou pravděpodobností uděláme vlivem náhodných jevů. U statistikého testu tedy chceme naopak vědět hodnotu $t$ v případě hypotetického populačního průměru $\\mu_0$. Hodnota $t$ vlastně určuje maximální velikost intervalu spolehlivosti, který ještě neobsahuje hodnotu $\\mu_0$ a lze tak zamítnout nulovou hypotézu, neboť ta se zamítá pouze pokud $\\mu_0$ leží mimo specifikovaný interval.\n",
    "\n",
    "Hodnota $t$, neboli testovací statistika, též určuje tzv. p-hodnotu ($p$), což je minimální hladina pravděpodobnosti (statistické významnosti), při které ještě můžeme nulovou hypotézu zamítnout. Pokud bychom tedy vytvořili více než (1-$p$)% interval spolehlivosti, už bychom nemohli $H_0$ zamítnout, neboť by obsahoval i hodnotu $\\mu_0$.\n",
    "\n",
    "V předchozí lekci jste měli za [úkol](../07/ukoly/07_zadani.ipynb) sestavit interval spolehlivosti pro objem piva, který vyteče do lahve z vašeho prehistorického plnícího stroje. Pojďme si teď ověřit, zda není náhodou možné o našem stroji tvrdit, že šidí naše zákazníky a že z něj v průměru vytéká méně než deklarovaných 500 ml.\n",
    "\n",
    "Nulovou hypotézou v našem případě bude:\n",
    "\n",
    "$H_0:\\ \\mu\\ =\\ 500$\n",
    "\n",
    "tedy, že stroj nešidí zákazníky a dělá přesně to, co má. Naší alternativní hypotézu pak sestavíme takto:\n",
    "\n",
    "$H_1:\\ \\mu\\ <\\ 500$\n",
    "\n",
    "tedy, že stroj plní lahve pod míru. \n",
    "\n",
    "V tomto konkrétním testu se tedy snažíme na určité hladině pravděpodobnosti dokázat, že náš stroj šidí zákazníky. Pro náš test zvolíme hladinu významnosti 1% a můžeme jej tedy provést například tak, že si sestavíme jednostranný 99% interval spolehlivosti pro průměr a $H_0$ zamítneme, pokud nebude obsahovat deklarovanou hodnotu 500 ml:"
   ]
  },
  {
   "cell_type": "code",
   "execution_count": 1,
   "metadata": {},
   "outputs": [
    {
     "data": {
      "text/html": [
       "<ol class=list-inline>\n",
       "\t<li>-Inf</li>\n",
       "\t<li>505.649487152757</li>\n",
       "</ol>\n"
      ],
      "text/latex": [
       "\\begin{enumerate*}\n",
       "\\item -Inf\n",
       "\\item 505.649487152757\n",
       "\\end{enumerate*}\n"
      ],
      "text/markdown": [
       "1. -Inf\n",
       "2. 505.649487152757\n",
       "\n",
       "\n"
      ],
      "text/plain": [
       "[1]     -Inf 505.6495"
      ]
     },
     "metadata": {},
     "output_type": "display_data"
    }
   ],
   "source": [
    "# načtení dat\n",
    "mereni <- read.table(\"../07/ukoly/plnici_stroj.csv\")$Volume\n",
    "\n",
    "# určení jednostranného 99% intervalu spolehlivosti\n",
    "x <- mean(mereni) # průměr vzorku\n",
    "s <- sd(mereni) # směrodatná odchylka vzorku\n",
    "N <- length(mereni) # počet měření\n",
    "sem <- s / sqrt(N) # střední chyba průměru\n",
    "df <- length(mereni) - 1 # počet stupňů volnosti příslušného t-rozdělení\n",
    "t_99 <- qt(0.99, df = df) # příslušná hodnota t\n",
    "\n",
    "# interval spolehlivosti\n",
    "c(\n",
    "    -Inf\n",
    "    , x + (t_99 * sem)\n",
    ")"
   ]
  },
  {
   "cell_type": "markdown",
   "metadata": {},
   "source": [
    "Hodnota 500 ml tedy do 99% intervalu spolehlivosti patří. Nemůžeme o našem stroji tedy na hladině významnosti 1% tvrdit, že by systematicky šidil naše zákazníky. To je dobrý výsledek, ale mějte na paměti, že to *neznamená* automatické přijmutí nulové hypotézy. Výsledek testu znamená pouze to, že nemáme dostatek důkazů na to, abychom mohli spolehlivé tvrdit, že $H_0$ není pravdivá a platí $H_1$. Hladina významnosti testu je totiž pouze pravděpodobnost chyby prvního řádu (Type I error) za předpokladu, že nulová hypotéza platí. Výsledek testu nám tedy vůbec nic neříká o platnosti nulové hypotézy. Platnost nulové hypotézy je pouze náš předpoklad a test nám v tomto ohledu neposkytuje pro toto žádný důkaz.\n",
    "\n",
    "Určení intervalu spolehlivosti je tedy jednou z možností jak provést tento test, ale v praxi běžnou metodou je postup přes výpočet testovací statistiky, kterou jsme si výše uvedli jako:\n",
    "\n",
    "$t = \\frac{\\overline{x} - \\mu_0}{s/\\sqrt{n}}$\n",
    "\n",
    "My si ji zde za použití proměnných výše můžeme spočítat například takto:"
   ]
  },
  {
   "cell_type": "code",
   "execution_count": 2,
   "metadata": {},
   "outputs": [
    {
     "data": {
      "text/html": [
       "-1.52046261020793"
      ],
      "text/latex": [
       "-1.52046261020793"
      ],
      "text/markdown": [
       "-1.52046261020793"
      ],
      "text/plain": [
       "[1] -1.520463"
      ]
     },
     "metadata": {},
     "output_type": "display_data"
    }
   ],
   "source": [
    "t <- (x - 500) / sem\n",
    "t"
   ]
  },
  {
   "cell_type": "markdown",
   "metadata": {},
   "source": [
    "Odpovídající p-hodnotu bychom pak snadno získali z distribuční funkce:"
   ]
  },
  {
   "cell_type": "code",
   "execution_count": 3,
   "metadata": {},
   "outputs": [
    {
     "data": {
      "text/html": [
       "0.0724311264162951"
      ],
      "text/latex": [
       "0.0724311264162951"
      ],
      "text/markdown": [
       "0.0724311264162951"
      ],
      "text/plain": [
       "[1] 0.07243113"
      ]
     },
     "metadata": {},
     "output_type": "display_data"
    }
   ],
   "source": [
    "p <- pt(t, df = df)\n",
    "p"
   ]
  },
  {
   "cell_type": "markdown",
   "metadata": {},
   "source": [
    "Toto je tedy minimální hodnota statistické významnosti, na které bychom mohli zamítnout $H_0$. Tato hodnota je větší než námi požadovaná statistická významnost testu (7.2% oproti 1%), a proto nelze $H_0$ v našem případě zamítnout. Stačilo by nám tedy například sestrojit pouze 92.8% interval spolehlivosti na to, aby hodnotu 500 ml neobsahoval:"
   ]
  },
  {
   "cell_type": "code",
   "execution_count": 4,
   "metadata": {},
   "outputs": [
    {
     "data": {
      "text/html": [
       "92.7568873583705"
      ],
      "text/latex": [
       "92.7568873583705"
      ],
      "text/markdown": [
       "92.7568873583705"
      ],
      "text/plain": [
       "[1] 92.75689"
      ]
     },
     "metadata": {},
     "output_type": "display_data"
    }
   ],
   "source": [
    "(1 - p) * 100"
   ]
  },
  {
   "cell_type": "markdown",
   "metadata": {},
   "source": [
    "V R máme samozřejmě funkce, které nám testování statistických hypotéz usnadňují, a my tak často nebudeme muset ani znát přesný tvar testovací statistiky. V předchozí lekci jsme si již trochu předtavili funkci `t.test`, která umožňuje nejen testování ale i výpočet intervalu spolehlivosti. V našem případě bychom výsledek našeho testu získali jednoduše takto:"
   ]
  },
  {
   "cell_type": "code",
   "execution_count": 5,
   "metadata": {},
   "outputs": [
    {
     "data": {
      "text/plain": [
       "\n",
       "\tOne Sample t-test\n",
       "\n",
       "data:  mereni\n",
       "t = -1.5205, df = 19, p-value = 0.07243\n",
       "alternative hypothesis: true mean is less than 500\n",
       "99 percent confidence interval:\n",
       "     -Inf 505.6495\n",
       "sample estimates:\n",
       "mean of x \n",
       " 491.5705 \n"
      ]
     },
     "metadata": {},
     "output_type": "display_data"
    }
   ],
   "source": [
    "t.test(mereni, mu = 500, alternative = \"less\", conf.level = 0.99)"
   ]
  },
  {
   "cell_type": "markdown",
   "metadata": {},
   "source": [
    "Funkci tedy stačí jako první argument poslat naše data a dále jen dalšími argumenty specifikovat $\\mu_0$, tvar alternativní hypotézy a hladinu významnosti. \n",
    "\n",
    "Výstupem funkce ve skutečnosti není řetězec, jak by se mohlo zdát, ale objekt:"
   ]
  },
  {
   "cell_type": "code",
   "execution_count": 6,
   "metadata": {},
   "outputs": [
    {
     "data": {
      "text/html": [
       "'htest'"
      ],
      "text/latex": [
       "'htest'"
      ],
      "text/markdown": [
       "'htest'"
      ],
      "text/plain": [
       "[1] \"htest\""
      ]
     },
     "metadata": {},
     "output_type": "display_data"
    }
   ],
   "source": [
    "result <- t.test(mereni, mu = 500, alternative = \"less\", conf.level = 0.99)\n",
    "class(result)"
   ]
  },
  {
   "cell_type": "markdown",
   "metadata": {},
   "source": [
    "vidíme tedy, že se jedná o jakýsi objekt typu `htest`. Pokud jej pošleme funkci `print` jako parameter dostaneme právě výstup nahoře:"
   ]
  },
  {
   "cell_type": "code",
   "execution_count": 7,
   "metadata": {},
   "outputs": [
    {
     "name": "stdout",
     "output_type": "stream",
     "text": [
      "\n",
      "\tOne Sample t-test\n",
      "\n",
      "data:  mereni\n",
      "t = -1.5205, df = 19, p-value = 0.07243\n",
      "alternative hypothesis: true mean is less than 500\n",
      "99 percent confidence interval:\n",
      "     -Inf 505.6495\n",
      "sample estimates:\n",
      "mean of x \n",
      " 491.5705 \n",
      "\n"
     ]
    }
   ],
   "source": [
    "print(result)"
   ]
  },
  {
   "cell_type": "markdown",
   "metadata": {},
   "source": [
    "Funkce `print` se totiž dokáže objektu třídy `htest` zeptat na jeho textovou reprezentaci a tu potom vrátí, což je výstup, který vidíme nahoře. Objekt `htest` si můžeme představit jako takový lepší seznam, který obsahuje všechny detaily o výpočtu. Stejně jako u seznamů lze jména jednotlivých položek zjistit pomocí funkce `names`:"
   ]
  },
  {
   "cell_type": "code",
   "execution_count": 8,
   "metadata": {},
   "outputs": [
    {
     "data": {
      "text/html": [
       "<ol class=list-inline>\n",
       "\t<li>'statistic'</li>\n",
       "\t<li>'parameter'</li>\n",
       "\t<li>'p.value'</li>\n",
       "\t<li>'conf.int'</li>\n",
       "\t<li>'estimate'</li>\n",
       "\t<li>'null.value'</li>\n",
       "\t<li>'alternative'</li>\n",
       "\t<li>'method'</li>\n",
       "\t<li>'data.name'</li>\n",
       "</ol>\n"
      ],
      "text/latex": [
       "\\begin{enumerate*}\n",
       "\\item 'statistic'\n",
       "\\item 'parameter'\n",
       "\\item 'p.value'\n",
       "\\item 'conf.int'\n",
       "\\item 'estimate'\n",
       "\\item 'null.value'\n",
       "\\item 'alternative'\n",
       "\\item 'method'\n",
       "\\item 'data.name'\n",
       "\\end{enumerate*}\n"
      ],
      "text/markdown": [
       "1. 'statistic'\n",
       "2. 'parameter'\n",
       "3. 'p.value'\n",
       "4. 'conf.int'\n",
       "5. 'estimate'\n",
       "6. 'null.value'\n",
       "7. 'alternative'\n",
       "8. 'method'\n",
       "9. 'data.name'\n",
       "\n",
       "\n"
      ],
      "text/plain": [
       "[1] \"statistic\"   \"parameter\"   \"p.value\"     \"conf.int\"    \"estimate\"   \n",
       "[6] \"null.value\"  \"alternative\" \"method\"      \"data.name\"  "
      ]
     },
     "metadata": {},
     "output_type": "display_data"
    }
   ],
   "source": [
    "names(result)"
   ]
  },
  {
   "cell_type": "markdown",
   "metadata": {},
   "source": [
    "Objektu se tedy můžeme přímo zeptat na vypočtenou testovací statistiku:"
   ]
  },
  {
   "cell_type": "code",
   "execution_count": 9,
   "metadata": {},
   "outputs": [
    {
     "data": {
      "text/html": [
       "<strong>t:</strong> -1.52046261020793"
      ],
      "text/latex": [
       "\\textbf{t:} -1.52046261020793"
      ],
      "text/markdown": [
       "**t:** -1.52046261020793"
      ],
      "text/plain": [
       "        t \n",
       "-1.520463 "
      ]
     },
     "metadata": {},
     "output_type": "display_data"
    }
   ],
   "source": [
    "result$statistic"
   ]
  },
  {
   "cell_type": "markdown",
   "metadata": {},
   "source": [
    "počet stupňů volnosti:"
   ]
  },
  {
   "cell_type": "code",
   "execution_count": 10,
   "metadata": {},
   "outputs": [
    {
     "data": {
      "text/html": [
       "<strong>df:</strong> 19"
      ],
      "text/latex": [
       "\\textbf{df:} 19"
      ],
      "text/markdown": [
       "**df:** 19"
      ],
      "text/plain": [
       "df \n",
       "19 "
      ]
     },
     "metadata": {},
     "output_type": "display_data"
    }
   ],
   "source": [
    "result$parameter"
   ]
  },
  {
   "cell_type": "markdown",
   "metadata": {},
   "source": [
    "p-hodnotu:"
   ]
  },
  {
   "cell_type": "code",
   "execution_count": 11,
   "metadata": {},
   "outputs": [
    {
     "data": {
      "text/html": [
       "0.0724311264162952"
      ],
      "text/latex": [
       "0.0724311264162952"
      ],
      "text/markdown": [
       "0.0724311264162952"
      ],
      "text/plain": [
       "[1] 0.07243113"
      ]
     },
     "metadata": {},
     "output_type": "display_data"
    }
   ],
   "source": [
    "result$p.value"
   ]
  },
  {
   "cell_type": "markdown",
   "metadata": {},
   "source": [
    "interval spolehlivosti:"
   ]
  },
  {
   "cell_type": "code",
   "execution_count": 12,
   "metadata": {},
   "outputs": [
    {
     "data": {
      "text/html": [
       "<ol class=list-inline>\n",
       "\t<li>-Inf</li>\n",
       "\t<li>505.649487152757</li>\n",
       "</ol>\n"
      ],
      "text/latex": [
       "\\begin{enumerate*}\n",
       "\\item -Inf\n",
       "\\item 505.649487152757\n",
       "\\end{enumerate*}\n"
      ],
      "text/markdown": [
       "1. -Inf\n",
       "2. 505.649487152757\n",
       "\n",
       "\n"
      ],
      "text/plain": [
       "[1]     -Inf 505.6495\n",
       "attr(,\"conf.level\")\n",
       "[1] 0.99"
      ]
     },
     "metadata": {},
     "output_type": "display_data"
    }
   ],
   "source": [
    "result$conf.int"
   ]
  },
  {
   "cell_type": "markdown",
   "metadata": {},
   "source": [
    "odhad populačního průměru ze vzorku, což je pouze průměr z měření:"
   ]
  },
  {
   "cell_type": "code",
   "execution_count": 13,
   "metadata": {},
   "outputs": [
    {
     "data": {
      "text/html": [
       "<strong>mean of x:</strong> 491.5705"
      ],
      "text/latex": [
       "\\textbf{mean of x:} 491.5705"
      ],
      "text/markdown": [
       "**mean of x:** 491.5705"
      ],
      "text/plain": [
       "mean of x \n",
       " 491.5705 "
      ]
     },
     "metadata": {},
     "output_type": "display_data"
    },
    {
     "data": {
      "text/html": [
       "491.5705"
      ],
      "text/latex": [
       "491.5705"
      ],
      "text/markdown": [
       "491.5705"
      ],
      "text/plain": [
       "[1] 491.5705"
      ]
     },
     "metadata": {},
     "output_type": "display_data"
    }
   ],
   "source": [
    "result$estimate\n",
    "x"
   ]
  },
  {
   "cell_type": "markdown",
   "metadata": {},
   "source": [
    "hodnotu nulové hypotézy:"
   ]
  },
  {
   "cell_type": "code",
   "execution_count": 14,
   "metadata": {},
   "outputs": [
    {
     "data": {
      "text/html": [
       "<strong>mean:</strong> 500"
      ],
      "text/latex": [
       "\\textbf{mean:} 500"
      ],
      "text/markdown": [
       "**mean:** 500"
      ],
      "text/plain": [
       "mean \n",
       " 500 "
      ]
     },
     "metadata": {},
     "output_type": "display_data"
    }
   ],
   "source": [
    "result$null.value"
   ]
  },
  {
   "cell_type": "markdown",
   "metadata": {},
   "source": [
    "variantu alternativní hypotézy:"
   ]
  },
  {
   "cell_type": "code",
   "execution_count": 15,
   "metadata": {},
   "outputs": [
    {
     "data": {
      "text/html": [
       "'less'"
      ],
      "text/latex": [
       "'less'"
      ],
      "text/markdown": [
       "'less'"
      ],
      "text/plain": [
       "[1] \"less\""
      ]
     },
     "metadata": {},
     "output_type": "display_data"
    }
   ],
   "source": [
    "result$alternative"
   ]
  },
  {
   "cell_type": "markdown",
   "metadata": {},
   "source": [
    "variantu t-testu:"
   ]
  },
  {
   "cell_type": "code",
   "execution_count": 16,
   "metadata": {},
   "outputs": [
    {
     "data": {
      "text/html": [
       "'One Sample t-test'"
      ],
      "text/latex": [
       "'One Sample t-test'"
      ],
      "text/markdown": [
       "'One Sample t-test'"
      ],
      "text/plain": [
       "[1] \"One Sample t-test\""
      ]
     },
     "metadata": {},
     "output_type": "display_data"
    }
   ],
   "source": [
    "result$method"
   ]
  },
  {
   "cell_type": "markdown",
   "metadata": {},
   "source": [
    "a název proměnné, která obsahovala data pro test:"
   ]
  },
  {
   "cell_type": "code",
   "execution_count": 17,
   "metadata": {},
   "outputs": [
    {
     "data": {
      "text/html": [
       "'mereni'"
      ],
      "text/latex": [
       "'mereni'"
      ],
      "text/markdown": [
       "'mereni'"
      ],
      "text/plain": [
       "[1] \"mereni\""
      ]
     },
     "metadata": {},
     "output_type": "display_data"
    }
   ],
   "source": [
    "result$data.name"
   ]
  },
  {
   "cell_type": "markdown",
   "metadata": {},
   "source": [
    "Většina funkcí pro statistické testování v R vrací výsledek jako podobný objekt, takže pokud potřebujete zpracovávat výsledky testování automaticky, máte to většinou v R velice snadné. V dalších kapitolách tedy už k testování budeme používat výhradně funkce k tomu určené, neboť jejich použití je zpravidle méně náchylné na chyby. \n",
    "\n",
    "Uveďme si teď ještě na závěr, jak by probíhal tento test v případě jiné alternativní hypotézy. Řekněme, že bychom se snažili dokázat, že náš stroj nedělá svou práci spolehlivě, tzn. testovat obsoustrannou alternativní hypotézu:\n",
    "\n",
    "$H_1:\\ \\mu\\ \\ne\\ \\mu_0$\n",
    "\n",
    "Snažíme se tedy dokázat, že stroj neplní lahve na požadovanou hodnotu, tedy že je buď přeplňuje nebo naopak plní pod míru. V podání funkce `t.test` bude test vypadat následovně:"
   ]
  },
  {
   "cell_type": "code",
   "execution_count": 18,
   "metadata": {},
   "outputs": [
    {
     "data": {
      "text/plain": [
       "\n",
       "\tOne Sample t-test\n",
       "\n",
       "data:  mereni\n",
       "t = -1.5205, df = 19, p-value = 0.1449\n",
       "alternative hypothesis: true mean is not equal to 500\n",
       "99 percent confidence interval:\n",
       " 475.7094 507.4316\n",
       "sample estimates:\n",
       "mean of x \n",
       " 491.5705 \n"
      ]
     },
     "metadata": {},
     "output_type": "display_data"
    }
   ],
   "source": [
    "t.test(mereni, mu = 500, alternative = \"two.sided\", conf.level = 0.99)"
   ]
  },
  {
   "cell_type": "markdown",
   "metadata": {},
   "source": [
    "Funkci `t.test` bychom mohli zavolat i bez parametru pro alternativní hypotézu. Režim \"two.sided\" je totiž výchozí nastavení:"
   ]
  },
  {
   "cell_type": "code",
   "execution_count": 19,
   "metadata": {},
   "outputs": [
    {
     "data": {
      "text/plain": [
       "\n",
       "\tOne Sample t-test\n",
       "\n",
       "data:  mereni\n",
       "t = -1.5205, df = 19, p-value = 0.1449\n",
       "alternative hypothesis: true mean is not equal to 500\n",
       "99 percent confidence interval:\n",
       " 475.7094 507.4316\n",
       "sample estimates:\n",
       "mean of x \n",
       " 491.5705 \n"
      ]
     },
     "metadata": {},
     "output_type": "display_data"
    }
   ],
   "source": [
    "t.test(mereni, mu = 500, conf.level = 0.99)"
   ]
  },
  {
   "cell_type": "markdown",
   "metadata": {},
   "source": [
    "Stejně jako 5% je výchozí hladina významnosti:"
   ]
  },
  {
   "cell_type": "code",
   "execution_count": 20,
   "metadata": {},
   "outputs": [
    {
     "data": {
      "text/plain": [
       "\n",
       "\tOne Sample t-test\n",
       "\n",
       "data:  mereni\n",
       "t = -1.5205, df = 19, p-value = 0.1449\n",
       "alternative hypothesis: true mean is not equal to 500\n",
       "95 percent confidence interval:\n",
       " 479.9667 503.1743\n",
       "sample estimates:\n",
       "mean of x \n",
       " 491.5705 \n"
      ]
     },
     "metadata": {},
     "output_type": "display_data"
    }
   ],
   "source": [
    "result <- t.test(mereni, mu = 500)\n",
    "result"
   ]
  },
  {
   "cell_type": "markdown",
   "metadata": {},
   "source": [
    "Všimněte si, že se sníženou hladinou významnosti se nám rozšířil interval spolehlivosti. Pokud bychom použili hodnotu o něco menší, než je naše p-hodnota, měli bychom dostat interval, který už hodnotu 500 ml neobsahuje:"
   ]
  },
  {
   "cell_type": "code",
   "execution_count": 21,
   "metadata": {},
   "outputs": [
    {
     "data": {
      "text/plain": [
       "\n",
       "\tOne Sample t-test\n",
       "\n",
       "data:  mereni\n",
       "t = -1.5205, df = 19, p-value = 0.1449\n",
       "alternative hypothesis: true mean is not equal to 500\n",
       "85.50377 percent confidence interval:\n",
       " 483.1432 499.9978\n",
       "sample estimates:\n",
       "mean of x \n",
       " 491.5705 \n"
      ]
     },
     "metadata": {},
     "output_type": "display_data"
    }
   ],
   "source": [
    "t.test(\n",
    "    mereni\n",
    "    , mu = 500\n",
    "    , conf.level=1-result$p.value-0.0001\n",
    ")"
   ]
  },
  {
   "cell_type": "markdown",
   "metadata": {},
   "source": [
    "Je tomu tedy skutečně tak a interval spolehlivosti jen těsně minul hodnotu 500 ml.\n",
    "\n",
    "## Dvouvýběrový t-test\n",
    "\n",
    "TODO\n",
    "\n",
    "http://darp.lse.ac.uk/PapersDB/Stigler_(AnnStat_77).pdf -> strana 23 (opravdove hodnoty)"
   ]
  },
  {
   "cell_type": "code",
   "execution_count": 22,
   "metadata": {},
   "outputs": [
    {
     "data": {
      "text/html": [
       "<table>\n",
       "<thead><tr><th scope=col>Y1879</th><th scope=col>Y1882</th></tr></thead>\n",
       "<tbody>\n",
       "\t<tr><td> 850</td><td>883 </td></tr>\n",
       "\t<tr><td> 740</td><td>816 </td></tr>\n",
       "\t<tr><td> 900</td><td>778 </td></tr>\n",
       "\t<tr><td>1070</td><td>796 </td></tr>\n",
       "\t<tr><td> 930</td><td>682 </td></tr>\n",
       "\t<tr><td> 850</td><td>711 </td></tr>\n",
       "</tbody>\n",
       "</table>\n"
      ],
      "text/latex": [
       "\\begin{tabular}{r|ll}\n",
       " Y1879 & Y1882\\\\\n",
       "\\hline\n",
       "\t  850 & 883 \\\\\n",
       "\t  740 & 816 \\\\\n",
       "\t  900 & 778 \\\\\n",
       "\t 1070 & 796 \\\\\n",
       "\t  930 & 682 \\\\\n",
       "\t  850 & 711 \\\\\n",
       "\\end{tabular}\n"
      ],
      "text/markdown": [
       "\n",
       "Y1879 | Y1882 | \n",
       "|---|---|---|---|---|---|\n",
       "|  850 | 883  | \n",
       "|  740 | 816  | \n",
       "|  900 | 778  | \n",
       "| 1070 | 796  | \n",
       "|  930 | 682  | \n",
       "|  850 | 711  | \n",
       "\n",
       "\n"
      ],
      "text/plain": [
       "  Y1879 Y1882\n",
       "1  850  883  \n",
       "2  740  816  \n",
       "3  900  778  \n",
       "4 1070  796  \n",
       "5  930  682  \n",
       "6  850  711  "
      ]
     },
     "metadata": {},
     "output_type": "display_data"
    },
    {
     "data": {
      "text/html": [
       "100"
      ],
      "text/latex": [
       "100"
      ],
      "text/markdown": [
       "100"
      ],
      "text/plain": [
       "[1] 100"
      ]
     },
     "metadata": {},
     "output_type": "display_data"
    }
   ],
   "source": [
    "df_lightspeed <- read.table(\n",
    "    \"light_speed.csv\"\n",
    "    , header = T\n",
    "    , colClasses = rep(\"numeric\", 2)\n",
    ")\n",
    "head(df_lightspeed)\n",
    "nrow(df_lightspeed)"
   ]
  },
  {
   "cell_type": "code",
   "execution_count": 23,
   "metadata": {},
   "outputs": [
    {
     "data": {
      "text/html": [
       "852.4"
      ],
      "text/latex": [
       "852.4"
      ],
      "text/markdown": [
       "852.4"
      ],
      "text/plain": [
       "[1] 852.4"
      ]
     },
     "metadata": {},
     "output_type": "display_data"
    },
    {
     "data": {
      "text/html": [
       "756.217391304348"
      ],
      "text/latex": [
       "756.217391304348"
      ],
      "text/markdown": [
       "756.217391304348"
      ],
      "text/plain": [
       "[1] 756.2174"
      ]
     },
     "metadata": {},
     "output_type": "display_data"
    },
    {
     "data": {
      "text/html": [
       "100"
      ],
      "text/latex": [
       "100"
      ],
      "text/markdown": [
       "100"
      ],
      "text/plain": [
       "[1] 100"
      ]
     },
     "metadata": {},
     "output_type": "display_data"
    },
    {
     "data": {
      "text/html": [
       "23"
      ],
      "text/latex": [
       "23"
      ],
      "text/markdown": [
       "23"
      ],
      "text/plain": [
       "[1] 23"
      ]
     },
     "metadata": {},
     "output_type": "display_data"
    }
   ],
   "source": [
    "lightspeed_1879 <- df_lightspeed$Y1879\n",
    "lightspeed_1882 <- df_lightspeed$Y1882[!is.na(df_lightspeed$Y1882)]\n",
    "mean(lightspeed_1879)\n",
    "mean(lightspeed_1882)\n",
    "length(lightspeed_1879)\n",
    "length(lightspeed_1882)"
   ]
  },
  {
   "cell_type": "code",
   "execution_count": 24,
   "metadata": {},
   "outputs": [
    {
     "data": {
      "image/png": "[encoded data removed]",
      "text/plain": [
       "Plot with title “Histogram of lightspeed_1879”"
      ]
     },
     "metadata": {},
     "output_type": "display_data"
    }
   ],
   "source": [
    "hist(lightspeed_1879, breaks = 20)"
   ]
  },
  {
   "cell_type": "code",
   "execution_count": 25,
   "metadata": {},
   "outputs": [
    {
     "data": {
      "image/png": "[encoded data removed]",
      "text/plain": [
       "Plot with title “Histogram of lightspeed_1882”"
      ]
     },
     "metadata": {},
     "output_type": "display_data"
    }
   ],
   "source": [
    "hist(lightspeed_1882, breaks = 20)"
   ]
  },
  {
   "cell_type": "code",
   "execution_count": 26,
   "metadata": {},
   "outputs": [
    {
     "data": {
      "image/png": "[encoded data removed]",
      "text/plain": [
       "Plot with title “Speed of light (1879 vs. 1882)”"
      ]
     },
     "metadata": {},
     "output_type": "display_data"
    }
   ],
   "source": [
    "plot(\n",
    "    density(lightspeed_1879)\n",
    "    , xlab = \"lightspeed\"\n",
    "    , col = \"red\"\n",
    "    , main = \"Speed of light (1879 vs. 1882)\"\n",
    ")\n",
    "lines(density(lightspeed_1882), col = \"blue\")\n",
    "legend(600, 0.005, c(\"1879\", \"1882\"), fill = c(\"red\", \"blue\"))"
   ]
  },
  {
   "cell_type": "code",
   "execution_count": 27,
   "metadata": {},
   "outputs": [
    {
     "data": {
      "text/plain": [
       "\n",
       "\tWelch Two Sample t-test\n",
       "\n",
       "data:  lightspeed_1879 and lightspeed_1882\n",
       "t = 4.0598, df = 27.754, p-value = 0.0003625\n",
       "alternative hypothesis: true difference in means is not equal to 0\n",
       "95 percent confidence interval:\n",
       "  47.63387 144.73135\n",
       "sample estimates:\n",
       "mean of x mean of y \n",
       " 852.4000  756.2174 \n"
      ]
     },
     "metadata": {},
     "output_type": "display_data"
    }
   ],
   "source": [
    "# does Welch Two Sample t-test by default -> standard dev not equal\n",
    "t.test(lightspeed_1879, lightspeed_1882)"
   ]
  },
  {
   "cell_type": "markdown",
   "metadata": {},
   "source": [
    "## Life Goals"
   ]
  },
  {
   "cell_type": "code",
   "execution_count": 28,
   "metadata": {},
   "outputs": [
    {
     "data": {
      "text/html": [
       "<table>\n",
       "<thead><tr><th scope=col>Gender</th><th scope=col>Grade</th><th scope=col>Age</th><th scope=col>Race</th><th scope=col>Urban.Rural</th><th scope=col>School</th><th scope=col>Goals</th><th scope=col>Grades</th><th scope=col>Sports</th><th scope=col>Looks</th><th scope=col>Money</th></tr></thead>\n",
       "<tbody>\n",
       "\t<tr><td>boy    </td><td>5      </td><td>11     </td><td>White  </td><td>Rural  </td><td>Elm    </td><td>Sports </td><td>1      </td><td>2      </td><td>4      </td><td>3      </td></tr>\n",
       "\t<tr><td>boy    </td><td>5      </td><td>10     </td><td>White  </td><td>Rural  </td><td>Elm    </td><td>Popular</td><td>2      </td><td>1      </td><td>4      </td><td>3      </td></tr>\n",
       "\t<tr><td>girl   </td><td>5      </td><td>11     </td><td>White  </td><td>Rural  </td><td>Elm    </td><td>Popular</td><td>4      </td><td>3      </td><td>1      </td><td>2      </td></tr>\n",
       "\t<tr><td>girl   </td><td>5      </td><td>11     </td><td>White  </td><td>Rural  </td><td>Elm    </td><td>Popular</td><td>2      </td><td>3      </td><td>4      </td><td>1      </td></tr>\n",
       "\t<tr><td>girl   </td><td>5      </td><td>10     </td><td>White  </td><td>Rural  </td><td>Elm    </td><td>Popular</td><td>4      </td><td>2      </td><td>1      </td><td>3      </td></tr>\n",
       "\t<tr><td>girl   </td><td>5      </td><td>11     </td><td>White  </td><td>Rural  </td><td>Elm    </td><td>Popular</td><td>4      </td><td>2      </td><td>1      </td><td>3      </td></tr>\n",
       "</tbody>\n",
       "</table>\n"
      ],
      "text/latex": [
       "\\begin{tabular}{r|lllllllllll}\n",
       " Gender & Grade & Age & Race & Urban.Rural & School & Goals & Grades & Sports & Looks & Money\\\\\n",
       "\\hline\n",
       "\t boy     & 5       & 11      & White   & Rural   & Elm     & Sports  & 1       & 2       & 4       & 3      \\\\\n",
       "\t boy     & 5       & 10      & White   & Rural   & Elm     & Popular & 2       & 1       & 4       & 3      \\\\\n",
       "\t girl    & 5       & 11      & White   & Rural   & Elm     & Popular & 4       & 3       & 1       & 2      \\\\\n",
       "\t girl    & 5       & 11      & White   & Rural   & Elm     & Popular & 2       & 3       & 4       & 1      \\\\\n",
       "\t girl    & 5       & 10      & White   & Rural   & Elm     & Popular & 4       & 2       & 1       & 3      \\\\\n",
       "\t girl    & 5       & 11      & White   & Rural   & Elm     & Popular & 4       & 2       & 1       & 3      \\\\\n",
       "\\end{tabular}\n"
      ],
      "text/markdown": [
       "\n",
       "Gender | Grade | Age | Race | Urban.Rural | School | Goals | Grades | Sports | Looks | Money | \n",
       "|---|---|---|---|---|---|\n",
       "| boy     | 5       | 11      | White   | Rural   | Elm     | Sports  | 1       | 2       | 4       | 3       | \n",
       "| boy     | 5       | 10      | White   | Rural   | Elm     | Popular | 2       | 1       | 4       | 3       | \n",
       "| girl    | 5       | 11      | White   | Rural   | Elm     | Popular | 4       | 3       | 1       | 2       | \n",
       "| girl    | 5       | 11      | White   | Rural   | Elm     | Popular | 2       | 3       | 4       | 1       | \n",
       "| girl    | 5       | 10      | White   | Rural   | Elm     | Popular | 4       | 2       | 1       | 3       | \n",
       "| girl    | 5       | 11      | White   | Rural   | Elm     | Popular | 4       | 2       | 1       | 3       | \n",
       "\n",
       "\n"
      ],
      "text/plain": [
       "  Gender Grade Age Race  Urban.Rural School Goals   Grades Sports Looks Money\n",
       "1 boy    5     11  White Rural       Elm    Sports  1      2      4     3    \n",
       "2 boy    5     10  White Rural       Elm    Popular 2      1      4     3    \n",
       "3 girl   5     11  White Rural       Elm    Popular 4      3      1     2    \n",
       "4 girl   5     11  White Rural       Elm    Popular 2      3      4     1    \n",
       "5 girl   5     10  White Rural       Elm    Popular 4      2      1     3    \n",
       "6 girl   5     11  White Rural       Elm    Popular 4      2      1     3    "
      ]
     },
     "metadata": {},
     "output_type": "display_data"
    }
   ],
   "source": [
    "life_goals <- read.table(\n",
    "    \"life_goals.csv\"\n",
    "    , sep = \"\\t\"\n",
    "    , header = T\n",
    "    , colClasses = c(\n",
    "        rep(\"factor\", 7)\n",
    "        , rep(\"numeric\", 4)\n",
    "    )\n",
    ")\n",
    "head(life_goals)"
   ]
  },
  {
   "cell_type": "code",
   "execution_count": 29,
   "metadata": {
    "scrolled": true
   },
   "outputs": [
    {
     "data": {
      "text/html": [
       "<ol class=list-inline>\n",
       "\t<li>7</li>\n",
       "\t<li>9</li>\n",
       "\t<li>10</li>\n",
       "\t<li>11</li>\n",
       "\t<li>12</li>\n",
       "\t<li>13</li>\n",
       "</ol>\n"
      ],
      "text/latex": [
       "\\begin{enumerate*}\n",
       "\\item 7\n",
       "\\item 9\n",
       "\\item 10\n",
       "\\item 11\n",
       "\\item 12\n",
       "\\item 13\n",
       "\\end{enumerate*}\n"
      ],
      "text/markdown": [
       "1. 7\n",
       "2. 9\n",
       "3. 10\n",
       "4. 11\n",
       "5. 12\n",
       "6. 13\n",
       "\n",
       "\n"
      ],
      "text/plain": [
       "[1]  7  9 10 11 12 13"
      ]
     },
     "metadata": {},
     "output_type": "display_data"
    }
   ],
   "source": [
    "sort(as.numeric(levels(life_goals$Age)))"
   ]
  },
  {
   "cell_type": "code",
   "execution_count": 30,
   "metadata": {},
   "outputs": [],
   "source": [
    "life_goals_split <- split(life_goals, life_goals$Gender)\n",
    "boys <- life_goals_split$boy\n",
    "girls <- life_goals_split$girl"
   ]
  },
  {
   "cell_type": "code",
   "execution_count": 31,
   "metadata": {},
   "outputs": [
    {
     "data": {
      "text/html": [
       "<table>\n",
       "<thead><tr><th></th><th scope=col>Gender</th><th scope=col>Grade</th><th scope=col>Age</th><th scope=col>Race</th><th scope=col>Urban.Rural</th><th scope=col>School</th><th scope=col>Goals</th><th scope=col>Grades</th><th scope=col>Sports</th><th scope=col>Looks</th><th scope=col>Money</th></tr></thead>\n",
       "<tbody>\n",
       "\t<tr><th scope=row>1</th><td>boy                 </td><td>5                   </td><td>11                  </td><td>White               </td><td>Rural               </td><td>Elm                 </td><td>Sports              </td><td>1                   </td><td>2                   </td><td>4                   </td><td>3                   </td></tr>\n",
       "\t<tr><th scope=row>2</th><td>boy                 </td><td>5                   </td><td>10                  </td><td>White               </td><td>Rural               </td><td>Elm                 </td><td>Popular             </td><td>2                   </td><td>1                   </td><td>4                   </td><td>3                   </td></tr>\n",
       "\t<tr><th scope=row>13</th><td>boy                 </td><td>4                   </td><td>9                   </td><td>White               </td><td>Rural               </td><td>Elm                 </td><td>Popular             </td><td>2                   </td><td>3                   </td><td>4                   </td><td>1                   </td></tr>\n",
       "\t<tr><th scope=row>14</th><td>boy                 </td><td>4                   </td><td>9                   </td><td>White               </td><td>Rural               </td><td>Elm                 </td><td>Popular             </td><td>4                   </td><td>2                   </td><td>3                   </td><td>1                   </td></tr>\n",
       "\t<tr><th scope=row>15</th><td>boy                 </td><td>4                   </td><td>9                   </td><td>Other               </td><td>Rural               </td><td>Elm                 </td><td>Popular             </td><td>4                   </td><td>3                   </td><td>2                   </td><td>1                   </td></tr>\n",
       "\t<tr><th scope=row>30</th><td>boy                 </td><td>4                   </td><td>10                  </td><td>White               </td><td>Suburban            </td><td>Brentwood Elementary</td><td>Grades              </td><td>1                   </td><td>2                   </td><td>4                   </td><td>3                   </td></tr>\n",
       "</tbody>\n",
       "</table>\n"
      ],
      "text/latex": [
       "\\begin{tabular}{r|lllllllllll}\n",
       "  & Gender & Grade & Age & Race & Urban.Rural & School & Goals & Grades & Sports & Looks & Money\\\\\n",
       "\\hline\n",
       "\t1 & boy                  & 5                    & 11                   & White                & Rural                & Elm                  & Sports               & 1                    & 2                    & 4                    & 3                   \\\\\n",
       "\t2 & boy                  & 5                    & 10                   & White                & Rural                & Elm                  & Popular              & 2                    & 1                    & 4                    & 3                   \\\\\n",
       "\t13 & boy                  & 4                    & 9                    & White                & Rural                & Elm                  & Popular              & 2                    & 3                    & 4                    & 1                   \\\\\n",
       "\t14 & boy                  & 4                    & 9                    & White                & Rural                & Elm                  & Popular              & 4                    & 2                    & 3                    & 1                   \\\\\n",
       "\t15 & boy                  & 4                    & 9                    & Other                & Rural                & Elm                  & Popular              & 4                    & 3                    & 2                    & 1                   \\\\\n",
       "\t30 & boy                  & 4                    & 10                   & White                & Suburban             & Brentwood Elementary & Grades               & 1                    & 2                    & 4                    & 3                   \\\\\n",
       "\\end{tabular}\n"
      ],
      "text/markdown": [
       "\n",
       "| <!--/--> | Gender | Grade | Age | Race | Urban.Rural | School | Goals | Grades | Sports | Looks | Money | \n",
       "|---|---|---|---|---|---|\n",
       "| 1 | boy                  | 5                    | 11                   | White                | Rural                | Elm                  | Sports               | 1                    | 2                    | 4                    | 3                    | \n",
       "| 2 | boy                  | 5                    | 10                   | White                | Rural                | Elm                  | Popular              | 2                    | 1                    | 4                    | 3                    | \n",
       "| 13 | boy                  | 4                    | 9                    | White                | Rural                | Elm                  | Popular              | 2                    | 3                    | 4                    | 1                    | \n",
       "| 14 | boy                  | 4                    | 9                    | White                | Rural                | Elm                  | Popular              | 4                    | 2                    | 3                    | 1                    | \n",
       "| 15 | boy                  | 4                    | 9                    | Other                | Rural                | Elm                  | Popular              | 4                    | 3                    | 2                    | 1                    | \n",
       "| 30 | boy                  | 4                    | 10                   | White                | Suburban             | Brentwood Elementary | Grades               | 1                    | 2                    | 4                    | 3                    | \n",
       "\n",
       "\n"
      ],
      "text/plain": [
       "   Gender Grade Age Race  Urban.Rural School               Goals   Grades\n",
       "1  boy    5     11  White Rural       Elm                  Sports  1     \n",
       "2  boy    5     10  White Rural       Elm                  Popular 2     \n",
       "13 boy    4     9   White Rural       Elm                  Popular 2     \n",
       "14 boy    4     9   White Rural       Elm                  Popular 4     \n",
       "15 boy    4     9   Other Rural       Elm                  Popular 4     \n",
       "30 boy    4     10  White Suburban    Brentwood Elementary Grades  1     \n",
       "   Sports Looks Money\n",
       "1  2      4     3    \n",
       "2  1      4     3    \n",
       "13 3      4     1    \n",
       "14 2      3     1    \n",
       "15 3      2     1    \n",
       "30 2      4     3    "
      ]
     },
     "metadata": {},
     "output_type": "display_data"
    },
    {
     "data": {
      "text/html": [
       "227"
      ],
      "text/latex": [
       "227"
      ],
      "text/markdown": [
       "227"
      ],
      "text/plain": [
       "[1] 227"
      ]
     },
     "metadata": {},
     "output_type": "display_data"
    }
   ],
   "source": [
    "head(boys)\n",
    "nrow(boys)"
   ]
  },
  {
   "cell_type": "code",
   "execution_count": 32,
   "metadata": {},
   "outputs": [
    {
     "data": {
      "text/html": [
       "<table>\n",
       "<thead><tr><th></th><th scope=col>Gender</th><th scope=col>Grade</th><th scope=col>Age</th><th scope=col>Race</th><th scope=col>Urban.Rural</th><th scope=col>School</th><th scope=col>Goals</th><th scope=col>Grades</th><th scope=col>Sports</th><th scope=col>Looks</th><th scope=col>Money</th></tr></thead>\n",
       "<tbody>\n",
       "\t<tr><th scope=row>3</th><td>girl   </td><td>5      </td><td>11     </td><td>White  </td><td>Rural  </td><td>Elm    </td><td>Popular</td><td>4      </td><td>3      </td><td>1      </td><td>2      </td></tr>\n",
       "\t<tr><th scope=row>4</th><td>girl   </td><td>5      </td><td>11     </td><td>White  </td><td>Rural  </td><td>Elm    </td><td>Popular</td><td>2      </td><td>3      </td><td>4      </td><td>1      </td></tr>\n",
       "\t<tr><th scope=row>5</th><td>girl   </td><td>5      </td><td>10     </td><td>White  </td><td>Rural  </td><td>Elm    </td><td>Popular</td><td>4      </td><td>2      </td><td>1      </td><td>3      </td></tr>\n",
       "\t<tr><th scope=row>6</th><td>girl   </td><td>5      </td><td>11     </td><td>White  </td><td>Rural  </td><td>Elm    </td><td>Popular</td><td>4      </td><td>2      </td><td>1      </td><td>3      </td></tr>\n",
       "\t<tr><th scope=row>7</th><td>girl   </td><td>5      </td><td>10     </td><td>White  </td><td>Rural  </td><td>Elm    </td><td>Popular</td><td>3      </td><td>4      </td><td>1      </td><td>2      </td></tr>\n",
       "\t<tr><th scope=row>8</th><td>girl   </td><td>5      </td><td>10     </td><td>White  </td><td>Rural  </td><td>Elm    </td><td>Grades </td><td>3      </td><td>4      </td><td>2      </td><td>1      </td></tr>\n",
       "</tbody>\n",
       "</table>\n"
      ],
      "text/latex": [
       "\\begin{tabular}{r|lllllllllll}\n",
       "  & Gender & Grade & Age & Race & Urban.Rural & School & Goals & Grades & Sports & Looks & Money\\\\\n",
       "\\hline\n",
       "\t3 & girl    & 5       & 11      & White   & Rural   & Elm     & Popular & 4       & 3       & 1       & 2      \\\\\n",
       "\t4 & girl    & 5       & 11      & White   & Rural   & Elm     & Popular & 2       & 3       & 4       & 1      \\\\\n",
       "\t5 & girl    & 5       & 10      & White   & Rural   & Elm     & Popular & 4       & 2       & 1       & 3      \\\\\n",
       "\t6 & girl    & 5       & 11      & White   & Rural   & Elm     & Popular & 4       & 2       & 1       & 3      \\\\\n",
       "\t7 & girl    & 5       & 10      & White   & Rural   & Elm     & Popular & 3       & 4       & 1       & 2      \\\\\n",
       "\t8 & girl    & 5       & 10      & White   & Rural   & Elm     & Grades  & 3       & 4       & 2       & 1      \\\\\n",
       "\\end{tabular}\n"
      ],
      "text/markdown": [
       "\n",
       "| <!--/--> | Gender | Grade | Age | Race | Urban.Rural | School | Goals | Grades | Sports | Looks | Money | \n",
       "|---|---|---|---|---|---|\n",
       "| 3 | girl    | 5       | 11      | White   | Rural   | Elm     | Popular | 4       | 3       | 1       | 2       | \n",
       "| 4 | girl    | 5       | 11      | White   | Rural   | Elm     | Popular | 2       | 3       | 4       | 1       | \n",
       "| 5 | girl    | 5       | 10      | White   | Rural   | Elm     | Popular | 4       | 2       | 1       | 3       | \n",
       "| 6 | girl    | 5       | 11      | White   | Rural   | Elm     | Popular | 4       | 2       | 1       | 3       | \n",
       "| 7 | girl    | 5       | 10      | White   | Rural   | Elm     | Popular | 3       | 4       | 1       | 2       | \n",
       "| 8 | girl    | 5       | 10      | White   | Rural   | Elm     | Grades  | 3       | 4       | 2       | 1       | \n",
       "\n",
       "\n"
      ],
      "text/plain": [
       "  Gender Grade Age Race  Urban.Rural School Goals   Grades Sports Looks Money\n",
       "3 girl   5     11  White Rural       Elm    Popular 4      3      1     2    \n",
       "4 girl   5     11  White Rural       Elm    Popular 2      3      4     1    \n",
       "5 girl   5     10  White Rural       Elm    Popular 4      2      1     3    \n",
       "6 girl   5     11  White Rural       Elm    Popular 4      2      1     3    \n",
       "7 girl   5     10  White Rural       Elm    Popular 3      4      1     2    \n",
       "8 girl   5     10  White Rural       Elm    Grades  3      4      2     1    "
      ]
     },
     "metadata": {},
     "output_type": "display_data"
    },
    {
     "data": {
      "text/html": [
       "251"
      ],
      "text/latex": [
       "251"
      ],
      "text/markdown": [
       "251"
      ],
      "text/plain": [
       "[1] 251"
      ]
     },
     "metadata": {},
     "output_type": "display_data"
    }
   ],
   "source": [
    "head(girls)\n",
    "nrow(girls)"
   ]
  },
  {
   "cell_type": "code",
   "execution_count": 33,
   "metadata": {},
   "outputs": [
    {
     "data": {
      "text/html": [
       "2.65198237885463"
      ],
      "text/latex": [
       "2.65198237885463"
      ],
      "text/markdown": [
       "2.65198237885463"
      ],
      "text/plain": [
       "[1] 2.651982"
      ]
     },
     "metadata": {},
     "output_type": "display_data"
    },
    {
     "data": {
      "text/html": [
       "2.58565737051793"
      ],
      "text/latex": [
       "2.58565737051793"
      ],
      "text/markdown": [
       "2.58565737051793"
      ],
      "text/plain": [
       "[1] 2.585657"
      ]
     },
     "metadata": {},
     "output_type": "display_data"
    }
   ],
   "source": [
    "boys_grades <- boys$Grades\n",
    "girls_grades <- girls$Grades\n",
    "mean(boys_grades)\n",
    "mean(girls_grades)"
   ]
  },
  {
   "cell_type": "code",
   "execution_count": 34,
   "metadata": {},
   "outputs": [
    {
     "data": {
      "text/html": [
       "1"
      ],
      "text/latex": [
       "1"
      ],
      "text/markdown": [
       "1"
      ],
      "text/plain": [
       "[1] 1"
      ]
     },
     "metadata": {},
     "output_type": "display_data"
    },
    {
     "data": {
      "text/html": [
       "4"
      ],
      "text/latex": [
       "4"
      ],
      "text/markdown": [
       "4"
      ],
      "text/plain": [
       "[1] 4"
      ]
     },
     "metadata": {},
     "output_type": "display_data"
    }
   ],
   "source": [
    "min(boys_grades, girls_grades)\n",
    "max(boys_grades, girls_grades)"
   ]
  },
  {
   "cell_type": "code",
   "execution_count": 35,
   "metadata": {},
   "outputs": [
    {
     "data": {
      "text/plain": [
       "   \n",
       "    boy girl\n",
       "  1  39   55\n",
       "  2  61   62\n",
       "  3  67   66\n",
       "  4  60   68"
      ]
     },
     "metadata": {},
     "output_type": "display_data"
    }
   ],
   "source": [
    "table(life_goals$Grades, life_goals$Gender)"
   ]
  },
  {
   "cell_type": "code",
   "execution_count": 36,
   "metadata": {},
   "outputs": [
    {
     "data": {
      "text/plain": [
       "\n",
       "\tWelch Two Sample t-test\n",
       "\n",
       "data:  boys$Sports and girls$Sports\n",
       "t = -10.006, df = 475.67, p-value < 2.2e-16\n",
       "alternative hypothesis: true difference in means is not equal to 0\n",
       "95 percent confidence interval:\n",
       " -0.9782996 -0.6571323\n",
       "sample estimates:\n",
       "mean of x mean of y \n",
       " 1.656388  2.474104 \n"
      ]
     },
     "metadata": {},
     "output_type": "display_data"
    }
   ],
   "source": [
    "t.test(boys$Sports, girls$Sports)"
   ]
  },
  {
   "cell_type": "code",
   "execution_count": null,
   "metadata": {
    "collapsed": true
   },
   "outputs": [],
   "source": []
  }
 ],
 "metadata": {
  "kernelspec": {
   "display_name": "R",
   "language": "R",
   "name": "ir"
  },
  "language_info": {
   "codemirror_mode": "r",
   "file_extension": ".r",
   "mimetype": "text/x-r-source",
   "name": "R",
   "pygments_lexer": "r",
   "version": "3.3.2"
  },
  "toc": {
   "nav_menu": {},
   "number_sections": true,
   "sideBar": true,
   "skip_h1_title": true,
   "toc_cell": true,
   "toc_position": {},
   "toc_section_display": "block",
   "toc_window_display": false
  }
 },
 "nbformat": 4,
 "nbformat_minor": 2
}
