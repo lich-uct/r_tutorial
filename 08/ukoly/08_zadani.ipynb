{
 "cells": [
  {
   "cell_type": "markdown",
   "metadata": {
    "toc": "true"
   },
   "source": [
    " # Table of Contents\n",
    "<div class=\"toc\" style=\"margin-top: 1em;\"><ul class=\"toc-item\" id=\"toc-level0\"><li><span><a href=\"http://localhost:8888/notebooks/08/ukoly/08_zadani.ipynb#Upovídanost-mužů-a-žen\" data-toc-modified-id=\"Upovídanost-mužů-a-žen-1\"><span class=\"toc-item-num\">1&nbsp;&nbsp;</span>Upovídanost mužů a žen</a></span></li><li><span><a href=\"http://localhost:8888/notebooks/08/ukoly/08_zadani.ipynb#Nezaměstnanost-absolventů-vysokých-a-středních-škol\" data-toc-modified-id=\"Nezaměstnanost-absolventů-vysokých-a-středních-škol-2\"><span class=\"toc-item-num\">2&nbsp;&nbsp;</span>Nezaměstnanost absolventů vysokých a středních škol</a></span></li></ul></div>"
   ]
  },
  {
   "cell_type": "markdown",
   "metadata": {},
   "source": [
    "## Upovídanost mužů a žen\n",
    "\n",
    "Za pomoci dat uložených v souboru `talkative.csv` se pokuste dokázat, že ženy jsou upovídanější než muži. V tabulce se nachází data ze šesti experimentů, ve kterých se stanovoval počet slov vyslovený zkoumanou osobou za den. Jméno sloupce obsahuje vždy číslo experimentu a zda v něm zkoumanou osobou byl muž (M) nebo žena (F).\n",
    "\n",
    "Další detaily k tomuto experimentu a přehledné shrnutí všech šesti experimentů najdete v následující publikaci: \n",
    "*Mehl, M. R., Vazire, S., Ramírez-Esparza, N., Slatcher, R. B., Pennebaker, J. W. (2007). Are women really more talkative than men? Science, 317(5834), 82. DOI: [10.1126/science.1139940\n",
    "](https:\\\\dx.doi.org/10.1126/science.1139940)*."
   ]
  },
  {
   "cell_type": "code",
   "execution_count": null,
   "metadata": {
    "collapsed": true
   },
   "outputs": [],
   "source": []
  },
  {
   "cell_type": "markdown",
   "metadata": {},
   "source": [
    "## Nezaměstnanost absolventů vysokých a středních škol\n",
    "\n",
    "V souboru `employment.csv` jsou data o nezaměstnanosti absolventů středních a vysokých škol v USA ve dvanáctiletém období. Zjistěte, zda se nezaměstnanost u těchto dvou skupin v průběhu dvanácti let systematicky liší."
   ]
  },
  {
   "cell_type": "code",
   "execution_count": null,
   "metadata": {
    "collapsed": true
   },
   "outputs": [],
   "source": []
  }
 ],
 "metadata": {
  "kernelspec": {
   "display_name": "R",
   "language": "R",
   "name": "ir"
  },
  "language_info": {
   "codemirror_mode": "r",
   "file_extension": ".r",
   "mimetype": "text/x-r-source",
   "name": "R",
   "pygments_lexer": "r",
   "version": "3.3.2"
  },
  "toc": {
   "nav_menu": {},
   "number_sections": true,
   "sideBar": true,
   "skip_h1_title": true,
   "toc_cell": true,
   "toc_position": {},
   "toc_section_display": "block",
   "toc_window_display": false
  }
 },
 "nbformat": 4,
 "nbformat_minor": 2
}
