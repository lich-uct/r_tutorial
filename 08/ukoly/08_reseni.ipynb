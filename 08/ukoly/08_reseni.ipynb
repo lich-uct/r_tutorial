{
 "cells": [
  {
   "cell_type": "markdown",
   "metadata": {
    "toc": "true"
   },
   "source": [
    " # Table of Contents\n",
    "<div class=\"toc\" style=\"margin-top: 1em;\"><ul class=\"toc-item\" id=\"toc-level0\"><li><span><a href=\"http://localhost:8888/notebooks/08/ukoly/08_reseni.ipynb#Upovídanost-mužů-a-žen\" data-toc-modified-id=\"Upovídanost-mužů-a-žen-1\"><span class=\"toc-item-num\">1&nbsp;&nbsp;</span>Upovídanost mužů a žen</a></span></li><li><span><a href=\"http://localhost:8888/notebooks/08/ukoly/08_reseni.ipynb#Nezaměstnanost-absolventů-vysokých-a-středních-škol\" data-toc-modified-id=\"Nezaměstnanost-absolventů-vysokých-a-středních-škol-2\"><span class=\"toc-item-num\">2&nbsp;&nbsp;</span>Nezaměstnanost absolventů vysokých a středních škol</a></span></li></ul></div>"
   ]
  },
  {
   "cell_type": "markdown",
   "metadata": {},
   "source": [
    "## Upovídanost mužů a žen\n",
    "\n",
    "Za pomoci dat uložených v souboru `talkative.csv` se pokuste dokázat, že ženy jsou upovídanější než muži. V tabulce se nachází data ze šesti experimentů, ve kterých se stanovoval počet slov vyslovený zkoumanou osobou za den. Jméno sloupce obsahuje vždy číslo experimentu a zda v něm zkoumanou osobou byl muž (M) nebo žena (F).\n",
    "\n",
    "Další detaily k tomuto experimentu a přehledné shrnutí všech šesti experimentů najdete v následující publikaci: \n",
    "*Mehl, M. R., Vazire, S., Ramírez-Esparza, N., Slatcher, R. B., Pennebaker, J. W. (2007). Are women really more talkative than men? Science, 317(5834), 82. DOI: [10.1126/science.1139940\n",
    "](dx.doi.org/10.1126/science.1139940)*."
   ]
  },
  {
   "cell_type": "code",
   "execution_count": 1,
   "metadata": {},
   "outputs": [
    {
     "data": {
      "text/html": [
       "<table>\n",
       "<thead><tr><th scope=col>X1M</th><th scope=col>X1F</th><th scope=col>X2M</th><th scope=col>X2F</th><th scope=col>X3M</th><th scope=col>X3F</th><th scope=col>X4M</th><th scope=col>X4F</th><th scope=col>X5M</th><th scope=col>X5F</th><th scope=col>X6M</th><th scope=col>X6F</th></tr></thead>\n",
       "<tbody>\n",
       "\t<tr><td>27531</td><td>20737</td><td>23871</td><td>16109</td><td>21143</td><td> 6705</td><td>47016</td><td>11849</td><td>39207</td><td>15962</td><td>28408</td><td>15357</td></tr>\n",
       "\t<tr><td>15684</td><td>24625</td><td> 5180</td><td>10592</td><td>17791</td><td>21613</td><td>27308</td><td>25317</td><td>20868</td><td>16610</td><td>10084</td><td>13618</td></tr>\n",
       "\t<tr><td> 5638</td><td> 5198</td><td> 9951</td><td>24608</td><td>36571</td><td>11935</td><td>42709</td><td>40055</td><td>18857</td><td>22497</td><td>15931</td><td> 9783</td></tr>\n",
       "\t<tr><td>27997</td><td>18712</td><td>12460</td><td>13739</td><td> 6724</td><td>15790</td><td>20565</td><td>18797</td><td>17271</td><td> 5004</td><td>21688</td><td>26451</td></tr>\n",
       "\t<tr><td>25433</td><td>12002</td><td>17155</td><td>22376</td><td>15430</td><td>17865</td><td>21034</td><td>20104</td><td>   NA</td><td>10171</td><td>37786</td><td>12151</td></tr>\n",
       "\t<tr><td> 8077</td><td>15702</td><td>10344</td><td> 9351</td><td>11552</td><td>13035</td><td>24150</td><td>17225</td><td>   NA</td><td>31327</td><td>10575</td><td> 8391</td></tr>\n",
       "</tbody>\n",
       "</table>\n"
      ],
      "text/latex": [
       "\\begin{tabular}{r|llllllllllll}\n",
       " X1M & X1F & X2M & X2F & X3M & X3F & X4M & X4F & X5M & X5F & X6M & X6F\\\\\n",
       "\\hline\n",
       "\t 27531 & 20737 & 23871 & 16109 & 21143 &  6705 & 47016 & 11849 & 39207 & 15962 & 28408 & 15357\\\\\n",
       "\t 15684 & 24625 &  5180 & 10592 & 17791 & 21613 & 27308 & 25317 & 20868 & 16610 & 10084 & 13618\\\\\n",
       "\t  5638 &  5198 &  9951 & 24608 & 36571 & 11935 & 42709 & 40055 & 18857 & 22497 & 15931 &  9783\\\\\n",
       "\t 27997 & 18712 & 12460 & 13739 &  6724 & 15790 & 20565 & 18797 & 17271 &  5004 & 21688 & 26451\\\\\n",
       "\t 25433 & 12002 & 17155 & 22376 & 15430 & 17865 & 21034 & 20104 &    NA & 10171 & 37786 & 12151\\\\\n",
       "\t  8077 & 15702 & 10344 &  9351 & 11552 & 13035 & 24150 & 17225 &    NA & 31327 & 10575 &  8391\\\\\n",
       "\\end{tabular}\n"
      ],
      "text/markdown": [
       "\n",
       "X1M | X1F | X2M | X2F | X3M | X3F | X4M | X4F | X5M | X5F | X6M | X6F | \n",
       "|---|---|---|---|---|---|\n",
       "| 27531 | 20737 | 23871 | 16109 | 21143 |  6705 | 47016 | 11849 | 39207 | 15962 | 28408 | 15357 | \n",
       "| 15684 | 24625 |  5180 | 10592 | 17791 | 21613 | 27308 | 25317 | 20868 | 16610 | 10084 | 13618 | \n",
       "|  5638 |  5198 |  9951 | 24608 | 36571 | 11935 | 42709 | 40055 | 18857 | 22497 | 15931 |  9783 | \n",
       "| 27997 | 18712 | 12460 | 13739 |  6724 | 15790 | 20565 | 18797 | 17271 |  5004 | 21688 | 26451 | \n",
       "| 25433 | 12002 | 17155 | 22376 | 15430 | 17865 | 21034 | 20104 |    NA | 10171 | 37786 | 12151 | \n",
       "|  8077 | 15702 | 10344 |  9351 | 11552 | 13035 | 24150 | 17225 |    NA | 31327 | 10575 |  8391 | \n",
       "\n",
       "\n"
      ],
      "text/plain": [
       "  X1M   X1F   X2M   X2F   X3M   X3F   X4M   X4F   X5M   X5F   X6M   X6F  \n",
       "1 27531 20737 23871 16109 21143  6705 47016 11849 39207 15962 28408 15357\n",
       "2 15684 24625  5180 10592 17791 21613 27308 25317 20868 16610 10084 13618\n",
       "3  5638  5198  9951 24608 36571 11935 42709 40055 18857 22497 15931  9783\n",
       "4 27997 18712 12460 13739  6724 15790 20565 18797 17271  5004 21688 26451\n",
       "5 25433 12002 17155 22376 15430 17865 21034 20104    NA 10171 37786 12151\n",
       "6  8077 15702 10344  9351 11552 13035 24150 17225    NA 31327 10575  8391"
      ]
     },
     "metadata": {},
     "output_type": "display_data"
    },
    {
     "data": {
      "text/html": [
       "<ol class=list-inline>\n",
       "\t<li>56</li>\n",
       "\t<li>12</li>\n",
       "</ol>\n"
      ],
      "text/latex": [
       "\\begin{enumerate*}\n",
       "\\item 56\n",
       "\\item 12\n",
       "\\end{enumerate*}\n"
      ],
      "text/markdown": [
       "1. 56\n",
       "2. 12\n",
       "\n",
       "\n"
      ],
      "text/plain": [
       "[1] 56 12"
      ]
     },
     "metadata": {},
     "output_type": "display_data"
    }
   ],
   "source": [
    "df_talkative <- read.table(\"talkative.csv\", sep = \",\", header = T, quote = \"\\\"\")\n",
    "head(df_talkative)\n",
    "dim(df_talkative)"
   ]
  },
  {
   "cell_type": "code",
   "execution_count": 2,
   "metadata": {},
   "outputs": [],
   "source": [
    "women_cols <- sapply(\n",
    "    colnames(df_talkative)\n",
    "    , function(x) substr(x, nchar(x), nchar(x)) == \"F\"\n",
    ")\n",
    "men_cols <- sapply(\n",
    "    colnames(df_talkative)\n",
    "    , function(x) substr(x, nchar(x), nchar(x)) == \"M\"\n",
    ")"
   ]
  },
  {
   "cell_type": "code",
   "execution_count": 3,
   "metadata": {},
   "outputs": [
    {
     "data": {
      "text/html": [
       "<table>\n",
       "<thead><tr><th scope=col>X1F</th><th scope=col>X2F</th><th scope=col>X3F</th><th scope=col>X4F</th><th scope=col>X5F</th><th scope=col>X6F</th></tr></thead>\n",
       "<tbody>\n",
       "\t<tr><td>20737</td><td>16109</td><td> 6705</td><td>11849</td><td>15962</td><td>15357</td></tr>\n",
       "\t<tr><td>24625</td><td>10592</td><td>21613</td><td>25317</td><td>16610</td><td>13618</td></tr>\n",
       "\t<tr><td> 5198</td><td>24608</td><td>11935</td><td>40055</td><td>22497</td><td> 9783</td></tr>\n",
       "\t<tr><td>18712</td><td>13739</td><td>15790</td><td>18797</td><td> 5004</td><td>26451</td></tr>\n",
       "\t<tr><td>12002</td><td>22376</td><td>17865</td><td>20104</td><td>10171</td><td>12151</td></tr>\n",
       "\t<tr><td>15702</td><td> 9351</td><td>13035</td><td>17225</td><td>31327</td><td> 8391</td></tr>\n",
       "</tbody>\n",
       "</table>\n"
      ],
      "text/latex": [
       "\\begin{tabular}{r|llllll}\n",
       " X1F & X2F & X3F & X4F & X5F & X6F\\\\\n",
       "\\hline\n",
       "\t 20737 & 16109 &  6705 & 11849 & 15962 & 15357\\\\\n",
       "\t 24625 & 10592 & 21613 & 25317 & 16610 & 13618\\\\\n",
       "\t  5198 & 24608 & 11935 & 40055 & 22497 &  9783\\\\\n",
       "\t 18712 & 13739 & 15790 & 18797 &  5004 & 26451\\\\\n",
       "\t 12002 & 22376 & 17865 & 20104 & 10171 & 12151\\\\\n",
       "\t 15702 &  9351 & 13035 & 17225 & 31327 &  8391\\\\\n",
       "\\end{tabular}\n"
      ],
      "text/markdown": [
       "\n",
       "X1F | X2F | X3F | X4F | X5F | X6F | \n",
       "|---|---|---|---|---|---|\n",
       "| 20737 | 16109 |  6705 | 11849 | 15962 | 15357 | \n",
       "| 24625 | 10592 | 21613 | 25317 | 16610 | 13618 | \n",
       "|  5198 | 24608 | 11935 | 40055 | 22497 |  9783 | \n",
       "| 18712 | 13739 | 15790 | 18797 |  5004 | 26451 | \n",
       "| 12002 | 22376 | 17865 | 20104 | 10171 | 12151 | \n",
       "| 15702 |  9351 | 13035 | 17225 | 31327 |  8391 | \n",
       "\n",
       "\n"
      ],
      "text/plain": [
       "  X1F   X2F   X3F   X4F   X5F   X6F  \n",
       "1 20737 16109  6705 11849 15962 15357\n",
       "2 24625 10592 21613 25317 16610 13618\n",
       "3  5198 24608 11935 40055 22497  9783\n",
       "4 18712 13739 15790 18797  5004 26451\n",
       "5 12002 22376 17865 20104 10171 12151\n",
       "6 15702  9351 13035 17225 31327  8391"
      ]
     },
     "metadata": {},
     "output_type": "display_data"
    },
    {
     "data": {
      "text/html": [
       "<table>\n",
       "<thead><tr><th scope=col>X1M</th><th scope=col>X2M</th><th scope=col>X3M</th><th scope=col>X4M</th><th scope=col>X5M</th><th scope=col>X6M</th></tr></thead>\n",
       "<tbody>\n",
       "\t<tr><td>27531</td><td>23871</td><td>21143</td><td>47016</td><td>39207</td><td>28408</td></tr>\n",
       "\t<tr><td>15684</td><td> 5180</td><td>17791</td><td>27308</td><td>20868</td><td>10084</td></tr>\n",
       "\t<tr><td> 5638</td><td> 9951</td><td>36571</td><td>42709</td><td>18857</td><td>15931</td></tr>\n",
       "\t<tr><td>27997</td><td>12460</td><td> 6724</td><td>20565</td><td>17271</td><td>21688</td></tr>\n",
       "\t<tr><td>25433</td><td>17155</td><td>15430</td><td>21034</td><td>   NA</td><td>37786</td></tr>\n",
       "\t<tr><td> 8077</td><td>10344</td><td>11552</td><td>24150</td><td>   NA</td><td>10575</td></tr>\n",
       "</tbody>\n",
       "</table>\n"
      ],
      "text/latex": [
       "\\begin{tabular}{r|llllll}\n",
       " X1M & X2M & X3M & X4M & X5M & X6M\\\\\n",
       "\\hline\n",
       "\t 27531 & 23871 & 21143 & 47016 & 39207 & 28408\\\\\n",
       "\t 15684 &  5180 & 17791 & 27308 & 20868 & 10084\\\\\n",
       "\t  5638 &  9951 & 36571 & 42709 & 18857 & 15931\\\\\n",
       "\t 27997 & 12460 &  6724 & 20565 & 17271 & 21688\\\\\n",
       "\t 25433 & 17155 & 15430 & 21034 &    NA & 37786\\\\\n",
       "\t  8077 & 10344 & 11552 & 24150 &    NA & 10575\\\\\n",
       "\\end{tabular}\n"
      ],
      "text/markdown": [
       "\n",
       "X1M | X2M | X3M | X4M | X5M | X6M | \n",
       "|---|---|---|---|---|---|\n",
       "| 27531 | 23871 | 21143 | 47016 | 39207 | 28408 | \n",
       "| 15684 |  5180 | 17791 | 27308 | 20868 | 10084 | \n",
       "|  5638 |  9951 | 36571 | 42709 | 18857 | 15931 | \n",
       "| 27997 | 12460 |  6724 | 20565 | 17271 | 21688 | \n",
       "| 25433 | 17155 | 15430 | 21034 |    NA | 37786 | \n",
       "|  8077 | 10344 | 11552 | 24150 |    NA | 10575 | \n",
       "\n",
       "\n"
      ],
      "text/plain": [
       "  X1M   X2M   X3M   X4M   X5M   X6M  \n",
       "1 27531 23871 21143 47016 39207 28408\n",
       "2 15684  5180 17791 27308 20868 10084\n",
       "3  5638  9951 36571 42709 18857 15931\n",
       "4 27997 12460  6724 20565 17271 21688\n",
       "5 25433 17155 15430 21034    NA 37786\n",
       "6  8077 10344 11552 24150    NA 10575"
      ]
     },
     "metadata": {},
     "output_type": "display_data"
    }
   ],
   "source": [
    "df_women <- df_talkative[,women_cols]\n",
    "df_men <- df_talkative[,men_cols]\n",
    "head(df_women)\n",
    "head(df_men)"
   ]
  },
  {
   "cell_type": "code",
   "execution_count": 4,
   "metadata": {},
   "outputs": [
    {
     "data": {
      "text/html": [
       "16215.0285714286"
      ],
      "text/latex": [
       "16215.0285714286"
      ],
      "text/markdown": [
       "16215.0285714286"
      ],
      "text/plain": [
       "[1] 16215.03"
      ]
     },
     "metadata": {},
     "output_type": "display_data"
    },
    {
     "data": {
      "text/html": [
       "15668.5268817204"
      ],
      "text/latex": [
       "15668.5268817204"
      ],
      "text/markdown": [
       "15668.5268817204"
      ],
      "text/plain": [
       "[1] 15668.53"
      ]
     },
     "metadata": {},
     "output_type": "display_data"
    }
   ],
   "source": [
    "vectorize <- function(frame) {\n",
    "    ret <- unlist(frame)\n",
    "    ret[!is.na(ret)]\n",
    "}\n",
    "\n",
    "women <- vectorize(df_women)\n",
    "men <- vectorize(df_men)\n",
    "\n",
    "mean(women)\n",
    "mean(men)"
   ]
  },
  {
   "cell_type": "code",
   "execution_count": 5,
   "metadata": {},
   "outputs": [
    {
     "data": {
      "image/png": "[encoded data removed]",
      "text/plain": [
       "Plot with title “Histogram of women”"
      ]
     },
     "metadata": {},
     "output_type": "display_data"
    },
    {
     "data": {
      "image/png": "[encoded data removed]",
      "text/plain": [
       "Plot with title “Histogram of men”"
      ]
     },
     "metadata": {},
     "output_type": "display_data"
    }
   ],
   "source": [
    "hist(women)\n",
    "hist(men)"
   ]
  },
  {
   "cell_type": "code",
   "execution_count": 6,
   "metadata": {},
   "outputs": [
    {
     "data": {
      "image/png": "[encoded data removed]",
      "text/plain": [
       "plot without title"
      ]
     },
     "metadata": {},
     "output_type": "display_data"
    }
   ],
   "source": [
    "boxplot(women, men, names = c(\"Women\", \"Men\"))"
   ]
  },
  {
   "cell_type": "code",
   "execution_count": 7,
   "metadata": {},
   "outputs": [
    {
     "data": {
      "text/plain": [
       "\n",
       "\tWelch Two Sample t-test\n",
       "\n",
       "data:  women and men\n",
       "t = 0.67552, df = 364.26, p-value = 0.2499\n",
       "alternative hypothesis: true difference in means is greater than 0\n",
       "95 percent confidence interval:\n",
       " -787.5928       Inf\n",
       "sample estimates:\n",
       "mean of x mean of y \n",
       " 16215.03  15668.53 \n"
      ]
     },
     "metadata": {},
     "output_type": "display_data"
    }
   ],
   "source": [
    "t.test(women, men, alternative = \"greater\")"
   ]
  },
  {
   "cell_type": "code",
   "execution_count": 8,
   "metadata": {},
   "outputs": [
    {
     "data": {
      "text/plain": [
       "\n",
       "\tWelch Two Sample t-test\n",
       "\n",
       "data:  women and men\n",
       "t = 2.0832, df = 373.34, p-value = 0.01896\n",
       "alternative hypothesis: true difference in means is greater than 0\n",
       "95 percent confidence interval:\n",
       " 301.3601      Inf\n",
       "sample estimates:\n",
       "mean of x mean of y \n",
       " 15880.51  14434.71 \n"
      ]
     },
     "metadata": {},
     "output_type": "display_data"
    }
   ],
   "source": [
    "women <- women[women < 35000]\n",
    "men <- men[men < 35000]\n",
    "\n",
    "t.test(women, men, alternative = \"greater\")"
   ]
  },
  {
   "cell_type": "markdown",
   "metadata": {},
   "source": [
    "## Nezaměstnanost absolventů vysokých a středních škol\n",
    "\n",
    "V souboru `employment.csv` jsou data o nezaměstnanosti absolventů středních a vysokých škol v USA ve dvanáctiletém období. Zjistěte, zda se nezaměstnanost u těchto dvou skupin významně liší."
   ]
  },
  {
   "cell_type": "code",
   "execution_count": 9,
   "metadata": {},
   "outputs": [
    {
     "data": {
      "text/html": [
       "<table>\n",
       "<thead><tr><th scope=col>College</th><th scope=col>HiSchool</th></tr></thead>\n",
       "<tbody>\n",
       "\t<tr><td>2.8</td><td>5.9</td></tr>\n",
       "\t<tr><td>2.2</td><td>4.9</td></tr>\n",
       "\t<tr><td>2.2</td><td>4.8</td></tr>\n",
       "\t<tr><td>1.7</td><td>5.4</td></tr>\n",
       "\t<tr><td>2.3</td><td>6.3</td></tr>\n",
       "\t<tr><td>2.3</td><td>6.9</td></tr>\n",
       "</tbody>\n",
       "</table>\n"
      ],
      "text/latex": [
       "\\begin{tabular}{r|ll}\n",
       " College & HiSchool\\\\\n",
       "\\hline\n",
       "\t 2.8 & 5.9\\\\\n",
       "\t 2.2 & 4.9\\\\\n",
       "\t 2.2 & 4.8\\\\\n",
       "\t 1.7 & 5.4\\\\\n",
       "\t 2.3 & 6.3\\\\\n",
       "\t 2.3 & 6.9\\\\\n",
       "\\end{tabular}\n"
      ],
      "text/markdown": [
       "\n",
       "College | HiSchool | \n",
       "|---|---|---|---|---|---|\n",
       "| 2.8 | 5.9 | \n",
       "| 2.2 | 4.9 | \n",
       "| 2.2 | 4.8 | \n",
       "| 1.7 | 5.4 | \n",
       "| 2.3 | 6.3 | \n",
       "| 2.3 | 6.9 | \n",
       "\n",
       "\n"
      ],
      "text/plain": [
       "  College HiSchool\n",
       "1 2.8     5.9     \n",
       "2 2.2     4.9     \n",
       "3 2.2     4.8     \n",
       "4 1.7     5.4     \n",
       "5 2.3     6.3     \n",
       "6 2.3     6.9     "
      ]
     },
     "metadata": {},
     "output_type": "display_data"
    },
    {
     "data": {
      "text/html": [
       "<ol class=list-inline>\n",
       "\t<li>12</li>\n",
       "\t<li>2</li>\n",
       "</ol>\n"
      ],
      "text/latex": [
       "\\begin{enumerate*}\n",
       "\\item 12\n",
       "\\item 2\n",
       "\\end{enumerate*}\n"
      ],
      "text/markdown": [
       "1. 12\n",
       "2. 2\n",
       "\n",
       "\n"
      ],
      "text/plain": [
       "[1] 12  2"
      ]
     },
     "metadata": {},
     "output_type": "display_data"
    }
   ],
   "source": [
    "df_employment <- read.table(\"employment.csv\", sep = \",\", header = T, quote = \"\\\"\")\n",
    "head(df_employment)\n",
    "dim(df_employment)"
   ]
  },
  {
   "cell_type": "code",
   "execution_count": 10,
   "metadata": {},
   "outputs": [
    {
     "data": {
      "text/plain": [
       "\n",
       "\tPaired t-test\n",
       "\n",
       "data:  df_employment$College and df_employment$HiSchool\n",
       "t = -12.366, df = 11, p-value = 8.536e-08\n",
       "alternative hypothesis: true difference in means is not equal to 0\n",
       "95 percent confidence interval:\n",
       " -4.839552 -3.377114\n",
       "sample estimates:\n",
       "mean of the differences \n",
       "              -4.108333 \n"
      ]
     },
     "metadata": {},
     "output_type": "display_data"
    }
   ],
   "source": [
    "t.test(df_employment$College, df_employment$HiSchool, paired = T)"
   ]
  },
  {
   "cell_type": "code",
   "execution_count": null,
   "metadata": {
    "collapsed": true
   },
   "outputs": [],
   "source": []
  }
 ],
 "metadata": {
  "kernelspec": {
   "display_name": "R",
   "language": "R",
   "name": "ir"
  },
  "language_info": {
   "codemirror_mode": "r",
   "file_extension": ".r",
   "mimetype": "text/x-r-source",
   "name": "R",
   "pygments_lexer": "r",
   "version": "3.3.2"
  },
  "toc": {
   "nav_menu": {},
   "number_sections": true,
   "sideBar": true,
   "skip_h1_title": true,
   "toc_cell": true,
   "toc_position": {},
   "toc_section_display": "block",
   "toc_window_display": false
  }
 },
 "nbformat": 4,
 "nbformat_minor": 2
}
