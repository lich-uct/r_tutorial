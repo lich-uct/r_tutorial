{
 "cells": [
  {
   "cell_type": "markdown",
   "metadata": {
    "toc": "true"
   },
   "source": [
    " # Table of Contents\n",
    "<div class=\"toc\" style=\"margin-top: 1em;\"><ul class=\"toc-item\" id=\"toc-level0\"><li><span><a href=\"http://localhost:8888/notebooks/08/ukoly/08_reseni.ipynb#Upovídanost-mužů-a-žen\" data-toc-modified-id=\"Upovídanost-mužů-a-žen-1\"><span class=\"toc-item-num\">1&nbsp;&nbsp;</span>Upovídanost mužů a žen</a></span></li><li><span><a href=\"http://localhost:8888/notebooks/08/ukoly/08_reseni.ipynb#Nezaměstnanost-absolventů-vysokých-a-středních-škol\" data-toc-modified-id=\"Nezaměstnanost-absolventů-vysokých-a-středních-škol-2\"><span class=\"toc-item-num\">2&nbsp;&nbsp;</span>Nezaměstnanost absolventů vysokých a středních škol</a></span></li><li><span><a href=\"http://localhost:8888/notebooks/08/ukoly/08_reseni.ipynb#Počáteční-investice-amerických-živnostníků\" data-toc-modified-id=\"Počáteční-investice-amerických-živnostníků-3\"><span class=\"toc-item-num\">3&nbsp;&nbsp;</span>Počáteční investice amerických živnostníků</a></span></li></ul></div>"
   ]
  },
  {
   "cell_type": "markdown",
   "metadata": {},
   "source": [
    "## Upovídanost mužů a žen\n",
    "\n",
    "Za pomoci dat uložených v souboru `talkative.csv` se pokuste dokázat, že ženy jsou upovídanější než muži. V tabulce se nachází data ze šesti experimentů, ve kterých se stanovoval počet slov vyslovený zkoumanou osobou za den. Jméno sloupce obsahuje vždy číslo experimentu a zda v něm zkoumanou osobou byl muž (M) nebo žena (F).\n",
    "\n",
    "Další detaily k tomuto experimentu a přehledné shrnutí všech šesti experimentů najdete v následující publikaci: \n",
    "*Mehl, M. R., Vazire, S., Ramírez-Esparza, N., Slatcher, R. B., Pennebaker, J. W. (2007). Are women really more talkative than men? Science, 317(5834), 82. DOI: [10.1126/science.1139940\n",
    "](https:\\\\dx.doi.org/10.1126/science.1139940)*."
   ]
  },
  {
   "cell_type": "code",
   "execution_count": 1,
   "metadata": {},
   "outputs": [
    {
     "data": {
      "text/html": [
       "<table>\n",
       "<thead><tr><th scope=col>X1M</th><th scope=col>X1F</th><th scope=col>X2M</th><th scope=col>X2F</th><th scope=col>X3M</th><th scope=col>X3F</th><th scope=col>X4M</th><th scope=col>X4F</th><th scope=col>X5M</th><th scope=col>X5F</th><th scope=col>X6M</th><th scope=col>X6F</th></tr></thead>\n",
       "<tbody>\n",
       "\t<tr><td>27531</td><td>20737</td><td>23871</td><td>16109</td><td>21143</td><td> 6705</td><td>47016</td><td>11849</td><td>39207</td><td>15962</td><td>28408</td><td>15357</td></tr>\n",
       "\t<tr><td>15684</td><td>24625</td><td> 5180</td><td>10592</td><td>17791</td><td>21613</td><td>27308</td><td>25317</td><td>20868</td><td>16610</td><td>10084</td><td>13618</td></tr>\n",
       "\t<tr><td> 5638</td><td> 5198</td><td> 9951</td><td>24608</td><td>36571</td><td>11935</td><td>42709</td><td>40055</td><td>18857</td><td>22497</td><td>15931</td><td> 9783</td></tr>\n",
       "\t<tr><td>27997</td><td>18712</td><td>12460</td><td>13739</td><td> 6724</td><td>15790</td><td>20565</td><td>18797</td><td>17271</td><td> 5004</td><td>21688</td><td>26451</td></tr>\n",
       "\t<tr><td>25433</td><td>12002</td><td>17155</td><td>22376</td><td>15430</td><td>17865</td><td>21034</td><td>20104</td><td>   NA</td><td>10171</td><td>37786</td><td>12151</td></tr>\n",
       "\t<tr><td> 8077</td><td>15702</td><td>10344</td><td> 9351</td><td>11552</td><td>13035</td><td>24150</td><td>17225</td><td>   NA</td><td>31327</td><td>10575</td><td> 8391</td></tr>\n",
       "</tbody>\n",
       "</table>\n"
      ],
      "text/latex": [
       "\\begin{tabular}{r|llllllllllll}\n",
       " X1M & X1F & X2M & X2F & X3M & X3F & X4M & X4F & X5M & X5F & X6M & X6F\\\\\n",
       "\\hline\n",
       "\t 27531 & 20737 & 23871 & 16109 & 21143 &  6705 & 47016 & 11849 & 39207 & 15962 & 28408 & 15357\\\\\n",
       "\t 15684 & 24625 &  5180 & 10592 & 17791 & 21613 & 27308 & 25317 & 20868 & 16610 & 10084 & 13618\\\\\n",
       "\t  5638 &  5198 &  9951 & 24608 & 36571 & 11935 & 42709 & 40055 & 18857 & 22497 & 15931 &  9783\\\\\n",
       "\t 27997 & 18712 & 12460 & 13739 &  6724 & 15790 & 20565 & 18797 & 17271 &  5004 & 21688 & 26451\\\\\n",
       "\t 25433 & 12002 & 17155 & 22376 & 15430 & 17865 & 21034 & 20104 &    NA & 10171 & 37786 & 12151\\\\\n",
       "\t  8077 & 15702 & 10344 &  9351 & 11552 & 13035 & 24150 & 17225 &    NA & 31327 & 10575 &  8391\\\\\n",
       "\\end{tabular}\n"
      ],
      "text/markdown": [
       "\n",
       "X1M | X1F | X2M | X2F | X3M | X3F | X4M | X4F | X5M | X5F | X6M | X6F | \n",
       "|---|---|---|---|---|---|\n",
       "| 27531 | 20737 | 23871 | 16109 | 21143 |  6705 | 47016 | 11849 | 39207 | 15962 | 28408 | 15357 | \n",
       "| 15684 | 24625 |  5180 | 10592 | 17791 | 21613 | 27308 | 25317 | 20868 | 16610 | 10084 | 13618 | \n",
       "|  5638 |  5198 |  9951 | 24608 | 36571 | 11935 | 42709 | 40055 | 18857 | 22497 | 15931 |  9783 | \n",
       "| 27997 | 18712 | 12460 | 13739 |  6724 | 15790 | 20565 | 18797 | 17271 |  5004 | 21688 | 26451 | \n",
       "| 25433 | 12002 | 17155 | 22376 | 15430 | 17865 | 21034 | 20104 |    NA | 10171 | 37786 | 12151 | \n",
       "|  8077 | 15702 | 10344 |  9351 | 11552 | 13035 | 24150 | 17225 |    NA | 31327 | 10575 |  8391 | \n",
       "\n",
       "\n"
      ],
      "text/plain": [
       "  X1M   X1F   X2M   X2F   X3M   X3F   X4M   X4F   X5M   X5F   X6M   X6F  \n",
       "1 27531 20737 23871 16109 21143  6705 47016 11849 39207 15962 28408 15357\n",
       "2 15684 24625  5180 10592 17791 21613 27308 25317 20868 16610 10084 13618\n",
       "3  5638  5198  9951 24608 36571 11935 42709 40055 18857 22497 15931  9783\n",
       "4 27997 18712 12460 13739  6724 15790 20565 18797 17271  5004 21688 26451\n",
       "5 25433 12002 17155 22376 15430 17865 21034 20104    NA 10171 37786 12151\n",
       "6  8077 15702 10344  9351 11552 13035 24150 17225    NA 31327 10575  8391"
      ]
     },
     "metadata": {},
     "output_type": "display_data"
    },
    {
     "data": {
      "text/html": [
       "<ol class=list-inline>\n",
       "\t<li>56</li>\n",
       "\t<li>12</li>\n",
       "</ol>\n"
      ],
      "text/latex": [
       "\\begin{enumerate*}\n",
       "\\item 56\n",
       "\\item 12\n",
       "\\end{enumerate*}\n"
      ],
      "text/markdown": [
       "1. 56\n",
       "2. 12\n",
       "\n",
       "\n"
      ],
      "text/plain": [
       "[1] 56 12"
      ]
     },
     "metadata": {},
     "output_type": "display_data"
    }
   ],
   "source": [
    "df_talkative <- read.table(\"talkative.csv\", sep = \",\", header = T, quote = \"\\\"\")\n",
    "head(df_talkative)\n",
    "dim(df_talkative)"
   ]
  },
  {
   "cell_type": "code",
   "execution_count": 2,
   "metadata": {
    "collapsed": true
   },
   "outputs": [],
   "source": [
    "women_cols <- sapply(\n",
    "    colnames(df_talkative)\n",
    "    , function(x) substr(x, nchar(x), nchar(x)) == \"F\"\n",
    ")\n",
    "men_cols <- sapply(\n",
    "    colnames(df_talkative)\n",
    "    , function(x) substr(x, nchar(x), nchar(x)) == \"M\"\n",
    ")"
   ]
  },
  {
   "cell_type": "code",
   "execution_count": 3,
   "metadata": {},
   "outputs": [
    {
     "data": {
      "text/html": [
       "<table>\n",
       "<thead><tr><th scope=col>X1F</th><th scope=col>X2F</th><th scope=col>X3F</th><th scope=col>X4F</th><th scope=col>X5F</th><th scope=col>X6F</th></tr></thead>\n",
       "<tbody>\n",
       "\t<tr><td>20737</td><td>16109</td><td> 6705</td><td>11849</td><td>15962</td><td>15357</td></tr>\n",
       "\t<tr><td>24625</td><td>10592</td><td>21613</td><td>25317</td><td>16610</td><td>13618</td></tr>\n",
       "\t<tr><td> 5198</td><td>24608</td><td>11935</td><td>40055</td><td>22497</td><td> 9783</td></tr>\n",
       "\t<tr><td>18712</td><td>13739</td><td>15790</td><td>18797</td><td> 5004</td><td>26451</td></tr>\n",
       "\t<tr><td>12002</td><td>22376</td><td>17865</td><td>20104</td><td>10171</td><td>12151</td></tr>\n",
       "\t<tr><td>15702</td><td> 9351</td><td>13035</td><td>17225</td><td>31327</td><td> 8391</td></tr>\n",
       "</tbody>\n",
       "</table>\n"
      ],
      "text/latex": [
       "\\begin{tabular}{r|llllll}\n",
       " X1F & X2F & X3F & X4F & X5F & X6F\\\\\n",
       "\\hline\n",
       "\t 20737 & 16109 &  6705 & 11849 & 15962 & 15357\\\\\n",
       "\t 24625 & 10592 & 21613 & 25317 & 16610 & 13618\\\\\n",
       "\t  5198 & 24608 & 11935 & 40055 & 22497 &  9783\\\\\n",
       "\t 18712 & 13739 & 15790 & 18797 &  5004 & 26451\\\\\n",
       "\t 12002 & 22376 & 17865 & 20104 & 10171 & 12151\\\\\n",
       "\t 15702 &  9351 & 13035 & 17225 & 31327 &  8391\\\\\n",
       "\\end{tabular}\n"
      ],
      "text/markdown": [
       "\n",
       "X1F | X2F | X3F | X4F | X5F | X6F | \n",
       "|---|---|---|---|---|---|\n",
       "| 20737 | 16109 |  6705 | 11849 | 15962 | 15357 | \n",
       "| 24625 | 10592 | 21613 | 25317 | 16610 | 13618 | \n",
       "|  5198 | 24608 | 11935 | 40055 | 22497 |  9783 | \n",
       "| 18712 | 13739 | 15790 | 18797 |  5004 | 26451 | \n",
       "| 12002 | 22376 | 17865 | 20104 | 10171 | 12151 | \n",
       "| 15702 |  9351 | 13035 | 17225 | 31327 |  8391 | \n",
       "\n",
       "\n"
      ],
      "text/plain": [
       "  X1F   X2F   X3F   X4F   X5F   X6F  \n",
       "1 20737 16109  6705 11849 15962 15357\n",
       "2 24625 10592 21613 25317 16610 13618\n",
       "3  5198 24608 11935 40055 22497  9783\n",
       "4 18712 13739 15790 18797  5004 26451\n",
       "5 12002 22376 17865 20104 10171 12151\n",
       "6 15702  9351 13035 17225 31327  8391"
      ]
     },
     "metadata": {},
     "output_type": "display_data"
    },
    {
     "data": {
      "text/html": [
       "<table>\n",
       "<thead><tr><th scope=col>X1M</th><th scope=col>X2M</th><th scope=col>X3M</th><th scope=col>X4M</th><th scope=col>X5M</th><th scope=col>X6M</th></tr></thead>\n",
       "<tbody>\n",
       "\t<tr><td>27531</td><td>23871</td><td>21143</td><td>47016</td><td>39207</td><td>28408</td></tr>\n",
       "\t<tr><td>15684</td><td> 5180</td><td>17791</td><td>27308</td><td>20868</td><td>10084</td></tr>\n",
       "\t<tr><td> 5638</td><td> 9951</td><td>36571</td><td>42709</td><td>18857</td><td>15931</td></tr>\n",
       "\t<tr><td>27997</td><td>12460</td><td> 6724</td><td>20565</td><td>17271</td><td>21688</td></tr>\n",
       "\t<tr><td>25433</td><td>17155</td><td>15430</td><td>21034</td><td>   NA</td><td>37786</td></tr>\n",
       "\t<tr><td> 8077</td><td>10344</td><td>11552</td><td>24150</td><td>   NA</td><td>10575</td></tr>\n",
       "</tbody>\n",
       "</table>\n"
      ],
      "text/latex": [
       "\\begin{tabular}{r|llllll}\n",
       " X1M & X2M & X3M & X4M & X5M & X6M\\\\\n",
       "\\hline\n",
       "\t 27531 & 23871 & 21143 & 47016 & 39207 & 28408\\\\\n",
       "\t 15684 &  5180 & 17791 & 27308 & 20868 & 10084\\\\\n",
       "\t  5638 &  9951 & 36571 & 42709 & 18857 & 15931\\\\\n",
       "\t 27997 & 12460 &  6724 & 20565 & 17271 & 21688\\\\\n",
       "\t 25433 & 17155 & 15430 & 21034 &    NA & 37786\\\\\n",
       "\t  8077 & 10344 & 11552 & 24150 &    NA & 10575\\\\\n",
       "\\end{tabular}\n"
      ],
      "text/markdown": [
       "\n",
       "X1M | X2M | X3M | X4M | X5M | X6M | \n",
       "|---|---|---|---|---|---|\n",
       "| 27531 | 23871 | 21143 | 47016 | 39207 | 28408 | \n",
       "| 15684 |  5180 | 17791 | 27308 | 20868 | 10084 | \n",
       "|  5638 |  9951 | 36571 | 42709 | 18857 | 15931 | \n",
       "| 27997 | 12460 |  6724 | 20565 | 17271 | 21688 | \n",
       "| 25433 | 17155 | 15430 | 21034 |    NA | 37786 | \n",
       "|  8077 | 10344 | 11552 | 24150 |    NA | 10575 | \n",
       "\n",
       "\n"
      ],
      "text/plain": [
       "  X1M   X2M   X3M   X4M   X5M   X6M  \n",
       "1 27531 23871 21143 47016 39207 28408\n",
       "2 15684  5180 17791 27308 20868 10084\n",
       "3  5638  9951 36571 42709 18857 15931\n",
       "4 27997 12460  6724 20565 17271 21688\n",
       "5 25433 17155 15430 21034    NA 37786\n",
       "6  8077 10344 11552 24150    NA 10575"
      ]
     },
     "metadata": {},
     "output_type": "display_data"
    }
   ],
   "source": [
    "df_women <- df_talkative[,women_cols]\n",
    "df_men <- df_talkative[,men_cols]\n",
    "head(df_women)\n",
    "head(df_men)"
   ]
  },
  {
   "cell_type": "code",
   "execution_count": 4,
   "metadata": {},
   "outputs": [
    {
     "data": {
      "text/html": [
       "16215.0285714286"
      ],
      "text/latex": [
       "16215.0285714286"
      ],
      "text/markdown": [
       "16215.0285714286"
      ],
      "text/plain": [
       "[1] 16215.03"
      ]
     },
     "metadata": {},
     "output_type": "display_data"
    },
    {
     "data": {
      "text/html": [
       "15668.5268817204"
      ],
      "text/latex": [
       "15668.5268817204"
      ],
      "text/markdown": [
       "15668.5268817204"
      ],
      "text/plain": [
       "[1] 15668.53"
      ]
     },
     "metadata": {},
     "output_type": "display_data"
    }
   ],
   "source": [
    "vectorize <- function(frame) {\n",
    "    ret <- unlist(frame)\n",
    "    ret[!is.na(ret)]\n",
    "}\n",
    "\n",
    "women <- vectorize(df_women)\n",
    "men <- vectorize(df_men)\n",
    "\n",
    "mean(women)\n",
    "mean(men)"
   ]
  },
  {
   "cell_type": "code",
   "execution_count": 5,
   "metadata": {},
   "outputs": [
    {
     "data": {
      "image/png": "[encoded data removed]",
      "text/plain": [
       "Plot with title “Histogram of women”"
      ]
     },
     "metadata": {},
     "output_type": "display_data"
    },
    {
     "data": {
      "image/png": "[encoded data removed]",
      "text/plain": [
       "Plot with title “Histogram of men”"
      ]
     },
     "metadata": {},
     "output_type": "display_data"
    }
   ],
   "source": [
    "hist(women)\n",
    "hist(men)"
   ]
  },
  {
   "cell_type": "code",
   "execution_count": 6,
   "metadata": {},
   "outputs": [
    {
     "data": {
      "image/png": "[encoded data removed]",
      "text/plain": [
       "plot without title"
      ]
     },
     "metadata": {},
     "output_type": "display_data"
    }
   ],
   "source": [
    "boxplot(women, men, names = c(\"Women\", \"Men\"))"
   ]
  },
  {
   "cell_type": "code",
   "execution_count": 7,
   "metadata": {},
   "outputs": [
    {
     "data": {
      "text/plain": [
       "\n",
       "\tWelch Two Sample t-test\n",
       "\n",
       "data:  women and men\n",
       "t = 0.67552, df = 364.26, p-value = 0.2499\n",
       "alternative hypothesis: true difference in means is greater than 0\n",
       "95 percent confidence interval:\n",
       " -787.5928       Inf\n",
       "sample estimates:\n",
       "mean of x mean of y \n",
       " 16215.03  15668.53 \n"
      ]
     },
     "metadata": {},
     "output_type": "display_data"
    }
   ],
   "source": [
    "t.test(women, men, alternative = \"greater\")"
   ]
  },
  {
   "cell_type": "code",
   "execution_count": 8,
   "metadata": {},
   "outputs": [
    {
     "data": {
      "text/plain": [
       "\n",
       "\tWelch Two Sample t-test\n",
       "\n",
       "data:  women and men\n",
       "t = 2.0832, df = 373.34, p-value = 0.01896\n",
       "alternative hypothesis: true difference in means is greater than 0\n",
       "95 percent confidence interval:\n",
       " 301.3601      Inf\n",
       "sample estimates:\n",
       "mean of x mean of y \n",
       " 15880.51  14434.71 \n"
      ]
     },
     "metadata": {},
     "output_type": "display_data"
    }
   ],
   "source": [
    "women <- women[women < 35000]\n",
    "men <- men[men < 35000]\n",
    "\n",
    "t.test(women, men, alternative = \"greater\")"
   ]
  },
  {
   "cell_type": "markdown",
   "metadata": {},
   "source": [
    "## Nezaměstnanost absolventů vysokých a středních škol\n",
    "\n",
    "V souboru `employment.csv` jsou data o nezaměstnanosti absolventů středních a vysokých škol v USA ve dvanáctiletém období. Zjistěte, zda se nezaměstnanost u těchto dvou skupin v průběhu dvanácti let systematicky liší."
   ]
  },
  {
   "cell_type": "code",
   "execution_count": 9,
   "metadata": {},
   "outputs": [
    {
     "data": {
      "text/html": [
       "<table>\n",
       "<thead><tr><th scope=col>College</th><th scope=col>HiSchool</th></tr></thead>\n",
       "<tbody>\n",
       "\t<tr><td>2.8</td><td>5.9</td></tr>\n",
       "\t<tr><td>2.2</td><td>4.9</td></tr>\n",
       "\t<tr><td>2.2</td><td>4.8</td></tr>\n",
       "\t<tr><td>1.7</td><td>5.4</td></tr>\n",
       "\t<tr><td>2.3</td><td>6.3</td></tr>\n",
       "\t<tr><td>2.3</td><td>6.9</td></tr>\n",
       "</tbody>\n",
       "</table>\n"
      ],
      "text/latex": [
       "\\begin{tabular}{r|ll}\n",
       " College & HiSchool\\\\\n",
       "\\hline\n",
       "\t 2.8 & 5.9\\\\\n",
       "\t 2.2 & 4.9\\\\\n",
       "\t 2.2 & 4.8\\\\\n",
       "\t 1.7 & 5.4\\\\\n",
       "\t 2.3 & 6.3\\\\\n",
       "\t 2.3 & 6.9\\\\\n",
       "\\end{tabular}\n"
      ],
      "text/markdown": [
       "\n",
       "College | HiSchool | \n",
       "|---|---|---|---|---|---|\n",
       "| 2.8 | 5.9 | \n",
       "| 2.2 | 4.9 | \n",
       "| 2.2 | 4.8 | \n",
       "| 1.7 | 5.4 | \n",
       "| 2.3 | 6.3 | \n",
       "| 2.3 | 6.9 | \n",
       "\n",
       "\n"
      ],
      "text/plain": [
       "  College HiSchool\n",
       "1 2.8     5.9     \n",
       "2 2.2     4.9     \n",
       "3 2.2     4.8     \n",
       "4 1.7     5.4     \n",
       "5 2.3     6.3     \n",
       "6 2.3     6.9     "
      ]
     },
     "metadata": {},
     "output_type": "display_data"
    },
    {
     "data": {
      "text/html": [
       "<ol class=list-inline>\n",
       "\t<li>12</li>\n",
       "\t<li>2</li>\n",
       "</ol>\n"
      ],
      "text/latex": [
       "\\begin{enumerate*}\n",
       "\\item 12\n",
       "\\item 2\n",
       "\\end{enumerate*}\n"
      ],
      "text/markdown": [
       "1. 12\n",
       "2. 2\n",
       "\n",
       "\n"
      ],
      "text/plain": [
       "[1] 12  2"
      ]
     },
     "metadata": {},
     "output_type": "display_data"
    }
   ],
   "source": [
    "df_employment <- read.table(\"employment.csv\", sep = \",\", header = T, quote = \"\\\"\")\n",
    "head(df_employment)\n",
    "dim(df_employment)"
   ]
  },
  {
   "cell_type": "code",
   "execution_count": 10,
   "metadata": {},
   "outputs": [
    {
     "data": {
      "text/plain": [
       "\n",
       "\tPaired t-test\n",
       "\n",
       "data:  df_employment$College and df_employment$HiSchool\n",
       "t = -12.366, df = 11, p-value = 8.536e-08\n",
       "alternative hypothesis: true difference in means is not equal to 0\n",
       "95 percent confidence interval:\n",
       " -4.839552 -3.377114\n",
       "sample estimates:\n",
       "mean of the differences \n",
       "              -4.108333 \n"
      ]
     },
     "metadata": {},
     "output_type": "display_data"
    }
   ],
   "source": [
    "t.test(df_employment$College, df_employment$HiSchool, paired = T)"
   ]
  },
  {
   "cell_type": "markdown",
   "metadata": {
    "collapsed": true
   },
   "source": [
    "## Počáteční investice amerických živnostníků\n",
    "\n",
    "Datová množina v souboru `startups.csv` obsahuje počáteční investice potřebné pro nastartování byznysu v určité oblasti malého podnikání, částky jsou v jednotkách tisíců dolarů. Na hladině pravděpodobnosti 95% zjistěte, zda je mezi počátečními investicemi v různých oblastech významný rozdíl. Mezi kterými oblastmi je konkrétně největší rozdíl? Jakou oblast byste si sami vybrali, pokud byste v ní chtěli začít podnikat?"
   ]
  },
  {
   "cell_type": "code",
   "execution_count": 11,
   "metadata": {},
   "outputs": [
    {
     "data": {
      "text/html": [
       "<table>\n",
       "<thead><tr><th scope=col>pizza</th><th scope=col>bakery</th><th scope=col>shoe_shop</th><th scope=col>gift_shop</th><th scope=col>pet_store</th></tr></thead>\n",
       "<tbody>\n",
       "\t<tr><td> 80</td><td>150</td><td> 48</td><td>100</td><td> 25</td></tr>\n",
       "\t<tr><td>125</td><td> 40</td><td> 35</td><td> 96</td><td> 80</td></tr>\n",
       "\t<tr><td> 35</td><td>120</td><td> 95</td><td> 35</td><td> 30</td></tr>\n",
       "\t<tr><td> 58</td><td> 75</td><td> 45</td><td> 99</td><td> 35</td></tr>\n",
       "\t<tr><td>110</td><td>160</td><td> 75</td><td> 75</td><td> 30</td></tr>\n",
       "\t<tr><td>140</td><td> 60</td><td>115</td><td>150</td><td> 28</td></tr>\n",
       "\t<tr><td> 97</td><td> 45</td><td> 42</td><td> 45</td><td> 20</td></tr>\n",
       "\t<tr><td> 50</td><td>100</td><td> 78</td><td>100</td><td> 75</td></tr>\n",
       "\t<tr><td> 65</td><td> 86</td><td> 65</td><td>120</td><td> 48</td></tr>\n",
       "\t<tr><td> 79</td><td> 87</td><td>125</td><td> 50</td><td> 20</td></tr>\n",
       "\t<tr><td> 35</td><td> 90</td><td> NA</td><td> NA</td><td> 50</td></tr>\n",
       "\t<tr><td> 85</td><td> NA</td><td> NA</td><td> NA</td><td> 75</td></tr>\n",
       "\t<tr><td>120</td><td> NA</td><td> NA</td><td> NA</td><td> 55</td></tr>\n",
       "\t<tr><td> NA</td><td> NA</td><td> NA</td><td> NA</td><td> 60</td></tr>\n",
       "\t<tr><td> NA</td><td> NA</td><td> NA</td><td> NA</td><td> 85</td></tr>\n",
       "\t<tr><td> NA</td><td> NA</td><td> NA</td><td> NA</td><td>110</td></tr>\n",
       "</tbody>\n",
       "</table>\n"
      ],
      "text/latex": [
       "\\begin{tabular}{r|lllll}\n",
       " pizza & bakery & shoe\\_shop & gift\\_shop & pet\\_store\\\\\n",
       "\\hline\n",
       "\t  80 & 150 &  48 & 100 &  25\\\\\n",
       "\t 125 &  40 &  35 &  96 &  80\\\\\n",
       "\t  35 & 120 &  95 &  35 &  30\\\\\n",
       "\t  58 &  75 &  45 &  99 &  35\\\\\n",
       "\t 110 & 160 &  75 &  75 &  30\\\\\n",
       "\t 140 &  60 & 115 & 150 &  28\\\\\n",
       "\t  97 &  45 &  42 &  45 &  20\\\\\n",
       "\t  50 & 100 &  78 & 100 &  75\\\\\n",
       "\t  65 &  86 &  65 & 120 &  48\\\\\n",
       "\t  79 &  87 & 125 &  50 &  20\\\\\n",
       "\t  35 &  90 &  NA &  NA &  50\\\\\n",
       "\t  85 &  NA &  NA &  NA &  75\\\\\n",
       "\t 120 &  NA &  NA &  NA &  55\\\\\n",
       "\t  NA &  NA &  NA &  NA &  60\\\\\n",
       "\t  NA &  NA &  NA &  NA &  85\\\\\n",
       "\t  NA &  NA &  NA &  NA & 110\\\\\n",
       "\\end{tabular}\n"
      ],
      "text/markdown": [
       "\n",
       "pizza | bakery | shoe_shop | gift_shop | pet_store | \n",
       "|---|---|---|---|---|---|---|---|---|---|---|---|---|---|---|---|\n",
       "|  80 | 150 |  48 | 100 |  25 | \n",
       "| 125 |  40 |  35 |  96 |  80 | \n",
       "|  35 | 120 |  95 |  35 |  30 | \n",
       "|  58 |  75 |  45 |  99 |  35 | \n",
       "| 110 | 160 |  75 |  75 |  30 | \n",
       "| 140 |  60 | 115 | 150 |  28 | \n",
       "|  97 |  45 |  42 |  45 |  20 | \n",
       "|  50 | 100 |  78 | 100 |  75 | \n",
       "|  65 |  86 |  65 | 120 |  48 | \n",
       "|  79 |  87 | 125 |  50 |  20 | \n",
       "|  35 |  90 |  NA |  NA |  50 | \n",
       "|  85 |  NA |  NA |  NA |  75 | \n",
       "| 120 |  NA |  NA |  NA |  55 | \n",
       "|  NA |  NA |  NA |  NA |  60 | \n",
       "|  NA |  NA |  NA |  NA |  85 | \n",
       "|  NA |  NA |  NA |  NA | 110 | \n",
       "\n",
       "\n"
      ],
      "text/plain": [
       "   pizza bakery shoe_shop gift_shop pet_store\n",
       "1   80   150     48       100        25      \n",
       "2  125    40     35        96        80      \n",
       "3   35   120     95        35        30      \n",
       "4   58    75     45        99        35      \n",
       "5  110   160     75        75        30      \n",
       "6  140    60    115       150        28      \n",
       "7   97    45     42        45        20      \n",
       "8   50   100     78       100        75      \n",
       "9   65    86     65       120        48      \n",
       "10  79    87    125        50        20      \n",
       "11  35    90     NA        NA        50      \n",
       "12  85    NA     NA        NA        75      \n",
       "13 120    NA     NA        NA        55      \n",
       "14  NA    NA     NA        NA        60      \n",
       "15  NA    NA     NA        NA        85      \n",
       "16  NA    NA     NA        NA       110      "
      ]
     },
     "metadata": {},
     "output_type": "display_data"
    }
   ],
   "source": [
    "df_startups <- read.table(\"startups.csv\", header = T, sep = \",\")\n",
    "df_startups"
   ]
  },
  {
   "cell_type": "code",
   "execution_count": 12,
   "metadata": {},
   "outputs": [
    {
     "data": {
      "text/html": [
       "<dl>\n",
       "\t<dt>$pizza</dt>\n",
       "\t\t<dd><ol class=list-inline>\n",
       "\t<li>80</li>\n",
       "\t<li>125</li>\n",
       "\t<li>35</li>\n",
       "\t<li>58</li>\n",
       "\t<li>110</li>\n",
       "\t<li>140</li>\n",
       "\t<li>97</li>\n",
       "\t<li>50</li>\n",
       "\t<li>65</li>\n",
       "\t<li>79</li>\n",
       "\t<li>35</li>\n",
       "\t<li>85</li>\n",
       "\t<li>120</li>\n",
       "</ol>\n",
       "</dd>\n",
       "\t<dt>$bakery</dt>\n",
       "\t\t<dd><ol class=list-inline>\n",
       "\t<li>150</li>\n",
       "\t<li>40</li>\n",
       "\t<li>120</li>\n",
       "\t<li>75</li>\n",
       "\t<li>160</li>\n",
       "\t<li>60</li>\n",
       "\t<li>45</li>\n",
       "\t<li>100</li>\n",
       "\t<li>86</li>\n",
       "\t<li>87</li>\n",
       "\t<li>90</li>\n",
       "</ol>\n",
       "</dd>\n",
       "\t<dt>$shoe_shop</dt>\n",
       "\t\t<dd><ol class=list-inline>\n",
       "\t<li>48</li>\n",
       "\t<li>35</li>\n",
       "\t<li>95</li>\n",
       "\t<li>45</li>\n",
       "\t<li>75</li>\n",
       "\t<li>115</li>\n",
       "\t<li>42</li>\n",
       "\t<li>78</li>\n",
       "\t<li>65</li>\n",
       "\t<li>125</li>\n",
       "</ol>\n",
       "</dd>\n",
       "\t<dt>$gift_shop</dt>\n",
       "\t\t<dd><ol class=list-inline>\n",
       "\t<li>100</li>\n",
       "\t<li>96</li>\n",
       "\t<li>35</li>\n",
       "\t<li>99</li>\n",
       "\t<li>75</li>\n",
       "\t<li>150</li>\n",
       "\t<li>45</li>\n",
       "\t<li>100</li>\n",
       "\t<li>120</li>\n",
       "\t<li>50</li>\n",
       "</ol>\n",
       "</dd>\n",
       "\t<dt>$pet_store</dt>\n",
       "\t\t<dd><ol class=list-inline>\n",
       "\t<li>25</li>\n",
       "\t<li>80</li>\n",
       "\t<li>30</li>\n",
       "\t<li>35</li>\n",
       "\t<li>30</li>\n",
       "\t<li>28</li>\n",
       "\t<li>20</li>\n",
       "\t<li>75</li>\n",
       "\t<li>48</li>\n",
       "\t<li>20</li>\n",
       "\t<li>50</li>\n",
       "\t<li>75</li>\n",
       "\t<li>55</li>\n",
       "\t<li>60</li>\n",
       "\t<li>85</li>\n",
       "\t<li>110</li>\n",
       "</ol>\n",
       "</dd>\n",
       "</dl>\n"
      ],
      "text/latex": [
       "\\begin{description}\n",
       "\\item[\\$pizza] \\begin{enumerate*}\n",
       "\\item 80\n",
       "\\item 125\n",
       "\\item 35\n",
       "\\item 58\n",
       "\\item 110\n",
       "\\item 140\n",
       "\\item 97\n",
       "\\item 50\n",
       "\\item 65\n",
       "\\item 79\n",
       "\\item 35\n",
       "\\item 85\n",
       "\\item 120\n",
       "\\end{enumerate*}\n",
       "\n",
       "\\item[\\$bakery] \\begin{enumerate*}\n",
       "\\item 150\n",
       "\\item 40\n",
       "\\item 120\n",
       "\\item 75\n",
       "\\item 160\n",
       "\\item 60\n",
       "\\item 45\n",
       "\\item 100\n",
       "\\item 86\n",
       "\\item 87\n",
       "\\item 90\n",
       "\\end{enumerate*}\n",
       "\n",
       "\\item[\\$shoe\\_shop] \\begin{enumerate*}\n",
       "\\item 48\n",
       "\\item 35\n",
       "\\item 95\n",
       "\\item 45\n",
       "\\item 75\n",
       "\\item 115\n",
       "\\item 42\n",
       "\\item 78\n",
       "\\item 65\n",
       "\\item 125\n",
       "\\end{enumerate*}\n",
       "\n",
       "\\item[\\$gift\\_shop] \\begin{enumerate*}\n",
       "\\item 100\n",
       "\\item 96\n",
       "\\item 35\n",
       "\\item 99\n",
       "\\item 75\n",
       "\\item 150\n",
       "\\item 45\n",
       "\\item 100\n",
       "\\item 120\n",
       "\\item 50\n",
       "\\end{enumerate*}\n",
       "\n",
       "\\item[\\$pet\\_store] \\begin{enumerate*}\n",
       "\\item 25\n",
       "\\item 80\n",
       "\\item 30\n",
       "\\item 35\n",
       "\\item 30\n",
       "\\item 28\n",
       "\\item 20\n",
       "\\item 75\n",
       "\\item 48\n",
       "\\item 20\n",
       "\\item 50\n",
       "\\item 75\n",
       "\\item 55\n",
       "\\item 60\n",
       "\\item 85\n",
       "\\item 110\n",
       "\\end{enumerate*}\n",
       "\n",
       "\\end{description}\n"
      ],
      "text/markdown": [
       "$pizza\n",
       ":   1. 80\n",
       "2. 125\n",
       "3. 35\n",
       "4. 58\n",
       "5. 110\n",
       "6. 140\n",
       "7. 97\n",
       "8. 50\n",
       "9. 65\n",
       "10. 79\n",
       "11. 35\n",
       "12. 85\n",
       "13. 120\n",
       "\n",
       "\n",
       "\n",
       "$bakery\n",
       ":   1. 150\n",
       "2. 40\n",
       "3. 120\n",
       "4. 75\n",
       "5. 160\n",
       "6. 60\n",
       "7. 45\n",
       "8. 100\n",
       "9. 86\n",
       "10. 87\n",
       "11. 90\n",
       "\n",
       "\n",
       "\n",
       "$shoe_shop\n",
       ":   1. 48\n",
       "2. 35\n",
       "3. 95\n",
       "4. 45\n",
       "5. 75\n",
       "6. 115\n",
       "7. 42\n",
       "8. 78\n",
       "9. 65\n",
       "10. 125\n",
       "\n",
       "\n",
       "\n",
       "$gift_shop\n",
       ":   1. 100\n",
       "2. 96\n",
       "3. 35\n",
       "4. 99\n",
       "5. 75\n",
       "6. 150\n",
       "7. 45\n",
       "8. 100\n",
       "9. 120\n",
       "10. 50\n",
       "\n",
       "\n",
       "\n",
       "$pet_store\n",
       ":   1. 25\n",
       "2. 80\n",
       "3. 30\n",
       "4. 35\n",
       "5. 30\n",
       "6. 28\n",
       "7. 20\n",
       "8. 75\n",
       "9. 48\n",
       "10. 20\n",
       "11. 50\n",
       "12. 75\n",
       "13. 55\n",
       "14. 60\n",
       "15. 85\n",
       "16. 110\n",
       "\n",
       "\n",
       "\n",
       "\n",
       "\n"
      ],
      "text/plain": [
       "$pizza\n",
       " [1]  80 125  35  58 110 140  97  50  65  79  35  85 120\n",
       "\n",
       "$bakery\n",
       " [1] 150  40 120  75 160  60  45 100  86  87  90\n",
       "\n",
       "$shoe_shop\n",
       " [1]  48  35  95  45  75 115  42  78  65 125\n",
       "\n",
       "$gift_shop\n",
       " [1] 100  96  35  99  75 150  45 100 120  50\n",
       "\n",
       "$pet_store\n",
       " [1]  25  80  30  35  30  28  20  75  48  20  50  75  55  60  85 110\n"
      ]
     },
     "metadata": {},
     "output_type": "display_data"
    }
   ],
   "source": [
    "ls_startups <- lapply(as.list(df_startups), function(x) x[!is.na(x)])\n",
    "ls_startups"
   ]
  },
  {
   "cell_type": "code",
   "execution_count": 13,
   "metadata": {},
   "outputs": [
    {
     "data": {
      "image/png": "[encoded data removed]",
      "text/plain": [
       "plot without title"
      ]
     },
     "metadata": {},
     "output_type": "display_data"
    }
   ],
   "source": [
    "boxplot(\n",
    "    ls_startups[names(ls_startups)]\n",
    ")"
   ]
  },
  {
   "cell_type": "code",
   "execution_count": 14,
   "metadata": {},
   "outputs": [
    {
     "data": {
      "text/html": [
       "<table>\n",
       "<thead><tr><th scope=col>name</th><th scope=col>ls_startups..name..</th></tr></thead>\n",
       "<tbody>\n",
       "\t<tr><td>pizza</td><td> 80  </td></tr>\n",
       "\t<tr><td>pizza</td><td>125  </td></tr>\n",
       "\t<tr><td>pizza</td><td> 35  </td></tr>\n",
       "\t<tr><td>pizza</td><td> 58  </td></tr>\n",
       "\t<tr><td>pizza</td><td>110  </td></tr>\n",
       "\t<tr><td>pizza</td><td>140  </td></tr>\n",
       "</tbody>\n",
       "</table>\n"
      ],
      "text/latex": [
       "\\begin{tabular}{r|ll}\n",
       " name & ls\\_startups..name..\\\\\n",
       "\\hline\n",
       "\t pizza &  80  \\\\\n",
       "\t pizza & 125  \\\\\n",
       "\t pizza &  35  \\\\\n",
       "\t pizza &  58  \\\\\n",
       "\t pizza & 110  \\\\\n",
       "\t pizza & 140  \\\\\n",
       "\\end{tabular}\n"
      ],
      "text/markdown": [
       "\n",
       "name | ls_startups..name.. | \n",
       "|---|---|---|---|---|---|\n",
       "| pizza |  80   | \n",
       "| pizza | 125   | \n",
       "| pizza |  35   | \n",
       "| pizza |  58   | \n",
       "| pizza | 110   | \n",
       "| pizza | 140   | \n",
       "\n",
       "\n"
      ],
      "text/plain": [
       "  name  ls_startups..name..\n",
       "1 pizza  80                \n",
       "2 pizza 125                \n",
       "3 pizza  35                \n",
       "4 pizza  58                \n",
       "5 pizza 110                \n",
       "6 pizza 140                "
      ]
     },
     "metadata": {},
     "output_type": "display_data"
    }
   ],
   "source": [
    "df_startups_aov <- NULL\n",
    "for (name in names(ls_startups)) {\n",
    "    df_startups_aov <- rbind(df_startups_aov, data.frame(name, ls_startups[[name]]))\n",
    "}\n",
    "head(df_startups_aov)"
   ]
  },
  {
   "cell_type": "code",
   "execution_count": 15,
   "metadata": {},
   "outputs": [
    {
     "data": {
      "text/html": [
       "<table>\n",
       "<thead><tr><th scope=col>StartupType</th><th scope=col>Cost</th></tr></thead>\n",
       "<tbody>\n",
       "\t<tr><td>pizza</td><td> 80  </td></tr>\n",
       "\t<tr><td>pizza</td><td>125  </td></tr>\n",
       "\t<tr><td>pizza</td><td> 35  </td></tr>\n",
       "\t<tr><td>pizza</td><td> 58  </td></tr>\n",
       "\t<tr><td>pizza</td><td>110  </td></tr>\n",
       "\t<tr><td>pizza</td><td>140  </td></tr>\n",
       "</tbody>\n",
       "</table>\n"
      ],
      "text/latex": [
       "\\begin{tabular}{r|ll}\n",
       " StartupType & Cost\\\\\n",
       "\\hline\n",
       "\t pizza &  80  \\\\\n",
       "\t pizza & 125  \\\\\n",
       "\t pizza &  35  \\\\\n",
       "\t pizza &  58  \\\\\n",
       "\t pizza & 110  \\\\\n",
       "\t pizza & 140  \\\\\n",
       "\\end{tabular}\n"
      ],
      "text/markdown": [
       "\n",
       "StartupType | Cost | \n",
       "|---|---|---|---|---|---|\n",
       "| pizza |  80   | \n",
       "| pizza | 125   | \n",
       "| pizza |  35   | \n",
       "| pizza |  58   | \n",
       "| pizza | 110   | \n",
       "| pizza | 140   | \n",
       "\n",
       "\n"
      ],
      "text/plain": [
       "  StartupType Cost\n",
       "1 pizza        80 \n",
       "2 pizza       125 \n",
       "3 pizza        35 \n",
       "4 pizza        58 \n",
       "5 pizza       110 \n",
       "6 pizza       140 "
      ]
     },
     "metadata": {},
     "output_type": "display_data"
    },
    {
     "data": {
      "text/html": [
       "<ol class=list-inline>\n",
       "\t<li>'pizza'</li>\n",
       "\t<li>'bakery'</li>\n",
       "\t<li>'shoe_shop'</li>\n",
       "\t<li>'gift_shop'</li>\n",
       "\t<li>'pet_store'</li>\n",
       "</ol>\n"
      ],
      "text/latex": [
       "\\begin{enumerate*}\n",
       "\\item 'pizza'\n",
       "\\item 'bakery'\n",
       "\\item 'shoe\\_shop'\n",
       "\\item 'gift\\_shop'\n",
       "\\item 'pet\\_store'\n",
       "\\end{enumerate*}\n"
      ],
      "text/markdown": [
       "1. 'pizza'\n",
       "2. 'bakery'\n",
       "3. 'shoe_shop'\n",
       "4. 'gift_shop'\n",
       "5. 'pet_store'\n",
       "\n",
       "\n"
      ],
      "text/plain": [
       "[1] \"pizza\"     \"bakery\"    \"shoe_shop\" \"gift_shop\" \"pet_store\""
      ]
     },
     "metadata": {},
     "output_type": "display_data"
    }
   ],
   "source": [
    "colnames(df_startups_aov) <- c(\"StartupType\", \"Cost\")\n",
    "head(df_startups_aov)\n",
    "levels(df_startups_aov[[\"StartupType\"]])"
   ]
  },
  {
   "cell_type": "code",
   "execution_count": 16,
   "metadata": {},
   "outputs": [
    {
     "data": {
      "text/plain": [
       "                            Df Sum Sq Mean Sq F value Pr(>F)  \n",
       "df_startups_aov$StartupType  4  14298    3575   3.246 0.0184 *\n",
       "Residuals                   55  60561    1101                 \n",
       "---\n",
       "Signif. codes:  0 ‘***’ 0.001 ‘**’ 0.01 ‘*’ 0.05 ‘.’ 0.1 ‘ ’ 1"
      ]
     },
     "metadata": {},
     "output_type": "display_data"
    }
   ],
   "source": [
    "summary(aov(df_startups_aov$Cost ~ df_startups_aov$StartupType))"
   ]
  },
  {
   "cell_type": "code",
   "execution_count": 17,
   "metadata": {},
   "outputs": [
    {
     "data": {
      "text/plain": [
       "  Tukey multiple comparisons of means\n",
       "    95% family-wise confidence level\n",
       "\n",
       "Fit: aov(formula = df_startups_aov$Cost ~ df_startups_aov$StartupType)\n",
       "\n",
       "$`df_startups_aov$StartupType`\n",
       "                          diff       lwr       upr     p adj\n",
       "bakery-pizza          9.090909 -29.24903 47.430852 0.9622775\n",
       "shoe_shop-pizza     -10.700000 -50.06462 28.664623 0.9390656\n",
       "gift_shop-pizza       4.000000 -35.36462 43.364623 0.9984797\n",
       "pet_store-pizza     -31.375000 -66.31969  3.569690 0.0982134\n",
       "shoe_shop-bakery    -19.790909 -60.68186 21.100037 0.6522120\n",
       "gift_shop-bakery     -5.090909 -45.98186 35.800037 0.9966432\n",
       "pet_store-bakery    -40.465909 -77.12143 -3.810387 0.0235175\n",
       "gift_shop-shoe_shop  14.700000 -27.15322 56.553218 0.8584474\n",
       "pet_store-shoe_shop -20.675000 -58.40098 17.050981 0.5379762\n",
       "pet_store-gift_shop -35.375000 -73.10098  2.350981 0.0761112\n"
      ]
     },
     "metadata": {},
     "output_type": "display_data"
    }
   ],
   "source": [
    "tukey <- TukeyHSD(aov(df_startups_aov$Cost ~ df_startups_aov$StartupType))\n",
    "tukey"
   ]
  },
  {
   "cell_type": "code",
   "execution_count": 18,
   "metadata": {},
   "outputs": [
    {
     "data": {
      "image/png": "[encoded data removed]",
      "text/plain": [
       "Plot with title “95% family-wise confidence level\n",
       "”"
      ]
     },
     "metadata": {},
     "output_type": "display_data"
    }
   ],
   "source": [
    "plot(tukey)"
   ]
  },
  {
   "cell_type": "code",
   "execution_count": null,
   "metadata": {
    "collapsed": true
   },
   "outputs": [],
   "source": []
  }
 ],
 "metadata": {
  "kernelspec": {
   "display_name": "R",
   "language": "R",
   "name": "ir"
  },
  "language_info": {
   "codemirror_mode": "r",
   "file_extension": ".r",
   "mimetype": "text/x-r-source",
   "name": "R",
   "pygments_lexer": "r",
   "version": "3.3.2"
  },
  "toc": {
   "nav_menu": {},
   "number_sections": true,
   "sideBar": true,
   "skip_h1_title": true,
   "toc_cell": true,
   "toc_position": {},
   "toc_section_display": "block",
   "toc_window_display": false
  }
 },
 "nbformat": 4,
 "nbformat_minor": 2
}
