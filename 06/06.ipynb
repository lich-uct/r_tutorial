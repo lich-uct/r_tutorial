{
 "cells": [
  {
   "cell_type": "markdown",
   "metadata": {
    "toc": "true"
   },
   "source": [
    " # Table of Contents\n",
    "<div class=\"toc\" style=\"margin-top: 1em;\"><ul class=\"toc-item\" id=\"toc-level0\"><li><span><a href=\"http://localhost:8888/notebooks/06/06.ipynb#Modelový-dataset\" data-toc-modified-id=\"Modelový-dataset-1\"><span class=\"toc-item-num\">1&nbsp;&nbsp;</span>Modelový dataset</a></span></li><li><span><a href=\"http://localhost:8888/notebooks/06/06.ipynb#Popisná-statisitka\" data-toc-modified-id=\"Popisná-statisitka-2\"><span class=\"toc-item-num\">2&nbsp;&nbsp;</span>Popisná statisitka</a></span><ul class=\"toc-item\"><li><span><a href=\"http://localhost:8888/notebooks/06/06.ipynb#Shrnutí-a-krabicové-grafy\" data-toc-modified-id=\"Shrnutí-a-krabicové-grafy-2.1\"><span class=\"toc-item-num\">2.1&nbsp;&nbsp;</span>Shrnutí a krabicové grafy</a></span></li><li><span><a href=\"http://localhost:8888/notebooks/06/06.ipynb#Popisné-statistiky-jednotlivě\" data-toc-modified-id=\"Popisné-statistiky-jednotlivě-2.2\"><span class=\"toc-item-num\">2.2&nbsp;&nbsp;</span>Popisné statistiky jednotlivě</a></span></li><li><span><a href=\"http://localhost:8888/notebooks/06/06.ipynb#Histogram\" data-toc-modified-id=\"Histogram-2.3\"><span class=\"toc-item-num\">2.3&nbsp;&nbsp;</span>Histogram</a></span></li></ul></li></ul></div>"
   ]
  },
  {
   "cell_type": "markdown",
   "metadata": {},
   "source": [
    "# Popisná statistika v R\n",
    "\n",
    "V této krátké kapitole se stručně seznámíme se základními funkcemi popisné statiskiky, které nám R nabízí. Jelikož je R na statistiku přímo zaměřené, je tato paleta poměrně pestrá. My si zde tedy ukážeme jen to, co asi využijete nejčastěji.\n",
    "\n",
    "## Modelový dataset\n",
    "\n",
    "Jako příklad budeme v této lekci používat výsledky studie, která proběhla v roce 2015 a zaměřila se na konzumaci alkoholu ve světě. Surová data z Global Health Observatory Data Repository (http://apps.who.int/ghodata/) máme k dispozici ve formátu CSV, takže jejich načtení do datové tabulky je poměrně snadné:"
   ]
  },
  {
   "cell_type": "code",
   "execution_count": 1,
   "metadata": {
    "collapsed": true
   },
   "outputs": [],
   "source": [
    "df_alkohol <- read.table(\n",
    "    \"alcohol_data.csv\"\n",
    "    , sep=\",\"\n",
    "    , header = T\n",
    "    , quote = '\"'\n",
    "    , stringsAsFactors = F\n",
    ")"
   ]
  },
  {
   "cell_type": "markdown",
   "metadata": {},
   "source": [
    "a vypadají asi takto:"
   ]
  },
  {
   "cell_type": "code",
   "execution_count": 2,
   "metadata": {},
   "outputs": [
    {
     "data": {
      "text/html": [
       "<table>\n",
       "<thead><tr><th scope=col>Series.Name</th><th scope=col>Series.Code</th><th scope=col>Country.Name</th><th scope=col>Country.Code</th><th scope=col>X1960..YR1960.</th><th scope=col>X1961..YR1961.</th><th scope=col>X1962..YR1962.</th><th scope=col>X1963..YR1963.</th><th scope=col>X1964..YR1964.</th><th scope=col>X1965..YR1965.</th><th scope=col>⋯</th><th scope=col>X2007..YR2007.</th><th scope=col>X2008..YR2008.</th><th scope=col>X2009..YR2009.</th><th scope=col>X2010..YR2010.</th><th scope=col>X2011..YR2011.</th><th scope=col>X2012..YR2012.</th><th scope=col>X2013..YR2013.</th><th scope=col>X2014..YR2014.</th><th scope=col>X2015..YR2015.</th><th scope=col>X2016..YR2016.</th></tr></thead>\n",
       "<tbody>\n",
       "\t<tr><td>Total alcohol consumption per capita (liters of pure alcohol, projected estimates, 15+ years of age)</td><td>SH.ALC.PCAP.LI                                                                                      </td><td>Afghanistan                                                                                         </td><td>AFG                                                                                                 </td><td>..                                                                                                  </td><td>..                                                                                                  </td><td>..                                                                                                  </td><td>..                                                                                                  </td><td>..                                                                                                  </td><td>..                                                                                                  </td><td>⋯                                                                                                   </td><td>..                                                                                                  </td><td>..                                                                                                  </td><td>..                                                                                                  </td><td>..                                                                                                  </td><td>..                                                                                                  </td><td>..                                                                                                  </td><td>..                                                                                                  </td><td>..                                                                                                  </td><td>1                                                                                                   </td><td>..                                                                                                  </td></tr>\n",
       "\t<tr><td>Total alcohol consumption per capita (liters of pure alcohol, projected estimates, 15+ years of age)</td><td>SH.ALC.PCAP.LI                                                                                      </td><td>Albania                                                                                             </td><td>ALB                                                                                                 </td><td>..                                                                                                  </td><td>..                                                                                                  </td><td>..                                                                                                  </td><td>..                                                                                                  </td><td>..                                                                                                  </td><td>..                                                                                                  </td><td>⋯                                                                                                   </td><td>..                                                                                                  </td><td>..                                                                                                  </td><td>..                                                                                                  </td><td>..                                                                                                  </td><td>..                                                                                                  </td><td>..                                                                                                  </td><td>..                                                                                                  </td><td>..                                                                                                  </td><td>6.6                                                                                                 </td><td>..                                                                                                  </td></tr>\n",
       "</tbody>\n",
       "</table>\n"
      ],
      "text/latex": [
       "\\begin{tabular}{r|lllllllllllllllllllllllllllllllllllllllllllllllllllllllllllll}\n",
       " Series.Name & Series.Code & Country.Name & Country.Code & X1960..YR1960. & X1961..YR1961. & X1962..YR1962. & X1963..YR1963. & X1964..YR1964. & X1965..YR1965. & ⋯ & X2007..YR2007. & X2008..YR2008. & X2009..YR2009. & X2010..YR2010. & X2011..YR2011. & X2012..YR2012. & X2013..YR2013. & X2014..YR2014. & X2015..YR2015. & X2016..YR2016.\\\\\n",
       "\\hline\n",
       "\t Total alcohol consumption per capita (liters of pure alcohol, projected estimates, 15+ years of age) & SH.ALC.PCAP.LI                                                                                       & Afghanistan                                                                                          & AFG                                                                                                  & ..                                                                                                   & ..                                                                                                   & ..                                                                                                   & ..                                                                                                   & ..                                                                                                   & ..                                                                                                   & ⋯                                                                                                    & ..                                                                                                   & ..                                                                                                   & ..                                                                                                   & ..                                                                                                   & ..                                                                                                   & ..                                                                                                   & ..                                                                                                   & ..                                                                                                   & 1                                                                                                    & ..                                                                                                  \\\\\n",
       "\t Total alcohol consumption per capita (liters of pure alcohol, projected estimates, 15+ years of age) & SH.ALC.PCAP.LI                                                                                       & Albania                                                                                              & ALB                                                                                                  & ..                                                                                                   & ..                                                                                                   & ..                                                                                                   & ..                                                                                                   & ..                                                                                                   & ..                                                                                                   & ⋯                                                                                                    & ..                                                                                                   & ..                                                                                                   & ..                                                                                                   & ..                                                                                                   & ..                                                                                                   & ..                                                                                                   & ..                                                                                                   & ..                                                                                                   & 6.6                                                                                                  & ..                                                                                                  \\\\\n",
       "\\end{tabular}\n"
      ],
      "text/markdown": [
       "\n",
       "Series.Name | Series.Code | Country.Name | Country.Code | X1960..YR1960. | X1961..YR1961. | X1962..YR1962. | X1963..YR1963. | X1964..YR1964. | X1965..YR1965. | ⋯ | X2007..YR2007. | X2008..YR2008. | X2009..YR2009. | X2010..YR2010. | X2011..YR2011. | X2012..YR2012. | X2013..YR2013. | X2014..YR2014. | X2015..YR2015. | X2016..YR2016. | \n",
       "|---|---|\n",
       "| Total alcohol consumption per capita (liters of pure alcohol, projected estimates, 15+ years of age) | SH.ALC.PCAP.LI                                                                                       | Afghanistan                                                                                          | AFG                                                                                                  | ..                                                                                                   | ..                                                                                                   | ..                                                                                                   | ..                                                                                                   | ..                                                                                                   | ..                                                                                                   | ⋯                                                                                                    | ..                                                                                                   | ..                                                                                                   | ..                                                                                                   | ..                                                                                                   | ..                                                                                                   | ..                                                                                                   | ..                                                                                                   | ..                                                                                                   | 1                                                                                                    | ..                                                                                                   | \n",
       "| Total alcohol consumption per capita (liters of pure alcohol, projected estimates, 15+ years of age) | SH.ALC.PCAP.LI                                                                                       | Albania                                                                                              | ALB                                                                                                  | ..                                                                                                   | ..                                                                                                   | ..                                                                                                   | ..                                                                                                   | ..                                                                                                   | ..                                                                                                   | ⋯                                                                                                    | ..                                                                                                   | ..                                                                                                   | ..                                                                                                   | ..                                                                                                   | ..                                                                                                   | ..                                                                                                   | ..                                                                                                   | ..                                                                                                   | 6.6                                                                                                  | ..                                                                                                   | \n",
       "\n",
       "\n"
      ],
      "text/plain": [
       "  Series.Name                                                                                         \n",
       "1 Total alcohol consumption per capita (liters of pure alcohol, projected estimates, 15+ years of age)\n",
       "2 Total alcohol consumption per capita (liters of pure alcohol, projected estimates, 15+ years of age)\n",
       "  Series.Code    Country.Name Country.Code X1960..YR1960. X1961..YR1961.\n",
       "1 SH.ALC.PCAP.LI Afghanistan  AFG          ..             ..            \n",
       "2 SH.ALC.PCAP.LI Albania      ALB          ..             ..            \n",
       "  X1962..YR1962. X1963..YR1963. X1964..YR1964. X1965..YR1965. ⋯ X2007..YR2007.\n",
       "1 ..             ..             ..             ..             ⋯ ..            \n",
       "2 ..             ..             ..             ..             ⋯ ..            \n",
       "  X2008..YR2008. X2009..YR2009. X2010..YR2010. X2011..YR2011. X2012..YR2012.\n",
       "1 ..             ..             ..             ..             ..            \n",
       "2 ..             ..             ..             ..             ..            \n",
       "  X2013..YR2013. X2014..YR2014. X2015..YR2015. X2016..YR2016.\n",
       "1 ..             ..             1              ..            \n",
       "2 ..             ..             6.6            ..            "
      ]
     },
     "metadata": {},
     "output_type": "display_data"
    }
   ],
   "source": [
    "head(df_alkohol, 2)"
   ]
  },
  {
   "cell_type": "markdown",
   "metadata": {},
   "source": [
    "Každá řádka tedy obsahuje data pro konkrétní zemi a každý sloupec potom různé informace. Vidíme, že tento datový soubor obashuje poměrně hodně prázdých sloupců. Studie však probíhala pouze v roce 2015, takže pro nás je relevantní pouze sloupec \"X2015..YR2015.\" (v původních datech označený jako \"2015 [YR2015]\") a popřípadě kód nebo název země, sloupce \"Country.Name\" nebo \"Country.Code\". Důvodem k přejmenování sloupců je to, že původní jména obsahují znaky, které mají v R speciální význam nebo jinak kolidují se syntaxí jazyka. Nemohli bychom tak k nim třeba jednoduše přistupovat pomocí operátoru `$`. Čili například názvy sloupců, které začínají na číslo, mají na začátku velké \"X\", neboť názvy proměnných v R nesmí začínat na čísla.\n",
    "\n",
    "Pojďme si teď  ale z našich dat vytáhnout jen to, co nás opravdu zajímá. Tedy pouze informace o zemi a kolik litrů vypitého alkoholu v ní ročně připadá na jednoho obyvatele:"
   ]
  },
  {
   "cell_type": "code",
   "execution_count": 3,
   "metadata": {},
   "outputs": [
    {
     "data": {
      "text/html": [
       "<table>\n",
       "<thead><tr><th scope=col>Country.Name</th><th scope=col>X2015..YR2015.</th></tr></thead>\n",
       "<tbody>\n",
       "\t<tr><td>Afghanistan   </td><td>1             </td></tr>\n",
       "\t<tr><td>Albania       </td><td>6.6           </td></tr>\n",
       "\t<tr><td>Algeria       </td><td>0.6           </td></tr>\n",
       "\t<tr><td>American Samoa</td><td>..            </td></tr>\n",
       "\t<tr><td>Andorra       </td><td>9.1           </td></tr>\n",
       "\t<tr><td>Angola        </td><td>7.6           </td></tr>\n",
       "</tbody>\n",
       "</table>\n"
      ],
      "text/latex": [
       "\\begin{tabular}{r|ll}\n",
       " Country.Name & X2015..YR2015.\\\\\n",
       "\\hline\n",
       "\t Afghanistan    & 1             \\\\\n",
       "\t Albania        & 6.6           \\\\\n",
       "\t Algeria        & 0.6           \\\\\n",
       "\t American Samoa & ..            \\\\\n",
       "\t Andorra        & 9.1           \\\\\n",
       "\t Angola         & 7.6           \\\\\n",
       "\\end{tabular}\n"
      ],
      "text/markdown": [
       "\n",
       "Country.Name | X2015..YR2015. | \n",
       "|---|---|---|---|---|---|\n",
       "| Afghanistan    | 1              | \n",
       "| Albania        | 6.6            | \n",
       "| Algeria        | 0.6            | \n",
       "| American Samoa | ..             | \n",
       "| Andorra        | 9.1            | \n",
       "| Angola         | 7.6            | \n",
       "\n",
       "\n"
      ],
      "text/plain": [
       "  Country.Name   X2015..YR2015.\n",
       "1 Afghanistan    1             \n",
       "2 Albania        6.6           \n",
       "3 Algeria        0.6           \n",
       "4 American Samoa ..            \n",
       "5 Andorra        9.1           \n",
       "6 Angola         7.6           "
      ]
     },
     "metadata": {},
     "output_type": "display_data"
    }
   ],
   "source": [
    "head(df_alkohol[c(\"Country.Name\", \"X2015..YR2015.\")])"
   ]
  },
  {
   "cell_type": "markdown",
   "metadata": {},
   "source": [
    "Pojďme ještě změnit jména sloupců na něco čitelnějšího:"
   ]
  },
  {
   "cell_type": "code",
   "execution_count": 4,
   "metadata": {},
   "outputs": [
    {
     "data": {
      "text/html": [
       "<table>\n",
       "<thead><tr><th scope=col>Země</th><th scope=col>Konzumace</th></tr></thead>\n",
       "<tbody>\n",
       "\t<tr><td>Afghanistan   </td><td>1             </td></tr>\n",
       "\t<tr><td>Albania       </td><td>6.6           </td></tr>\n",
       "\t<tr><td>Algeria       </td><td>0.6           </td></tr>\n",
       "\t<tr><td>American Samoa</td><td>..            </td></tr>\n",
       "\t<tr><td>Andorra       </td><td>9.1           </td></tr>\n",
       "\t<tr><td>Angola        </td><td>7.6           </td></tr>\n",
       "</tbody>\n",
       "</table>\n"
      ],
      "text/latex": [
       "\\begin{tabular}{r|ll}\n",
       " Země & Konzumace\\\\\n",
       "\\hline\n",
       "\t Afghanistan    & 1             \\\\\n",
       "\t Albania        & 6.6           \\\\\n",
       "\t Algeria        & 0.6           \\\\\n",
       "\t American Samoa & ..            \\\\\n",
       "\t Andorra        & 9.1           \\\\\n",
       "\t Angola         & 7.6           \\\\\n",
       "\\end{tabular}\n"
      ],
      "text/markdown": [
       "\n",
       "Země | Konzumace | \n",
       "|---|---|---|---|---|---|\n",
       "| Afghanistan    | 1              | \n",
       "| Albania        | 6.6            | \n",
       "| Algeria        | 0.6            | \n",
       "| American Samoa | ..             | \n",
       "| Andorra        | 9.1            | \n",
       "| Angola         | 7.6            | \n",
       "\n",
       "\n"
      ],
      "text/plain": [
       "  Země           Konzumace\n",
       "1 Afghanistan    1        \n",
       "2 Albania        6.6      \n",
       "3 Algeria        0.6      \n",
       "4 American Samoa ..       \n",
       "5 Andorra        9.1      \n",
       "6 Angola         7.6      "
      ]
     },
     "metadata": {},
     "output_type": "display_data"
    }
   ],
   "source": [
    "df_alkohol <- df_alkohol[c(\"Country.Name\", \"X2015..YR2015.\")]\n",
    "colnames(df_alkohol) <- c(\"Země\", \"Konzumace\")\n",
    "head(df_alkohol)"
   ]
  },
  {
   "cell_type": "markdown",
   "metadata": {},
   "source": [
    "V našem sloupci \"Konzumace\" vidíme zváštní hodnotu \"..\", která zřejmě indikuje chybějící data, ale určitě není číslo. Pojďme si tedy zkontorlovat o jaký datový typ se jedná:"
   ]
  },
  {
   "cell_type": "code",
   "execution_count": 5,
   "metadata": {},
   "outputs": [
    {
     "data": {
      "text/html": [
       "'character'"
      ],
      "text/latex": [
       "'character'"
      ],
      "text/markdown": [
       "'character'"
      ],
      "text/plain": [
       "[1] \"character\""
      ]
     },
     "metadata": {},
     "output_type": "display_data"
    }
   ],
   "source": [
    "mode(df_alkohol$Konzumace)"
   ]
  },
  {
   "cell_type": "markdown",
   "metadata": {},
   "source": [
    "Data ve sloupci jsou tedy reprezentována řetězcem, ale my potřebujeme číslo. Snadno to můžeme vyřešit pomocí funkce `as.numeric`:"
   ]
  },
  {
   "cell_type": "code",
   "execution_count": 6,
   "metadata": {},
   "outputs": [
    {
     "name": "stderr",
     "output_type": "stream",
     "text": [
      "Warning message in eval(expr, envir, enclos):\n",
      "“NAs introduced by coercion”"
     ]
    }
   ],
   "source": [
    "df_alkohol$Konzumace <- as.numeric(df_alkohol$Konzumace)"
   ]
  },
  {
   "cell_type": "markdown",
   "metadata": {},
   "source": [
    "R nás varuje, že převedením některých položek došlo k vytvoření neznámých hodnot ve sloupci. V tomto případě to chceme, neboť se zřejmě jedná o data s chybějícími hodnotami:"
   ]
  },
  {
   "cell_type": "code",
   "execution_count": 7,
   "metadata": {},
   "outputs": [
    {
     "data": {
      "text/html": [
       "<table>\n",
       "<thead><tr><th scope=col>Země</th><th scope=col>Konzumace</th></tr></thead>\n",
       "<tbody>\n",
       "\t<tr><td>Afghanistan   </td><td>1.0           </td></tr>\n",
       "\t<tr><td>Albania       </td><td>6.6           </td></tr>\n",
       "\t<tr><td>Algeria       </td><td>0.6           </td></tr>\n",
       "\t<tr><td>American Samoa</td><td> NA           </td></tr>\n",
       "\t<tr><td>Andorra       </td><td>9.1           </td></tr>\n",
       "\t<tr><td>Angola        </td><td>7.6           </td></tr>\n",
       "</tbody>\n",
       "</table>\n"
      ],
      "text/latex": [
       "\\begin{tabular}{r|ll}\n",
       " Země & Konzumace\\\\\n",
       "\\hline\n",
       "\t Afghanistan    & 1.0           \\\\\n",
       "\t Albania        & 6.6           \\\\\n",
       "\t Algeria        & 0.6           \\\\\n",
       "\t American Samoa &  NA           \\\\\n",
       "\t Andorra        & 9.1           \\\\\n",
       "\t Angola         & 7.6           \\\\\n",
       "\\end{tabular}\n"
      ],
      "text/markdown": [
       "\n",
       "Země | Konzumace | \n",
       "|---|---|---|---|---|---|\n",
       "| Afghanistan    | 1.0            | \n",
       "| Albania        | 6.6            | \n",
       "| Algeria        | 0.6            | \n",
       "| American Samoa |  NA            | \n",
       "| Andorra        | 9.1            | \n",
       "| Angola         | 7.6            | \n",
       "\n",
       "\n"
      ],
      "text/plain": [
       "  Země           Konzumace\n",
       "1 Afghanistan    1.0      \n",
       "2 Albania        6.6      \n",
       "3 Algeria        0.6      \n",
       "4 American Samoa  NA      \n",
       "5 Andorra        9.1      \n",
       "6 Angola         7.6      "
      ]
     },
     "metadata": {},
     "output_type": "display_data"
    }
   ],
   "source": [
    "head(df_alkohol)"
   ]
  },
  {
   "cell_type": "markdown",
   "metadata": {},
   "source": [
    "Všimněte si použití slova \"zřejmě\" v předchozí větě. Slepě zde totiž předpokládáme, že jediná hodnota, která byla v datech převedena na `NA` je řetězec \"..\". Toto nemusí být pravda a v praxi byste si měli tuto hypotézu vždy ověřit! Například porovnáním počtu výskytů řetězců \"..\" v původních datech a hodnot `NA` v datech nových. My zde tento krok vynecháme, ale v praxi byste měli být obezřetnější.\n",
    "\n",
    "Země, pro které data chybí, z naší tabulky též snadno odstraníme:"
   ]
  },
  {
   "cell_type": "code",
   "execution_count": 8,
   "metadata": {},
   "outputs": [
    {
     "data": {
      "text/html": [
       "<table>\n",
       "<thead><tr><th></th><th scope=col>Země</th><th scope=col>Konzumace</th></tr></thead>\n",
       "<tbody>\n",
       "\t<tr><th scope=row>1</th><td>Afghanistan        </td><td>1.0                </td></tr>\n",
       "\t<tr><th scope=row>2</th><td>Albania            </td><td>6.6                </td></tr>\n",
       "\t<tr><th scope=row>3</th><td>Algeria            </td><td>0.6                </td></tr>\n",
       "\t<tr><th scope=row>5</th><td>Andorra            </td><td>9.1                </td></tr>\n",
       "\t<tr><th scope=row>6</th><td>Angola             </td><td>7.6                </td></tr>\n",
       "\t<tr><th scope=row>7</th><td>Antigua and Barbuda</td><td>3.2                </td></tr>\n",
       "</tbody>\n",
       "</table>\n"
      ],
      "text/latex": [
       "\\begin{tabular}{r|ll}\n",
       "  & Země & Konzumace\\\\\n",
       "\\hline\n",
       "\t1 & Afghanistan         & 1.0                \\\\\n",
       "\t2 & Albania             & 6.6                \\\\\n",
       "\t3 & Algeria             & 0.6                \\\\\n",
       "\t5 & Andorra             & 9.1                \\\\\n",
       "\t6 & Angola              & 7.6                \\\\\n",
       "\t7 & Antigua and Barbuda & 3.2                \\\\\n",
       "\\end{tabular}\n"
      ],
      "text/markdown": [
       "\n",
       "| <!--/--> | Země | Konzumace | \n",
       "|---|---|---|---|---|---|\n",
       "| 1 | Afghanistan         | 1.0                 | \n",
       "| 2 | Albania             | 6.6                 | \n",
       "| 3 | Algeria             | 0.6                 | \n",
       "| 5 | Andorra             | 9.1                 | \n",
       "| 6 | Angola              | 7.6                 | \n",
       "| 7 | Antigua and Barbuda | 3.2                 | \n",
       "\n",
       "\n"
      ],
      "text/plain": [
       "  Země                Konzumace\n",
       "1 Afghanistan         1.0      \n",
       "2 Albania             6.6      \n",
       "3 Algeria             0.6      \n",
       "5 Andorra             9.1      \n",
       "6 Angola              7.6      \n",
       "7 Antigua and Barbuda 3.2      "
      ]
     },
     "metadata": {},
     "output_type": "display_data"
    }
   ],
   "source": [
    "df_alkohol <- df_alkohol[!is.na(df_alkohol$Konzumace),]\n",
    "head(df_alkohol)"
   ]
  },
  {
   "cell_type": "markdown",
   "metadata": {},
   "source": [
    "## Popisná statisitka\n",
    "\n",
    "### Shrnutí a krabicové grafy\n",
    "\n",
    "Data tedy máme připravena, takže se pojďme podívat na nějaké základní parametry naší náhodné proměnné, tedy konzumace alkoholu v jednotlivých zemích. Pro rychlý přehled lze použít funkci `summary`. Pokud jí totoiž jako argument pošlete číselný vektor nebo něco, co se tak tváří, vrátí vám shrnutí nejrůznějších popisných statistik:"
   ]
  },
  {
   "cell_type": "code",
   "execution_count": 9,
   "metadata": {},
   "outputs": [
    {
     "data": {
      "text/plain": [
       "   Min. 1st Qu.  Median    Mean 3rd Qu.    Max. \n",
       "  0.000   2.925   6.282   6.083   9.002  17.400 "
      ]
     },
     "metadata": {},
     "output_type": "display_data"
    }
   ],
   "source": [
    "summary(df_alkohol$Konzumace)"
   ]
  },
  {
   "cell_type": "markdown",
   "metadata": {},
   "source": [
    "Vidíme tedy minimum, první kvartil, medián, průměr, třetí kvartil a maximální hodnotu. \n",
    "\n",
    "Pokud chceme tyto parametry vyjádřit graficky, můžeme tak učinit pomocí boxplotu:"
   ]
  },
  {
   "cell_type": "code",
   "execution_count": 10,
   "metadata": {},
   "outputs": [
    {
     "data": {
      "image/png": "[encoded data removed]",
      "text/plain": [
       "plot without title"
      ]
     },
     "metadata": {},
     "output_type": "display_data"
    }
   ],
   "source": [
    "boxplot(df_alkohol$Konzumace)"
   ]
  },
  {
   "cell_type": "markdown",
   "metadata": {},
   "source": [
    "Jak asi víte, tlustá čára uprostřed značí medián, zatímco dno a vršek krabice potom značí první a třetí kvartil. Maximum a minmum jsou pak reprezentované spodním a horním \"fousem\".\n",
    "\n",
    "Funkce boxplot umožňuje zobrazení hned několika grafů najednou. Stačí jí jen další data předat jako další nepojmenované parametery: "
   ]
  },
  {
   "cell_type": "code",
   "execution_count": 11,
   "metadata": {},
   "outputs": [
    {
     "data": {
      "image/png": "[encoded data removed]",
      "text/plain": [
       "plot without title"
      ]
     },
     "metadata": {},
     "output_type": "display_data"
    }
   ],
   "source": [
    "random_data <- c(rnorm(100, mean=10, sd=5), 28, 27, 26) # druhá náhodná proměnná\n",
    "\n",
    "boxplot(df_alkohol$Konzumace, random_data)"
   ]
  },
  {
   "cell_type": "markdown",
   "metadata": {},
   "source": [
    "V předchozím příkladě jsme si vytvořili modelová data pomocí funkce `rnorm`, která je velice užitečná, pokud potřebujete rychle získat data z určité distribuce. V tomto případě jsme funkci `rnorm` poručili, aby náhodně vygenerovala vzorek o velikosti 100 datových bodů z normálního rozdělení s průměrem 10 a směrodatnou odchylkou 5.  \n",
    "\n",
    "K tomuto vzrorku jsme ještě přidali tři odlehlé body, které jsou v krabicovém grafu též znázorněné pomocí teček. Funkce boxplot takto automaticky znázorní body, které mají hodnotu mimo 1.5 násobku kvartilového rozpětí. tento násobek, lze definovat pomocí parametru `range`:"
   ]
  },
  {
   "cell_type": "code",
   "execution_count": 12,
   "metadata": {},
   "outputs": [
    {
     "data": {
      "image/png": "[encoded data removed]",
      "text/plain": [
       "plot without title"
      ]
     },
     "metadata": {},
     "output_type": "display_data"
    }
   ],
   "source": [
    "boxplot(df_alkohol$Konzumace, random_data, range = 2.0)"
   ]
  },
  {
   "cell_type": "markdown",
   "metadata": {},
   "source": [
    "Při nastavení `range` na nulu se \"fousy\" vždy natáhnou až k maximu a minimu:"
   ]
  },
  {
   "cell_type": "code",
   "execution_count": 13,
   "metadata": {},
   "outputs": [
    {
     "data": {
      "image/png": "[encoded data removed]",
      "text/plain": [
       "plot without title"
      ]
     },
     "metadata": {},
     "output_type": "display_data"
    }
   ],
   "source": [
    "boxplot(df_alkohol$Konzumace, random_data, range = 0)"
   ]
  },
  {
   "cell_type": "markdown",
   "metadata": {},
   "source": [
    "### Popisné statistiky jednotlivě\n",
    "\n",
    "V předchozí kapitole jsme si tedy ukázali jak si snadno zobrazit agregované informace o našich vzorcích. Nyní se na jednotlivé parametry podíváme blíže a ukážeme si, jak je v R spočítat.\n",
    "\n",
    "Nejprve si ale ještě představíme funkci `attach`:"
   ]
  },
  {
   "cell_type": "code",
   "execution_count": 14,
   "metadata": {
    "collapsed": true
   },
   "outputs": [],
   "source": [
    "attach(df_alkohol)"
   ]
  },
  {
   "cell_type": "markdown",
   "metadata": {},
   "source": [
    "Funkce `attach` na první pohled nic nedělá, ale opak je pravdou. Dělá toho totiž docela dost. Funkce `attach` se totiž podívá na jména sloupců naší datové tabulky a do našeho aktuálního prostředí je přidá jako proměnné. Průměrnou konzumaci alkoholu ve světě si teď tedy můžeme spočítat například podle vzorečku:\n",
    "\n",
    "${\\displaystyle {\\bar {x}}={\\frac {1}{n}}\\left(\\sum _{i=1}^{n}{x_{i}}\\right)={\\frac {x_{1}+x_{2}+\\cdots +x_{n}}{n}}}$"
   ]
  },
  {
   "cell_type": "code",
   "execution_count": 15,
   "metadata": {},
   "outputs": [
    {
     "data": {
      "text/html": [
       "6.08336024390574"
      ],
      "text/latex": [
       "6.08336024390574"
      ],
      "text/markdown": [
       "6.08336024390574"
      ],
      "text/plain": [
       "[1] 6.08336"
      ]
     },
     "metadata": {},
     "output_type": "display_data"
    }
   ],
   "source": [
    "alkohol_průměr <- sum(Konzumace) / length(Konzumace)\n",
    "alkohol_průměr"
   ]
  },
  {
   "cell_type": "markdown",
   "metadata": {},
   "source": [
    "Jak vidíte, nepotřebujeme teď tedy již k datům ve sloupci přistupovat přes objekt `df_alkohol`, ale máme k dispozici přímo proměnnou `Konzumace`. Toto má své výhody i nevýhody. Pokud sloupce v naší tabulce používáme takto, nemusí být totiž při čtení našeho kódu všem jasné, odkud se hodnoty vzaly. Navíc, pokud se datová tabulka změní, vaše proměnné zůstanou beze změny, což chtít můžete nebo taky ne. Je jen na vás, zda je to zrovna v kontextu vaší práce vhodné. \n",
    "\n",
    "Pojďme si teď ještě spočítat směrodatnou odchylku. V našem případě se jedná pouze o vzorek populace, takže použijeme vzoreček pro odhad směrodatné odchylky:\n",
    "\n",
    "$\\displaystyle s={\\sqrt {\\frac {\\sum _{i=1}^{N}(x_{i}-{\\overline {x}})^{2}}{N-1}}}$"
   ]
  },
  {
   "cell_type": "code",
   "execution_count": 16,
   "metadata": {},
   "outputs": [
    {
     "data": {
      "text/html": [
       "3.87718824461354"
      ],
      "text/latex": [
       "3.87718824461354"
      ],
      "text/markdown": [
       "3.87718824461354"
      ],
      "text/plain": [
       "[1] 3.877188"
      ]
     },
     "metadata": {},
     "output_type": "display_data"
    }
   ],
   "source": [
    "alkohol_so <- sqrt(\n",
    "    sum((Konzumace - alkohol_průměr)^2) \n",
    "    / (length(Konzumace) - 1)\n",
    ")\n",
    "alkohol_so"
   ]
  },
  {
   "cell_type": "markdown",
   "metadata": {},
   "source": [
    "Rozptyl pak už získáme snadno jako druhou mocninu směrodatné odchylky:"
   ]
  },
  {
   "cell_type": "code",
   "execution_count": 17,
   "metadata": {},
   "outputs": [
    {
     "data": {
      "text/html": [
       "15.0325886841695"
      ],
      "text/latex": [
       "15.0325886841695"
      ],
      "text/markdown": [
       "15.0325886841695"
      ],
      "text/plain": [
       "[1] 15.03259"
      ]
     },
     "metadata": {},
     "output_type": "display_data"
    }
   ],
   "source": [
    "alkohol_so^2"
   ]
  },
  {
   "cell_type": "markdown",
   "metadata": {},
   "source": [
    "R má samozřejmě pro všechny popisné statistiky dedikované funkce, takže vzorečky nemusíte vždy implementovat sami:"
   ]
  },
  {
   "cell_type": "code",
   "execution_count": 18,
   "metadata": {},
   "outputs": [
    {
     "data": {
      "text/html": [
       "6.08336024390574"
      ],
      "text/latex": [
       "6.08336024390574"
      ],
      "text/markdown": [
       "6.08336024390574"
      ],
      "text/plain": [
       "[1] 6.08336"
      ]
     },
     "metadata": {},
     "output_type": "display_data"
    },
    {
     "data": {
      "text/html": [
       "6.28213348794455"
      ],
      "text/latex": [
       "6.28213348794455"
      ],
      "text/markdown": [
       "6.28213348794455"
      ],
      "text/plain": [
       "[1] 6.282133"
      ]
     },
     "metadata": {},
     "output_type": "display_data"
    },
    {
     "data": {
      "text/html": [
       "3.87718824461354"
      ],
      "text/latex": [
       "3.87718824461354"
      ],
      "text/markdown": [
       "3.87718824461354"
      ],
      "text/plain": [
       "[1] 3.877188"
      ]
     },
     "metadata": {},
     "output_type": "display_data"
    },
    {
     "data": {
      "text/html": [
       "15.0325886841695"
      ],
      "text/latex": [
       "15.0325886841695"
      ],
      "text/markdown": [
       "15.0325886841695"
      ],
      "text/plain": [
       "[1] 15.03259"
      ]
     },
     "metadata": {},
     "output_type": "display_data"
    }
   ],
   "source": [
    "mean(Konzumace)\n",
    "median(Konzumace)\n",
    "sd(Konzumace)\n",
    "sd(Konzumace)^2"
   ]
  },
  {
   "cell_type": "markdown",
   "metadata": {},
   "source": [
    "Tyto funkce mají jeden užitečný parametr, `na.rm`, který  funkci instruuje, aby ve vstupu ignorovala neznámé hodnoty. My jsme neznámé hodnoty z našich dat odstranili, ale v následujícím příkladě bychom dostali v případě funkce `mean` jako výsledek opět neznámou hodnotu:"
   ]
  },
  {
   "cell_type": "code",
   "execution_count": 19,
   "metadata": {},
   "outputs": [
    {
     "data": {
      "text/plain": [
       "[1] NA"
      ]
     },
     "metadata": {},
     "output_type": "display_data"
    }
   ],
   "source": [
    "x <- c(1, NA, 2)\n",
    "mean(x)"
   ]
  },
  {
   "cell_type": "markdown",
   "metadata": {},
   "source": [
    "zatímco při použití parametru `na.rm` dostaneme výsledek příslušející známým hodnotám:"
   ]
  },
  {
   "cell_type": "code",
   "execution_count": 20,
   "metadata": {},
   "outputs": [
    {
     "data": {
      "text/html": [
       "1.5"
      ],
      "text/latex": [
       "1.5"
      ],
      "text/markdown": [
       "1.5"
      ],
      "text/plain": [
       "[1] 1.5"
      ]
     },
     "metadata": {},
     "output_type": "display_data"
    }
   ],
   "source": [
    "mean(x, na.rm = T)"
   ]
  },
  {
   "cell_type": "markdown",
   "metadata": {},
   "source": [
    "Jednotlivé kvantily lze jednoduše získat pomocí funkce `quantile`. Takto bychom například mohli snadno získat první a třetí kvartil:"
   ]
  },
  {
   "cell_type": "code",
   "execution_count": 21,
   "metadata": {},
   "outputs": [
    {
     "data": {
      "text/html": [
       "<dl class=dl-horizontal>\n",
       "\t<dt>25%</dt>\n",
       "\t\t<dd>2.925</dd>\n",
       "\t<dt>75%</dt>\n",
       "\t\t<dd>9.00219594895565</dd>\n",
       "</dl>\n"
      ],
      "text/latex": [
       "\\begin{description*}\n",
       "\\item[25\\textbackslash{}\\%] 2.925\n",
       "\\item[75\\textbackslash{}\\%] 9.00219594895565\n",
       "\\end{description*}\n"
      ],
      "text/markdown": [
       "25%\n",
       ":   2.92575%\n",
       ":   9.00219594895565\n",
       "\n"
      ],
      "text/plain": [
       "     25%      75% \n",
       "2.925000 9.002196 "
      ]
     },
     "metadata": {},
     "output_type": "display_data"
    }
   ],
   "source": [
    "quantile(Konzumace, c(0.25, 0.75))"
   ]
  },
  {
   "cell_type": "markdown",
   "metadata": {},
   "source": [
    "Pro minimum a maximum v R též existují příslušné funkce:"
   ]
  },
  {
   "cell_type": "code",
   "execution_count": 22,
   "metadata": {},
   "outputs": [
    {
     "data": {
      "text/html": [
       "0"
      ],
      "text/latex": [
       "0"
      ],
      "text/markdown": [
       "0"
      ],
      "text/plain": [
       "[1] 0"
      ]
     },
     "metadata": {},
     "output_type": "display_data"
    },
    {
     "data": {
      "text/html": [
       "17.4"
      ],
      "text/latex": [
       "17.4"
      ],
      "text/markdown": [
       "17.4"
      ],
      "text/plain": [
       "[1] 17.4"
      ]
     },
     "metadata": {},
     "output_type": "display_data"
    }
   ],
   "source": [
    "min(Konzumace)\n",
    "max(Konzumace)"
   ]
  },
  {
   "cell_type": "markdown",
   "metadata": {},
   "source": [
    "Když už mluvíme o extrémech, pojďmě se podívat na země, které pijí nejvíce:"
   ]
  },
  {
   "cell_type": "code",
   "execution_count": 23,
   "metadata": {},
   "outputs": [
    {
     "data": {
      "text/html": [
       "<table>\n",
       "<thead><tr><th></th><th scope=col>Země</th><th scope=col>Konzumace</th></tr></thead>\n",
       "<tbody>\n",
       "\t<tr><th scope=row>157</th><td>Moldova           </td><td>17.4              </td></tr>\n",
       "\t<tr><th scope=row>19</th><td>Belarus           </td><td>17.1              </td></tr>\n",
       "\t<tr><th scope=row>135</th><td>Lithuania         </td><td>16.2              </td></tr>\n",
       "\t<tr><th scope=row>195</th><td>Russian Federation</td><td>14.5              </td></tr>\n",
       "\t<tr><th scope=row>56</th><td>Czech Republic    </td><td>14.1              </td></tr>\n",
       "\t<tr><th scope=row>194</th><td>Romania           </td><td>12.9              </td></tr>\n",
       "\t<tr><th scope=row>202</th><td>Serbia            </td><td>12.9              </td></tr>\n",
       "\t<tr><th scope=row>12</th><td>Australia         </td><td>12.6              </td></tr>\n",
       "\t<tr><th scope=row>189</th><td>Portugal          </td><td>12.5              </td></tr>\n",
       "\t<tr><th scope=row>207</th><td>Slovak Republic   </td><td>12.5              </td></tr>\n",
       "</tbody>\n",
       "</table>\n"
      ],
      "text/latex": [
       "\\begin{tabular}{r|ll}\n",
       "  & Země & Konzumace\\\\\n",
       "\\hline\n",
       "\t157 & Moldova            & 17.4              \\\\\n",
       "\t19 & Belarus            & 17.1              \\\\\n",
       "\t135 & Lithuania          & 16.2              \\\\\n",
       "\t195 & Russian Federation & 14.5              \\\\\n",
       "\t56 & Czech Republic     & 14.1              \\\\\n",
       "\t194 & Romania            & 12.9              \\\\\n",
       "\t202 & Serbia             & 12.9              \\\\\n",
       "\t12 & Australia          & 12.6              \\\\\n",
       "\t189 & Portugal           & 12.5              \\\\\n",
       "\t207 & Slovak Republic    & 12.5              \\\\\n",
       "\\end{tabular}\n"
      ],
      "text/markdown": [
       "\n",
       "| <!--/--> | Země | Konzumace | \n",
       "|---|---|---|---|---|---|---|---|---|---|\n",
       "| 157 | Moldova            | 17.4               | \n",
       "| 19 | Belarus            | 17.1               | \n",
       "| 135 | Lithuania          | 16.2               | \n",
       "| 195 | Russian Federation | 14.5               | \n",
       "| 56 | Czech Republic     | 14.1               | \n",
       "| 194 | Romania            | 12.9               | \n",
       "| 202 | Serbia             | 12.9               | \n",
       "| 12 | Australia          | 12.6               | \n",
       "| 189 | Portugal           | 12.5               | \n",
       "| 207 | Slovak Republic    | 12.5               | \n",
       "\n",
       "\n"
      ],
      "text/plain": [
       "    Země               Konzumace\n",
       "157 Moldova            17.4     \n",
       "19  Belarus            17.1     \n",
       "135 Lithuania          16.2     \n",
       "195 Russian Federation 14.5     \n",
       "56  Czech Republic     14.1     \n",
       "194 Romania            12.9     \n",
       "202 Serbia             12.9     \n",
       "12  Australia          12.6     \n",
       "189 Portugal           12.5     \n",
       "207 Slovak Republic    12.5     "
      ]
     },
     "metadata": {},
     "output_type": "display_data"
    }
   ],
   "source": [
    "df_alkohol <- df_alkohol[order(df_alkohol$Konzumace, decreasing = T),]\n",
    "head(df_alkohol, 10)"
   ]
  },
  {
   "cell_type": "markdown",
   "metadata": {},
   "source": [
    "a nejméně:"
   ]
  },
  {
   "cell_type": "code",
   "execution_count": 24,
   "metadata": {},
   "outputs": [
    {
     "data": {
      "text/html": [
       "<table>\n",
       "<thead><tr><th></th><th scope=col>Země</th><th scope=col>Konzumace</th></tr></thead>\n",
       "<tbody>\n",
       "\t<tr><th scope=row>66</th><td>Egypt, Arab Rep.</td><td>0.3             </td></tr>\n",
       "\t<tr><th scope=row>171</th><td>Niger           </td><td>0.3             </td></tr>\n",
       "\t<tr><th scope=row>17</th><td>Bangladesh      </td><td>0.2             </td></tr>\n",
       "\t<tr><th scope=row>47</th><td>Comoros         </td><td>0.2             </td></tr>\n",
       "\t<tr><th scope=row>200</th><td>Saudi Arabia    </td><td>0.2             </td></tr>\n",
       "\t<tr><th scope=row>257</th><td>Yemen, Rep.     </td><td>0.2             </td></tr>\n",
       "\t<tr><th scope=row>121</th><td>Kuwait          </td><td>0.1             </td></tr>\n",
       "\t<tr><th scope=row>149</th><td>Mauritania      </td><td>0.1             </td></tr>\n",
       "\t<tr><th scope=row>181</th><td>Pakistan        </td><td>0.1             </td></tr>\n",
       "\t<tr><th scope=row>133</th><td>Libya           </td><td>0.0             </td></tr>\n",
       "</tbody>\n",
       "</table>\n"
      ],
      "text/latex": [
       "\\begin{tabular}{r|ll}\n",
       "  & Země & Konzumace\\\\\n",
       "\\hline\n",
       "\t66 & Egypt, Arab Rep. & 0.3             \\\\\n",
       "\t171 & Niger            & 0.3             \\\\\n",
       "\t17 & Bangladesh       & 0.2             \\\\\n",
       "\t47 & Comoros          & 0.2             \\\\\n",
       "\t200 & Saudi Arabia     & 0.2             \\\\\n",
       "\t257 & Yemen, Rep.      & 0.2             \\\\\n",
       "\t121 & Kuwait           & 0.1             \\\\\n",
       "\t149 & Mauritania       & 0.1             \\\\\n",
       "\t181 & Pakistan         & 0.1             \\\\\n",
       "\t133 & Libya            & 0.0             \\\\\n",
       "\\end{tabular}\n"
      ],
      "text/markdown": [
       "\n",
       "| <!--/--> | Země | Konzumace | \n",
       "|---|---|---|---|---|---|---|---|---|---|\n",
       "| 66 | Egypt, Arab Rep. | 0.3              | \n",
       "| 171 | Niger            | 0.3              | \n",
       "| 17 | Bangladesh       | 0.2              | \n",
       "| 47 | Comoros          | 0.2              | \n",
       "| 200 | Saudi Arabia     | 0.2              | \n",
       "| 257 | Yemen, Rep.      | 0.2              | \n",
       "| 121 | Kuwait           | 0.1              | \n",
       "| 149 | Mauritania       | 0.1              | \n",
       "| 181 | Pakistan         | 0.1              | \n",
       "| 133 | Libya            | 0.0              | \n",
       "\n",
       "\n"
      ],
      "text/plain": [
       "    Země             Konzumace\n",
       "66  Egypt, Arab Rep. 0.3      \n",
       "171 Niger            0.3      \n",
       "17  Bangladesh       0.2      \n",
       "47  Comoros          0.2      \n",
       "200 Saudi Arabia     0.2      \n",
       "257 Yemen, Rep.      0.2      \n",
       "121 Kuwait           0.1      \n",
       "149 Mauritania       0.1      \n",
       "181 Pakistan         0.1      \n",
       "133 Libya            0.0      "
      ]
     },
     "metadata": {},
     "output_type": "display_data"
    }
   ],
   "source": [
    "tail(df_alkohol, 10)"
   ]
  },
  {
   "cell_type": "markdown",
   "metadata": {},
   "source": [
    "Česko v tomto seznamu tedy zabírá prominentní pozici hned za Ruskem, které je svou láskou k vodce proslulé. Na opačné straně spektra jsou naopak především muslimské země.\n",
    "\n",
    "### Histogram\n",
    "\n",
    "Nakonec si v této lekci ještě představíme funkci `hist`, která nám umožní zase trochu jiný pohled na naše data:"
   ]
  },
  {
   "cell_type": "code",
   "execution_count": 25,
   "metadata": {},
   "outputs": [
    {
     "data": {
      "image/png": "[encoded data removed]",
      "text/plain": [
       "Plot with title “Histogram of Konzumace”"
      ]
     },
     "metadata": {},
     "output_type": "display_data"
    }
   ],
   "source": [
    "hist(Konzumace)"
   ]
  },
  {
   "cell_type": "markdown",
   "metadata": {},
   "source": [
    "Počet intervalů (buněk), do kterých chceme naše data v histogramu rozdělit, můžeme regulovat pomocí argumentu `breaks`:"
   ]
  },
  {
   "cell_type": "code",
   "execution_count": 26,
   "metadata": {},
   "outputs": [
    {
     "data": {
      "image/png": "[encoded data removed]",
      "text/plain": [
       "Plot with title “Histogram of Konzumace”"
      ]
     },
     "metadata": {},
     "output_type": "display_data"
    }
   ],
   "source": [
    "hist(Konzumace, breaks = 20)"
   ]
  },
  {
   "cell_type": "markdown",
   "metadata": {},
   "source": [
    "Tato reprezentace odhaluje, že v našem souboru je 30 zemí, ve kterých se skoro vůbec nepije (roční konzumace alkoholu menší než 1 litr na osobu). Zároveň zde máme i několik zemí, které jsou tak trochu \"mimo\" (roční konzumace vyšší než 14 litrů na osobu). V těchto zemích je zřejmě alkohol důležitou součástí kultury. Pojďme se podívat o jaké země se jedná:"
   ]
  },
  {
   "cell_type": "code",
   "execution_count": 27,
   "metadata": {},
   "outputs": [
    {
     "data": {
      "text/html": [
       "<table>\n",
       "<thead><tr><th></th><th scope=col>Země</th><th scope=col>Konzumace</th></tr></thead>\n",
       "<tbody>\n",
       "\t<tr><th scope=row>157</th><td>Moldova           </td><td>17.4              </td></tr>\n",
       "\t<tr><th scope=row>19</th><td>Belarus           </td><td>17.1              </td></tr>\n",
       "\t<tr><th scope=row>135</th><td>Lithuania         </td><td>16.2              </td></tr>\n",
       "\t<tr><th scope=row>195</th><td>Russian Federation</td><td>14.5              </td></tr>\n",
       "\t<tr><th scope=row>56</th><td>Czech Republic    </td><td>14.1              </td></tr>\n",
       "</tbody>\n",
       "</table>\n"
      ],
      "text/latex": [
       "\\begin{tabular}{r|ll}\n",
       "  & Země & Konzumace\\\\\n",
       "\\hline\n",
       "\t157 & Moldova            & 17.4              \\\\\n",
       "\t19 & Belarus            & 17.1              \\\\\n",
       "\t135 & Lithuania          & 16.2              \\\\\n",
       "\t195 & Russian Federation & 14.5              \\\\\n",
       "\t56 & Czech Republic     & 14.1              \\\\\n",
       "\\end{tabular}\n"
      ],
      "text/markdown": [
       "\n",
       "| <!--/--> | Země | Konzumace | \n",
       "|---|---|---|---|---|\n",
       "| 157 | Moldova            | 17.4               | \n",
       "| 19 | Belarus            | 17.1               | \n",
       "| 135 | Lithuania          | 16.2               | \n",
       "| 195 | Russian Federation | 14.5               | \n",
       "| 56 | Czech Republic     | 14.1               | \n",
       "\n",
       "\n"
      ],
      "text/plain": [
       "    Země               Konzumace\n",
       "157 Moldova            17.4     \n",
       "19  Belarus            17.1     \n",
       "135 Lithuania          16.2     \n",
       "195 Russian Federation 14.5     \n",
       "56  Czech Republic     14.1     "
      ]
     },
     "metadata": {},
     "output_type": "display_data"
    }
   ],
   "source": [
    "df_alkohol[df_alkohol$Konzumace >= 14, ]"
   ]
  },
  {
   "cell_type": "markdown",
   "metadata": {},
   "source": [
    "Je to tedy prvních pět zemí z našeho seznamu deseti největších světových opilců.\n",
    "\n",
    "Z histogramu se zdá, že naše data jsou relativně normálně rozdělená. Především v případě, kdy bychom z nich odstranili případné odlehlé body:"
   ]
  },
  {
   "cell_type": "code",
   "execution_count": 28,
   "metadata": {},
   "outputs": [
    {
     "data": {
      "image/png": "[encoded data removed]",
      "text/plain": [
       "Plot with title “Histogram of df_konzumenti$Konzumace”"
      ]
     },
     "metadata": {},
     "output_type": "display_data"
    }
   ],
   "source": [
    "df_konzumenti <- df_alkohol[df_alkohol$Konzumace < 14 & df_alkohol$Konzumace > 1, ]\n",
    "hist(df_konzumenti$Konzumace, breaks = 15)"
   ]
  },
  {
   "cell_type": "markdown",
   "metadata": {},
   "source": [
    "Porovnejme tedy histogram výše s modelovým normálním rozdělením stejných parametrů:"
   ]
  },
  {
   "cell_type": "code",
   "execution_count": 29,
   "metadata": {},
   "outputs": [
    {
     "data": {
      "image/png": "[encoded data removed]",
      "text/plain": [
       "Plot with title “Histogram of konzumenti_norm”"
      ]
     },
     "metadata": {},
     "output_type": "display_data"
    }
   ],
   "source": [
    "konzumenti_norm <- rnorm(\n",
    "        nrow(df_konzumenti)\n",
    "        , mean = mean(df_konzumenti$Konzumace)\n",
    "        , sd = sd(df_konzumenti$Konzumace)\n",
    ")\n",
    "hist(konzumenti_norm, breaks = 15)"
   ]
  },
  {
   "cell_type": "markdown",
   "metadata": {},
   "source": [
    "Naše data jsou tedy oproti opravdovému normálnímu rozdělení trochu více roztažená. Jsou tedy někde mezi uniformním rozdělením a normálním rozdělením. Příklad uniformního rozdělení se stejnými parametry si můžeme ukázat pomocí funkce `runif`:"
   ]
  },
  {
   "cell_type": "code",
   "execution_count": 30,
   "metadata": {},
   "outputs": [
    {
     "data": {
      "image/png": "[encoded data removed]",
      "text/plain": [
       "Plot with title “Histogram of konzumenti_unif”"
      ]
     },
     "metadata": {},
     "output_type": "display_data"
    }
   ],
   "source": [
    "konzumenti_unif <- runif(\n",
    "        nrow(df_konzumenti)\n",
    "        , max = max(df_konzumenti$Konzumace)\n",
    "        , min = min(df_konzumenti$Konzumace)\n",
    ")\n",
    "\n",
    "\n",
    "hist(konzumenti_unif, breaks = 15)"
   ]
  },
  {
   "cell_type": "markdown",
   "metadata": {},
   "source": [
    "Mimo funkce `rnorm` a `runif` existují v R i další funkce pro generování vzorků s různými náhodnými rozděleními. K dispozici je například funkce pro rozdělení chi-kvadrát, $\\chi ^{2}$: "
   ]
  },
  {
   "cell_type": "code",
   "execution_count": 31,
   "metadata": {},
   "outputs": [
    {
     "data": {
      "image/png": "[encoded data removed]",
      "text/plain": [
       "Plot with title “Histogram of rchisq(100, df = 3)”"
      ]
     },
     "metadata": {},
     "output_type": "display_data"
    }
   ],
   "source": [
    "hist(rchisq(100, df = 3), breaks = 20)"
   ]
  },
  {
   "cell_type": "markdown",
   "metadata": {},
   "source": [
    "studentovo t-rozdělení:"
   ]
  },
  {
   "cell_type": "code",
   "execution_count": 32,
   "metadata": {},
   "outputs": [
    {
     "data": {
      "image/png": "[encoded data removed]",
      "text/plain": [
       "Plot with title “Histogram of rt(100, df = 3)”"
      ]
     },
     "metadata": {},
     "output_type": "display_data"
    }
   ],
   "source": [
    "hist(rt(100, df = 3), breaks = 20)"
   ]
  },
  {
   "cell_type": "markdown",
   "metadata": {},
   "source": [
    "nebo F-rozdělení:"
   ]
  },
  {
   "cell_type": "code",
   "execution_count": 33,
   "metadata": {},
   "outputs": [
    {
     "data": {
      "image/png": "[encoded data removed]",
      "text/plain": [
       "Plot with title “Histogram of rf(100, df1 = 5, df2 = 2)”"
      ]
     },
     "metadata": {},
     "output_type": "display_data"
    }
   ],
   "source": [
    "hist(rf(100, df1 = 5, df2 = 2), breaks = 20)"
   ]
  },
  {
   "cell_type": "code",
   "execution_count": null,
   "metadata": {
    "collapsed": true
   },
   "outputs": [],
   "source": []
  }
 ],
 "metadata": {
  "kernelspec": {
   "display_name": "R",
   "language": "R",
   "name": "ir"
  },
  "language_info": {
   "codemirror_mode": "r",
   "file_extension": ".r",
   "mimetype": "text/x-r-source",
   "name": "R",
   "pygments_lexer": "r",
   "version": "3.3.2"
  },
  "toc": {
   "nav_menu": {},
   "number_sections": true,
   "sideBar": true,
   "skip_h1_title": true,
   "toc_cell": true,
   "toc_position": {},
   "toc_section_display": "block",
   "toc_window_display": false
  }
 },
 "nbformat": 4,
 "nbformat_minor": 2
}
