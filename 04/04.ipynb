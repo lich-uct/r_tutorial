{
 "cells": [
  {
   "cell_type": "markdown",
   "metadata": {
    "toc": "true"
   },
   "source": [
    "<h1>Table of Contents<span class=\"tocSkip\"></span></h1>\n",
    "<div class=\"toc\"><ul class=\"toc-item\"><li><span><a href=\"#Matice-(matrix)\" data-toc-modified-id=\"Matice-(matrix)-1\"><span class=\"toc-item-num\">1&nbsp;&nbsp;</span>Matice (matrix)</a></span><ul class=\"toc-item\"><li><span><a href=\"#Použití-matic\" data-toc-modified-id=\"Použití-matic-1.1\"><span class=\"toc-item-num\">1.1&nbsp;&nbsp;</span>Použití matic</a></span></li></ul></li><li><span><a href=\"#Pole-(array)\" data-toc-modified-id=\"Pole-(array)-2\"><span class=\"toc-item-num\">2&nbsp;&nbsp;</span>Pole (array)</a></span><ul class=\"toc-item\"><li><span><a href=\"#Použití-polí\" data-toc-modified-id=\"Použití-polí-2.1\"><span class=\"toc-item-num\">2.1&nbsp;&nbsp;</span>Použití polí</a></span></li></ul></li><li><span><a href=\"#Seznam-(list)\" data-toc-modified-id=\"Seznam-(list)-3\"><span class=\"toc-item-num\">3&nbsp;&nbsp;</span>Seznam (list)</a></span><ul class=\"toc-item\"><li><span><a href=\"#Použití-seznamů\" data-toc-modified-id=\"Použití-seznamů-3.1\"><span class=\"toc-item-num\">3.1&nbsp;&nbsp;</span>Použití seznamů</a></span></li></ul></li><li><span><a href=\"#Datová-tabulka-(data.frame)\" data-toc-modified-id=\"Datová-tabulka-(data.frame)-4\"><span class=\"toc-item-num\">4&nbsp;&nbsp;</span>Datová tabulka (data.frame)</a></span><ul class=\"toc-item\"><li><span><a href=\"#Použití-datových-tabulek\" data-toc-modified-id=\"Použití-datových-tabulek-4.1\"><span class=\"toc-item-num\">4.1&nbsp;&nbsp;</span>Použití datových tabulek</a></span></li></ul></li><li><span><a href=\"#Faktor-(factor)\" data-toc-modified-id=\"Faktor-(factor)-5\"><span class=\"toc-item-num\">5&nbsp;&nbsp;</span>Faktor (factor)</a></span><ul class=\"toc-item\"><li><span><a href=\"#Použití-faktorů\" data-toc-modified-id=\"Použití-faktorů-5.1\"><span class=\"toc-item-num\">5.1&nbsp;&nbsp;</span>Použití faktorů</a></span><ul class=\"toc-item\"><li><span><a href=\"#Kontingenční-tabulka\" data-toc-modified-id=\"Kontingenční-tabulka-5.1.1\"><span class=\"toc-item-num\">5.1.1&nbsp;&nbsp;</span>Kontingenční tabulka</a></span></li></ul></li></ul></li></ul></div>"
   ]
  },
  {
   "cell_type": "markdown",
   "metadata": {},
   "source": [
    "# Datové struktury v R\n",
    "\n",
    "V této lekci se zaměříme na další datové struktury, které v R mimo vektory existují a které vyu6ijeme při statistické analýze dat. Zvolit správnou počítačovou reprezentaci pro naše data je totiž klíčové a velice výrazně nám to usnadní práci.\n",
    "\n",
    "Ve statistice si jenom s vektory často vystačíte, pokud mají vaše data jednoduchou strukturu (např. analyzujete-li měření pouze jedné náhodné veličiny). Někdy ale budete muset načíst i data se složitější strukturou (např. o měření jedné nebo i více veličin za růzých podmínek). V této lekci si tedy ukážeme komplexnější struktury, které fungují na podobných principech jako vektory, ale nabízí rozšířenou funkcionalitu pro pohodlnější práci s různými typy dat.\n",
    "\n",
    "## Matice (matrix)\n",
    "\n",
    "S maticemi jste se určitě už setkali v matematice, takže víte, že to jsou v podstatě vektory naskládané pod sebe. V R si můžete matice představit podobně. Je to totiž vektor, který má navíc ještě dva atributy:\n",
    "\n",
    "1. počet řádek \n",
    "2. počet sloupců\n",
    "\n",
    "Vektor můžete na matici snadno převést nastavením těchto dvou parametrů pomocí funkce `dim`, která k nim zajišťuje přístup:"
   ]
  },
  {
   "cell_type": "code",
   "execution_count": 1,
   "metadata": {},
   "outputs": [
    {
     "data": {
      "text/html": [
       "'matrix'"
      ],
      "text/latex": [
       "'matrix'"
      ],
      "text/markdown": [
       "'matrix'"
      ],
      "text/plain": [
       "[1] \"matrix\""
      ]
     },
     "metadata": {},
     "output_type": "display_data"
    },
    {
     "data": {
      "text/html": [
       "<table>\n",
       "<tbody>\n",
       "\t<tr><td>1 </td><td>5 </td><td> 9</td></tr>\n",
       "\t<tr><td>2 </td><td>6 </td><td>10</td></tr>\n",
       "\t<tr><td>3 </td><td>7 </td><td>11</td></tr>\n",
       "\t<tr><td>4 </td><td>8 </td><td>12</td></tr>\n",
       "</tbody>\n",
       "</table>\n"
      ],
      "text/latex": [
       "\\begin{tabular}{lll}\n",
       "\t 1  & 5  &  9\\\\\n",
       "\t 2  & 6  & 10\\\\\n",
       "\t 3  & 7  & 11\\\\\n",
       "\t 4  & 8  & 12\\\\\n",
       "\\end{tabular}\n"
      ],
      "text/markdown": [
       "\n",
       "| 1  | 5  |  9 | \n",
       "| 2  | 6  | 10 | \n",
       "| 3  | 7  | 11 | \n",
       "| 4  | 8  | 12 | \n",
       "\n",
       "\n"
      ],
      "text/plain": [
       "     [,1] [,2] [,3]\n",
       "[1,] 1    5     9  \n",
       "[2,] 2    6    10  \n",
       "[3,] 3    7    11  \n",
       "[4,] 4    8    12  "
      ]
     },
     "metadata": {},
     "output_type": "display_data"
    },
    {
     "data": {
      "text/html": [
       "<strong>$dim</strong> = <ol class=list-inline>\n",
       "\t<li>4</li>\n",
       "\t<li>3</li>\n",
       "</ol>\n"
      ],
      "text/latex": [
       "\\textbf{\\$dim} = \\begin{enumerate*}\n",
       "\\item 4\n",
       "\\item 3\n",
       "\\end{enumerate*}\n"
      ],
      "text/markdown": [
       "**$dim** = 1. 4\n",
       "2. 3\n",
       "\n",
       "\n"
      ],
      "text/plain": [
       "$dim\n",
       "[1] 4 3\n"
      ]
     },
     "metadata": {},
     "output_type": "display_data"
    },
    {
     "data": {
      "text/html": [
       "<ol class=list-inline>\n",
       "\t<li>4</li>\n",
       "\t<li>3</li>\n",
       "</ol>\n"
      ],
      "text/latex": [
       "\\begin{enumerate*}\n",
       "\\item 4\n",
       "\\item 3\n",
       "\\end{enumerate*}\n"
      ],
      "text/markdown": [
       "1. 4\n",
       "2. 3\n",
       "\n",
       "\n"
      ],
      "text/plain": [
       "[1] 4 3"
      ]
     },
     "metadata": {},
     "output_type": "display_data"
    },
    {
     "data": {
      "text/html": [
       "4"
      ],
      "text/latex": [
       "4"
      ],
      "text/markdown": [
       "4"
      ],
      "text/plain": [
       "[1] 4"
      ]
     },
     "metadata": {},
     "output_type": "display_data"
    },
    {
     "data": {
      "text/html": [
       "3"
      ],
      "text/latex": [
       "3"
      ],
      "text/markdown": [
       "3"
      ],
      "text/plain": [
       "[1] 3"
      ]
     },
     "metadata": {},
     "output_type": "display_data"
    }
   ],
   "source": [
    "x <- 1:12\n",
    "dim(x) <- c(4, 3) # převedení vektoru na matici\n",
    "\n",
    "class(x)\n",
    "x\n",
    "\n",
    "# atributy ukládají některé parametry objektu\n",
    "attributes(x)\n",
    "dim(x) # atribut `dim` jako vektor\n",
    "nrow(x) # počet řádek\n",
    "ncol(x) # počet sloupců"
   ]
  },
  {
   "cell_type": "markdown",
   "metadata": {},
   "source": [
    "Jednotlivé řádky a sloupce v matici lze též pojmenovávat:"
   ]
  },
  {
   "cell_type": "code",
   "execution_count": 2,
   "metadata": {
    "scrolled": true
   },
   "outputs": [
    {
     "data": {
      "text/html": [
       "<table>\n",
       "<thead><tr><th></th><th scope=col>první sloupec</th><th scope=col>druhý sloupec</th><th scope=col>třetí sloupec</th></tr></thead>\n",
       "<tbody>\n",
       "\t<tr><th scope=row>první řádek</th><td>1 </td><td>5 </td><td> 9</td></tr>\n",
       "\t<tr><th scope=row>druhý řádek</th><td>2 </td><td>6 </td><td>10</td></tr>\n",
       "\t<tr><th scope=row>třetí řádek</th><td>3 </td><td>7 </td><td>11</td></tr>\n",
       "\t<tr><th scope=row>čtvrtý řádek</th><td>4 </td><td>8 </td><td>12</td></tr>\n",
       "</tbody>\n",
       "</table>\n"
      ],
      "text/latex": [
       "\\begin{tabular}{r|lll}\n",
       "  & první sloupec & druhý sloupec & třetí sloupec\\\\\n",
       "\\hline\n",
       "\tprvní řádek & 1  & 5  &  9\\\\\n",
       "\tdruhý řádek & 2  & 6  & 10\\\\\n",
       "\ttřetí řádek & 3  & 7  & 11\\\\\n",
       "\tčtvrtý řádek & 4  & 8  & 12\\\\\n",
       "\\end{tabular}\n"
      ],
      "text/markdown": [
       "\n",
       "| <!--/--> | první sloupec | druhý sloupec | třetí sloupec | \n",
       "|---|---|---|---|\n",
       "| první řádek | 1  | 5  |  9 | \n",
       "| druhý řádek | 2  | 6  | 10 | \n",
       "| třetí řádek | 3  | 7  | 11 | \n",
       "| čtvrtý řádek | 4  | 8  | 12 | \n",
       "\n",
       "\n"
      ],
      "text/plain": [
       "             první sloupec druhý sloupec třetí sloupec\n",
       "první řádek  1             5              9           \n",
       "druhý řádek  2             6             10           \n",
       "třetí řádek  3             7             11           \n",
       "čtvrtý řádek 4             8             12           "
      ]
     },
     "metadata": {},
     "output_type": "display_data"
    },
    {
     "data": {
      "text/html": [
       "<dl>\n",
       "\t<dt>$dim</dt>\n",
       "\t\t<dd><ol class=list-inline>\n",
       "\t<li>4</li>\n",
       "\t<li>3</li>\n",
       "</ol>\n",
       "</dd>\n",
       "\t<dt>$dimnames</dt>\n",
       "\t\t<dd><ol>\n",
       "\t<li><ol class=list-inline>\n",
       "\t<li>'první řádek'</li>\n",
       "\t<li>'druhý řádek'</li>\n",
       "\t<li>'třetí řádek'</li>\n",
       "\t<li>'čtvrtý řádek'</li>\n",
       "</ol>\n",
       "</li>\n",
       "\t<li><ol class=list-inline>\n",
       "\t<li>'první sloupec'</li>\n",
       "\t<li>'druhý sloupec'</li>\n",
       "\t<li>'třetí sloupec'</li>\n",
       "</ol>\n",
       "</li>\n",
       "</ol>\n",
       "</dd>\n",
       "</dl>\n"
      ],
      "text/latex": [
       "\\begin{description}\n",
       "\\item[\\$dim] \\begin{enumerate*}\n",
       "\\item 4\n",
       "\\item 3\n",
       "\\end{enumerate*}\n",
       "\n",
       "\\item[\\$dimnames] \\begin{enumerate}\n",
       "\\item \\begin{enumerate*}\n",
       "\\item 'první řádek'\n",
       "\\item 'druhý řádek'\n",
       "\\item 'třetí řádek'\n",
       "\\item 'čtvrtý řádek'\n",
       "\\end{enumerate*}\n",
       "\n",
       "\\item \\begin{enumerate*}\n",
       "\\item 'první sloupec'\n",
       "\\item 'druhý sloupec'\n",
       "\\item 'třetí sloupec'\n",
       "\\end{enumerate*}\n",
       "\n",
       "\\end{enumerate}\n",
       "\n",
       "\\end{description}\n"
      ],
      "text/markdown": [
       "$dim\n",
       ":   1. 4\n",
       "2. 3\n",
       "\n",
       "\n",
       "\n",
       "$dimnames\n",
       ":   1. 1. 'první řádek'\n",
       "2. 'druhý řádek'\n",
       "3. 'třetí řádek'\n",
       "4. 'čtvrtý řádek'\n",
       "\n",
       "\n",
       "\n",
       "2. 1. 'první sloupec'\n",
       "2. 'druhý sloupec'\n",
       "3. 'třetí sloupec'\n",
       "\n",
       "\n",
       "\n",
       "\n",
       "\n",
       "\n",
       "\n",
       "\n"
      ],
      "text/plain": [
       "$dim\n",
       "[1] 4 3\n",
       "\n",
       "$dimnames\n",
       "$dimnames[[1]]\n",
       "[1] \"první řádek\"  \"druhý řádek\"  \"třetí řádek\"  \"čtvrtý řádek\"\n",
       "\n",
       "$dimnames[[2]]\n",
       "[1] \"první sloupec\" \"druhý sloupec\" \"třetí sloupec\"\n",
       "\n"
      ]
     },
     "metadata": {},
     "output_type": "display_data"
    },
    {
     "data": {
      "text/html": [
       "<ol class=list-inline>\n",
       "\t<li>'první sloupec'</li>\n",
       "\t<li>'druhý sloupec'</li>\n",
       "\t<li>'třetí sloupec'</li>\n",
       "</ol>\n"
      ],
      "text/latex": [
       "\\begin{enumerate*}\n",
       "\\item 'první sloupec'\n",
       "\\item 'druhý sloupec'\n",
       "\\item 'třetí sloupec'\n",
       "\\end{enumerate*}\n"
      ],
      "text/markdown": [
       "1. 'první sloupec'\n",
       "2. 'druhý sloupec'\n",
       "3. 'třetí sloupec'\n",
       "\n",
       "\n"
      ],
      "text/plain": [
       "[1] \"první sloupec\" \"druhý sloupec\" \"třetí sloupec\""
      ]
     },
     "metadata": {},
     "output_type": "display_data"
    },
    {
     "data": {
      "text/html": [
       "<ol class=list-inline>\n",
       "\t<li>'první řádek'</li>\n",
       "\t<li>'druhý řádek'</li>\n",
       "\t<li>'třetí řádek'</li>\n",
       "\t<li>'čtvrtý řádek'</li>\n",
       "</ol>\n"
      ],
      "text/latex": [
       "\\begin{enumerate*}\n",
       "\\item 'první řádek'\n",
       "\\item 'druhý řádek'\n",
       "\\item 'třetí řádek'\n",
       "\\item 'čtvrtý řádek'\n",
       "\\end{enumerate*}\n"
      ],
      "text/markdown": [
       "1. 'první řádek'\n",
       "2. 'druhý řádek'\n",
       "3. 'třetí řádek'\n",
       "4. 'čtvrtý řádek'\n",
       "\n",
       "\n"
      ],
      "text/plain": [
       "[1] \"první řádek\"  \"druhý řádek\"  \"třetí řádek\"  \"čtvrtý řádek\""
      ]
     },
     "metadata": {},
     "output_type": "display_data"
    }
   ],
   "source": [
    "colnames(x) <- c(\"první sloupec\", \"druhý sloupec\", \"třetí sloupec\")\n",
    "rownames(x) <- c(\"první řádek\", \"druhý řádek\", \"třetí řádek\", \"čtvrtý řádek\")\n",
    "x\n",
    "attributes(x)\n",
    "colnames(x)\n",
    "rownames(x)"
   ]
  },
  {
   "cell_type": "markdown",
   "metadata": {},
   "source": [
    "Toto je sice poměrně netradiční způsob vytvoření matice, ale ukazuje nám, co vlastně matice pro R znamená. \n",
    "\n",
    "Většinou se ale matice inicializuje pomocí funkce `matrix`:"
   ]
  },
  {
   "cell_type": "code",
   "execution_count": 3,
   "metadata": {},
   "outputs": [
    {
     "data": {
      "text/html": [
       "<ol class=list-inline>\n",
       "\t<li>4</li>\n",
       "\t<li>3</li>\n",
       "</ol>\n"
      ],
      "text/latex": [
       "\\begin{enumerate*}\n",
       "\\item 4\n",
       "\\item 3\n",
       "\\end{enumerate*}\n"
      ],
      "text/markdown": [
       "1. 4\n",
       "2. 3\n",
       "\n",
       "\n"
      ],
      "text/plain": [
       "[1] 4 3"
      ]
     },
     "metadata": {},
     "output_type": "display_data"
    },
    {
     "data": {
      "text/html": [
       "'matrix'"
      ],
      "text/latex": [
       "'matrix'"
      ],
      "text/markdown": [
       "'matrix'"
      ],
      "text/plain": [
       "[1] \"matrix\""
      ]
     },
     "metadata": {},
     "output_type": "display_data"
    },
    {
     "data": {
      "text/html": [
       "<table>\n",
       "<tbody>\n",
       "\t<tr><td>1 </td><td>5 </td><td> 9</td></tr>\n",
       "\t<tr><td>2 </td><td>6 </td><td>10</td></tr>\n",
       "\t<tr><td>3 </td><td>7 </td><td>11</td></tr>\n",
       "\t<tr><td>4 </td><td>8 </td><td>12</td></tr>\n",
       "</tbody>\n",
       "</table>\n"
      ],
      "text/latex": [
       "\\begin{tabular}{lll}\n",
       "\t 1  & 5  &  9\\\\\n",
       "\t 2  & 6  & 10\\\\\n",
       "\t 3  & 7  & 11\\\\\n",
       "\t 4  & 8  & 12\\\\\n",
       "\\end{tabular}\n"
      ],
      "text/markdown": [
       "\n",
       "| 1  | 5  |  9 | \n",
       "| 2  | 6  | 10 | \n",
       "| 3  | 7  | 11 | \n",
       "| 4  | 8  | 12 | \n",
       "\n",
       "\n"
      ],
      "text/plain": [
       "     [,1] [,2] [,3]\n",
       "[1,] 1    5     9  \n",
       "[2,] 2    6    10  \n",
       "[3,] 3    7    11  \n",
       "[4,] 4    8    12  "
      ]
     },
     "metadata": {},
     "output_type": "display_data"
    },
    {
     "data": {
      "text/html": [
       "<strong>$dim</strong> = <ol class=list-inline>\n",
       "\t<li>4</li>\n",
       "\t<li>3</li>\n",
       "</ol>\n"
      ],
      "text/latex": [
       "\\textbf{\\$dim} = \\begin{enumerate*}\n",
       "\\item 4\n",
       "\\item 3\n",
       "\\end{enumerate*}\n"
      ],
      "text/markdown": [
       "**$dim** = 1. 4\n",
       "2. 3\n",
       "\n",
       "\n"
      ],
      "text/plain": [
       "$dim\n",
       "[1] 4 3\n"
      ]
     },
     "metadata": {},
     "output_type": "display_data"
    }
   ],
   "source": [
    "x <- 1:12\n",
    "m_x <- matrix(x, nrow = 4)\n",
    "dim(m_x)\n",
    "class(m_x)\n",
    "m_x\n",
    "attributes(m_x)"
   ]
  },
  {
   "cell_type": "markdown",
   "metadata": {},
   "source": [
    "Tento postup je tedy čitelnější a o něco jednodušší, neboť rozdělení na sloupce již R vyřeší za vás. Stejného výsledku byste docíli i takto:"
   ]
  },
  {
   "cell_type": "code",
   "execution_count": 4,
   "metadata": {},
   "outputs": [
    {
     "data": {
      "text/html": [
       "<table>\n",
       "<tbody>\n",
       "\t<tr><td>1 </td><td>5 </td><td> 9</td></tr>\n",
       "\t<tr><td>2 </td><td>6 </td><td>10</td></tr>\n",
       "\t<tr><td>3 </td><td>7 </td><td>11</td></tr>\n",
       "\t<tr><td>4 </td><td>8 </td><td>12</td></tr>\n",
       "</tbody>\n",
       "</table>\n"
      ],
      "text/latex": [
       "\\begin{tabular}{lll}\n",
       "\t 1  & 5  &  9\\\\\n",
       "\t 2  & 6  & 10\\\\\n",
       "\t 3  & 7  & 11\\\\\n",
       "\t 4  & 8  & 12\\\\\n",
       "\\end{tabular}\n"
      ],
      "text/markdown": [
       "\n",
       "| 1  | 5  |  9 | \n",
       "| 2  | 6  | 10 | \n",
       "| 3  | 7  | 11 | \n",
       "| 4  | 8  | 12 | \n",
       "\n",
       "\n"
      ],
      "text/plain": [
       "     [,1] [,2] [,3]\n",
       "[1,] 1    5     9  \n",
       "[2,] 2    6    10  \n",
       "[3,] 3    7    11  \n",
       "[4,] 4    8    12  "
      ]
     },
     "metadata": {},
     "output_type": "display_data"
    },
    {
     "data": {
      "text/html": [
       "<table>\n",
       "<tbody>\n",
       "\t<tr><td>1 </td><td>5 </td><td> 9</td></tr>\n",
       "\t<tr><td>2 </td><td>6 </td><td>10</td></tr>\n",
       "\t<tr><td>3 </td><td>7 </td><td>11</td></tr>\n",
       "\t<tr><td>4 </td><td>8 </td><td>12</td></tr>\n",
       "</tbody>\n",
       "</table>\n"
      ],
      "text/latex": [
       "\\begin{tabular}{lll}\n",
       "\t 1  & 5  &  9\\\\\n",
       "\t 2  & 6  & 10\\\\\n",
       "\t 3  & 7  & 11\\\\\n",
       "\t 4  & 8  & 12\\\\\n",
       "\\end{tabular}\n"
      ],
      "text/markdown": [
       "\n",
       "| 1  | 5  |  9 | \n",
       "| 2  | 6  | 10 | \n",
       "| 3  | 7  | 11 | \n",
       "| 4  | 8  | 12 | \n",
       "\n",
       "\n"
      ],
      "text/plain": [
       "     [,1] [,2] [,3]\n",
       "[1,] 1    5     9  \n",
       "[2,] 2    6    10  \n",
       "[3,] 3    7    11  \n",
       "[4,] 4    8    12  "
      ]
     },
     "metadata": {},
     "output_type": "display_data"
    }
   ],
   "source": [
    "matrix(x, ncol = 3)\n",
    "matrix(x, nrow = 4, ncol=3)"
   ]
  },
  {
   "cell_type": "markdown",
   "metadata": {},
   "source": [
    "Pokud se R něco na vašem zadání nezdá, vygeneruje varování a upozorní vás na možné chyby s počtem sloupců nebo řádků:"
   ]
  },
  {
   "cell_type": "code",
   "execution_count": 5,
   "metadata": {},
   "outputs": [
    {
     "name": "stderr",
     "output_type": "stream",
     "text": [
      "Warning message in matrix(1:3, ncol = 5, nrow = 5):\n",
      "“data length [3] is not a sub-multiple or multiple of the number of rows [5]”"
     ]
    },
    {
     "data": {
      "text/html": [
       "<table>\n",
       "<tbody>\n",
       "\t<tr><td>1</td><td>3</td><td>2</td><td>1</td><td>3</td></tr>\n",
       "\t<tr><td>2</td><td>1</td><td>3</td><td>2</td><td>1</td></tr>\n",
       "\t<tr><td>3</td><td>2</td><td>1</td><td>3</td><td>2</td></tr>\n",
       "\t<tr><td>1</td><td>3</td><td>2</td><td>1</td><td>3</td></tr>\n",
       "\t<tr><td>2</td><td>1</td><td>3</td><td>2</td><td>1</td></tr>\n",
       "</tbody>\n",
       "</table>\n"
      ],
      "text/latex": [
       "\\begin{tabular}{lllll}\n",
       "\t 1 & 3 & 2 & 1 & 3\\\\\n",
       "\t 2 & 1 & 3 & 2 & 1\\\\\n",
       "\t 3 & 2 & 1 & 3 & 2\\\\\n",
       "\t 1 & 3 & 2 & 1 & 3\\\\\n",
       "\t 2 & 1 & 3 & 2 & 1\\\\\n",
       "\\end{tabular}\n"
      ],
      "text/markdown": [
       "\n",
       "| 1 | 3 | 2 | 1 | 3 | \n",
       "| 2 | 1 | 3 | 2 | 1 | \n",
       "| 3 | 2 | 1 | 3 | 2 | \n",
       "| 1 | 3 | 2 | 1 | 3 | \n",
       "| 2 | 1 | 3 | 2 | 1 | \n",
       "\n",
       "\n"
      ],
      "text/plain": [
       "     [,1] [,2] [,3] [,4] [,5]\n",
       "[1,] 1    3    2    1    3   \n",
       "[2,] 2    1    3    2    1   \n",
       "[3,] 3    2    1    3    2   \n",
       "[4,] 1    3    2    1    3   \n",
       "[5,] 2    1    3    2    1   "
      ]
     },
     "metadata": {},
     "output_type": "display_data"
    },
    {
     "data": {
      "text/html": [
       "<table>\n",
       "<tbody>\n",
       "\t<tr><td>1</td><td>1</td><td>1</td><td>1</td><td>1</td></tr>\n",
       "\t<tr><td>2</td><td>2</td><td>2</td><td>2</td><td>2</td></tr>\n",
       "\t<tr><td>3</td><td>3</td><td>3</td><td>3</td><td>3</td></tr>\n",
       "\t<tr><td>1</td><td>1</td><td>1</td><td>1</td><td>1</td></tr>\n",
       "\t<tr><td>2</td><td>2</td><td>2</td><td>2</td><td>2</td></tr>\n",
       "\t<tr><td>3</td><td>3</td><td>3</td><td>3</td><td>3</td></tr>\n",
       "</tbody>\n",
       "</table>\n"
      ],
      "text/latex": [
       "\\begin{tabular}{lllll}\n",
       "\t 1 & 1 & 1 & 1 & 1\\\\\n",
       "\t 2 & 2 & 2 & 2 & 2\\\\\n",
       "\t 3 & 3 & 3 & 3 & 3\\\\\n",
       "\t 1 & 1 & 1 & 1 & 1\\\\\n",
       "\t 2 & 2 & 2 & 2 & 2\\\\\n",
       "\t 3 & 3 & 3 & 3 & 3\\\\\n",
       "\\end{tabular}\n"
      ],
      "text/markdown": [
       "\n",
       "| 1 | 1 | 1 | 1 | 1 | \n",
       "| 2 | 2 | 2 | 2 | 2 | \n",
       "| 3 | 3 | 3 | 3 | 3 | \n",
       "| 1 | 1 | 1 | 1 | 1 | \n",
       "| 2 | 2 | 2 | 2 | 2 | \n",
       "| 3 | 3 | 3 | 3 | 3 | \n",
       "\n",
       "\n"
      ],
      "text/plain": [
       "     [,1] [,2] [,3] [,4] [,5]\n",
       "[1,] 1    1    1    1    1   \n",
       "[2,] 2    2    2    2    2   \n",
       "[3,] 3    3    3    3    3   \n",
       "[4,] 1    1    1    1    1   \n",
       "[5,] 2    2    2    2    2   \n",
       "[6,] 3    3    3    3    3   "
      ]
     },
     "metadata": {},
     "output_type": "display_data"
    }
   ],
   "source": [
    "matrix(1:3, ncol = 5, nrow=5)\n",
    "matrix(1:3, ncol = 5, nrow=6) # bez varování (počet řádek je násobkem délky vektoru)"
   ]
  },
  {
   "cell_type": "markdown",
   "metadata": {},
   "source": [
    "Jak vidíte, recyklace vektoru funguje i při vytváření matic. Matice s konstantní hodnotou si tedy můžete vytvořit třeba takto:"
   ]
  },
  {
   "cell_type": "code",
   "execution_count": 6,
   "metadata": {},
   "outputs": [
    {
     "data": {
      "text/html": [
       "<table>\n",
       "<tbody>\n",
       "\t<tr><td>0</td><td>0</td><td>0</td><td>0</td><td>0</td></tr>\n",
       "\t<tr><td>0</td><td>0</td><td>0</td><td>0</td><td>0</td></tr>\n",
       "\t<tr><td>0</td><td>0</td><td>0</td><td>0</td><td>0</td></tr>\n",
       "\t<tr><td>0</td><td>0</td><td>0</td><td>0</td><td>0</td></tr>\n",
       "\t<tr><td>0</td><td>0</td><td>0</td><td>0</td><td>0</td></tr>\n",
       "</tbody>\n",
       "</table>\n"
      ],
      "text/latex": [
       "\\begin{tabular}{lllll}\n",
       "\t 0 & 0 & 0 & 0 & 0\\\\\n",
       "\t 0 & 0 & 0 & 0 & 0\\\\\n",
       "\t 0 & 0 & 0 & 0 & 0\\\\\n",
       "\t 0 & 0 & 0 & 0 & 0\\\\\n",
       "\t 0 & 0 & 0 & 0 & 0\\\\\n",
       "\\end{tabular}\n"
      ],
      "text/markdown": [
       "\n",
       "| 0 | 0 | 0 | 0 | 0 | \n",
       "| 0 | 0 | 0 | 0 | 0 | \n",
       "| 0 | 0 | 0 | 0 | 0 | \n",
       "| 0 | 0 | 0 | 0 | 0 | \n",
       "| 0 | 0 | 0 | 0 | 0 | \n",
       "\n",
       "\n"
      ],
      "text/plain": [
       "     [,1] [,2] [,3] [,4] [,5]\n",
       "[1,] 0    0    0    0    0   \n",
       "[2,] 0    0    0    0    0   \n",
       "[3,] 0    0    0    0    0   \n",
       "[4,] 0    0    0    0    0   \n",
       "[5,] 0    0    0    0    0   "
      ]
     },
     "metadata": {},
     "output_type": "display_data"
    }
   ],
   "source": [
    "matrix(0, ncol = 5, nrow = 5)"
   ]
  },
  {
   "cell_type": "markdown",
   "metadata": {},
   "source": [
    "Rozdíl mezi použitím postupu s funkcí `matrix` oproti funkci `dim` je i v tom, že pomocí funkce `dim` je modifikován stávající objekt, ale funkce matrix vrací objekt nový. Při použití funkce `dim` tedy nedochází ke kopírování, což znamená menší časovou náročnost, avšak za ztráty struktury původního objektu.\n",
    "\n",
    "Jak jste si asi všimli, při vytváření matice z vektoru se postupuje podle sloupců nikoliv řádků. Pokud to chcete naopak můžete nastavit parametr `byrow` na `TRUE`. Porovnejte například následující matice:"
   ]
  },
  {
   "cell_type": "code",
   "execution_count": 7,
   "metadata": {},
   "outputs": [
    {
     "data": {
      "text/html": [
       "<table>\n",
       "<tbody>\n",
       "\t<tr><td>1 </td><td>5 </td><td> 9</td></tr>\n",
       "\t<tr><td>2 </td><td>6 </td><td>10</td></tr>\n",
       "\t<tr><td>3 </td><td>7 </td><td>11</td></tr>\n",
       "\t<tr><td>4 </td><td>8 </td><td>12</td></tr>\n",
       "</tbody>\n",
       "</table>\n"
      ],
      "text/latex": [
       "\\begin{tabular}{lll}\n",
       "\t 1  & 5  &  9\\\\\n",
       "\t 2  & 6  & 10\\\\\n",
       "\t 3  & 7  & 11\\\\\n",
       "\t 4  & 8  & 12\\\\\n",
       "\\end{tabular}\n"
      ],
      "text/markdown": [
       "\n",
       "| 1  | 5  |  9 | \n",
       "| 2  | 6  | 10 | \n",
       "| 3  | 7  | 11 | \n",
       "| 4  | 8  | 12 | \n",
       "\n",
       "\n"
      ],
      "text/plain": [
       "     [,1] [,2] [,3]\n",
       "[1,] 1    5     9  \n",
       "[2,] 2    6    10  \n",
       "[3,] 3    7    11  \n",
       "[4,] 4    8    12  "
      ]
     },
     "metadata": {},
     "output_type": "display_data"
    },
    {
     "data": {
      "text/html": [
       "<table>\n",
       "<tbody>\n",
       "\t<tr><td> 1</td><td> 2</td><td> 3</td></tr>\n",
       "\t<tr><td> 4</td><td> 5</td><td> 6</td></tr>\n",
       "\t<tr><td> 7</td><td> 8</td><td> 9</td></tr>\n",
       "\t<tr><td>10</td><td>11</td><td>12</td></tr>\n",
       "</tbody>\n",
       "</table>\n"
      ],
      "text/latex": [
       "\\begin{tabular}{lll}\n",
       "\t  1 &  2 &  3\\\\\n",
       "\t  4 &  5 &  6\\\\\n",
       "\t  7 &  8 &  9\\\\\n",
       "\t 10 & 11 & 12\\\\\n",
       "\\end{tabular}\n"
      ],
      "text/markdown": [
       "\n",
       "|  1 |  2 |  3 | \n",
       "|  4 |  5 |  6 | \n",
       "|  7 |  8 |  9 | \n",
       "| 10 | 11 | 12 | \n",
       "\n",
       "\n"
      ],
      "text/plain": [
       "     [,1] [,2] [,3]\n",
       "[1,]  1    2    3  \n",
       "[2,]  4    5    6  \n",
       "[3,]  7    8    9  \n",
       "[4,] 10   11   12  "
      ]
     },
     "metadata": {},
     "output_type": "display_data"
    }
   ],
   "source": [
    "matrix(x, ncol = 3)\n",
    "matrix(x, ncol = 3, byrow = T)"
   ]
  },
  {
   "cell_type": "markdown",
   "metadata": {},
   "source": [
    "Funkce `print` vám pro přehlednost ukáže i čísla řádků a sloupců:"
   ]
  },
  {
   "cell_type": "code",
   "execution_count": 8,
   "metadata": {},
   "outputs": [
    {
     "name": "stdout",
     "output_type": "stream",
     "text": [
      "     [,1] [,2] [,3]\n",
      "[1,]    1    2    3\n",
      "[2,]    4    5    6\n",
      "[3,]    7    8    9\n",
      "[4,]   10   11   12\n"
     ]
    }
   ],
   "source": [
    "m_x <- matrix(x, ncol = 3, byrow = T)\n",
    "print(m_x)"
   ]
  },
  {
   "cell_type": "markdown",
   "metadata": {},
   "source": [
    "Je to v podstatě i návod, jak k jednotlivým prvkům přistupovat:"
   ]
  },
  {
   "cell_type": "code",
   "execution_count": 9,
   "metadata": {},
   "outputs": [
    {
     "data": {
      "text/html": [
       "1"
      ],
      "text/latex": [
       "1"
      ],
      "text/markdown": [
       "1"
      ],
      "text/plain": [
       "[1] 1"
      ]
     },
     "metadata": {},
     "output_type": "display_data"
    },
    {
     "data": {
      "text/html": [
       "5"
      ],
      "text/latex": [
       "5"
      ],
      "text/markdown": [
       "5"
      ],
      "text/plain": [
       "[1] 5"
      ]
     },
     "metadata": {},
     "output_type": "display_data"
    },
    {
     "data": {
      "text/html": [
       "9"
      ],
      "text/latex": [
       "9"
      ],
      "text/markdown": [
       "9"
      ],
      "text/plain": [
       "[1] 9"
      ]
     },
     "metadata": {},
     "output_type": "display_data"
    },
    {
     "data": {
      "text/html": [
       "12"
      ],
      "text/latex": [
       "12"
      ],
      "text/markdown": [
       "12"
      ],
      "text/plain": [
       "[1] 12"
      ]
     },
     "metadata": {},
     "output_type": "display_data"
    }
   ],
   "source": [
    "m_x[1,1]\n",
    "m_x[2,2]\n",
    "m_x[3,3]\n",
    "m_x[4,3]"
   ]
  },
  {
   "cell_type": "markdown",
   "metadata": {},
   "source": [
    "Pokud jeden z indexů vynecháte, dostanete vektor reprezentující celý řádek nebo sloupec:"
   ]
  },
  {
   "cell_type": "code",
   "execution_count": 10,
   "metadata": {},
   "outputs": [
    {
     "data": {
      "text/html": [
       "<ol class=list-inline>\n",
       "\t<li>1</li>\n",
       "\t<li>4</li>\n",
       "\t<li>7</li>\n",
       "\t<li>10</li>\n",
       "</ol>\n"
      ],
      "text/latex": [
       "\\begin{enumerate*}\n",
       "\\item 1\n",
       "\\item 4\n",
       "\\item 7\n",
       "\\item 10\n",
       "\\end{enumerate*}\n"
      ],
      "text/markdown": [
       "1. 1\n",
       "2. 4\n",
       "3. 7\n",
       "4. 10\n",
       "\n",
       "\n"
      ],
      "text/plain": [
       "[1]  1  4  7 10"
      ]
     },
     "metadata": {},
     "output_type": "display_data"
    },
    {
     "data": {
      "text/html": [
       "<ol class=list-inline>\n",
       "\t<li>1</li>\n",
       "\t<li>2</li>\n",
       "\t<li>3</li>\n",
       "</ol>\n"
      ],
      "text/latex": [
       "\\begin{enumerate*}\n",
       "\\item 1\n",
       "\\item 2\n",
       "\\item 3\n",
       "\\end{enumerate*}\n"
      ],
      "text/markdown": [
       "1. 1\n",
       "2. 2\n",
       "3. 3\n",
       "\n",
       "\n"
      ],
      "text/plain": [
       "[1] 1 2 3"
      ]
     },
     "metadata": {},
     "output_type": "display_data"
    }
   ],
   "source": [
    "m_x[,1]\n",
    "m_x[1,]"
   ]
  },
  {
   "cell_type": "markdown",
   "metadata": {},
   "source": [
    "I negativní indexy u matic fungují. V takovém případě dostanete odpovídající novou matici:"
   ]
  },
  {
   "cell_type": "code",
   "execution_count": 11,
   "metadata": {},
   "outputs": [
    {
     "data": {
      "text/html": [
       "<table>\n",
       "<tbody>\n",
       "\t<tr><td> 1</td><td> 3</td></tr>\n",
       "\t<tr><td> 7</td><td> 9</td></tr>\n",
       "\t<tr><td>10</td><td>12</td></tr>\n",
       "</tbody>\n",
       "</table>\n"
      ],
      "text/latex": [
       "\\begin{tabular}{ll}\n",
       "\t  1 &  3\\\\\n",
       "\t  7 &  9\\\\\n",
       "\t 10 & 12\\\\\n",
       "\\end{tabular}\n"
      ],
      "text/markdown": [
       "\n",
       "|  1 |  3 | \n",
       "|  7 |  9 | \n",
       "| 10 | 12 | \n",
       "\n",
       "\n"
      ],
      "text/plain": [
       "     [,1] [,2]\n",
       "[1,]  1    3  \n",
       "[2,]  7    9  \n",
       "[3,] 10   12  "
      ]
     },
     "metadata": {},
     "output_type": "display_data"
    }
   ],
   "source": [
    "m_x[-2,-2]"
   ]
  },
  {
   "cell_type": "markdown",
   "metadata": {},
   "source": [
    "Pro indexaci můžete samozřejmě používat i vektory:"
   ]
  },
  {
   "cell_type": "code",
   "execution_count": 12,
   "metadata": {},
   "outputs": [
    {
     "data": {
      "text/html": [
       "<table>\n",
       "<tbody>\n",
       "\t<tr><td> 8</td><td> 9</td></tr>\n",
       "\t<tr><td>11</td><td>12</td></tr>\n",
       "</tbody>\n",
       "</table>\n"
      ],
      "text/latex": [
       "\\begin{tabular}{ll}\n",
       "\t  8 &  9\\\\\n",
       "\t 11 & 12\\\\\n",
       "\\end{tabular}\n"
      ],
      "text/markdown": [
       "\n",
       "|  8 |  9 | \n",
       "| 11 | 12 | \n",
       "\n",
       "\n"
      ],
      "text/plain": [
       "     [,1] [,2]\n",
       "[1,]  8    9  \n",
       "[2,] 11   12  "
      ]
     },
     "metadata": {},
     "output_type": "display_data"
    },
    {
     "data": {
      "text/html": [
       "<table>\n",
       "<tbody>\n",
       "\t<tr><td> 8</td><td> 9</td></tr>\n",
       "\t<tr><td>11</td><td>12</td></tr>\n",
       "</tbody>\n",
       "</table>\n"
      ],
      "text/latex": [
       "\\begin{tabular}{ll}\n",
       "\t  8 &  9\\\\\n",
       "\t 11 & 12\\\\\n",
       "\\end{tabular}\n"
      ],
      "text/markdown": [
       "\n",
       "|  8 |  9 | \n",
       "| 11 | 12 | \n",
       "\n",
       "\n"
      ],
      "text/plain": [
       "     [,1] [,2]\n",
       "[1,]  8    9  \n",
       "[2,] 11   12  "
      ]
     },
     "metadata": {},
     "output_type": "display_data"
    }
   ],
   "source": [
    "m_x[c(3, 4), 2:3] # numerické\n",
    "m_x[c(F, F, T, T), c(F, T, T)] # nebo logické"
   ]
  },
  {
   "cell_type": "markdown",
   "metadata": {},
   "source": [
    "Používat můžete i matice samotné:"
   ]
  },
  {
   "cell_type": "code",
   "execution_count": 13,
   "metadata": {},
   "outputs": [
    {
     "name": "stdout",
     "output_type": "stream",
     "text": [
      "     [,1] [,2] [,3]\n",
      "[1,]    1    2    3\n",
      "[2,]    4    5    6\n",
      "[3,]    7    8    9\n",
      "[4,]   10   11   12\n"
     ]
    },
    {
     "data": {
      "text/html": [
       "<table>\n",
       "<tbody>\n",
       "\t<tr><td> TRUE</td><td> TRUE</td><td> TRUE</td></tr>\n",
       "\t<tr><td>FALSE</td><td>FALSE</td><td>FALSE</td></tr>\n",
       "\t<tr><td> TRUE</td><td> TRUE</td><td> TRUE</td></tr>\n",
       "\t<tr><td>FALSE</td><td>FALSE</td><td>FALSE</td></tr>\n",
       "</tbody>\n",
       "</table>\n"
      ],
      "text/latex": [
       "\\begin{tabular}{lll}\n",
       "\t  TRUE &  TRUE &  TRUE\\\\\n",
       "\t FALSE & FALSE & FALSE\\\\\n",
       "\t  TRUE &  TRUE &  TRUE\\\\\n",
       "\t FALSE & FALSE & FALSE\\\\\n",
       "\\end{tabular}\n"
      ],
      "text/markdown": [
       "\n",
       "|  TRUE |  TRUE |  TRUE | \n",
       "| FALSE | FALSE | FALSE | \n",
       "|  TRUE |  TRUE |  TRUE | \n",
       "| FALSE | FALSE | FALSE | \n",
       "\n",
       "\n"
      ],
      "text/plain": [
       "     [,1]  [,2]  [,3] \n",
       "[1,]  TRUE  TRUE  TRUE\n",
       "[2,] FALSE FALSE FALSE\n",
       "[3,]  TRUE  TRUE  TRUE\n",
       "[4,] FALSE FALSE FALSE"
      ]
     },
     "metadata": {},
     "output_type": "display_data"
    },
    {
     "data": {
      "text/html": [
       "<ol class=list-inline>\n",
       "\t<li>1</li>\n",
       "\t<li>7</li>\n",
       "\t<li>2</li>\n",
       "\t<li>8</li>\n",
       "\t<li>3</li>\n",
       "\t<li>9</li>\n",
       "</ol>\n"
      ],
      "text/latex": [
       "\\begin{enumerate*}\n",
       "\\item 1\n",
       "\\item 7\n",
       "\\item 2\n",
       "\\item 8\n",
       "\\item 3\n",
       "\\item 9\n",
       "\\end{enumerate*}\n"
      ],
      "text/markdown": [
       "1. 1\n",
       "2. 7\n",
       "3. 2\n",
       "4. 8\n",
       "5. 3\n",
       "6. 9\n",
       "\n",
       "\n"
      ],
      "text/plain": [
       "[1] 1 7 2 8 3 9"
      ]
     },
     "metadata": {},
     "output_type": "display_data"
    }
   ],
   "source": [
    "print(m_x)\n",
    "maska <- matrix(\n",
    "    c(\n",
    "        T, T, T,\n",
    "        F, F, F,\n",
    "        T, T, T,\n",
    "        F, F, F\n",
    "    )\n",
    "    , nrow = 4\n",
    "    , byrow = T\n",
    ")\n",
    "maska\n",
    "m_x[maska]"
   ]
  },
  {
   "cell_type": "markdown",
   "metadata": {},
   "source": [
    "Všimněte si, že zde je výsledkem vektor čísel, která odpovídají vybraným hodnotám v naší masce a to opět podle sloupců.\n",
    "\n",
    "Pokud má výsledek indexace jednu dimenzi prázdnou, R ho automaticky převede na vektor:"
   ]
  },
  {
   "cell_type": "code",
   "execution_count": 14,
   "metadata": {},
   "outputs": [
    {
     "data": {
      "text/html": [
       "<ol class=list-inline>\n",
       "\t<li>1</li>\n",
       "\t<li>2</li>\n",
       "\t<li>3</li>\n",
       "</ol>\n"
      ],
      "text/latex": [
       "\\begin{enumerate*}\n",
       "\\item 1\n",
       "\\item 2\n",
       "\\item 3\n",
       "\\end{enumerate*}\n"
      ],
      "text/markdown": [
       "1. 1\n",
       "2. 2\n",
       "3. 3\n",
       "\n",
       "\n"
      ],
      "text/plain": [
       "[1] 1 2 3"
      ]
     },
     "metadata": {},
     "output_type": "display_data"
    },
    {
     "data": {
      "text/html": [
       "'integer'"
      ],
      "text/latex": [
       "'integer'"
      ],
      "text/markdown": [
       "'integer'"
      ],
      "text/plain": [
       "[1] \"integer\""
      ]
     },
     "metadata": {},
     "output_type": "display_data"
    },
    {
     "data": {
      "text/plain": [
       "NULL"
      ]
     },
     "metadata": {},
     "output_type": "display_data"
    }
   ],
   "source": [
    "vyber <- m_x[1,]\n",
    "vyber\n",
    "class(vyber)\n",
    "dim(vyber)"
   ]
  },
  {
   "cell_type": "markdown",
   "metadata": {},
   "source": [
    "Pokud tomu chceme zamezit a vždy mít na výstupu matici, můžeme operátoru `[]` specifikovat argument `drop`, který toto chování řídí:"
   ]
  },
  {
   "cell_type": "code",
   "execution_count": 15,
   "metadata": {},
   "outputs": [
    {
     "data": {
      "text/html": [
       "<table>\n",
       "<tbody>\n",
       "\t<tr><td>1</td><td>2</td><td>3</td></tr>\n",
       "</tbody>\n",
       "</table>\n"
      ],
      "text/latex": [
       "\\begin{tabular}{lll}\n",
       "\t 1 & 2 & 3\\\\\n",
       "\\end{tabular}\n"
      ],
      "text/markdown": [
       "\n",
       "| 1 | 2 | 3 | \n",
       "\n",
       "\n"
      ],
      "text/plain": [
       "     [,1] [,2] [,3]\n",
       "[1,] 1    2    3   "
      ]
     },
     "metadata": {},
     "output_type": "display_data"
    },
    {
     "data": {
      "text/html": [
       "'matrix'"
      ],
      "text/latex": [
       "'matrix'"
      ],
      "text/markdown": [
       "'matrix'"
      ],
      "text/plain": [
       "[1] \"matrix\""
      ]
     },
     "metadata": {},
     "output_type": "display_data"
    },
    {
     "data": {
      "text/html": [
       "<ol class=list-inline>\n",
       "\t<li>1</li>\n",
       "\t<li>3</li>\n",
       "</ol>\n"
      ],
      "text/latex": [
       "\\begin{enumerate*}\n",
       "\\item 1\n",
       "\\item 3\n",
       "\\end{enumerate*}\n"
      ],
      "text/markdown": [
       "1. 1\n",
       "2. 3\n",
       "\n",
       "\n"
      ],
      "text/plain": [
       "[1] 1 3"
      ]
     },
     "metadata": {},
     "output_type": "display_data"
    }
   ],
   "source": [
    "vyber <- m_x[1,, drop = F]\n",
    "vyber\n",
    "class(vyber)\n",
    "dim(vyber)"
   ]
  },
  {
   "cell_type": "markdown",
   "metadata": {},
   "source": [
    "Do matic lze samozřejmě pomocí indexů i zapisovat:"
   ]
  },
  {
   "cell_type": "code",
   "execution_count": 16,
   "metadata": {},
   "outputs": [
    {
     "name": "stdout",
     "output_type": "stream",
     "text": [
      "     [,1] [,2] [,3]\n",
      "[1,]    1    2    3\n",
      "[2,]    4    5    6\n",
      "[3,]    7    8    9\n",
      "[4,]   10   11   12\n",
      "     [,1] [,2] [,3]\n",
      "[1,]    1    2    3\n",
      "[2,]    2    5    6\n",
      "[3,]    3    8    9\n",
      "[4,]    4   11   12\n",
      "     [,1] [,2] [,3]\n",
      "[1,]    1    2    3\n",
      "[2,]    2    5    6\n",
      "[3,]    1    8    9\n",
      "[4,]    2   11   12\n"
     ]
    }
   ],
   "source": [
    "print(m_x)\n",
    "m_x[,1] <- c(1, 2, 3, 4) # nastav obsah prvniho sloupce na daný vektor\n",
    "print(m_x)\n",
    "m_x[,1] <- c(1, 2)\n",
    "print(m_x) # i zde funguje recyklace hodnot vektoru"
   ]
  },
  {
   "cell_type": "code",
   "execution_count": 17,
   "metadata": {},
   "outputs": [
    {
     "name": "stdout",
     "output_type": "stream",
     "text": [
      "     [,1] [,2] [,3]\n",
      "[1,]    1    2    3\n",
      "[2,]    2    5    6\n",
      "[3,]    1    0    0\n",
      "[4,]    2    0    0\n",
      "     [,1] [,2] [,3]\n",
      "[1,] \"1\"  \"2\"  \"3\" \n",
      "[2,] \"2\"  \"5\"  \"6\" \n",
      "[3,] \"1\"  \"a\"  \"c\" \n",
      "[4,] \"2\"  \"b\"  \"d\" \n"
     ]
    }
   ],
   "source": [
    "m_x[c(3, 4), 2:3] <- matrix(numeric(4), nrow = 2)\n",
    "print(m_x)\n",
    "m_x[c(3, 4), 2:3] <- c(\"a\", \"b\", \"c\", \"d\") # zapsat je možné i přímo vektor a R si s tím poradí\n",
    "print(m_x)"
   ]
  },
  {
   "cell_type": "markdown",
   "metadata": {},
   "source": [
    "Všimněte si, že stejně jako vektory i matice mohou být pouze jednoho typu. Po přiřazení vektoru dat jiného typu (zde `character`) se všechny prvky převedou na největší společný typ, tedy opět `character`.\n",
    "\n",
    "Stejně jako s vektory je možné i s maticemi provádět různé operace. Například:"
   ]
  },
  {
   "cell_type": "code",
   "execution_count": 18,
   "metadata": {},
   "outputs": [
    {
     "data": {
      "text/html": [
       "<table>\n",
       "<tbody>\n",
       "\t<tr><td>1</td><td>2</td></tr>\n",
       "\t<tr><td>3</td><td>4</td></tr>\n",
       "</tbody>\n",
       "</table>\n"
      ],
      "text/latex": [
       "\\begin{tabular}{ll}\n",
       "\t 1 & 2\\\\\n",
       "\t 3 & 4\\\\\n",
       "\\end{tabular}\n"
      ],
      "text/markdown": [
       "\n",
       "| 1 | 2 | \n",
       "| 3 | 4 | \n",
       "\n",
       "\n"
      ],
      "text/plain": [
       "     [,1] [,2]\n",
       "[1,] 1    2   \n",
       "[2,] 3    4   "
      ]
     },
     "metadata": {},
     "output_type": "display_data"
    },
    {
     "name": "stdout",
     "output_type": "stream",
     "text": [
      "     [,1] [,2]\n",
      "[1,]    2    4\n",
      "[2,]    6    8\n",
      "      [,1]  [,2]\n",
      "[1,] FALSE FALSE\n",
      "[2,]  TRUE  TRUE\n",
      "     [,1] [,2]\n",
      "[1,]    2    4\n",
      "[2,]    6    8\n",
      "     [,1] [,2]\n",
      "[1,]    1    4\n",
      "[2,]    9   16\n",
      "     [,1] [,2]\n",
      "[1,]    7   10\n",
      "[2,]   15   22\n",
      "     [,1] [,2]\n",
      "[1,]    1    3\n",
      "[2,]    2    4\n"
     ]
    }
   ],
   "source": [
    "m_y <- matrix(1:4, nrow = 2, byrow = T)\n",
    "m_y\n",
    "\n",
    "print(\n",
    "    m_y * 2\n",
    ")\n",
    "print(\n",
    "    m_y > 2\n",
    ")\n",
    "print(\n",
    "    m_y + m_y # sčítání\n",
    ")\n",
    "print(\n",
    "    m_y * m_y # klasické násobení\n",
    ")\n",
    "print(\n",
    "    m_y %*% m_y # maticové násobení\n",
    ")\n",
    "print(\n",
    "    t(m_y) # transponovaná matice\n",
    ")"
   ]
  },
  {
   "cell_type": "markdown",
   "metadata": {},
   "source": [
    "### Použití matic\n",
    "\n",
    "Matice je v podstatě tabulka, a proto se ve statistice nejčastěji používá k zakódování výsledků měření různých číselných proměnných (sloupce) pro řadu vzorků (řádky). Například následující matice kóduje různá data o třech lidech:"
   ]
  },
  {
   "cell_type": "code",
   "execution_count": 19,
   "metadata": {},
   "outputs": [
    {
     "data": {
      "text/html": [
       "<table>\n",
       "<thead><tr><th></th><th scope=col>pohlaví</th><th scope=col>váha</th><th scope=col>věk</th></tr></thead>\n",
       "<tbody>\n",
       "\t<tr><th scope=row>1</th><td>0 </td><td>65</td><td>20</td></tr>\n",
       "\t<tr><th scope=row>2</th><td>1 </td><td>75</td><td>19</td></tr>\n",
       "\t<tr><th scope=row>3</th><td>0 </td><td>68</td><td>21</td></tr>\n",
       "</tbody>\n",
       "</table>\n"
      ],
      "text/latex": [
       "\\begin{tabular}{r|lll}\n",
       "  & pohlaví & váha & věk\\\\\n",
       "\\hline\n",
       "\t1 & 0  & 65 & 20\\\\\n",
       "\t2 & 1  & 75 & 19\\\\\n",
       "\t3 & 0  & 68 & 21\\\\\n",
       "\\end{tabular}\n"
      ],
      "text/markdown": [
       "\n",
       "| <!--/--> | pohlaví | váha | věk | \n",
       "|---|---|---|\n",
       "| 1 | 0  | 65 | 20 | \n",
       "| 2 | 1  | 75 | 19 | \n",
       "| 3 | 0  | 68 | 21 | \n",
       "\n",
       "\n"
      ],
      "text/plain": [
       "  pohlaví váha věk\n",
       "1 0       65   20 \n",
       "2 1       75   19 \n",
       "3 0       68   21 "
      ]
     },
     "metadata": {},
     "output_type": "display_data"
    }
   ],
   "source": [
    "data <- matrix(\n",
    "    c(\n",
    "        0, 65, 20,\n",
    "        1, 75, 19,\n",
    "        0, 68, 21\n",
    "    )\n",
    "    , byrow = T\n",
    "    , nrow = 3\n",
    ")\n",
    "colnames(data) <- c(\"pohlaví\", \"váha\", \"věk\")\n",
    "rownames(data) <- c(1:nrow(data))\n",
    "data"
   ]
  },
  {
   "cell_type": "markdown",
   "metadata": {},
   "source": [
    "Matice jsou též vhodné pro reprezentaci obrázků a podobných dat, neboť jednotlivé prvky mohou snadno reprezentovat intenzitu barvy jednotlivých pixelů nebo hodnotu veličiny naměřenou na určitých souřadnicích. Mezi testovacími daty, která jsou v R dostupná pod různými proměnnými, je například matice [volcano](https://stat.ethz.ch/R-manual/R-devel/library/datasets/html/volcano.html), což jsou topologická data nasbíraná na sopce Maunga Whau, která se nachází nedaleko od Aucklandu. Tuto matici si lze jako obrázek vykreslit například takto:"
   ]
  },
  {
   "cell_type": "code",
   "execution_count": 20,
   "metadata": {},
   "outputs": [
    {
     "data": {
      "image/png": "[encoded data removed]",
      "text/plain": [
       "plot without title"
      ]
     },
     "metadata": {},
     "output_type": "display_data"
    }
   ],
   "source": [
    "image(volcano)"
   ]
  },
  {
   "cell_type": "markdown",
   "metadata": {},
   "source": [
    "Asi vás napadlo, že matice má nevýhodu v tom, že všechny položky můsí být stejného typu. Tento problém řeší datová struktura `data.frame`, která je rozšířením matic a představíme si ji na konci tohoto tutoriálu.\n",
    "\n",
    "## Pole (array)"
   ]
  },
  {
   "cell_type": "markdown",
   "metadata": {},
   "source": [
    "Pole by se daly považovat za generalizaci matic, neboť je to vlastně $n$ vektorů, kde každý z nich tvoří jednu dimenzi. Při vytváření pole se tedy místo počtu řádků a sloupců uvádí rozměr každé dimenze (parametr `dim` funkce `array`):"
   ]
  },
  {
   "cell_type": "code",
   "execution_count": 21,
   "metadata": {},
   "outputs": [
    {
     "name": "stdout",
     "output_type": "stream",
     "text": [
      ", , 1\n",
      "\n",
      "     [,1] [,2] [,3]\n",
      "[1,]    1    5    9\n",
      "[2,]    2    6   10\n",
      "[3,]    3    7   11\n",
      "[4,]    4    8   12\n",
      "\n",
      ", , 2\n",
      "\n",
      "     [,1] [,2] [,3]\n",
      "[1,]   13   17   21\n",
      "[2,]   14   18   22\n",
      "[3,]   15   19   23\n",
      "[4,]   16   20   24\n",
      "\n"
     ]
    }
   ],
   "source": [
    "ar_x <- array(1:24, dim = c(4,3,2))\n",
    "print(ar_x)"
   ]
  },
  {
   "cell_type": "markdown",
   "metadata": {},
   "source": [
    "Vytvořili jsme tedy třírozměrné pole, které má celkem 24 buněk rozdělených do 4 řádek v první dimenzi, tří ve druhé a dvou ve třetí. Jelikož lze v textovém výpisu zobrazit najednou pouze dvě dimenze, je tento rozdělen na několik částí reprezentujících různé kombinace prvních dvou dimenzí s ostatními (zde pouze se třetí). Jedná se tak tedy v podstatě o dvourozměrné řezy v různých vrstvách podle dalších dimenzí. Pro čtyřrozměrné pole, které si jen těžko představíme, pak výstup vypadá například takto:"
   ]
  },
  {
   "cell_type": "code",
   "execution_count": 22,
   "metadata": {},
   "outputs": [
    {
     "name": "stdout",
     "output_type": "stream",
     "text": [
      ", , 1, 1\n",
      "\n",
      "     [,1] [,2] [,3]\n",
      "[1,]    1    5    9\n",
      "[2,]    2    6   10\n",
      "[3,]    3    7   11\n",
      "[4,]    4    8   12\n",
      "\n",
      ", , 2, 1\n",
      "\n",
      "     [,1] [,2] [,3]\n",
      "[1,]   13   17   21\n",
      "[2,]   14   18   22\n",
      "[3,]   15   19   23\n",
      "[4,]   16   20   24\n",
      "\n",
      ", , 1, 2\n",
      "\n",
      "     [,1] [,2] [,3]\n",
      "[1,]   25   29   33\n",
      "[2,]   26   30   34\n",
      "[3,]   27   31   35\n",
      "[4,]   28   32   36\n",
      "\n",
      ", , 2, 2\n",
      "\n",
      "     [,1] [,2] [,3]\n",
      "[1,]   37   41   45\n",
      "[2,]   38   42   46\n",
      "[3,]   39   43   47\n",
      "[4,]   40   44   48\n",
      "\n"
     ]
    }
   ],
   "source": [
    "ar_y <- array(1:48, dim = c(4,3,2,2))\n",
    "print(ar_y)"
   ]
  },
  {
   "cell_type": "markdown",
   "metadata": {},
   "source": [
    "Stejně jako vektor, můžeme k vytvoření pole použít i matici:"
   ]
  },
  {
   "cell_type": "code",
   "execution_count": 23,
   "metadata": {},
   "outputs": [
    {
     "data": {
      "text/html": [
       "<table>\n",
       "<tbody>\n",
       "\t<tr><td>1</td><td>2</td><td>3</td></tr>\n",
       "\t<tr><td>2</td><td>5</td><td>6</td></tr>\n",
       "\t<tr><td>1</td><td>a</td><td>c</td></tr>\n",
       "\t<tr><td>2</td><td>b</td><td>d</td></tr>\n",
       "</tbody>\n",
       "</table>\n"
      ],
      "text/latex": [
       "\\begin{tabular}{lll}\n",
       "\t 1 & 2 & 3\\\\\n",
       "\t 2 & 5 & 6\\\\\n",
       "\t 1 & a & c\\\\\n",
       "\t 2 & b & d\\\\\n",
       "\\end{tabular}\n"
      ],
      "text/markdown": [
       "\n",
       "| 1 | 2 | 3 | \n",
       "| 2 | 5 | 6 | \n",
       "| 1 | a | c | \n",
       "| 2 | b | d | \n",
       "\n",
       "\n"
      ],
      "text/plain": [
       "     [,1] [,2] [,3]\n",
       "[1,] 1    2    3   \n",
       "[2,] 2    5    6   \n",
       "[3,] 1    a    c   \n",
       "[4,] 2    b    d   "
      ]
     },
     "metadata": {},
     "output_type": "display_data"
    },
    {
     "name": "stdout",
     "output_type": "stream",
     "text": [
      " [1] \"1\" \"2\" \"1\" \"2\" \"2\" \"5\" \"a\" \"b\" \"3\" \"6\" \"c\" \"d\"\n",
      "     [,1] [,2] [,3]\n",
      "[1,] \"1\"  \"2\"  \"3\" \n",
      "[2,] \"2\"  \"5\"  \"6\" \n",
      "[3,] \"1\"  \"a\"  \"c\" \n",
      "[4,] \"2\"  \"b\"  \"d\" \n",
      ", , 1\n",
      "\n",
      "     [,1] [,2] [,3]\n",
      "[1,] \"1\"  \"1\"  \"2\" \n",
      "[2,] \"2\"  \"2\"  \"5\" \n",
      "\n",
      ", , 2\n",
      "\n",
      "     [,1] [,2] [,3]\n",
      "[1,] \"a\"  \"3\"  \"c\" \n",
      "[2,] \"b\"  \"6\"  \"d\" \n",
      "\n"
     ]
    }
   ],
   "source": [
    "m_x\n",
    "print(\n",
    "    array(m_x) # výchozí nastavení, pouze jeden rozměr\n",
    ")\n",
    "print(\n",
    "    as.array(m_x) # rozměry matice budou zachovány\n",
    ")\n",
    "print(\n",
    "    array(m_x, dim = c(2, 3, 2)) # explicitní změna dimenzionality\n",
    ")"
   ]
  },
  {
   "cell_type": "markdown",
   "metadata": {},
   "source": [
    "V příkladu nahoře si všimněte funkce `as.array`, která ve výchozím nastavení zachová rozměry objektu, který na pole převádíme. Narozdíl od funkce `array`, která v případě nenastavení dimenzí přepíše původní hodnotu tou výchozí.\n",
    "\n",
    "Pole lze pak zpět převést na matici pomocí funkce `as.matrix`:"
   ]
  },
  {
   "cell_type": "code",
   "execution_count": 24,
   "metadata": {},
   "outputs": [
    {
     "name": "stdout",
     "output_type": "stream",
     "text": [
      "     [,1] [,2] [,3] [,4] [,5] [,6]\n",
      "[1,] \"1\"  \"1\"  \"2\"  \"a\"  \"3\"  \"c\" \n",
      "[2,] \"2\"  \"2\"  \"5\"  \"b\"  \"6\"  \"d\" \n",
      "      [,1]\n",
      " [1,] \"1\" \n",
      " [2,] \"2\" \n",
      " [3,] \"1\" \n",
      " [4,] \"2\" \n",
      " [5,] \"2\" \n",
      " [6,] \"5\" \n",
      " [7,] \"a\" \n",
      " [8,] \"b\" \n",
      " [9,] \"3\" \n",
      "[10,] \"6\" \n",
      "[11,] \"c\" \n",
      "[12,] \"d\" \n"
     ]
    }
   ],
   "source": [
    "print(as.matrix(\n",
    "    array(m_x, dim = c(2, 6))\n",
    "))\n",
    "print(as.matrix(\n",
    "    array(m_x, dim = c(2, 3, 2))\n",
    "))"
   ]
  },
  {
   "cell_type": "markdown",
   "metadata": {},
   "source": [
    "Všimněte si, že pokud je počet dimenzí pole jiný než dva, funkce `as.matrix` automaticky vytvoří matici, která má pouze jeden sloupec a počet řádků rovný celkovému počtu položek v původním poli. \n",
    "\n",
    "Vlastnosti pole lze snadno získat funkcemi, které už známe:"
   ]
  },
  {
   "cell_type": "code",
   "execution_count": 25,
   "metadata": {},
   "outputs": [
    {
     "name": "stdout",
     "output_type": "stream",
     "text": [
      ", , 1\n",
      "\n",
      "     [,1] [,2] [,3]\n",
      "[1,]    1    5    9\n",
      "[2,]    2    6   10\n",
      "[3,]    3    7   11\n",
      "[4,]    4    8   12\n",
      "\n",
      ", , 2\n",
      "\n",
      "     [,1] [,2] [,3]\n",
      "[1,]   13   17   21\n",
      "[2,]   14   18   22\n",
      "[3,]   15   19   23\n",
      "[4,]   16   20   24\n",
      "\n"
     ]
    },
    {
     "data": {
      "text/html": [
       "'array'"
      ],
      "text/latex": [
       "'array'"
      ],
      "text/markdown": [
       "'array'"
      ],
      "text/plain": [
       "[1] \"array\""
      ]
     },
     "metadata": {},
     "output_type": "display_data"
    },
    {
     "data": {
      "text/html": [
       "24"
      ],
      "text/latex": [
       "24"
      ],
      "text/markdown": [
       "24"
      ],
      "text/plain": [
       "[1] 24"
      ]
     },
     "metadata": {},
     "output_type": "display_data"
    },
    {
     "data": {
      "text/html": [
       "4"
      ],
      "text/latex": [
       "4"
      ],
      "text/markdown": [
       "4"
      ],
      "text/plain": [
       "[1] 4"
      ]
     },
     "metadata": {},
     "output_type": "display_data"
    },
    {
     "data": {
      "text/html": [
       "3"
      ],
      "text/latex": [
       "3"
      ],
      "text/markdown": [
       "3"
      ],
      "text/plain": [
       "[1] 3"
      ]
     },
     "metadata": {},
     "output_type": "display_data"
    },
    {
     "data": {
      "text/html": [
       "<ol class=list-inline>\n",
       "\t<li>4</li>\n",
       "\t<li>3</li>\n",
       "\t<li>2</li>\n",
       "</ol>\n"
      ],
      "text/latex": [
       "\\begin{enumerate*}\n",
       "\\item 4\n",
       "\\item 3\n",
       "\\item 2\n",
       "\\end{enumerate*}\n"
      ],
      "text/markdown": [
       "1. 4\n",
       "2. 3\n",
       "3. 2\n",
       "\n",
       "\n"
      ],
      "text/plain": [
       "[1] 4 3 2"
      ]
     },
     "metadata": {},
     "output_type": "display_data"
    },
    {
     "data": {
      "text/html": [
       "<strong>$dim</strong> = <ol class=list-inline>\n",
       "\t<li>4</li>\n",
       "\t<li>3</li>\n",
       "\t<li>2</li>\n",
       "</ol>\n"
      ],
      "text/latex": [
       "\\textbf{\\$dim} = \\begin{enumerate*}\n",
       "\\item 4\n",
       "\\item 3\n",
       "\\item 2\n",
       "\\end{enumerate*}\n"
      ],
      "text/markdown": [
       "**$dim** = 1. 4\n",
       "2. 3\n",
       "3. 2\n",
       "\n",
       "\n"
      ],
      "text/plain": [
       "$dim\n",
       "[1] 4 3 2\n"
      ]
     },
     "metadata": {},
     "output_type": "display_data"
    },
    {
     "name": "stdout",
     "output_type": "stream",
     "text": [
      ", , 1, 1\n",
      "\n",
      "     [,1] [,2] [,3]\n",
      "[1,]    1    5    9\n",
      "[2,]    2    6   10\n",
      "[3,]    3    7   11\n",
      "[4,]    4    8   12\n",
      "\n",
      ", , 2, 1\n",
      "\n",
      "     [,1] [,2] [,3]\n",
      "[1,]   13   17   21\n",
      "[2,]   14   18   22\n",
      "[3,]   15   19   23\n",
      "[4,]   16   20   24\n",
      "\n",
      ", , 1, 2\n",
      "\n",
      "     [,1] [,2] [,3]\n",
      "[1,]   25   29   33\n",
      "[2,]   26   30   34\n",
      "[3,]   27   31   35\n",
      "[4,]   28   32   36\n",
      "\n",
      ", , 2, 2\n",
      "\n",
      "     [,1] [,2] [,3]\n",
      "[1,]   37   41   45\n",
      "[2,]   38   42   46\n",
      "[3,]   39   43   47\n",
      "[4,]   40   44   48\n",
      "\n"
     ]
    },
    {
     "data": {
      "text/html": [
       "'array'"
      ],
      "text/latex": [
       "'array'"
      ],
      "text/markdown": [
       "'array'"
      ],
      "text/plain": [
       "[1] \"array\""
      ]
     },
     "metadata": {},
     "output_type": "display_data"
    },
    {
     "data": {
      "text/html": [
       "48"
      ],
      "text/latex": [
       "48"
      ],
      "text/markdown": [
       "48"
      ],
      "text/plain": [
       "[1] 48"
      ]
     },
     "metadata": {},
     "output_type": "display_data"
    },
    {
     "data": {
      "text/html": [
       "4"
      ],
      "text/latex": [
       "4"
      ],
      "text/markdown": [
       "4"
      ],
      "text/plain": [
       "[1] 4"
      ]
     },
     "metadata": {},
     "output_type": "display_data"
    },
    {
     "data": {
      "text/html": [
       "3"
      ],
      "text/latex": [
       "3"
      ],
      "text/markdown": [
       "3"
      ],
      "text/plain": [
       "[1] 3"
      ]
     },
     "metadata": {},
     "output_type": "display_data"
    },
    {
     "data": {
      "text/html": [
       "<ol class=list-inline>\n",
       "\t<li>4</li>\n",
       "\t<li>3</li>\n",
       "\t<li>2</li>\n",
       "\t<li>2</li>\n",
       "</ol>\n"
      ],
      "text/latex": [
       "\\begin{enumerate*}\n",
       "\\item 4\n",
       "\\item 3\n",
       "\\item 2\n",
       "\\item 2\n",
       "\\end{enumerate*}\n"
      ],
      "text/markdown": [
       "1. 4\n",
       "2. 3\n",
       "3. 2\n",
       "4. 2\n",
       "\n",
       "\n"
      ],
      "text/plain": [
       "[1] 4 3 2 2"
      ]
     },
     "metadata": {},
     "output_type": "display_data"
    },
    {
     "data": {
      "text/html": [
       "<strong>$dim</strong> = <ol class=list-inline>\n",
       "\t<li>4</li>\n",
       "\t<li>3</li>\n",
       "\t<li>2</li>\n",
       "\t<li>2</li>\n",
       "</ol>\n"
      ],
      "text/latex": [
       "\\textbf{\\$dim} = \\begin{enumerate*}\n",
       "\\item 4\n",
       "\\item 3\n",
       "\\item 2\n",
       "\\item 2\n",
       "\\end{enumerate*}\n"
      ],
      "text/markdown": [
       "**$dim** = 1. 4\n",
       "2. 3\n",
       "3. 2\n",
       "4. 2\n",
       "\n",
       "\n"
      ],
      "text/plain": [
       "$dim\n",
       "[1] 4 3 2 2\n"
      ]
     },
     "metadata": {},
     "output_type": "display_data"
    }
   ],
   "source": [
    "print(ar_x)\n",
    "class(ar_x)\n",
    "length(ar_x)\n",
    "nrow(ar_x)\n",
    "ncol(ar_x)\n",
    "dim(ar_x)\n",
    "attributes(ar_x)\n",
    "\n",
    "print(ar_y)\n",
    "class(ar_y)\n",
    "length(ar_y)\n",
    "nrow(ar_y)\n",
    "ncol(ar_y)\n",
    "dim(ar_y)\n",
    "attributes(ar_y)"
   ]
  },
  {
   "cell_type": "markdown",
   "metadata": {},
   "source": [
    "Všimněte si, že funkce `nrow` a `ncol` i u polí fungují celkem intuitivně. Přistupování k jednotlivým prvkům a \"podprostorům\" pole je též v souladu s tím, co už jsme si ukázali:"
   ]
  },
  {
   "cell_type": "code",
   "execution_count": 26,
   "metadata": {},
   "outputs": [
    {
     "name": "stdout",
     "output_type": "stream",
     "text": [
      ", , 1\n",
      "\n",
      "     [,1] [,2] [,3]\n",
      "[1,]    1    5    9\n",
      "[2,]    2    6   10\n",
      "[3,]    3    7   11\n",
      "[4,]    4    8   12\n",
      "\n",
      ", , 2\n",
      "\n",
      "     [,1] [,2] [,3]\n",
      "[1,]   13   17   21\n",
      "[2,]   14   18   22\n",
      "[3,]   15   19   23\n",
      "[4,]   16   20   24\n",
      "\n"
     ]
    }
   ],
   "source": [
    "print(ar_x)"
   ]
  },
  {
   "cell_type": "code",
   "execution_count": 27,
   "metadata": {},
   "outputs": [
    {
     "name": "stdout",
     "output_type": "stream",
     "text": [
      "     [,1] [,2]\n",
      "[1,]    1   13\n",
      "[2,]    5   17\n",
      "[3,]    9   21\n",
      "     [,1] [,2]\n",
      "[1,]    3   15\n",
      "[2,]    7   19\n",
      "[3,]   11   23\n",
      "     [,1] [,2]\n",
      "[1,]    5   17\n",
      "[2,]    6   18\n",
      "[3,]    7   19\n",
      "[4,]    8   20\n",
      "[1]  5 17\n",
      "[1] 17\n"
     ]
    }
   ],
   "source": [
    "print(ar_x[1,,])\n",
    "print(ar_x[3,,])\n",
    "print(ar_x[,2,])\n",
    "print(ar_x[1,2,])\n",
    "print(ar_x[1,2,2])"
   ]
  },
  {
   "cell_type": "code",
   "execution_count": 28,
   "metadata": {},
   "outputs": [
    {
     "name": "stdout",
     "output_type": "stream",
     "text": [
      ", , 1\n",
      "\n",
      "     [,1] [,2] [,3]\n",
      "[1,]    1    5    9\n",
      "[2,]    2    6   10\n",
      "[3,]    3    7   11\n",
      "\n",
      ", , 2\n",
      "\n",
      "     [,1] [,2] [,3]\n",
      "[1,]   13   17   21\n",
      "[2,]   14   18   22\n",
      "[3,]   15   19   23\n",
      "\n"
     ]
    }
   ],
   "source": [
    "print(ar_x[1:3,,])"
   ]
  },
  {
   "cell_type": "code",
   "execution_count": 29,
   "metadata": {},
   "outputs": [
    {
     "name": "stdout",
     "output_type": "stream",
     "text": [
      ", , 1\n",
      "\n",
      "     [,1] [,2]\n",
      "[1,]    1    5\n",
      "[2,]    2    6\n",
      "[3,]    3    7\n",
      "[4,]    4    8\n",
      "\n",
      ", , 2\n",
      "\n",
      "     [,1] [,2]\n",
      "[1,]   13   17\n",
      "[2,]   14   18\n",
      "[3,]   15   19\n",
      "[4,]   16   20\n",
      "\n"
     ]
    }
   ],
   "source": [
    "print(ar_x[,1:2,])"
   ]
  },
  {
   "cell_type": "code",
   "execution_count": 30,
   "metadata": {},
   "outputs": [
    {
     "name": "stdout",
     "output_type": "stream",
     "text": [
      ", , 1\n",
      "\n",
      "     [,1]\n",
      "[1,]    1\n",
      "\n",
      ", , 2\n",
      "\n",
      "     [,1]\n",
      "[1,]   13\n",
      "\n"
     ]
    }
   ],
   "source": [
    "print(ar_x[1,1,, drop = F])"
   ]
  },
  {
   "cell_type": "markdown",
   "metadata": {},
   "source": [
    "### Použití polí\n",
    "\n",
    "Pole zřejmě nebudete používat tak často jako dvourozměrné matice, ale je dobré o nich vědět. Mohli bychom takto například snadno agregovat data o různých naměřených koncentracích různých látek pro skupinu vzorků za různých podmínek:"
   ]
  },
  {
   "cell_type": "code",
   "execution_count": 31,
   "metadata": {},
   "outputs": [
    {
     "name": "stdout",
     "output_type": "stream",
     "text": [
      ", , s_ano\n",
      "\n",
      "        koncentrace_a koncentrace_b\n",
      "vzorek1            23            11\n",
      "vzorek2            19            10\n",
      "vzorek3            22            12\n",
      "\n",
      ", , s_ne\n",
      "\n",
      "        koncentrace_a koncentrace_b\n",
      "vzorek1            31             8\n",
      "vzorek2            34             9\n",
      "vzorek3            29             7\n",
      "\n"
     ]
    }
   ],
   "source": [
    "světlo_ano <- matrix(\n",
    "    c(\n",
    "        23, 11,\n",
    "        19, 10,\n",
    "        22, 12\n",
    "    )\n",
    "    , byrow = T\n",
    "    , nrow = 3\n",
    ")\n",
    "\n",
    "světlo_ne <- matrix(\n",
    "    c(\n",
    "        31, 8,\n",
    "        34, 9,\n",
    "        29, 7\n",
    "    )\n",
    "    , byrow = T\n",
    "    , nrow = 3\n",
    ")\n",
    "\n",
    "data <- array(\n",
    "    data = c(\n",
    "        světlo_ano\n",
    "        , světlo_ne\n",
    "    )\n",
    "    , dim = c(3,2,2)\n",
    "    , dimnames = list(\n",
    "        c(\"vzorek1\", \"vzorek2\", \"vzorek3\"),\n",
    "        c(\"koncentrace_a\", \"koncentrace_b\"),\n",
    "        c(\"s_ano\", \"s_ne\")\n",
    "    )\n",
    ")\n",
    "print(data)"
   ]
  },
  {
   "cell_type": "markdown",
   "metadata": {},
   "source": [
    "Díky tomu si pak můžeme například snadno vygenerovat tabulky koncentrací při různých podmínkách pro jednotlivé vzorky:"
   ]
  },
  {
   "cell_type": "code",
   "execution_count": 32,
   "metadata": {},
   "outputs": [
    {
     "name": "stdout",
     "output_type": "stream",
     "text": [
      "              s_ano s_ne\n",
      "koncentrace_a    23   31\n",
      "koncentrace_b    11    8\n",
      "              s_ano s_ne\n",
      "koncentrace_a    19   34\n",
      "koncentrace_b    10    9\n",
      "              s_ano s_ne\n",
      "koncentrace_a    22   29\n",
      "koncentrace_b    12    7\n"
     ]
    }
   ],
   "source": [
    "print(data[\"vzorek1\",,])\n",
    "print(data[\"vzorek2\",,])\n",
    "print(data[\"vzorek3\",,])"
   ]
  },
  {
   "cell_type": "markdown",
   "metadata": {},
   "source": [
    "nebo koncentrace všech vzorků za světla:"
   ]
  },
  {
   "cell_type": "code",
   "execution_count": 33,
   "metadata": {},
   "outputs": [
    {
     "name": "stdout",
     "output_type": "stream",
     "text": [
      "        koncentrace_a koncentrace_b\n",
      "vzorek1            23            11\n",
      "vzorek2            19            10\n",
      "vzorek3            22            12\n"
     ]
    }
   ],
   "source": [
    "print(data[,,\"s_ano\"])"
   ]
  },
  {
   "cell_type": "markdown",
   "metadata": {},
   "source": [
    "Tato data by však šla reprezentovat i následující maticí:"
   ]
  },
  {
   "cell_type": "code",
   "execution_count": 34,
   "metadata": {},
   "outputs": [
    {
     "data": {
      "text/html": [
       "<table>\n",
       "<thead><tr><th></th><th scope=col>světlo</th><th scope=col>koncentrace_a</th><th scope=col>koncentrace_b</th></tr></thead>\n",
       "<tbody>\n",
       "\t<tr><th scope=row>vzorek1</th><td>1 </td><td>23</td><td>11</td></tr>\n",
       "\t<tr><th scope=row>vzorek2</th><td>1 </td><td>19</td><td>10</td></tr>\n",
       "\t<tr><th scope=row>vzorek3</th><td>1 </td><td>22</td><td>12</td></tr>\n",
       "\t<tr><th scope=row>vzorek1</th><td>0 </td><td>31</td><td> 8</td></tr>\n",
       "\t<tr><th scope=row>vzorek2</th><td>0 </td><td>34</td><td> 9</td></tr>\n",
       "\t<tr><th scope=row>vzorek3</th><td>0 </td><td>29</td><td> 7</td></tr>\n",
       "</tbody>\n",
       "</table>\n"
      ],
      "text/latex": [
       "\\begin{tabular}{r|lll}\n",
       "  & světlo & koncentrace\\_a & koncentrace\\_b\\\\\n",
       "\\hline\n",
       "\tvzorek1 & 1  & 23 & 11\\\\\n",
       "\tvzorek2 & 1  & 19 & 10\\\\\n",
       "\tvzorek3 & 1  & 22 & 12\\\\\n",
       "\tvzorek1 & 0  & 31 &  8\\\\\n",
       "\tvzorek2 & 0  & 34 &  9\\\\\n",
       "\tvzorek3 & 0  & 29 &  7\\\\\n",
       "\\end{tabular}\n"
      ],
      "text/markdown": [
       "\n",
       "| <!--/--> | světlo | koncentrace_a | koncentrace_b | \n",
       "|---|---|---|---|---|---|\n",
       "| vzorek1 | 1  | 23 | 11 | \n",
       "| vzorek2 | 1  | 19 | 10 | \n",
       "| vzorek3 | 1  | 22 | 12 | \n",
       "| vzorek1 | 0  | 31 |  8 | \n",
       "| vzorek2 | 0  | 34 |  9 | \n",
       "| vzorek3 | 0  | 29 |  7 | \n",
       "\n",
       "\n"
      ],
      "text/plain": [
       "        světlo koncentrace_a koncentrace_b\n",
       "vzorek1 1      23            11           \n",
       "vzorek2 1      19            10           \n",
       "vzorek3 1      22            12           \n",
       "vzorek1 0      31             8           \n",
       "vzorek2 0      34             9           \n",
       "vzorek3 0      29             7           "
      ]
     },
     "metadata": {},
     "output_type": "display_data"
    }
   ],
   "source": [
    "data <- matrix(\n",
    "    c(\n",
    "        1, 23, 11,\n",
    "        1, 19, 10,\n",
    "        1, 22, 12,\n",
    "        0, 31, 8,\n",
    "        0, 34, 9,\n",
    "        0, 29, 7\n",
    "    )\n",
    "    , byrow = T\n",
    "    , ncol = 3\n",
    ")\n",
    "colnames(data) <- c(\"světlo\", \"koncentrace_a\", \"koncentrace_b\")\n",
    "rownames(data) <- c(\"vzorek1\", \"vzorek2\", \"vzorek3\", \"vzorek1\", \"vzorek2\", \"vzorek3\")\n",
    "data"
   ]
  },
  {
   "cell_type": "markdown",
   "metadata": {},
   "source": [
    "Obdobné tabulky bychom pak obdrželi následovně:"
   ]
  },
  {
   "cell_type": "code",
   "execution_count": 35,
   "metadata": {},
   "outputs": [
    {
     "data": {
      "text/html": [
       "<table>\n",
       "<thead><tr><th></th><th scope=col>vzorek1</th><th scope=col>vzorek1</th></tr></thead>\n",
       "<tbody>\n",
       "\t<tr><th scope=row>světlo</th><td> 1</td><td> 0</td></tr>\n",
       "\t<tr><th scope=row>koncentrace_a</th><td>23</td><td>31</td></tr>\n",
       "\t<tr><th scope=row>koncentrace_b</th><td>11</td><td> 8</td></tr>\n",
       "</tbody>\n",
       "</table>\n"
      ],
      "text/latex": [
       "\\begin{tabular}{r|ll}\n",
       "  & vzorek1 & vzorek1\\\\\n",
       "\\hline\n",
       "\tsvětlo &  1 &  0\\\\\n",
       "\tkoncentrace\\_a & 23 & 31\\\\\n",
       "\tkoncentrace\\_b & 11 &  8\\\\\n",
       "\\end{tabular}\n"
      ],
      "text/markdown": [
       "\n",
       "| <!--/--> | vzorek1 | vzorek1 | \n",
       "|---|---|---|\n",
       "| světlo |  1 |  0 | \n",
       "| koncentrace_a | 23 | 31 | \n",
       "| koncentrace_b | 11 |  8 | \n",
       "\n",
       "\n"
      ],
      "text/plain": [
       "              vzorek1 vzorek1\n",
       "světlo         1       0     \n",
       "koncentrace_a 23      31     \n",
       "koncentrace_b 11       8     "
      ]
     },
     "metadata": {},
     "output_type": "display_data"
    }
   ],
   "source": [
    "t(data[rownames(data) == \"vzorek1\",])"
   ]
  },
  {
   "cell_type": "code",
   "execution_count": 36,
   "metadata": {},
   "outputs": [
    {
     "data": {
      "text/html": [
       "<table>\n",
       "<thead><tr><th></th><th scope=col>světlo</th><th scope=col>koncentrace_a</th><th scope=col>koncentrace_b</th></tr></thead>\n",
       "<tbody>\n",
       "\t<tr><th scope=row>vzorek1</th><td>1 </td><td>23</td><td>11</td></tr>\n",
       "\t<tr><th scope=row>vzorek2</th><td>1 </td><td>19</td><td>10</td></tr>\n",
       "\t<tr><th scope=row>vzorek3</th><td>1 </td><td>22</td><td>12</td></tr>\n",
       "</tbody>\n",
       "</table>\n"
      ],
      "text/latex": [
       "\\begin{tabular}{r|lll}\n",
       "  & světlo & koncentrace\\_a & koncentrace\\_b\\\\\n",
       "\\hline\n",
       "\tvzorek1 & 1  & 23 & 11\\\\\n",
       "\tvzorek2 & 1  & 19 & 10\\\\\n",
       "\tvzorek3 & 1  & 22 & 12\\\\\n",
       "\\end{tabular}\n"
      ],
      "text/markdown": [
       "\n",
       "| <!--/--> | světlo | koncentrace_a | koncentrace_b | \n",
       "|---|---|---|\n",
       "| vzorek1 | 1  | 23 | 11 | \n",
       "| vzorek2 | 1  | 19 | 10 | \n",
       "| vzorek3 | 1  | 22 | 12 | \n",
       "\n",
       "\n"
      ],
      "text/plain": [
       "        světlo koncentrace_a koncentrace_b\n",
       "vzorek1 1      23            11           \n",
       "vzorek2 1      19            10           \n",
       "vzorek3 1      22            12           "
      ]
     },
     "metadata": {},
     "output_type": "display_data"
    }
   ],
   "source": [
    "data[data[,\"světlo\"] == 1, ]"
   ]
  },
  {
   "cell_type": "markdown",
   "metadata": {},
   "source": [
    "R vám tedy nabízí více možností jak reprezentovat data a je často jen na vás, abyste usoudili, co vám přijde vhodnější a srozumitelnější. Některé metody a funkce v R však někdy vyžadují data ve specifickém tvaru a v takových případech nebudete mít větší možnost volby. Při volbě vhodné reprezentace je tedy někdy dobré vzít v potaz i možnosti jednotlivých funkcí, které asi budete při své analýze používat.\n",
    "\n",
    "## Seznam (list)\n",
    "\n",
    "Jednou z nevýhod vektorů je, že nemohou agregovat data různých typů, což trochu omezuje možnosti jejich použití. Naštěstí vedle vektorů existují ještě seznamy, které přesně toto umožňují. Následující seznam například agreguje informace o jakémsi měření:"
   ]
  },
  {
   "cell_type": "code",
   "execution_count": 37,
   "metadata": {},
   "outputs": [
    {
     "data": {
      "text/plain": [
       "$compound_a\n",
       "[1] 25\n",
       "\n",
       "$compound_b\n",
       "[1] 12\n",
       "\n",
       "$units\n",
       "[1] \"nM\"\n",
       "\n",
       "$measured_by\n",
       "[1] \"John Doe\" \"Jane Doe\"\n",
       "\n",
       "$measured_on\n",
       "[1] \"2016-07-01\"\n",
       "\n",
       "$comments\n",
       "NULL\n"
      ]
     },
     "metadata": {},
     "output_type": "display_data"
    }
   ],
   "source": [
    "l_x <- list(\n",
    "    compound_a = 25 # koncentrace látky A\n",
    "    , compound_b = 12 # koncentrace látky B\n",
    "    , units = 'nM'\n",
    "    , measured_by = c(\"John Doe\", \"Jane Doe\")\n",
    "    , measured_on = \"2016-07-01\"\n",
    "    , comments = c()\n",
    ")\n",
    "l_x"
   ]
  },
  {
   "cell_type": "markdown",
   "metadata": {},
   "source": [
    "Seznam je vlastně vektor, kde každá jeho položka může být jakéhokoliv datového typu. Položky v seznamu mohou být (a většinou jsou) pojmenované a stejně jako u vektoru mají dané pořadí, které je dané pořadím argumentů v době vytvoření. \n",
    "\n",
    "Přes jednotlivé pložky uložené v seznamu lze v daném pořadí iterovat:"
   ]
  },
  {
   "cell_type": "code",
   "execution_count": 38,
   "metadata": {},
   "outputs": [
    {
     "name": "stdout",
     "output_type": "stream",
     "text": [
      "[1] 25\n",
      "[1] 12\n",
      "[1] \"nM\"\n",
      "[1] \"John Doe\" \"Jane Doe\"\n",
      "[1] \"2016-07-01\"\n",
      "NULL\n"
     ]
    }
   ],
   "source": [
    "for (i in l_x) print(i)"
   ]
  },
  {
   "cell_type": "markdown",
   "metadata": {},
   "source": [
    "Na jména jednotlivých položek se jako u vektoru lze zeptat pomocí funkce `names`:"
   ]
  },
  {
   "cell_type": "code",
   "execution_count": 39,
   "metadata": {},
   "outputs": [
    {
     "data": {
      "text/html": [
       "<ol class=list-inline>\n",
       "\t<li>'compound_a'</li>\n",
       "\t<li>'compound_b'</li>\n",
       "\t<li>'units'</li>\n",
       "\t<li>'measured_by'</li>\n",
       "\t<li>'measured_on'</li>\n",
       "\t<li>'comments'</li>\n",
       "</ol>\n"
      ],
      "text/latex": [
       "\\begin{enumerate*}\n",
       "\\item 'compound\\_a'\n",
       "\\item 'compound\\_b'\n",
       "\\item 'units'\n",
       "\\item 'measured\\_by'\n",
       "\\item 'measured\\_on'\n",
       "\\item 'comments'\n",
       "\\end{enumerate*}\n"
      ],
      "text/markdown": [
       "1. 'compound_a'\n",
       "2. 'compound_b'\n",
       "3. 'units'\n",
       "4. 'measured_by'\n",
       "5. 'measured_on'\n",
       "6. 'comments'\n",
       "\n",
       "\n"
      ],
      "text/plain": [
       "[1] \"compound_a\"  \"compound_b\"  \"units\"       \"measured_by\" \"measured_on\"\n",
       "[6] \"comments\"   "
      ]
     },
     "metadata": {},
     "output_type": "display_data"
    }
   ],
   "source": [
    "names(l_x)"
   ]
  },
  {
   "cell_type": "markdown",
   "metadata": {},
   "source": [
    "Přistupovat k jednotlivým položkám pak lze pomocí těchto jmen a za použití dvou nových operátorů:"
   ]
  },
  {
   "cell_type": "code",
   "execution_count": 40,
   "metadata": {},
   "outputs": [
    {
     "data": {
      "text/html": [
       "25"
      ],
      "text/latex": [
       "25"
      ],
      "text/markdown": [
       "25"
      ],
      "text/plain": [
       "[1] 25"
      ]
     },
     "metadata": {},
     "output_type": "display_data"
    },
    {
     "data": {
      "text/html": [
       "<ol class=list-inline>\n",
       "\t<li>'John Doe'</li>\n",
       "\t<li>'Jane Doe'</li>\n",
       "</ol>\n"
      ],
      "text/latex": [
       "\\begin{enumerate*}\n",
       "\\item 'John Doe'\n",
       "\\item 'Jane Doe'\n",
       "\\end{enumerate*}\n"
      ],
      "text/markdown": [
       "1. 'John Doe'\n",
       "2. 'Jane Doe'\n",
       "\n",
       "\n"
      ],
      "text/plain": [
       "[1] \"John Doe\" \"Jane Doe\""
      ]
     },
     "metadata": {},
     "output_type": "display_data"
    },
    {
     "data": {
      "text/html": [
       "25"
      ],
      "text/latex": [
       "25"
      ],
      "text/markdown": [
       "25"
      ],
      "text/plain": [
       "[1] 25"
      ]
     },
     "metadata": {},
     "output_type": "display_data"
    },
    {
     "data": {
      "text/html": [
       "<ol class=list-inline>\n",
       "\t<li>'John Doe'</li>\n",
       "\t<li>'Jane Doe'</li>\n",
       "</ol>\n"
      ],
      "text/latex": [
       "\\begin{enumerate*}\n",
       "\\item 'John Doe'\n",
       "\\item 'Jane Doe'\n",
       "\\end{enumerate*}\n"
      ],
      "text/markdown": [
       "1. 'John Doe'\n",
       "2. 'Jane Doe'\n",
       "\n",
       "\n"
      ],
      "text/plain": [
       "[1] \"John Doe\" \"Jane Doe\""
      ]
     },
     "metadata": {},
     "output_type": "display_data"
    }
   ],
   "source": [
    "l_x$compound_a\n",
    "l_x$measured_by\n",
    "l_x[[\"compound_a\"]]\n",
    "l_x[[\"measured_by\"]]"
   ]
  },
  {
   "cell_type": "markdown",
   "metadata": {},
   "source": [
    "V těchto operátorech v podstatě není žádný rozdíl, ale druhá možnost pomocí řetězce a hranatých závorek je o něco flexibilnější, neboť umožňuje přistupovat k jednotlivým prvkům skrze proměnné:"
   ]
  },
  {
   "cell_type": "code",
   "execution_count": 41,
   "metadata": {},
   "outputs": [
    {
     "data": {
      "text/html": [
       "'nM'"
      ],
      "text/latex": [
       "'nM'"
      ],
      "text/markdown": [
       "'nM'"
      ],
      "text/plain": [
       "[1] \"nM\""
      ]
     },
     "metadata": {},
     "output_type": "display_data"
    }
   ],
   "source": [
    "item <- \"units\"\n",
    "l_x[[item]]"
   ]
  },
  {
   "cell_type": "markdown",
   "metadata": {},
   "source": [
    "Naproti tomu klasický operátor `[]` vrací určitou podmnožinu seznamu, která je opět typu `list`:"
   ]
  },
  {
   "cell_type": "code",
   "execution_count": 42,
   "metadata": {},
   "outputs": [
    {
     "data": {
      "text/html": [
       "<strong>$units</strong> = 'nM'"
      ],
      "text/latex": [
       "\\textbf{\\$units} = 'nM'"
      ],
      "text/markdown": [
       "**$units** = 'nM'"
      ],
      "text/plain": [
       "$units\n",
       "[1] \"nM\"\n"
      ]
     },
     "metadata": {},
     "output_type": "display_data"
    },
    {
     "data": {
      "text/html": [
       "'list'"
      ],
      "text/latex": [
       "'list'"
      ],
      "text/markdown": [
       "'list'"
      ],
      "text/plain": [
       "[1] \"list\""
      ]
     },
     "metadata": {},
     "output_type": "display_data"
    }
   ],
   "source": [
    "l_x[\"units\"]\n",
    "class(l_x[\"units\"])"
   ]
  },
  {
   "cell_type": "markdown",
   "metadata": {},
   "source": [
    "Toto je užitečná vlastnost, neboť nám to umožňuje ze seznamu vybírat určité podmnožiny jednotlivých položek:"
   ]
  },
  {
   "cell_type": "code",
   "execution_count": 43,
   "metadata": {},
   "outputs": [
    {
     "data": {
      "text/html": [
       "<dl>\n",
       "\t<dt>$compound_a</dt>\n",
       "\t\t<dd>25</dd>\n",
       "\t<dt>$compound_b</dt>\n",
       "\t\t<dd>12</dd>\n",
       "\t<dt>$units</dt>\n",
       "\t\t<dd>'nM'</dd>\n",
       "\t<dt>$measured_by</dt>\n",
       "\t\t<dd><ol class=list-inline>\n",
       "\t<li>'John Doe'</li>\n",
       "\t<li>'Jane Doe'</li>\n",
       "</ol>\n",
       "</dd>\n",
       "\t<dt>$measured_on</dt>\n",
       "\t\t<dd>'2016-07-01'</dd>\n",
       "</dl>\n"
      ],
      "text/latex": [
       "\\begin{description}\n",
       "\\item[\\$compound\\_a] 25\n",
       "\\item[\\$compound\\_b] 12\n",
       "\\item[\\$units] 'nM'\n",
       "\\item[\\$measured\\_by] \\begin{enumerate*}\n",
       "\\item 'John Doe'\n",
       "\\item 'Jane Doe'\n",
       "\\end{enumerate*}\n",
       "\n",
       "\\item[\\$measured\\_on] '2016-07-01'\n",
       "\\end{description}\n"
      ],
      "text/markdown": [
       "$compound_a\n",
       ":   25\n",
       "$compound_b\n",
       ":   12\n",
       "$units\n",
       ":   'nM'\n",
       "$measured_by\n",
       ":   1. 'John Doe'\n",
       "2. 'Jane Doe'\n",
       "\n",
       "\n",
       "\n",
       "$measured_on\n",
       ":   '2016-07-01'\n",
       "\n",
       "\n"
      ],
      "text/plain": [
       "$compound_a\n",
       "[1] 25\n",
       "\n",
       "$compound_b\n",
       "[1] 12\n",
       "\n",
       "$units\n",
       "[1] \"nM\"\n",
       "\n",
       "$measured_by\n",
       "[1] \"John Doe\" \"Jane Doe\"\n",
       "\n",
       "$measured_on\n",
       "[1] \"2016-07-01\"\n"
      ]
     },
     "metadata": {},
     "output_type": "display_data"
    }
   ],
   "source": [
    "l_x_no_comment <- l_x[!(names(l_x) %in% c(\"comments\"))]\n",
    "l_x_no_comment"
   ]
  },
  {
   "cell_type": "markdown",
   "metadata": {},
   "source": [
    "Položky seznamu lze též snado přidávat a mazat:"
   ]
  },
  {
   "cell_type": "code",
   "execution_count": 44,
   "metadata": {},
   "outputs": [
    {
     "data": {
      "text/html": [
       "7"
      ],
      "text/latex": [
       "7"
      ],
      "text/markdown": [
       "7"
      ],
      "text/plain": [
       "[1] 7"
      ]
     },
     "metadata": {},
     "output_type": "display_data"
    },
    {
     "data": {
      "text/plain": [
       "$compound_a\n",
       "[1] 25\n",
       "\n",
       "$compound_b\n",
       "[1] 12\n",
       "\n",
       "$units\n",
       "[1] \"nM\"\n",
       "\n",
       "$measured_by\n",
       "[1] \"John Doe\" \"Jane Doe\"\n",
       "\n",
       "$measured_on\n",
       "[1] \"2016-07-01\"\n",
       "\n",
       "$comments\n",
       "NULL\n",
       "\n",
       "$sum\n",
       "[1] 37\n"
      ]
     },
     "metadata": {},
     "output_type": "display_data"
    }
   ],
   "source": [
    "l_x$sum <- l_x$compound_a + l_x$compound_b\n",
    "length(l_x) # vrací počet položek\n",
    "l_x"
   ]
  },
  {
   "cell_type": "code",
   "execution_count": 45,
   "metadata": {},
   "outputs": [
    {
     "data": {
      "text/html": [
       "6"
      ],
      "text/latex": [
       "6"
      ],
      "text/markdown": [
       "6"
      ],
      "text/plain": [
       "[1] 6"
      ]
     },
     "metadata": {},
     "output_type": "display_data"
    },
    {
     "data": {
      "text/html": [
       "<dl>\n",
       "\t<dt>$compound_a</dt>\n",
       "\t\t<dd>25</dd>\n",
       "\t<dt>$compound_b</dt>\n",
       "\t\t<dd>12</dd>\n",
       "\t<dt>$units</dt>\n",
       "\t\t<dd>'nM'</dd>\n",
       "\t<dt>$measured_by</dt>\n",
       "\t\t<dd><ol class=list-inline>\n",
       "\t<li>'John Doe'</li>\n",
       "\t<li>'Jane Doe'</li>\n",
       "</ol>\n",
       "</dd>\n",
       "\t<dt>$measured_on</dt>\n",
       "\t\t<dd>'2016-07-01'</dd>\n",
       "\t<dt>$sum</dt>\n",
       "\t\t<dd>37</dd>\n",
       "</dl>\n"
      ],
      "text/latex": [
       "\\begin{description}\n",
       "\\item[\\$compound\\_a] 25\n",
       "\\item[\\$compound\\_b] 12\n",
       "\\item[\\$units] 'nM'\n",
       "\\item[\\$measured\\_by] \\begin{enumerate*}\n",
       "\\item 'John Doe'\n",
       "\\item 'Jane Doe'\n",
       "\\end{enumerate*}\n",
       "\n",
       "\\item[\\$measured\\_on] '2016-07-01'\n",
       "\\item[\\$sum] 37\n",
       "\\end{description}\n"
      ],
      "text/markdown": [
       "$compound_a\n",
       ":   25\n",
       "$compound_b\n",
       ":   12\n",
       "$units\n",
       ":   'nM'\n",
       "$measured_by\n",
       ":   1. 'John Doe'\n",
       "2. 'Jane Doe'\n",
       "\n",
       "\n",
       "\n",
       "$measured_on\n",
       ":   '2016-07-01'\n",
       "$sum\n",
       ":   37\n",
       "\n",
       "\n"
      ],
      "text/plain": [
       "$compound_a\n",
       "[1] 25\n",
       "\n",
       "$compound_b\n",
       "[1] 12\n",
       "\n",
       "$units\n",
       "[1] \"nM\"\n",
       "\n",
       "$measured_by\n",
       "[1] \"John Doe\" \"Jane Doe\"\n",
       "\n",
       "$measured_on\n",
       "[1] \"2016-07-01\"\n",
       "\n",
       "$sum\n",
       "[1] 37\n"
      ]
     },
     "metadata": {},
     "output_type": "display_data"
    }
   ],
   "source": [
    "l_x$comments <- NULL\n",
    "length(l_x)\n",
    "l_x"
   ]
  },
  {
   "cell_type": "markdown",
   "metadata": {},
   "source": [
    "Narozdíl od vektoru tedy můžeme tuto strukturu zvětšovat nebo zmenšovat bez toho, aniž bychom museli vytvářet nový seznam.\n",
    "\n",
    "Seznam lze převést na vektor pomocí funkce `unlist`:"
   ]
  },
  {
   "cell_type": "code",
   "execution_count": 46,
   "metadata": {},
   "outputs": [
    {
     "data": {
      "text/html": [
       "<dl class=dl-horizontal>\n",
       "\t<dt>compound_a</dt>\n",
       "\t\t<dd>'25'</dd>\n",
       "\t<dt>compound_b</dt>\n",
       "\t\t<dd>'12'</dd>\n",
       "\t<dt>units</dt>\n",
       "\t\t<dd>'nM'</dd>\n",
       "\t<dt>measured_by1</dt>\n",
       "\t\t<dd>'John Doe'</dd>\n",
       "\t<dt>measured_by2</dt>\n",
       "\t\t<dd>'Jane Doe'</dd>\n",
       "\t<dt>measured_on</dt>\n",
       "\t\t<dd>'2016-07-01'</dd>\n",
       "\t<dt>sum</dt>\n",
       "\t\t<dd>'37'</dd>\n",
       "</dl>\n"
      ],
      "text/latex": [
       "\\begin{description*}\n",
       "\\item[compound\\textbackslash{}\\_a] '25'\n",
       "\\item[compound\\textbackslash{}\\_b] '12'\n",
       "\\item[units] 'nM'\n",
       "\\item[measured\\textbackslash{}\\_by1] 'John Doe'\n",
       "\\item[measured\\textbackslash{}\\_by2] 'Jane Doe'\n",
       "\\item[measured\\textbackslash{}\\_on] '2016-07-01'\n",
       "\\item[sum] '37'\n",
       "\\end{description*}\n"
      ],
      "text/markdown": [
       "compound_a\n",
       ":   '25'compound_b\n",
       ":   '12'units\n",
       ":   'nM'measured_by1\n",
       ":   'John Doe'measured_by2\n",
       ":   'Jane Doe'measured_on\n",
       ":   '2016-07-01'sum\n",
       ":   '37'\n",
       "\n"
      ],
      "text/plain": [
       "  compound_a   compound_b        units measured_by1 measured_by2  measured_on \n",
       "        \"25\"         \"12\"         \"nM\"   \"John Doe\"   \"Jane Doe\" \"2016-07-01\" \n",
       "         sum \n",
       "        \"37\" "
      ]
     },
     "metadata": {},
     "output_type": "display_data"
    }
   ],
   "source": [
    "unlist(l_x)"
   ]
  },
  {
   "cell_type": "markdown",
   "metadata": {},
   "source": [
    "Všimněte si, že pro položku `measured_by` (která je v původním seznamu reprezentovaná vektorem) R automaticky vygenerovalo unikátní jméno pro každý její prvek. \n",
    "\n",
    "Pokud naopak chcete vytvořit seznam z jiné datové struktury, můžete tak učinit pomocí funkce `as.list`:"
   ]
  },
  {
   "cell_type": "code",
   "execution_count": 47,
   "metadata": {},
   "outputs": [
    {
     "data": {
      "text/html": [
       "<ol>\n",
       "\t<li>1</li>\n",
       "\t<li>2</li>\n",
       "\t<li>3</li>\n",
       "\t<li>4</li>\n",
       "\t<li>5</li>\n",
       "</ol>\n"
      ],
      "text/latex": [
       "\\begin{enumerate}\n",
       "\\item 1\n",
       "\\item 2\n",
       "\\item 3\n",
       "\\item 4\n",
       "\\item 5\n",
       "\\end{enumerate}\n"
      ],
      "text/markdown": [
       "1. 1\n",
       "2. 2\n",
       "3. 3\n",
       "4. 4\n",
       "5. 5\n",
       "\n",
       "\n"
      ],
      "text/plain": [
       "[[1]]\n",
       "[1] 1\n",
       "\n",
       "[[2]]\n",
       "[1] 2\n",
       "\n",
       "[[3]]\n",
       "[1] 3\n",
       "\n",
       "[[4]]\n",
       "[1] 4\n",
       "\n",
       "[[5]]\n",
       "[1] 5\n"
      ]
     },
     "metadata": {},
     "output_type": "display_data"
    },
    {
     "data": {
      "text/html": [
       "<ol>\n",
       "\t<li>'1'</li>\n",
       "\t<li>'2'</li>\n",
       "\t<li>'1'</li>\n",
       "\t<li>'2'</li>\n",
       "\t<li>'2'</li>\n",
       "\t<li>'5'</li>\n",
       "\t<li>'a'</li>\n",
       "\t<li>'b'</li>\n",
       "\t<li>'3'</li>\n",
       "\t<li>'6'</li>\n",
       "\t<li>'c'</li>\n",
       "\t<li>'d'</li>\n",
       "</ol>\n"
      ],
      "text/latex": [
       "\\begin{enumerate}\n",
       "\\item '1'\n",
       "\\item '2'\n",
       "\\item '1'\n",
       "\\item '2'\n",
       "\\item '2'\n",
       "\\item '5'\n",
       "\\item 'a'\n",
       "\\item 'b'\n",
       "\\item '3'\n",
       "\\item '6'\n",
       "\\item 'c'\n",
       "\\item 'd'\n",
       "\\end{enumerate}\n"
      ],
      "text/markdown": [
       "1. '1'\n",
       "2. '2'\n",
       "3. '1'\n",
       "4. '2'\n",
       "5. '2'\n",
       "6. '5'\n",
       "7. 'a'\n",
       "8. 'b'\n",
       "9. '3'\n",
       "10. '6'\n",
       "11. 'c'\n",
       "12. 'd'\n",
       "\n",
       "\n"
      ],
      "text/plain": [
       "[[1]]\n",
       "[1] \"1\"\n",
       "\n",
       "[[2]]\n",
       "[1] \"2\"\n",
       "\n",
       "[[3]]\n",
       "[1] \"1\"\n",
       "\n",
       "[[4]]\n",
       "[1] \"2\"\n",
       "\n",
       "[[5]]\n",
       "[1] \"2\"\n",
       "\n",
       "[[6]]\n",
       "[1] \"5\"\n",
       "\n",
       "[[7]]\n",
       "[1] \"a\"\n",
       "\n",
       "[[8]]\n",
       "[1] \"b\"\n",
       "\n",
       "[[9]]\n",
       "[1] \"3\"\n",
       "\n",
       "[[10]]\n",
       "[1] \"6\"\n",
       "\n",
       "[[11]]\n",
       "[1] \"c\"\n",
       "\n",
       "[[12]]\n",
       "[1] \"d\"\n"
      ]
     },
     "metadata": {},
     "output_type": "display_data"
    }
   ],
   "source": [
    "as.list(1:5)\n",
    "as.list(m_x)"
   ]
  },
  {
   "cell_type": "markdown",
   "metadata": {},
   "source": [
    "Jak vidíte, tak nezávisle na dimenzi původního objektu se vytvoří vždy jedna položka pro jednu konkrétní hodnotu. \n",
    "\n",
    "### Použití seznamů\n",
    "\n",
    "Mimo jiné se seznamy v R nejčastěji používají jako návratové hodnoty funkcí, které mají více výsledků. Vhodné použití ilustruje například následující funkce, která najednou počítá součet, součin, rozdíl a podíl dvou čísel:"
   ]
  },
  {
   "cell_type": "code",
   "execution_count": 48,
   "metadata": {},
   "outputs": [
    {
     "data": {
      "text/html": [
       "<dl>\n",
       "\t<dt>$součet</dt>\n",
       "\t\t<dd>8</dd>\n",
       "\t<dt>$součin</dt>\n",
       "\t\t<dd>15</dd>\n",
       "\t<dt>$rozdíl</dt>\n",
       "\t\t<dd>2</dd>\n",
       "\t<dt>$podíl</dt>\n",
       "\t\t<dd>1.66666666666667</dd>\n",
       "</dl>\n"
      ],
      "text/latex": [
       "\\begin{description}\n",
       "\\item[\\$součet] 8\n",
       "\\item[\\$součin] 15\n",
       "\\item[\\$rozdíl] 2\n",
       "\\item[\\$podíl] 1.66666666666667\n",
       "\\end{description}\n"
      ],
      "text/markdown": [
       "$součet\n",
       ":   8\n",
       "$součin\n",
       ":   15\n",
       "$rozdíl\n",
       ":   2\n",
       "$podíl\n",
       ":   1.66666666666667\n",
       "\n",
       "\n"
      ],
      "text/plain": [
       "$součet\n",
       "[1] 8\n",
       "\n",
       "$součin\n",
       "[1] 15\n",
       "\n",
       "$rozdíl\n",
       "[1] 2\n",
       "\n",
       "$podíl\n",
       "[1] 1.666667\n"
      ]
     },
     "metadata": {},
     "output_type": "display_data"
    }
   ],
   "source": [
    "spočítej <- function (a, b) {\n",
    "    ret <- list()\n",
    "    ret[[\"součet\"]] <- a + b\n",
    "    ret[[\"součin\"]] <- a * b\n",
    "    ret[[\"rozdíl\"]] <- a - b\n",
    "    ret[[\"podíl\"]] <- a / b\n",
    "    \n",
    "    ret\n",
    "}\n",
    "\n",
    "spočítej(5, 3)"
   ]
  },
  {
   "cell_type": "markdown",
   "metadata": {},
   "source": [
    "## Datová tabulka (data.frame)\n",
    "\n",
    "Datová tabulka je při datové analýze asi nejpoužívanější datovou strukturou v R a je maticovou analogií seznamů. Datová tabulka nám tedy umožňuje ukládat **dvourozměrná** data **různých typů**. Z několika vektorů ji lze vytvořit například takto:"
   ]
  },
  {
   "cell_type": "code",
   "execution_count": 49,
   "metadata": {},
   "outputs": [
    {
     "data": {
      "text/html": [
       "<table>\n",
       "<thead><tr><th scope=col>čísla</th><th scope=col>písmena_start</th><th scope=col>písmena_konec</th></tr></thead>\n",
       "<tbody>\n",
       "\t<tr><td> 1</td><td>a </td><td>q </td></tr>\n",
       "\t<tr><td> 2</td><td>b </td><td>r </td></tr>\n",
       "\t<tr><td> 3</td><td>c </td><td>s </td></tr>\n",
       "\t<tr><td> 4</td><td>d </td><td>t </td></tr>\n",
       "\t<tr><td> 5</td><td>e </td><td>u </td></tr>\n",
       "\t<tr><td> 6</td><td>f </td><td>v </td></tr>\n",
       "\t<tr><td> 7</td><td>g </td><td>w </td></tr>\n",
       "\t<tr><td> 8</td><td>h </td><td>x </td></tr>\n",
       "\t<tr><td> 9</td><td>i </td><td>y </td></tr>\n",
       "\t<tr><td>10</td><td>j </td><td>z </td></tr>\n",
       "</tbody>\n",
       "</table>\n"
      ],
      "text/latex": [
       "\\begin{tabular}{r|lll}\n",
       " čísla & písmena\\_start & písmena\\_konec\\\\\n",
       "\\hline\n",
       "\t  1 & a  & q \\\\\n",
       "\t  2 & b  & r \\\\\n",
       "\t  3 & c  & s \\\\\n",
       "\t  4 & d  & t \\\\\n",
       "\t  5 & e  & u \\\\\n",
       "\t  6 & f  & v \\\\\n",
       "\t  7 & g  & w \\\\\n",
       "\t  8 & h  & x \\\\\n",
       "\t  9 & i  & y \\\\\n",
       "\t 10 & j  & z \\\\\n",
       "\\end{tabular}\n"
      ],
      "text/markdown": [
       "\n",
       "čísla | písmena_start | písmena_konec | \n",
       "|---|---|---|---|---|---|---|---|---|---|\n",
       "|  1 | a  | q  | \n",
       "|  2 | b  | r  | \n",
       "|  3 | c  | s  | \n",
       "|  4 | d  | t  | \n",
       "|  5 | e  | u  | \n",
       "|  6 | f  | v  | \n",
       "|  7 | g  | w  | \n",
       "|  8 | h  | x  | \n",
       "|  9 | i  | y  | \n",
       "| 10 | j  | z  | \n",
       "\n",
       "\n"
      ],
      "text/plain": [
       "   čísla písmena_start písmena_konec\n",
       "1   1    a             q            \n",
       "2   2    b             r            \n",
       "3   3    c             s            \n",
       "4   4    d             t            \n",
       "5   5    e             u            \n",
       "6   6    f             v            \n",
       "7   7    g             w            \n",
       "8   8    h             x            \n",
       "9   9    i             y            \n",
       "10 10    j             z            "
      ]
     },
     "metadata": {},
     "output_type": "display_data"
    }
   ],
   "source": [
    "čísla <- c(1:10)\n",
    "písmena_start <- letters[1:10]\n",
    "písmena_konec <- rev(letters)[10:1]\n",
    "\n",
    "df_x <- data.frame(\n",
    "    čísla\n",
    "    , písmena_start\n",
    "    , písmena_konec\n",
    ")\n",
    "\n",
    "df_x"
   ]
  },
  {
   "cell_type": "markdown",
   "metadata": {},
   "source": [
    "Nejčastějším způsobem je však načtením ze souboru pomocí některé z funkcí k tomu určených. To si ale ukážeme až v [další lekci](../05/), která se zaměřuje na datové tabulky a operace s nimi více do detailu.\n",
    "\n",
    "Datové tabulky si lze představit jako seznam vektorů a lze je používat podobným způsobem. Vlastně se chovají současně jako matice a seznamy. Například výběr prvků probíhá analogickým způsobem jako u seznamů:"
   ]
  },
  {
   "cell_type": "code",
   "execution_count": 50,
   "metadata": {},
   "outputs": [
    {
     "data": {
      "text/html": [
       "<ol class=list-inline>\n",
       "\t<li>1</li>\n",
       "\t<li>2</li>\n",
       "\t<li>3</li>\n",
       "\t<li>4</li>\n",
       "\t<li>5</li>\n",
       "\t<li>6</li>\n",
       "\t<li>7</li>\n",
       "\t<li>8</li>\n",
       "\t<li>9</li>\n",
       "\t<li>10</li>\n",
       "</ol>\n"
      ],
      "text/latex": [
       "\\begin{enumerate*}\n",
       "\\item 1\n",
       "\\item 2\n",
       "\\item 3\n",
       "\\item 4\n",
       "\\item 5\n",
       "\\item 6\n",
       "\\item 7\n",
       "\\item 8\n",
       "\\item 9\n",
       "\\item 10\n",
       "\\end{enumerate*}\n"
      ],
      "text/markdown": [
       "1. 1\n",
       "2. 2\n",
       "3. 3\n",
       "4. 4\n",
       "5. 5\n",
       "6. 6\n",
       "7. 7\n",
       "8. 8\n",
       "9. 9\n",
       "10. 10\n",
       "\n",
       "\n"
      ],
      "text/plain": [
       " [1]  1  2  3  4  5  6  7  8  9 10"
      ]
     },
     "metadata": {},
     "output_type": "display_data"
    },
    {
     "data": {
      "text/html": [
       "<ol class=list-inline>\n",
       "\t<li>a</li>\n",
       "\t<li>b</li>\n",
       "\t<li>c</li>\n",
       "\t<li>d</li>\n",
       "\t<li>e</li>\n",
       "\t<li>f</li>\n",
       "\t<li>g</li>\n",
       "\t<li>h</li>\n",
       "\t<li>i</li>\n",
       "\t<li>j</li>\n",
       "</ol>\n"
      ],
      "text/latex": [
       "\\begin{enumerate*}\n",
       "\\item a\n",
       "\\item b\n",
       "\\item c\n",
       "\\item d\n",
       "\\item e\n",
       "\\item f\n",
       "\\item g\n",
       "\\item h\n",
       "\\item i\n",
       "\\item j\n",
       "\\end{enumerate*}\n"
      ],
      "text/markdown": [
       "1. a\n",
       "2. b\n",
       "3. c\n",
       "4. d\n",
       "5. e\n",
       "6. f\n",
       "7. g\n",
       "8. h\n",
       "9. i\n",
       "10. j\n",
       "\n",
       "\n"
      ],
      "text/plain": [
       " [1] a b c d e f g h i j\n",
       "Levels: a b c d e f g h i j"
      ]
     },
     "metadata": {},
     "output_type": "display_data"
    },
    {
     "data": {
      "text/html": [
       "<table>\n",
       "<thead><tr><th scope=col>čísla</th><th scope=col>písmena_start</th></tr></thead>\n",
       "<tbody>\n",
       "\t<tr><td> 1</td><td>a </td></tr>\n",
       "\t<tr><td> 2</td><td>b </td></tr>\n",
       "\t<tr><td> 3</td><td>c </td></tr>\n",
       "\t<tr><td> 4</td><td>d </td></tr>\n",
       "\t<tr><td> 5</td><td>e </td></tr>\n",
       "\t<tr><td> 6</td><td>f </td></tr>\n",
       "\t<tr><td> 7</td><td>g </td></tr>\n",
       "\t<tr><td> 8</td><td>h </td></tr>\n",
       "\t<tr><td> 9</td><td>i </td></tr>\n",
       "\t<tr><td>10</td><td>j </td></tr>\n",
       "</tbody>\n",
       "</table>\n"
      ],
      "text/latex": [
       "\\begin{tabular}{r|ll}\n",
       " čísla & písmena\\_start\\\\\n",
       "\\hline\n",
       "\t  1 & a \\\\\n",
       "\t  2 & b \\\\\n",
       "\t  3 & c \\\\\n",
       "\t  4 & d \\\\\n",
       "\t  5 & e \\\\\n",
       "\t  6 & f \\\\\n",
       "\t  7 & g \\\\\n",
       "\t  8 & h \\\\\n",
       "\t  9 & i \\\\\n",
       "\t 10 & j \\\\\n",
       "\\end{tabular}\n"
      ],
      "text/markdown": [
       "\n",
       "čísla | písmena_start | \n",
       "|---|---|---|---|---|---|---|---|---|---|\n",
       "|  1 | a  | \n",
       "|  2 | b  | \n",
       "|  3 | c  | \n",
       "|  4 | d  | \n",
       "|  5 | e  | \n",
       "|  6 | f  | \n",
       "|  7 | g  | \n",
       "|  8 | h  | \n",
       "|  9 | i  | \n",
       "| 10 | j  | \n",
       "\n",
       "\n"
      ],
      "text/plain": [
       "   čísla písmena_start\n",
       "1   1    a            \n",
       "2   2    b            \n",
       "3   3    c            \n",
       "4   4    d            \n",
       "5   5    e            \n",
       "6   6    f            \n",
       "7   7    g            \n",
       "8   8    h            \n",
       "9   9    i            \n",
       "10 10    j            "
      ]
     },
     "metadata": {},
     "output_type": "display_data"
    },
    {
     "data": {
      "text/html": [
       "<table>\n",
       "<thead><tr><th scope=col>písmena_konec</th></tr></thead>\n",
       "<tbody>\n",
       "\t<tr><td>q</td></tr>\n",
       "\t<tr><td>r</td></tr>\n",
       "\t<tr><td>s</td></tr>\n",
       "\t<tr><td>t</td></tr>\n",
       "\t<tr><td>u</td></tr>\n",
       "\t<tr><td>v</td></tr>\n",
       "\t<tr><td>w</td></tr>\n",
       "\t<tr><td>x</td></tr>\n",
       "\t<tr><td>y</td></tr>\n",
       "\t<tr><td>z</td></tr>\n",
       "</tbody>\n",
       "</table>\n"
      ],
      "text/latex": [
       "\\begin{tabular}{r|l}\n",
       " písmena\\_konec\\\\\n",
       "\\hline\n",
       "\t q\\\\\n",
       "\t r\\\\\n",
       "\t s\\\\\n",
       "\t t\\\\\n",
       "\t u\\\\\n",
       "\t v\\\\\n",
       "\t w\\\\\n",
       "\t x\\\\\n",
       "\t y\\\\\n",
       "\t z\\\\\n",
       "\\end{tabular}\n"
      ],
      "text/markdown": [
       "\n",
       "písmena_konec | \n",
       "|---|---|---|---|---|---|---|---|---|---|\n",
       "| q | \n",
       "| r | \n",
       "| s | \n",
       "| t | \n",
       "| u | \n",
       "| v | \n",
       "| w | \n",
       "| x | \n",
       "| y | \n",
       "| z | \n",
       "\n",
       "\n"
      ],
      "text/plain": [
       "   písmena_konec\n",
       "1  q            \n",
       "2  r            \n",
       "3  s            \n",
       "4  t            \n",
       "5  u            \n",
       "6  v            \n",
       "7  w            \n",
       "8  x            \n",
       "9  y            \n",
       "10 z            "
      ]
     },
     "metadata": {},
     "output_type": "display_data"
    }
   ],
   "source": [
    "df_x$čísla\n",
    "df_x[[\"písmena_start\"]]\n",
    "df_x[c(\"čísla\", \"písmena_start\")]\n",
    "df_x[\"písmena_konec\"]"
   ]
  },
  {
   "cell_type": "markdown",
   "metadata": {},
   "source": [
    "Všimněte si, že operátor `[]` zde opět slouží k výběru podmnožiny sloupců datové tabulky (návratová hodnota je `data.frame`) narozdíl od operátoru `[[]]`, který slouží pro výběr vektoru objektů, který se nachází pod konkrétním jménem.\n",
    "\n",
    "Zároveň jde k jednotlivým vektorům též přistupovat jako k prvkům v matici:"
   ]
  },
  {
   "cell_type": "code",
   "execution_count": 51,
   "metadata": {},
   "outputs": [
    {
     "data": {
      "text/html": [
       "<table>\n",
       "<thead><tr><th scope=col>čísla</th><th scope=col>písmena_start</th><th scope=col>písmena_konec</th></tr></thead>\n",
       "<tbody>\n",
       "\t<tr><td>1</td><td>a</td><td>q</td></tr>\n",
       "\t<tr><td>2</td><td>b</td><td>r</td></tr>\n",
       "\t<tr><td>3</td><td>c</td><td>s</td></tr>\n",
       "\t<tr><td>4</td><td>d</td><td>t</td></tr>\n",
       "\t<tr><td>5</td><td>e</td><td>u</td></tr>\n",
       "</tbody>\n",
       "</table>\n"
      ],
      "text/latex": [
       "\\begin{tabular}{r|lll}\n",
       " čísla & písmena\\_start & písmena\\_konec\\\\\n",
       "\\hline\n",
       "\t 1 & a & q\\\\\n",
       "\t 2 & b & r\\\\\n",
       "\t 3 & c & s\\\\\n",
       "\t 4 & d & t\\\\\n",
       "\t 5 & e & u\\\\\n",
       "\\end{tabular}\n"
      ],
      "text/markdown": [
       "\n",
       "čísla | písmena_start | písmena_konec | \n",
       "|---|---|---|---|---|\n",
       "| 1 | a | q | \n",
       "| 2 | b | r | \n",
       "| 3 | c | s | \n",
       "| 4 | d | t | \n",
       "| 5 | e | u | \n",
       "\n",
       "\n"
      ],
      "text/plain": [
       "  čísla písmena_start písmena_konec\n",
       "1 1     a             q            \n",
       "2 2     b             r            \n",
       "3 3     c             s            \n",
       "4 4     d             t            \n",
       "5 5     e             u            "
      ]
     },
     "metadata": {},
     "output_type": "display_data"
    },
    {
     "data": {
      "text/html": [
       "<table>\n",
       "<thead><tr><th scope=col>čísla</th><th scope=col>písmena_start</th></tr></thead>\n",
       "<tbody>\n",
       "\t<tr><td> 1</td><td>a </td></tr>\n",
       "\t<tr><td> 2</td><td>b </td></tr>\n",
       "\t<tr><td> 3</td><td>c </td></tr>\n",
       "\t<tr><td> 4</td><td>d </td></tr>\n",
       "\t<tr><td> 5</td><td>e </td></tr>\n",
       "\t<tr><td> 6</td><td>f </td></tr>\n",
       "\t<tr><td> 7</td><td>g </td></tr>\n",
       "\t<tr><td> 8</td><td>h </td></tr>\n",
       "\t<tr><td> 9</td><td>i </td></tr>\n",
       "\t<tr><td>10</td><td>j </td></tr>\n",
       "</tbody>\n",
       "</table>\n"
      ],
      "text/latex": [
       "\\begin{tabular}{r|ll}\n",
       " čísla & písmena\\_start\\\\\n",
       "\\hline\n",
       "\t  1 & a \\\\\n",
       "\t  2 & b \\\\\n",
       "\t  3 & c \\\\\n",
       "\t  4 & d \\\\\n",
       "\t  5 & e \\\\\n",
       "\t  6 & f \\\\\n",
       "\t  7 & g \\\\\n",
       "\t  8 & h \\\\\n",
       "\t  9 & i \\\\\n",
       "\t 10 & j \\\\\n",
       "\\end{tabular}\n"
      ],
      "text/markdown": [
       "\n",
       "čísla | písmena_start | \n",
       "|---|---|---|---|---|---|---|---|---|---|\n",
       "|  1 | a  | \n",
       "|  2 | b  | \n",
       "|  3 | c  | \n",
       "|  4 | d  | \n",
       "|  5 | e  | \n",
       "|  6 | f  | \n",
       "|  7 | g  | \n",
       "|  8 | h  | \n",
       "|  9 | i  | \n",
       "| 10 | j  | \n",
       "\n",
       "\n"
      ],
      "text/plain": [
       "   čísla písmena_start\n",
       "1   1    a            \n",
       "2   2    b            \n",
       "3   3    c            \n",
       "4   4    d            \n",
       "5   5    e            \n",
       "6   6    f            \n",
       "7   7    g            \n",
       "8   8    h            \n",
       "9   9    i            \n",
       "10 10    j            "
      ]
     },
     "metadata": {},
     "output_type": "display_data"
    },
    {
     "data": {
      "text/html": [
       "<ol class=list-inline>\n",
       "\t<li>1</li>\n",
       "\t<li>2</li>\n",
       "\t<li>3</li>\n",
       "\t<li>4</li>\n",
       "\t<li>5</li>\n",
       "\t<li>6</li>\n",
       "\t<li>7</li>\n",
       "\t<li>8</li>\n",
       "\t<li>9</li>\n",
       "\t<li>10</li>\n",
       "</ol>\n"
      ],
      "text/latex": [
       "\\begin{enumerate*}\n",
       "\\item 1\n",
       "\\item 2\n",
       "\\item 3\n",
       "\\item 4\n",
       "\\item 5\n",
       "\\item 6\n",
       "\\item 7\n",
       "\\item 8\n",
       "\\item 9\n",
       "\\item 10\n",
       "\\end{enumerate*}\n"
      ],
      "text/markdown": [
       "1. 1\n",
       "2. 2\n",
       "3. 3\n",
       "4. 4\n",
       "5. 5\n",
       "6. 6\n",
       "7. 7\n",
       "8. 8\n",
       "9. 9\n",
       "10. 10\n",
       "\n",
       "\n"
      ],
      "text/plain": [
       " [1]  1  2  3  4  5  6  7  8  9 10"
      ]
     },
     "metadata": {},
     "output_type": "display_data"
    },
    {
     "data": {
      "text/html": [
       "<table>\n",
       "<thead><tr><th scope=col>čísla</th><th scope=col>písmena_konec</th></tr></thead>\n",
       "<tbody>\n",
       "\t<tr><td>1</td><td>q</td></tr>\n",
       "\t<tr><td>2</td><td>r</td></tr>\n",
       "\t<tr><td>3</td><td>s</td></tr>\n",
       "\t<tr><td>4</td><td>t</td></tr>\n",
       "\t<tr><td>5</td><td>u</td></tr>\n",
       "</tbody>\n",
       "</table>\n"
      ],
      "text/latex": [
       "\\begin{tabular}{r|ll}\n",
       " čísla & písmena\\_konec\\\\\n",
       "\\hline\n",
       "\t 1 & q\\\\\n",
       "\t 2 & r\\\\\n",
       "\t 3 & s\\\\\n",
       "\t 4 & t\\\\\n",
       "\t 5 & u\\\\\n",
       "\\end{tabular}\n"
      ],
      "text/markdown": [
       "\n",
       "čísla | písmena_konec | \n",
       "|---|---|---|---|---|\n",
       "| 1 | q | \n",
       "| 2 | r | \n",
       "| 3 | s | \n",
       "| 4 | t | \n",
       "| 5 | u | \n",
       "\n",
       "\n"
      ],
      "text/plain": [
       "  čísla písmena_konec\n",
       "1 1     q            \n",
       "2 2     r            \n",
       "3 3     s            \n",
       "4 4     t            \n",
       "5 5     u            "
      ]
     },
     "metadata": {},
     "output_type": "display_data"
    }
   ],
   "source": [
    "df_x[1:5,]\n",
    "df_x[,1:2]\n",
    "df_x[,1] # pokud vyberete pouze jeden sloupec, R automaticky vrátí vektor\n",
    "df_x[1:5,c(\"čísla\", \"písmena_konec\")] # číselné a jmenovité indexy lze samozřejmě kombinovat"
   ]
  },
  {
   "cell_type": "markdown",
   "metadata": {},
   "source": [
    "Řádky v datové tabulce též mohou mít své jméno:"
   ]
  },
  {
   "cell_type": "code",
   "execution_count": 52,
   "metadata": {},
   "outputs": [
    {
     "data": {
      "text/html": [
       "<table>\n",
       "<thead><tr><th></th><th scope=col>čísla</th><th scope=col>písmena_start</th><th scope=col>písmena_konec</th></tr></thead>\n",
       "<tbody>\n",
       "\t<tr><th scope=row>a</th><td> 1</td><td>a </td><td>q </td></tr>\n",
       "\t<tr><th scope=row>b</th><td> 2</td><td>b </td><td>r </td></tr>\n",
       "\t<tr><th scope=row>c</th><td> 3</td><td>c </td><td>s </td></tr>\n",
       "\t<tr><th scope=row>d</th><td> 4</td><td>d </td><td>t </td></tr>\n",
       "\t<tr><th scope=row>e</th><td> 5</td><td>e </td><td>u </td></tr>\n",
       "\t<tr><th scope=row>f</th><td> 6</td><td>f </td><td>v </td></tr>\n",
       "\t<tr><th scope=row>g</th><td> 7</td><td>g </td><td>w </td></tr>\n",
       "\t<tr><th scope=row>h</th><td> 8</td><td>h </td><td>x </td></tr>\n",
       "\t<tr><th scope=row>i</th><td> 9</td><td>i </td><td>y </td></tr>\n",
       "\t<tr><th scope=row>j</th><td>10</td><td>j </td><td>z </td></tr>\n",
       "</tbody>\n",
       "</table>\n"
      ],
      "text/latex": [
       "\\begin{tabular}{r|lll}\n",
       "  & čísla & písmena\\_start & písmena\\_konec\\\\\n",
       "\\hline\n",
       "\ta &  1 & a  & q \\\\\n",
       "\tb &  2 & b  & r \\\\\n",
       "\tc &  3 & c  & s \\\\\n",
       "\td &  4 & d  & t \\\\\n",
       "\te &  5 & e  & u \\\\\n",
       "\tf &  6 & f  & v \\\\\n",
       "\tg &  7 & g  & w \\\\\n",
       "\th &  8 & h  & x \\\\\n",
       "\ti &  9 & i  & y \\\\\n",
       "\tj & 10 & j  & z \\\\\n",
       "\\end{tabular}\n"
      ],
      "text/markdown": [
       "\n",
       "| <!--/--> | čísla | písmena_start | písmena_konec | \n",
       "|---|---|---|---|---|---|---|---|---|---|\n",
       "| a |  1 | a  | q  | \n",
       "| b |  2 | b  | r  | \n",
       "| c |  3 | c  | s  | \n",
       "| d |  4 | d  | t  | \n",
       "| e |  5 | e  | u  | \n",
       "| f |  6 | f  | v  | \n",
       "| g |  7 | g  | w  | \n",
       "| h |  8 | h  | x  | \n",
       "| i |  9 | i  | y  | \n",
       "| j | 10 | j  | z  | \n",
       "\n",
       "\n"
      ],
      "text/plain": [
       "  čísla písmena_start písmena_konec\n",
       "a  1    a             q            \n",
       "b  2    b             r            \n",
       "c  3    c             s            \n",
       "d  4    d             t            \n",
       "e  5    e             u            \n",
       "f  6    f             v            \n",
       "g  7    g             w            \n",
       "h  8    h             x            \n",
       "i  9    i             y            \n",
       "j 10    j             z            "
      ]
     },
     "metadata": {},
     "output_type": "display_data"
    },
    {
     "data": {
      "text/html": [
       "<ol class=list-inline>\n",
       "\t<li>'čísla'</li>\n",
       "\t<li>'písmena_start'</li>\n",
       "\t<li>'písmena_konec'</li>\n",
       "</ol>\n"
      ],
      "text/latex": [
       "\\begin{enumerate*}\n",
       "\\item 'čísla'\n",
       "\\item 'písmena\\_start'\n",
       "\\item 'písmena\\_konec'\n",
       "\\end{enumerate*}\n"
      ],
      "text/markdown": [
       "1. 'čísla'\n",
       "2. 'písmena_start'\n",
       "3. 'písmena_konec'\n",
       "\n",
       "\n"
      ],
      "text/plain": [
       "[1] \"čísla\"         \"písmena_start\" \"písmena_konec\""
      ]
     },
     "metadata": {},
     "output_type": "display_data"
    },
    {
     "data": {
      "text/html": [
       "<ol class=list-inline>\n",
       "\t<li>'a'</li>\n",
       "\t<li>'b'</li>\n",
       "\t<li>'c'</li>\n",
       "\t<li>'d'</li>\n",
       "\t<li>'e'</li>\n",
       "\t<li>'f'</li>\n",
       "\t<li>'g'</li>\n",
       "\t<li>'h'</li>\n",
       "\t<li>'i'</li>\n",
       "\t<li>'j'</li>\n",
       "</ol>\n"
      ],
      "text/latex": [
       "\\begin{enumerate*}\n",
       "\\item 'a'\n",
       "\\item 'b'\n",
       "\\item 'c'\n",
       "\\item 'd'\n",
       "\\item 'e'\n",
       "\\item 'f'\n",
       "\\item 'g'\n",
       "\\item 'h'\n",
       "\\item 'i'\n",
       "\\item 'j'\n",
       "\\end{enumerate*}\n"
      ],
      "text/markdown": [
       "1. 'a'\n",
       "2. 'b'\n",
       "3. 'c'\n",
       "4. 'd'\n",
       "5. 'e'\n",
       "6. 'f'\n",
       "7. 'g'\n",
       "8. 'h'\n",
       "9. 'i'\n",
       "10. 'j'\n",
       "\n",
       "\n"
      ],
      "text/plain": [
       " [1] \"a\" \"b\" \"c\" \"d\" \"e\" \"f\" \"g\" \"h\" \"i\" \"j\""
      ]
     },
     "metadata": {},
     "output_type": "display_data"
    },
    {
     "data": {
      "text/html": [
       "<ol class=list-inline>\n",
       "\t<li>'čísla'</li>\n",
       "\t<li>'písmena_start'</li>\n",
       "\t<li>'písmena_konec'</li>\n",
       "</ol>\n"
      ],
      "text/latex": [
       "\\begin{enumerate*}\n",
       "\\item 'čísla'\n",
       "\\item 'písmena\\_start'\n",
       "\\item 'písmena\\_konec'\n",
       "\\end{enumerate*}\n"
      ],
      "text/markdown": [
       "1. 'čísla'\n",
       "2. 'písmena_start'\n",
       "3. 'písmena_konec'\n",
       "\n",
       "\n"
      ],
      "text/plain": [
       "[1] \"čísla\"         \"písmena_start\" \"písmena_konec\""
      ]
     },
     "metadata": {},
     "output_type": "display_data"
    }
   ],
   "source": [
    "rownames(df_x) <- letters[1:10]\n",
    "df_x\n",
    "colnames(df_x)\n",
    "rownames(df_x)\n",
    "names(df_x) # data frame je vlastně list, kde sloupce se chápou jako jeho položky, takže toto též funguje"
   ]
  },
  {
   "cell_type": "markdown",
   "metadata": {},
   "source": [
    "Do tabulky lze též intuitivně zapisovat:"
   ]
  },
  {
   "cell_type": "code",
   "execution_count": 53,
   "metadata": {},
   "outputs": [
    {
     "data": {
      "text/html": [
       "<table>\n",
       "<thead><tr><th></th><th scope=col>čísla</th><th scope=col>písmena_start</th><th scope=col>písmena_konec</th><th scope=col>písmena_a</th></tr></thead>\n",
       "<tbody>\n",
       "\t<tr><th scope=row>a</th><td>1</td><td>a</td><td>q</td><td>a</td></tr>\n",
       "\t<tr><th scope=row>b</th><td>2</td><td>b</td><td>r</td><td>a</td></tr>\n",
       "\t<tr><th scope=row>c</th><td>3</td><td>c</td><td>s</td><td>a</td></tr>\n",
       "\t<tr><th scope=row>d</th><td>4</td><td>d</td><td>t</td><td>a</td></tr>\n",
       "\t<tr><th scope=row>e</th><td>5</td><td>e</td><td>u</td><td>a</td></tr>\n",
       "\t<tr><th scope=row>f</th><td>6</td><td>f</td><td>v</td><td>a</td></tr>\n",
       "\t<tr><th scope=row>g</th><td>7</td><td>g</td><td>w</td><td>a</td></tr>\n",
       "\t<tr><th scope=row>h</th><td>8</td><td>h</td><td>x</td><td>a</td></tr>\n",
       "\t<tr><th scope=row>i</th><td>9</td><td>i</td><td>y</td><td>a</td></tr>\n",
       "\t<tr><th scope=row>j</th><td>1</td><td>a</td><td>q</td><td>a</td></tr>\n",
       "</tbody>\n",
       "</table>\n"
      ],
      "text/latex": [
       "\\begin{tabular}{r|llll}\n",
       "  & čísla & písmena\\_start & písmena\\_konec & písmena\\_a\\\\\n",
       "\\hline\n",
       "\ta & 1 & a & q & a\\\\\n",
       "\tb & 2 & b & r & a\\\\\n",
       "\tc & 3 & c & s & a\\\\\n",
       "\td & 4 & d & t & a\\\\\n",
       "\te & 5 & e & u & a\\\\\n",
       "\tf & 6 & f & v & a\\\\\n",
       "\tg & 7 & g & w & a\\\\\n",
       "\th & 8 & h & x & a\\\\\n",
       "\ti & 9 & i & y & a\\\\\n",
       "\tj & 1 & a & q & a\\\\\n",
       "\\end{tabular}\n"
      ],
      "text/markdown": [
       "\n",
       "| <!--/--> | čísla | písmena_start | písmena_konec | písmena_a | \n",
       "|---|---|---|---|---|---|---|---|---|---|\n",
       "| a | 1 | a | q | a | \n",
       "| b | 2 | b | r | a | \n",
       "| c | 3 | c | s | a | \n",
       "| d | 4 | d | t | a | \n",
       "| e | 5 | e | u | a | \n",
       "| f | 6 | f | v | a | \n",
       "| g | 7 | g | w | a | \n",
       "| h | 8 | h | x | a | \n",
       "| i | 9 | i | y | a | \n",
       "| j | 1 | a | q | a | \n",
       "\n",
       "\n"
      ],
      "text/plain": [
       "  čísla písmena_start písmena_konec písmena_a\n",
       "a 1     a             q             a        \n",
       "b 2     b             r             a        \n",
       "c 3     c             s             a        \n",
       "d 4     d             t             a        \n",
       "e 5     e             u             a        \n",
       "f 6     f             v             a        \n",
       "g 7     g             w             a        \n",
       "h 8     h             x             a        \n",
       "i 9     i             y             a        \n",
       "j 1     a             q             a        "
      ]
     },
     "metadata": {},
     "output_type": "display_data"
    },
    {
     "data": {
      "text/html": [
       "'numeric'"
      ],
      "text/latex": [
       "'numeric'"
      ],
      "text/markdown": [
       "'numeric'"
      ],
      "text/plain": [
       "[1] \"numeric\""
      ]
     },
     "metadata": {},
     "output_type": "display_data"
    },
    {
     "data": {
      "text/html": [
       "'factor'"
      ],
      "text/latex": [
       "'factor'"
      ],
      "text/markdown": [
       "'factor'"
      ],
      "text/plain": [
       "[1] \"factor\""
      ]
     },
     "metadata": {},
     "output_type": "display_data"
    },
    {
     "data": {
      "text/html": [
       "'factor'"
      ],
      "text/latex": [
       "'factor'"
      ],
      "text/markdown": [
       "'factor'"
      ],
      "text/plain": [
       "[1] \"factor\""
      ]
     },
     "metadata": {},
     "output_type": "display_data"
    },
    {
     "data": {
      "text/html": [
       "'character'"
      ],
      "text/latex": [
       "'character'"
      ],
      "text/markdown": [
       "'character'"
      ],
      "text/plain": [
       "[1] \"character\""
      ]
     },
     "metadata": {},
     "output_type": "display_data"
    }
   ],
   "source": [
    "df_x[\"písmena_a\"] = \"a\" # recyklace\n",
    "df_x[\"j\", ] = list(1, \"a\", \"q\", \"a\")\n",
    "\n",
    "df_x\n",
    "class(df_x$čísla)\n",
    "class(df_x$písmena_start)\n",
    "class(df_x$písmena_konec)\n",
    "class(df_x$písmena_a)"
   ]
  },
  {
   "cell_type": "markdown",
   "metadata": {},
   "source": [
    "Všimněte si, že pokud do řádku přiřadíme list, který respektuje datové typy původního objektu, nedojde k převedení datových typů na ten největší společný (jako by tomu bylo například při přiřazení vektoru), ale původní datové typy jsou zachovány. \n",
    "\n",
    "Všimněte si, že dva prostřední vektory jsou typu `factor`. K faktorům se dostaneme [níže](#Faktor-(factor)), ale zatím jen stačí vědět, že všechny nenumerické typy s nestejnou hodnotou jsou v tabulce automaticky převedeny na tento typ, pokud není řečeno jinak (viz dokumentace k funkci `data.frame`). Pomocí faktorů lze totiž tabulku snadno rozdělovat na části a různě je seskupovat. O tom ale až v [další kapitole](../05/).\n",
    "\n",
    "Tabulku lze též vytvořit z různých datových struktur pomocí funkce `as.data.frame`:"
   ]
  },
  {
   "cell_type": "code",
   "execution_count": 54,
   "metadata": {},
   "outputs": [
    {
     "data": {
      "text/html": [
       "<table>\n",
       "<thead><tr><th scope=col>1:10</th></tr></thead>\n",
       "<tbody>\n",
       "\t<tr><td> 1</td></tr>\n",
       "\t<tr><td> 2</td></tr>\n",
       "\t<tr><td> 3</td></tr>\n",
       "\t<tr><td> 4</td></tr>\n",
       "\t<tr><td> 5</td></tr>\n",
       "\t<tr><td> 6</td></tr>\n",
       "\t<tr><td> 7</td></tr>\n",
       "\t<tr><td> 8</td></tr>\n",
       "\t<tr><td> 9</td></tr>\n",
       "\t<tr><td>10</td></tr>\n",
       "</tbody>\n",
       "</table>\n"
      ],
      "text/latex": [
       "\\begin{tabular}{r|l}\n",
       " 1:10\\\\\n",
       "\\hline\n",
       "\t  1\\\\\n",
       "\t  2\\\\\n",
       "\t  3\\\\\n",
       "\t  4\\\\\n",
       "\t  5\\\\\n",
       "\t  6\\\\\n",
       "\t  7\\\\\n",
       "\t  8\\\\\n",
       "\t  9\\\\\n",
       "\t 10\\\\\n",
       "\\end{tabular}\n"
      ],
      "text/markdown": [
       "\n",
       "1:10 | \n",
       "|---|---|---|---|---|---|---|---|---|---|\n",
       "|  1 | \n",
       "|  2 | \n",
       "|  3 | \n",
       "|  4 | \n",
       "|  5 | \n",
       "|  6 | \n",
       "|  7 | \n",
       "|  8 | \n",
       "|  9 | \n",
       "| 10 | \n",
       "\n",
       "\n"
      ],
      "text/plain": [
       "   1:10\n",
       "1   1  \n",
       "2   2  \n",
       "3   3  \n",
       "4   4  \n",
       "5   5  \n",
       "6   6  \n",
       "7   7  \n",
       "8   8  \n",
       "9   9  \n",
       "10 10  "
      ]
     },
     "metadata": {},
     "output_type": "display_data"
    }
   ],
   "source": [
    "as.data.frame(1:10)"
   ]
  },
  {
   "cell_type": "code",
   "execution_count": 55,
   "metadata": {},
   "outputs": [
    {
     "name": "stdout",
     "output_type": "stream",
     "text": [
      "     [,1] [,2] [,3]\n",
      "[1,] \"1\"  \"2\"  \"3\" \n",
      "[2,] \"2\"  \"5\"  \"6\" \n",
      "[3,] \"1\"  \"a\"  \"c\" \n",
      "[4,] \"2\"  \"b\"  \"d\" \n"
     ]
    },
    {
     "data": {
      "text/html": [
       "<table>\n",
       "<thead><tr><th scope=col>V1</th><th scope=col>V2</th><th scope=col>V3</th></tr></thead>\n",
       "<tbody>\n",
       "\t<tr><td>1</td><td>2</td><td>3</td></tr>\n",
       "\t<tr><td>2</td><td>5</td><td>6</td></tr>\n",
       "\t<tr><td>1</td><td>a</td><td>c</td></tr>\n",
       "\t<tr><td>2</td><td>b</td><td>d</td></tr>\n",
       "</tbody>\n",
       "</table>\n"
      ],
      "text/latex": [
       "\\begin{tabular}{r|lll}\n",
       " V1 & V2 & V3\\\\\n",
       "\\hline\n",
       "\t 1 & 2 & 3\\\\\n",
       "\t 2 & 5 & 6\\\\\n",
       "\t 1 & a & c\\\\\n",
       "\t 2 & b & d\\\\\n",
       "\\end{tabular}\n"
      ],
      "text/markdown": [
       "\n",
       "V1 | V2 | V3 | \n",
       "|---|---|---|---|\n",
       "| 1 | 2 | 3 | \n",
       "| 2 | 5 | 6 | \n",
       "| 1 | a | c | \n",
       "| 2 | b | d | \n",
       "\n",
       "\n"
      ],
      "text/plain": [
       "  V1 V2 V3\n",
       "1 1  2  3 \n",
       "2 2  5  6 \n",
       "3 1  a  c \n",
       "4 2  b  d "
      ]
     },
     "metadata": {},
     "output_type": "display_data"
    }
   ],
   "source": [
    "print(m_x)\n",
    "as.data.frame(m_x)"
   ]
  },
  {
   "cell_type": "code",
   "execution_count": 56,
   "metadata": {},
   "outputs": [
    {
     "name": "stdout",
     "output_type": "stream",
     "text": [
      ", , 1\n",
      "\n",
      "     [,1] [,2] [,3]\n",
      "[1,]    1    5    9\n",
      "[2,]    2    6   10\n",
      "[3,]    3    7   11\n",
      "[4,]    4    8   12\n",
      "\n",
      ", , 2\n",
      "\n",
      "     [,1] [,2] [,3]\n",
      "[1,]   13   17   21\n",
      "[2,]   14   18   22\n",
      "[3,]   15   19   23\n",
      "[4,]   16   20   24\n",
      "\n"
     ]
    },
    {
     "data": {
      "text/html": [
       "<table>\n",
       "<thead><tr><th scope=col>V1</th><th scope=col>V2</th><th scope=col>V3</th><th scope=col>V4</th><th scope=col>V5</th><th scope=col>V6</th></tr></thead>\n",
       "<tbody>\n",
       "\t<tr><td>1 </td><td>5 </td><td> 9</td><td>13</td><td>17</td><td>21</td></tr>\n",
       "\t<tr><td>2 </td><td>6 </td><td>10</td><td>14</td><td>18</td><td>22</td></tr>\n",
       "\t<tr><td>3 </td><td>7 </td><td>11</td><td>15</td><td>19</td><td>23</td></tr>\n",
       "\t<tr><td>4 </td><td>8 </td><td>12</td><td>16</td><td>20</td><td>24</td></tr>\n",
       "</tbody>\n",
       "</table>\n"
      ],
      "text/latex": [
       "\\begin{tabular}{r|llllll}\n",
       " V1 & V2 & V3 & V4 & V5 & V6\\\\\n",
       "\\hline\n",
       "\t 1  & 5  &  9 & 13 & 17 & 21\\\\\n",
       "\t 2  & 6  & 10 & 14 & 18 & 22\\\\\n",
       "\t 3  & 7  & 11 & 15 & 19 & 23\\\\\n",
       "\t 4  & 8  & 12 & 16 & 20 & 24\\\\\n",
       "\\end{tabular}\n"
      ],
      "text/markdown": [
       "\n",
       "V1 | V2 | V3 | V4 | V5 | V6 | \n",
       "|---|---|---|---|\n",
       "| 1  | 5  |  9 | 13 | 17 | 21 | \n",
       "| 2  | 6  | 10 | 14 | 18 | 22 | \n",
       "| 3  | 7  | 11 | 15 | 19 | 23 | \n",
       "| 4  | 8  | 12 | 16 | 20 | 24 | \n",
       "\n",
       "\n"
      ],
      "text/plain": [
       "  V1 V2 V3 V4 V5 V6\n",
       "1 1  5   9 13 17 21\n",
       "2 2  6  10 14 18 22\n",
       "3 3  7  11 15 19 23\n",
       "4 4  8  12 16 20 24"
      ]
     },
     "metadata": {},
     "output_type": "display_data"
    }
   ],
   "source": [
    "print(ar_x)\n",
    "as.data.frame(ar_x)"
   ]
  },
  {
   "cell_type": "code",
   "execution_count": 57,
   "metadata": {},
   "outputs": [
    {
     "name": "stdout",
     "output_type": "stream",
     "text": [
      "$compound_a\n",
      "[1] 25\n",
      "\n",
      "$compound_b\n",
      "[1] 12\n",
      "\n",
      "$units\n",
      "[1] \"nM\"\n",
      "\n",
      "$measured_by\n",
      "[1] \"John Doe\" \"Jane Doe\"\n",
      "\n",
      "$measured_on\n",
      "[1] \"2016-07-01\"\n",
      "\n",
      "$sum\n",
      "[1] 37\n",
      "\n"
     ]
    },
    {
     "data": {
      "text/html": [
       "<table>\n",
       "<thead><tr><th scope=col>compound_a</th><th scope=col>compound_b</th><th scope=col>units</th><th scope=col>measured_by</th><th scope=col>measured_on</th><th scope=col>sum</th></tr></thead>\n",
       "<tbody>\n",
       "\t<tr><td>25        </td><td>12        </td><td>nM        </td><td>John Doe  </td><td>2016-07-01</td><td>37        </td></tr>\n",
       "\t<tr><td>25        </td><td>12        </td><td>nM        </td><td>Jane Doe  </td><td>2016-07-01</td><td>37        </td></tr>\n",
       "</tbody>\n",
       "</table>\n"
      ],
      "text/latex": [
       "\\begin{tabular}{r|llllll}\n",
       " compound\\_a & compound\\_b & units & measured\\_by & measured\\_on & sum\\\\\n",
       "\\hline\n",
       "\t 25         & 12         & nM         & John Doe   & 2016-07-01 & 37        \\\\\n",
       "\t 25         & 12         & nM         & Jane Doe   & 2016-07-01 & 37        \\\\\n",
       "\\end{tabular}\n"
      ],
      "text/markdown": [
       "\n",
       "compound_a | compound_b | units | measured_by | measured_on | sum | \n",
       "|---|---|\n",
       "| 25         | 12         | nM         | John Doe   | 2016-07-01 | 37         | \n",
       "| 25         | 12         | nM         | Jane Doe   | 2016-07-01 | 37         | \n",
       "\n",
       "\n"
      ],
      "text/plain": [
       "  compound_a compound_b units measured_by measured_on sum\n",
       "1 25         12         nM    John Doe    2016-07-01  37 \n",
       "2 25         12         nM    Jane Doe    2016-07-01  37 "
      ]
     },
     "metadata": {},
     "output_type": "display_data"
    }
   ],
   "source": [
    "print(l_x)\n",
    "as.data.frame(l_x) # bude mít dva řádky (`measured_by` je vektor o délce dvě)"
   ]
  },
  {
   "cell_type": "markdown",
   "metadata": {},
   "source": [
    "### Použití datových tabulek\n",
    "\n",
    "Jak již bylo řečeno, datové tabulky jsou jedny z nejpoužívanějších datových struktur a ve většině případů představují díky možnosti uložit více datových typů najednou ideální řešení pro reprezentaci dat a jejich analýzu (viz lekce [05](../05/)).\n",
    "\n",
    "V jazyce R je spoustu testovacích datových množin a většina z nich je reprezentována právě jako `data.frame`. Například množina `mtcars` je poměrně známá:"
   ]
  },
  {
   "cell_type": "code",
   "execution_count": 58,
   "metadata": {},
   "outputs": [
    {
     "data": {
      "text/html": [
       "'data.frame'"
      ],
      "text/latex": [
       "'data.frame'"
      ],
      "text/markdown": [
       "'data.frame'"
      ],
      "text/plain": [
       "[1] \"data.frame\""
      ]
     },
     "metadata": {},
     "output_type": "display_data"
    },
    {
     "data": {
      "text/html": [
       "<table>\n",
       "<thead><tr><th></th><th scope=col>mpg</th><th scope=col>cyl</th><th scope=col>disp</th><th scope=col>hp</th><th scope=col>drat</th><th scope=col>wt</th><th scope=col>qsec</th><th scope=col>vs</th><th scope=col>am</th><th scope=col>gear</th><th scope=col>carb</th></tr></thead>\n",
       "<tbody>\n",
       "\t<tr><th scope=row>Mazda RX4</th><td>21.0 </td><td>6    </td><td>160.0</td><td>110  </td><td>3.90 </td><td>2.620</td><td>16.46</td><td>0    </td><td>1    </td><td>4    </td><td>4    </td></tr>\n",
       "\t<tr><th scope=row>Mazda RX4 Wag</th><td>21.0 </td><td>6    </td><td>160.0</td><td>110  </td><td>3.90 </td><td>2.875</td><td>17.02</td><td>0    </td><td>1    </td><td>4    </td><td>4    </td></tr>\n",
       "\t<tr><th scope=row>Datsun 710</th><td>22.8 </td><td>4    </td><td>108.0</td><td> 93  </td><td>3.85 </td><td>2.320</td><td>18.61</td><td>1    </td><td>1    </td><td>4    </td><td>1    </td></tr>\n",
       "\t<tr><th scope=row>Hornet 4 Drive</th><td>21.4 </td><td>6    </td><td>258.0</td><td>110  </td><td>3.08 </td><td>3.215</td><td>19.44</td><td>1    </td><td>0    </td><td>3    </td><td>1    </td></tr>\n",
       "\t<tr><th scope=row>Hornet Sportabout</th><td>18.7 </td><td>8    </td><td>360.0</td><td>175  </td><td>3.15 </td><td>3.440</td><td>17.02</td><td>0    </td><td>0    </td><td>3    </td><td>2    </td></tr>\n",
       "\t<tr><th scope=row>Valiant</th><td>18.1 </td><td>6    </td><td>225.0</td><td>105  </td><td>2.76 </td><td>3.460</td><td>20.22</td><td>1    </td><td>0    </td><td>3    </td><td>1    </td></tr>\n",
       "\t<tr><th scope=row>Duster 360</th><td>14.3 </td><td>8    </td><td>360.0</td><td>245  </td><td>3.21 </td><td>3.570</td><td>15.84</td><td>0    </td><td>0    </td><td>3    </td><td>4    </td></tr>\n",
       "\t<tr><th scope=row>Merc 240D</th><td>24.4 </td><td>4    </td><td>146.7</td><td> 62  </td><td>3.69 </td><td>3.190</td><td>20.00</td><td>1    </td><td>0    </td><td>4    </td><td>2    </td></tr>\n",
       "\t<tr><th scope=row>Merc 230</th><td>22.8 </td><td>4    </td><td>140.8</td><td> 95  </td><td>3.92 </td><td>3.150</td><td>22.90</td><td>1    </td><td>0    </td><td>4    </td><td>2    </td></tr>\n",
       "\t<tr><th scope=row>Merc 280</th><td>19.2 </td><td>6    </td><td>167.6</td><td>123  </td><td>3.92 </td><td>3.440</td><td>18.30</td><td>1    </td><td>0    </td><td>4    </td><td>4    </td></tr>\n",
       "\t<tr><th scope=row>Merc 280C</th><td>17.8 </td><td>6    </td><td>167.6</td><td>123  </td><td>3.92 </td><td>3.440</td><td>18.90</td><td>1    </td><td>0    </td><td>4    </td><td>4    </td></tr>\n",
       "\t<tr><th scope=row>Merc 450SE</th><td>16.4 </td><td>8    </td><td>275.8</td><td>180  </td><td>3.07 </td><td>4.070</td><td>17.40</td><td>0    </td><td>0    </td><td>3    </td><td>3    </td></tr>\n",
       "\t<tr><th scope=row>Merc 450SL</th><td>17.3 </td><td>8    </td><td>275.8</td><td>180  </td><td>3.07 </td><td>3.730</td><td>17.60</td><td>0    </td><td>0    </td><td>3    </td><td>3    </td></tr>\n",
       "\t<tr><th scope=row>Merc 450SLC</th><td>15.2 </td><td>8    </td><td>275.8</td><td>180  </td><td>3.07 </td><td>3.780</td><td>18.00</td><td>0    </td><td>0    </td><td>3    </td><td>3    </td></tr>\n",
       "\t<tr><th scope=row>Cadillac Fleetwood</th><td>10.4 </td><td>8    </td><td>472.0</td><td>205  </td><td>2.93 </td><td>5.250</td><td>17.98</td><td>0    </td><td>0    </td><td>3    </td><td>4    </td></tr>\n",
       "\t<tr><th scope=row>Lincoln Continental</th><td>10.4 </td><td>8    </td><td>460.0</td><td>215  </td><td>3.00 </td><td>5.424</td><td>17.82</td><td>0    </td><td>0    </td><td>3    </td><td>4    </td></tr>\n",
       "\t<tr><th scope=row>Chrysler Imperial</th><td>14.7 </td><td>8    </td><td>440.0</td><td>230  </td><td>3.23 </td><td>5.345</td><td>17.42</td><td>0    </td><td>0    </td><td>3    </td><td>4    </td></tr>\n",
       "\t<tr><th scope=row>Fiat 128</th><td>32.4 </td><td>4    </td><td> 78.7</td><td> 66  </td><td>4.08 </td><td>2.200</td><td>19.47</td><td>1    </td><td>1    </td><td>4    </td><td>1    </td></tr>\n",
       "\t<tr><th scope=row>Honda Civic</th><td>30.4 </td><td>4    </td><td> 75.7</td><td> 52  </td><td>4.93 </td><td>1.615</td><td>18.52</td><td>1    </td><td>1    </td><td>4    </td><td>2    </td></tr>\n",
       "\t<tr><th scope=row>Toyota Corolla</th><td>33.9 </td><td>4    </td><td> 71.1</td><td> 65  </td><td>4.22 </td><td>1.835</td><td>19.90</td><td>1    </td><td>1    </td><td>4    </td><td>1    </td></tr>\n",
       "\t<tr><th scope=row>Toyota Corona</th><td>21.5 </td><td>4    </td><td>120.1</td><td> 97  </td><td>3.70 </td><td>2.465</td><td>20.01</td><td>1    </td><td>0    </td><td>3    </td><td>1    </td></tr>\n",
       "\t<tr><th scope=row>Dodge Challenger</th><td>15.5 </td><td>8    </td><td>318.0</td><td>150  </td><td>2.76 </td><td>3.520</td><td>16.87</td><td>0    </td><td>0    </td><td>3    </td><td>2    </td></tr>\n",
       "\t<tr><th scope=row>AMC Javelin</th><td>15.2 </td><td>8    </td><td>304.0</td><td>150  </td><td>3.15 </td><td>3.435</td><td>17.30</td><td>0    </td><td>0    </td><td>3    </td><td>2    </td></tr>\n",
       "\t<tr><th scope=row>Camaro Z28</th><td>13.3 </td><td>8    </td><td>350.0</td><td>245  </td><td>3.73 </td><td>3.840</td><td>15.41</td><td>0    </td><td>0    </td><td>3    </td><td>4    </td></tr>\n",
       "\t<tr><th scope=row>Pontiac Firebird</th><td>19.2 </td><td>8    </td><td>400.0</td><td>175  </td><td>3.08 </td><td>3.845</td><td>17.05</td><td>0    </td><td>0    </td><td>3    </td><td>2    </td></tr>\n",
       "\t<tr><th scope=row>Fiat X1-9</th><td>27.3 </td><td>4    </td><td> 79.0</td><td> 66  </td><td>4.08 </td><td>1.935</td><td>18.90</td><td>1    </td><td>1    </td><td>4    </td><td>1    </td></tr>\n",
       "\t<tr><th scope=row>Porsche 914-2</th><td>26.0 </td><td>4    </td><td>120.3</td><td> 91  </td><td>4.43 </td><td>2.140</td><td>16.70</td><td>0    </td><td>1    </td><td>5    </td><td>2    </td></tr>\n",
       "\t<tr><th scope=row>Lotus Europa</th><td>30.4 </td><td>4    </td><td> 95.1</td><td>113  </td><td>3.77 </td><td>1.513</td><td>16.90</td><td>1    </td><td>1    </td><td>5    </td><td>2    </td></tr>\n",
       "\t<tr><th scope=row>Ford Pantera L</th><td>15.8 </td><td>8    </td><td>351.0</td><td>264  </td><td>4.22 </td><td>3.170</td><td>14.50</td><td>0    </td><td>1    </td><td>5    </td><td>4    </td></tr>\n",
       "\t<tr><th scope=row>Ferrari Dino</th><td>19.7 </td><td>6    </td><td>145.0</td><td>175  </td><td>3.62 </td><td>2.770</td><td>15.50</td><td>0    </td><td>1    </td><td>5    </td><td>6    </td></tr>\n",
       "\t<tr><th scope=row>Maserati Bora</th><td>15.0 </td><td>8    </td><td>301.0</td><td>335  </td><td>3.54 </td><td>3.570</td><td>14.60</td><td>0    </td><td>1    </td><td>5    </td><td>8    </td></tr>\n",
       "\t<tr><th scope=row>Volvo 142E</th><td>21.4 </td><td>4    </td><td>121.0</td><td>109  </td><td>4.11 </td><td>2.780</td><td>18.60</td><td>1    </td><td>1    </td><td>4    </td><td>2    </td></tr>\n",
       "</tbody>\n",
       "</table>\n"
      ],
      "text/latex": [
       "\\begin{tabular}{r|lllllllllll}\n",
       "  & mpg & cyl & disp & hp & drat & wt & qsec & vs & am & gear & carb\\\\\n",
       "\\hline\n",
       "\tMazda RX4 & 21.0  & 6     & 160.0 & 110   & 3.90  & 2.620 & 16.46 & 0     & 1     & 4     & 4    \\\\\n",
       "\tMazda RX4 Wag & 21.0  & 6     & 160.0 & 110   & 3.90  & 2.875 & 17.02 & 0     & 1     & 4     & 4    \\\\\n",
       "\tDatsun 710 & 22.8  & 4     & 108.0 &  93   & 3.85  & 2.320 & 18.61 & 1     & 1     & 4     & 1    \\\\\n",
       "\tHornet 4 Drive & 21.4  & 6     & 258.0 & 110   & 3.08  & 3.215 & 19.44 & 1     & 0     & 3     & 1    \\\\\n",
       "\tHornet Sportabout & 18.7  & 8     & 360.0 & 175   & 3.15  & 3.440 & 17.02 & 0     & 0     & 3     & 2    \\\\\n",
       "\tValiant & 18.1  & 6     & 225.0 & 105   & 2.76  & 3.460 & 20.22 & 1     & 0     & 3     & 1    \\\\\n",
       "\tDuster 360 & 14.3  & 8     & 360.0 & 245   & 3.21  & 3.570 & 15.84 & 0     & 0     & 3     & 4    \\\\\n",
       "\tMerc 240D & 24.4  & 4     & 146.7 &  62   & 3.69  & 3.190 & 20.00 & 1     & 0     & 4     & 2    \\\\\n",
       "\tMerc 230 & 22.8  & 4     & 140.8 &  95   & 3.92  & 3.150 & 22.90 & 1     & 0     & 4     & 2    \\\\\n",
       "\tMerc 280 & 19.2  & 6     & 167.6 & 123   & 3.92  & 3.440 & 18.30 & 1     & 0     & 4     & 4    \\\\\n",
       "\tMerc 280C & 17.8  & 6     & 167.6 & 123   & 3.92  & 3.440 & 18.90 & 1     & 0     & 4     & 4    \\\\\n",
       "\tMerc 450SE & 16.4  & 8     & 275.8 & 180   & 3.07  & 4.070 & 17.40 & 0     & 0     & 3     & 3    \\\\\n",
       "\tMerc 450SL & 17.3  & 8     & 275.8 & 180   & 3.07  & 3.730 & 17.60 & 0     & 0     & 3     & 3    \\\\\n",
       "\tMerc 450SLC & 15.2  & 8     & 275.8 & 180   & 3.07  & 3.780 & 18.00 & 0     & 0     & 3     & 3    \\\\\n",
       "\tCadillac Fleetwood & 10.4  & 8     & 472.0 & 205   & 2.93  & 5.250 & 17.98 & 0     & 0     & 3     & 4    \\\\\n",
       "\tLincoln Continental & 10.4  & 8     & 460.0 & 215   & 3.00  & 5.424 & 17.82 & 0     & 0     & 3     & 4    \\\\\n",
       "\tChrysler Imperial & 14.7  & 8     & 440.0 & 230   & 3.23  & 5.345 & 17.42 & 0     & 0     & 3     & 4    \\\\\n",
       "\tFiat 128 & 32.4  & 4     &  78.7 &  66   & 4.08  & 2.200 & 19.47 & 1     & 1     & 4     & 1    \\\\\n",
       "\tHonda Civic & 30.4  & 4     &  75.7 &  52   & 4.93  & 1.615 & 18.52 & 1     & 1     & 4     & 2    \\\\\n",
       "\tToyota Corolla & 33.9  & 4     &  71.1 &  65   & 4.22  & 1.835 & 19.90 & 1     & 1     & 4     & 1    \\\\\n",
       "\tToyota Corona & 21.5  & 4     & 120.1 &  97   & 3.70  & 2.465 & 20.01 & 1     & 0     & 3     & 1    \\\\\n",
       "\tDodge Challenger & 15.5  & 8     & 318.0 & 150   & 2.76  & 3.520 & 16.87 & 0     & 0     & 3     & 2    \\\\\n",
       "\tAMC Javelin & 15.2  & 8     & 304.0 & 150   & 3.15  & 3.435 & 17.30 & 0     & 0     & 3     & 2    \\\\\n",
       "\tCamaro Z28 & 13.3  & 8     & 350.0 & 245   & 3.73  & 3.840 & 15.41 & 0     & 0     & 3     & 4    \\\\\n",
       "\tPontiac Firebird & 19.2  & 8     & 400.0 & 175   & 3.08  & 3.845 & 17.05 & 0     & 0     & 3     & 2    \\\\\n",
       "\tFiat X1-9 & 27.3  & 4     &  79.0 &  66   & 4.08  & 1.935 & 18.90 & 1     & 1     & 4     & 1    \\\\\n",
       "\tPorsche 914-2 & 26.0  & 4     & 120.3 &  91   & 4.43  & 2.140 & 16.70 & 0     & 1     & 5     & 2    \\\\\n",
       "\tLotus Europa & 30.4  & 4     &  95.1 & 113   & 3.77  & 1.513 & 16.90 & 1     & 1     & 5     & 2    \\\\\n",
       "\tFord Pantera L & 15.8  & 8     & 351.0 & 264   & 4.22  & 3.170 & 14.50 & 0     & 1     & 5     & 4    \\\\\n",
       "\tFerrari Dino & 19.7  & 6     & 145.0 & 175   & 3.62  & 2.770 & 15.50 & 0     & 1     & 5     & 6    \\\\\n",
       "\tMaserati Bora & 15.0  & 8     & 301.0 & 335   & 3.54  & 3.570 & 14.60 & 0     & 1     & 5     & 8    \\\\\n",
       "\tVolvo 142E & 21.4  & 4     & 121.0 & 109   & 4.11  & 2.780 & 18.60 & 1     & 1     & 4     & 2    \\\\\n",
       "\\end{tabular}\n"
      ],
      "text/markdown": [
       "\n",
       "| <!--/--> | mpg | cyl | disp | hp | drat | wt | qsec | vs | am | gear | carb | \n",
       "|---|---|---|---|---|---|---|---|---|---|---|---|---|---|---|---|---|---|---|---|---|---|---|---|---|---|---|---|---|---|---|---|\n",
       "| Mazda RX4 | 21.0  | 6     | 160.0 | 110   | 3.90  | 2.620 | 16.46 | 0     | 1     | 4     | 4     | \n",
       "| Mazda RX4 Wag | 21.0  | 6     | 160.0 | 110   | 3.90  | 2.875 | 17.02 | 0     | 1     | 4     | 4     | \n",
       "| Datsun 710 | 22.8  | 4     | 108.0 |  93   | 3.85  | 2.320 | 18.61 | 1     | 1     | 4     | 1     | \n",
       "| Hornet 4 Drive | 21.4  | 6     | 258.0 | 110   | 3.08  | 3.215 | 19.44 | 1     | 0     | 3     | 1     | \n",
       "| Hornet Sportabout | 18.7  | 8     | 360.0 | 175   | 3.15  | 3.440 | 17.02 | 0     | 0     | 3     | 2     | \n",
       "| Valiant | 18.1  | 6     | 225.0 | 105   | 2.76  | 3.460 | 20.22 | 1     | 0     | 3     | 1     | \n",
       "| Duster 360 | 14.3  | 8     | 360.0 | 245   | 3.21  | 3.570 | 15.84 | 0     | 0     | 3     | 4     | \n",
       "| Merc 240D | 24.4  | 4     | 146.7 |  62   | 3.69  | 3.190 | 20.00 | 1     | 0     | 4     | 2     | \n",
       "| Merc 230 | 22.8  | 4     | 140.8 |  95   | 3.92  | 3.150 | 22.90 | 1     | 0     | 4     | 2     | \n",
       "| Merc 280 | 19.2  | 6     | 167.6 | 123   | 3.92  | 3.440 | 18.30 | 1     | 0     | 4     | 4     | \n",
       "| Merc 280C | 17.8  | 6     | 167.6 | 123   | 3.92  | 3.440 | 18.90 | 1     | 0     | 4     | 4     | \n",
       "| Merc 450SE | 16.4  | 8     | 275.8 | 180   | 3.07  | 4.070 | 17.40 | 0     | 0     | 3     | 3     | \n",
       "| Merc 450SL | 17.3  | 8     | 275.8 | 180   | 3.07  | 3.730 | 17.60 | 0     | 0     | 3     | 3     | \n",
       "| Merc 450SLC | 15.2  | 8     | 275.8 | 180   | 3.07  | 3.780 | 18.00 | 0     | 0     | 3     | 3     | \n",
       "| Cadillac Fleetwood | 10.4  | 8     | 472.0 | 205   | 2.93  | 5.250 | 17.98 | 0     | 0     | 3     | 4     | \n",
       "| Lincoln Continental | 10.4  | 8     | 460.0 | 215   | 3.00  | 5.424 | 17.82 | 0     | 0     | 3     | 4     | \n",
       "| Chrysler Imperial | 14.7  | 8     | 440.0 | 230   | 3.23  | 5.345 | 17.42 | 0     | 0     | 3     | 4     | \n",
       "| Fiat 128 | 32.4  | 4     |  78.7 |  66   | 4.08  | 2.200 | 19.47 | 1     | 1     | 4     | 1     | \n",
       "| Honda Civic | 30.4  | 4     |  75.7 |  52   | 4.93  | 1.615 | 18.52 | 1     | 1     | 4     | 2     | \n",
       "| Toyota Corolla | 33.9  | 4     |  71.1 |  65   | 4.22  | 1.835 | 19.90 | 1     | 1     | 4     | 1     | \n",
       "| Toyota Corona | 21.5  | 4     | 120.1 |  97   | 3.70  | 2.465 | 20.01 | 1     | 0     | 3     | 1     | \n",
       "| Dodge Challenger | 15.5  | 8     | 318.0 | 150   | 2.76  | 3.520 | 16.87 | 0     | 0     | 3     | 2     | \n",
       "| AMC Javelin | 15.2  | 8     | 304.0 | 150   | 3.15  | 3.435 | 17.30 | 0     | 0     | 3     | 2     | \n",
       "| Camaro Z28 | 13.3  | 8     | 350.0 | 245   | 3.73  | 3.840 | 15.41 | 0     | 0     | 3     | 4     | \n",
       "| Pontiac Firebird | 19.2  | 8     | 400.0 | 175   | 3.08  | 3.845 | 17.05 | 0     | 0     | 3     | 2     | \n",
       "| Fiat X1-9 | 27.3  | 4     |  79.0 |  66   | 4.08  | 1.935 | 18.90 | 1     | 1     | 4     | 1     | \n",
       "| Porsche 914-2 | 26.0  | 4     | 120.3 |  91   | 4.43  | 2.140 | 16.70 | 0     | 1     | 5     | 2     | \n",
       "| Lotus Europa | 30.4  | 4     |  95.1 | 113   | 3.77  | 1.513 | 16.90 | 1     | 1     | 5     | 2     | \n",
       "| Ford Pantera L | 15.8  | 8     | 351.0 | 264   | 4.22  | 3.170 | 14.50 | 0     | 1     | 5     | 4     | \n",
       "| Ferrari Dino | 19.7  | 6     | 145.0 | 175   | 3.62  | 2.770 | 15.50 | 0     | 1     | 5     | 6     | \n",
       "| Maserati Bora | 15.0  | 8     | 301.0 | 335   | 3.54  | 3.570 | 14.60 | 0     | 1     | 5     | 8     | \n",
       "| Volvo 142E | 21.4  | 4     | 121.0 | 109   | 4.11  | 2.780 | 18.60 | 1     | 1     | 4     | 2     | \n",
       "\n",
       "\n"
      ],
      "text/plain": [
       "                    mpg  cyl disp  hp  drat wt    qsec  vs am gear carb\n",
       "Mazda RX4           21.0 6   160.0 110 3.90 2.620 16.46 0  1  4    4   \n",
       "Mazda RX4 Wag       21.0 6   160.0 110 3.90 2.875 17.02 0  1  4    4   \n",
       "Datsun 710          22.8 4   108.0  93 3.85 2.320 18.61 1  1  4    1   \n",
       "Hornet 4 Drive      21.4 6   258.0 110 3.08 3.215 19.44 1  0  3    1   \n",
       "Hornet Sportabout   18.7 8   360.0 175 3.15 3.440 17.02 0  0  3    2   \n",
       "Valiant             18.1 6   225.0 105 2.76 3.460 20.22 1  0  3    1   \n",
       "Duster 360          14.3 8   360.0 245 3.21 3.570 15.84 0  0  3    4   \n",
       "Merc 240D           24.4 4   146.7  62 3.69 3.190 20.00 1  0  4    2   \n",
       "Merc 230            22.8 4   140.8  95 3.92 3.150 22.90 1  0  4    2   \n",
       "Merc 280            19.2 6   167.6 123 3.92 3.440 18.30 1  0  4    4   \n",
       "Merc 280C           17.8 6   167.6 123 3.92 3.440 18.90 1  0  4    4   \n",
       "Merc 450SE          16.4 8   275.8 180 3.07 4.070 17.40 0  0  3    3   \n",
       "Merc 450SL          17.3 8   275.8 180 3.07 3.730 17.60 0  0  3    3   \n",
       "Merc 450SLC         15.2 8   275.8 180 3.07 3.780 18.00 0  0  3    3   \n",
       "Cadillac Fleetwood  10.4 8   472.0 205 2.93 5.250 17.98 0  0  3    4   \n",
       "Lincoln Continental 10.4 8   460.0 215 3.00 5.424 17.82 0  0  3    4   \n",
       "Chrysler Imperial   14.7 8   440.0 230 3.23 5.345 17.42 0  0  3    4   \n",
       "Fiat 128            32.4 4    78.7  66 4.08 2.200 19.47 1  1  4    1   \n",
       "Honda Civic         30.4 4    75.7  52 4.93 1.615 18.52 1  1  4    2   \n",
       "Toyota Corolla      33.9 4    71.1  65 4.22 1.835 19.90 1  1  4    1   \n",
       "Toyota Corona       21.5 4   120.1  97 3.70 2.465 20.01 1  0  3    1   \n",
       "Dodge Challenger    15.5 8   318.0 150 2.76 3.520 16.87 0  0  3    2   \n",
       "AMC Javelin         15.2 8   304.0 150 3.15 3.435 17.30 0  0  3    2   \n",
       "Camaro Z28          13.3 8   350.0 245 3.73 3.840 15.41 0  0  3    4   \n",
       "Pontiac Firebird    19.2 8   400.0 175 3.08 3.845 17.05 0  0  3    2   \n",
       "Fiat X1-9           27.3 4    79.0  66 4.08 1.935 18.90 1  1  4    1   \n",
       "Porsche 914-2       26.0 4   120.3  91 4.43 2.140 16.70 0  1  5    2   \n",
       "Lotus Europa        30.4 4    95.1 113 3.77 1.513 16.90 1  1  5    2   \n",
       "Ford Pantera L      15.8 8   351.0 264 4.22 3.170 14.50 0  1  5    4   \n",
       "Ferrari Dino        19.7 6   145.0 175 3.62 2.770 15.50 0  1  5    6   \n",
       "Maserati Bora       15.0 8   301.0 335 3.54 3.570 14.60 0  1  5    8   \n",
       "Volvo 142E          21.4 4   121.0 109 4.11 2.780 18.60 1  1  4    2   "
      ]
     },
     "metadata": {},
     "output_type": "display_data"
    }
   ],
   "source": [
    "class(mtcars)\n",
    "mtcars"
   ]
  },
  {
   "cell_type": "markdown",
   "metadata": {},
   "source": [
    "Jak vidíme, tato množina obsahuje data pro několik modelů aut. Jednotlivé sloupce reprezentují nejrůznější jejich vlastnosti:\n",
    "\n",
    "- počet válců\n",
    "- výkon v koních\n",
    "- spotřeba \n",
    "- ...\n",
    "\n",
    "zatímco názvy jednotlivých řádků označují konkrétní modely, kterých se to týká. K datům o každém modelu lze tedy snadno přistupovat pomocí jména řádku:"
   ]
  },
  {
   "cell_type": "code",
   "execution_count": 59,
   "metadata": {},
   "outputs": [
    {
     "data": {
      "text/html": [
       "<table>\n",
       "<thead><tr><th></th><th scope=col>mpg</th><th scope=col>cyl</th><th scope=col>disp</th><th scope=col>hp</th><th scope=col>drat</th><th scope=col>wt</th><th scope=col>qsec</th><th scope=col>vs</th><th scope=col>am</th><th scope=col>gear</th><th scope=col>carb</th></tr></thead>\n",
       "<tbody>\n",
       "\t<tr><th scope=row>Maserati Bora</th><td>15  </td><td>8   </td><td>301 </td><td>335 </td><td>3.54</td><td>3.57</td><td>14.6</td><td>0   </td><td>1   </td><td>5   </td><td>8   </td></tr>\n",
       "</tbody>\n",
       "</table>\n"
      ],
      "text/latex": [
       "\\begin{tabular}{r|lllllllllll}\n",
       "  & mpg & cyl & disp & hp & drat & wt & qsec & vs & am & gear & carb\\\\\n",
       "\\hline\n",
       "\tMaserati Bora & 15   & 8    & 301  & 335  & 3.54 & 3.57 & 14.6 & 0    & 1    & 5    & 8   \\\\\n",
       "\\end{tabular}\n"
      ],
      "text/markdown": [
       "\n",
       "| <!--/--> | mpg | cyl | disp | hp | drat | wt | qsec | vs | am | gear | carb | \n",
       "|---|\n",
       "| Maserati Bora | 15   | 8    | 301  | 335  | 3.54 | 3.57 | 14.6 | 0    | 1    | 5    | 8    | \n",
       "\n",
       "\n"
      ],
      "text/plain": [
       "              mpg cyl disp hp  drat wt   qsec vs am gear carb\n",
       "Maserati Bora 15  8   301  335 3.54 3.57 14.6 0  1  5    8   "
      ]
     },
     "metadata": {},
     "output_type": "display_data"
    }
   ],
   "source": [
    "mtcars[\"Maserati Bora\",]"
   ]
  },
  {
   "cell_type": "markdown",
   "metadata": {},
   "source": [
    "a data napříč modely jsou pak přístupné skrze sloupce:"
   ]
  },
  {
   "cell_type": "code",
   "execution_count": 60,
   "metadata": {},
   "outputs": [
    {
     "name": "stdout",
     "output_type": "stream",
     "text": [
      "                     hp\n",
      "Mazda RX4           110\n",
      "Mazda RX4 Wag       110\n",
      "Datsun 710           93\n",
      "Hornet 4 Drive      110\n",
      "Hornet Sportabout   175\n",
      "Valiant             105\n",
      "Duster 360          245\n",
      "Merc 240D            62\n",
      "Merc 230             95\n",
      "Merc 280            123\n",
      "Merc 280C           123\n",
      "Merc 450SE          180\n",
      "Merc 450SL          180\n",
      "Merc 450SLC         180\n",
      "Cadillac Fleetwood  205\n",
      "Lincoln Continental 215\n",
      "Chrysler Imperial   230\n",
      "Fiat 128             66\n",
      "Honda Civic          52\n",
      "Toyota Corolla       65\n",
      "Toyota Corona        97\n",
      "Dodge Challenger    150\n",
      "AMC Javelin         150\n",
      "Camaro Z28          245\n",
      "Pontiac Firebird    175\n",
      "Fiat X1-9            66\n",
      "Porsche 914-2        91\n",
      "Lotus Europa        113\n",
      "Ford Pantera L      264\n",
      "Ferrari Dino        175\n",
      "Maserati Bora       335\n",
      "Volvo 142E          109\n",
      " [1] 110 110  93 110 175 105 245  62  95 123 123 180 180 180 205 215 230  66  52\n",
      "[20]  65  97 150 150 245 175  66  91 113 264 175 335 109\n",
      " [1] 110 110  93 110 175 105 245  62  95 123 123 180 180 180 205 215 230  66  52\n",
      "[20]  65  97 150 150 245 175  66  91 113 264 175 335 109\n",
      " [1] 110 110  93 110 175 105 245  62  95 123 123 180 180 180 205 215 230  66  52\n",
      "[20]  65  97 150 150 245 175  66  91 113 264 175 335 109\n"
     ]
    }
   ],
   "source": [
    "print(mtcars[\"hp\"])\n",
    "print(mtcars[,\"hp\"])\n",
    "print(mtcars[[\"hp\"]])\n",
    "print(mtcars$hp)"
   ]
  },
  {
   "cell_type": "markdown",
   "metadata": {},
   "source": [
    "Rozdíly mezi syntaxí a výstupem příkazů výše by již pro vás neměly být záhadou.\n",
    "\n",
    "## Faktor (factor)\n",
    "\n",
    "Faktor je reprezentace pro kategorická data, které rozdělují datové body do skupin (např. pohlaví, státní příslušnost, rasa, náboženství atd.). V R se jednotlivým kategoriím říká úrovně (levels) a v datové analýze se s tímto pojmem setkáváme poměrně často. Například pokud měříme váhu zvlášť u mužů a žen, můžeme říci, že náhodná proměnná váha má dvě úrovně (muži a ženy).\n",
    "\n",
    "Mějme třeba následující faktor `fac_x`:"
   ]
  },
  {
   "cell_type": "code",
   "execution_count": 61,
   "metadata": {},
   "outputs": [
    {
     "name": "stdout",
     "output_type": "stream",
     "text": [
      "[1] česká     česká     rakouská  slovenská německá   česká     česká    \n",
      "[8] slovenská\n",
      "Levels: česká německá rakouská slovenská\n"
     ]
    }
   ],
   "source": [
    "příslušnost <- c(\"česká\", \"česká\", \"rakouská\", \"slovenská\", \"německá\", \"česká\", \"česká\", \"slovenská\")\n",
    "fac_x <- factor(příslušnost)\n",
    "print(fac_x)"
   ]
  },
  {
   "cell_type": "markdown",
   "metadata": {},
   "source": [
    "Vidíme, že faktor obsahuje náš vektor, ale navíc ještě informaci o tom, jaké skupiny (unikátní hodnoty) se v něm nacházejí. V případě čísel by to fungovalo stejně:"
   ]
  },
  {
   "cell_type": "code",
   "execution_count": 62,
   "metadata": {},
   "outputs": [
    {
     "name": "stdout",
     "output_type": "stream",
     "text": [
      " [1] 1 1 1 1 1 0 0 0 0 0\n",
      "Levels: 0 1\n"
     ]
    }
   ],
   "source": [
    "print(factor(\n",
    "    c(rep(1, 5), rep(0, 5))\n",
    "))"
   ]
  },
  {
   "cell_type": "markdown",
   "metadata": {},
   "source": [
    "Na úrovně faktoru se lze snadno zeptat pomocí funkce `levels`:"
   ]
  },
  {
   "cell_type": "code",
   "execution_count": 63,
   "metadata": {},
   "outputs": [
    {
     "data": {
      "text/html": [
       "<ol class=list-inline>\n",
       "\t<li>'česká'</li>\n",
       "\t<li>'německá'</li>\n",
       "\t<li>'rakouská'</li>\n",
       "\t<li>'slovenská'</li>\n",
       "</ol>\n"
      ],
      "text/latex": [
       "\\begin{enumerate*}\n",
       "\\item 'česká'\n",
       "\\item 'německá'\n",
       "\\item 'rakouská'\n",
       "\\item 'slovenská'\n",
       "\\end{enumerate*}\n"
      ],
      "text/markdown": [
       "1. 'česká'\n",
       "2. 'německá'\n",
       "3. 'rakouská'\n",
       "4. 'slovenská'\n",
       "\n",
       "\n"
      ],
      "text/plain": [
       "[1] \"česká\"     \"německá\"   \"rakouská\"  \"slovenská\""
      ]
     },
     "metadata": {},
     "output_type": "display_data"
    }
   ],
   "source": [
    "levels(fac_x)"
   ]
  },
  {
   "cell_type": "markdown",
   "metadata": {},
   "source": [
    "nebo přímo dotazem na atribut objektu:"
   ]
  },
  {
   "cell_type": "code",
   "execution_count": 64,
   "metadata": {},
   "outputs": [
    {
     "data": {
      "text/html": [
       "<ol class=list-inline>\n",
       "\t<li>'česká'</li>\n",
       "\t<li>'německá'</li>\n",
       "\t<li>'rakouská'</li>\n",
       "\t<li>'slovenská'</li>\n",
       "</ol>\n"
      ],
      "text/latex": [
       "\\begin{enumerate*}\n",
       "\\item 'česká'\n",
       "\\item 'německá'\n",
       "\\item 'rakouská'\n",
       "\\item 'slovenská'\n",
       "\\end{enumerate*}\n"
      ],
      "text/markdown": [
       "1. 'česká'\n",
       "2. 'německá'\n",
       "3. 'rakouská'\n",
       "4. 'slovenská'\n",
       "\n",
       "\n"
      ],
      "text/plain": [
       "[1] \"česká\"     \"německá\"   \"rakouská\"  \"slovenská\""
      ]
     },
     "metadata": {},
     "output_type": "display_data"
    }
   ],
   "source": [
    "attr(fac_x, \"levels\")"
   ]
  },
  {
   "cell_type": "markdown",
   "metadata": {},
   "source": [
    "Všimněte si, že úrovně nejsou seřazené podle toho, jak se objevují v původním vektoru, ale podle velikosti, resp. lexikálně podle abecedy.\n",
    "\n",
    "Faktory se v mnohém chovají jako vektory:"
   ]
  },
  {
   "cell_type": "code",
   "execution_count": 65,
   "metadata": {},
   "outputs": [
    {
     "data": {
      "text/html": [
       "<ol class=list-inline>\n",
       "\t<li>česká</li>\n",
       "\t<li>česká</li>\n",
       "\t<li>rakouská</li>\n",
       "\t<li>slovenská</li>\n",
       "\t<li>německá</li>\n",
       "\t<li>česká</li>\n",
       "\t<li>česká</li>\n",
       "\t<li>slovenská</li>\n",
       "</ol>\n"
      ],
      "text/latex": [
       "\\begin{enumerate*}\n",
       "\\item česká\n",
       "\\item česká\n",
       "\\item rakouská\n",
       "\\item slovenská\n",
       "\\item německá\n",
       "\\item česká\n",
       "\\item česká\n",
       "\\item slovenská\n",
       "\\end{enumerate*}\n"
      ],
      "text/markdown": [
       "1. česká\n",
       "2. česká\n",
       "3. rakouská\n",
       "4. slovenská\n",
       "5. německá\n",
       "6. česká\n",
       "7. česká\n",
       "8. slovenská\n",
       "\n",
       "\n"
      ],
      "text/plain": [
       "[1] česká     česká     rakouská  slovenská německá   česká     česká    \n",
       "[8] slovenská\n",
       "Levels: česká německá rakouská slovenská"
      ]
     },
     "metadata": {},
     "output_type": "display_data"
    },
    {
     "data": {
      "text/html": [
       "<ol class=list-inline>\n",
       "\t<li>česká</li>\n",
       "\t<li>česká</li>\n",
       "\t<li>rakouská</li>\n",
       "</ol>\n"
      ],
      "text/latex": [
       "\\begin{enumerate*}\n",
       "\\item česká\n",
       "\\item česká\n",
       "\\item rakouská\n",
       "\\end{enumerate*}\n"
      ],
      "text/markdown": [
       "1. česká\n",
       "2. česká\n",
       "3. rakouská\n",
       "\n",
       "\n"
      ],
      "text/plain": [
       "[1] česká    česká    rakouská\n",
       "Levels: česká německá rakouská slovenská"
      ]
     },
     "metadata": {},
     "output_type": "display_data"
    },
    {
     "data": {
      "text/html": [
       "<ol class=list-inline>\n",
       "\t<li>rakouská</li>\n",
       "\t<li>slovenská</li>\n",
       "\t<li>německá</li>\n",
       "\t<li>slovenská</li>\n",
       "</ol>\n"
      ],
      "text/latex": [
       "\\begin{enumerate*}\n",
       "\\item rakouská\n",
       "\\item slovenská\n",
       "\\item německá\n",
       "\\item slovenská\n",
       "\\end{enumerate*}\n"
      ],
      "text/markdown": [
       "1. rakouská\n",
       "2. slovenská\n",
       "3. německá\n",
       "4. slovenská\n",
       "\n",
       "\n"
      ],
      "text/plain": [
       "[1] rakouská  slovenská německá   slovenská\n",
       "Levels: česká německá rakouská slovenská"
      ]
     },
     "metadata": {},
     "output_type": "display_data"
    }
   ],
   "source": [
    "fac_x\n",
    "fac_x[1:3]\n",
    "fac_x[c(-1, -2, -6, -7)]"
   ]
  },
  {
   "cell_type": "markdown",
   "metadata": {},
   "source": [
    "avšak v některých případech můžete být překvapení. Například zde:"
   ]
  },
  {
   "cell_type": "code",
   "execution_count": 66,
   "metadata": {},
   "outputs": [
    {
     "name": "stderr",
     "output_type": "stream",
     "text": [
      "Warning message in `[<-.factor`(`*tmp*`, 1, value = \"polská\"):\n",
      "“invalid factor level, NA generated”"
     ]
    },
    {
     "name": "stdout",
     "output_type": "stream",
     "text": [
      "[1] <NA>      česká     rakouská  slovenská německá   česká     česká    \n",
      "[8] slovenská\n",
      "Levels: česká německá rakouská slovenská\n"
     ]
    }
   ],
   "source": [
    "fac_x[1] <- \"polská\"\n",
    "print(fac_x)"
   ]
  },
  {
   "cell_type": "markdown",
   "metadata": {},
   "source": [
    "R si totiž bude stěžovat, pokud se do faktoru pokusíte zapsat hodnotu reprezentující kategorii, o které neví, a nedovolí vám to. Místo toho vloží hodnotu `NA`, která v R reprezentuje existující avšak neznámou hodnotu. Faktor tedy musí dopředu vědět o všech úrovních, které  může mít. To lze specifikovat při jeho vytvoření pomocí argumentu `levels`:"
   ]
  },
  {
   "cell_type": "code",
   "execution_count": 67,
   "metadata": {},
   "outputs": [
    {
     "name": "stdout",
     "output_type": "stream",
     "text": [
      "[1] česká     česká     rakouská  slovenská německá   česká     česká    \n",
      "[8] slovenská\n",
      "Levels: česká rakouská slovenská německá polská\n"
     ]
    }
   ],
   "source": [
    "fac_x <- factor(příslušnost, levels = c(unique(příslušnost), \"polská\"))\n",
    "print(fac_x)"
   ]
  },
  {
   "cell_type": "markdown",
   "metadata": {},
   "source": [
    "Následující kód tedy potom funguje tak, jak bychom čekali:"
   ]
  },
  {
   "cell_type": "code",
   "execution_count": 68,
   "metadata": {},
   "outputs": [
    {
     "name": "stdout",
     "output_type": "stream",
     "text": [
      "[1] polská    česká     rakouská  slovenská německá   česká     česká    \n",
      "[8] slovenská\n",
      "Levels: česká rakouská slovenská německá polská\n"
     ]
    }
   ],
   "source": [
    "fac_x[1] <- \"polská\"\n",
    "print(fac_x)"
   ]
  },
  {
   "cell_type": "markdown",
   "metadata": {},
   "source": [
    "Poslední věc, kterou je třeba o faktorech zmínit, je jejich datový typ. Všechny faktory jsou totiž numerické a typu `integer`. Nebo se tak alespoň navenek tváří:"
   ]
  },
  {
   "cell_type": "code",
   "execution_count": 69,
   "metadata": {},
   "outputs": [
    {
     "data": {
      "text/html": [
       "'numeric'"
      ],
      "text/latex": [
       "'numeric'"
      ],
      "text/markdown": [
       "'numeric'"
      ],
      "text/plain": [
       "[1] \"numeric\""
      ]
     },
     "metadata": {},
     "output_type": "display_data"
    },
    {
     "data": {
      "text/html": [
       "'integer'"
      ],
      "text/latex": [
       "'integer'"
      ],
      "text/markdown": [
       "'integer'"
      ],
      "text/plain": [
       "[1] \"integer\""
      ]
     },
     "metadata": {},
     "output_type": "display_data"
    }
   ],
   "source": [
    "mode(fac_x)\n",
    "typeof(fac_x)"
   ]
  },
  {
   "cell_type": "markdown",
   "metadata": {},
   "source": [
    "Pokud se nad tím ovšem zamyslíme, tak je to celkem logické, neboť se v podstatě jedná o vektor, kde jednotlivé položky náleží do konečné množiny hodnot. Nejůspornější reprezentací je tedy právě použití celých čísel pro označení položek z jednotlivých skupin."
   ]
  },
  {
   "cell_type": "markdown",
   "metadata": {},
   "source": [
    "### Použití faktorů\n",
    "\n",
    "Jak už bylo předesláno, faktory se hodí pro popis kategorických dat. V naší tabulce o autech z předchozí kapitoly máme hned několik sloupců, které lze reprezentovat jako faktory:"
   ]
  },
  {
   "cell_type": "code",
   "execution_count": 70,
   "metadata": {},
   "outputs": [],
   "source": [
    "cyllinders <- as.factor(mtcars$cyl) # počet válců (4, 6 nebo 8)\n",
    "transmission <- as.factor(mtcars$am) # řazení (automatické (0) nebo manuální (1))\n",
    "forward_gears <- as.factor(mtcars$gear) # počet dopředných rychlostí (3, 4 nebo 5)"
   ]
  },
  {
   "cell_type": "markdown",
   "metadata": {},
   "source": [
    "Funkce `as.factor` je univerzální funkce, která se pokusí její argument převést na faktor a ten vrátit. V tomto případě to funguje dobře a my jsme získali tři faktory odvozené z našich dat:"
   ]
  },
  {
   "cell_type": "code",
   "execution_count": 71,
   "metadata": {},
   "outputs": [
    {
     "name": "stdout",
     "output_type": "stream",
     "text": [
      " [1] 6 6 4 6 8 6 8 4 4 6 6 8 8 8 8 8 8 4 4 4 4 8 8 8 8 4 4 4 8 6 8 4\n",
      "Levels: 4 6 8\n",
      " [1] 1 1 1 0 0 0 0 0 0 0 0 0 0 0 0 0 0 1 1 1 0 0 0 0 0 1 1 1 1 1 1 1\n",
      "Levels: 0 1\n",
      " [1] 4 4 4 3 3 3 3 4 4 4 4 3 3 3 3 3 3 4 4 4 3 3 3 3 3 4 5 5 5 5 5 4\n",
      "Levels: 3 4 5\n"
     ]
    }
   ],
   "source": [
    "print(cyllinders)\n",
    "print(transmission)\n",
    "print(forward_gears)"
   ]
  },
  {
   "cell_type": "markdown",
   "metadata": {},
   "source": [
    "Pro lepší čitelnost si můžeme změnit reprezentaci jednotlivých úrovní faktoru:"
   ]
  },
  {
   "cell_type": "code",
   "execution_count": 72,
   "metadata": {},
   "outputs": [
    {
     "data": {
      "text/html": [
       "<ol class=list-inline>\n",
       "\t<li>manual</li>\n",
       "\t<li>manual</li>\n",
       "\t<li>manual</li>\n",
       "\t<li>auto</li>\n",
       "\t<li>auto</li>\n",
       "\t<li>auto</li>\n",
       "\t<li>auto</li>\n",
       "\t<li>auto</li>\n",
       "\t<li>auto</li>\n",
       "\t<li>auto</li>\n",
       "\t<li>auto</li>\n",
       "\t<li>auto</li>\n",
       "\t<li>auto</li>\n",
       "\t<li>auto</li>\n",
       "\t<li>auto</li>\n",
       "\t<li>auto</li>\n",
       "\t<li>auto</li>\n",
       "\t<li>manual</li>\n",
       "\t<li>manual</li>\n",
       "\t<li>manual</li>\n",
       "\t<li>auto</li>\n",
       "\t<li>auto</li>\n",
       "\t<li>auto</li>\n",
       "\t<li>auto</li>\n",
       "\t<li>auto</li>\n",
       "\t<li>manual</li>\n",
       "\t<li>manual</li>\n",
       "\t<li>manual</li>\n",
       "\t<li>manual</li>\n",
       "\t<li>manual</li>\n",
       "\t<li>manual</li>\n",
       "\t<li>manual</li>\n",
       "</ol>\n"
      ],
      "text/latex": [
       "\\begin{enumerate*}\n",
       "\\item manual\n",
       "\\item manual\n",
       "\\item manual\n",
       "\\item auto\n",
       "\\item auto\n",
       "\\item auto\n",
       "\\item auto\n",
       "\\item auto\n",
       "\\item auto\n",
       "\\item auto\n",
       "\\item auto\n",
       "\\item auto\n",
       "\\item auto\n",
       "\\item auto\n",
       "\\item auto\n",
       "\\item auto\n",
       "\\item auto\n",
       "\\item manual\n",
       "\\item manual\n",
       "\\item manual\n",
       "\\item auto\n",
       "\\item auto\n",
       "\\item auto\n",
       "\\item auto\n",
       "\\item auto\n",
       "\\item manual\n",
       "\\item manual\n",
       "\\item manual\n",
       "\\item manual\n",
       "\\item manual\n",
       "\\item manual\n",
       "\\item manual\n",
       "\\end{enumerate*}\n"
      ],
      "text/markdown": [
       "1. manual\n",
       "2. manual\n",
       "3. manual\n",
       "4. auto\n",
       "5. auto\n",
       "6. auto\n",
       "7. auto\n",
       "8. auto\n",
       "9. auto\n",
       "10. auto\n",
       "11. auto\n",
       "12. auto\n",
       "13. auto\n",
       "14. auto\n",
       "15. auto\n",
       "16. auto\n",
       "17. auto\n",
       "18. manual\n",
       "19. manual\n",
       "20. manual\n",
       "21. auto\n",
       "22. auto\n",
       "23. auto\n",
       "24. auto\n",
       "25. auto\n",
       "26. manual\n",
       "27. manual\n",
       "28. manual\n",
       "29. manual\n",
       "30. manual\n",
       "31. manual\n",
       "32. manual\n",
       "\n",
       "\n"
      ],
      "text/plain": [
       " [1] manual manual manual auto   auto   auto   auto   auto   auto   auto  \n",
       "[11] auto   auto   auto   auto   auto   auto   auto   manual manual manual\n",
       "[21] auto   auto   auto   auto   auto   manual manual manual manual manual\n",
       "[31] manual manual\n",
       "Levels: auto manual"
      ]
     },
     "metadata": {},
     "output_type": "display_data"
    }
   ],
   "source": [
    "levels(transmission) <- c(\"auto\", \"manual\")\n",
    "transmission"
   ]
  },
  {
   "cell_type": "markdown",
   "metadata": {},
   "source": [
    "#### Kontingenční tabulka\n",
    "\n",
    "Praktickou funkcí pro práci s faktory je funkce `table`, které můžete poslat seznam faktorů a ona vám vrátí kontingenční tabulku:"
   ]
  },
  {
   "cell_type": "code",
   "execution_count": 73,
   "metadata": {},
   "outputs": [
    {
     "data": {
      "text/plain": [
       "          transmission\n",
       "cyllinders auto manual\n",
       "         4    3      8\n",
       "         6    4      3\n",
       "         8   12      2"
      ]
     },
     "metadata": {},
     "output_type": "display_data"
    }
   ],
   "source": [
    "table(list(\n",
    "    cyllinders = cyllinders\n",
    "    , transmission = transmission\n",
    "))"
   ]
  },
  {
   "cell_type": "markdown",
   "metadata": {},
   "source": [
    "Z této tabulky tedy můžeme vyčíst, že většina aut s automatickou převodovkou má 8 válců (12 modelů celkem) a že většina čtyřválcových modelů má manuální převodovku (8 oproti 3). Tabulku lze vygenerovat i pro všechny tři faktory naráz a výsledek se pak tváří podobně jako vícerozměrné pole:"
   ]
  },
  {
   "cell_type": "code",
   "execution_count": 74,
   "metadata": {},
   "outputs": [
    {
     "data": {
      "text/plain": [
       ", , forward_gears = 3\n",
       "\n",
       "          transmission\n",
       "cyllinders auto manual\n",
       "         4    1      0\n",
       "         6    2      0\n",
       "         8   12      0\n",
       "\n",
       ", , forward_gears = 4\n",
       "\n",
       "          transmission\n",
       "cyllinders auto manual\n",
       "         4    2      6\n",
       "         6    2      2\n",
       "         8    0      0\n",
       "\n",
       ", , forward_gears = 5\n",
       "\n",
       "          transmission\n",
       "cyllinders auto manual\n",
       "         4    0      2\n",
       "         6    0      1\n",
       "         8    0      2\n"
      ]
     },
     "metadata": {},
     "output_type": "display_data"
    }
   ],
   "source": [
    "table(list(\n",
    "    cyllinders = cyllinders\n",
    "    , transmission = transmission\n",
    "    , forward_gears = forward_gears\n",
    "))"
   ]
  },
  {
   "cell_type": "markdown",
   "metadata": {},
   "source": [
    "Naše data bychom ani nemuseli na faktory převádět. Stejnou tabulku bychom získali i přímo za použití příslušné podmnožiny naší datové matice. Funkce `table` je dost chytrá na to, aby jí došlo, že se má na dané sloupce dívat jako na faktory:"
   ]
  },
  {
   "cell_type": "code",
   "execution_count": 75,
   "metadata": {},
   "outputs": [
    {
     "data": {
      "text/html": [
       "<ol class=list-inline>\n",
       "\t<li>'auto'</li>\n",
       "\t<li>'manual'</li>\n",
       "</ol>\n"
      ],
      "text/latex": [
       "\\begin{enumerate*}\n",
       "\\item 'auto'\n",
       "\\item 'manual'\n",
       "\\end{enumerate*}\n"
      ],
      "text/markdown": [
       "1. 'auto'\n",
       "2. 'manual'\n",
       "\n",
       "\n"
      ],
      "text/plain": [
       "[1] \"auto\"   \"manual\""
      ]
     },
     "metadata": {},
     "output_type": "display_data"
    }
   ],
   "source": [
    "mtcars[[\"am\"]] <- as.factor(mtcars[[\"am\"]])\n",
    "levels(mtcars[[\"am\"]]) <- c(\"auto\", \"manual\")\n",
    "levels(mtcars[[\"am\"]])"
   ]
  },
  {
   "cell_type": "code",
   "execution_count": 76,
   "metadata": {},
   "outputs": [
    {
     "data": {
      "text/plain": [
       "   am\n",
       "cyl auto manual\n",
       "  4    3      8\n",
       "  6    4      3\n",
       "  8   12      2"
      ]
     },
     "metadata": {},
     "output_type": "display_data"
    }
   ],
   "source": [
    "table(mtcars[c(\"cyl\", \"am\")])"
   ]
  },
  {
   "cell_type": "code",
   "execution_count": 77,
   "metadata": {},
   "outputs": [
    {
     "data": {
      "text/plain": [
       ", , gear = 3\n",
       "\n",
       "   am\n",
       "cyl auto manual\n",
       "  4    1      0\n",
       "  6    2      0\n",
       "  8   12      0\n",
       "\n",
       ", , gear = 4\n",
       "\n",
       "   am\n",
       "cyl auto manual\n",
       "  4    2      6\n",
       "  6    2      2\n",
       "  8    0      0\n",
       "\n",
       ", , gear = 5\n",
       "\n",
       "   am\n",
       "cyl auto manual\n",
       "  4    0      2\n",
       "  6    0      1\n",
       "  8    0      2\n"
      ]
     },
     "metadata": {},
     "output_type": "display_data"
    }
   ],
   "source": [
    "table(mtcars[c(\"cyl\", \"am\", \"gear\")])"
   ]
  }
 ],
 "metadata": {
  "kernelspec": {
   "display_name": "R",
   "language": "R",
   "name": "ir"
  },
  "language_info": {
   "codemirror_mode": "r",
   "file_extension": ".r",
   "mimetype": "text/x-r-source",
   "name": "R",
   "pygments_lexer": "r",
   "version": "3.3.2"
  },
  "toc": {
   "base_numbering": 1,
   "nav_menu": {},
   "number_sections": true,
   "sideBar": true,
   "skip_h1_title": true,
   "title_cell": "Table of Contents",
   "title_sidebar": "Contents",
   "toc_cell": true,
   "toc_position": {},
   "toc_section_display": "block",
   "toc_window_display": false
  }
 },
 "nbformat": 4,
 "nbformat_minor": 2
}
