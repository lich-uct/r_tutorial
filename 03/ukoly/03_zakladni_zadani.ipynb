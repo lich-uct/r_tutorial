{
 "cells": [
  {
   "cell_type": "markdown",
   "metadata": {
    "toc": true
   },
   "source": [
    "<h1>Table of Contents<span class=\"tocSkip\"></span></h1>\n",
    "<div class=\"toc\"><ul class=\"toc-item\"><li><span><a href=\"#Úhlopříčka-čtverce\" data-toc-modified-id=\"Úhlopříčka-čtverce-1\"><span class=\"toc-item-num\">1&nbsp;&nbsp;</span>Úhlopříčka čtverce</a></span></li><li><span><a href=\"#Úhlopříčka-krychle\" data-toc-modified-id=\"Úhlopříčka-krychle-2\"><span class=\"toc-item-num\">2&nbsp;&nbsp;</span>Úhlopříčka krychle</a></span></li><li><span><a href=\"#Kontrola\" data-toc-modified-id=\"Kontrola-3\"><span class=\"toc-item-num\">3&nbsp;&nbsp;</span>Kontrola</a></span></li><li><span><a href=\"#Převod\" data-toc-modified-id=\"Převod-4\"><span class=\"toc-item-num\">4&nbsp;&nbsp;</span>Převod</a></span></li><li><span><a href=\"#Konjunkce-a-Disjunkce\" data-toc-modified-id=\"Konjunkce-a-Disjunkce-5\"><span class=\"toc-item-num\">5&nbsp;&nbsp;</span>Konjunkce a Disjunkce</a></span></li><li><span><a href=\"#Funkce-pro-výpočet-úhlopříčky-čtverce-a-krychle\" data-toc-modified-id=\"Funkce-pro-výpočet-úhlopříčky-čtverce-a-krychle-6\"><span class=\"toc-item-num\">6&nbsp;&nbsp;</span>Funkce pro výpočet úhlopříčky čtverce a krychle</a></span></li></ul></div>"
   ]
  },
  {
   "cell_type": "markdown",
   "metadata": {},
   "source": [
    "# Základní úlohy\n",
    "\n",
    "Zde je několik úloh na procvičení základních stavebních prvků jazyka R. Především se jedná o přiřazování do proměnných a operace s různými datovými typy.\n",
    "\n",
    "## Úhlopříčka čtverce\n",
    "\n",
    "Vypočťete postupně délky úhlopříček čtverců se stranami o délce 5, 15 a 30 cm. Výsledek výpočtu vždy uložte do proměnné `u` a její hodnotu vytiskněte na konzoli."
   ]
  },
  {
   "cell_type": "code",
   "execution_count": null,
   "metadata": {},
   "outputs": [],
   "source": []
  },
  {
   "cell_type": "markdown",
   "metadata": {},
   "source": [
    "## Úhlopříčka krychle\n",
    "\n",
    "Upravte předchozí kód tak, aby proměnná `u` obsahovala délku tělesové úhlopříčky příslušné krychle."
   ]
  },
  {
   "cell_type": "code",
   "execution_count": null,
   "metadata": {},
   "outputs": [],
   "source": []
  },
  {
   "cell_type": "markdown",
   "metadata": {},
   "source": [
    "## Kontrola\n",
    "\n",
    "Zkontrolujte, zda následující příkazy vrací numerické hodnoty (čili, že mód návratových hodnot je `numeric`):"
   ]
  },
  {
   "cell_type": "code",
   "execution_count": 1,
   "metadata": {},
   "outputs": [
    {
     "name": "stdout",
     "output_type": "stream",
     "text": [
      "[1] 5\n",
      "[1] \"5\"\n"
     ]
    },
    {
     "data": {
      "text/html": [
       "25"
      ],
      "text/latex": [
       "25"
      ],
      "text/markdown": [
       "25"
      ],
      "text/plain": [
       "[1] 25"
      ]
     },
     "metadata": {},
     "output_type": "display_data"
    },
    {
     "data": {
      "text/html": [
       "TRUE"
      ],
      "text/latex": [
       "TRUE"
      ],
      "text/markdown": [
       "TRUE"
      ],
      "text/plain": [
       "[1] TRUE"
      ]
     },
     "metadata": {},
     "output_type": "display_data"
    }
   ],
   "source": [
    "print(5)\n",
    "print(\"5\")\n",
    "5 * 5\n",
    "'numeric' > 10"
   ]
  },
  {
   "cell_type": "code",
   "execution_count": null,
   "metadata": {},
   "outputs": [],
   "source": []
  },
  {
   "cell_type": "markdown",
   "metadata": {},
   "source": [
    "## Převod\n",
    "\n",
    "Převeďte výsledky všech výrazů výše, které nevrací numerickou hodnotu, na numerické a ověřte si správnost převodu."
   ]
  },
  {
   "cell_type": "code",
   "execution_count": null,
   "metadata": {},
   "outputs": [],
   "source": []
  },
  {
   "cell_type": "markdown",
   "metadata": {},
   "source": [
    "## Konjunkce a Disjunkce\n",
    "\n",
    "Pomocí logických proměnných zreprodukujte hodnoty v tabulce konjunkce, disjunkce nebo jiné. Možnosti [zde](https://cs.wikipedia.org/wiki/Tabulka_pravdivostn%C3%ADch_hodnot_z%C3%A1kladn%C3%ADch_slo%C5%BEen%C3%BDch_v%C3%BDrok%C5%AF#Konjunkce)."
   ]
  },
  {
   "cell_type": "code",
   "execution_count": null,
   "metadata": {},
   "outputs": [],
   "source": []
  },
  {
   "cell_type": "markdown",
   "metadata": {},
   "source": [
    "## Funkce pro výpočet úhlopříčky čtverce a krychle\n",
    "\n",
    "Vytvořte funkce pro výpočet úhlopříčky čtverce a krychle. Aplikujte je při řešení první a druhé úlohy v tomto notebooku."
   ]
  },
  {
   "cell_type": "code",
   "execution_count": null,
   "metadata": {},
   "outputs": [],
   "source": []
  }
 ],
 "metadata": {
  "kernelspec": {
   "display_name": "R",
   "language": "R",
   "name": "ir"
  },
  "language_info": {
   "codemirror_mode": "r",
   "file_extension": ".r",
   "mimetype": "text/x-r-source",
   "name": "R",
   "pygments_lexer": "r",
   "version": "3.3.2"
  },
  "toc": {
   "base_numbering": 1,
   "nav_menu": {},
   "number_sections": true,
   "sideBar": true,
   "skip_h1_title": true,
   "title_cell": "Table of Contents",
   "title_sidebar": "Contents",
   "toc_cell": true,
   "toc_position": {},
   "toc_section_display": true,
   "toc_window_display": false
  }
 },
 "nbformat": 4,
 "nbformat_minor": 2
}
