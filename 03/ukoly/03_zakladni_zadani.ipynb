{
 "cells": [
  {
   "cell_type": "markdown",
   "metadata": {},
   "source": [
    "# Základní úlohy\n",
    "\n",
    "Zde je několik úloh na procvičení základních stavebních prvků jazyka R. Především se jedná o přiřazování do proměnných a operace s různými datovými typy.\n",
    "\n",
    "## Úhlopříčka čtverce\n",
    "\n",
    "Vypočťete postupně délky úhlopříček čtverců se stranami o délce 5, 15 a 30 cm. Výsledek výpočtu vždy uložte do proměnné `u` a její hodnotu vytiskněte na konzoli."
   ]
  },
  {
   "cell_type": "code",
   "execution_count": null,
   "metadata": {},
   "outputs": [],
   "source": []
  },
  {
   "cell_type": "markdown",
   "metadata": {},
   "source": [
    "## Úhlopříčka krychle\n",
    "\n",
    "Upravte předchozí kód tak, aby proměnná `u` obsahovala délku tělesové úhlopříčky příslušné krychle."
   ]
  },
  {
   "cell_type": "code",
   "execution_count": null,
   "metadata": {},
   "outputs": [],
   "source": []
  },
  {
   "cell_type": "markdown",
   "metadata": {},
   "source": [
    "## Kontrola\n",
    "\n",
    "Zkontrolujte, zda následující příkazy vrací numerické hodnoty (čili, že mód návratových hodnot je `numeric`):"
   ]
  },
  {
   "cell_type": "code",
   "execution_count": 1,
   "metadata": {},
   "outputs": [
    {
     "name": "stdout",
     "output_type": "stream",
     "text": [
      "[1] 5\n",
      "[1] \"5\"\n"
     ]
    },
    {
     "data": {
      "text/html": [
       "25"
      ],
      "text/latex": [
       "25"
      ],
      "text/markdown": [
       "25"
      ],
      "text/plain": [
       "[1] 25"
      ]
     },
     "metadata": {},
     "output_type": "display_data"
    },
    {
     "data": {
      "text/html": [
       "TRUE"
      ],
      "text/latex": [
       "TRUE"
      ],
      "text/markdown": [
       "TRUE"
      ],
      "text/plain": [
       "[1] TRUE"
      ]
     },
     "metadata": {},
     "output_type": "display_data"
    }
   ],
   "source": [
    "print(5)\n",
    "print(\"5\")\n",
    "5 * 5\n",
    "'numeric' > 10"
   ]
  },
  {
   "cell_type": "code",
   "execution_count": null,
   "metadata": {},
   "outputs": [],
   "source": []
  },
  {
   "cell_type": "markdown",
   "metadata": {},
   "source": [
    "## Převod\n",
    "\n",
    "Převeďte výsledky všech výrazů výše, které nevrací numerickou hodnotu, na numerické a ověřte si správnost převodu."
   ]
  },
  {
   "cell_type": "code",
   "execution_count": null,
   "metadata": {},
   "outputs": [],
   "source": []
  },
  {
   "cell_type": "markdown",
   "metadata": {},
   "source": [
    "# Konjunkce a Disjunkce\n",
    "\n",
    "Pomocí logických proměnných zreprodukujte hodnoty v tabulce konjunkce, disjunkce nebo jiné. Možnosti [zde](https://cs.wikipedia.org/wiki/Tabulka_pravdivostn%C3%ADch_hodnot_z%C3%A1kladn%C3%ADch_slo%C5%BEen%C3%BDch_v%C3%BDrok%C5%AF#Konjunkce)."
   ]
  },
  {
   "cell_type": "code",
   "execution_count": null,
   "metadata": {},
   "outputs": [],
   "source": []
  },
  {
   "cell_type": "code",
   "execution_count": null,
   "metadata": {},
   "outputs": [],
   "source": []
  },
  {
   "cell_type": "code",
   "execution_count": null,
   "metadata": {},
   "outputs": [],
   "source": []
  }
 ],
 "metadata": {
  "kernelspec": {
   "display_name": "R",
   "language": "R",
   "name": "ir"
  },
  "language_info": {
   "codemirror_mode": "r",
   "file_extension": ".r",
   "mimetype": "text/x-r-source",
   "name": "R",
   "pygments_lexer": "r",
   "version": "3.3.2"
  }
 },
 "nbformat": 4,
 "nbformat_minor": 2
}
