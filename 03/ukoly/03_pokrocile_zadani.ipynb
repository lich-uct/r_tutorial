{
 "cells": [
  {
   "cell_type": "markdown",
   "metadata": {
    "toc": "true"
   },
   "source": [
    "<h1>Table of Contents<span class=\"tocSkip\"></span></h1>\n",
    "<div class=\"toc\"><ul class=\"toc-item\"><li><span><a href=\"#Průměr-a-suma\" data-toc-modified-id=\"Průměr-a-suma-1\"><span class=\"toc-item-num\">1&nbsp;&nbsp;</span>Průměr a suma</a></span></li><li><span><a href=\"#Do-dvojkové-soustavy-a-zpět\" data-toc-modified-id=\"Do-dvojkové-soustavy-a-zpět-2\"><span class=\"toc-item-num\">2&nbsp;&nbsp;</span>Do dvojkové soustavy a zpět</a></span></li><li><span><a href=\"#Šifra\" data-toc-modified-id=\"Šifra-3\"><span class=\"toc-item-num\">3&nbsp;&nbsp;</span>Šifra</a></span></li><li><span><a href=\"#Počítání-písmen\" data-toc-modified-id=\"Počítání-písmen-4\"><span class=\"toc-item-num\">4&nbsp;&nbsp;</span>Počítání písmen</a></span></li><li><span><a href=\"#Extrakce-slov\" data-toc-modified-id=\"Extrakce-slov-5\"><span class=\"toc-item-num\">5&nbsp;&nbsp;</span>Extrakce slov</a></span></li></ul></div>"
   ]
  },
  {
   "cell_type": "markdown",
   "metadata": {},
   "source": [
    "# Úkoly\n",
    "\n",
    "K vypracování těchto úkolů byste neměli potřebovat nic, co je mimo rozsah [třetí lekce tutoriálu](../03.ipynb)."
   ]
  },
  {
   "cell_type": "markdown",
   "metadata": {},
   "source": [
    "## Průměr a suma\n",
    "\n",
    "Nadefinujte funkce `průměr` a `suma`, které spočítají průměr a sumu prvků ve vektoru, který uživatel dodá pomocí jejího parametru. V přípdě nevhodného vstupu upozorněte uživatele na možnou chybu, popř. zvolte vhodnou návratovou hodnotu.\n",
    "\n",
    "Pozn.: Implementaci proveďte bez použití interních funkcí jako je `sum` nebo `mean`."
   ]
  },
  {
   "cell_type": "code",
   "execution_count": 3,
   "metadata": {},
   "outputs": [],
   "source": [
    "suma <- function(vektor) {\n",
    "    # doplňte\n",
    "}\n",
    "\n",
    "průměr <- function(vektor) {\n",
    "    # doplňte\n",
    "}"
   ]
  },
  {
   "cell_type": "code",
   "execution_count": 2,
   "metadata": {},
   "outputs": [
    {
     "data": {
      "text/html": [
       "50"
      ],
      "text/latex": [
       "50"
      ],
      "text/markdown": [
       "50"
      ],
      "text/plain": [
       "[1] 50"
      ]
     },
     "metadata": {},
     "output_type": "display_data"
    },
    {
     "data": {
      "text/html": [
       "5"
      ],
      "text/latex": [
       "5"
      ],
      "text/markdown": [
       "5"
      ],
      "text/plain": [
       "[1] 5"
      ]
     },
     "metadata": {},
     "output_type": "display_data"
    }
   ],
   "source": [
    "suma(rep(5, 10))\n",
    "průměr(rep(5, 10))"
   ]
  },
  {
   "cell_type": "markdown",
   "metadata": {},
   "source": [
    "## Do dvojkové soustavy a zpět\n",
    "\n",
    "Vytvořte funkci `to_bin`, která převede vstupní číselné hodnoty (reprezentované jako vektor) na vektor textových řetězců reprezentující tato čísla ve dvojkové soustavě. Dále pak vytvořte funkci `to_dec`, která výstup funkce `to_bin` převede zpět na původní vektor čísel v desítkové soustavě."
   ]
  },
  {
   "cell_type": "code",
   "execution_count": 4,
   "metadata": {},
   "outputs": [],
   "source": [
    "to_bin <- function(vektor) {\n",
    "    # doplňte\n",
    "}\n",
    "\n",
    "to_dec <- function(vektor) {\n",
    "    # doplňte\n",
    "}"
   ]
  },
  {
   "cell_type": "code",
   "execution_count": 5,
   "metadata": {},
   "outputs": [
    {
     "data": {
      "text/html": [
       "<ol class=list-inline>\n",
       "\t<li>'10'</li>\n",
       "\t<li>'1000000'</li>\n",
       "\t<li>'1110110'</li>\n",
       "</ol>\n"
      ],
      "text/latex": [
       "\\begin{enumerate*}\n",
       "\\item '10'\n",
       "\\item '1000000'\n",
       "\\item '1110110'\n",
       "\\end{enumerate*}\n"
      ],
      "text/markdown": [
       "1. '10'\n",
       "2. '1000000'\n",
       "3. '1110110'\n",
       "\n",
       "\n"
      ],
      "text/plain": [
       "[1] \"10\"      \"1000000\" \"1110110\""
      ]
     },
     "metadata": {},
     "output_type": "display_data"
    },
    {
     "data": {
      "text/html": [
       "<ol class=list-inline>\n",
       "\t<li>2</li>\n",
       "\t<li>64</li>\n",
       "\t<li>118</li>\n",
       "</ol>\n"
      ],
      "text/latex": [
       "\\begin{enumerate*}\n",
       "\\item 2\n",
       "\\item 64\n",
       "\\item 118\n",
       "\\end{enumerate*}\n"
      ],
      "text/markdown": [
       "1. 2\n",
       "2. 64\n",
       "3. 118\n",
       "\n",
       "\n"
      ],
      "text/plain": [
       "[1]   2  64 118"
      ]
     },
     "metadata": {},
     "output_type": "display_data"
    }
   ],
   "source": [
    "to_bin(c(2, 64, 118))\n",
    "to_dec(to_bin(c(2, 64, 118)))"
   ]
  },
  {
   "cell_type": "markdown",
   "metadata": {},
   "source": [
    "## Šifra\n",
    "\n",
    "Napište dvě funkce (šifrovací a dešifrovací), které budou založené na primitivním klíči, který šifruje písmena podle jejich pořadí v abecedě (velká a malá písmena se nerozlišují). Předpokládejte, že šifrovaný text vždy sestává pouze z anglické abecedy. Mezery mezi slovy a interpunkční znaménka se šifrují podle následujícího klíče:\n",
    "\n",
    " - ` ` -> 27\n",
    " - `.` -> 28\n",
    " - `!` -> 29\n",
    " - `?` -> 30\n",
    " - `,` -> 31\n",
    " \n",
    "Vstupem šifrovací funkce je text samotný a vstupem dešifrovací potom vektor čísel.\n",
    " \n",
    "Těla funkcí:"
   ]
  },
  {
   "cell_type": "code",
   "execution_count": 6,
   "metadata": {
    "collapsed": true
   },
   "outputs": [],
   "source": [
    "encrypt <- function(text) {\n",
    "    # doplňte\n",
    "}\n",
    "\n",
    "decrypt <- function(cypher) {\n",
    "    # doplňte\n",
    "}"
   ]
  },
  {
   "cell_type": "markdown",
   "metadata": {},
   "source": [
    "Testovací kód:"
   ]
  },
  {
   "cell_type": "code",
   "execution_count": 8,
   "metadata": {
    "scrolled": true
   },
   "outputs": [
    {
     "data": {
      "text/html": [
       "<ol class=list-inline>\n",
       "\t<li>8</li>\n",
       "\t<li>9</li>\n",
       "\t<li>29</li>\n",
       "\t<li>27</li>\n",
       "\t<li>9</li>\n",
       "\t<li>27</li>\n",
       "\t<li>8</li>\n",
       "\t<li>15</li>\n",
       "\t<li>16</li>\n",
       "\t<li>5</li>\n",
       "\t<li>27</li>\n",
       "\t<li>14</li>\n",
       "\t<li>15</li>\n",
       "\t<li>15</li>\n",
       "\t<li>14</li>\n",
       "\t<li>5</li>\n",
       "\t<li>27</li>\n",
       "\t<li>9</li>\n",
       "\t<li>19</li>\n",
       "\t<li>27</li>\n",
       "\t<li>18</li>\n",
       "\t<li>5</li>\n",
       "\t<li>1</li>\n",
       "\t<li>4</li>\n",
       "\t<li>9</li>\n",
       "\t<li>14</li>\n",
       "\t<li>7</li>\n",
       "\t<li>27</li>\n",
       "\t<li>20</li>\n",
       "\t<li>8</li>\n",
       "\t<li>9</li>\n",
       "\t<li>19</li>\n",
       "\t<li>28</li>\n",
       "</ol>\n"
      ],
      "text/latex": [
       "\\begin{enumerate*}\n",
       "\\item 8\n",
       "\\item 9\n",
       "\\item 29\n",
       "\\item 27\n",
       "\\item 9\n",
       "\\item 27\n",
       "\\item 8\n",
       "\\item 15\n",
       "\\item 16\n",
       "\\item 5\n",
       "\\item 27\n",
       "\\item 14\n",
       "\\item 15\n",
       "\\item 15\n",
       "\\item 14\n",
       "\\item 5\n",
       "\\item 27\n",
       "\\item 9\n",
       "\\item 19\n",
       "\\item 27\n",
       "\\item 18\n",
       "\\item 5\n",
       "\\item 1\n",
       "\\item 4\n",
       "\\item 9\n",
       "\\item 14\n",
       "\\item 7\n",
       "\\item 27\n",
       "\\item 20\n",
       "\\item 8\n",
       "\\item 9\n",
       "\\item 19\n",
       "\\item 28\n",
       "\\end{enumerate*}\n"
      ],
      "text/markdown": [
       "1. 8\n",
       "2. 9\n",
       "3. 29\n",
       "4. 27\n",
       "5. 9\n",
       "6. 27\n",
       "7. 8\n",
       "8. 15\n",
       "9. 16\n",
       "10. 5\n",
       "11. 27\n",
       "12. 14\n",
       "13. 15\n",
       "14. 15\n",
       "15. 14\n",
       "16. 5\n",
       "17. 27\n",
       "18. 9\n",
       "19. 19\n",
       "20. 27\n",
       "21. 18\n",
       "22. 5\n",
       "23. 1\n",
       "24. 4\n",
       "25. 9\n",
       "26. 14\n",
       "27. 7\n",
       "28. 27\n",
       "29. 20\n",
       "30. 8\n",
       "31. 9\n",
       "32. 19\n",
       "33. 28\n",
       "\n",
       "\n"
      ],
      "text/plain": [
       " [1]  8  9 29 27  9 27  8 15 16  5 27 14 15 15 14  5 27  9 19 27 18  5  1  4  9\n",
       "[26] 14  7 27 20  8  9 19 28"
      ]
     },
     "metadata": {},
     "output_type": "display_data"
    },
    {
     "data": {
      "text/html": [
       "'hi! i hope noone is reading this.'"
      ],
      "text/latex": [
       "'hi! i hope noone is reading this.'"
      ],
      "text/markdown": [
       "'hi! i hope noone is reading this.'"
      ],
      "text/plain": [
       "[1] \"hi! i hope noone is reading this.\""
      ]
     },
     "metadata": {},
     "output_type": "display_data"
    }
   ],
   "source": [
    "encrypted_text <- encrypt(\n",
    "    \"Hi! I hope no one is reading this.\"\n",
    ")\n",
    "encrypted_text\n",
    "decrypt(encrypted_text)"
   ]
  },
  {
   "cell_type": "markdown",
   "metadata": {},
   "source": [
    "## Počítání písmen\n",
    "\n",
    "Vytvořte funkci, která vytiskne všechna písmena z anglické abecedy (bez ohledu na velikost) vyskytující se v daném textu a počet jejich výskytů.\n",
    "\n",
    "Tělo funkce:"
   ]
  },
  {
   "cell_type": "code",
   "execution_count": 1,
   "metadata": {
    "collapsed": true
   },
   "outputs": [],
   "source": [
    "text_stats <- function(text) {\n",
    "    # doplňte\n",
    "}"
   ]
  },
  {
   "cell_type": "markdown",
   "metadata": {},
   "source": [
    "Testovací kód:"
   ]
  },
  {
   "cell_type": "code",
   "execution_count": 3,
   "metadata": {
    "scrolled": true
   },
   "outputs": [
    {
     "name": "stdout",
     "output_type": "stream",
     "text": [
      " [1] \"a\" \"d\" \"e\" \"g\" \"h\" \"i\" \"n\" \"o\" \"p\" \"r\" \"s\" \"t\"\n",
      " [1] 1 1 3 1 3 5 3 3 1 1 2 1\n"
     ]
    }
   ],
   "source": [
    "text_stats(\"Hi! I hope no one is reading this.\")"
   ]
  },
  {
   "cell_type": "markdown",
   "metadata": {},
   "source": [
    "## Extrakce slov\n",
    "\n",
    "\n",
    "Vytvořte a otestujte funkci, která vyjme všechna slova z daného textového řetězce a vrátí je uživateli jako vektor. Vrácená slova musí být bez interpunkčních znamének a všechna písmena musí být malá. Slova jsou ve stejném pořadí jako v textu. Funkce bude mít též argument `unique`, kterým bude možno specifikovat, zda může výsledek obsahovat duplicity nebo ne. V případě použití argumentu `unique` funkce vrátí slova v abecedním pořadí.\n",
    "\n",
    "Tělo funkce:"
   ]
  },
  {
   "cell_type": "code",
   "execution_count": 9,
   "metadata": {
    "collapsed": true
   },
   "outputs": [],
   "source": [
    "extract_words <- function(text, unique = F) {\n",
    "    # doplňte\n",
    "}"
   ]
  },
  {
   "cell_type": "markdown",
   "metadata": {},
   "source": [
    "Testovací kód:"
   ]
  },
  {
   "cell_type": "code",
   "execution_count": 11,
   "metadata": {},
   "outputs": [
    {
     "data": {
      "text/html": [
       "<ol class=list-inline>\n",
       "\t<li>'ahoj'</li>\n",
       "\t<li>'jak'</li>\n",
       "\t<li>'se'</li>\n",
       "\t<li>'máš'</li>\n",
       "</ol>\n"
      ],
      "text/latex": [
       "\\begin{enumerate*}\n",
       "\\item 'ahoj'\n",
       "\\item 'jak'\n",
       "\\item 'se'\n",
       "\\item 'máš'\n",
       "\\end{enumerate*}\n"
      ],
      "text/markdown": [
       "1. 'ahoj'\n",
       "2. 'jak'\n",
       "3. 'se'\n",
       "4. 'máš'\n",
       "\n",
       "\n"
      ],
      "text/plain": [
       "[1] \"ahoj\" \"jak\"  \"se\"   \"máš\" "
      ]
     },
     "metadata": {},
     "output_type": "display_data"
    },
    {
     "data": {
      "text/html": [
       "<ol class=list-inline>\n",
       "\t<li>'ahoj'</li>\n",
       "\t<li>'jak'</li>\n",
       "\t<li>'se'</li>\n",
       "\t<li>'máš'</li>\n",
       "\t<li>'tahle'</li>\n",
       "\t<li>'funkce'</li>\n",
       "\t<li>'se'</li>\n",
       "\t<li>'ti'</li>\n",
       "\t<li>'fakt'</li>\n",
       "\t<li>'povedla'</li>\n",
       "</ol>\n"
      ],
      "text/latex": [
       "\\begin{enumerate*}\n",
       "\\item 'ahoj'\n",
       "\\item 'jak'\n",
       "\\item 'se'\n",
       "\\item 'máš'\n",
       "\\item 'tahle'\n",
       "\\item 'funkce'\n",
       "\\item 'se'\n",
       "\\item 'ti'\n",
       "\\item 'fakt'\n",
       "\\item 'povedla'\n",
       "\\end{enumerate*}\n"
      ],
      "text/markdown": [
       "1. 'ahoj'\n",
       "2. 'jak'\n",
       "3. 'se'\n",
       "4. 'máš'\n",
       "5. 'tahle'\n",
       "6. 'funkce'\n",
       "7. 'se'\n",
       "8. 'ti'\n",
       "9. 'fakt'\n",
       "10. 'povedla'\n",
       "\n",
       "\n"
      ],
      "text/plain": [
       " [1] \"ahoj\"    \"jak\"     \"se\"      \"máš\"     \"tahle\"   \"funkce\"  \"se\"     \n",
       " [8] \"ti\"      \"fakt\"    \"povedla\""
      ]
     },
     "metadata": {},
     "output_type": "display_data"
    },
    {
     "data": {
      "text/html": [
       "<ol class=list-inline>\n",
       "\t<li>'ahoj'</li>\n",
       "\t<li>'jak'</li>\n",
       "\t<li>'se'</li>\n",
       "\t<li>'máš'</li>\n",
       "\t<li>'já'</li>\n",
       "\t<li>'se'</li>\n",
       "\t<li>'mám'</li>\n",
       "\t<li>'dobře'</li>\n",
       "\t<li>'tak'</li>\n",
       "\t<li>'zase'</li>\n",
       "\t<li>'někdy'</li>\n",
       "\t<li>'ahoj'</li>\n",
       "</ol>\n"
      ],
      "text/latex": [
       "\\begin{enumerate*}\n",
       "\\item 'ahoj'\n",
       "\\item 'jak'\n",
       "\\item 'se'\n",
       "\\item 'máš'\n",
       "\\item 'já'\n",
       "\\item 'se'\n",
       "\\item 'mám'\n",
       "\\item 'dobře'\n",
       "\\item 'tak'\n",
       "\\item 'zase'\n",
       "\\item 'někdy'\n",
       "\\item 'ahoj'\n",
       "\\end{enumerate*}\n"
      ],
      "text/markdown": [
       "1. 'ahoj'\n",
       "2. 'jak'\n",
       "3. 'se'\n",
       "4. 'máš'\n",
       "5. 'já'\n",
       "6. 'se'\n",
       "7. 'mám'\n",
       "8. 'dobře'\n",
       "9. 'tak'\n",
       "10. 'zase'\n",
       "11. 'někdy'\n",
       "12. 'ahoj'\n",
       "\n",
       "\n"
      ],
      "text/plain": [
       " [1] \"ahoj\"  \"jak\"   \"se\"    \"máš\"   \"já\"    \"se\"    \"mám\"   \"dobře\" \"tak\"  \n",
       "[10] \"zase\"  \"někdy\" \"ahoj\" "
      ]
     },
     "metadata": {},
     "output_type": "display_data"
    },
    {
     "data": {
      "text/html": [
       "<ol class=list-inline>\n",
       "\t<li>'ahoj'</li>\n",
       "\t<li>'dobře'</li>\n",
       "\t<li>'já'</li>\n",
       "\t<li>'jak'</li>\n",
       "\t<li>'mám'</li>\n",
       "\t<li>'máš'</li>\n",
       "\t<li>'někdy'</li>\n",
       "\t<li>'se'</li>\n",
       "\t<li>'tak'</li>\n",
       "\t<li>'zase'</li>\n",
       "</ol>\n"
      ],
      "text/latex": [
       "\\begin{enumerate*}\n",
       "\\item 'ahoj'\n",
       "\\item 'dobře'\n",
       "\\item 'já'\n",
       "\\item 'jak'\n",
       "\\item 'mám'\n",
       "\\item 'máš'\n",
       "\\item 'někdy'\n",
       "\\item 'se'\n",
       "\\item 'tak'\n",
       "\\item 'zase'\n",
       "\\end{enumerate*}\n"
      ],
      "text/markdown": [
       "1. 'ahoj'\n",
       "2. 'dobře'\n",
       "3. 'já'\n",
       "4. 'jak'\n",
       "5. 'mám'\n",
       "6. 'máš'\n",
       "7. 'někdy'\n",
       "8. 'se'\n",
       "9. 'tak'\n",
       "10. 'zase'\n",
       "\n",
       "\n"
      ],
      "text/plain": [
       " [1] \"ahoj\"  \"dobře\" \"já\"    \"jak\"   \"mám\"   \"máš\"   \"někdy\" \"se\"    \"tak\"  \n",
       "[10] \"zase\" "
      ]
     },
     "metadata": {},
     "output_type": "display_data"
    }
   ],
   "source": [
    "extract_words(\"Ahoj, jak se máš?\")\n",
    "extract_words(\"Ahoj, jak se máš? Tahle funkce se ti fakt povedla!\")\n",
    "extract_words(\"Ahoj, jak se máš? Já se mám dobře. Tak zase někdy. Ahoj.\")\n",
    "extract_words(\"Ahoj, jak se máš? Já se mám dobře. Tak zase někdy. Ahoj.\", unique = T)"
   ]
  },
  {
   "cell_type": "code",
   "execution_count": null,
   "metadata": {
    "collapsed": true
   },
   "outputs": [],
   "source": []
  }
 ],
 "metadata": {
  "kernelspec": {
   "display_name": "R",
   "language": "R",
   "name": "ir"
  },
  "language_info": {
   "codemirror_mode": "r",
   "file_extension": ".r",
   "mimetype": "text/x-r-source",
   "name": "R",
   "pygments_lexer": "r",
   "version": "3.3.2"
  },
  "toc": {
   "base_numbering": 1,
   "nav_menu": {},
   "number_sections": true,
   "sideBar": true,
   "skip_h1_title": true,
   "title_cell": "Table of Contents",
   "title_sidebar": "Contents",
   "toc_cell": true,
   "toc_position": {},
   "toc_section_display": "block",
   "toc_window_display": false
  }
 },
 "nbformat": 4,
 "nbformat_minor": 2
}
