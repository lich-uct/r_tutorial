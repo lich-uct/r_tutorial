{
 "cells": [
  {
   "cell_type": "markdown",
   "metadata": {
    "toc": true
   },
   "source": [
    "<h1>Table of Contents<span class=\"tocSkip\"></span></h1>\n",
    "<div class=\"toc\"><ul class=\"toc-item\"><li><span><a href=\"#Úhlopříčka-čtverce\" data-toc-modified-id=\"Úhlopříčka-čtverce-1\"><span class=\"toc-item-num\">1&nbsp;&nbsp;</span>Úhlopříčka čtverce</a></span></li><li><span><a href=\"#Úhlopříčka-krychle\" data-toc-modified-id=\"Úhlopříčka-krychle-2\"><span class=\"toc-item-num\">2&nbsp;&nbsp;</span>Úhlopříčka krychle</a></span></li><li><span><a href=\"#Kontrola\" data-toc-modified-id=\"Kontrola-3\"><span class=\"toc-item-num\">3&nbsp;&nbsp;</span>Kontrola</a></span></li><li><span><a href=\"#Převod\" data-toc-modified-id=\"Převod-4\"><span class=\"toc-item-num\">4&nbsp;&nbsp;</span>Převod</a></span></li><li><span><a href=\"#Funkce-pro-výpočet-úhlopříčky-čtverce-a-krychle\" data-toc-modified-id=\"Funkce-pro-výpočet-úhlopříčky-čtverce-a-krychle-5\"><span class=\"toc-item-num\">5&nbsp;&nbsp;</span>Funkce pro výpočet úhlopříčky čtverce a krychle</a></span></li></ul></div>"
   ]
  },
  {
   "cell_type": "markdown",
   "metadata": {},
   "source": [
    "# Základní úlohy\n",
    "\n",
    "Zde je několik úloh na procvičení základních stavebních prvků jazyka R. Především se jedná o přiřazování do proměnných a operace s různými datovými typy.\n",
    "\n",
    "## Úhlopříčka čtverce\n",
    "\n",
    "Vypočťete postupně délky úhlopříček čtverců se stranami o délce 5, 15 a 30 cm. Výsledek výpočtu vždy uložte do proměnné `u` a její hodnotu vytiskněte na konzoli."
   ]
  },
  {
   "cell_type": "code",
   "execution_count": 1,
   "metadata": {},
   "outputs": [],
   "source": [
    "a <- 30\n",
    "u <- a * 2 ** (1/2)\n",
    "print(u)"
   ]
  },
  {
   "cell_type": "markdown",
   "metadata": {},
   "source": [
    "## Úhlopříčka krychle\n",
    "\n",
    "Upravte předchozí kód tak, aby proměnná `u` obsahovala délku tělesové úhlopříčky příslušné krychle."
   ]
  },
  {
   "cell_type": "code",
   "execution_count": 2,
   "metadata": {},
   "outputs": [],
   "source": [
    "a <- 30\n",
    "u <- a * 3 ** (1/2)\n",
    "print(u)"
   ]
  },
  {
   "cell_type": "markdown",
   "metadata": {},
   "source": [
    "## Kontrola\n",
    "\n",
    "Zkontrolujte, zda následující příkazy vrací numerické hodnoty (čili, že mód návratových hodnot je `numeric`):"
   ]
  },
  {
   "cell_type": "code",
   "execution_count": 3,
   "metadata": {},
   "outputs": [
    {
     "data": {
      "text/html": [
       "TRUE"
      ],
      "text/latex": [
       "TRUE"
      ],
      "text/markdown": [
       "TRUE"
      ],
      "text/plain": [
       "[1] TRUE"
      ]
     },
     "metadata": {},
     "output_type": "display_data"
    }
   ],
   "source": [
    "print(5)\n",
    "print(\"5\")\n",
    "5 * 5\n",
    "'numeric' > 10"
   ]
  },
  {
   "cell_type": "code",
   "execution_count": 4,
   "metadata": {},
   "outputs": [
    {
     "name": "stdout",
     "output_type": "stream",
     "text": [
      "[1] 5\n"
     ]
    },
    {
     "data": {
      "text/html": [
       "TRUE"
      ],
      "text/latex": [
       "TRUE"
      ],
      "text/markdown": [
       "TRUE"
      ],
      "text/plain": [
       "[1] TRUE"
      ]
     },
     "metadata": {},
     "output_type": "display_data"
    },
    {
     "name": "stdout",
     "output_type": "stream",
     "text": [
      "[1] \"5\"\n"
     ]
    },
    {
     "data": {
      "text/html": [
       "FALSE"
      ],
      "text/latex": [
       "FALSE"
      ],
      "text/markdown": [
       "FALSE"
      ],
      "text/plain": [
       "[1] FALSE"
      ]
     },
     "metadata": {},
     "output_type": "display_data"
    },
    {
     "data": {
      "text/html": [
       "TRUE"
      ],
      "text/latex": [
       "TRUE"
      ],
      "text/markdown": [
       "TRUE"
      ],
      "text/plain": [
       "[1] TRUE"
      ]
     },
     "metadata": {},
     "output_type": "display_data"
    },
    {
     "data": {
      "text/html": [
       "FALSE"
      ],
      "text/latex": [
       "FALSE"
      ],
      "text/markdown": [
       "FALSE"
      ],
      "text/plain": [
       "[1] FALSE"
      ]
     },
     "metadata": {},
     "output_type": "display_data"
    }
   ],
   "source": [
    "mode(print(5)) == 'numeric' # lze použít i funkci is.numeric\n",
    "mode(print(\"5\")) == 'numeric'\n",
    "mode(5 * 5) == 'numeric'\n",
    "mode('x' > 10) == 'numeric'"
   ]
  },
  {
   "cell_type": "markdown",
   "metadata": {},
   "source": [
    "## Převod\n",
    "\n",
    "Převeďte výsledky všech výrazů výše, které nevrací numerickou hodnotu, na numerické a ověřte si správnost převodu."
   ]
  },
  {
   "cell_type": "code",
   "execution_count": 5,
   "metadata": {},
   "outputs": [
    {
     "name": "stdout",
     "output_type": "stream",
     "text": [
      "[1] \"5\"\n"
     ]
    },
    {
     "data": {
      "text/html": [
       "TRUE"
      ],
      "text/latex": [
       "TRUE"
      ],
      "text/markdown": [
       "TRUE"
      ],
      "text/plain": [
       "[1] TRUE"
      ]
     },
     "metadata": {},
     "output_type": "display_data"
    },
    {
     "data": {
      "text/html": [
       "TRUE"
      ],
      "text/latex": [
       "TRUE"
      ],
      "text/markdown": [
       "TRUE"
      ],
      "text/plain": [
       "[1] TRUE"
      ]
     },
     "metadata": {},
     "output_type": "display_data"
    }
   ],
   "source": [
    "is.numeric(as.numeric(print(\"5\")))\n",
    "is.numeric(as.numeric('x' > 10))"
   ]
  },
  {
   "cell_type": "markdown",
   "metadata": {},
   "source": [
    "# Konjunkce a Disjunkce\n",
    "\n",
    "Pomocí logických proměnných zreprodukujte hodnoty v tabulce konjunkce, disjunkce nebo jiné. Možnosti [zde](https://cs.wikipedia.org/wiki/Tabulka_pravdivostn%C3%ADch_hodnot_z%C3%A1kladn%C3%ADch_slo%C5%BEen%C3%BDch_v%C3%BDrok%C5%AF#Konjunkce)."
   ]
  },
  {
   "cell_type": "code",
   "execution_count": 6,
   "metadata": {},
   "outputs": [
    {
     "name": "stdout",
     "output_type": "stream",
     "text": [
      "[1] TRUE\n",
      "[1] FALSE\n",
      "[1] FALSE\n",
      "[1] FALSE\n"
     ]
    }
   ],
   "source": [
    "# konjunkce\n",
    "\n",
    "A <- 1\n",
    "B <- 1\n",
    "print(A && B)\n",
    "\n",
    "A <- 1\n",
    "B <- 0\n",
    "print(A && B)\n",
    "\n",
    "A <- 0\n",
    "B <- 1\n",
    "print(A && B)\n",
    "\n",
    "A <- 0\n",
    "B <- 0\n",
    "print(A && B)"
   ]
  },
  {
   "cell_type": "code",
   "execution_count": 7,
   "metadata": {},
   "outputs": [
    {
     "data": {
      "text/html": [
       "<table>\n",
       "<thead><tr><th scope=col>A</th><th scope=col>B</th><th scope=col>A and B</th></tr></thead>\n",
       "<tbody>\n",
       "\t<tr><td>1    </td><td>1    </td><td> TRUE</td></tr>\n",
       "\t<tr><td>1    </td><td>0    </td><td>FALSE</td></tr>\n",
       "\t<tr><td>0    </td><td>1    </td><td>FALSE</td></tr>\n",
       "\t<tr><td>0    </td><td>0    </td><td>FALSE</td></tr>\n",
       "</tbody>\n",
       "</table>\n"
      ],
      "text/latex": [
       "\\begin{tabular}{r|lll}\n",
       " A & B & A and B\\\\\n",
       "\\hline\n",
       "\t 1     & 1     &  TRUE\\\\\n",
       "\t 1     & 0     & FALSE\\\\\n",
       "\t 0     & 1     & FALSE\\\\\n",
       "\t 0     & 0     & FALSE\\\\\n",
       "\\end{tabular}\n"
      ],
      "text/markdown": [
       "\n",
       "A | B | A and B | \n",
       "|---|---|---|---|\n",
       "| 1     | 1     |  TRUE | \n",
       "| 1     | 0     | FALSE | \n",
       "| 0     | 1     | FALSE | \n",
       "| 0     | 0     | FALSE | \n",
       "\n",
       "\n"
      ],
      "text/plain": [
       "  A B A and B\n",
       "1 1 1  TRUE  \n",
       "2 1 0 FALSE  \n",
       "3 0 1 FALSE  \n",
       "4 0 0 FALSE  "
      ]
     },
     "metadata": {},
     "output_type": "display_data"
    }
   ],
   "source": [
    "df <- data.frame(A=c(1,1,0,0), B=c(1,0,1,0))\n",
    "df[\"A and B\"] <- df$A & df$B\n",
    "df"
   ]
  },
  {
   "cell_type": "code",
   "execution_count": 8,
   "metadata": {},
   "outputs": [
    {
     "data": {
      "text/html": [
       "<table>\n",
       "<thead><tr><th scope=col>A</th><th scope=col>B</th><th scope=col>A or B</th></tr></thead>\n",
       "<tbody>\n",
       "\t<tr><td>1    </td><td>1    </td><td> TRUE</td></tr>\n",
       "\t<tr><td>1    </td><td>0    </td><td> TRUE</td></tr>\n",
       "\t<tr><td>0    </td><td>1    </td><td> TRUE</td></tr>\n",
       "\t<tr><td>0    </td><td>0    </td><td>FALSE</td></tr>\n",
       "</tbody>\n",
       "</table>\n"
      ],
      "text/latex": [
       "\\begin{tabular}{r|lll}\n",
       " A & B & A or B\\\\\n",
       "\\hline\n",
       "\t 1     & 1     &  TRUE\\\\\n",
       "\t 1     & 0     &  TRUE\\\\\n",
       "\t 0     & 1     &  TRUE\\\\\n",
       "\t 0     & 0     & FALSE\\\\\n",
       "\\end{tabular}\n"
      ],
      "text/markdown": [
       "\n",
       "A | B | A or B | \n",
       "|---|---|---|---|\n",
       "| 1     | 1     |  TRUE | \n",
       "| 1     | 0     |  TRUE | \n",
       "| 0     | 1     |  TRUE | \n",
       "| 0     | 0     | FALSE | \n",
       "\n",
       "\n"
      ],
      "text/plain": [
       "  A B A or B\n",
       "1 1 1  TRUE \n",
       "2 1 0  TRUE \n",
       "3 0 1  TRUE \n",
       "4 0 0 FALSE "
      ]
     },
     "metadata": {},
     "output_type": "display_data"
    }
   ],
   "source": [
    "df <- data.frame(A=c(1,1,0,0), B=c(1,0,1,0))\n",
    "df[\"A or B\"] <- df$A | df$B\n",
    "df"
   ]
  },
  {
   "cell_type": "markdown",
   "metadata": {},
   "source": [
    "## Funkce pro výpočet úhlopříčky čtverce a krychle\n",
    "\n",
    "Vytvořte funkce pro výpočet úhlopříčky čtverce a krychle. Aplikujte je při řešení první a druhé úlohy v tomto notebooku."
   ]
  },
  {
   "cell_type": "code",
   "execution_count": 9,
   "metadata": {},
   "outputs": [
    {
     "data": {
      "text/html": [
       "7.07106781186548"
      ],
      "text/latex": [
       "7.07106781186548"
      ],
      "text/markdown": [
       "7.07106781186548"
      ],
      "text/plain": [
       "[1] 7.071068"
      ]
     },
     "metadata": {},
     "output_type": "display_data"
    },
    {
     "data": {
      "text/html": [
       "21.2132034355964"
      ],
      "text/latex": [
       "21.2132034355964"
      ],
      "text/markdown": [
       "21.2132034355964"
      ],
      "text/plain": [
       "[1] 21.2132"
      ]
     },
     "metadata": {},
     "output_type": "display_data"
    },
    {
     "data": {
      "text/html": [
       "42.4264068711929"
      ],
      "text/latex": [
       "42.4264068711929"
      ],
      "text/markdown": [
       "42.4264068711929"
      ],
      "text/plain": [
       "[1] 42.42641"
      ]
     },
     "metadata": {},
     "output_type": "display_data"
    },
    {
     "data": {
      "text/html": [
       "8.66025403784439"
      ],
      "text/latex": [
       "8.66025403784439"
      ],
      "text/markdown": [
       "8.66025403784439"
      ],
      "text/plain": [
       "[1] 8.660254"
      ]
     },
     "metadata": {},
     "output_type": "display_data"
    },
    {
     "data": {
      "text/html": [
       "25.9807621135332"
      ],
      "text/latex": [
       "25.9807621135332"
      ],
      "text/markdown": [
       "25.9807621135332"
      ],
      "text/plain": [
       "[1] 25.98076"
      ]
     },
     "metadata": {},
     "output_type": "display_data"
    },
    {
     "data": {
      "text/html": [
       "51.9615242270663"
      ],
      "text/latex": [
       "51.9615242270663"
      ],
      "text/markdown": [
       "51.9615242270663"
      ],
      "text/plain": [
       "[1] 51.96152"
      ]
     },
     "metadata": {},
     "output_type": "display_data"
    }
   ],
   "source": [
    "u_ctverec <- function(a) {\n",
    "    a * 2 ** (1/2)\n",
    "}\n",
    "\n",
    "u_krychle <- function(a) {\n",
    "    a * 3 ** (1/2)\n",
    "}\n",
    "\n",
    "u_ctverec(5)\n",
    "u_ctverec(15)\n",
    "u_ctverec(30)\n",
    "u_krychle(5)\n",
    "u_krychle(15)\n",
    "u_krychle(30)"
   ]
  },
  {
   "cell_type": "code",
   "execution_count": 10,
   "metadata": {},
   "outputs": [
    {
     "data": {
      "text/html": [
       "<ol class=list-inline>\n",
       "\t<li>7.07106781186548</li>\n",
       "\t<li>21.2132034355964</li>\n",
       "\t<li>42.4264068711929</li>\n",
       "</ol>\n"
      ],
      "text/latex": [
       "\\begin{enumerate*}\n",
       "\\item 7.07106781186548\n",
       "\\item 21.2132034355964\n",
       "\\item 42.4264068711929\n",
       "\\end{enumerate*}\n"
      ],
      "text/markdown": [
       "1. 7.07106781186548\n",
       "2. 21.2132034355964\n",
       "3. 42.4264068711929\n",
       "\n",
       "\n"
      ],
      "text/plain": [
       "[1]  7.071068 21.213203 42.426407"
      ]
     },
     "metadata": {},
     "output_type": "display_data"
    }
   ],
   "source": [
    "sapply(c(5, 15, 30), u_ctverec)"
   ]
  },
  {
   "cell_type": "code",
   "execution_count": 11,
   "metadata": {},
   "outputs": [
    {
     "data": {
      "text/html": [
       "<ol class=list-inline>\n",
       "\t<li>8.66025403784439</li>\n",
       "\t<li>25.9807621135332</li>\n",
       "\t<li>51.9615242270663</li>\n",
       "</ol>\n"
      ],
      "text/latex": [
       "\\begin{enumerate*}\n",
       "\\item 8.66025403784439\n",
       "\\item 25.9807621135332\n",
       "\\item 51.9615242270663\n",
       "\\end{enumerate*}\n"
      ],
      "text/markdown": [
       "1. 8.66025403784439\n",
       "2. 25.9807621135332\n",
       "3. 51.9615242270663\n",
       "\n",
       "\n"
      ],
      "text/plain": [
       "[1]  8.660254 25.980762 51.961524"
      ]
     },
     "metadata": {},
     "output_type": "display_data"
    }
   ],
   "source": [
    "sapply(c(5, 15, 30), u_krychle)"
   ]
  },
  {
   "cell_type": "code",
   "execution_count": null,
   "metadata": {},
   "outputs": [],
   "source": []
  }
 ],
 "metadata": {
  "kernelspec": {
   "display_name": "R",
   "language": "R",
   "name": "ir"
  },
  "language_info": {
   "codemirror_mode": "r",
   "file_extension": ".r",
   "mimetype": "text/x-r-source",
   "name": "R",
   "pygments_lexer": "r",
   "version": "3.3.2"
  },
  "toc": {
   "base_numbering": 1,
   "nav_menu": {},
   "number_sections": true,
   "sideBar": true,
   "skip_h1_title": true,
   "title_cell": "Table of Contents",
   "title_sidebar": "Contents",
   "toc_cell": true,
   "toc_position": {},
   "toc_section_display": true,
   "toc_window_display": false
  }
 },
 "nbformat": 4,
 "nbformat_minor": 2
}
