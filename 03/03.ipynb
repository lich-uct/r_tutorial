{
 "cells": [
  {
   "cell_type": "markdown",
   "metadata": {
    "toc": "true"
   },
   "source": [
    " # Table of Contents\n",
    "<div class=\"toc\" style=\"margin-top: 1em;\"><ul class=\"toc-item\" id=\"toc-level0\"><li><span><a href=\"http://localhost:8888/notebooks/03/03.ipynb#Operátory\" data-toc-modified-id=\"Operátory-1\"><span class=\"toc-item-num\">1&nbsp;&nbsp;</span>Operátory</a></span></li><li><span><a href=\"http://localhost:8888/notebooks/03/03.ipynb#Proměnné\" data-toc-modified-id=\"Proměnné-2\"><span class=\"toc-item-num\">2&nbsp;&nbsp;</span>Proměnné</a></span></li><li><span><a href=\"http://localhost:8888/notebooks/03/03.ipynb#Datové-typy\" data-toc-modified-id=\"Datové-typy-3\"><span class=\"toc-item-num\">3&nbsp;&nbsp;</span>Datové typy</a></span><ul class=\"toc-item\"><li><span><a href=\"http://localhost:8888/notebooks/03/03.ipynb#Vektory\" data-toc-modified-id=\"Vektory-3.1\"><span class=\"toc-item-num\">3.1&nbsp;&nbsp;</span>Vektory</a></span><ul class=\"toc-item\"><li><span><a href=\"http://localhost:8888/notebooks/03/03.ipynb#Přistupování-k-položkám-vektoru\" data-toc-modified-id=\"Přistupování-k-položkám-vektoru-3.1.1\"><span class=\"toc-item-num\">3.1.1&nbsp;&nbsp;</span>Přistupování k položkám vektoru</a></span></li><li><span><a href=\"http://localhost:8888/notebooks/03/03.ipynb#Operace-s-vektory\" data-toc-modified-id=\"Operace-s-vektory-3.1.2\"><span class=\"toc-item-num\">3.1.2&nbsp;&nbsp;</span>Operace s vektory</a></span></li></ul></li></ul></li><li><span><a href=\"http://localhost:8888/notebooks/03/03.ipynb#Funkce\" data-toc-modified-id=\"Funkce-4\"><span class=\"toc-item-num\">4&nbsp;&nbsp;</span>Funkce</a></span><ul class=\"toc-item\"><li><span><a href=\"http://localhost:8888/notebooks/03/03.ipynb#Parametry-a-volání\" data-toc-modified-id=\"Parametry-a-volání-4.1\"><span class=\"toc-item-num\">4.1&nbsp;&nbsp;</span>Parametry a volání</a></span></li><li><span><a href=\"http://localhost:8888/notebooks/03/03.ipynb#Kontext\" data-toc-modified-id=\"Kontext-4.2\"><span class=\"toc-item-num\">4.2&nbsp;&nbsp;</span>Kontext</a></span></li></ul></li><li><span><a href=\"http://localhost:8888/notebooks/03/03.ipynb#Řídící-struktury\" data-toc-modified-id=\"Řídící-struktury-5\"><span class=\"toc-item-num\">5&nbsp;&nbsp;</span>Řídící struktury</a></span><ul class=\"toc-item\"><li><span><a href=\"http://localhost:8888/notebooks/03/03.ipynb#Větvení-programu-pomocí-if-a-else\" data-toc-modified-id=\"Větvení-programu-pomocí-if-a-else-5.1\"><span class=\"toc-item-num\">5.1&nbsp;&nbsp;</span>Větvení programu pomocí if a else</a></span></li><li><span><a href=\"http://localhost:8888/notebooks/03/03.ipynb#Cykly\" data-toc-modified-id=\"Cykly-5.2\"><span class=\"toc-item-num\">5.2&nbsp;&nbsp;</span>Cykly</a></span><ul class=\"toc-item\"><li><span><a href=\"http://localhost:8888/notebooks/03/03.ipynb#For\" data-toc-modified-id=\"For-5.2.1\"><span class=\"toc-item-num\">5.2.1&nbsp;&nbsp;</span>For</a></span></li><li><span><a href=\"http://localhost:8888/notebooks/03/03.ipynb#While\" data-toc-modified-id=\"While-5.2.2\"><span class=\"toc-item-num\">5.2.2&nbsp;&nbsp;</span>While</a></span></li><li><span><a href=\"http://localhost:8888/notebooks/03/03.ipynb#Repeat\" data-toc-modified-id=\"Repeat-5.2.3\"><span class=\"toc-item-num\">5.2.3&nbsp;&nbsp;</span>Repeat</a></span></li></ul></li><li><span><a href=\"http://localhost:8888/notebooks/03/03.ipynb#Poznámka-k-rychlosti-a-psaní-efektivního-kódu\" data-toc-modified-id=\"Poznámka-k-rychlosti-a-psaní-efektivního-kódu-5.3\"><span class=\"toc-item-num\">5.3&nbsp;&nbsp;</span>Poznámka k rychlosti a psaní efektivního kódu</a></span></li></ul></li><li><span><a href=\"http://localhost:8888/notebooks/03/03.ipynb#Operace-s-řetězci\" data-toc-modified-id=\"Operace-s-řetězci-6\"><span class=\"toc-item-num\">6&nbsp;&nbsp;</span>Operace s řetězci</a></span></li><li><span><a href=\"http://localhost:8888/notebooks/03/03.ipynb#Hledání-v-dokumentaci\" data-toc-modified-id=\"Hledání-v-dokumentaci-7\"><span class=\"toc-item-num\">7&nbsp;&nbsp;</span>Hledání v dokumentaci</a></span></li></ul></div>"
   ]
  },
  {
   "cell_type": "markdown",
   "metadata": {},
   "source": [
    "# Základy programování v R\n",
    "\n",
    "R není jenom obyčejný statistický program, ale zároveň i plnohodnotný programovací jazyk. V tomto tutoriálu si ukážeme to nejzákladnější, co budeme z tohoto jazyka potřebovat pro psaní vlastních programů. \n",
    "\n",
    "## Operátory\n",
    "\n",
    "[Dříve](../02/) už jsme si tak trochu ukázali, jak v R asi provádět základní výpočty a matematické operace. Pojďme teď na to trochu systematičtěji:"
   ]
  },
  {
   "cell_type": "code",
   "execution_count": 1,
   "metadata": {},
   "outputs": [
    {
     "data": {
      "text/html": [
       "6"
      ],
      "text/latex": [
       "6"
      ],
      "text/markdown": [
       "6"
      ],
      "text/plain": [
       "[1] 6"
      ]
     },
     "metadata": {},
     "output_type": "display_data"
    },
    {
     "data": {
      "text/html": [
       "-4"
      ],
      "text/latex": [
       "-4"
      ],
      "text/markdown": [
       "-4"
      ],
      "text/plain": [
       "[1] -4"
      ]
     },
     "metadata": {},
     "output_type": "display_data"
    },
    {
     "data": {
      "text/html": [
       "12"
      ],
      "text/latex": [
       "12"
      ],
      "text/markdown": [
       "12"
      ],
      "text/plain": [
       "[1] 12"
      ]
     },
     "metadata": {},
     "output_type": "display_data"
    },
    {
     "data": {
      "text/html": [
       "12.5"
      ],
      "text/latex": [
       "12.5"
      ],
      "text/markdown": [
       "12.5"
      ],
      "text/plain": [
       "[1] 12.5"
      ]
     },
     "metadata": {},
     "output_type": "display_data"
    },
    {
     "data": {
      "text/html": [
       "256"
      ],
      "text/latex": [
       "256"
      ],
      "text/markdown": [
       "256"
      ],
      "text/plain": [
       "[1] 256"
      ]
     },
     "metadata": {},
     "output_type": "display_data"
    },
    {
     "data": {
      "text/html": [
       "1"
      ],
      "text/latex": [
       "1"
      ],
      "text/markdown": [
       "1"
      ],
      "text/plain": [
       "[1] 1"
      ]
     },
     "metadata": {},
     "output_type": "display_data"
    },
    {
     "data": {
      "text/html": [
       "2"
      ],
      "text/latex": [
       "2"
      ],
      "text/markdown": [
       "2"
      ],
      "text/plain": [
       "[1] 2"
      ]
     },
     "metadata": {},
     "output_type": "display_data"
    },
    {
     "data": {
      "text/html": [
       "-5"
      ],
      "text/latex": [
       "-5"
      ],
      "text/markdown": [
       "-5"
      ],
      "text/plain": [
       "[1] -5"
      ]
     },
     "metadata": {},
     "output_type": "display_data"
    }
   ],
   "source": [
    "# základní matematické operátory\n",
    "3 + 3 # sčítání\n",
    "1 - 5 # odčítání\n",
    "3 * 4 # násobení\n",
    "25 / 2 # dělení\n",
    "\n",
    "# další číselné operátory\n",
    "2 ^ 8 # mocnina\n",
    "3 %% 2 # modulo (zbytek po dělení)\n",
    "5 %/% 2 # dělení beze zbytku\n",
    "-5 # unární mínus (násobení mínus jedničkou)"
   ]
  },
  {
   "cell_type": "markdown",
   "metadata": {},
   "source": [
    "Výsledky programu výše asi nikoho nepřekvapí a pokud jste již někdy používali nějaký matematický program, tak vás ani synatxe nijak zvlášť nevyvede z míry. \n",
    "\n",
    "Mimochodem veškerý obsah, který se nachází za znakem `#`, je až do konce řádky při interpretaci vašeho kódu ignorován. Této vlastnosti se doporučuje často využívat, neboť po čase budete mít i vy sami problém číst váš vlastní kód a každá indicie, která vám pomůže rozšifrovat, co jste vlastně při psaní vašeho programu zamýšleli, se vám bude hodit. Minimálně tak alespoň můžete pobavit někoho, kdo bude číst kód po vás, jako například některé [komentáře](https://openvz.org/Kernel_code_quotes) v jádře systému Linux.\n",
    "\n",
    "Jako každý jiný programovací jazyk i R má porovnávací a logické operátory:"
   ]
  },
  {
   "cell_type": "code",
   "execution_count": 2,
   "metadata": {},
   "outputs": [
    {
     "data": {
      "text/html": [
       "TRUE"
      ],
      "text/latex": [
       "TRUE"
      ],
      "text/markdown": [
       "TRUE"
      ],
      "text/plain": [
       "[1] TRUE"
      ]
     },
     "metadata": {},
     "output_type": "display_data"
    },
    {
     "data": {
      "text/html": [
       "FALSE"
      ],
      "text/latex": [
       "FALSE"
      ],
      "text/markdown": [
       "FALSE"
      ],
      "text/plain": [
       "[1] FALSE"
      ]
     },
     "metadata": {},
     "output_type": "display_data"
    },
    {
     "data": {
      "text/html": [
       "FALSE"
      ],
      "text/latex": [
       "FALSE"
      ],
      "text/markdown": [
       "FALSE"
      ],
      "text/plain": [
       "[1] FALSE"
      ]
     },
     "metadata": {},
     "output_type": "display_data"
    },
    {
     "data": {
      "text/html": [
       "TRUE"
      ],
      "text/latex": [
       "TRUE"
      ],
      "text/markdown": [
       "TRUE"
      ],
      "text/plain": [
       "[1] TRUE"
      ]
     },
     "metadata": {},
     "output_type": "display_data"
    },
    {
     "data": {
      "text/html": [
       "TRUE"
      ],
      "text/latex": [
       "TRUE"
      ],
      "text/markdown": [
       "TRUE"
      ],
      "text/plain": [
       "[1] TRUE"
      ]
     },
     "metadata": {},
     "output_type": "display_data"
    },
    {
     "data": {
      "text/html": [
       "FALSE"
      ],
      "text/latex": [
       "FALSE"
      ],
      "text/markdown": [
       "FALSE"
      ],
      "text/plain": [
       "[1] FALSE"
      ]
     },
     "metadata": {},
     "output_type": "display_data"
    },
    {
     "data": {
      "text/html": [
       "FALSE"
      ],
      "text/latex": [
       "FALSE"
      ],
      "text/markdown": [
       "FALSE"
      ],
      "text/plain": [
       "[1] FALSE"
      ]
     },
     "metadata": {},
     "output_type": "display_data"
    },
    {
     "data": {
      "text/html": [
       "TRUE"
      ],
      "text/latex": [
       "TRUE"
      ],
      "text/markdown": [
       "TRUE"
      ],
      "text/plain": [
       "[1] TRUE"
      ]
     },
     "metadata": {},
     "output_type": "display_data"
    },
    {
     "data": {
      "text/html": [
       "FALSE"
      ],
      "text/latex": [
       "FALSE"
      ],
      "text/markdown": [
       "FALSE"
      ],
      "text/plain": [
       "[1] FALSE"
      ]
     },
     "metadata": {},
     "output_type": "display_data"
    }
   ],
   "source": [
    "3 > 2 # větší\n",
    "3 < 2 # menší\n",
    "3 <= 2 # menší nebo rovno\n",
    "3 >= 2 # větší nebo rovno\n",
    "3 == 3 # rovno\n",
    "!TRUE # negace\n",
    "T && F # and\n",
    "T || FALSE # or\n",
    "\n",
    "\"Martin\" > \"Max\" # řetězce se porovnávají lexikograficky ('r' vs. 'x')"
   ]
  },
  {
   "cell_type": "markdown",
   "metadata": {},
   "source": [
    "Jak je demonstrováno v programu výše, jazyk též nabízí zkrácené verze konstant `TRUE` a `FALSE`, `T` a `F`. Pro exkluzivní or v R operátor neexistuje, avšak lze použít funkci `xor`:"
   ]
  },
  {
   "cell_type": "code",
   "execution_count": 3,
   "metadata": {},
   "outputs": [
    {
     "data": {
      "text/html": [
       "FALSE"
      ],
      "text/latex": [
       "FALSE"
      ],
      "text/markdown": [
       "FALSE"
      ],
      "text/plain": [
       "[1] FALSE"
      ]
     },
     "metadata": {},
     "output_type": "display_data"
    }
   ],
   "source": [
    "xor(TRUE, TRUE) # exkluzivní or"
   ]
  },
  {
   "cell_type": "markdown",
   "metadata": {},
   "source": [
    "\n",
    "\n",
    "Při psaní složitějších výrazů je též třeba dbát na [pořadí a asociativitu](https://www.programiz.com/r-programming/precedence-associativity) operátorů a popřípadě si pomoci závorkami. Například:"
   ]
  },
  {
   "cell_type": "code",
   "execution_count": 4,
   "metadata": {},
   "outputs": [
    {
     "data": {
      "text/html": [
       "32"
      ],
      "text/latex": [
       "32"
      ],
      "text/markdown": [
       "32"
      ],
      "text/plain": [
       "[1] 32"
      ]
     },
     "metadata": {},
     "output_type": "display_data"
    },
    {
     "data": {
      "text/html": [
       "2"
      ],
      "text/latex": [
       "2"
      ],
      "text/markdown": [
       "2"
      ],
      "text/plain": [
       "[1] 2"
      ]
     },
     "metadata": {},
     "output_type": "display_data"
    }
   ],
   "source": [
    "256 ^ 1/8\n",
    "256 ^ (1/8)"
   ]
  },
  {
   "cell_type": "markdown",
   "metadata": {},
   "source": [
    "nebo"
   ]
  },
  {
   "cell_type": "code",
   "execution_count": 5,
   "metadata": {},
   "outputs": [
    {
     "data": {
      "text/html": [
       "1"
      ],
      "text/latex": [
       "1"
      ],
      "text/markdown": [
       "1"
      ],
      "text/plain": [
       "[1] 1"
      ]
     },
     "metadata": {},
     "output_type": "display_data"
    },
    {
     "data": {
      "text/html": [
       "9"
      ],
      "text/latex": [
       "9"
      ],
      "text/markdown": [
       "9"
      ],
      "text/plain": [
       "[1] 9"
      ]
     },
     "metadata": {},
     "output_type": "display_data"
    }
   ],
   "source": [
    "15 / 5 / 3\n",
    "15 / (5 / 3)"
   ]
  },
  {
   "cell_type": "markdown",
   "metadata": {},
   "source": [
    "V budoucnu se ještě setkáme s dalšími operátory, které se používají s komplexnějšími datovými strukturami, ale ty zatím necháme být.\n",
    "\n",
    "## Proměnné\n",
    "\n",
    "Jak přiřazovat proměnné jsme si už dříve také ukázali:"
   ]
  },
  {
   "cell_type": "code",
   "execution_count": 6,
   "metadata": {},
   "outputs": [
    {
     "data": {
      "text/html": [
       "1"
      ],
      "text/latex": [
       "1"
      ],
      "text/markdown": [
       "1"
      ],
      "text/plain": [
       "[1] 1"
      ]
     },
     "metadata": {},
     "output_type": "display_data"
    }
   ],
   "source": [
    "x <- 1\n",
    "x"
   ]
  },
  {
   "cell_type": "markdown",
   "metadata": {},
   "source": [
    "Toto je preferovaný a nejčastější způsob, avšak přiřazovacích operátorů je více:"
   ]
  },
  {
   "cell_type": "code",
   "execution_count": 7,
   "metadata": {},
   "outputs": [
    {
     "data": {
      "text/html": [
       "2"
      ],
      "text/latex": [
       "2"
      ],
      "text/markdown": [
       "2"
      ],
      "text/plain": [
       "[1] 2"
      ]
     },
     "metadata": {},
     "output_type": "display_data"
    },
    {
     "data": {
      "text/html": [
       "3"
      ],
      "text/latex": [
       "3"
      ],
      "text/markdown": [
       "3"
      ],
      "text/plain": [
       "[1] 3"
      ]
     },
     "metadata": {},
     "output_type": "display_data"
    }
   ],
   "source": [
    "x = x + 1\n",
    "x\n",
    "x <<- x + 1\n",
    "x"
   ]
  },
  {
   "cell_type": "markdown",
   "metadata": {},
   "source": [
    "Operátor `=` byl do R přidán později a má stejný význam jako `<-`. Doporučuje se však používat starší variantu, ze které je vždy zřejmé co a kam přiřazujete, neboť tento operátor má 'směr'. Lze jej spolu s operátorem `<<-` totiž použít i takto: "
   ]
  },
  {
   "cell_type": "code",
   "execution_count": 8,
   "metadata": {},
   "outputs": [
    {
     "data": {
      "text/html": [
       "4"
      ],
      "text/latex": [
       "4"
      ],
      "text/markdown": [
       "4"
      ],
      "text/plain": [
       "[1] 4"
      ]
     },
     "metadata": {},
     "output_type": "display_data"
    },
    {
     "data": {
      "text/html": [
       "5"
      ],
      "text/latex": [
       "5"
      ],
      "text/markdown": [
       "5"
      ],
      "text/plain": [
       "[1] 5"
      ]
     },
     "metadata": {},
     "output_type": "display_data"
    }
   ],
   "source": [
    "x + 1 -> x\n",
    "x\n",
    "x + 1 ->> x\n",
    "x"
   ]
  },
  {
   "cell_type": "markdown",
   "metadata": {},
   "source": [
    "Operátory `<<-` a `->>` mají speciální význam a souvisí s pokročilejší znalostí jazyka R a budou vysvětleny později. Ve většině případů je však nebudete potřebovat. Mohou vám jen někdy trochu usnadnit práci.\n",
    "\n",
    "Na závěr ještě krátká poznámka k pojmenovávání proměnných. Jazyk R je velice permisivní a dovolí vám pojmenovávat vaše proměnné skoro libovolným způsobem (pokud to tedy zrovna nějakým způsobem nekoliduje se syntaxí jazyka). I přesto je však dobré dodržovat při pojmenovávání vašich proměnných nějaký standard, který budete ve vašich programech dodržovat. V tom, který standard by měl být ten nejstandardnější, si [nikdo není jistý](https://stackoverflow.com/questions/1944910/what-is-your-preferred-style-for-naming-variables-in-r), ale ať si vyberete kterýkoliv způsob, měli byste jej ve svých skriptech dodržovat. V tomto tutoriálu budeme používat jména, kde jsou jednotlivá slova oddělena podtržítkem (až na názvy parametrů funkcí, kde budeme používat tzv. `camelCase`, viz v sekci [Funkce](#Funkce) níže). Ve jménech se též vždy omezíme pouze na alfanumerické znaky.\n",
    "\n",
    "## Datové typy\n",
    "\n",
    "Každý objekt (proměnná i konstanta) v R má daný nějaký datový typ, který určuje  vnitřní uspořádání v paměti počítače. My jsme zatím pracovali jen s těmi nejzákladnějšími:"
   ]
  },
  {
   "cell_type": "code",
   "execution_count": 9,
   "metadata": {},
   "outputs": [
    {
     "data": {
      "text/html": [
       "'character'"
      ],
      "text/latex": [
       "'character'"
      ],
      "text/markdown": [
       "'character'"
      ],
      "text/plain": [
       "[1] \"character\""
      ]
     },
     "metadata": {},
     "output_type": "display_data"
    },
    {
     "data": {
      "text/html": [
       "'double'"
      ],
      "text/latex": [
       "'double'"
      ],
      "text/markdown": [
       "'double'"
      ],
      "text/plain": [
       "[1] \"double\""
      ]
     },
     "metadata": {},
     "output_type": "display_data"
    },
    {
     "data": {
      "text/html": [
       "'integer'"
      ],
      "text/latex": [
       "'integer'"
      ],
      "text/markdown": [
       "'integer'"
      ],
      "text/plain": [
       "[1] \"integer\""
      ]
     },
     "metadata": {},
     "output_type": "display_data"
    },
    {
     "data": {
      "text/html": [
       "'double'"
      ],
      "text/latex": [
       "'double'"
      ],
      "text/markdown": [
       "'double'"
      ],
      "text/plain": [
       "[1] \"double\""
      ]
     },
     "metadata": {},
     "output_type": "display_data"
    },
    {
     "data": {
      "text/html": [
       "'logical'"
      ],
      "text/latex": [
       "'logical'"
      ],
      "text/markdown": [
       "'logical'"
      ],
      "text/plain": [
       "[1] \"logical\""
      ]
     },
     "metadata": {},
     "output_type": "display_data"
    },
    {
     "data": {
      "text/html": [
       "'complex'"
      ],
      "text/latex": [
       "'complex'"
      ],
      "text/markdown": [
       "'complex'"
      ],
      "text/plain": [
       "[1] \"complex\""
      ]
     },
     "metadata": {},
     "output_type": "display_data"
    }
   ],
   "source": [
    "typeof(\"ahoj\")\n",
    "typeof(1)\n",
    "typeof(1L)\n",
    "typeof(1.5)\n",
    "typeof(T)\n",
    "typeof(1 + 1i) # zde je třeba před `i` jedničku napsat, jinak by jej R interpretovalo jako proměnnou `i`"
   ]
  },
  {
   "cell_type": "markdown",
   "metadata": {},
   "source": [
    "Funkce `typeof` v příkladu výše se nám vždy pokusí co nejpřesněji sdělit, o jaký datový typ se jedná. Podobně lze též použít i funkci `class`, která dělá to samé ale na trochu vyšší úrovni:"
   ]
  },
  {
   "cell_type": "code",
   "execution_count": 10,
   "metadata": {},
   "outputs": [
    {
     "data": {
      "text/html": [
       "'character'"
      ],
      "text/latex": [
       "'character'"
      ],
      "text/markdown": [
       "'character'"
      ],
      "text/plain": [
       "[1] \"character\""
      ]
     },
     "metadata": {},
     "output_type": "display_data"
    },
    {
     "data": {
      "text/html": [
       "'numeric'"
      ],
      "text/latex": [
       "'numeric'"
      ],
      "text/markdown": [
       "'numeric'"
      ],
      "text/plain": [
       "[1] \"numeric\""
      ]
     },
     "metadata": {},
     "output_type": "display_data"
    },
    {
     "data": {
      "text/html": [
       "'integer'"
      ],
      "text/latex": [
       "'integer'"
      ],
      "text/markdown": [
       "'integer'"
      ],
      "text/plain": [
       "[1] \"integer\""
      ]
     },
     "metadata": {},
     "output_type": "display_data"
    },
    {
     "data": {
      "text/html": [
       "'numeric'"
      ],
      "text/latex": [
       "'numeric'"
      ],
      "text/markdown": [
       "'numeric'"
      ],
      "text/plain": [
       "[1] \"numeric\""
      ]
     },
     "metadata": {},
     "output_type": "display_data"
    },
    {
     "data": {
      "text/html": [
       "'logical'"
      ],
      "text/latex": [
       "'logical'"
      ],
      "text/markdown": [
       "'logical'"
      ],
      "text/plain": [
       "[1] \"logical\""
      ]
     },
     "metadata": {},
     "output_type": "display_data"
    },
    {
     "data": {
      "text/html": [
       "'complex'"
      ],
      "text/latex": [
       "'complex'"
      ],
      "text/markdown": [
       "'complex'"
      ],
      "text/plain": [
       "[1] \"complex\""
      ]
     },
     "metadata": {},
     "output_type": "display_data"
    }
   ],
   "source": [
    "class(\"ahoj\")\n",
    "class(1)\n",
    "class(1L)\n",
    "class(1.5)\n",
    "class(T)\n",
    "class(1 + 4i)"
   ]
  },
  {
   "cell_type": "markdown",
   "metadata": {},
   "source": [
    "Třídy mají v R stejný účel jako v jiných jazycích a typicky představují větší celky agregující několik proměnných primitivních datových typů. Třídy jsou v R pokorčilejší téma, a proto si je necháme na později.\n",
    "\n",
    "Z příkladů výše je vidět, že všechna čísla v R jsou implicitně reprezentována jako datový typ `double`. Pokud z nějakého důvodu chcete, aby bylo vaše číslo reprezentováno jinak, musíte si to explicitně vyžádat (například písmeno `L` za literálem vašeho čísla z něj udělá tzv. `integer`; stejně funguje i funkce `as.integer`, kterou lze použít i na proměnné).\n",
    "\n",
    "Ještě obecnější dělení objektů je podle tzv. módu, který lze pro proměnnou získat pomocí funkce `mode`:"
   ]
  },
  {
   "cell_type": "code",
   "execution_count": 11,
   "metadata": {},
   "outputs": [
    {
     "data": {
      "text/html": [
       "'character'"
      ],
      "text/latex": [
       "'character'"
      ],
      "text/markdown": [
       "'character'"
      ],
      "text/plain": [
       "[1] \"character\""
      ]
     },
     "metadata": {},
     "output_type": "display_data"
    },
    {
     "data": {
      "text/html": [
       "'numeric'"
      ],
      "text/latex": [
       "'numeric'"
      ],
      "text/markdown": [
       "'numeric'"
      ],
      "text/plain": [
       "[1] \"numeric\""
      ]
     },
     "metadata": {},
     "output_type": "display_data"
    },
    {
     "data": {
      "text/html": [
       "'numeric'"
      ],
      "text/latex": [
       "'numeric'"
      ],
      "text/markdown": [
       "'numeric'"
      ],
      "text/plain": [
       "[1] \"numeric\""
      ]
     },
     "metadata": {},
     "output_type": "display_data"
    },
    {
     "data": {
      "text/html": [
       "'numeric'"
      ],
      "text/latex": [
       "'numeric'"
      ],
      "text/markdown": [
       "'numeric'"
      ],
      "text/plain": [
       "[1] \"numeric\""
      ]
     },
     "metadata": {},
     "output_type": "display_data"
    },
    {
     "data": {
      "text/html": [
       "'logical'"
      ],
      "text/latex": [
       "'logical'"
      ],
      "text/markdown": [
       "'logical'"
      ],
      "text/plain": [
       "[1] \"logical\""
      ]
     },
     "metadata": {},
     "output_type": "display_data"
    },
    {
     "data": {
      "text/html": [
       "'complex'"
      ],
      "text/latex": [
       "'complex'"
      ],
      "text/markdown": [
       "'complex'"
      ],
      "text/plain": [
       "[1] \"complex\""
      ]
     },
     "metadata": {},
     "output_type": "display_data"
    }
   ],
   "source": [
    "mode(\"ahoj\")\n",
    "mode(1)\n",
    "mode(1L)\n",
    "mode(1.5)\n",
    "mode(T)\n",
    "mode(1 + 4i)"
   ]
  },
  {
   "cell_type": "markdown",
   "metadata": {},
   "source": [
    "Všimněte si, že i typ `integer` je zde už označen jako číselný mód. Jedná se tedy o trochu přirozenější/lidštější dělení.\n",
    "\n",
    "Datové typy proměnných lze též vzít do úvahy při porovnaání a to pomocí funkce `identical`, která zároveň s daty testuje i datový typ. Srovnejte například dvě následující porovnání:"
   ]
  },
  {
   "cell_type": "code",
   "execution_count": 12,
   "metadata": {},
   "outputs": [
    {
     "data": {
      "text/html": [
       "'double'"
      ],
      "text/latex": [
       "'double'"
      ],
      "text/markdown": [
       "'double'"
      ],
      "text/plain": [
       "[1] \"double\""
      ]
     },
     "metadata": {},
     "output_type": "display_data"
    },
    {
     "data": {
      "text/html": [
       "'integer'"
      ],
      "text/latex": [
       "'integer'"
      ],
      "text/markdown": [
       "'integer'"
      ],
      "text/plain": [
       "[1] \"integer\""
      ]
     },
     "metadata": {},
     "output_type": "display_data"
    },
    {
     "data": {
      "text/html": [
       "TRUE"
      ],
      "text/latex": [
       "TRUE"
      ],
      "text/markdown": [
       "TRUE"
      ],
      "text/plain": [
       "[1] TRUE"
      ]
     },
     "metadata": {},
     "output_type": "display_data"
    },
    {
     "data": {
      "text/html": [
       "FALSE"
      ],
      "text/latex": [
       "FALSE"
      ],
      "text/markdown": [
       "FALSE"
      ],
      "text/plain": [
       "[1] FALSE"
      ]
     },
     "metadata": {},
     "output_type": "display_data"
    }
   ],
   "source": [
    "typeof(1)\n",
    "typeof(1L)\n",
    "\n",
    "1 == 1L # zde se obě konstanty porovnávají jako čísla\n",
    "identical(1L, 1) # zde se porovnávají jako dva objekty v R"
   ]
  },
  {
   "cell_type": "markdown",
   "metadata": {},
   "source": [
    "### Vektory\n",
    "\n",
    "Skoro v každém moderním programovacím jazyce existují nějaké lineární datové struktury, které uživateli umožňují agregovat data primitivních typů. Většinou jsou to pole, seznamy, vektory a další. Jelikož je program R zaměřen především na analýzu dat, obsahuje tento jazyk velice širokou škálu datových struktur. My si jich velkou část představíme v [další lekci](../04/), ale tu nejjednodušší z nich, vektor, si představíme už nyní. \n",
    "\n",
    "Vektor je datový typ, který má fixní délku a agreguje skalární hodnoty jednoho datového typu. Jednoduše jej lze připravit například takto:"
   ]
  },
  {
   "cell_type": "code",
   "execution_count": 13,
   "metadata": {},
   "outputs": [
    {
     "name": "stdout",
     "output_type": "stream",
     "text": [
      " [1]  1  2  3  4  5  6  7  8  9 10\n",
      " [1] 10  9  8  7  6  5  4  3  2  1\n"
     ]
    }
   ],
   "source": [
    "vektor_čísla <- 1:10 # inicializace operátorem\n",
    "vektor_čísla_opačně <- seq(10, 1) # inicializace pomocí funkce 'seq'\n",
    "print(vektor_čísla)\n",
    "print(vektor_čísla_opačně)"
   ]
  },
  {
   "cell_type": "markdown",
   "metadata": {},
   "source": [
    "Operátor `:` jsme si zatím ještě nepředstavili. Ten může v různých kontextech znamenat různé věci, ale v tomto případě jen zastupuje funkci `seq`, která se při standardním použití pokusí v jednotkových inkrementech vygenerovat vektor obsahující sekvenci čísel v intervalu specifikovaném jejími argumenty. Tato funkcionalita se často hodí pokud například potřebujete rychle vygenerovat nějaká data pro testování nebo jednoduché unikátní identifikátory. Oproti operátoru `:` má funkce `seq` více možností, co se týče konfigurace vygenerované sekvence. Krom jednotkových inkrementů lze třeba specifikat i jiné:"
   ]
  },
  {
   "cell_type": "code",
   "execution_count": 14,
   "metadata": {},
   "outputs": [
    {
     "data": {
      "text/html": [
       "<ol class=list-inline>\n",
       "\t<li>1</li>\n",
       "\t<li>5</li>\n",
       "\t<li>9</li>\n",
       "</ol>\n"
      ],
      "text/latex": [
       "\\begin{enumerate*}\n",
       "\\item 1\n",
       "\\item 5\n",
       "\\item 9\n",
       "\\end{enumerate*}\n"
      ],
      "text/markdown": [
       "1. 1\n",
       "2. 5\n",
       "3. 9\n",
       "\n",
       "\n"
      ],
      "text/plain": [
       "[1] 1 5 9"
      ]
     },
     "metadata": {},
     "output_type": "display_data"
    },
    {
     "data": {
      "text/html": [
       "<ol class=list-inline>\n",
       "\t<li>1</li>\n",
       "\t<li>1.5</li>\n",
       "\t<li>2</li>\n",
       "\t<li>2.5</li>\n",
       "\t<li>3</li>\n",
       "\t<li>3.5</li>\n",
       "\t<li>4</li>\n",
       "\t<li>4.5</li>\n",
       "\t<li>5</li>\n",
       "\t<li>5.5</li>\n",
       "\t<li>6</li>\n",
       "\t<li>6.5</li>\n",
       "\t<li>7</li>\n",
       "\t<li>7.5</li>\n",
       "\t<li>8</li>\n",
       "\t<li>8.5</li>\n",
       "\t<li>9</li>\n",
       "\t<li>9.5</li>\n",
       "\t<li>10</li>\n",
       "</ol>\n"
      ],
      "text/latex": [
       "\\begin{enumerate*}\n",
       "\\item 1\n",
       "\\item 1.5\n",
       "\\item 2\n",
       "\\item 2.5\n",
       "\\item 3\n",
       "\\item 3.5\n",
       "\\item 4\n",
       "\\item 4.5\n",
       "\\item 5\n",
       "\\item 5.5\n",
       "\\item 6\n",
       "\\item 6.5\n",
       "\\item 7\n",
       "\\item 7.5\n",
       "\\item 8\n",
       "\\item 8.5\n",
       "\\item 9\n",
       "\\item 9.5\n",
       "\\item 10\n",
       "\\end{enumerate*}\n"
      ],
      "text/markdown": [
       "1. 1\n",
       "2. 1.5\n",
       "3. 2\n",
       "4. 2.5\n",
       "5. 3\n",
       "6. 3.5\n",
       "7. 4\n",
       "8. 4.5\n",
       "9. 5\n",
       "10. 5.5\n",
       "11. 6\n",
       "12. 6.5\n",
       "13. 7\n",
       "14. 7.5\n",
       "15. 8\n",
       "16. 8.5\n",
       "17. 9\n",
       "18. 9.5\n",
       "19. 10\n",
       "\n",
       "\n"
      ],
      "text/plain": [
       " [1]  1.0  1.5  2.0  2.5  3.0  3.5  4.0  4.5  5.0  5.5  6.0  6.5  7.0  7.5  8.0\n",
       "[16]  8.5  9.0  9.5 10.0"
      ]
     },
     "metadata": {},
     "output_type": "display_data"
    },
    {
     "data": {
      "text/html": [
       "<ol class=list-inline>\n",
       "\t<li>0</li>\n",
       "\t<li>0.785398163397448</li>\n",
       "\t<li>1.5707963267949</li>\n",
       "\t<li>2.35619449019234</li>\n",
       "\t<li>3.14159265358979</li>\n",
       "\t<li>3.92699081698724</li>\n",
       "\t<li>4.71238898038469</li>\n",
       "\t<li>5.49778714378214</li>\n",
       "\t<li>6.28318530717959</li>\n",
       "</ol>\n"
      ],
      "text/latex": [
       "\\begin{enumerate*}\n",
       "\\item 0\n",
       "\\item 0.785398163397448\n",
       "\\item 1.5707963267949\n",
       "\\item 2.35619449019234\n",
       "\\item 3.14159265358979\n",
       "\\item 3.92699081698724\n",
       "\\item 4.71238898038469\n",
       "\\item 5.49778714378214\n",
       "\\item 6.28318530717959\n",
       "\\end{enumerate*}\n"
      ],
      "text/markdown": [
       "1. 0\n",
       "2. 0.785398163397448\n",
       "3. 1.5707963267949\n",
       "4. 2.35619449019234\n",
       "5. 3.14159265358979\n",
       "6. 3.92699081698724\n",
       "7. 4.71238898038469\n",
       "8. 5.49778714378214\n",
       "9. 6.28318530717959\n",
       "\n",
       "\n"
      ],
      "text/plain": [
       "[1] 0.0000000 0.7853982 1.5707963 2.3561945 3.1415927 3.9269908 4.7123890\n",
       "[8] 5.4977871 6.2831853"
      ]
     },
     "metadata": {},
     "output_type": "display_data"
    }
   ],
   "source": [
    "seq(1, 10, 4)\n",
    "seq(1, 10, 0.5)\n",
    "seq(0, 2*pi, (1/4)*pi) # číslo π je v R přímo dostupné pod proměnnou `pi`"
   ]
  },
  {
   "cell_type": "markdown",
   "metadata": {},
   "source": [
    "Vektory s určitým počtem opakujících se hodnot lze snadno připravit pomocí funkce `rep`:"
   ]
  },
  {
   "cell_type": "code",
   "execution_count": 15,
   "metadata": {},
   "outputs": [
    {
     "data": {
      "text/html": [
       "<ol class=list-inline>\n",
       "\t<li>1</li>\n",
       "\t<li>1</li>\n",
       "\t<li>1</li>\n",
       "\t<li>1</li>\n",
       "\t<li>1</li>\n",
       "</ol>\n"
      ],
      "text/latex": [
       "\\begin{enumerate*}\n",
       "\\item 1\n",
       "\\item 1\n",
       "\\item 1\n",
       "\\item 1\n",
       "\\item 1\n",
       "\\end{enumerate*}\n"
      ],
      "text/markdown": [
       "1. 1\n",
       "2. 1\n",
       "3. 1\n",
       "4. 1\n",
       "5. 1\n",
       "\n",
       "\n"
      ],
      "text/plain": [
       "[1] 1 1 1 1 1"
      ]
     },
     "metadata": {},
     "output_type": "display_data"
    },
    {
     "data": {
      "text/html": [
       "<ol class=list-inline>\n",
       "\t<li>3.14159265358979</li>\n",
       "\t<li>3.14159265358979</li>\n",
       "\t<li>3.14159265358979</li>\n",
       "</ol>\n"
      ],
      "text/latex": [
       "\\begin{enumerate*}\n",
       "\\item 3.14159265358979\n",
       "\\item 3.14159265358979\n",
       "\\item 3.14159265358979\n",
       "\\end{enumerate*}\n"
      ],
      "text/markdown": [
       "1. 3.14159265358979\n",
       "2. 3.14159265358979\n",
       "3. 3.14159265358979\n",
       "\n",
       "\n"
      ],
      "text/plain": [
       "[1] 3.141593 3.141593 3.141593"
      ]
     },
     "metadata": {},
     "output_type": "display_data"
    }
   ],
   "source": [
    "rep(1, 5)\n",
    "rep(pi, 3)"
   ]
  },
  {
   "cell_type": "markdown",
   "metadata": {},
   "source": [
    "Pokud zjistíte, že byste potřebovali vygenerovat vektor, který obsahuje prvky původního vektoru ale v opačném pořadí, můžete tak snadno učinit pomocí funkce `rev`:"
   ]
  },
  {
   "cell_type": "code",
   "execution_count": 16,
   "metadata": {},
   "outputs": [
    {
     "data": {
      "text/html": [
       "<ol class=list-inline>\n",
       "\t<li>10</li>\n",
       "\t<li>9</li>\n",
       "\t<li>8</li>\n",
       "\t<li>7</li>\n",
       "\t<li>6</li>\n",
       "\t<li>5</li>\n",
       "\t<li>4</li>\n",
       "\t<li>3</li>\n",
       "\t<li>2</li>\n",
       "\t<li>1</li>\n",
       "</ol>\n"
      ],
      "text/latex": [
       "\\begin{enumerate*}\n",
       "\\item 10\n",
       "\\item 9\n",
       "\\item 8\n",
       "\\item 7\n",
       "\\item 6\n",
       "\\item 5\n",
       "\\item 4\n",
       "\\item 3\n",
       "\\item 2\n",
       "\\item 1\n",
       "\\end{enumerate*}\n"
      ],
      "text/markdown": [
       "1. 10\n",
       "2. 9\n",
       "3. 8\n",
       "4. 7\n",
       "5. 6\n",
       "6. 5\n",
       "7. 4\n",
       "8. 3\n",
       "9. 2\n",
       "10. 1\n",
       "\n",
       "\n"
      ],
      "text/plain": [
       " [1] 10  9  8  7  6  5  4  3  2  1"
      ]
     },
     "metadata": {},
     "output_type": "display_data"
    }
   ],
   "source": [
    "rev(1:10)"
   ]
  },
  {
   "cell_type": "markdown",
   "metadata": {},
   "source": [
    "Prvky vektoru lze též snadno řadit pomocí funkce `sort`:"
   ]
  },
  {
   "cell_type": "code",
   "execution_count": 17,
   "metadata": {
    "scrolled": true
   },
   "outputs": [
    {
     "data": {
      "text/html": [
       "<ol class=list-inline>\n",
       "\t<li>'a'</li>\n",
       "\t<li>'b'</li>\n",
       "\t<li>'B'</li>\n",
       "\t<li>'c'</li>\n",
       "\t<li>'d'</li>\n",
       "</ol>\n"
      ],
      "text/latex": [
       "\\begin{enumerate*}\n",
       "\\item 'a'\n",
       "\\item 'b'\n",
       "\\item 'B'\n",
       "\\item 'c'\n",
       "\\item 'd'\n",
       "\\end{enumerate*}\n"
      ],
      "text/markdown": [
       "1. 'a'\n",
       "2. 'b'\n",
       "3. 'B'\n",
       "4. 'c'\n",
       "5. 'd'\n",
       "\n",
       "\n"
      ],
      "text/plain": [
       "[1] \"a\" \"b\" \"B\" \"c\" \"d\""
      ]
     },
     "metadata": {},
     "output_type": "display_data"
    },
    {
     "data": {
      "text/html": [
       "<ol class=list-inline>\n",
       "\t<li>1</li>\n",
       "\t<li>2</li>\n",
       "\t<li>3</li>\n",
       "\t<li>4</li>\n",
       "\t<li>5</li>\n",
       "\t<li>6</li>\n",
       "\t<li>7</li>\n",
       "\t<li>8</li>\n",
       "\t<li>9</li>\n",
       "\t<li>10</li>\n",
       "</ol>\n"
      ],
      "text/latex": [
       "\\begin{enumerate*}\n",
       "\\item 1\n",
       "\\item 2\n",
       "\\item 3\n",
       "\\item 4\n",
       "\\item 5\n",
       "\\item 6\n",
       "\\item 7\n",
       "\\item 8\n",
       "\\item 9\n",
       "\\item 10\n",
       "\\end{enumerate*}\n"
      ],
      "text/markdown": [
       "1. 1\n",
       "2. 2\n",
       "3. 3\n",
       "4. 4\n",
       "5. 5\n",
       "6. 6\n",
       "7. 7\n",
       "8. 8\n",
       "9. 9\n",
       "10. 10\n",
       "\n",
       "\n"
      ],
      "text/plain": [
       " [1]  1  2  3  4  5  6  7  8  9 10"
      ]
     },
     "metadata": {},
     "output_type": "display_data"
    },
    {
     "data": {
      "text/html": [
       "<ol class=list-inline>\n",
       "\t<li>10</li>\n",
       "\t<li>9</li>\n",
       "\t<li>8</li>\n",
       "\t<li>7</li>\n",
       "\t<li>6</li>\n",
       "\t<li>5</li>\n",
       "\t<li>4</li>\n",
       "\t<li>3</li>\n",
       "\t<li>2</li>\n",
       "\t<li>1</li>\n",
       "</ol>\n"
      ],
      "text/latex": [
       "\\begin{enumerate*}\n",
       "\\item 10\n",
       "\\item 9\n",
       "\\item 8\n",
       "\\item 7\n",
       "\\item 6\n",
       "\\item 5\n",
       "\\item 4\n",
       "\\item 3\n",
       "\\item 2\n",
       "\\item 1\n",
       "\\end{enumerate*}\n"
      ],
      "text/markdown": [
       "1. 10\n",
       "2. 9\n",
       "3. 8\n",
       "4. 7\n",
       "5. 6\n",
       "6. 5\n",
       "7. 4\n",
       "8. 3\n",
       "9. 2\n",
       "10. 1\n",
       "\n",
       "\n"
      ],
      "text/plain": [
       " [1] 10  9  8  7  6  5  4  3  2  1"
      ]
     },
     "metadata": {},
     "output_type": "display_data"
    }
   ],
   "source": [
    "sort(c(\"B\", \"b\", \"a\", \"d\", \"c\"))\n",
    "sort(10:1)\n",
    "sort(1:10, decreasing = T)"
   ]
  },
  {
   "cell_type": "markdown",
   "metadata": {},
   "source": [
    "Unikátní prvky pak lze získat pomocí funkce `unique`:"
   ]
  },
  {
   "cell_type": "code",
   "execution_count": 18,
   "metadata": {},
   "outputs": [
    {
     "data": {
      "text/html": [
       "<ol class=list-inline>\n",
       "\t<li>'A'</li>\n",
       "\t<li>'B'</li>\n",
       "\t<li>'b'</li>\n",
       "\t<li>'c'</li>\n",
       "</ol>\n"
      ],
      "text/latex": [
       "\\begin{enumerate*}\n",
       "\\item 'A'\n",
       "\\item 'B'\n",
       "\\item 'b'\n",
       "\\item 'c'\n",
       "\\end{enumerate*}\n"
      ],
      "text/markdown": [
       "1. 'A'\n",
       "2. 'B'\n",
       "3. 'b'\n",
       "4. 'c'\n",
       "\n",
       "\n"
      ],
      "text/plain": [
       "[1] \"A\" \"B\" \"b\" \"c\""
      ]
     },
     "metadata": {},
     "output_type": "display_data"
    }
   ],
   "source": [
    "unique(c(\"A\", \"B\", \"b\", \"A\", \"b\", \"c\"))"
   ]
  },
  {
   "cell_type": "markdown",
   "metadata": {},
   "source": [
    "K inicializaci vektoru lze použít i funkci pojmenovanou přímo `vector`, díky které si například můžete předpřipravit prázdný vektor určité velikosti (v našem příkladě je to desetiprvkový vektor číselných hodnot, které se automaticky inicializují na nulu):"
   ]
  },
  {
   "cell_type": "code",
   "execution_count": 19,
   "metadata": {},
   "outputs": [
    {
     "name": "stdout",
     "output_type": "stream",
     "text": [
      " [1] 0 0 0 0 0 0 0 0 0 0\n"
     ]
    }
   ],
   "source": [
    "vektor_prázdný <- vector(mode(1), 10)\n",
    "print(vektor_prázdný)"
   ]
  },
  {
   "cell_type": "markdown",
   "metadata": {},
   "source": [
    "Lze též použít funkce pojmenované po primitivních datových typech a jako parametr specifikovat velikost vektoru. Složky vektoru se pak opět inicializují na určitou předdefinovanou hodnotu:"
   ]
  },
  {
   "cell_type": "code",
   "execution_count": 20,
   "metadata": {},
   "outputs": [
    {
     "data": {
      "text/html": [
       "<ol class=list-inline>\n",
       "\t<li>FALSE</li>\n",
       "\t<li>FALSE</li>\n",
       "\t<li>FALSE</li>\n",
       "\t<li>FALSE</li>\n",
       "\t<li>FALSE</li>\n",
       "</ol>\n"
      ],
      "text/latex": [
       "\\begin{enumerate*}\n",
       "\\item FALSE\n",
       "\\item FALSE\n",
       "\\item FALSE\n",
       "\\item FALSE\n",
       "\\item FALSE\n",
       "\\end{enumerate*}\n"
      ],
      "text/markdown": [
       "1. FALSE\n",
       "2. FALSE\n",
       "3. FALSE\n",
       "4. FALSE\n",
       "5. FALSE\n",
       "\n",
       "\n"
      ],
      "text/plain": [
       "[1] FALSE FALSE FALSE FALSE FALSE"
      ]
     },
     "metadata": {},
     "output_type": "display_data"
    },
    {
     "data": {
      "text/html": [
       "<ol class=list-inline>\n",
       "\t<li>0</li>\n",
       "\t<li>0</li>\n",
       "\t<li>0</li>\n",
       "\t<li>0</li>\n",
       "\t<li>0</li>\n",
       "</ol>\n"
      ],
      "text/latex": [
       "\\begin{enumerate*}\n",
       "\\item 0\n",
       "\\item 0\n",
       "\\item 0\n",
       "\\item 0\n",
       "\\item 0\n",
       "\\end{enumerate*}\n"
      ],
      "text/markdown": [
       "1. 0\n",
       "2. 0\n",
       "3. 0\n",
       "4. 0\n",
       "5. 0\n",
       "\n",
       "\n"
      ],
      "text/plain": [
       "[1] 0 0 0 0 0"
      ]
     },
     "metadata": {},
     "output_type": "display_data"
    },
    {
     "data": {
      "text/html": [
       "<ol class=list-inline>\n",
       "\t<li>0</li>\n",
       "\t<li>0</li>\n",
       "\t<li>0</li>\n",
       "\t<li>0</li>\n",
       "\t<li>0</li>\n",
       "</ol>\n"
      ],
      "text/latex": [
       "\\begin{enumerate*}\n",
       "\\item 0\n",
       "\\item 0\n",
       "\\item 0\n",
       "\\item 0\n",
       "\\item 0\n",
       "\\end{enumerate*}\n"
      ],
      "text/markdown": [
       "1. 0\n",
       "2. 0\n",
       "3. 0\n",
       "4. 0\n",
       "5. 0\n",
       "\n",
       "\n"
      ],
      "text/plain": [
       "[1] 0 0 0 0 0"
      ]
     },
     "metadata": {},
     "output_type": "display_data"
    },
    {
     "data": {
      "text/html": [
       "<ol class=list-inline>\n",
       "\t<li>''</li>\n",
       "\t<li>''</li>\n",
       "\t<li>''</li>\n",
       "\t<li>''</li>\n",
       "\t<li>''</li>\n",
       "</ol>\n"
      ],
      "text/latex": [
       "\\begin{enumerate*}\n",
       "\\item ''\n",
       "\\item ''\n",
       "\\item ''\n",
       "\\item ''\n",
       "\\item ''\n",
       "\\end{enumerate*}\n"
      ],
      "text/markdown": [
       "1. ''\n",
       "2. ''\n",
       "3. ''\n",
       "4. ''\n",
       "5. ''\n",
       "\n",
       "\n"
      ],
      "text/plain": [
       "[1] \"\" \"\" \"\" \"\" \"\""
      ]
     },
     "metadata": {},
     "output_type": "display_data"
    }
   ],
   "source": [
    "logical(5)\n",
    "numeric(5)\n",
    "integer(5)\n",
    "character(5)"
   ]
  },
  {
   "cell_type": "markdown",
   "metadata": {},
   "source": [
    "Příklad, kde se podobná inicializace může hodit, si ukážeme [později](#Pozn%C3%A1mka-k-rychlosti-a-psan%C3%AD-efektivn%C3%ADho-k%C3%B3du).\n",
    "\n",
    "Inicializace pomocí funkce `c` (combine) dělá přesně to, co byste čekali: Pokusí se vzít vaše argumenty a vrátit vám je jako vektor, který je jejich kombinací. Takto lze kombinovat téměř cokoliv včetně vektorů samotných:"
   ]
  },
  {
   "cell_type": "code",
   "execution_count": 21,
   "metadata": {},
   "outputs": [
    {
     "name": "stdout",
     "output_type": "stream",
     "text": [
      "[1] \"jedna\" \"dvě\"   \"tři\"  \n",
      "[1] \"jedna_1\" \"dvě_1\"   \"tři_1\"   \"jedna_2\" \"dvě_2\"   \"tři_2\"  \n"
     ]
    }
   ],
   "source": [
    "vektor_řetězce <- c(\"jedna\", \"dvě\", \"tři\") # inicializace pomocí funkce 'c'\n",
    "vektor_vektory <- c(c(\"jedna_1\", \"dvě_1\", \"tři_1\"), c(\"jedna_2\", \"dvě_2\", \"tři_2\"))\n",
    "print(vektor_řetězce)\n",
    "print(vektor_vektory)"
   ]
  },
  {
   "cell_type": "markdown",
   "metadata": {},
   "source": [
    "Všimněte si, že vektor se i při inicializaci z více vektorů tváří jednorozměrně. V R je totiž vektor vždy pouze řada čísel nebo jiných objektů. Dokazuje to i výstup funkce `dim`, která normálně vrací rozměry podobných datových objektů (například pro [matice](../04/04.ipynb#Matice-(matrix&#41;) je to počet řádek a sloupců):"
   ]
  },
  {
   "cell_type": "code",
   "execution_count": 22,
   "metadata": {},
   "outputs": [
    {
     "data": {
      "text/plain": [
       "NULL"
      ]
     },
     "metadata": {},
     "output_type": "display_data"
    }
   ],
   "source": [
    "dim(vektor_vektory)"
   ]
  },
  {
   "cell_type": "markdown",
   "metadata": {},
   "source": [
    "Vektor má totiž pouze délku:"
   ]
  },
  {
   "cell_type": "code",
   "execution_count": 23,
   "metadata": {},
   "outputs": [
    {
     "data": {
      "text/html": [
       "6"
      ],
      "text/latex": [
       "6"
      ],
      "text/markdown": [
       "6"
      ],
      "text/plain": [
       "[1] 6"
      ]
     },
     "metadata": {},
     "output_type": "display_data"
    }
   ],
   "source": [
    "length(vektor_vektory)"
   ]
  },
  {
   "cell_type": "markdown",
   "metadata": {},
   "source": [
    "#### Přistupování k položkám vektoru\n",
    "\n",
    "Jak je zvykem i v jiných programovacích jazycích, lze k položkám ve vektoru snadno přistupovat pomocí indexů a operátoru `[]` (všimněte si, že R indexuje od jedničky):"
   ]
  },
  {
   "cell_type": "code",
   "execution_count": 24,
   "metadata": {},
   "outputs": [
    {
     "data": {
      "text/html": [
       "<ol class=list-inline>\n",
       "\t<li>'jedna_1'</li>\n",
       "\t<li>'dvě_1'</li>\n",
       "\t<li>'tři_1'</li>\n",
       "\t<li>'jedna_2'</li>\n",
       "\t<li>'dvě_2'</li>\n",
       "\t<li>'tři_2'</li>\n",
       "</ol>\n"
      ],
      "text/latex": [
       "\\begin{enumerate*}\n",
       "\\item 'jedna\\_1'\n",
       "\\item 'dvě\\_1'\n",
       "\\item 'tři\\_1'\n",
       "\\item 'jedna\\_2'\n",
       "\\item 'dvě\\_2'\n",
       "\\item 'tři\\_2'\n",
       "\\end{enumerate*}\n"
      ],
      "text/markdown": [
       "1. 'jedna_1'\n",
       "2. 'dvě_1'\n",
       "3. 'tři_1'\n",
       "4. 'jedna_2'\n",
       "5. 'dvě_2'\n",
       "6. 'tři_2'\n",
       "\n",
       "\n"
      ],
      "text/plain": [
       "[1] \"jedna_1\" \"dvě_1\"   \"tři_1\"   \"jedna_2\" \"dvě_2\"   \"tři_2\"  "
      ]
     },
     "metadata": {},
     "output_type": "display_data"
    },
    {
     "data": {
      "text/html": [
       "'jedna_1'"
      ],
      "text/latex": [
       "'jedna\\_1'"
      ],
      "text/markdown": [
       "'jedna_1'"
      ],
      "text/plain": [
       "[1] \"jedna_1\""
      ]
     },
     "metadata": {},
     "output_type": "display_data"
    },
    {
     "data": {
      "text/html": [
       "'dvě_1'"
      ],
      "text/latex": [
       "'dvě\\_1'"
      ],
      "text/markdown": [
       "'dvě_1'"
      ],
      "text/plain": [
       "[1] \"dvě_1\""
      ]
     },
     "metadata": {},
     "output_type": "display_data"
    }
   ],
   "source": [
    "vektor_vektory\n",
    "vektor_vektory[1]\n",
    "vektor_vektory[2]"
   ]
  },
  {
   "cell_type": "markdown",
   "metadata": {},
   "source": [
    "Indexovat lze i vektory samotnými:"
   ]
  },
  {
   "cell_type": "code",
   "execution_count": 25,
   "metadata": {},
   "outputs": [
    {
     "data": {
      "text/html": [
       "<ol class=list-inline>\n",
       "\t<li>'jedna_1'</li>\n",
       "\t<li>'dvě_1'</li>\n",
       "\t<li>'tři_1'</li>\n",
       "\t<li>'jedna_2'</li>\n",
       "\t<li>'dvě_2'</li>\n",
       "\t<li>'tři_2'</li>\n",
       "</ol>\n"
      ],
      "text/latex": [
       "\\begin{enumerate*}\n",
       "\\item 'jedna\\_1'\n",
       "\\item 'dvě\\_1'\n",
       "\\item 'tři\\_1'\n",
       "\\item 'jedna\\_2'\n",
       "\\item 'dvě\\_2'\n",
       "\\item 'tři\\_2'\n",
       "\\end{enumerate*}\n"
      ],
      "text/markdown": [
       "1. 'jedna_1'\n",
       "2. 'dvě_1'\n",
       "3. 'tři_1'\n",
       "4. 'jedna_2'\n",
       "5. 'dvě_2'\n",
       "6. 'tři_2'\n",
       "\n",
       "\n"
      ],
      "text/plain": [
       "[1] \"jedna_1\" \"dvě_1\"   \"tři_1\"   \"jedna_2\" \"dvě_2\"   \"tři_2\"  "
      ]
     },
     "metadata": {},
     "output_type": "display_data"
    },
    {
     "data": {
      "text/html": [
       "<ol class=list-inline>\n",
       "\t<li>'jedna_1'</li>\n",
       "\t<li>'dvě_1'</li>\n",
       "\t<li>'tři_1'</li>\n",
       "</ol>\n"
      ],
      "text/latex": [
       "\\begin{enumerate*}\n",
       "\\item 'jedna\\_1'\n",
       "\\item 'dvě\\_1'\n",
       "\\item 'tři\\_1'\n",
       "\\end{enumerate*}\n"
      ],
      "text/markdown": [
       "1. 'jedna_1'\n",
       "2. 'dvě_1'\n",
       "3. 'tři_1'\n",
       "\n",
       "\n"
      ],
      "text/plain": [
       "[1] \"jedna_1\" \"dvě_1\"   \"tři_1\"  "
      ]
     },
     "metadata": {},
     "output_type": "display_data"
    },
    {
     "data": {
      "text/html": [
       "<ol class=list-inline>\n",
       "\t<li>'jedna_2'</li>\n",
       "\t<li>'dvě_2'</li>\n",
       "\t<li>'tři_2'</li>\n",
       "</ol>\n"
      ],
      "text/latex": [
       "\\begin{enumerate*}\n",
       "\\item 'jedna\\_2'\n",
       "\\item 'dvě\\_2'\n",
       "\\item 'tři\\_2'\n",
       "\\end{enumerate*}\n"
      ],
      "text/markdown": [
       "1. 'jedna_2'\n",
       "2. 'dvě_2'\n",
       "3. 'tři_2'\n",
       "\n",
       "\n"
      ],
      "text/plain": [
       "[1] \"jedna_2\" \"dvě_2\"   \"tři_2\"  "
      ]
     },
     "metadata": {},
     "output_type": "display_data"
    },
    {
     "data": {
      "text/html": [
       "<ol class=list-inline>\n",
       "\t<li>'dvě_1'</li>\n",
       "\t<li>'jedna_2'</li>\n",
       "\t<li>'tři_2'</li>\n",
       "</ol>\n"
      ],
      "text/latex": [
       "\\begin{enumerate*}\n",
       "\\item 'dvě\\_1'\n",
       "\\item 'jedna\\_2'\n",
       "\\item 'tři\\_2'\n",
       "\\end{enumerate*}\n"
      ],
      "text/markdown": [
       "1. 'dvě_1'\n",
       "2. 'jedna_2'\n",
       "3. 'tři_2'\n",
       "\n",
       "\n"
      ],
      "text/plain": [
       "[1] \"dvě_1\"   \"jedna_2\" \"tři_2\"  "
      ]
     },
     "metadata": {},
     "output_type": "display_data"
    },
    {
     "data": {
      "text/html": [
       "<ol class=list-inline>\n",
       "\t<li>'tři_1'</li>\n",
       "\t<li>'dvě_1'</li>\n",
       "\t<li>'jedna_1'</li>\n",
       "</ol>\n"
      ],
      "text/latex": [
       "\\begin{enumerate*}\n",
       "\\item 'tři\\_1'\n",
       "\\item 'dvě\\_1'\n",
       "\\item 'jedna\\_1'\n",
       "\\end{enumerate*}\n"
      ],
      "text/markdown": [
       "1. 'tři_1'\n",
       "2. 'dvě_1'\n",
       "3. 'jedna_1'\n",
       "\n",
       "\n"
      ],
      "text/plain": [
       "[1] \"tři_1\"   \"dvě_1\"   \"jedna_1\""
      ]
     },
     "metadata": {},
     "output_type": "display_data"
    }
   ],
   "source": [
    "vektor_vektory\n",
    "vektor_vektory[1:3]\n",
    "vektor_vektory[4:6]\n",
    "vektor_vektory[c(2, 4, 6)]\n",
    "vektor_vektory[c(3, 2, 1)]"
   ]
  },
  {
   "cell_type": "markdown",
   "metadata": {},
   "source": [
    "V takovém případě se položky vektoru v hranatých závorkách automaticky interpretují jako indexy a výsledkem je opět vektor. Ten se skládá z objektů, které odpovídají indexům v původním vektoru a to v takovém pořadí, v jakém byly uvedeny dané indexy.\n",
    "\n",
    "Dokonce můžete použít i negativní indexy, které naopak slouží k odstranění elementů z výstupu:"
   ]
  },
  {
   "cell_type": "code",
   "execution_count": 26,
   "metadata": {},
   "outputs": [
    {
     "data": {
      "text/html": [
       "<ol class=list-inline>\n",
       "\t<li>'jedna_2'</li>\n",
       "\t<li>'dvě_2'</li>\n",
       "\t<li>'tři_2'</li>\n",
       "</ol>\n"
      ],
      "text/latex": [
       "\\begin{enumerate*}\n",
       "\\item 'jedna\\_2'\n",
       "\\item 'dvě\\_2'\n",
       "\\item 'tři\\_2'\n",
       "\\end{enumerate*}\n"
      ],
      "text/markdown": [
       "1. 'jedna_2'\n",
       "2. 'dvě_2'\n",
       "3. 'tři_2'\n",
       "\n",
       "\n"
      ],
      "text/plain": [
       "[1] \"jedna_2\" \"dvě_2\"   \"tři_2\"  "
      ]
     },
     "metadata": {},
     "output_type": "display_data"
    },
    {
     "data": {
      "text/html": [
       "<ol class=list-inline>\n",
       "\t<li>'dvě_1'</li>\n",
       "\t<li>'tři_1'</li>\n",
       "\t<li>'dvě_2'</li>\n",
       "\t<li>'tři_2'</li>\n",
       "</ol>\n"
      ],
      "text/latex": [
       "\\begin{enumerate*}\n",
       "\\item 'dvě\\_1'\n",
       "\\item 'tři\\_1'\n",
       "\\item 'dvě\\_2'\n",
       "\\item 'tři\\_2'\n",
       "\\end{enumerate*}\n"
      ],
      "text/markdown": [
       "1. 'dvě_1'\n",
       "2. 'tři_1'\n",
       "3. 'dvě_2'\n",
       "4. 'tři_2'\n",
       "\n",
       "\n"
      ],
      "text/plain": [
       "[1] \"dvě_1\" \"tři_1\" \"dvě_2\" \"tři_2\""
      ]
     },
     "metadata": {},
     "output_type": "display_data"
    }
   ],
   "source": [
    "vektor_vektory[-1:-3]\n",
    "vektor_vektory[c(-1, -4)]"
   ]
  },
  {
   "cell_type": "markdown",
   "metadata": {},
   "source": [
    "Indexovat je možné i pomocí vektorů s logickými hodnotami:"
   ]
  },
  {
   "cell_type": "code",
   "execution_count": 27,
   "metadata": {},
   "outputs": [
    {
     "data": {
      "text/html": [
       "<ol class=list-inline>\n",
       "\t<li>'jedna_1'</li>\n",
       "\t<li>'dvě_1'</li>\n",
       "\t<li>'tři_1'</li>\n",
       "</ol>\n"
      ],
      "text/latex": [
       "\\begin{enumerate*}\n",
       "\\item 'jedna\\_1'\n",
       "\\item 'dvě\\_1'\n",
       "\\item 'tři\\_1'\n",
       "\\end{enumerate*}\n"
      ],
      "text/markdown": [
       "1. 'jedna_1'\n",
       "2. 'dvě_1'\n",
       "3. 'tři_1'\n",
       "\n",
       "\n"
      ],
      "text/plain": [
       "[1] \"jedna_1\" \"dvě_1\"   \"tři_1\"  "
      ]
     },
     "metadata": {},
     "output_type": "display_data"
    }
   ],
   "source": [
    "maska <- c(T, T, T, F, F, F)\n",
    "vektor_vektory[maska]"
   ]
  },
  {
   "cell_type": "markdown",
   "metadata": {},
   "source": [
    "Zde vám program vrátí pouze ty položky, pro které je v tzv. masce, jak se často tyto vektory nazývají, logická hodnota `TRUE`.\n",
    "\n",
    "#### Operace s vektory\n",
    "\n",
    "Na vektory lze bez problémů aplikovat i aritmetické operátory:"
   ]
  },
  {
   "cell_type": "code",
   "execution_count": 28,
   "metadata": {},
   "outputs": [
    {
     "data": {
      "text/html": [
       "<ol class=list-inline>\n",
       "\t<li>1</li>\n",
       "\t<li>2</li>\n",
       "\t<li>3</li>\n",
       "\t<li>4</li>\n",
       "\t<li>5</li>\n",
       "\t<li>6</li>\n",
       "\t<li>7</li>\n",
       "\t<li>8</li>\n",
       "\t<li>9</li>\n",
       "\t<li>10</li>\n",
       "</ol>\n"
      ],
      "text/latex": [
       "\\begin{enumerate*}\n",
       "\\item 1\n",
       "\\item 2\n",
       "\\item 3\n",
       "\\item 4\n",
       "\\item 5\n",
       "\\item 6\n",
       "\\item 7\n",
       "\\item 8\n",
       "\\item 9\n",
       "\\item 10\n",
       "\\end{enumerate*}\n"
      ],
      "text/markdown": [
       "1. 1\n",
       "2. 2\n",
       "3. 3\n",
       "4. 4\n",
       "5. 5\n",
       "6. 6\n",
       "7. 7\n",
       "8. 8\n",
       "9. 9\n",
       "10. 10\n",
       "\n",
       "\n"
      ],
      "text/plain": [
       " [1]  1  2  3  4  5  6  7  8  9 10"
      ]
     },
     "metadata": {},
     "output_type": "display_data"
    },
    {
     "data": {
      "text/html": [
       "<ol class=list-inline>\n",
       "\t<li>-5</li>\n",
       "\t<li>-4</li>\n",
       "\t<li>-3</li>\n",
       "\t<li>-2</li>\n",
       "\t<li>-1</li>\n",
       "\t<li>0</li>\n",
       "\t<li>1</li>\n",
       "\t<li>2</li>\n",
       "\t<li>3</li>\n",
       "\t<li>4</li>\n",
       "</ol>\n"
      ],
      "text/latex": [
       "\\begin{enumerate*}\n",
       "\\item -5\n",
       "\\item -4\n",
       "\\item -3\n",
       "\\item -2\n",
       "\\item -1\n",
       "\\item 0\n",
       "\\item 1\n",
       "\\item 2\n",
       "\\item 3\n",
       "\\item 4\n",
       "\\end{enumerate*}\n"
      ],
      "text/markdown": [
       "1. -5\n",
       "2. -4\n",
       "3. -3\n",
       "4. -2\n",
       "5. -1\n",
       "6. 0\n",
       "7. 1\n",
       "8. 2\n",
       "9. 3\n",
       "10. 4\n",
       "\n",
       "\n"
      ],
      "text/plain": [
       " [1] -5 -4 -3 -2 -1  0  1  2  3  4"
      ]
     },
     "metadata": {},
     "output_type": "display_data"
    },
    {
     "data": {
      "text/html": [
       "<ol class=list-inline>\n",
       "\t<li>2</li>\n",
       "\t<li>4</li>\n",
       "\t<li>6</li>\n",
       "\t<li>8</li>\n",
       "\t<li>10</li>\n",
       "\t<li>12</li>\n",
       "\t<li>14</li>\n",
       "\t<li>16</li>\n",
       "\t<li>18</li>\n",
       "\t<li>20</li>\n",
       "</ol>\n"
      ],
      "text/latex": [
       "\\begin{enumerate*}\n",
       "\\item 2\n",
       "\\item 4\n",
       "\\item 6\n",
       "\\item 8\n",
       "\\item 10\n",
       "\\item 12\n",
       "\\item 14\n",
       "\\item 16\n",
       "\\item 18\n",
       "\\item 20\n",
       "\\end{enumerate*}\n"
      ],
      "text/markdown": [
       "1. 2\n",
       "2. 4\n",
       "3. 6\n",
       "4. 8\n",
       "5. 10\n",
       "6. 12\n",
       "7. 14\n",
       "8. 16\n",
       "9. 18\n",
       "10. 20\n",
       "\n",
       "\n"
      ],
      "text/plain": [
       " [1]  2  4  6  8 10 12 14 16 18 20"
      ]
     },
     "metadata": {},
     "output_type": "display_data"
    },
    {
     "data": {
      "text/html": [
       "<ol class=list-inline>\n",
       "\t<li>0</li>\n",
       "\t<li>1</li>\n",
       "\t<li>1</li>\n",
       "\t<li>2</li>\n",
       "\t<li>2</li>\n",
       "\t<li>3</li>\n",
       "\t<li>3</li>\n",
       "\t<li>4</li>\n",
       "\t<li>4</li>\n",
       "\t<li>5</li>\n",
       "</ol>\n"
      ],
      "text/latex": [
       "\\begin{enumerate*}\n",
       "\\item 0\n",
       "\\item 1\n",
       "\\item 1\n",
       "\\item 2\n",
       "\\item 2\n",
       "\\item 3\n",
       "\\item 3\n",
       "\\item 4\n",
       "\\item 4\n",
       "\\item 5\n",
       "\\end{enumerate*}\n"
      ],
      "text/markdown": [
       "1. 0\n",
       "2. 1\n",
       "3. 1\n",
       "4. 2\n",
       "5. 2\n",
       "6. 3\n",
       "7. 3\n",
       "8. 4\n",
       "9. 4\n",
       "10. 5\n",
       "\n",
       "\n"
      ],
      "text/plain": [
       " [1] 0 1 1 2 2 3 3 4 4 5"
      ]
     },
     "metadata": {},
     "output_type": "display_data"
    },
    {
     "data": {
      "text/html": [
       "<ol class=list-inline>\n",
       "\t<li>1</li>\n",
       "\t<li>4</li>\n",
       "\t<li>9</li>\n",
       "\t<li>16</li>\n",
       "\t<li>25</li>\n",
       "\t<li>36</li>\n",
       "\t<li>49</li>\n",
       "\t<li>64</li>\n",
       "\t<li>81</li>\n",
       "\t<li>100</li>\n",
       "</ol>\n"
      ],
      "text/latex": [
       "\\begin{enumerate*}\n",
       "\\item 1\n",
       "\\item 4\n",
       "\\item 9\n",
       "\\item 16\n",
       "\\item 25\n",
       "\\item 36\n",
       "\\item 49\n",
       "\\item 64\n",
       "\\item 81\n",
       "\\item 100\n",
       "\\end{enumerate*}\n"
      ],
      "text/markdown": [
       "1. 1\n",
       "2. 4\n",
       "3. 9\n",
       "4. 16\n",
       "5. 25\n",
       "6. 36\n",
       "7. 49\n",
       "8. 64\n",
       "9. 81\n",
       "10. 100\n",
       "\n",
       "\n"
      ],
      "text/plain": [
       " [1]   1   4   9  16  25  36  49  64  81 100"
      ]
     },
     "metadata": {},
     "output_type": "display_data"
    },
    {
     "data": {
      "text/html": [
       "<ol class=list-inline>\n",
       "\t<li>2</li>\n",
       "\t<li>4</li>\n",
       "\t<li>4</li>\n",
       "\t<li>6</li>\n",
       "\t<li>6</li>\n",
       "\t<li>8</li>\n",
       "\t<li>8</li>\n",
       "\t<li>10</li>\n",
       "\t<li>10</li>\n",
       "\t<li>12</li>\n",
       "</ol>\n"
      ],
      "text/latex": [
       "\\begin{enumerate*}\n",
       "\\item 2\n",
       "\\item 4\n",
       "\\item 4\n",
       "\\item 6\n",
       "\\item 6\n",
       "\\item 8\n",
       "\\item 8\n",
       "\\item 10\n",
       "\\item 10\n",
       "\\item 12\n",
       "\\end{enumerate*}\n"
      ],
      "text/markdown": [
       "1. 2\n",
       "2. 4\n",
       "3. 4\n",
       "4. 6\n",
       "5. 6\n",
       "6. 8\n",
       "7. 8\n",
       "8. 10\n",
       "9. 10\n",
       "10. 12\n",
       "\n",
       "\n"
      ],
      "text/plain": [
       " [1]  2  4  4  6  6  8  8 10 10 12"
      ]
     },
     "metadata": {},
     "output_type": "display_data"
    },
    {
     "name": "stderr",
     "output_type": "stream",
     "text": [
      "Warning message in vektor_čísla + c(1, 2, 3):\n",
      "“longer object length is not a multiple of shorter object length”"
     ]
    },
    {
     "data": {
      "text/html": [
       "<ol class=list-inline>\n",
       "\t<li>2</li>\n",
       "\t<li>4</li>\n",
       "\t<li>6</li>\n",
       "\t<li>5</li>\n",
       "\t<li>7</li>\n",
       "\t<li>9</li>\n",
       "\t<li>8</li>\n",
       "\t<li>10</li>\n",
       "\t<li>12</li>\n",
       "\t<li>11</li>\n",
       "</ol>\n"
      ],
      "text/latex": [
       "\\begin{enumerate*}\n",
       "\\item 2\n",
       "\\item 4\n",
       "\\item 6\n",
       "\\item 5\n",
       "\\item 7\n",
       "\\item 9\n",
       "\\item 8\n",
       "\\item 10\n",
       "\\item 12\n",
       "\\item 11\n",
       "\\end{enumerate*}\n"
      ],
      "text/markdown": [
       "1. 2\n",
       "2. 4\n",
       "3. 6\n",
       "4. 5\n",
       "5. 7\n",
       "6. 9\n",
       "7. 8\n",
       "8. 10\n",
       "9. 12\n",
       "10. 11\n",
       "\n",
       "\n"
      ],
      "text/plain": [
       " [1]  2  4  6  5  7  9  8 10 12 11"
      ]
     },
     "metadata": {},
     "output_type": "display_data"
    }
   ],
   "source": [
    "vektor_čísla\n",
    "vektor_čísla - 6\n",
    "2 * vektor_čísla\n",
    "vektor_čísla %/% 2\n",
    "vektor_čísla * vektor_čísla\n",
    "vektor_čísla + c(1, 2) # vektory nemusí být stejně dlouhé (hodnoty menšího se recyklují poděl delšího)\n",
    "vektor_čísla + c(1, 2, 3) # ale pokud se délka většího vektoru nerovná násobku délky menšího, dostaneme varování"
   ]
  },
  {
   "cell_type": "markdown",
   "metadata": {},
   "source": [
    "Všimněte si, že vektory nemusí mít stejnou délku a operace mezi nimi stále proběhnou. V R totiž existuje koncept tzv. recyklování (recycling), kde se prvky kratšího vektoru začnou znovu opakovat, pokud je to nutné.\n",
    "\n",
    "Vektory lze též porovnávat. Výsledkem je potom logický vektor, který vyjadřuje výsledky jednotlivých porovnání:"
   ]
  },
  {
   "cell_type": "code",
   "execution_count": 29,
   "metadata": {},
   "outputs": [
    {
     "data": {
      "text/html": [
       "<ol class=list-inline>\n",
       "\t<li>FALSE</li>\n",
       "\t<li>TRUE</li>\n",
       "</ol>\n"
      ],
      "text/latex": [
       "\\begin{enumerate*}\n",
       "\\item FALSE\n",
       "\\item TRUE\n",
       "\\end{enumerate*}\n"
      ],
      "text/markdown": [
       "1. FALSE\n",
       "2. TRUE\n",
       "\n",
       "\n"
      ],
      "text/plain": [
       "[1] FALSE  TRUE"
      ]
     },
     "metadata": {},
     "output_type": "display_data"
    },
    {
     "data": {
      "text/html": [
       "<ol class=list-inline>\n",
       "\t<li>TRUE</li>\n",
       "\t<li>FALSE</li>\n",
       "\t<li>TRUE</li>\n",
       "</ol>\n"
      ],
      "text/latex": [
       "\\begin{enumerate*}\n",
       "\\item TRUE\n",
       "\\item FALSE\n",
       "\\item TRUE\n",
       "\\end{enumerate*}\n"
      ],
      "text/markdown": [
       "1. TRUE\n",
       "2. FALSE\n",
       "3. TRUE\n",
       "\n",
       "\n"
      ],
      "text/plain": [
       "[1]  TRUE FALSE  TRUE"
      ]
     },
     "metadata": {},
     "output_type": "display_data"
    },
    {
     "data": {
      "text/html": [
       "<ol class=list-inline>\n",
       "\t<li>TRUE</li>\n",
       "\t<li>FALSE</li>\n",
       "</ol>\n"
      ],
      "text/latex": [
       "\\begin{enumerate*}\n",
       "\\item TRUE\n",
       "\\item FALSE\n",
       "\\end{enumerate*}\n"
      ],
      "text/markdown": [
       "1. TRUE\n",
       "2. FALSE\n",
       "\n",
       "\n"
      ],
      "text/plain": [
       "[1]  TRUE FALSE"
      ]
     },
     "metadata": {},
     "output_type": "display_data"
    }
   ],
   "source": [
    "c(1, 3) > c(1, 2)\n",
    "c(1, 3, 4) == c(1, 2, 4)\n",
    "c(\"Robert\", \"Alena\") > c(\"Radek\", \"Marta\")"
   ]
  },
  {
   "cell_type": "markdown",
   "metadata": {},
   "source": [
    "S logickými vektory též souvisí funkce `any` a `all`:"
   ]
  },
  {
   "cell_type": "code",
   "execution_count": 30,
   "metadata": {},
   "outputs": [
    {
     "data": {
      "text/html": [
       "TRUE"
      ],
      "text/latex": [
       "TRUE"
      ],
      "text/markdown": [
       "TRUE"
      ],
      "text/plain": [
       "[1] TRUE"
      ]
     },
     "metadata": {},
     "output_type": "display_data"
    },
    {
     "data": {
      "text/html": [
       "FALSE"
      ],
      "text/latex": [
       "FALSE"
      ],
      "text/markdown": [
       "FALSE"
      ],
      "text/plain": [
       "[1] FALSE"
      ]
     },
     "metadata": {},
     "output_type": "display_data"
    }
   ],
   "source": [
    "log_vektor <- c(T, F, F)\n",
    "any(log_vektor)\n",
    "all(log_vektor)"
   ]
  },
  {
   "cell_type": "code",
   "execution_count": 31,
   "metadata": {},
   "outputs": [
    {
     "data": {
      "text/html": [
       "TRUE"
      ],
      "text/latex": [
       "TRUE"
      ],
      "text/markdown": [
       "TRUE"
      ],
      "text/plain": [
       "[1] TRUE"
      ]
     },
     "metadata": {},
     "output_type": "display_data"
    },
    {
     "data": {
      "text/html": [
       "TRUE"
      ],
      "text/latex": [
       "TRUE"
      ],
      "text/markdown": [
       "TRUE"
      ],
      "text/plain": [
       "[1] TRUE"
      ]
     },
     "metadata": {},
     "output_type": "display_data"
    }
   ],
   "source": [
    "log_vektor_true <- c(T, T, T)\n",
    "any(log_vektor_true)\n",
    "all(log_vektor_true)"
   ]
  },
  {
   "cell_type": "code",
   "execution_count": 32,
   "metadata": {},
   "outputs": [
    {
     "data": {
      "text/html": [
       "FALSE"
      ],
      "text/latex": [
       "FALSE"
      ],
      "text/markdown": [
       "FALSE"
      ],
      "text/plain": [
       "[1] FALSE"
      ]
     },
     "metadata": {},
     "output_type": "display_data"
    },
    {
     "data": {
      "text/html": [
       "FALSE"
      ],
      "text/latex": [
       "FALSE"
      ],
      "text/markdown": [
       "FALSE"
      ],
      "text/plain": [
       "[1] FALSE"
      ]
     },
     "metadata": {},
     "output_type": "display_data"
    }
   ],
   "source": [
    "log_vektor_false <- c(F, F, F)\n",
    "any(log_vektor_false)\n",
    "all(log_vektor_false)"
   ]
  },
  {
   "cell_type": "markdown",
   "metadata": {},
   "source": [
    "Tyto funkce vám tedy řeknou, zda se ve vektoru nachází alespoň jedno `FALSE` (`all`) nebo alespoň jedno `TRUE` (`any`). To se hodí, neboť pokud vás zajímá pouze toto, nemusíte procházet celý vektor.\n",
    "\n",
    "Logické vektory je možné kombinovat na základě jejich hodnot pomocí operátorů `&` a `|`:"
   ]
  },
  {
   "cell_type": "code",
   "execution_count": 33,
   "metadata": {},
   "outputs": [
    {
     "data": {
      "text/html": [
       "<ol class=list-inline>\n",
       "\t<li>TRUE</li>\n",
       "\t<li>TRUE</li>\n",
       "\t<li>TRUE</li>\n",
       "\t<li>FALSE</li>\n",
       "\t<li>FALSE</li>\n",
       "\t<li>FALSE</li>\n",
       "</ol>\n"
      ],
      "text/latex": [
       "\\begin{enumerate*}\n",
       "\\item TRUE\n",
       "\\item TRUE\n",
       "\\item TRUE\n",
       "\\item FALSE\n",
       "\\item FALSE\n",
       "\\item FALSE\n",
       "\\end{enumerate*}\n"
      ],
      "text/markdown": [
       "1. TRUE\n",
       "2. TRUE\n",
       "3. TRUE\n",
       "4. FALSE\n",
       "5. FALSE\n",
       "6. FALSE\n",
       "\n",
       "\n"
      ],
      "text/plain": [
       "[1]  TRUE  TRUE  TRUE FALSE FALSE FALSE"
      ]
     },
     "metadata": {},
     "output_type": "display_data"
    },
    {
     "data": {
      "text/html": [
       "<ol class=list-inline>\n",
       "\t<li>TRUE</li>\n",
       "\t<li>TRUE</li>\n",
       "\t<li>TRUE</li>\n",
       "\t<li>TRUE</li>\n",
       "\t<li>TRUE</li>\n",
       "\t<li>TRUE</li>\n",
       "</ol>\n"
      ],
      "text/latex": [
       "\\begin{enumerate*}\n",
       "\\item TRUE\n",
       "\\item TRUE\n",
       "\\item TRUE\n",
       "\\item TRUE\n",
       "\\item TRUE\n",
       "\\item TRUE\n",
       "\\end{enumerate*}\n"
      ],
      "text/markdown": [
       "1. TRUE\n",
       "2. TRUE\n",
       "3. TRUE\n",
       "4. TRUE\n",
       "5. TRUE\n",
       "6. TRUE\n",
       "\n",
       "\n"
      ],
      "text/plain": [
       "[1] TRUE TRUE TRUE TRUE TRUE TRUE"
      ]
     },
     "metadata": {},
     "output_type": "display_data"
    },
    {
     "data": {
      "text/html": [
       "<ol class=list-inline>\n",
       "\t<li>FALSE</li>\n",
       "\t<li>FALSE</li>\n",
       "\t<li>FALSE</li>\n",
       "\t<li>FALSE</li>\n",
       "\t<li>FALSE</li>\n",
       "\t<li>FALSE</li>\n",
       "</ol>\n"
      ],
      "text/latex": [
       "\\begin{enumerate*}\n",
       "\\item FALSE\n",
       "\\item FALSE\n",
       "\\item FALSE\n",
       "\\item FALSE\n",
       "\\item FALSE\n",
       "\\item FALSE\n",
       "\\end{enumerate*}\n"
      ],
      "text/markdown": [
       "1. FALSE\n",
       "2. FALSE\n",
       "3. FALSE\n",
       "4. FALSE\n",
       "5. FALSE\n",
       "6. FALSE\n",
       "\n",
       "\n"
      ],
      "text/plain": [
       "[1] FALSE FALSE FALSE FALSE FALSE FALSE"
      ]
     },
     "metadata": {},
     "output_type": "display_data"
    },
    {
     "data": {
      "text/html": [
       "<ol class=list-inline>\n",
       "\t<li>TRUE</li>\n",
       "\t<li>FALSE</li>\n",
       "\t<li>TRUE</li>\n",
       "\t<li>FALSE</li>\n",
       "\t<li>FALSE</li>\n",
       "\t<li>FALSE</li>\n",
       "</ol>\n"
      ],
      "text/latex": [
       "\\begin{enumerate*}\n",
       "\\item TRUE\n",
       "\\item FALSE\n",
       "\\item TRUE\n",
       "\\item FALSE\n",
       "\\item FALSE\n",
       "\\item FALSE\n",
       "\\end{enumerate*}\n"
      ],
      "text/markdown": [
       "1. TRUE\n",
       "2. FALSE\n",
       "3. TRUE\n",
       "4. FALSE\n",
       "5. FALSE\n",
       "6. FALSE\n",
       "\n",
       "\n"
      ],
      "text/plain": [
       "[1]  TRUE FALSE  TRUE FALSE FALSE FALSE"
      ]
     },
     "metadata": {},
     "output_type": "display_data"
    }
   ],
   "source": [
    "maska\n",
    "maska | c(F, F, F, T, T, T) # or\n",
    "maska & c(F, F, F, T, T, T) # and\n",
    "maska & c(T, F) # i zde funguje recyklace"
   ]
  },
  {
   "cell_type": "markdown",
   "metadata": {},
   "source": [
    "Zde je třeba upozornit na rozdíl operátorů `&` a `|` oproti operátorům `&&` a `||`. Zdvojené verze operátorů totiž porovnávají pouze první element vektoru zatímco ty obyčejné porovnají každý element zvlášť:"
   ]
  },
  {
   "cell_type": "code",
   "execution_count": 34,
   "metadata": {},
   "outputs": [
    {
     "data": {
      "text/html": [
       "FALSE"
      ],
      "text/latex": [
       "FALSE"
      ],
      "text/markdown": [
       "FALSE"
      ],
      "text/plain": [
       "[1] FALSE"
      ]
     },
     "metadata": {},
     "output_type": "display_data"
    },
    {
     "data": {
      "text/html": [
       "FALSE"
      ],
      "text/latex": [
       "FALSE"
      ],
      "text/markdown": [
       "FALSE"
      ],
      "text/plain": [
       "[1] FALSE"
      ]
     },
     "metadata": {},
     "output_type": "display_data"
    },
    {
     "data": {
      "text/html": [
       "<ol class=list-inline>\n",
       "\t<li>FALSE</li>\n",
       "\t<li>TRUE</li>\n",
       "\t<li>TRUE</li>\n",
       "</ol>\n"
      ],
      "text/latex": [
       "\\begin{enumerate*}\n",
       "\\item FALSE\n",
       "\\item TRUE\n",
       "\\item TRUE\n",
       "\\end{enumerate*}\n"
      ],
      "text/markdown": [
       "1. FALSE\n",
       "2. TRUE\n",
       "3. TRUE\n",
       "\n",
       "\n"
      ],
      "text/plain": [
       "[1] FALSE  TRUE  TRUE"
      ]
     },
     "metadata": {},
     "output_type": "display_data"
    }
   ],
   "source": [
    "c(T, T, T) && c(F, T, T)\n",
    "c(F, F, T) || c(F, T, T)\n",
    "c(T, T, T) & c(F, T, T)"
   ]
  },
  {
   "cell_type": "markdown",
   "metadata": {},
   "source": [
    "Logické vektory se hodí, pokud potřebujete vybrat hodnoty na základě určitých kritérií:"
   ]
  },
  {
   "cell_type": "code",
   "execution_count": 35,
   "metadata": {},
   "outputs": [
    {
     "data": {
      "text/html": [
       "<ol class=list-inline>\n",
       "\t<li>1</li>\n",
       "\t<li>2</li>\n",
       "\t<li>3</li>\n",
       "\t<li>4</li>\n",
       "\t<li>5</li>\n",
       "\t<li>6</li>\n",
       "\t<li>7</li>\n",
       "\t<li>8</li>\n",
       "\t<li>9</li>\n",
       "\t<li>10</li>\n",
       "</ol>\n"
      ],
      "text/latex": [
       "\\begin{enumerate*}\n",
       "\\item 1\n",
       "\\item 2\n",
       "\\item 3\n",
       "\\item 4\n",
       "\\item 5\n",
       "\\item 6\n",
       "\\item 7\n",
       "\\item 8\n",
       "\\item 9\n",
       "\\item 10\n",
       "\\end{enumerate*}\n"
      ],
      "text/markdown": [
       "1. 1\n",
       "2. 2\n",
       "3. 3\n",
       "4. 4\n",
       "5. 5\n",
       "6. 6\n",
       "7. 7\n",
       "8. 8\n",
       "9. 9\n",
       "10. 10\n",
       "\n",
       "\n"
      ],
      "text/plain": [
       " [1]  1  2  3  4  5  6  7  8  9 10"
      ]
     },
     "metadata": {},
     "output_type": "display_data"
    },
    {
     "data": {
      "text/html": [
       "<ol class=list-inline>\n",
       "\t<li>6</li>\n",
       "\t<li>7</li>\n",
       "\t<li>8</li>\n",
       "</ol>\n"
      ],
      "text/latex": [
       "\\begin{enumerate*}\n",
       "\\item 6\n",
       "\\item 7\n",
       "\\item 8\n",
       "\\end{enumerate*}\n"
      ],
      "text/markdown": [
       "1. 6\n",
       "2. 7\n",
       "3. 8\n",
       "\n",
       "\n"
      ],
      "text/plain": [
       "[1] 6 7 8"
      ]
     },
     "metadata": {},
     "output_type": "display_data"
    }
   ],
   "source": [
    "vektor_čísla\n",
    "vektor_čísla[(vektor_čísla > 5) & (vektor_čísla < 9)]"
   ]
  },
  {
   "cell_type": "markdown",
   "metadata": {},
   "source": [
    "Pokud nás při podobném filtrování pomocí masek (logických vektorů) nezajímají data jako taková, ale pouze indexy hodnot, lze použít funkci `which`. Tato funkce akceptuje logický vektor a zpět nám vrátí indexy, pro které je v něm specifikováno `TRUE`. Můžete se například takto zeptat na pořadí určitých písmen v abecedě:"
   ]
  },
  {
   "cell_type": "code",
   "execution_count": 36,
   "metadata": {},
   "outputs": [
    {
     "data": {
      "text/html": [
       "<ol class=list-inline>\n",
       "\t<li>'a'</li>\n",
       "\t<li>'b'</li>\n",
       "\t<li>'c'</li>\n",
       "\t<li>'d'</li>\n",
       "\t<li>'e'</li>\n",
       "\t<li>'f'</li>\n",
       "\t<li>'g'</li>\n",
       "\t<li>'h'</li>\n",
       "\t<li>'i'</li>\n",
       "\t<li>'j'</li>\n",
       "\t<li>'k'</li>\n",
       "\t<li>'l'</li>\n",
       "\t<li>'m'</li>\n",
       "\t<li>'n'</li>\n",
       "\t<li>'o'</li>\n",
       "\t<li>'p'</li>\n",
       "\t<li>'q'</li>\n",
       "\t<li>'r'</li>\n",
       "\t<li>'s'</li>\n",
       "\t<li>'t'</li>\n",
       "\t<li>'u'</li>\n",
       "\t<li>'v'</li>\n",
       "\t<li>'w'</li>\n",
       "\t<li>'x'</li>\n",
       "\t<li>'y'</li>\n",
       "\t<li>'z'</li>\n",
       "</ol>\n"
      ],
      "text/latex": [
       "\\begin{enumerate*}\n",
       "\\item 'a'\n",
       "\\item 'b'\n",
       "\\item 'c'\n",
       "\\item 'd'\n",
       "\\item 'e'\n",
       "\\item 'f'\n",
       "\\item 'g'\n",
       "\\item 'h'\n",
       "\\item 'i'\n",
       "\\item 'j'\n",
       "\\item 'k'\n",
       "\\item 'l'\n",
       "\\item 'm'\n",
       "\\item 'n'\n",
       "\\item 'o'\n",
       "\\item 'p'\n",
       "\\item 'q'\n",
       "\\item 'r'\n",
       "\\item 's'\n",
       "\\item 't'\n",
       "\\item 'u'\n",
       "\\item 'v'\n",
       "\\item 'w'\n",
       "\\item 'x'\n",
       "\\item 'y'\n",
       "\\item 'z'\n",
       "\\end{enumerate*}\n"
      ],
      "text/markdown": [
       "1. 'a'\n",
       "2. 'b'\n",
       "3. 'c'\n",
       "4. 'd'\n",
       "5. 'e'\n",
       "6. 'f'\n",
       "7. 'g'\n",
       "8. 'h'\n",
       "9. 'i'\n",
       "10. 'j'\n",
       "11. 'k'\n",
       "12. 'l'\n",
       "13. 'm'\n",
       "14. 'n'\n",
       "15. 'o'\n",
       "16. 'p'\n",
       "17. 'q'\n",
       "18. 'r'\n",
       "19. 's'\n",
       "20. 't'\n",
       "21. 'u'\n",
       "22. 'v'\n",
       "23. 'w'\n",
       "24. 'x'\n",
       "25. 'y'\n",
       "26. 'z'\n",
       "\n",
       "\n"
      ],
      "text/plain": [
       " [1] \"a\" \"b\" \"c\" \"d\" \"e\" \"f\" \"g\" \"h\" \"i\" \"j\" \"k\" \"l\" \"m\" \"n\" \"o\" \"p\" \"q\" \"r\" \"s\"\n",
       "[20] \"t\" \"u\" \"v\" \"w\" \"x\" \"y\" \"z\""
      ]
     },
     "metadata": {},
     "output_type": "display_data"
    },
    {
     "data": {
      "text/html": [
       "<ol class=list-inline>\n",
       "\t<li>1</li>\n",
       "\t<li>3</li>\n",
       "\t<li>5</li>\n",
       "</ol>\n"
      ],
      "text/latex": [
       "\\begin{enumerate*}\n",
       "\\item 1\n",
       "\\item 3\n",
       "\\item 5\n",
       "\\end{enumerate*}\n"
      ],
      "text/markdown": [
       "1. 1\n",
       "2. 3\n",
       "3. 5\n",
       "\n",
       "\n"
      ],
      "text/plain": [
       "[1] 1 3 5"
      ]
     },
     "metadata": {},
     "output_type": "display_data"
    },
    {
     "data": {
      "text/html": [
       "<ol class=list-inline>\n",
       "\t<li>'a'</li>\n",
       "\t<li>'c'</li>\n",
       "\t<li>'e'</li>\n",
       "</ol>\n"
      ],
      "text/latex": [
       "\\begin{enumerate*}\n",
       "\\item 'a'\n",
       "\\item 'c'\n",
       "\\item 'e'\n",
       "\\end{enumerate*}\n"
      ],
      "text/markdown": [
       "1. 'a'\n",
       "2. 'c'\n",
       "3. 'e'\n",
       "\n",
       "\n"
      ],
      "text/plain": [
       "[1] \"a\" \"c\" \"e\""
      ]
     },
     "metadata": {},
     "output_type": "display_data"
    }
   ],
   "source": [
    "letters # tato proměnná je vždy dostupna a obsahuje anglickou abecedu\n",
    "indexy <- which(letters == 'a' | letters == 'c' | letters == 'e')\n",
    "indexy\n",
    "letters[indexy]"
   ]
  },
  {
   "cell_type": "markdown",
   "metadata": {},
   "source": [
    "Další užitečnou věcí, která se týká nejen vektorů ale v podstatě všech datových struktur je operátor `%in%`, pomocí kterého můžete snadno zjistit, zda se daný prvek ve vektoru nachází nebo ne:"
   ]
  },
  {
   "cell_type": "code",
   "execution_count": 37,
   "metadata": {},
   "outputs": [
    {
     "data": {
      "text/html": [
       "TRUE"
      ],
      "text/latex": [
       "TRUE"
      ],
      "text/markdown": [
       "TRUE"
      ],
      "text/plain": [
       "[1] TRUE"
      ]
     },
     "metadata": {},
     "output_type": "display_data"
    },
    {
     "data": {
      "text/html": [
       "FALSE"
      ],
      "text/latex": [
       "FALSE"
      ],
      "text/markdown": [
       "FALSE"
      ],
      "text/plain": [
       "[1] FALSE"
      ]
     },
     "metadata": {},
     "output_type": "display_data"
    }
   ],
   "source": [
    "1 %in% vektor_čísla\n",
    "0 %in% vektor_čísla"
   ]
  },
  {
   "cell_type": "markdown",
   "metadata": {},
   "source": [
    "Na levé straně nemusí být nutně atomická hodnota:"
   ]
  },
  {
   "cell_type": "code",
   "execution_count": 38,
   "metadata": {},
   "outputs": [
    {
     "data": {
      "text/html": [
       "<ol class=list-inline>\n",
       "\t<li>FALSE</li>\n",
       "\t<li>FALSE</li>\n",
       "\t<li>FALSE</li>\n",
       "\t<li>FALSE</li>\n",
       "\t<li>TRUE</li>\n",
       "\t<li>TRUE</li>\n",
       "\t<li>TRUE</li>\n",
       "\t<li>FALSE</li>\n",
       "\t<li>FALSE</li>\n",
       "\t<li>FALSE</li>\n",
       "</ol>\n"
      ],
      "text/latex": [
       "\\begin{enumerate*}\n",
       "\\item FALSE\n",
       "\\item FALSE\n",
       "\\item FALSE\n",
       "\\item FALSE\n",
       "\\item TRUE\n",
       "\\item TRUE\n",
       "\\item TRUE\n",
       "\\item FALSE\n",
       "\\item FALSE\n",
       "\\item FALSE\n",
       "\\end{enumerate*}\n"
      ],
      "text/markdown": [
       "1. FALSE\n",
       "2. FALSE\n",
       "3. FALSE\n",
       "4. FALSE\n",
       "5. TRUE\n",
       "6. TRUE\n",
       "7. TRUE\n",
       "8. FALSE\n",
       "9. FALSE\n",
       "10. FALSE\n",
       "\n",
       "\n"
      ],
      "text/plain": [
       " [1] FALSE FALSE FALSE FALSE  TRUE  TRUE  TRUE FALSE FALSE FALSE"
      ]
     },
     "metadata": {},
     "output_type": "display_data"
    }
   ],
   "source": [
    "vektor_čísla %in% c(5, 6, 7)"
   ]
  },
  {
   "cell_type": "markdown",
   "metadata": {},
   "source": [
    "V takovém případě se operátor postupně aplikuje na každý prvek struktury na levé straně a výsledkem je vektor pravdivostních hodnot odpovídajících výsledkům jednotlivých operací. Toto se tedy opět může hodit při filtrování:"
   ]
  },
  {
   "cell_type": "code",
   "execution_count": 39,
   "metadata": {},
   "outputs": [
    {
     "data": {
      "text/html": [
       "<ol class=list-inline>\n",
       "\t<li>5</li>\n",
       "\t<li>6</li>\n",
       "\t<li>7</li>\n",
       "</ol>\n"
      ],
      "text/latex": [
       "\\begin{enumerate*}\n",
       "\\item 5\n",
       "\\item 6\n",
       "\\item 7\n",
       "\\end{enumerate*}\n"
      ],
      "text/markdown": [
       "1. 5\n",
       "2. 6\n",
       "3. 7\n",
       "\n",
       "\n"
      ],
      "text/plain": [
       "[1] 5 6 7"
      ]
     },
     "metadata": {},
     "output_type": "display_data"
    },
    {
     "data": {
      "text/html": [
       "<ol class=list-inline>\n",
       "\t<li>'a'</li>\n",
       "\t<li>'c'</li>\n",
       "\t<li>'e'</li>\n",
       "</ol>\n"
      ],
      "text/latex": [
       "\\begin{enumerate*}\n",
       "\\item 'a'\n",
       "\\item 'c'\n",
       "\\item 'e'\n",
       "\\end{enumerate*}\n"
      ],
      "text/markdown": [
       "1. 'a'\n",
       "2. 'c'\n",
       "3. 'e'\n",
       "\n",
       "\n"
      ],
      "text/plain": [
       "[1] \"a\" \"c\" \"e\""
      ]
     },
     "metadata": {},
     "output_type": "display_data"
    }
   ],
   "source": [
    "vektor_čísla[vektor_čísla %in% c(5, 6, 7)]\n",
    "letters[which(letters %in% c(\"a\", \"c\", \"e\"))]"
   ]
  },
  {
   "cell_type": "markdown",
   "metadata": {},
   "source": [
    "Objekty uložené ve vektoru mohou mít vždy pouze jeden datový typ. Pokud funkci `c` předhodíte data různých typů, automaticky všechny hodnoty převede na ten \"největší společný\". V následujícím případě je to řetězec znaků:"
   ]
  },
  {
   "cell_type": "code",
   "execution_count": 40,
   "metadata": {},
   "outputs": [
    {
     "name": "stdout",
     "output_type": "stream",
     "text": [
      "[1] \"1\"       \"2\"       \"3\"       \"4\"       \"5\"       \"10.5\"    \"bla bla\"\n"
     ]
    },
    {
     "data": {
      "text/html": [
       "'character'"
      ],
      "text/latex": [
       "'character'"
      ],
      "text/markdown": [
       "'character'"
      ],
      "text/plain": [
       "[1] \"character\""
      ]
     },
     "metadata": {},
     "output_type": "display_data"
    }
   ],
   "source": [
    "vektor_kombinovaný <- c(1:5, 10.5, \"bla bla\")\n",
    "print(vektor_kombinovaný)\n",
    "mode(vektor_kombinovaný)"
   ]
  },
  {
   "cell_type": "markdown",
   "metadata": {},
   "source": [
    "Jednotlivým položkám lze i přiřazovat jména, která lze pak používat i při indexování:"
   ]
  },
  {
   "cell_type": "code",
   "execution_count": 41,
   "metadata": {},
   "outputs": [
    {
     "data": {
      "text/html": [
       "<strong>dvě:</strong> 2"
      ],
      "text/latex": [
       "\\textbf{dvě:} 2"
      ],
      "text/markdown": [
       "**dvě:** 2"
      ],
      "text/plain": [
       "dvě \n",
       "  2 "
      ]
     },
     "metadata": {},
     "output_type": "display_data"
    }
   ],
   "source": [
    "pět <- 1:5\n",
    "names(pět) <- c(\"jedna\", \"dvě\", \"tři\", \"čtyři\", \"pět\")\n",
    "pět[\"dvě\"]"
   ]
  },
  {
   "cell_type": "markdown",
   "metadata": {},
   "source": [
    "Na konec ještě krátká poznámka k tomu, proč v R zdánlivě není datový typ vektor:"
   ]
  },
  {
   "cell_type": "code",
   "execution_count": 42,
   "metadata": {},
   "outputs": [
    {
     "data": {
      "text/html": [
       "'integer'"
      ],
      "text/latex": [
       "'integer'"
      ],
      "text/markdown": [
       "'integer'"
      ],
      "text/plain": [
       "[1] \"integer\""
      ]
     },
     "metadata": {},
     "output_type": "display_data"
    },
    {
     "data": {
      "text/html": [
       "'integer'"
      ],
      "text/latex": [
       "'integer'"
      ],
      "text/markdown": [
       "'integer'"
      ],
      "text/plain": [
       "[1] \"integer\""
      ]
     },
     "metadata": {},
     "output_type": "display_data"
    },
    {
     "data": {
      "text/html": [
       "'numeric'"
      ],
      "text/latex": [
       "'numeric'"
      ],
      "text/markdown": [
       "'numeric'"
      ],
      "text/plain": [
       "[1] \"numeric\""
      ]
     },
     "metadata": {},
     "output_type": "display_data"
    }
   ],
   "source": [
    "typeof(vektor_čísla)\n",
    "class(vektor_čísla)\n",
    "mode(vektor_čísla)"
   ]
  },
  {
   "cell_type": "markdown",
   "metadata": {},
   "source": [
    "Ve filozofii jazyka R totiž vlastně neexistuje nic jako atomická hodnota, ale vše je vždy interpretováno jako vektor. Proto funkce `print` vytiskne v následujícím volání jedničku, protože se vlastně jedná o vektor, který obsajuje jednu položku:"
   ]
  },
  {
   "cell_type": "code",
   "execution_count": 43,
   "metadata": {},
   "outputs": [
    {
     "name": "stdout",
     "output_type": "stream",
     "text": [
      "[1] 1\n"
     ]
    }
   ],
   "source": [
    "print(1)"
   ]
  },
  {
   "cell_type": "markdown",
   "metadata": {},
   "source": [
    "## Funkce\n",
    "\n",
    "Co dělá R tak užitečným, je právě široký výběr funkcí, které můžete ve svých programech využít. Díky funkcím je možné snadno zapouzdřovat kód pro opakované použití. Když v R zavoláte funkci (např. `print`), děje se na pozadí hodně věcí, o kterých většinou [raději ani nechcete vědět](http://sourceware.org/git/?p=glibc.git;a=blob;f=stdio-common/vfprintf.c;h=fc370e8cbc4e9652a2ed377b1c6f2324f15b1bf9;hb=3321010338384ecdc6633a8b032bb0ed6aa9b19a). \n",
    "\n",
    "Bylo by tedy neefektivní, kdybyste například při každém pokusu o zápis obsahu vaší proměnné na výstup programu museli řešit věci jako otevření a zavření textového bufferu a formátování na konzoli pořád dokola. Je mnohem praktičtější napsat kód jednou a předem definovat proměnné, které se budou měnit v závislosti na kontextu, ve kterém se kód bude vykonávat. V R se funkce definují následujícím způsobem (samotnou syntaxi definice funkce napravo od operátoru `<-` si probereme později):"
   ]
  },
  {
   "cell_type": "code",
   "execution_count": 44,
   "metadata": {},
   "outputs": [
    {
     "data": {
      "text/html": [
       "1.4142135623731"
      ],
      "text/latex": [
       "1.4142135623731"
      ],
      "text/markdown": [
       "1.4142135623731"
      ],
      "text/plain": [
       "[1] 1.414214"
      ]
     },
     "metadata": {},
     "output_type": "display_data"
    }
   ],
   "source": [
    "odmocnina <- function(cislo, odmocnitCim) {\n",
    "    # spočítá odmocninu z daného čísla\n",
    "\n",
    "    cislo ^ (1 / odmocnitCim)\n",
    "}\n",
    "\n",
    "odmocnina(2, 2)"
   ]
  },
  {
   "cell_type": "markdown",
   "metadata": {},
   "source": [
    "Jelikož se v R k funkcím přistupuje jako k tzv. \"first-class citizens\", není funkce ve výsledku nic jiného, než vytvoření nového objektu a jeho přiřazení do proměnné. Následující kód tedy též funguje, jenom je třeba uzavřít definici funkce do závorek (proč, to zatím necháme být):"
   ]
  },
  {
   "cell_type": "code",
   "execution_count": 45,
   "metadata": {},
   "outputs": [
    {
     "data": {
      "text/html": [
       "1.4142135623731"
      ],
      "text/latex": [
       "1.4142135623731"
      ],
      "text/markdown": [
       "1.4142135623731"
      ],
      "text/plain": [
       "[1] 1.414214"
      ]
     },
     "metadata": {},
     "output_type": "display_data"
    }
   ],
   "source": [
    "(function(cislo, odmocnitCim) {\n",
    "    # spočítá odmocninu z daného čísla\n",
    "    \n",
    "    cislo ^ (1 / odmocnitCim)\n",
    "}) -> odmocnina_jinak\n",
    "\n",
    "odmocnina_jinak(2, 2)"
   ]
  },
  {
   "cell_type": "markdown",
   "metadata": {},
   "source": [
    "Pro nikoho tedy asi již není záhadou následující kód (všimněte si, že funkce se chová jinak při zavolání a jinak pokud k ní přistupujeme jako k proměnné):"
   ]
  },
  {
   "cell_type": "code",
   "execution_count": 46,
   "metadata": {},
   "outputs": [
    {
     "data": {
      "text/html": [
       "'function'"
      ],
      "text/latex": [
       "'function'"
      ],
      "text/markdown": [
       "'function'"
      ],
      "text/plain": [
       "[1] \"function\""
      ]
     },
     "metadata": {},
     "output_type": "display_data"
    },
    {
     "name": "stdout",
     "output_type": "stream",
     "text": [
      "[1] \"hello\"\n"
     ]
    }
   ],
   "source": [
    "class(print)\n",
    "spit_out <- print\n",
    "spit_out(\"hello\")"
   ]
  },
  {
   "cell_type": "markdown",
   "metadata": {},
   "source": [
    "Můžeme si takto ovšem i hodně zavařit:"
   ]
  },
  {
   "cell_type": "code",
   "execution_count": 47,
   "metadata": {},
   "outputs": [
    {
     "ename": "ERROR",
     "evalue": "Error in eval(expr, envir, enclos): could not find function \"odmocnina\"\n",
     "output_type": "error",
     "traceback": [
      "Error in eval(expr, envir, enclos): could not find function \"odmocnina\"\nTraceback:\n"
     ]
    }
   ],
   "source": [
    "odmocnina <- \"Ooops...\"\n",
    "odmocnina(2, 2)"
   ]
  },
  {
   "cell_type": "markdown",
   "metadata": {},
   "source": [
    "Kupodivu se nám nic takového nestane, pokud uděláme toto:"
   ]
  },
  {
   "cell_type": "code",
   "execution_count": 48,
   "metadata": {},
   "outputs": [
    {
     "name": "stdout",
     "output_type": "stream",
     "text": [
      "[1] \"Ahoj\"\n"
     ]
    }
   ],
   "source": [
    "print <- \"Ooops...\"\n",
    "print(\"Ahoj\")"
   ]
  },
  {
   "cell_type": "markdown",
   "metadata": {},
   "source": [
    "Interní funkce v R se totiž řídí trochu jinou politikou. Souvisí to s tím, jakým způsobem jsou jednotlivé objekty navzájem uspořádány a jak probíhá vyhledevání funkcí a proměnných, ale o tom si řekneme více trochu později. Pro nedočkavce lze vřele doporučit [tento článek](http://blog.obeautifulcode.com/R/How-R-Searches-And-Finds-Stuff/).\n",
    "\n",
    "Vraťme se teď k syntaxi samotné definice funkce, tedy ke konstruktu:\n",
    "\n",
    "```R\n",
    "function(x, y) {\n",
    "    # tělo funkce\n",
    "}\n",
    "```\n",
    "\n",
    "Klíčovým slovem `function` říkáme programu R, že chceme definovat funkci. Závorky jsou vždy povinné a zapisují se do nich jména jejích parametrů. Parametry tvoří kontext, ve kterém se kód bude vykonávat. Ten se píše do složených závorek a je interpretován stejným způsobem jako jakýkoliv jiný kód, který v R napíšeme, ale vyhodnotí se ve speciálně vytvořeném prostředí s hodnotami parametrů, které se nastaví při volání. Kód ve složených závorkách se často označuje jako tzv. tělo funkce.\n",
    "\n",
    "Není vždy nutné uzavírat tělo funkce do složených závorek, takže následující kód je též v pořádku:"
   ]
  },
  {
   "cell_type": "code",
   "execution_count": 49,
   "metadata": {},
   "outputs": [
    {
     "name": "stdout",
     "output_type": "stream",
     "text": [
      "[1] \"Tohle už není tělo funkce.\"\n",
      "[1] \"Ahoj, já jsem ukecaná funkce a tohle je moje tělo.\"\n"
     ]
    }
   ],
   "source": [
    "moje_kecy <- function()\n",
    "    print(\"Ahoj, já jsem ukecaná funkce a tohle je moje tělo.\")\n",
    "    print(\"Tohle už není tělo funkce.\")\n",
    "\n",
    "moje_kecy()"
   ]
  },
  {
   "cell_type": "markdown",
   "metadata": {},
   "source": [
    "V tomto případě se totiž první příkaz po použití klíčového slova `function` automaticky interpretuje jako její tělo. Druhé volání funkce `print` už se vykoná jako normální příkaz hned po definici funkce a je tedy ve výstupu na prvním místě, i když se díky našemu formátování tváří jako součást funkce `moje_kecy`. Pokud tedy potřebujete definovat funkci, která obsahuje více než pouze jeden příkaz, musíte je uzavřít do složených závorek. Takto uzavřený blok kódu se pak interpretuje jako jeden celek. I když nemusíte složené závorky vždy používat, je dobré je při definicích vašich funkcí vždy uvést, aby bylo jasné, kde přesně tělo začíná a končí.\n",
    "\n",
    "Toto chování též vysvětluje, proč je třeba uzavřít výraz s definicí funkce do závorek, pokud se pokoušíme o její obskurní přiřazení do proměnné operátorem `->`. Tento operátor je v tomto případě interpretován jako součást těla funkce, i v případě že leží mimo složené závorky. Následující kód totiž taky platí:"
   ]
  },
  {
   "cell_type": "code",
   "execution_count": 50,
   "metadata": {},
   "outputs": [
    {
     "name": "stdout",
     "output_type": "stream",
     "text": [
      "[1] \"ahoj\"\n"
     ]
    },
    {
     "data": {
      "text/html": [
       "5"
      ],
      "text/latex": [
       "5"
      ],
      "text/markdown": [
       "5"
      ],
      "text/plain": [
       "[1] 5"
      ]
     },
     "metadata": {},
     "output_type": "display_data"
    }
   ],
   "source": [
    "{\n",
    "    print(\"ahoj\")\n",
    "    1 + 1\n",
    "    5\n",
    "} -> y\n",
    "\n",
    "y"
   ]
  },
  {
   "cell_type": "markdown",
   "metadata": {},
   "source": [
    "Kód uzavřený do složených závorek má totiž zajímavou vlastnost. Příkazy uvnitř se všechny vykonají a hodnota posledního z nich se intepretuje jako výsledek celého bloku. Díky tomu lze tedy získat výsledek funkce a uložit jej do proměnné:"
   ]
  },
  {
   "cell_type": "code",
   "execution_count": 51,
   "metadata": {},
   "outputs": [
    {
     "data": {
      "text/html": [
       "2"
      ],
      "text/latex": [
       "2"
      ],
      "text/markdown": [
       "2"
      ],
      "text/plain": [
       "[1] 2"
      ]
     },
     "metadata": {},
     "output_type": "display_data"
    }
   ],
   "source": [
    "odmocnina <- function(cislo, odmocnitCim) {\n",
    "    # spočítá odmocninu z daného čísla\n",
    "\n",
    "    cislo ^ (1 / odmocnitCim)\n",
    "}\n",
    "\n",
    "výsledek <- odmocnina(4, 2)\n",
    "výsledek"
   ]
  },
  {
   "cell_type": "markdown",
   "metadata": {},
   "source": [
    "Tomu, co z funkce \"vypadne\", se říká návratová hodnota a pokud není explicitně řečeno jinak, interpretuje se tak vždy výsledek posledního příkazu z bloku kódu, který tvoří její tělo. V tomto případě tedy výsledek výrazu `cislo ^ (1 / odmocnitCim)`.\n",
    "\n",
    "Pokud chceme specifikovat jinou návratovou hodnotu, můžeme tak učinit funkcí `return`:"
   ]
  },
  {
   "cell_type": "code",
   "execution_count": 52,
   "metadata": {},
   "outputs": [
    {
     "name": "stdout",
     "output_type": "stream",
     "text": [
      "[1] \"hi\"\n"
     ]
    },
    {
     "data": {
      "text/html": [
       "42"
      ],
      "text/latex": [
       "42"
      ],
      "text/markdown": [
       "42"
      ],
      "text/plain": [
       "[1] 42"
      ]
     },
     "metadata": {},
     "output_type": "display_data"
    }
   ],
   "source": [
    "{\n",
    "    print(\"hi\")\n",
    "    return(42)\n",
    "    print(\"ahoj\")\n",
    "}"
   ]
  },
  {
   "cell_type": "markdown",
   "metadata": {},
   "source": [
    "Jak vidíte, funkce `return` též ukončí vykonávání aktuálního bloku kódu a použije námi specifikovaný argument jako návratovou hodnotu (zde číslo 42). Návratovou hodnotu však nemusíme vždy specifikovat. Funkci 'return' lze totiž použít i bez parametrů:"
   ]
  },
  {
   "cell_type": "code",
   "execution_count": 53,
   "metadata": {},
   "outputs": [
    {
     "name": "stdout",
     "output_type": "stream",
     "text": [
      "[1] \"hi\"\n"
     ]
    },
    {
     "data": {
      "text/plain": [
       "NULL"
      ]
     },
     "metadata": {},
     "output_type": "display_data"
    }
   ],
   "source": [
    "{\n",
    "    print(\"hi\")\n",
    "    return()\n",
    "    print(\"ahoj\")\n",
    "}"
   ]
  },
  {
   "cell_type": "markdown",
   "metadata": {},
   "source": [
    "V tomto případě je návratová hodnota rovna `NULL`, což je v R a jiných programovacích jazycích univerzální objekt pro reprezentaci \"ničeho\":"
   ]
  },
  {
   "cell_type": "code",
   "execution_count": 54,
   "metadata": {},
   "outputs": [
    {
     "data": {
      "text/html": [
       "0"
      ],
      "text/latex": [
       "0"
      ],
      "text/markdown": [
       "0"
      ],
      "text/plain": [
       "[1] 0"
      ]
     },
     "metadata": {},
     "output_type": "display_data"
    }
   ],
   "source": [
    "length(NULL)"
   ]
  },
  {
   "cell_type": "markdown",
   "metadata": {},
   "source": [
    "Nulovou návratovou hodnotu má i následující funkce:"
   ]
  },
  {
   "cell_type": "code",
   "execution_count": 55,
   "metadata": {},
   "outputs": [
    {
     "data": {
      "text/plain": [
       "NULL"
      ]
     },
     "metadata": {},
     "output_type": "display_data"
    }
   ],
   "source": [
    "nic <- function() {\n",
    "    # prázdný blok\n",
    "}\n",
    "\n",
    "nic()"
   ]
  },
  {
   "cell_type": "markdown",
   "metadata": {},
   "source": [
    "Praktické využití funkce `return` a hodnoty `NULL` vám teď zřejmě uniká, ale vše se vyjasní v další kapitole, kde si představíme [řídící struktury](#%C5%98%C3%ADd%C3%ADc%C3%AD-struktury). Řekněme si jen, že `NULL` lze použít například i k vymazání jmen z našeho pojmenovaného vektoru:"
   ]
  },
  {
   "cell_type": "code",
   "execution_count": 56,
   "metadata": {},
   "outputs": [
    {
     "data": {
      "text/html": [
       "<ol class=list-inline>\n",
       "\t<li>'jedna'</li>\n",
       "\t<li>'dvě'</li>\n",
       "\t<li>'tři'</li>\n",
       "\t<li>'čtyři'</li>\n",
       "\t<li>'pět'</li>\n",
       "</ol>\n"
      ],
      "text/latex": [
       "\\begin{enumerate*}\n",
       "\\item 'jedna'\n",
       "\\item 'dvě'\n",
       "\\item 'tři'\n",
       "\\item 'čtyři'\n",
       "\\item 'pět'\n",
       "\\end{enumerate*}\n"
      ],
      "text/markdown": [
       "1. 'jedna'\n",
       "2. 'dvě'\n",
       "3. 'tři'\n",
       "4. 'čtyři'\n",
       "5. 'pět'\n",
       "\n",
       "\n"
      ],
      "text/plain": [
       "[1] \"jedna\" \"dvě\"   \"tři\"   \"čtyři\" \"pět\"  "
      ]
     },
     "metadata": {},
     "output_type": "display_data"
    },
    {
     "data": {
      "text/plain": [
       "NULL"
      ]
     },
     "metadata": {},
     "output_type": "display_data"
    }
   ],
   "source": [
    "names(pět)\n",
    "names(pět) <- NULL\n",
    "names(pět)"
   ]
  },
  {
   "cell_type": "markdown",
   "metadata": {},
   "source": [
    "### Parametry a volání\n",
    "\n",
    "Na závěr ještě několik poznámek k volání funkcí. Už jsme si ukázali, že pokud chceme vykonat blok funkce, musíme vždy specifikovat kontext v podobě jejích parametrů (pokud tedy funkce nějaké má):"
   ]
  },
  {
   "cell_type": "code",
   "execution_count": 57,
   "metadata": {},
   "outputs": [
    {
     "data": {
      "text/html": [
       "1.73205080756888"
      ],
      "text/latex": [
       "1.73205080756888"
      ],
      "text/markdown": [
       "1.73205080756888"
      ],
      "text/plain": [
       "[1] 1.732051"
      ]
     },
     "metadata": {},
     "output_type": "display_data"
    }
   ],
   "source": [
    "odmocnina(3, 2)"
   ]
  },
  {
   "cell_type": "markdown",
   "metadata": {},
   "source": [
    "Parametry (nebo také argumenty) můžeme řadit do dvou kategorií:\n",
    "\n",
    "1. poziční\n",
    "2. pojmenované\n",
    "\n",
    "My jsme zatím v našem kódu používali pouze argumenty poziční, ale naší funkci `odmocnina` bychom mohli též zavolat následujícím způsobem pomocí pojmenovaných argumentů:"
   ]
  },
  {
   "cell_type": "code",
   "execution_count": 58,
   "metadata": {},
   "outputs": [
    {
     "data": {
      "text/html": [
       "1.73205080756888"
      ],
      "text/latex": [
       "1.73205080756888"
      ],
      "text/markdown": [
       "1.73205080756888"
      ],
      "text/plain": [
       "[1] 1.732051"
      ]
     },
     "metadata": {},
     "output_type": "display_data"
    }
   ],
   "source": [
    "odmocnina(odmocnitCim = 2, cislo = 3)"
   ]
  },
  {
   "cell_type": "markdown",
   "metadata": {},
   "source": [
    "Všimněte si, že v případě pojmenovaných argumentů není třeba, aby byly argumenty uvedeny ve stejném pořadí jako v definici funkce. Vidíme zde i další význam operátoru `=`, který zde slouží jako operátor pro přiřazení hodnoty do parametru funkce. Parametry funkce totiž žijí pouze v kontextu dané funkce, na rozdíl od běžných proměnných.\n",
    "\n",
    "Pojmenované a poziční argumenty lze též kombinovat:"
   ]
  },
  {
   "cell_type": "code",
   "execution_count": 59,
   "metadata": {},
   "outputs": [
    {
     "data": {
      "text/html": [
       "1.73205080756888"
      ],
      "text/latex": [
       "1.73205080756888"
      ],
      "text/markdown": [
       "1.73205080756888"
      ],
      "text/plain": [
       "[1] 1.732051"
      ]
     },
     "metadata": {},
     "output_type": "display_data"
    }
   ],
   "source": [
    "odmocnina(3, odmocnitCim = 2)"
   ]
  },
  {
   "cell_type": "markdown",
   "metadata": {},
   "source": [
    "V jazyce R dokonce ani není třeba zadávat poziční argumenty před pojmenovanými jako v jiných jazycích. V následujícím případě program sám uhodne, co jste chtěli daným voláním říci:"
   ]
  },
  {
   "cell_type": "code",
   "execution_count": 60,
   "metadata": {},
   "outputs": [
    {
     "data": {
      "text/html": [
       "1.73205080756888"
      ],
      "text/latex": [
       "1.73205080756888"
      ],
      "text/markdown": [
       "1.73205080756888"
      ],
      "text/plain": [
       "[1] 1.732051"
      ]
     },
     "metadata": {},
     "output_type": "display_data"
    }
   ],
   "source": [
    "odmocnina(odmocnitCim = 2, 3)"
   ]
  },
  {
   "cell_type": "markdown",
   "metadata": {},
   "source": [
    "Pro přehlednost je však vždy dobré nejprve uvést poziční argumenty a až potom argumenty pojmenované, neboť poziční argumenty jsou zpravidla ty nejdůležitější, které je vždy třeba při volání funkce dodat. Funkce totiž mohou být definovány i s implicitními hodnotami argumentů. Naší funkci `odmocnina` bychom totiž mohli definovat a volat i takto:"
   ]
  },
  {
   "cell_type": "code",
   "execution_count": 61,
   "metadata": {},
   "outputs": [
    {
     "data": {
      "text/html": [
       "1.4142135623731"
      ],
      "text/latex": [
       "1.4142135623731"
      ],
      "text/markdown": [
       "1.4142135623731"
      ],
      "text/plain": [
       "[1] 1.414214"
      ]
     },
     "metadata": {},
     "output_type": "display_data"
    },
    {
     "data": {
      "text/html": [
       "1.25992104989487"
      ],
      "text/latex": [
       "1.25992104989487"
      ],
      "text/markdown": [
       "1.25992104989487"
      ],
      "text/plain": [
       "[1] 1.259921"
      ]
     },
     "metadata": {},
     "output_type": "display_data"
    },
    {
     "data": {
      "text/html": [
       "1.25992104989487"
      ],
      "text/latex": [
       "1.25992104989487"
      ],
      "text/markdown": [
       "1.25992104989487"
      ],
      "text/plain": [
       "[1] 1.259921"
      ]
     },
     "metadata": {},
     "output_type": "display_data"
    }
   ],
   "source": [
    "odmocnina <- function(cislo, odmocnitCim = 2) {\n",
    "    # spočítá odmocninu z daného čísla\n",
    "\n",
    "    cislo ^ (1 / odmocnitCim)\n",
    "}\n",
    "\n",
    "odmocnina(2)\n",
    "odmocnina(2, 3)\n",
    "odmocnina(2, odmocnitCim = 3)"
   ]
  },
  {
   "cell_type": "markdown",
   "metadata": {},
   "source": [
    "Pokud tedy má funkce nastavenou implicitní hodnotu parametru a tento parametr není při jejím volání nastaven uživatelem, použije se při vykonávání právě tato implicitní hodnota.\n",
    "\n",
    "Pokud chceme, můžeme i definovat funkce, které akceptují v podstatě libovolný počet parametrů:"
   ]
  },
  {
   "cell_type": "code",
   "execution_count": 62,
   "metadata": {},
   "outputs": [
    {
     "data": {
      "text/html": [
       "<ol class=list-inline>\n",
       "\t<li>1</li>\n",
       "\t<li>2</li>\n",
       "\t<li>3</li>\n",
       "\t<li>4</li>\n",
       "\t<li>5</li>\n",
       "</ol>\n"
      ],
      "text/latex": [
       "\\begin{enumerate*}\n",
       "\\item 1\n",
       "\\item 2\n",
       "\\item 3\n",
       "\\item 4\n",
       "\\item 5\n",
       "\\end{enumerate*}\n"
      ],
      "text/markdown": [
       "1. 1\n",
       "2. 2\n",
       "3. 3\n",
       "4. 4\n",
       "5. 5\n",
       "\n",
       "\n"
      ],
      "text/plain": [
       "[1] 1 2 3 4 5"
      ]
     },
     "metadata": {},
     "output_type": "display_data"
    }
   ],
   "source": [
    "args_as_vector <- function(...) {\n",
    "    argumenty <- c(...)\n",
    "    \n",
    "    argumenty\n",
    "}\n",
    "\n",
    "args_as_vector(1, 2, 3, 4, 5)"
   ]
  },
  {
   "cell_type": "markdown",
   "metadata": {},
   "source": [
    "Funkci lze takto volat i s pojmenovanými argumenty a výsledný vektor má pak položky pojmenované:"
   ]
  },
  {
   "cell_type": "code",
   "execution_count": 63,
   "metadata": {},
   "outputs": [
    {
     "data": {
      "text/html": [
       "<dl class=dl-horizontal>\n",
       "\t<dt>x</dt>\n",
       "\t\t<dd>1</dd>\n",
       "\t<dt>y</dt>\n",
       "\t\t<dd>1</dd>\n",
       "\t<dt>z</dt>\n",
       "\t\t<dd>1</dd>\n",
       "\t<dt>4</dt>\n",
       "\t\t<dd>42</dd>\n",
       "</dl>\n"
      ],
      "text/latex": [
       "\\begin{description*}\n",
       "\\item[x] 1\n",
       "\\item[y] 1\n",
       "\\item[z] 1\n",
       "\\item[4] 42\n",
       "\\end{description*}\n"
      ],
      "text/markdown": [
       "x\n",
       ":   1y\n",
       ":   1z\n",
       ":   14\n",
       ":   42\n",
       "\n"
      ],
      "text/plain": [
       " x  y  z    \n",
       " 1  1  1 42 "
      ]
     },
     "metadata": {},
     "output_type": "display_data"
    },
    {
     "data": {
      "text/html": [
       "<ol class=list-inline>\n",
       "\t<li>'x'</li>\n",
       "\t<li>'y'</li>\n",
       "\t<li>'z'</li>\n",
       "\t<li>''</li>\n",
       "</ol>\n"
      ],
      "text/latex": [
       "\\begin{enumerate*}\n",
       "\\item 'x'\n",
       "\\item 'y'\n",
       "\\item 'z'\n",
       "\\item ''\n",
       "\\end{enumerate*}\n"
      ],
      "text/markdown": [
       "1. 'x'\n",
       "2. 'y'\n",
       "3. 'z'\n",
       "4. ''\n",
       "\n",
       "\n"
      ],
      "text/plain": [
       "[1] \"x\" \"y\" \"z\" \"\" "
      ]
     },
     "metadata": {},
     "output_type": "display_data"
    }
   ],
   "source": [
    "vektor_argumentu <- args_as_vector(x = 1, y = 1, z = 1, 42)\n",
    "vektor_argumentu\n",
    "names(vektor_argumentu)"
   ]
  },
  {
   "cell_type": "markdown",
   "metadata": {},
   "source": [
    "### Kontext\n",
    "\n",
    "Poslední věc, kterou si o funkcích řekneme, bude k samotnému kontextu vykonávávní. Dříve bylo řečeno, že funkce se vždy vykonává v kontextu jejích argumentů, ale v R to není úplně pravda. Následující funkci totiž můžeme v klidu nadefinovat a zavolat:"
   ]
  },
  {
   "cell_type": "code",
   "execution_count": 64,
   "metadata": {
    "collapsed": true
   },
   "outputs": [],
   "source": [
    "show_x <- function () {print(x)}"
   ]
  },
  {
   "cell_type": "code",
   "execution_count": 65,
   "metadata": {},
   "outputs": [
    {
     "name": "stdout",
     "output_type": "stream",
     "text": [
      "[1] 5\n"
     ]
    }
   ],
   "source": [
    "show_x()"
   ]
  },
  {
   "cell_type": "markdown",
   "metadata": {},
   "source": [
    "Možná jste to již zapomněli, ale v [předchozí kapitole](#Prom%C4%9Bnn%C3%A9-a-datov%C3%A9-typy) jsme si nadefinovali proměnnou `x` a postupně do ní ukládali různé hodnoty. R se tedy při vyhledávání proměnných neomezuje pouze na svoje parametry a kontext, ale pokud nějakou proměnnou nenajde zkusí to i tzv. 'výše', což v tomto případě znamená kontext našeho celého programu.\n",
    "\n",
    "Kontext není v R pouze nějaký abstraktní pojem, ale lze si na něj i přímo 'sáhnout':"
   ]
  },
  {
   "cell_type": "code",
   "execution_count": 66,
   "metadata": {},
   "outputs": [
    {
     "name": "stdout",
     "output_type": "stream",
     "text": [
      "<environment: R_GlobalEnv>\n"
     ]
    },
    {
     "data": {
      "text/html": [
       "<ol class=list-inline>\n",
       "\t<li>'args_as_vector'</li>\n",
       "\t<li>'indexy'</li>\n",
       "\t<li>'kontext'</li>\n",
       "\t<li>'log_vektor'</li>\n",
       "\t<li>'log_vektor_false'</li>\n",
       "\t<li>'log_vektor_true'</li>\n",
       "\t<li>'maska'</li>\n",
       "\t<li>'moje_kecy'</li>\n",
       "\t<li>'nic'</li>\n",
       "\t<li>'odmocnina'</li>\n",
       "\t<li>'odmocnina_jinak'</li>\n",
       "\t<li>'pět'</li>\n",
       "\t<li>'print'</li>\n",
       "\t<li>'show_x'</li>\n",
       "\t<li>'spit_out'</li>\n",
       "\t<li>'vektor_argumentu'</li>\n",
       "\t<li>'vektor_čísla'</li>\n",
       "\t<li>'vektor_čísla_opačně'</li>\n",
       "\t<li>'vektor_kombinovaný'</li>\n",
       "\t<li>'vektor_prázdný'</li>\n",
       "\t<li>'vektor_řetězce'</li>\n",
       "\t<li>'vektor_vektory'</li>\n",
       "\t<li>'výsledek'</li>\n",
       "\t<li>'x'</li>\n",
       "\t<li>'y'</li>\n",
       "</ol>\n"
      ],
      "text/latex": [
       "\\begin{enumerate*}\n",
       "\\item 'args\\_as\\_vector'\n",
       "\\item 'indexy'\n",
       "\\item 'kontext'\n",
       "\\item 'log\\_vektor'\n",
       "\\item 'log\\_vektor\\_false'\n",
       "\\item 'log\\_vektor\\_true'\n",
       "\\item 'maska'\n",
       "\\item 'moje\\_kecy'\n",
       "\\item 'nic'\n",
       "\\item 'odmocnina'\n",
       "\\item 'odmocnina\\_jinak'\n",
       "\\item 'pět'\n",
       "\\item 'print'\n",
       "\\item 'show\\_x'\n",
       "\\item 'spit\\_out'\n",
       "\\item 'vektor\\_argumentu'\n",
       "\\item 'vektor\\_čísla'\n",
       "\\item 'vektor\\_čísla\\_opačně'\n",
       "\\item 'vektor\\_kombinovaný'\n",
       "\\item 'vektor\\_prázdný'\n",
       "\\item 'vektor\\_řetězce'\n",
       "\\item 'vektor\\_vektory'\n",
       "\\item 'výsledek'\n",
       "\\item 'x'\n",
       "\\item 'y'\n",
       "\\end{enumerate*}\n"
      ],
      "text/markdown": [
       "1. 'args_as_vector'\n",
       "2. 'indexy'\n",
       "3. 'kontext'\n",
       "4. 'log_vektor'\n",
       "5. 'log_vektor_false'\n",
       "6. 'log_vektor_true'\n",
       "7. 'maska'\n",
       "8. 'moje_kecy'\n",
       "9. 'nic'\n",
       "10. 'odmocnina'\n",
       "11. 'odmocnina_jinak'\n",
       "12. 'pět'\n",
       "13. 'print'\n",
       "14. 'show_x'\n",
       "15. 'spit_out'\n",
       "16. 'vektor_argumentu'\n",
       "17. 'vektor_čísla'\n",
       "18. 'vektor_čísla_opačně'\n",
       "19. 'vektor_kombinovaný'\n",
       "20. 'vektor_prázdný'\n",
       "21. 'vektor_řetězce'\n",
       "22. 'vektor_vektory'\n",
       "23. 'výsledek'\n",
       "24. 'x'\n",
       "25. 'y'\n",
       "\n",
       "\n"
      ],
      "text/plain": [
       " [1] \"args_as_vector\"      \"indexy\"              \"kontext\"            \n",
       " [4] \"log_vektor\"          \"log_vektor_false\"    \"log_vektor_true\"    \n",
       " [7] \"maska\"               \"moje_kecy\"           \"nic\"                \n",
       "[10] \"odmocnina\"           \"odmocnina_jinak\"     \"pět\"                \n",
       "[13] \"print\"               \"show_x\"              \"spit_out\"           \n",
       "[16] \"vektor_argumentu\"    \"vektor_čísla\"        \"vektor_čísla_opačně\"\n",
       "[19] \"vektor_kombinovaný\"  \"vektor_prázdný\"      \"vektor_řetězce\"     \n",
       "[22] \"vektor_vektory\"      \"výsledek\"            \"x\"                  \n",
       "[25] \"y\"                  "
      ]
     },
     "metadata": {},
     "output_type": "display_data"
    }
   ],
   "source": [
    "kontext = environment() # získej aktuálně aktivní prostředí\n",
    "print(kontext)\n",
    "ls(envir = kontext) # vypiš proměnné"
   ]
  },
  {
   "cell_type": "markdown",
   "metadata": {},
   "source": [
    "Proměnné totiž v R 'žijí' vždy v nějakém prostředí (environment). Pro všechny proměnné v našem programu je to vždy implicitně globální prostředí (`R_GlobalEnv`). Když zavoláme funkci, tak se pro blok jejího kódu vytvoří prostředí nové, které je podřazené prostředí, ze kterého byla funkce zavolána. Díky tomu se R při interpretaci vašich příkazů může pohybovat skrz různé kontexty a podaří se mu tak naléz i proměnné, které funkce nemá přímo k dispozici ve svém vlastním prostředí. Díky stejné vlastnosti lze ve funkci `show_x` též použít funkci `print` bez toho, aniž bychom jí museli v těle funkce nějak definovat. Vzájemná organizace prostředí je poměrně složitá a my se jí zde nebudeme podrobně věnovat, ale opět lze vřele doporučit rozsáhlý [článek](http://blog.obeautifulcode.com/R/How-R-Searches-And-Finds-Stuff/), který se konceptem prostředí v jazyce R detailně zabývá. Na závěr ještě jeden příklad:"
   ]
  },
  {
   "cell_type": "code",
   "execution_count": 67,
   "metadata": {},
   "outputs": [
    {
     "name": "stdout",
     "output_type": "stream",
     "text": [
      "[1] \"a (globální)\"\n",
      "[1] \"c_ (globální)\"\n",
      "[1] \"a (ve funkci)\"\n",
      "[1] \"a (globální)\"\n",
      "[1] \"c_ (ve funkci)\"\n"
     ]
    },
    {
     "ename": "ERROR",
     "evalue": "Error in eval(expr, envir, enclos): object 'b' not found\n",
     "output_type": "error",
     "traceback": [
      "Error in eval(expr, envir, enclos): object 'b' not found\nTraceback:\n"
     ]
    }
   ],
   "source": [
    "a <- \"a (globální)\"\n",
    "c_ <- \"c_ (globální)\" # podtržítko pro odlišení od interní funkce 'c'\n",
    "\n",
    "muj_printer <- function() {\n",
    "    a <- \"a (ve funkci)\"\n",
    "    print(a)\n",
    "    b <- \"b (ve funkci)\"\n",
    "    c_ <<- \"c_ (ve funkci)\"\n",
    "}\n",
    "\n",
    "print(a)\n",
    "print(c_)\n",
    "muj_printer()\n",
    "print(a)\n",
    "print(c_)\n",
    "b"
   ]
  },
  {
   "cell_type": "markdown",
   "metadata": {},
   "source": [
    "Proměnné se tedy vždy zapisují pouze do kontextu, ve kterém k přiřazení dochází. Hierarchie prostředí se prohledává pouze při čtení. Všechny proměnné, které vytvoříte ve funkci, jsou dostupné pouze v jejím těle (proto poslední příkaz skončí chybou). Vyjímkou je pouze operátor `<<-`, kterým R o vyhledání proměnné v hierarchii explicitně požádáte. Hodnota je pak přiřazena do nalezené proměnné a nikoliv do proměnné v kontextu bloku funkce.\n",
    "\n",
    "O funkcích a o tématech s nimi souvisejícími by se dalo mluvit ještě dlouho, ale na to v našem tutoriálu již není prostor. Pro zvídavé lze doporučit [tento detailní článek](http://adv-r.had.co.nz/Functions.html)."
   ]
  },
  {
   "cell_type": "markdown",
   "metadata": {},
   "source": [
    "## Řídící struktury\n",
    "\n",
    "Než si představíme všechny důležité řídící struktury jazyka R, pojďme si nejprve něco říci o R jako takovém. R je primárně funkcionální jazyk, a proto jej maximálně využijete, pokud k němu tak budete přistupovat. V podstatě vše, co jsme si doteď z jazyka předvedli, bylo volání nějaké funkce a to dokonce včetně operátorů. Pokud chcete, můžete operátory i zavolat jako funkce:"
   ]
  },
  {
   "cell_type": "code",
   "execution_count": 68,
   "metadata": {},
   "outputs": [
    {
     "data": {
      "text/html": [
       "2"
      ],
      "text/latex": [
       "2"
      ],
      "text/markdown": [
       "2"
      ],
      "text/plain": [
       "[1] 2"
      ]
     },
     "metadata": {},
     "output_type": "display_data"
    },
    {
     "data": {
      "text/html": [
       "4"
      ],
      "text/latex": [
       "4"
      ],
      "text/markdown": [
       "4"
      ],
      "text/plain": [
       "[1] 4"
      ]
     },
     "metadata": {},
     "output_type": "display_data"
    }
   ],
   "source": [
    "\"+\"(1, 1)\n",
    "\"*\"(2, 2)"
   ]
  },
  {
   "cell_type": "markdown",
   "metadata": {},
   "source": [
    "Stejně tak i řídící struktury jsou jenom volání nějakých interních funkcí, i když to tak třeba nevypadá. Použití řídících struktur sice často znamená čitelnější kód pro někoho, kdo zná procedurální jazyky, ale občas to může být v R poměrně [neohrabané a pomalé](#Pozn%C3%A1mka-k-rychlosti-a-psan%C3%AD-efektivn%C3%ADho-k%C3%B3du). My si některé principy funkcionálního programování v R probereme v dalších tutoriálech a pro většinu aplikací si zatím vystačíme s kombinovaným nebo procedurálním přístupem, ale je dobré mít vždy na paměti, že může existovat jednoduché řešení pomocí šikovné definice a zavolání jedné debo dvou funkcí namísto implementace složitého algoritmu pomocí několika vnořených cyklů atp. (viz [sekce níže](#Pozn%C3%A1mka-k-rychlosti-a-psan%C3%AD-efektivn%C3%ADho-k%C3%B3du)).\n",
    "\n",
    "### Větvení programu pomocí if a else\n",
    "\n",
    "V předchozí kapitole jsme si nadefinovali funkci `odmocnina`:"
   ]
  },
  {
   "cell_type": "code",
   "execution_count": 69,
   "metadata": {
    "collapsed": true
   },
   "outputs": [],
   "source": [
    "odmocnina <- function(cislo, odmocnitCim) {\n",
    "    # spočítá odmocninu z daného čísla\n",
    "\n",
    "    cislo ^ (1 / odmocnitCim)\n",
    "}"
   ]
  },
  {
   "cell_type": "markdown",
   "metadata": {},
   "source": [
    "Pokud jste na to ještě nepřišli, tak zřejmě teď budete souhlasit, že tato funkce má možná jednu nevýhodu:"
   ]
  },
  {
   "cell_type": "code",
   "execution_count": 70,
   "metadata": {},
   "outputs": [
    {
     "data": {
      "text/html": [
       "Inf"
      ],
      "text/latex": [
       "Inf"
      ],
      "text/markdown": [
       "Inf"
      ],
      "text/plain": [
       "[1] Inf"
      ]
     },
     "metadata": {},
     "output_type": "display_data"
    }
   ],
   "source": [
    "odmocnina(2, odmocnitCim = 0)"
   ]
  },
  {
   "cell_type": "markdown",
   "metadata": {},
   "source": [
    "`Inf` je v R označení pro kladné nekonečno. Naše nula tedy nebyla jazykem interpretována jako 0, ale pouze jako nekonečně malá hodnota. R takto k nule prostě přistupuje a v podobných případech si na nic nestěžuje a prostě tiše předpokládá, že uživatel ví, co dělá, a snaží se mu vždy nabídnout nějaký výsledek, se kterým může dále pracovat.\n",
    "\n",
    "Řekněme si ale, že mi takové chování u naší funkce tolerovat nechceme a o možné chybě budeme chtít uživatele informovat. Můžeme tak učinit následujícím způsobem:"
   ]
  },
  {
   "cell_type": "code",
   "execution_count": 71,
   "metadata": {},
   "outputs": [
    {
     "data": {
      "text/html": [
       "1.4142135623731"
      ],
      "text/latex": [
       "1.4142135623731"
      ],
      "text/markdown": [
       "1.4142135623731"
      ],
      "text/plain": [
       "[1] 1.414214"
      ]
     },
     "metadata": {},
     "output_type": "display_data"
    },
    {
     "name": "stderr",
     "output_type": "stream",
     "text": [
      "Warning message in odmocnina(2, odmocnitCim = 0):\n",
      "“POZOR! Snažíte se odmocnit nulou!”"
     ]
    },
    {
     "data": {
      "text/plain": [
       "NULL"
      ]
     },
     "metadata": {},
     "output_type": "display_data"
    }
   ],
   "source": [
    "odmocnina <- function(cislo, odmocnitCim) {\n",
    "    # spočítá odmocninu z daného čísla\n",
    "    \n",
    "    if (odmocnitCim == 0) {\n",
    "        warning(\"POZOR! Snažíte se odmocnit nulou!\")\n",
    "        return()\n",
    "    }\n",
    "\n",
    "    cislo ^ (1 / odmocnitCim)\n",
    "}\n",
    "\n",
    "odmocnina(2, odmocnitCim = 2)\n",
    "odmocnina(2, odmocnitCim = 0)"
   ]
  },
  {
   "cell_type": "markdown",
   "metadata": {},
   "source": [
    "V naší nové funkci `odmocnina` jsme použili řídící strukturu `if` pro tzv. rozvětvení programu. Nadefinovali jsme si totiž blok kódu, který se vykoná pouze, pokud je splněná určitá podmínka. V našem případě to znamená, pokud je parametr `odmocnitCim` roven nule.\n",
    "\n",
    "O tom, zda se blok vykoná nebo nevykoná rozhoduje pravdivostní hodnota výrazu v kulatých závorkách za příkazem `if`. Při našem volání má tento výraz hodnotu `TRUE`, a proto program zobrazil varovnou hlášku a ukončil vykonávání funkce pomocí `return` bez parametrů. Tímto jsme nejen informovali uživatele o možném problému, ale též zamezili tomu, aby funkce vrátila numerický nebo jakýkoliv jiný výsledek. Funkce `warning` má speciální význam a vyplatí se jí ve vašich programech využívat, pokud chcete nějakým způsobem zareagovat na nějakou podezřelou situaci (a to nejen kvůli červené barvě výstupu, jak si ukážeme v některém dalším tutoriálu).\n",
    "\n",
    "Alternativně bychom mohli naší funkci implementovat i takto:"
   ]
  },
  {
   "cell_type": "code",
   "execution_count": 72,
   "metadata": {},
   "outputs": [
    {
     "data": {
      "text/html": [
       "1.4142135623731"
      ],
      "text/latex": [
       "1.4142135623731"
      ],
      "text/markdown": [
       "1.4142135623731"
      ],
      "text/plain": [
       "[1] 1.414214"
      ]
     },
     "metadata": {},
     "output_type": "display_data"
    },
    {
     "name": "stderr",
     "output_type": "stream",
     "text": [
      "Warning message in odmocnina(2, odmocnitCim = 0):\n",
      "“POZOR! Snažíte se odmocnit nulou!”"
     ]
    },
    {
     "data": {
      "text/plain": [
       "NULL"
      ]
     },
     "metadata": {},
     "output_type": "display_data"
    }
   ],
   "source": [
    "odmocnina <- function(cislo, odmocnitCim) {\n",
    "    # spočítá odmocninu z daného čísla\n",
    "    \n",
    "    if (odmocnitCim == 0) {\n",
    "        warning(\"POZOR! Snažíte se odmocnit nulou!\")\n",
    "        return()\n",
    "    } else {\n",
    "        cislo ^ (1 / odmocnitCim)\n",
    "    }\n",
    "}\n",
    "\n",
    "odmocnina(2, odmocnitCim = 2)\n",
    "odmocnina(2, odmocnitCim = 0)"
   ]
  },
  {
   "cell_type": "markdown",
   "metadata": {},
   "source": [
    "V tomto případě rozdělíme program do dvou bloků kódu, ze kterých se alespoň jeden vždy vykoná. Blok `else` se vykoná vždy při nesplnění podmínky, tedy pokud program proběhne normálně mocnina je různá od nuly.\n",
    "\n",
    "Naše funkce `odmocnina` se teď tedy už chová trochu více 'ukázněně', ale možná bychom chtěli k problému přistupovat ještě o něco obecněji. Uživatel může totiž do naší funkce poslat v podstatě libovolný exponent včetně reálného čísla. My bychom se ale chtěli omezit na pouhé mocniny s přirozeným mocnitelem a uživatele náležitě pokárat, pokud se bude snažit naší funkci donutit k něčemu zvrhlému. Zde je příklad jak na to:"
   ]
  },
  {
   "cell_type": "code",
   "execution_count": 73,
   "metadata": {},
   "outputs": [
    {
     "data": {
      "text/html": [
       "1.4142135623731"
      ],
      "text/latex": [
       "1.4142135623731"
      ],
      "text/markdown": [
       "1.4142135623731"
      ],
      "text/plain": [
       "[1] 1.414214"
      ]
     },
     "metadata": {},
     "output_type": "display_data"
    },
    {
     "name": "stderr",
     "output_type": "stream",
     "text": [
      "Warning message in odmocnina(2, odmocnitCim = 0):\n",
      "“Je nám líto, ale tato funkce podporuje pouze přirozený exponent.”"
     ]
    },
    {
     "data": {
      "text/plain": [
       "NULL"
      ]
     },
     "metadata": {},
     "output_type": "display_data"
    },
    {
     "name": "stderr",
     "output_type": "stream",
     "text": [
      "Warning message in odmocnina(2, odmocnitCim = 0.5):\n",
      "“Je nám líto, ale tato funkce podporuje pouze přirozený exponent.”"
     ]
    },
    {
     "data": {
      "text/plain": [
       "NULL"
      ]
     },
     "metadata": {},
     "output_type": "display_data"
    },
    {
     "name": "stderr",
     "output_type": "stream",
     "text": [
      "Warning message in odmocnina(2, odmocnitCim = 1.2):\n",
      "“Je nám líto, ale tato funkce podporuje pouze přirozený exponent.”"
     ]
    },
    {
     "data": {
      "text/plain": [
       "NULL"
      ]
     },
     "metadata": {},
     "output_type": "display_data"
    }
   ],
   "source": [
    "odmocnina <- function(cislo, odmocnitCim) {\n",
    "    # spočítá odmocninu z daného přirozeného čísla\n",
    "    \n",
    "    odmocnitCim_int <- as.integer(odmocnitCim)\n",
    "    if (odmocnitCim_int != odmocnitCim || odmocnitCim_int < 1) {\n",
    "        warning(\"Je nám líto, ale tato funkce podporuje pouze přirozený exponent.\")\n",
    "        return()\n",
    "    } else {\n",
    "        cislo ^ (1 / odmocnitCim_int)\n",
    "    }\n",
    "}\n",
    "\n",
    "odmocnina(2, odmocnitCim = 2)\n",
    "odmocnina(2, odmocnitCim = 0)\n",
    "odmocnina(2, odmocnitCim = 0.5)\n",
    "odmocnina(2, odmocnitCim = 1.2)"
   ]
  },
  {
   "cell_type": "markdown",
   "metadata": {},
   "source": [
    "V této verzi tedy nejprve převedeme vstupní parametr pomocí funkce `as.integer` na celé číslo, paradaxně abychom zjistili, co vlastně uživatel poslal. Pokud se hodnota po převedení totiž nebude číselně rovnat hodnotě původní, tak nám uživatel již nedal celé číslo na vstupu. To testuje první část podmínky (`odmocnitCim_int != odmocnitCim`). Pokud tedy tato část platí, víme, že se jedná o reálné číslo a uživatele hned odpálkujeme. Pokud nám ale uživatel již dal celé číslo, tak tato podmínka splněná nebude a mi musíme (díky operátoru `||`) ještě zkontrolovat zda náš nový exponent není náhodou menší než 1 (`odmocnitCim_int < 1`). Díky této kaskádě podmíněných výrazů se blok `else` vykoná jenom a pouze v případě, pokud je `odmocnitCim` přirozené číslo.\n",
    "\n",
    "Exponent tedy máme vyřešený, ale je tu ještě problém s výpočtem odmocniny ze záporného čísla:"
   ]
  },
  {
   "cell_type": "code",
   "execution_count": 74,
   "metadata": {},
   "outputs": [
    {
     "data": {
      "text/html": [
       "NaN"
      ],
      "text/latex": [
       "NaN"
      ],
      "text/markdown": [
       "NaN"
      ],
      "text/plain": [
       "[1] NaN"
      ]
     },
     "metadata": {},
     "output_type": "display_data"
    },
    {
     "data": {
      "text/html": [
       "NaN"
      ],
      "text/latex": [
       "NaN"
      ],
      "text/markdown": [
       "NaN"
      ],
      "text/plain": [
       "[1] NaN"
      ]
     },
     "metadata": {},
     "output_type": "display_data"
    }
   ],
   "source": [
    "odmocnina(-2, 2)\n",
    "odmocnina(-2, 3)"
   ]
  },
  {
   "cell_type": "markdown",
   "metadata": {},
   "source": [
    "R si evidentně s něčím neví rady, protože v obou případech tiše vrátí hodnotu `NaN` (Not a Number), což na rozdíl od `NULL` znamená existující hodnotu ale neznámou.\n",
    "\n",
    "V případě druhé odmocniny je to pochopitelné, ale co ta třetí? Ta by přece měla jít spočítat, neboť pokud $a$ je nezáporné číslo, $m$ je přirozené číslo nebo nula a $n$ je ve tvaru $n=2m+1$ (tedy je to liché číslo), pak platí:\n",
    "\n",
    "${\\sqrt[ {n}]{-a}}=-{\\sqrt[ {n}]{a}}$\n",
    "\n",
    "Odpověď je jednoduchá. R totiž výraz neinterpretuje jako zlomek, ale jako reálné číslo (výsledek dané operace), které má ovšem nekonečný rozvoj, takže jej nelze přesně vyjádřit, a proto je výsledná hodnota neznámá. R se s tímto problémem zřejmě dokáže vypořádat pouze pokud je základ kladný:"
   ]
  },
  {
   "cell_type": "code",
   "execution_count": 75,
   "metadata": {},
   "outputs": [
    {
     "data": {
      "text/html": [
       "1.25992104989487"
      ],
      "text/latex": [
       "1.25992104989487"
      ],
      "text/markdown": [
       "1.25992104989487"
      ],
      "text/plain": [
       "[1] 1.259921"
      ]
     },
     "metadata": {},
     "output_type": "display_data"
    }
   ],
   "source": [
    "odmocnina(2, 3)"
   ]
  },
  {
   "cell_type": "markdown",
   "metadata": {},
   "source": [
    "Řešení je tedy teď bohužel na nás:"
   ]
  },
  {
   "cell_type": "code",
   "execution_count": 76,
   "metadata": {},
   "outputs": [
    {
     "data": {
      "text/html": [
       "1.4142135623731"
      ],
      "text/latex": [
       "1.4142135623731"
      ],
      "text/markdown": [
       "1.4142135623731"
      ],
      "text/plain": [
       "[1] 1.414214"
      ]
     },
     "metadata": {},
     "output_type": "display_data"
    },
    {
     "data": {
      "text/html": [
       "1.25992104989487"
      ],
      "text/latex": [
       "1.25992104989487"
      ],
      "text/markdown": [
       "1.25992104989487"
      ],
      "text/plain": [
       "[1] 1.259921"
      ]
     },
     "metadata": {},
     "output_type": "display_data"
    },
    {
     "data": {
      "text/html": [
       "1.18920711500272"
      ],
      "text/latex": [
       "1.18920711500272"
      ],
      "text/markdown": [
       "1.18920711500272"
      ],
      "text/plain": [
       "[1] 1.189207"
      ]
     },
     "metadata": {},
     "output_type": "display_data"
    },
    {
     "data": {
      "text/html": [
       "1.14869835499704"
      ],
      "text/latex": [
       "1.14869835499704"
      ],
      "text/markdown": [
       "1.14869835499704"
      ],
      "text/plain": [
       "[1] 1.148698"
      ]
     },
     "metadata": {},
     "output_type": "display_data"
    },
    {
     "name": "stderr",
     "output_type": "stream",
     "text": [
      "Warning message in odmocnina(2, 0):\n",
      "“Je nám líto, ale tato funkce podporuje pouze přirozený exponent.”"
     ]
    },
    {
     "data": {
      "text/plain": [
       "NULL"
      ]
     },
     "metadata": {},
     "output_type": "display_data"
    },
    {
     "name": "stderr",
     "output_type": "stream",
     "text": [
      "Warning message in odmocnina(2, 0.5):\n",
      "“Je nám líto, ale tato funkce podporuje pouze přirozený exponent.”"
     ]
    },
    {
     "data": {
      "text/plain": [
       "NULL"
      ]
     },
     "metadata": {},
     "output_type": "display_data"
    },
    {
     "name": "stderr",
     "output_type": "stream",
     "text": [
      "Warning message in odmocnina(-2, 2):\n",
      "“Základ je mimo definiční obor funkce.”"
     ]
    },
    {
     "data": {
      "text/plain": [
       "NULL"
      ]
     },
     "metadata": {},
     "output_type": "display_data"
    },
    {
     "data": {
      "text/html": [
       "-1.25992104989487"
      ],
      "text/latex": [
       "-1.25992104989487"
      ],
      "text/markdown": [
       "-1.25992104989487"
      ],
      "text/plain": [
       "[1] -1.259921"
      ]
     },
     "metadata": {},
     "output_type": "display_data"
    },
    {
     "name": "stderr",
     "output_type": "stream",
     "text": [
      "Warning message in odmocnina(-2, 4):\n",
      "“Základ je mimo definiční obor funkce.”"
     ]
    },
    {
     "data": {
      "text/plain": [
       "NULL"
      ]
     },
     "metadata": {},
     "output_type": "display_data"
    },
    {
     "data": {
      "text/html": [
       "-1.14869835499704"
      ],
      "text/latex": [
       "-1.14869835499704"
      ],
      "text/markdown": [
       "-1.14869835499704"
      ],
      "text/plain": [
       "[1] -1.148698"
      ]
     },
     "metadata": {},
     "output_type": "display_data"
    }
   ],
   "source": [
    "odmocnina <- function(cislo, odmocnitCim) {\n",
    "    # spočítá odmocninu z daného přirozeného čísla\n",
    "    \n",
    "    odmocnitCim_int <- as.integer(odmocnitCim)\n",
    "    if (odmocnitCim_int != odmocnitCim || odmocnitCim_int < 1) {\n",
    "        warning(\"Je nám líto, ale tato funkce podporuje pouze přirozený exponent.\")\n",
    "        return()\n",
    "    } else if (odmocnitCim_int %% 2 != 0 && cislo < 0) {\n",
    "        -((-cislo) ^ (1 / odmocnitCim))\n",
    "    } else if (odmocnitCim_int %% 2 == 0 && cislo < 0) {\n",
    "        warning(\"Základ je mimo definiční obor funkce.\")\n",
    "        return()\n",
    "    } else {\n",
    "        cislo ^ (1 / odmocnitCim)\n",
    "    }\n",
    "}\n",
    "\n",
    "odmocnina(2, 2)\n",
    "odmocnina(2, 3)\n",
    "odmocnina(2, 4)\n",
    "odmocnina(2, 5)\n",
    "odmocnina(2, 0)\n",
    "odmocnina(2, 0.5)\n",
    "odmocnina(-2, 2)\n",
    "odmocnina(-2, 3)\n",
    "odmocnina(-2, 4)\n",
    "odmocnina(-2, 5)"
   ]
  },
  {
   "cell_type": "markdown",
   "metadata": {},
   "source": [
    "Do naší funkce jsme tedy přidali další dvě podmínky, kterých lze v R takto řetězit libovolný počet. V tomto případě se nejprve vykoná první podmínka, která testuje, zda je exponent přirozený. Pokud je splněná, vykoná se příslušný blok. Pokud ne, otestuje se další podmínka, která se aktivuje pouze v případě, kdy je základ (parametr `cislo`) záporný a zároveň je exponent (parametr `odmocnitCim`) liché číslo. Pokud ani tato podmínka není splněná, pokračuje se v hierarchii dále, tedy k otestování, zda není `cislo` mimo definiční obor odmociny se sudým exponentem a potažmo ke klasickému výpočtu pro všechny ostatní případy v bloku `else`.\n",
    "\n",
    "Tento příklad kromě demonstrace větvení programu pomocí podmínek též ukazuje, že R není všemohoucí a výsledky je vždy pečlivě kontrolovat a ne se na ně slepě spoléhat.\n",
    "\n",
    "Pro úplnost si nakonec ještě ukažme zjednodušenou jednořádkovou syntaxi řídící struktury `if-else`:"
   ]
  },
  {
   "cell_type": "code",
   "execution_count": 77,
   "metadata": {},
   "outputs": [
    {
     "name": "stdout",
     "output_type": "stream",
     "text": [
      "[1] \"cond. 3\"\n"
     ]
    }
   ],
   "source": [
    "if (F) print(\"cond. 1\") else if (T) print(\"cond. 3\") else print(\"else\")"
   ]
  },
  {
   "cell_type": "markdown",
   "metadata": {},
   "source": [
    "### Cykly\n",
    "\n",
    "Jak již zřejmě vyplynulo z předchozích kapitol, v R je ústředním datovým typem vektor, který zpravidla agreguje nějakou skupinu hodnot. Vektory by nám byly celkem k ničemu, pokud by nám jazyk nijak neumožňoval je jednoduše procházet a modifikovat. To je právě posláním cyklů, řídících struktur, které si představíme v této kapitole.\n",
    "\n",
    "#### For\n",
    "\n",
    "Cyklus for je středobodem všech procedurálních a i jiných programovacích jazyků, a proto není překvapením, že existuje i v programu R. Cyklus slouží pro procházení lineárních datových struktur a lze jej definovat následujícím způsobem:"
   ]
  },
  {
   "cell_type": "code",
   "execution_count": 78,
   "metadata": {},
   "outputs": [
    {
     "name": "stdout",
     "output_type": "stream",
     "text": [
      "[1] 1\n",
      "[1] 2\n",
      "[1] 3\n",
      "[1] 4\n",
      "[1] 5\n",
      "[1] 6\n",
      "[1] 7\n",
      "[1] 8\n",
      "[1] 9\n",
      "[1] 10\n"
     ]
    }
   ],
   "source": [
    "for (i in 1:10) {\n",
    "    print(i)\n",
    "}"
   ]
  },
  {
   "cell_type": "markdown",
   "metadata": {},
   "source": [
    "Kód výše pravděpodobně není nutné podrobně vysvětlovat, neboť již samotný tvar příkazu napovídá, co se asi bude dít. Řekněme tedy jen to, že první složkou této struktury je příkaz v kulatých závorkách, který napravo udává datovou strukturu, přes kterou se bude iterovat, a vlevo potom název proměnné, který bude v bloku kódu cyklu postupně zastupovat jednotlivé prvky dané struktury. V našem případě se tedy do proměnné `i` v průběhu cyklu postupně zapíše každý prvek vytvořeného vektoru. \n",
    "\n",
    "Blok kódu cyklu může obsahovat libovolné příkazy, které mohou dělat v podstatě cokoliv. Většinou dokonce ani nevadí příkazy, které nějakým způsobem modifikují dimenze objektu, který právě procházíte:"
   ]
  },
  {
   "cell_type": "code",
   "execution_count": 79,
   "metadata": {},
   "outputs": [
    {
     "data": {
      "text/html": [
       "<ol class=list-inline>\n",
       "\t<li>1024</li>\n",
       "\t<li>512</li>\n",
       "\t<li>256</li>\n",
       "\t<li>128</li>\n",
       "\t<li>64</li>\n",
       "\t<li>32</li>\n",
       "\t<li>16</li>\n",
       "\t<li>8</li>\n",
       "\t<li>4</li>\n",
       "\t<li>2</li>\n",
       "\t<li>1</li>\n",
       "\t<li>2</li>\n",
       "\t<li>3</li>\n",
       "\t<li>4</li>\n",
       "\t<li>5</li>\n",
       "\t<li>6</li>\n",
       "\t<li>7</li>\n",
       "\t<li>8</li>\n",
       "\t<li>9</li>\n",
       "\t<li>10</li>\n",
       "</ol>\n"
      ],
      "text/latex": [
       "\\begin{enumerate*}\n",
       "\\item 1024\n",
       "\\item 512\n",
       "\\item 256\n",
       "\\item 128\n",
       "\\item 64\n",
       "\\item 32\n",
       "\\item 16\n",
       "\\item 8\n",
       "\\item 4\n",
       "\\item 2\n",
       "\\item 1\n",
       "\\item 2\n",
       "\\item 3\n",
       "\\item 4\n",
       "\\item 5\n",
       "\\item 6\n",
       "\\item 7\n",
       "\\item 8\n",
       "\\item 9\n",
       "\\item 10\n",
       "\\end{enumerate*}\n"
      ],
      "text/markdown": [
       "1. 1024\n",
       "2. 512\n",
       "3. 256\n",
       "4. 128\n",
       "5. 64\n",
       "6. 32\n",
       "7. 16\n",
       "8. 8\n",
       "9. 4\n",
       "10. 2\n",
       "11. 1\n",
       "12. 2\n",
       "13. 3\n",
       "14. 4\n",
       "15. 5\n",
       "16. 6\n",
       "17. 7\n",
       "18. 8\n",
       "19. 9\n",
       "20. 10\n",
       "\n",
       "\n"
      ],
      "text/plain": [
       " [1] 1024  512  256  128   64   32   16    8    4    2    1    2    3    4    5\n",
       "[16]    6    7    8    9   10"
      ]
     },
     "metadata": {},
     "output_type": "display_data"
    }
   ],
   "source": [
    "xs <- 1:10\n",
    "for (i in xs) {\n",
    "    xs <- c(2^i, xs)\n",
    "}\n",
    "xs"
   ]
  },
  {
   "cell_type": "markdown",
   "metadata": {},
   "source": [
    "nebo proměnné, podle které iterujete:"
   ]
  },
  {
   "cell_type": "code",
   "execution_count": 80,
   "metadata": {},
   "outputs": [
    {
     "name": "stdout",
     "output_type": "stream",
     "text": [
      "[1] 1\n",
      "[1] 2\n",
      "[1] \"#\"\n",
      "[1] 2\n",
      "[1] 4\n",
      "[1] \"#\"\n",
      "[1] 3\n",
      "[1] 8\n",
      "[1] \"#\"\n",
      "[1] 4\n",
      "[1] 16\n",
      "[1] \"#\"\n",
      "[1] 5\n",
      "[1] 32\n",
      "[1] \"#\"\n",
      "[1] 6\n",
      "[1] 64\n",
      "[1] \"#\"\n",
      "[1] 7\n",
      "[1] 128\n",
      "[1] \"#\"\n",
      "[1] 8\n",
      "[1] 256\n",
      "[1] \"#\"\n",
      "[1] 9\n",
      "[1] 512\n",
      "[1] \"#\"\n",
      "[1] 10\n",
      "[1] 1024\n",
      "[1] \"#\"\n"
     ]
    },
    {
     "data": {
      "text/html": [
       "1024"
      ],
      "text/latex": [
       "1024"
      ],
      "text/markdown": [
       "1024"
      ],
      "text/plain": [
       "[1] 1024"
      ]
     },
     "metadata": {},
     "output_type": "display_data"
    }
   ],
   "source": [
    "xs <- 1:10\n",
    "for (i in xs) {\n",
    "    print(i)\n",
    "    i <- 2^i\n",
    "    print(i)\n",
    "    print(\"#\")\n",
    "}\n",
    "i"
   ]
  },
  {
   "cell_type": "markdown",
   "metadata": {},
   "source": [
    "Všimněte si též, že tělo cyklu se vždy vykonává v aktuálním prostředí a všechny proměnné vytvořené uvnitř cyklu jsou pak dostupné i po jeho dokončení.\n",
    "\n",
    "Na závěr ještě příklad s jednořádkovou syntaxí:"
   ]
  },
  {
   "cell_type": "code",
   "execution_count": 81,
   "metadata": {},
   "outputs": [
    {
     "name": "stdout",
     "output_type": "stream",
     "text": [
      "[1] 2\n",
      "[1] 4\n",
      "[1] 8\n",
      "[1] 16\n",
      "[1] 32\n",
      "[1] 64\n",
      "[1] 128\n",
      "[1] 256\n",
      "[1] 512\n",
      "[1] 1024\n"
     ]
    }
   ],
   "source": [
    "for (i in 1:10) print(2^i)"
   ]
  },
  {
   "cell_type": "markdown",
   "metadata": {},
   "source": [
    "a důkaz, že i cyklus `for` je implementován pomocí funkce a lze jej tedy použít i následujícím způsobem:"
   ]
  },
  {
   "cell_type": "code",
   "execution_count": 82,
   "metadata": {},
   "outputs": [
    {
     "name": "stdout",
     "output_type": "stream",
     "text": [
      "[1] 2\n",
      "[1] 4\n",
      "[1] 8\n",
      "[1] 16\n",
      "[1] 32\n",
      "[1] 64\n",
      "[1] 128\n",
      "[1] 256\n",
      "[1] 512\n",
      "[1] 1024\n"
     ]
    }
   ],
   "source": [
    "\"for\"(i, 1:10, {print(2^i)})"
   ]
  },
  {
   "cell_type": "markdown",
   "metadata": {},
   "source": [
    "#### While\n",
    "\n",
    "Cyklus `while` je stejně jako `for` též velkou stálicí programovacích jazyků a používá se následovně:"
   ]
  },
  {
   "cell_type": "code",
   "execution_count": 83,
   "metadata": {},
   "outputs": [
    {
     "name": "stdout",
     "output_type": "stream",
     "text": [
      "[1] 1\n",
      "[1] 2\n",
      "[1] 3\n",
      "[1] 4\n",
      "[1] 5\n",
      "[1] 6\n",
      "[1] 7\n",
      "[1] 8\n",
      "[1] 9\n",
      "[1] 10\n"
     ]
    }
   ],
   "source": [
    "x <- 1\n",
    "while(x <= 10) {\n",
    "    print(x)\n",
    "    x <- x + 1\n",
    "}"
   ]
  },
  {
   "cell_type": "markdown",
   "metadata": {},
   "source": [
    "Jak napovídá tento příklad, tak cyklus `while` se neřídí délkou nějaké lineární sekvence, ale podmínkou. Tento cyklus je tedy o něco obecnější než cyklus `for`, který od nás vyžaduje určení počátku a konce pomocí nějaké lineární datové struktury. Cyklus `while` se tedy hodí především v situacích, kdy předem nevíme, kolik iterací budeme k řešení našeho problému potřebovat. V kulatých závorkách může být jakýkoli výraz, který se vyhodnotí na lofickou hodnotu (tedy `TRUE` nebo `FALSE`). I cyklus `while` má svou zjednodušenou verzi:"
   ]
  },
  {
   "cell_type": "code",
   "execution_count": 84,
   "metadata": {},
   "outputs": [
    {
     "data": {
      "text/html": [
       "<ol class=list-inline>\n",
       "\t<li>'a'</li>\n",
       "\t<li>'a'</li>\n",
       "\t<li>'a'</li>\n",
       "\t<li>'a'</li>\n",
       "\t<li>'a'</li>\n",
       "\t<li>'a'</li>\n",
       "\t<li>'a'</li>\n",
       "\t<li>'a'</li>\n",
       "\t<li>'a'</li>\n",
       "\t<li>'a'</li>\n",
       "</ol>\n"
      ],
      "text/latex": [
       "\\begin{enumerate*}\n",
       "\\item 'a'\n",
       "\\item 'a'\n",
       "\\item 'a'\n",
       "\\item 'a'\n",
       "\\item 'a'\n",
       "\\item 'a'\n",
       "\\item 'a'\n",
       "\\item 'a'\n",
       "\\item 'a'\n",
       "\\item 'a'\n",
       "\\end{enumerate*}\n"
      ],
      "text/markdown": [
       "1. 'a'\n",
       "2. 'a'\n",
       "3. 'a'\n",
       "4. 'a'\n",
       "5. 'a'\n",
       "6. 'a'\n",
       "7. 'a'\n",
       "8. 'a'\n",
       "9. 'a'\n",
       "10. 'a'\n",
       "\n",
       "\n"
      ],
      "text/plain": [
       " [1] \"a\" \"a\" \"a\" \"a\" \"a\" \"a\" \"a\" \"a\" \"a\" \"a\""
      ]
     },
     "metadata": {},
     "output_type": "display_data"
    }
   ],
   "source": [
    "xs <- c() # prázdný vektor\n",
    "while (length(xs) < 10) xs <- c(xs, \"a\")\n",
    "xs"
   ]
  },
  {
   "cell_type": "markdown",
   "metadata": {},
   "source": [
    "Všimněte si, že v tomto případě jsme pro vytvoření prázdného vektoru s výhodou využili volání funkce `c` bez parametrů a její parametrickou verzi potom k připojení nových prvků do tohoto vektoru. Tento způsob vytváření vektorů není vždy úplně ideální, ale o tom si řekneme až za chvíli.\n",
    "\n",
    "#### Repeat\n",
    "\n",
    "Asi nejobecnějším cyklem v R je příkaz `repeat`:"
   ]
  },
  {
   "cell_type": "code",
   "execution_count": 85,
   "metadata": {},
   "outputs": [
    {
     "name": "stdout",
     "output_type": "stream",
     "text": [
      "[1] 1\n",
      "[1] 2\n",
      "[1] 3\n",
      "[1] 4\n",
      "[1] 5\n",
      "[1] 6\n",
      "[1] 7\n",
      "[1] 8\n",
      "[1] 9\n",
      "[1] 10\n",
      "[1] \"I'm done here...\"\n"
     ]
    }
   ],
   "source": [
    "i <- 0\n",
    "repeat {\n",
    "    i <- i + 1\n",
    "    if (i > 10) {\n",
    "        print(\"I'm done here...\")\n",
    "        break\n",
    "    }\n",
    "    \n",
    "    print(i)\n",
    "}"
   ]
  },
  {
   "cell_type": "markdown",
   "metadata": {},
   "source": [
    "Pomocí tohoto příkazu si prostě řekneme o opakování daného bloku kódu a je na nás, kdy ho ukončíme. K ukončení cyklu je zde použit příkaz `break`, který se vyvolá pouze pokud je splněná naše podmínka (když `i` přeroste desítku). Příkaz `break` můžeme mimochodem použít k předčasnému ukončení jakéhokoliv cyklu:"
   ]
  },
  {
   "cell_type": "code",
   "execution_count": 86,
   "metadata": {},
   "outputs": [
    {
     "name": "stdout",
     "output_type": "stream",
     "text": [
      "[1] 1\n",
      "[1] 2\n",
      "[1] 3\n",
      "[1] 4\n",
      "[1] 5\n",
      "[1] 6\n",
      "[1] 7\n",
      "[1] 8\n",
      "[1] 9\n",
      "[1] 10\n",
      "[1] \"I'm done here...\"\n"
     ]
    }
   ],
   "source": [
    "i <- 0\n",
    "while (T) {\n",
    "    i <- i + 1\n",
    "    if (i > 10) {\n",
    "        print(\"I'm done here...\")\n",
    "        break\n",
    "    }\n",
    "    \n",
    "    print(i)\n",
    "}"
   ]
  },
  {
   "cell_type": "markdown",
   "metadata": {},
   "source": [
    "Kromě příkazu `break` existuje ještě příkaz `next`. Tento příkaz pouze předčasně ukončí aktuální iteraci, nikoliv cyklus jako takový. Lze jej tedy použít například k vyloučení určitých prvků (v našem případě sudých čísel) při konstrukci vektoru:"
   ]
  },
  {
   "cell_type": "code",
   "execution_count": 87,
   "metadata": {},
   "outputs": [
    {
     "data": {
      "text/html": [
       "<ol class=list-inline>\n",
       "\t<li>1</li>\n",
       "\t<li>3</li>\n",
       "\t<li>5</li>\n",
       "\t<li>7</li>\n",
       "\t<li>9</li>\n",
       "</ol>\n"
      ],
      "text/latex": [
       "\\begin{enumerate*}\n",
       "\\item 1\n",
       "\\item 3\n",
       "\\item 5\n",
       "\\item 7\n",
       "\\item 9\n",
       "\\end{enumerate*}\n"
      ],
      "text/markdown": [
       "1. 1\n",
       "2. 3\n",
       "3. 5\n",
       "4. 7\n",
       "5. 9\n",
       "\n",
       "\n"
      ],
      "text/plain": [
       "[1] 1 3 5 7 9"
      ]
     },
     "metadata": {},
     "output_type": "display_data"
    }
   ],
   "source": [
    "xs <- c()\n",
    "for (i in 1:10) {\n",
    "    if (i %% 2 == 0) {\n",
    "        # při nalezení sudého čísla předčasně ukončíme aktuální iteraci\n",
    "        \n",
    "        next\n",
    "    }\n",
    "    xs <- c(xs, i)\n",
    "}\n",
    "xs"
   ]
  },
  {
   "cell_type": "markdown",
   "metadata": {},
   "source": [
    "Předchozí příklad lze mimochodem jednoduše přepsat na jednu řádku následujícím způsobem pouze pomocí operátorů:"
   ]
  },
  {
   "cell_type": "code",
   "execution_count": 88,
   "metadata": {},
   "outputs": [
    {
     "data": {
      "text/html": [
       "<ol class=list-inline>\n",
       "\t<li>1</li>\n",
       "\t<li>3</li>\n",
       "\t<li>5</li>\n",
       "\t<li>7</li>\n",
       "\t<li>9</li>\n",
       "</ol>\n"
      ],
      "text/latex": [
       "\\begin{enumerate*}\n",
       "\\item 1\n",
       "\\item 3\n",
       "\\item 5\n",
       "\\item 7\n",
       "\\item 9\n",
       "\\end{enumerate*}\n"
      ],
      "text/markdown": [
       "1. 1\n",
       "2. 3\n",
       "3. 5\n",
       "4. 7\n",
       "5. 9\n",
       "\n",
       "\n"
      ],
      "text/plain": [
       "[1] 1 3 5 7 9"
      ]
     },
     "metadata": {},
     "output_type": "display_data"
    }
   ],
   "source": [
    "(1:10)[(1:10 %% 2) != 0]"
   ]
  },
  {
   "cell_type": "markdown",
   "metadata": {},
   "source": [
    "nebo pouhým zavoláním funkce `seq`:"
   ]
  },
  {
   "cell_type": "code",
   "execution_count": 89,
   "metadata": {},
   "outputs": [
    {
     "data": {
      "text/html": [
       "<ol class=list-inline>\n",
       "\t<li>1</li>\n",
       "\t<li>3</li>\n",
       "\t<li>5</li>\n",
       "\t<li>7</li>\n",
       "\t<li>9</li>\n",
       "</ol>\n"
      ],
      "text/latex": [
       "\\begin{enumerate*}\n",
       "\\item 1\n",
       "\\item 3\n",
       "\\item 5\n",
       "\\item 7\n",
       "\\item 9\n",
       "\\end{enumerate*}\n"
      ],
      "text/markdown": [
       "1. 1\n",
       "2. 3\n",
       "3. 5\n",
       "4. 7\n",
       "5. 9\n",
       "\n",
       "\n"
      ],
      "text/plain": [
       "[1] 1 3 5 7 9"
      ]
     },
     "metadata": {},
     "output_type": "display_data"
    }
   ],
   "source": [
    "seq(1, 10, 2)"
   ]
  },
  {
   "cell_type": "markdown",
   "metadata": {},
   "source": [
    "### Poznámka k rychlosti a psaní efektivního kódu\n",
    "\n",
    "Závěrem se ještě na chvíli vrátíme k tomu, co jsme si řekli o R a o tom, že různá řešení stejného problému nejsou vždy stejně efektivní a je tedy dobré mít na paměti, jaké mohou mít různé příkazy vliv na čas, který R potřebuje k vykonání našeho programu. Podívejme se na následující příklad:"
   ]
  },
  {
   "cell_type": "code",
   "execution_count": 90,
   "metadata": {},
   "outputs": [
    {
     "data": {
      "text/html": [
       "<ol class=list-inline>\n",
       "\t<li>2</li>\n",
       "\t<li>3</li>\n",
       "\t<li>4</li>\n",
       "\t<li>5</li>\n",
       "\t<li>6</li>\n",
       "\t<li>7</li>\n",
       "\t<li>8</li>\n",
       "\t<li>9</li>\n",
       "\t<li>10</li>\n",
       "\t<li>11</li>\n",
       "</ol>\n"
      ],
      "text/latex": [
       "\\begin{enumerate*}\n",
       "\\item 2\n",
       "\\item 3\n",
       "\\item 4\n",
       "\\item 5\n",
       "\\item 6\n",
       "\\item 7\n",
       "\\item 8\n",
       "\\item 9\n",
       "\\item 10\n",
       "\\item 11\n",
       "\\end{enumerate*}\n"
      ],
      "text/markdown": [
       "1. 2\n",
       "2. 3\n",
       "3. 4\n",
       "4. 5\n",
       "5. 6\n",
       "6. 7\n",
       "7. 8\n",
       "8. 9\n",
       "9. 10\n",
       "10. 11\n",
       "\n",
       "\n"
      ],
      "text/plain": [
       " [1]  2  3  4  5  6  7  8  9 10 11"
      ]
     },
     "metadata": {},
     "output_type": "display_data"
    },
    {
     "data": {
      "text/plain": [
       "Time difference of 55.3903 secs"
      ]
     },
     "metadata": {},
     "output_type": "display_data"
    },
    {
     "data": {
      "text/html": [
       "<ol class=list-inline>\n",
       "\t<li>2</li>\n",
       "\t<li>3</li>\n",
       "\t<li>4</li>\n",
       "\t<li>5</li>\n",
       "\t<li>6</li>\n",
       "\t<li>7</li>\n",
       "\t<li>8</li>\n",
       "\t<li>9</li>\n",
       "\t<li>10</li>\n",
       "\t<li>11</li>\n",
       "</ol>\n"
      ],
      "text/latex": [
       "\\begin{enumerate*}\n",
       "\\item 2\n",
       "\\item 3\n",
       "\\item 4\n",
       "\\item 5\n",
       "\\item 6\n",
       "\\item 7\n",
       "\\item 8\n",
       "\\item 9\n",
       "\\item 10\n",
       "\\item 11\n",
       "\\end{enumerate*}\n"
      ],
      "text/markdown": [
       "1. 2\n",
       "2. 3\n",
       "3. 4\n",
       "4. 5\n",
       "5. 6\n",
       "6. 7\n",
       "7. 8\n",
       "8. 9\n",
       "9. 10\n",
       "10. 11\n",
       "\n",
       "\n"
      ],
      "text/plain": [
       " [1]  2  3  4  5  6  7  8  9 10 11"
      ]
     },
     "metadata": {},
     "output_type": "display_data"
    },
    {
     "data": {
      "text/plain": [
       "Time difference of 0.5030401 secs"
      ]
     },
     "metadata": {},
     "output_type": "display_data"
    },
    {
     "data": {
      "text/html": [
       "<ol class=list-inline>\n",
       "\t<li>2</li>\n",
       "\t<li>3</li>\n",
       "\t<li>4</li>\n",
       "\t<li>5</li>\n",
       "\t<li>6</li>\n",
       "\t<li>7</li>\n",
       "\t<li>8</li>\n",
       "\t<li>9</li>\n",
       "\t<li>10</li>\n",
       "\t<li>11</li>\n",
       "</ol>\n"
      ],
      "text/latex": [
       "\\begin{enumerate*}\n",
       "\\item 2\n",
       "\\item 3\n",
       "\\item 4\n",
       "\\item 5\n",
       "\\item 6\n",
       "\\item 7\n",
       "\\item 8\n",
       "\\item 9\n",
       "\\item 10\n",
       "\\item 11\n",
       "\\end{enumerate*}\n"
      ],
      "text/markdown": [
       "1. 2\n",
       "2. 3\n",
       "3. 4\n",
       "4. 5\n",
       "5. 6\n",
       "6. 7\n",
       "7. 8\n",
       "8. 9\n",
       "9. 10\n",
       "10. 11\n",
       "\n",
       "\n"
      ],
      "text/plain": [
       " [1]  2  3  4  5  6  7  8  9 10 11"
      ]
     },
     "metadata": {},
     "output_type": "display_data"
    },
    {
     "data": {
      "text/plain": [
       "Time difference of 0.2668557 secs"
      ]
     },
     "metadata": {},
     "output_type": "display_data"
    }
   ],
   "source": [
    "# různé implementace jednoduchého algoritmu pro zvýšení hodnot vektoru o daný inkrement\n",
    "\n",
    "increment_by <- function(what, by) {\n",
    "    # zvyš číslo o danou hodnotu\n",
    "    \n",
    "    what + by\n",
    "}\n",
    "\n",
    "hodne_cisel <- 1:10^5 # původní vektor\n",
    "inkrement <- 1 # hodnota, o kterou prvky budeme zvyšovat\n",
    "\n",
    "# 1. výsledný vektor pomocí funkce 'c'\n",
    "start <- Sys.time() # stopky zapnout\n",
    "vysledek <- c()\n",
    "for (x in hodne_cisel) {\n",
    "    vysledek <- c(vysledek, increment_by(x, inkrement)) # velice neefektivní (rekonstrukce objektů)\n",
    "}\n",
    "stop <- Sys.time() # stopky vypnout\n",
    "vysledek[1:10]\n",
    "cas <- stop - start # výsledný čas\n",
    "cas\n",
    "\n",
    "# 2. vyplnění předpřipraveného vektoru\n",
    "start <- Sys.time()\n",
    "vysledek <- numeric(length(hodne_cisel)) # předpřipravený vektor\n",
    "for (i in 1:length(hodne_cisel)) {\n",
    "    vysledek[i] <- increment_by(hodne_cisel[i], inkrement)\n",
    "}\n",
    "stop <- Sys.time()\n",
    "vysledek[1:10]\n",
    "cas <- stop - start\n",
    "cas\n",
    "\n",
    "# 3. funkcionální přístup pomocí 'sapply'\n",
    "start <- Sys.time()\n",
    "vysledek <- sapply(hodne_cisel, increment_by, inkrement)\n",
    "stop <- Sys.time()\n",
    "vysledek[1:10]\n",
    "cas <- stop - start\n",
    "cas"
   ]
  },
  {
   "cell_type": "markdown",
   "metadata": {},
   "source": [
    "Jak vidíte, všechny tři implementace generují stejný výstup, kterým je nový vektor s upravenými hodnotami původního, ale činí tak různou rychlostí. \n",
    "\n",
    "V prvním případě se dokonce díky nevhodné implementaci dostaneme až na čas v řádu desítek sekund! Je to kvůli tomu, že v každé iteraci vytváříme úplně nový vektor, který vyžaduje kopírování již uložených hodnot, jejichž počet se zvyšuje s každou iterací, což má za následek rapidní nárůst v čase.\n",
    "\n",
    "Druhá implementace už je o něco chytřejší a využije znalosti původního vektoru k 'předpřipravení' vektoru nového, což výrazně snižuje výpočetní čas, protože se v každém kroku kopíruje pouze jedna hodnota a vektor se nevytváří znovu od začátku.\n",
    "\n",
    "Třetí implementace ilustruje funkcionální přístup k tomuto problému pomocí funkce `sapply`, která aplikuje danou funkci na každý prvek daného vektoru a výsledek každé operace uloží do vektoru nového, který je zároveň její návratovou hodnotou. Tato funkce je na tyto operace optimalizovaná a je proto ještě o něco rychlejší než druhá implementace s předpřipraveným vektorem. My se k funkcionálnímu programování v R ještě vrátíme v dalším tutoriálu, takže si tuto funkci teď nebudeme podrobněji vysvětlovat, ale hodí se o ní vědět.\n",
    "\n",
    "Tyto příklady tedy ukazují, že na tom, jakým způsobem zapíšete svůj kód, skutečně záleží a někdy budete muset zapřemýšlet nad tím, co po R vlastně chcete a zda neexistuje efektivnější způsob jak vyřešit daný problém. Pokud se váš program výrazně zpomalí (zejména při analýze velkých datových množin), vzpomeňte si, že existuje funkce `Sys.time` a zkuste si vaše příkazy jeden po druhém 'přeměřit' a kritické sekce přepsat.\n",
    "\n",
    "Na závěr opět řešení problému výše 'na jednu řádku' a jeho čas:"
   ]
  },
  {
   "cell_type": "code",
   "execution_count": 91,
   "metadata": {},
   "outputs": [
    {
     "data": {
      "text/html": [
       "<ol class=list-inline>\n",
       "\t<li>2</li>\n",
       "\t<li>3</li>\n",
       "\t<li>4</li>\n",
       "\t<li>5</li>\n",
       "\t<li>6</li>\n",
       "\t<li>7</li>\n",
       "\t<li>8</li>\n",
       "\t<li>9</li>\n",
       "\t<li>10</li>\n",
       "\t<li>11</li>\n",
       "</ol>\n"
      ],
      "text/latex": [
       "\\begin{enumerate*}\n",
       "\\item 2\n",
       "\\item 3\n",
       "\\item 4\n",
       "\\item 5\n",
       "\\item 6\n",
       "\\item 7\n",
       "\\item 8\n",
       "\\item 9\n",
       "\\item 10\n",
       "\\item 11\n",
       "\\end{enumerate*}\n"
      ],
      "text/markdown": [
       "1. 2\n",
       "2. 3\n",
       "3. 4\n",
       "4. 5\n",
       "5. 6\n",
       "6. 7\n",
       "7. 8\n",
       "8. 9\n",
       "9. 10\n",
       "10. 11\n",
       "\n",
       "\n"
      ],
      "text/plain": [
       " [1]  2  3  4  5  6  7  8  9 10 11"
      ]
     },
     "metadata": {},
     "output_type": "display_data"
    },
    {
     "data": {
      "text/plain": [
       "Time difference of 0.005702496 secs"
      ]
     },
     "metadata": {},
     "output_type": "display_data"
    }
   ],
   "source": [
    "start <- Sys.time()\n",
    "vysledek <- hodne_cisel + inkrement\n",
    "stop <- Sys.time()\n",
    "vysledek[1:10]\n",
    "cas <- stop - start\n",
    "cas"
   ]
  },
  {
   "cell_type": "markdown",
   "metadata": {},
   "source": [
    "Jak vidíte, nejjednodušší řešení může být v R to nejefektivnější, takže se vždy zamyslete, zda vám R náhodou již nenabízí snadnou cestu, než se pustíte do vlastní implementace. Obecně se v R nedoporučuje používat explicitní iterace (tedy smyčky `for`, `while` atp.), ale spíše řešení pomocí funkcí a operátorů, neboť ty jsou optimalizované pro konkrétní účely.\n",
    "\n",
    "## Operace s řetězci\n",
    "\n",
    "Při psaní programu (a to nejen v jazyce R) je často třeba uživateli poskytnout textový výstup, ať už je to pomocí funkce `print` nebo zapsáním textu do datového nebo logovacího souboru. V této sekci si tedy stručně ukážeme jaké základní funkce máme v R k dispozici pro práci s textovými řetězci.\n",
    "\n",
    "Jednou ze základních operací je získání určitého podřetězce:"
   ]
  },
  {
   "cell_type": "code",
   "execution_count": 92,
   "metadata": {},
   "outputs": [
    {
     "data": {
      "text/html": [
       "'Máma mele maso. Ema nemá psa.'"
      ],
      "text/latex": [
       "'Máma mele maso. Ema nemá psa.'"
      ],
      "text/markdown": [
       "'Máma mele maso. Ema nemá psa.'"
      ],
      "text/plain": [
       "[1] \"Máma mele maso. Ema nemá psa.\""
      ]
     },
     "metadata": {},
     "output_type": "display_data"
    }
   ],
   "source": [
    "text <- \"Ema má psa. Máma mele maso. Ema nemá psa.\"\n",
    "\n",
    "substr(text, 13, nchar(text))"
   ]
  },
  {
   "cell_type": "markdown",
   "metadata": {},
   "source": [
    "Tento kód tedy vybere poslední dvě věty textu za pomoci funkce `substr`, která vyžaduje tři argumenty: text samotný, index počátečního znaku podřetězce a index jeho konce. V našem příkladě chceme všechny znaky až dokonce, takže jsme použili funkci `nchar`, která vrací celkový počet symbolů v řetězci.\n",
    "\n",
    "Dalšími funkce, které se mohou hodit jsou funkce na převod mezi malými a velkými písmeny:"
   ]
  },
  {
   "cell_type": "code",
   "execution_count": 93,
   "metadata": {},
   "outputs": [
    {
     "data": {
      "text/html": [
       "'EMA MÁ PSA. MÁMA MELE MASO. EMA NEMÁ PSA.'"
      ],
      "text/latex": [
       "'EMA MÁ PSA. MÁMA MELE MASO. EMA NEMÁ PSA.'"
      ],
      "text/markdown": [
       "'EMA MÁ PSA. MÁMA MELE MASO. EMA NEMÁ PSA.'"
      ],
      "text/plain": [
       "[1] \"EMA MÁ PSA. MÁMA MELE MASO. EMA NEMÁ PSA.\""
      ]
     },
     "metadata": {},
     "output_type": "display_data"
    },
    {
     "data": {
      "text/html": [
       "'ema má psa. máma mele maso. ema nemá psa.'"
      ],
      "text/latex": [
       "'ema má psa. máma mele maso. ema nemá psa.'"
      ],
      "text/markdown": [
       "'ema má psa. máma mele maso. ema nemá psa.'"
      ],
      "text/plain": [
       "[1] \"ema má psa. máma mele maso. ema nemá psa.\""
      ]
     },
     "metadata": {},
     "output_type": "display_data"
    }
   ],
   "source": [
    "toupper(text)\n",
    "tolower(text)"
   ]
  },
  {
   "cell_type": "markdown",
   "metadata": {},
   "source": [
    "rozdělování řetězců podle separátoru (zde není návratová hodnota vektor, jak by se zdálo, ale [seznam](../04/04.ipynb#Seznam-(list&#41;), o kterých budeme hovořit v další lekci):"
   ]
  },
  {
   "cell_type": "code",
   "execution_count": 94,
   "metadata": {},
   "outputs": [
    {
     "data": {
      "text/html": [
       "<ol>\n",
       "\t<li><ol class=list-inline>\n",
       "\t<li>'Ema'</li>\n",
       "\t<li>'má'</li>\n",
       "\t<li>'psa.'</li>\n",
       "\t<li>'Máma'</li>\n",
       "\t<li>'mele'</li>\n",
       "\t<li>'maso.'</li>\n",
       "\t<li>'Ema'</li>\n",
       "\t<li>'nemá'</li>\n",
       "\t<li>'psa.'</li>\n",
       "</ol>\n",
       "</li>\n",
       "</ol>\n"
      ],
      "text/latex": [
       "\\begin{enumerate}\n",
       "\\item \\begin{enumerate*}\n",
       "\\item 'Ema'\n",
       "\\item 'má'\n",
       "\\item 'psa.'\n",
       "\\item 'Máma'\n",
       "\\item 'mele'\n",
       "\\item 'maso.'\n",
       "\\item 'Ema'\n",
       "\\item 'nemá'\n",
       "\\item 'psa.'\n",
       "\\end{enumerate*}\n",
       "\n",
       "\\end{enumerate}\n"
      ],
      "text/markdown": [
       "1. 1. 'Ema'\n",
       "2. 'má'\n",
       "3. 'psa.'\n",
       "4. 'Máma'\n",
       "5. 'mele'\n",
       "6. 'maso.'\n",
       "7. 'Ema'\n",
       "8. 'nemá'\n",
       "9. 'psa.'\n",
       "\n",
       "\n",
       "\n",
       "\n",
       "\n"
      ],
      "text/plain": [
       "[[1]]\n",
       "[1] \"Ema\"   \"má\"    \"psa.\"  \"Máma\"  \"mele\"  \"maso.\" \"Ema\"   \"nemá\"  \"psa.\" \n"
      ]
     },
     "metadata": {},
     "output_type": "display_data"
    }
   ],
   "source": [
    "strsplit(text, \" \")"
   ]
  },
  {
   "cell_type": "markdown",
   "metadata": {},
   "source": [
    "Jednotlivé položky seznamu zde totiž reprezentují jednotlivé vektory vytvořené při rozdělení dané položky. Toto chování dává větší smysl pokud se funkci pokusíme aplikovat na vektor řetězců:"
   ]
  },
  {
   "cell_type": "code",
   "execution_count": 95,
   "metadata": {},
   "outputs": [
    {
     "data": {
      "text/html": [
       "<ol>\n",
       "\t<li><ol class=list-inline>\n",
       "\t<li>'Ema'</li>\n",
       "\t<li>'má'</li>\n",
       "\t<li>'psa.'</li>\n",
       "\t<li>'Máma'</li>\n",
       "\t<li>'mele'</li>\n",
       "\t<li>'maso.'</li>\n",
       "\t<li>'Ema'</li>\n",
       "\t<li>'nemá'</li>\n",
       "\t<li>'psa.'</li>\n",
       "</ol>\n",
       "</li>\n",
       "\t<li><ol class=list-inline>\n",
       "\t<li>'Nějaká'</li>\n",
       "\t<li>'další'</li>\n",
       "\t<li>'věta.'</li>\n",
       "</ol>\n",
       "</li>\n",
       "</ol>\n"
      ],
      "text/latex": [
       "\\begin{enumerate}\n",
       "\\item \\begin{enumerate*}\n",
       "\\item 'Ema'\n",
       "\\item 'má'\n",
       "\\item 'psa.'\n",
       "\\item 'Máma'\n",
       "\\item 'mele'\n",
       "\\item 'maso.'\n",
       "\\item 'Ema'\n",
       "\\item 'nemá'\n",
       "\\item 'psa.'\n",
       "\\end{enumerate*}\n",
       "\n",
       "\\item \\begin{enumerate*}\n",
       "\\item 'Nějaká'\n",
       "\\item 'další'\n",
       "\\item 'věta.'\n",
       "\\end{enumerate*}\n",
       "\n",
       "\\end{enumerate}\n"
      ],
      "text/markdown": [
       "1. 1. 'Ema'\n",
       "2. 'má'\n",
       "3. 'psa.'\n",
       "4. 'Máma'\n",
       "5. 'mele'\n",
       "6. 'maso.'\n",
       "7. 'Ema'\n",
       "8. 'nemá'\n",
       "9. 'psa.'\n",
       "\n",
       "\n",
       "\n",
       "2. 1. 'Nějaká'\n",
       "2. 'další'\n",
       "3. 'věta.'\n",
       "\n",
       "\n",
       "\n",
       "\n",
       "\n"
      ],
      "text/plain": [
       "[[1]]\n",
       "[1] \"Ema\"   \"má\"    \"psa.\"  \"Máma\"  \"mele\"  \"maso.\" \"Ema\"   \"nemá\"  \"psa.\" \n",
       "\n",
       "[[2]]\n",
       "[1] \"Nějaká\" \"další\"  \"věta.\" \n"
      ]
     },
     "metadata": {},
     "output_type": "display_data"
    }
   ],
   "source": [
    "strsplit(c(text, \"Nějaká další věta.\"), \" \")"
   ]
  },
  {
   "cell_type": "markdown",
   "metadata": {},
   "source": [
    "Pokud nám reprezentace jako seznam (`list`) nevyhovuje, můžeme jej snadno převést na vektor pomocí funkce `unlist`:"
   ]
  },
  {
   "cell_type": "code",
   "execution_count": 96,
   "metadata": {},
   "outputs": [
    {
     "data": {
      "text/html": [
       "<ol class=list-inline>\n",
       "\t<li>'Ema'</li>\n",
       "\t<li>'má'</li>\n",
       "\t<li>'psa.'</li>\n",
       "\t<li>'Máma'</li>\n",
       "\t<li>'mele'</li>\n",
       "\t<li>'maso.'</li>\n",
       "\t<li>'Ema'</li>\n",
       "\t<li>'nemá'</li>\n",
       "\t<li>'psa.'</li>\n",
       "</ol>\n"
      ],
      "text/latex": [
       "\\begin{enumerate*}\n",
       "\\item 'Ema'\n",
       "\\item 'má'\n",
       "\\item 'psa.'\n",
       "\\item 'Máma'\n",
       "\\item 'mele'\n",
       "\\item 'maso.'\n",
       "\\item 'Ema'\n",
       "\\item 'nemá'\n",
       "\\item 'psa.'\n",
       "\\end{enumerate*}\n"
      ],
      "text/markdown": [
       "1. 'Ema'\n",
       "2. 'má'\n",
       "3. 'psa.'\n",
       "4. 'Máma'\n",
       "5. 'mele'\n",
       "6. 'maso.'\n",
       "7. 'Ema'\n",
       "8. 'nemá'\n",
       "9. 'psa.'\n",
       "\n",
       "\n"
      ],
      "text/plain": [
       "[1] \"Ema\"   \"má\"    \"psa.\"  \"Máma\"  \"mele\"  \"maso.\" \"Ema\"   \"nemá\"  \"psa.\" "
      ]
     },
     "metadata": {},
     "output_type": "display_data"
    }
   ],
   "source": [
    "unlist(\n",
    "    strsplit(text, \" \")\n",
    ")"
   ]
  },
  {
   "cell_type": "markdown",
   "metadata": {},
   "source": [
    "Vyhledávání určitých výrazů v textu lze provádět pomocí funkce `gregexpr`:"
   ]
  },
  {
   "cell_type": "code",
   "execution_count": 97,
   "metadata": {},
   "outputs": [
    {
     "data": {
      "text/html": [
       "'Ema má psa. Máma mele maso. Ema nemá psa.'"
      ],
      "text/latex": [
       "'Ema má psa. Máma mele maso. Ema nemá psa.'"
      ],
      "text/markdown": [
       "'Ema má psa. Máma mele maso. Ema nemá psa.'"
      ],
      "text/plain": [
       "[1] \"Ema má psa. Máma mele maso. Ema nemá psa.\""
      ]
     },
     "metadata": {},
     "output_type": "display_data"
    },
    {
     "data": {
      "text/html": [
       "<ol class=list-inline>\n",
       "\t<li>1</li>\n",
       "\t<li>29</li>\n",
       "</ol>\n"
      ],
      "text/latex": [
       "\\begin{enumerate*}\n",
       "\\item 1\n",
       "\\item 29\n",
       "\\end{enumerate*}\n"
      ],
      "text/markdown": [
       "1. 1\n",
       "2. 29\n",
       "\n",
       "\n"
      ],
      "text/plain": [
       "[1]  1 29"
      ]
     },
     "metadata": {},
     "output_type": "display_data"
    }
   ],
   "source": [
    "text\n",
    "unlist(\n",
    "    gregexpr(\"Ema\", text)\n",
    ")"
   ]
  },
  {
   "cell_type": "markdown",
   "metadata": {},
   "source": [
    "Výsledkem je opět seznam nalezených výrazů pro každý prvek vektoru (v tomto případě o délce jedna), který obsahuje index prvního znaku výskytu námi vyhledávaného výrazu v daném textu. V tomto případě se slovo \"Ema\" vyskytuje v textu dvakrát, takže první položka seznamu je vektor, který má dva prvky, kde každý z nich označuje začátek výskytu daného slova ve větě. Výstup zde opět převedeme na vektor pomocí funkce `unlist`. \n",
    "\n",
    "Je třeba podotknout, že první argument funkce `gregexpr` je regulární výraz, takže dotazy mohou být v tomto případě velice komplexní. V tomto případě se například ptáme na index mezery před začátkem všech slov, která začínají na písmeno \"m\" nebo \"n\" bez rozdílu velikosti:"
   ]
  },
  {
   "cell_type": "code",
   "execution_count": 98,
   "metadata": {},
   "outputs": [
    {
     "data": {
      "text/html": [
       "'Ema má psa. Máma mele maso. Ema nemá psa.'"
      ],
      "text/latex": [
       "'Ema má psa. Máma mele maso. Ema nemá psa.'"
      ],
      "text/markdown": [
       "'Ema má psa. Máma mele maso. Ema nemá psa.'"
      ],
      "text/plain": [
       "[1] \"Ema má psa. Máma mele maso. Ema nemá psa.\""
      ]
     },
     "metadata": {},
     "output_type": "display_data"
    },
    {
     "data": {
      "text/html": [
       "<ol>\n",
       "\t<li><ol class=list-inline>\n",
       "\t<li>4</li>\n",
       "\t<li>12</li>\n",
       "\t<li>17</li>\n",
       "\t<li>22</li>\n",
       "\t<li>32</li>\n",
       "</ol>\n",
       "</li>\n",
       "</ol>\n"
      ],
      "text/latex": [
       "\\begin{enumerate}\n",
       "\\item \\begin{enumerate*}\n",
       "\\item 4\n",
       "\\item 12\n",
       "\\item 17\n",
       "\\item 22\n",
       "\\item 32\n",
       "\\end{enumerate*}\n",
       "\n",
       "\\end{enumerate}\n"
      ],
      "text/markdown": [
       "1. 1. 4\n",
       "2. 12\n",
       "3. 17\n",
       "4. 22\n",
       "5. 32\n",
       "\n",
       "\n",
       "\n",
       "\n",
       "\n"
      ],
      "text/plain": [
       "[[1]]\n",
       "[1]  4 12 17 22 32\n",
       "attr(,\"match.length\")\n",
       "[1] 2 2 2 2 2\n"
      ]
     },
     "metadata": {},
     "output_type": "display_data"
    }
   ],
   "source": [
    "text\n",
    "gregexpr(\"(\\\\s[mM])|(\\\\s[nN])\", text)"
   ]
  },
  {
   "cell_type": "markdown",
   "metadata": {},
   "source": [
    "Hodně používaná je též funkce `paste`, která slouží ke spojování řetězců:"
   ]
  },
  {
   "cell_type": "code",
   "execution_count": 99,
   "metadata": {},
   "outputs": [
    {
     "data": {
      "text/html": [
       "'Hello Peter, how are you?'"
      ],
      "text/latex": [
       "'Hello Peter, how are you?'"
      ],
      "text/markdown": [
       "'Hello Peter, how are you?'"
      ],
      "text/plain": [
       "[1] \"Hello Peter, how are you?\""
      ]
     },
     "metadata": {},
     "output_type": "display_data"
    }
   ],
   "source": [
    "jméno <- \"Peter\"\n",
    "paste(\"Hello \", jméno, \", how are you?\", sep=\"\")"
   ]
  },
  {
   "cell_type": "markdown",
   "metadata": {},
   "source": [
    "Tato funkce se pokusí všechny své argumenty spojit v jeden řetězec za použití separátoru, který lze nastavit pomocí argumentu `sep` (defaultní hodnota je mezera). My jsme v tomto případě zvolili jako separátor prázdný řetězec, neboť jsme se rozhodli mezery řešit sami. \n",
    "\n",
    "V našem příkladě jsou všechny argumenty funkce `paste` řetězce, ale poradí si i s čísly:"
   ]
  },
  {
   "cell_type": "code",
   "execution_count": 100,
   "metadata": {},
   "outputs": [
    {
     "data": {
      "text/html": [
       "'1 2 3 4 5'"
      ],
      "text/latex": [
       "'1 2 3 4 5'"
      ],
      "text/markdown": [
       "'1 2 3 4 5'"
      ],
      "text/plain": [
       "[1] \"1 2 3 4 5\""
      ]
     },
     "metadata": {},
     "output_type": "display_data"
    }
   ],
   "source": [
    "paste(1, 2, 3, 4, 5)"
   ]
  },
  {
   "cell_type": "markdown",
   "metadata": {},
   "source": [
    "nebo kombinací různých typů:"
   ]
  },
  {
   "cell_type": "code",
   "execution_count": 101,
   "metadata": {},
   "outputs": [
    {
     "data": {
      "text/html": [
       "'Čísla: 1 2 3 4 5'"
      ],
      "text/latex": [
       "'Čísla: 1 2 3 4 5'"
      ],
      "text/markdown": [
       "'Čísla: 1 2 3 4 5'"
      ],
      "text/plain": [
       "[1] \"Čísla: 1 2 3 4 5\""
      ]
     },
     "metadata": {},
     "output_type": "display_data"
    }
   ],
   "source": [
    "paste(\"Čísla:\", 1, 2, 3, 4, 5)"
   ]
  },
  {
   "cell_type": "markdown",
   "metadata": {},
   "source": [
    "Paste má ještě krom parametru `sep` parametr collapse, který umožňuje spojovat prvky vektorů do jednoho řetězce. Porovnejte následující výsledky:"
   ]
  },
  {
   "cell_type": "code",
   "execution_count": 102,
   "metadata": {},
   "outputs": [
    {
     "data": {
      "text/html": [
       "<ol class=list-inline>\n",
       "\t<li>'1'</li>\n",
       "\t<li>'2'</li>\n",
       "\t<li>'3'</li>\n",
       "\t<li>'4'</li>\n",
       "\t<li>'5'</li>\n",
       "\t<li>'6'</li>\n",
       "\t<li>'7'</li>\n",
       "\t<li>'8'</li>\n",
       "\t<li>'9'</li>\n",
       "\t<li>'10'</li>\n",
       "</ol>\n"
      ],
      "text/latex": [
       "\\begin{enumerate*}\n",
       "\\item '1'\n",
       "\\item '2'\n",
       "\\item '3'\n",
       "\\item '4'\n",
       "\\item '5'\n",
       "\\item '6'\n",
       "\\item '7'\n",
       "\\item '8'\n",
       "\\item '9'\n",
       "\\item '10'\n",
       "\\end{enumerate*}\n"
      ],
      "text/markdown": [
       "1. '1'\n",
       "2. '2'\n",
       "3. '3'\n",
       "4. '4'\n",
       "5. '5'\n",
       "6. '6'\n",
       "7. '7'\n",
       "8. '8'\n",
       "9. '9'\n",
       "10. '10'\n",
       "\n",
       "\n"
      ],
      "text/plain": [
       " [1] \"1\"  \"2\"  \"3\"  \"4\"  \"5\"  \"6\"  \"7\"  \"8\"  \"9\"  \"10\""
      ]
     },
     "metadata": {},
     "output_type": "display_data"
    },
    {
     "data": {
      "text/html": [
       "'1--2--3--4--5--6--7--8--9--10'"
      ],
      "text/latex": [
       "'1--2--3--4--5--6--7--8--9--10'"
      ],
      "text/markdown": [
       "'1--2--3--4--5--6--7--8--9--10'"
      ],
      "text/plain": [
       "[1] \"1--2--3--4--5--6--7--8--9--10\""
      ]
     },
     "metadata": {},
     "output_type": "display_data"
    },
    {
     "data": {
      "text/html": [
       "<ol class=list-inline>\n",
       "\t<li>'1,6'</li>\n",
       "\t<li>'2,7'</li>\n",
       "\t<li>'3,8'</li>\n",
       "\t<li>'4,9'</li>\n",
       "\t<li>'5,10'</li>\n",
       "</ol>\n"
      ],
      "text/latex": [
       "\\begin{enumerate*}\n",
       "\\item '1,6'\n",
       "\\item '2,7'\n",
       "\\item '3,8'\n",
       "\\item '4,9'\n",
       "\\item '5,10'\n",
       "\\end{enumerate*}\n"
      ],
      "text/markdown": [
       "1. '1,6'\n",
       "2. '2,7'\n",
       "3. '3,8'\n",
       "4. '4,9'\n",
       "5. '5,10'\n",
       "\n",
       "\n"
      ],
      "text/plain": [
       "[1] \"1,6\"  \"2,7\"  \"3,8\"  \"4,9\"  \"5,10\""
      ]
     },
     "metadata": {},
     "output_type": "display_data"
    },
    {
     "data": {
      "text/html": [
       "'1,6--2,7--3,8--4,9--5,10'"
      ],
      "text/latex": [
       "'1,6--2,7--3,8--4,9--5,10'"
      ],
      "text/markdown": [
       "'1,6--2,7--3,8--4,9--5,10'"
      ],
      "text/plain": [
       "[1] \"1,6--2,7--3,8--4,9--5,10\""
      ]
     },
     "metadata": {},
     "output_type": "display_data"
    }
   ],
   "source": [
    "paste(\n",
    "    c(1:10)\n",
    "    , sep = \",\"\n",
    ")\n",
    "paste(\n",
    "    c(1:10)\n",
    "    , sep = \",\"\n",
    "    , collapse = \"--\"\n",
    ")\n",
    "paste(\n",
    "    c(1:5)\n",
    "    , c(6:10)\n",
    "    , sep = \",\"\n",
    ")\n",
    "paste(\n",
    "    c(1:5)\n",
    "    , c(6:10)\n",
    "    , sep = \",\"\n",
    "    , collapse = \"--\"\n",
    ")"
   ]
  },
  {
   "cell_type": "markdown",
   "metadata": {},
   "source": [
    "Znaky v řetězci lze též snadno vyměňovat podle daného klíče pomocí funkce `gsub`:"
   ]
  },
  {
   "cell_type": "code",
   "execution_count": 103,
   "metadata": {},
   "outputs": [
    {
     "data": {
      "text/html": [
       "'Ema má psa. Máma mele maso. Ema nemá psa.'"
      ],
      "text/latex": [
       "'Ema má psa. Máma mele maso. Ema nemá psa.'"
      ],
      "text/markdown": [
       "'Ema má psa. Máma mele maso. Ema nemá psa.'"
      ],
      "text/plain": [
       "[1] \"Ema má psa. Máma mele maso. Ema nemá psa.\""
      ]
     },
     "metadata": {},
     "output_type": "display_data"
    },
    {
     "data": {
      "text/html": [
       "'Věra má psa. Máma mele maso. Věra nemá psa.'"
      ],
      "text/latex": [
       "'Věra má psa. Máma mele maso. Věra nemá psa.'"
      ],
      "text/markdown": [
       "'Věra má psa. Máma mele maso. Věra nemá psa.'"
      ],
      "text/plain": [
       "[1] \"Věra má psa. Máma mele maso. Věra nemá psa.\""
      ]
     },
     "metadata": {},
     "output_type": "display_data"
    }
   ],
   "source": [
    "text\n",
    "gsub(\"Ema\",\"Věra\", text)"
   ]
  },
  {
   "cell_type": "markdown",
   "metadata": {},
   "source": [
    "## Hledání v dokumentaci\n",
    "\n",
    "R má rozsáhlou dokumentaci a kdykoliv si nevíte rady s nějakou funkcí, je veliká šance, že odpověď najdete právě tam. Pokud přesně nevíte, jak se vaše funkce jmenuje, stačí vám dotázat se funkce `apropos`, která nalezne funkce podle vašeho kriéria:"
   ]
  },
  {
   "cell_type": "code",
   "execution_count": 104,
   "metadata": {},
   "outputs": [
    {
     "data": {
      "text/html": [
       "<ol class=list-inline>\n",
       "\t<li>'La.svd'</li>\n",
       "\t<li>'svd'</li>\n",
       "</ol>\n"
      ],
      "text/latex": [
       "\\begin{enumerate*}\n",
       "\\item 'La.svd'\n",
       "\\item 'svd'\n",
       "\\end{enumerate*}\n"
      ],
      "text/markdown": [
       "1. 'La.svd'\n",
       "2. 'svd'\n",
       "\n",
       "\n"
      ],
      "text/plain": [
       "[1] \"La.svd\" \"svd\"   "
      ]
     },
     "metadata": {},
     "output_type": "display_data"
    },
    {
     "data": {
      "text/html": [
       "<ol class=list-inline>\n",
       "\t<li>'as.data.frame.difftime'</li>\n",
       "\t<li>'as.difftime'</li>\n",
       "\t<li>'as.double.difftime'</li>\n",
       "\t<li>'strftime'</li>\n",
       "\t<li>'strptime'</li>\n",
       "\t<li>'Summary.difftime'</li>\n",
       "\t<li>'summary.proc_time'</li>\n",
       "\t<li>'Sys.setFileTime'</li>\n",
       "\t<li>'Sys.time'</li>\n",
       "\t<li>'system.time'</li>\n",
       "</ol>\n"
      ],
      "text/latex": [
       "\\begin{enumerate*}\n",
       "\\item 'as.data.frame.difftime'\n",
       "\\item 'as.difftime'\n",
       "\\item 'as.double.difftime'\n",
       "\\item 'strftime'\n",
       "\\item 'strptime'\n",
       "\\item 'Summary.difftime'\n",
       "\\item 'summary.proc\\_time'\n",
       "\\item 'Sys.setFileTime'\n",
       "\\item 'Sys.time'\n",
       "\\item 'system.time'\n",
       "\\end{enumerate*}\n"
      ],
      "text/markdown": [
       "1. 'as.data.frame.difftime'\n",
       "2. 'as.difftime'\n",
       "3. 'as.double.difftime'\n",
       "4. 'strftime'\n",
       "5. 'strptime'\n",
       "6. 'Summary.difftime'\n",
       "7. 'summary.proc_time'\n",
       "8. 'Sys.setFileTime'\n",
       "9. 'Sys.time'\n",
       "10. 'system.time'\n",
       "\n",
       "\n"
      ],
      "text/plain": [
       " [1] \"as.data.frame.difftime\" \"as.difftime\"            \"as.double.difftime\"    \n",
       " [4] \"strftime\"               \"strptime\"               \"Summary.difftime\"      \n",
       " [7] \"summary.proc_time\"      \"Sys.setFileTime\"        \"Sys.time\"              \n",
       "[10] \"system.time\"           "
      ]
     },
     "metadata": {},
     "output_type": "display_data"
    }
   ],
   "source": [
    "apropos(\"svd\")\n",
    "apropos(\"^[as]+.*time$\") # lze používat plnohodnotné regulární výrazy"
   ]
  },
  {
   "cell_type": "markdown",
   "metadata": {},
   "source": [
    "Pokud již jméno funkce znáte, můžete si pomocí funkce `help` zobrazit nápovědu:"
   ]
  },
  {
   "cell_type": "code",
   "execution_count": 105,
   "metadata": {
    "collapsed": true
   },
   "outputs": [],
   "source": [
    "help(\"Sys.time\")"
   ]
  },
  {
   "cell_type": "markdown",
   "metadata": {},
   "source": [
    "Můžete též použít operátor `?` na funkci jako takovou:"
   ]
  },
  {
   "cell_type": "code",
   "execution_count": 106,
   "metadata": {
    "collapsed": true
   },
   "outputs": [],
   "source": [
    "?Sys.time"
   ]
  }
 ],
 "metadata": {
  "kernelspec": {
   "display_name": "R",
   "language": "R",
   "name": "ir"
  },
  "language_info": {
   "codemirror_mode": "r",
   "file_extension": ".r",
   "mimetype": "text/x-r-source",
   "name": "R",
   "pygments_lexer": "r",
   "version": "3.3.2"
  },
  "toc": {
   "nav_menu": {},
   "number_sections": true,
   "sideBar": true,
   "skip_h1_title": true,
   "toc_cell": true,
   "toc_position": {},
   "toc_section_display": "block",
   "toc_window_display": false
  }
 },
 "nbformat": 4,
 "nbformat_minor": 2
}
