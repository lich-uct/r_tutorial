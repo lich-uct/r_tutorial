{
 "cells": [
  {
   "cell_type": "markdown",
   "metadata": {
    "toc": "true"
   },
   "source": [
    " # Table of Contents\n",
    "<div class=\"toc\" style=\"margin-top: 1em;\"><ul class=\"toc-item\" id=\"toc-level0\"><li><span><a href=\"http://localhost:8888/notebooks/ulohy_reseni.ipynb#Programování\" data-toc-modified-id=\"Programování-1\"><span class=\"toc-item-num\">1&nbsp;&nbsp;</span>Programování</a></span><ul class=\"toc-item\"><li><span><a href=\"http://localhost:8888/notebooks/ulohy_reseni.ipynb#Faktoriál\" data-toc-modified-id=\"Faktoriál-1.1\"><span class=\"toc-item-num\">1.1&nbsp;&nbsp;</span>Faktoriál</a></span></li><li><span><a href=\"http://localhost:8888/notebooks/ulohy_reseni.ipynb#Faktoriál-vektoru\" data-toc-modified-id=\"Faktoriál-vektoru-1.2\"><span class=\"toc-item-num\">1.2&nbsp;&nbsp;</span>Faktoriál vektoru</a></span></li><li><span><a href=\"http://localhost:8888/notebooks/ulohy_reseni.ipynb#Molekulové-statistiky\" data-toc-modified-id=\"Molekulové-statistiky-1.3\"><span class=\"toc-item-num\">1.3&nbsp;&nbsp;</span>Molekulové statistiky</a></span><ul class=\"toc-item\"><li><span><a href=\"http://localhost:8888/notebooks/ulohy_reseni.ipynb#A\" data-toc-modified-id=\"A-1.3.1\"><span class=\"toc-item-num\">1.3.1&nbsp;&nbsp;</span>A</a></span></li><li><span><a href=\"http://localhost:8888/notebooks/ulohy_reseni.ipynb#B\" data-toc-modified-id=\"B-1.3.2\"><span class=\"toc-item-num\">1.3.2&nbsp;&nbsp;</span>B</a></span></li></ul></li></ul></li><li><span><a href=\"http://localhost:8888/notebooks/ulohy_reseni.ipynb#Statistika\" data-toc-modified-id=\"Statistika-2\"><span class=\"toc-item-num\">2&nbsp;&nbsp;</span>Statistika</a></span></li></ul></div>"
   ]
  },
  {
   "cell_type": "markdown",
   "metadata": {},
   "source": [
    "# Úlohy\n",
    "\n",
    "Tento notebook obsahuje praktické úlohy na procvičení nejrůznějších znalostí ze statistiky a programování v jazyce R.\n",
    "\n",
    "## Programování\n",
    "\n",
    "### Faktoriál\n",
    "\n",
    "Naprogramujte libovolným způsobem výpočet faktoriálu z přirozeného čísla:\n",
    "\n",
    "$n! = \\begin{cases}1&\\text{pokud n = 0}\\\\n\\cdot (n-1)!&\\text{jinak}\\end{cases}$"
   ]
  },
  {
   "cell_type": "code",
   "execution_count": 1,
   "metadata": {},
   "outputs": [],
   "source": [
    "# rekurze\n",
    "faktoriál <- function(n) {\n",
    "    if (n < 0) {\n",
    "        warning(\"n je menší než nula\")\n",
    "        return(NULL)\n",
    "    }\n",
    "    if (n == 0) {\n",
    "        return(1)\n",
    "    }\n",
    "    \n",
    "    n * faktoriál(n - 1)\n",
    "}"
   ]
  },
  {
   "cell_type": "code",
   "execution_count": 2,
   "metadata": {
    "collapsed": true
   },
   "outputs": [],
   "source": [
    "# cyklus while\n",
    "faktoriál <- function(n) {\n",
    "    if (n < 0) {\n",
    "        warning(\"n je menší než nula\")\n",
    "        return(NULL)\n",
    "    }\n",
    "    if (n == 0) {\n",
    "        return(1)\n",
    "    }\n",
    "    \n",
    "    ret <- n\n",
    "    while (n != 1) {\n",
    "        n <- (n - 1)\n",
    "        ret <- ret * n\n",
    "    }\n",
    "    ret\n",
    "}"
   ]
  },
  {
   "cell_type": "code",
   "execution_count": 3,
   "metadata": {
    "collapsed": true
   },
   "outputs": [],
   "source": [
    "# cyklus for\n",
    "faktoriál <- function(n) {\n",
    "    if (n < 0) {\n",
    "        warning(\"n je menší než nula\")\n",
    "        return(NULL)\n",
    "    }\n",
    "    if (n == 0) {\n",
    "        return(1)\n",
    "    }\n",
    "    \n",
    "    ret <- n\n",
    "    for (i in (n-1):1) {\n",
    "        ret <- ret * i\n",
    "    }\n",
    "    ret\n",
    "}"
   ]
  },
  {
   "cell_type": "code",
   "execution_count": 4,
   "metadata": {},
   "outputs": [],
   "source": [
    "# pomocí Reduce\n",
    "faktoriál <- function(n) {\n",
    "    if (n < 0) {\n",
    "        warning(\"n je menší než nula\")\n",
    "        return(NULL)\n",
    "    }\n",
    "    if (n == 0) {\n",
    "        return(1)\n",
    "    }\n",
    "    \n",
    "    Reduce(function(i, j) i*j, as.double(n:2))\n",
    "}"
   ]
  },
  {
   "cell_type": "code",
   "execution_count": 5,
   "metadata": {},
   "outputs": [],
   "source": [
    "# pomocí sapply (velice obskurní a nevhodný způsob použití této funkce)\n",
    "faktoriál <- function(n) {\n",
    "    if (n < 0) {\n",
    "        warning(\"n je menší než nula\")\n",
    "        return(NULL)\n",
    "    }\n",
    "    if (n == 0) {\n",
    "        return(1)\n",
    "    }\n",
    "    \n",
    "    ret <- n\n",
    "    sapply(n:2, function(n) {ret <<- ret * (n-1)})\n",
    "    ret\n",
    "}"
   ]
  },
  {
   "cell_type": "code",
   "execution_count": 6,
   "metadata": {},
   "outputs": [
    {
     "name": "stderr",
     "output_type": "stream",
     "text": [
      "Warning message in faktoriál(-1):\n",
      "“n je menší než nula”"
     ]
    },
    {
     "data": {
      "text/plain": [
       "NULL"
      ]
     },
     "metadata": {},
     "output_type": "display_data"
    },
    {
     "data": {
      "text/html": [
       "1"
      ],
      "text/latex": [
       "1"
      ],
      "text/markdown": [
       "1"
      ],
      "text/plain": [
       "[1] 1"
      ]
     },
     "metadata": {},
     "output_type": "display_data"
    },
    {
     "data": {
      "text/html": [
       "6"
      ],
      "text/latex": [
       "6"
      ],
      "text/markdown": [
       "6"
      ],
      "text/plain": [
       "[1] 6"
      ]
     },
     "metadata": {},
     "output_type": "display_data"
    },
    {
     "data": {
      "text/html": [
       "120"
      ],
      "text/latex": [
       "120"
      ],
      "text/markdown": [
       "120"
      ],
      "text/plain": [
       "[1] 120"
      ]
     },
     "metadata": {},
     "output_type": "display_data"
    },
    {
     "data": {
      "text/html": [
       "1307674368000"
      ],
      "text/latex": [
       "1307674368000"
      ],
      "text/markdown": [
       "1307674368000"
      ],
      "text/plain": [
       "[1] 1.307674e+12"
      ]
     },
     "metadata": {},
     "output_type": "display_data"
    },
    {
     "data": {
      "text/html": [
       "2.65252859812191e+32"
      ],
      "text/latex": [
       "2.65252859812191e+32"
      ],
      "text/markdown": [
       "2.65252859812191e+32"
      ],
      "text/plain": [
       "[1] 2.652529e+32"
      ]
     },
     "metadata": {},
     "output_type": "display_data"
    },
    {
     "name": "stderr",
     "output_type": "stream",
     "text": [
      "Warning message in gamma(x + 1):\n",
      "“NaNs produced”"
     ]
    },
    {
     "data": {
      "text/html": [
       "NaN"
      ],
      "text/latex": [
       "NaN"
      ],
      "text/markdown": [
       "NaN"
      ],
      "text/plain": [
       "[1] NaN"
      ]
     },
     "metadata": {},
     "output_type": "display_data"
    },
    {
     "data": {
      "text/html": [
       "1"
      ],
      "text/latex": [
       "1"
      ],
      "text/markdown": [
       "1"
      ],
      "text/plain": [
       "[1] 1"
      ]
     },
     "metadata": {},
     "output_type": "display_data"
    },
    {
     "data": {
      "text/html": [
       "6"
      ],
      "text/latex": [
       "6"
      ],
      "text/markdown": [
       "6"
      ],
      "text/plain": [
       "[1] 6"
      ]
     },
     "metadata": {},
     "output_type": "display_data"
    },
    {
     "data": {
      "text/html": [
       "120"
      ],
      "text/latex": [
       "120"
      ],
      "text/markdown": [
       "120"
      ],
      "text/plain": [
       "[1] 120"
      ]
     },
     "metadata": {},
     "output_type": "display_data"
    },
    {
     "data": {
      "text/html": [
       "1307674368000"
      ],
      "text/latex": [
       "1307674368000"
      ],
      "text/markdown": [
       "1307674368000"
      ],
      "text/plain": [
       "[1] 1.307674e+12"
      ]
     },
     "metadata": {},
     "output_type": "display_data"
    },
    {
     "data": {
      "text/html": [
       "2.65252859812191e+32"
      ],
      "text/latex": [
       "2.65252859812191e+32"
      ],
      "text/markdown": [
       "2.65252859812191e+32"
      ],
      "text/plain": [
       "[1] 2.652529e+32"
      ]
     },
     "metadata": {},
     "output_type": "display_data"
    }
   ],
   "source": [
    "# testovací kód\n",
    "faktoriál(-1)\n",
    "faktoriál(0)\n",
    "faktoriál(3)\n",
    "faktoriál(5)\n",
    "faktoriál(15)\n",
    "faktoriál(30)\n",
    "\n",
    "# kontrola pomocí vestavěné funkce\n",
    "factorial(-1)\n",
    "factorial(0)\n",
    "factorial(3)\n",
    "factorial(5)\n",
    "factorial(15)\n",
    "factorial(30)"
   ]
  },
  {
   "cell_type": "markdown",
   "metadata": {},
   "source": [
    "### Faktoriál vektoru\n",
    "\n",
    "Napiště funkci, která spočítá faktoriál pro každý prvek daného vektoru a výsledek vrátí opět jako vektor:"
   ]
  },
  {
   "cell_type": "code",
   "execution_count": 7,
   "metadata": {
    "collapsed": true
   },
   "outputs": [],
   "source": [
    "faktoriál_vectorized <- function(x) {\n",
    "    unlist(lapply(x, faktoriál))\n",
    "}"
   ]
  },
  {
   "cell_type": "code",
   "execution_count": 8,
   "metadata": {},
   "outputs": [
    {
     "name": "stderr",
     "output_type": "stream",
     "text": [
      "Warning message in FUN(X[[i]], ...):\n",
      "“n je menší než nula”"
     ]
    },
    {
     "data": {
      "text/html": [
       "<ol class=list-inline>\n",
       "\t<li>1</li>\n",
       "\t<li>0</li>\n",
       "\t<li>2</li>\n",
       "\t<li>6</li>\n",
       "\t<li>24</li>\n",
       "\t<li>120</li>\n",
       "\t<li>720</li>\n",
       "\t<li>5040</li>\n",
       "\t<li>40320</li>\n",
       "\t<li>362880</li>\n",
       "\t<li>3628800</li>\n",
       "</ol>\n"
      ],
      "text/latex": [
       "\\begin{enumerate*}\n",
       "\\item 1\n",
       "\\item 0\n",
       "\\item 2\n",
       "\\item 6\n",
       "\\item 24\n",
       "\\item 120\n",
       "\\item 720\n",
       "\\item 5040\n",
       "\\item 40320\n",
       "\\item 362880\n",
       "\\item 3628800\n",
       "\\end{enumerate*}\n"
      ],
      "text/markdown": [
       "1. 1\n",
       "2. 0\n",
       "3. 2\n",
       "4. 6\n",
       "5. 24\n",
       "6. 120\n",
       "7. 720\n",
       "8. 5040\n",
       "9. 40320\n",
       "10. 362880\n",
       "11. 3628800\n",
       "\n",
       "\n"
      ],
      "text/plain": [
       " [1]       1       0       2       6      24     120     720    5040   40320\n",
       "[10]  362880 3628800"
      ]
     },
     "metadata": {},
     "output_type": "display_data"
    },
    {
     "name": "stderr",
     "output_type": "stream",
     "text": [
      "Warning message in gamma(x + 1):\n",
      "“NaNs produced”"
     ]
    },
    {
     "data": {
      "text/html": [
       "<ol class=list-inline>\n",
       "\t<li>NaN</li>\n",
       "\t<li>1</li>\n",
       "\t<li>1</li>\n",
       "\t<li>2</li>\n",
       "\t<li>6</li>\n",
       "\t<li>24</li>\n",
       "\t<li>120</li>\n",
       "\t<li>720</li>\n",
       "\t<li>5040</li>\n",
       "\t<li>40320</li>\n",
       "\t<li>362880</li>\n",
       "\t<li>3628800</li>\n",
       "</ol>\n"
      ],
      "text/latex": [
       "\\begin{enumerate*}\n",
       "\\item NaN\n",
       "\\item 1\n",
       "\\item 1\n",
       "\\item 2\n",
       "\\item 6\n",
       "\\item 24\n",
       "\\item 120\n",
       "\\item 720\n",
       "\\item 5040\n",
       "\\item 40320\n",
       "\\item 362880\n",
       "\\item 3628800\n",
       "\\end{enumerate*}\n"
      ],
      "text/markdown": [
       "1. NaN\n",
       "2. 1\n",
       "3. 1\n",
       "4. 2\n",
       "5. 6\n",
       "6. 24\n",
       "7. 120\n",
       "8. 720\n",
       "9. 5040\n",
       "10. 40320\n",
       "11. 362880\n",
       "12. 3628800\n",
       "\n",
       "\n"
      ],
      "text/plain": [
       " [1]     NaN       1       1       2       6      24     120     720    5040\n",
       "[10]   40320  362880 3628800"
      ]
     },
     "metadata": {},
     "output_type": "display_data"
    }
   ],
   "source": [
    "# testovací kód\n",
    "faktoriál_vectorized(-1:10)\n",
    "\n",
    "# kontrola pomocí vestavěné funkce\n",
    "factorial(-1:10)"
   ]
  },
  {
   "cell_type": "markdown",
   "metadata": {},
   "source": [
    "### Molekulové statistiky\n",
    "\n",
    "Vazby v molekule lze jednoduše popsat pomocí tzv. [matice sousednosti](https://cs.wikipedia.org/wiki/Matice_sousednosti)(adjecency matrix):\n",
    "\n",
    "![mol_repr.jpg](mol_repr.jpg)\n",
    "\n",
    "V této reprezentaci jsou tedy všechny páry atomů, které jsou spojené vazbou, v matici označeny číslem 1.\n",
    "\n",
    "Načtěte si ze souboru `adj_mat.csv`, který se nachází v této složce, výše uvedenou matici sousednosti do vhodné datové struktury. Výsledek by měl vypadat nějak takto:"
   ]
  },
  {
   "cell_type": "code",
   "execution_count": 9,
   "metadata": {},
   "outputs": [
    {
     "data": {
      "text/html": [
       "<table>\n",
       "<thead><tr><th></th><th scope=col>C.1</th><th scope=col>C.2</th><th scope=col>C.3</th><th scope=col>Cl.4</th><th scope=col>C.5</th><th scope=col>C.6</th></tr></thead>\n",
       "<tbody>\n",
       "\t<tr><th scope=row>C.1</th><td>0</td><td>1</td><td>0</td><td>0</td><td>0</td><td>0</td></tr>\n",
       "\t<tr><th scope=row>C.2</th><td>1</td><td>0</td><td>1</td><td>0</td><td>0</td><td>0</td></tr>\n",
       "\t<tr><th scope=row>C.3</th><td>0</td><td>1</td><td>0</td><td>1</td><td>1</td><td>0</td></tr>\n",
       "\t<tr><th scope=row>Cl.4</th><td>0</td><td>0</td><td>1</td><td>0</td><td>0</td><td>0</td></tr>\n",
       "\t<tr><th scope=row>C.5</th><td>0</td><td>0</td><td>1</td><td>0</td><td>0</td><td>1</td></tr>\n",
       "\t<tr><th scope=row>C.6</th><td>0</td><td>0</td><td>0</td><td>0</td><td>1</td><td>0</td></tr>\n",
       "</tbody>\n",
       "</table>\n"
      ],
      "text/latex": [
       "\\begin{tabular}{r|llllll}\n",
       "  & C.1 & C.2 & C.3 & Cl.4 & C.5 & C.6\\\\\n",
       "\\hline\n",
       "\tC.1 & 0 & 1 & 0 & 0 & 0 & 0\\\\\n",
       "\tC.2 & 1 & 0 & 1 & 0 & 0 & 0\\\\\n",
       "\tC.3 & 0 & 1 & 0 & 1 & 1 & 0\\\\\n",
       "\tCl.4 & 0 & 0 & 1 & 0 & 0 & 0\\\\\n",
       "\tC.5 & 0 & 0 & 1 & 0 & 0 & 1\\\\\n",
       "\tC.6 & 0 & 0 & 0 & 0 & 1 & 0\\\\\n",
       "\\end{tabular}\n"
      ],
      "text/markdown": [
       "\n",
       "| <!--/--> | C.1 | C.2 | C.3 | Cl.4 | C.5 | C.6 | \n",
       "|---|---|---|---|---|---|\n",
       "| C.1 | 0 | 1 | 0 | 0 | 0 | 0 | \n",
       "| C.2 | 1 | 0 | 1 | 0 | 0 | 0 | \n",
       "| C.3 | 0 | 1 | 0 | 1 | 1 | 0 | \n",
       "| Cl.4 | 0 | 0 | 1 | 0 | 0 | 0 | \n",
       "| C.5 | 0 | 0 | 1 | 0 | 0 | 1 | \n",
       "| C.6 | 0 | 0 | 0 | 0 | 1 | 0 | \n",
       "\n",
       "\n"
      ],
      "text/plain": [
       "     C.1 C.2 C.3 Cl.4 C.5 C.6\n",
       "C.1  0   1   0   0    0   0  \n",
       "C.2  1   0   1   0    0   0  \n",
       "C.3  0   1   0   1    1   0  \n",
       "Cl.4 0   0   1   0    0   0  \n",
       "C.5  0   0   1   0    0   1  \n",
       "C.6  0   0   0   0    1   0  "
      ]
     },
     "metadata": {},
     "output_type": "display_data"
    }
   ],
   "source": [
    "m_adj <- read.table(\"adj_mat.csv\", sep = ',', header = T)\n",
    "rownames(m_adj) <- m_adj$X\n",
    "m_adj <- as.matrix(m_adj[,2:ncol(m_adj)])\n",
    "colnames(m_adj) <- row.names(m_adj)\n",
    "m_adj"
   ]
  },
  {
   "cell_type": "markdown",
   "metadata": {},
   "source": [
    "Vaším úkolem je napsat dvě funkce (viz níže). Mějte na paměti, že musí být dostatečně obecné na to, aby dokázaly zpracovat jakoukoliv molekulu. \n",
    "\n",
    "#### A\n",
    "\n",
    "Napište funkci, která spočítá celkový počet vazeb v molekule (dvojná se počítá za jednu vazbu):"
   ]
  },
  {
   "cell_type": "code",
   "execution_count": 10,
   "metadata": {},
   "outputs": [],
   "source": [
    "počet_vazeb <- function (m) {\n",
    "    sum(m) / 2\n",
    "}"
   ]
  },
  {
   "cell_type": "code",
   "execution_count": 11,
   "metadata": {},
   "outputs": [
    {
     "data": {
      "text/html": [
       "5"
      ],
      "text/latex": [
       "5"
      ],
      "text/markdown": [
       "5"
      ],
      "text/plain": [
       "[1] 5"
      ]
     },
     "metadata": {},
     "output_type": "display_data"
    }
   ],
   "source": [
    "počet_vazeb(m_adj)"
   ]
  },
  {
   "cell_type": "markdown",
   "metadata": {},
   "source": [
    "#### B\n",
    "\n",
    "Napište funkci, která spočítá počet výskytů jednotlivých prvků v molekule.\n",
    "\n",
    "Nápověda:\n",
    "\n",
    "```R\n",
    "strsplit(colnames(m), split = \"\\\\.\")\n",
    "```"
   ]
  },
  {
   "cell_type": "code",
   "execution_count": 12,
   "metadata": {
    "collapsed": true
   },
   "outputs": [],
   "source": [
    "počet_prvků <- function(m) {\n",
    "    split_stuff <- unlist(strsplit(colnames(m), split = \"\\\\.\"))\n",
    "    elements <- split_stuff[seq(1,length(split_stuff), 2)]\n",
    "    \n",
    "    symbols <- unique(elements)\n",
    "    occurences <- vector(mode(0), length(unique(elements)))    \n",
    "    for (i in elements) {\n",
    "        occurences[which(i == symbols)] <- occurences[which(i == symbols)] + 1\n",
    "    }\n",
    "    \n",
    "    df <- as.data.frame(occurences)\n",
    "    colnames(df) <- c(\"Počet\")\n",
    "    rownames(df) <- symbols\n",
    "    df\n",
    "}"
   ]
  },
  {
   "cell_type": "code",
   "execution_count": 13,
   "metadata": {},
   "outputs": [],
   "source": [
    "počet_prvků <- function(m) {\n",
    "    split_stuff <- unlist(strsplit(colnames(m), split = \"\\\\.\"))\n",
    "    elements <- split_stuff[seq(1,length(split_stuff), 2)]\n",
    "    \n",
    "    counts <- do.call(\n",
    "        list\n",
    "        , as.list(\n",
    "            vector(mode(0), length(unique(elements)))\n",
    "        )\n",
    "    )\n",
    "    names(counts) <- unique(elements)\n",
    "    for (i in elements) {\n",
    "        counts[[i]] <- counts[[i]] + 1\n",
    "    }\n",
    "    \n",
    "    df <- t(as.data.frame(counts))\n",
    "    colnames(df) <- c(\"Počet\")\n",
    "    df\n",
    "}"
   ]
  },
  {
   "cell_type": "code",
   "execution_count": 14,
   "metadata": {},
   "outputs": [],
   "source": [
    "počet_prvků <- function(m) {\n",
    "    split_stuff <- unlist(strsplit(colnames(m), split = \"\\\\.\"))\n",
    "    element_factors <- as.factor(split_stuff[seq(1,length(split_stuff), 2)])\n",
    "    \n",
    "    df <- as.data.frame(table(element_factors))\n",
    "    colnames(df) <- c(\"Atom\", \"Počet\")\n",
    "    df\n",
    "}"
   ]
  },
  {
   "cell_type": "code",
   "execution_count": 15,
   "metadata": {
    "collapsed": true
   },
   "outputs": [],
   "source": [
    "počet_prvků <- function(m) {\n",
    "    split_stuff <- unlist(strsplit(colnames(m), split = \"\\\\.\"))\n",
    "    element_factors <- as.factor(split_stuff[seq(1,length(split_stuff), 2)])\n",
    "    \n",
    "    df <- aggregate(as.vector(element_factors), list(element_factors), length)\n",
    "    colnames(df) <- c(\"Atom\", \"Počet\")\n",
    "    df\n",
    "}"
   ]
  },
  {
   "cell_type": "code",
   "execution_count": 16,
   "metadata": {},
   "outputs": [
    {
     "data": {
      "text/html": [
       "<table>\n",
       "<thead><tr><th scope=col>Atom</th><th scope=col>Počet</th></tr></thead>\n",
       "<tbody>\n",
       "\t<tr><td>C </td><td>5 </td></tr>\n",
       "\t<tr><td>Cl</td><td>1 </td></tr>\n",
       "</tbody>\n",
       "</table>\n"
      ],
      "text/latex": [
       "\\begin{tabular}{r|ll}\n",
       " Atom & Počet\\\\\n",
       "\\hline\n",
       "\t C  & 5 \\\\\n",
       "\t Cl & 1 \\\\\n",
       "\\end{tabular}\n"
      ],
      "text/markdown": [
       "\n",
       "Atom | Počet | \n",
       "|---|---|\n",
       "| C  | 5  | \n",
       "| Cl | 1  | \n",
       "\n",
       "\n"
      ],
      "text/plain": [
       "  Atom Počet\n",
       "1 C    5    \n",
       "2 Cl   1    "
      ]
     },
     "metadata": {},
     "output_type": "display_data"
    }
   ],
   "source": [
    "počet_prvků(m_adj)"
   ]
  },
  {
   "cell_type": "markdown",
   "metadata": {},
   "source": [
    "## Statistika\n",
    "\n",
    "TODO"
   ]
  },
  {
   "cell_type": "code",
   "execution_count": null,
   "metadata": {
    "collapsed": true
   },
   "outputs": [],
   "source": []
  }
 ],
 "metadata": {
  "kernelspec": {
   "display_name": "R",
   "language": "R",
   "name": "ir"
  },
  "language_info": {
   "codemirror_mode": "r",
   "file_extension": ".r",
   "mimetype": "text/x-r-source",
   "name": "R",
   "pygments_lexer": "r",
   "version": "3.3.2"
  },
  "toc": {
   "nav_menu": {},
   "number_sections": true,
   "sideBar": true,
   "skip_h1_title": true,
   "toc_cell": true,
   "toc_position": {},
   "toc_section_display": "block",
   "toc_window_display": false
  }
 },
 "nbformat": 4,
 "nbformat_minor": 2
}
