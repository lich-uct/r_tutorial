{
 "cells": [
  {
   "cell_type": "markdown",
   "metadata": {
    "toc": "true"
   },
   "source": [
    " # Table of Contents\n",
    "<div class=\"toc\" style=\"margin-top: 1em;\"><ul class=\"toc-item\" id=\"toc-level0\"><li><span><a href=\"http://localhost:8888/notebooks/procvicovani/ulohy_reseni.ipynb#Programování\" data-toc-modified-id=\"Programování-1\"><span class=\"toc-item-num\">1&nbsp;&nbsp;</span>Programování</a></span><ul class=\"toc-item\"><li><span><a href=\"http://localhost:8888/notebooks/procvicovani/ulohy_reseni.ipynb#Faktoriál\" data-toc-modified-id=\"Faktoriál-1.1\"><span class=\"toc-item-num\">1.1&nbsp;&nbsp;</span>Faktoriál</a></span></li><li><span><a href=\"http://localhost:8888/notebooks/procvicovani/ulohy_reseni.ipynb#Faktoriál-vektoru\" data-toc-modified-id=\"Faktoriál-vektoru-1.2\"><span class=\"toc-item-num\">1.2&nbsp;&nbsp;</span>Faktoriál vektoru</a></span></li><li><span><a href=\"http://localhost:8888/notebooks/procvicovani/ulohy_reseni.ipynb#Matice-sousednosti\" data-toc-modified-id=\"Matice-sousednosti-1.3\"><span class=\"toc-item-num\">1.3&nbsp;&nbsp;</span>Matice sousednosti</a></span><ul class=\"toc-item\"><li><span><a href=\"http://localhost:8888/notebooks/procvicovani/ulohy_reseni.ipynb#Počet-Vazeb\" data-toc-modified-id=\"Počet-Vazeb-1.3.1\"><span class=\"toc-item-num\">1.3.1&nbsp;&nbsp;</span>Počet Vazeb</a></span></li><li><span><a href=\"http://localhost:8888/notebooks/procvicovani/ulohy_reseni.ipynb#Počet-chemických-prvků\" data-toc-modified-id=\"Počet-chemických-prvků-1.3.2\"><span class=\"toc-item-num\">1.3.2&nbsp;&nbsp;</span>Počet chemických prvků</a></span></li><li><span><a href=\"http://localhost:8888/notebooks/procvicovani/ulohy_reseni.ipynb#Seznam-vazeb\" data-toc-modified-id=\"Seznam-vazeb-1.3.3\"><span class=\"toc-item-num\">1.3.3&nbsp;&nbsp;</span>Seznam vazeb</a></span></li></ul></li></ul></li><li><span><a href=\"http://localhost:8888/notebooks/procvicovani/ulohy_reseni.ipynb#Statistika\" data-toc-modified-id=\"Statistika-2\"><span class=\"toc-item-num\">2&nbsp;&nbsp;</span>Statistika</a></span><ul class=\"toc-item\"><li><span><a href=\"http://localhost:8888/notebooks/procvicovani/ulohy_reseni.ipynb#Načtení-dat\" data-toc-modified-id=\"Načtení-dat-2.1\"><span class=\"toc-item-num\">2.1&nbsp;&nbsp;</span>Načtení dat</a></span></li><li><span><a href=\"http://localhost:8888/notebooks/procvicovani/ulohy_reseni.ipynb#Režiséři-a-průměrná-délka-záběru-v-jejich-filmech\" data-toc-modified-id=\"Režiséři-a-průměrná-délka-záběru-v-jejich-filmech-2.2\"><span class=\"toc-item-num\">2.2&nbsp;&nbsp;</span>Režiséři a průměrná délka záběru v jejich filmech</a></span></li><li><span><a href=\"http://localhost:8888/notebooks/procvicovani/ulohy_reseni.ipynb#Vývoj-délky-záběru-v-jednotlivých-desetiletích\" data-toc-modified-id=\"Vývoj-délky-záběru-v-jednotlivých-desetiletích-2.3\"><span class=\"toc-item-num\">2.3&nbsp;&nbsp;</span>Vývoj délky záběru v jednotlivých desetiletích</a></span></li></ul></li></ul></div>"
   ]
  },
  {
   "cell_type": "markdown",
   "metadata": {},
   "source": [
    "# Úlohy\n",
    "\n",
    "Tento notebook obsahuje praktické úlohy na procvičení nejrůznějších znalostí ze statistiky a programování v jazyce R.\n",
    "\n",
    "## Programování\n",
    "\n",
    "### Faktoriál\n",
    "\n",
    "Naprogramujte libovolným způsobem výpočet faktoriálu z přirozeného čísla:\n",
    "\n",
    "$n! = \\begin{cases}1&\\text{pokud n = 0}\\\\n\\cdot (n-1)!&\\text{jinak}\\end{cases}$"
   ]
  },
  {
   "cell_type": "code",
   "execution_count": 1,
   "metadata": {
    "collapsed": true
   },
   "outputs": [],
   "source": [
    "# rekurze\n",
    "faktoriál <- function(n) {\n",
    "    if (n < 0) {\n",
    "        warning(\"n je menší než nula\")\n",
    "        return(NULL)\n",
    "    }\n",
    "    if (n == 0) {\n",
    "        return(1)\n",
    "    }\n",
    "    \n",
    "    n * faktoriál(n - 1)\n",
    "}"
   ]
  },
  {
   "cell_type": "code",
   "execution_count": 2,
   "metadata": {
    "collapsed": true
   },
   "outputs": [],
   "source": [
    "# cyklus while\n",
    "faktoriál <- function(n) {\n",
    "    if (n < 0) {\n",
    "        warning(\"n je menší než nula\")\n",
    "        return(NULL)\n",
    "    }\n",
    "    if (n == 0) {\n",
    "        return(1)\n",
    "    }\n",
    "    \n",
    "    ret <- n\n",
    "    while (n != 1) {\n",
    "        n <- (n - 1)\n",
    "        ret <- ret * n\n",
    "    }\n",
    "    ret\n",
    "}"
   ]
  },
  {
   "cell_type": "code",
   "execution_count": 3,
   "metadata": {
    "collapsed": true
   },
   "outputs": [],
   "source": [
    "# cyklus for\n",
    "faktoriál <- function(n) {\n",
    "    if (n < 0) {\n",
    "        warning(\"n je menší než nula\")\n",
    "        return(NULL)\n",
    "    }\n",
    "    if (n %in% c(0, 1)) {\n",
    "        return(1)\n",
    "    }\n",
    "    \n",
    "    ret <- n\n",
    "    for (i in (n-1):1) {\n",
    "        ret <- ret * i\n",
    "    }\n",
    "    ret\n",
    "}"
   ]
  },
  {
   "cell_type": "code",
   "execution_count": 4,
   "metadata": {
    "collapsed": true
   },
   "outputs": [],
   "source": [
    "# pomocí Reduce\n",
    "faktoriál <- function(n) {\n",
    "    if (n < 0) {\n",
    "        warning(\"n je menší než nula\")\n",
    "        return(NULL)\n",
    "    }\n",
    "    if (n %in% c(0, 1)) {\n",
    "        return(1)\n",
    "    }\n",
    "    \n",
    "    Reduce(function(i, j) i*j, as.double(n:2))\n",
    "}"
   ]
  },
  {
   "cell_type": "code",
   "execution_count": 5,
   "metadata": {
    "collapsed": true
   },
   "outputs": [],
   "source": [
    "# pomocí sapply (velice obskurní a nevhodný způsob použití této funkce)\n",
    "faktoriál <- function(n) {\n",
    "    if (n < 0) {\n",
    "        warning(\"n je menší než nula\")\n",
    "        return(NULL)\n",
    "    }\n",
    "    if (n %in% c(0, 1)) {\n",
    "        return(1)\n",
    "    }\n",
    "    \n",
    "    ret <- n\n",
    "    sapply(n:2, function(n) {ret <<- ret * (n-1)})\n",
    "    ret\n",
    "}"
   ]
  },
  {
   "cell_type": "code",
   "execution_count": 6,
   "metadata": {},
   "outputs": [
    {
     "name": "stderr",
     "output_type": "stream",
     "text": [
      "Warning message in faktoriál(-1):\n",
      "“n je menší než nula”"
     ]
    },
    {
     "data": {
      "text/plain": [
       "NULL"
      ]
     },
     "metadata": {},
     "output_type": "display_data"
    },
    {
     "data": {
      "text/html": [
       "1"
      ],
      "text/latex": [
       "1"
      ],
      "text/markdown": [
       "1"
      ],
      "text/plain": [
       "[1] 1"
      ]
     },
     "metadata": {},
     "output_type": "display_data"
    },
    {
     "data": {
      "text/html": [
       "1"
      ],
      "text/latex": [
       "1"
      ],
      "text/markdown": [
       "1"
      ],
      "text/plain": [
       "[1] 1"
      ]
     },
     "metadata": {},
     "output_type": "display_data"
    },
    {
     "data": {
      "text/html": [
       "2"
      ],
      "text/latex": [
       "2"
      ],
      "text/markdown": [
       "2"
      ],
      "text/plain": [
       "[1] 2"
      ]
     },
     "metadata": {},
     "output_type": "display_data"
    },
    {
     "data": {
      "text/html": [
       "6"
      ],
      "text/latex": [
       "6"
      ],
      "text/markdown": [
       "6"
      ],
      "text/plain": [
       "[1] 6"
      ]
     },
     "metadata": {},
     "output_type": "display_data"
    },
    {
     "data": {
      "text/html": [
       "120"
      ],
      "text/latex": [
       "120"
      ],
      "text/markdown": [
       "120"
      ],
      "text/plain": [
       "[1] 120"
      ]
     },
     "metadata": {},
     "output_type": "display_data"
    },
    {
     "data": {
      "text/html": [
       "1307674368000"
      ],
      "text/latex": [
       "1307674368000"
      ],
      "text/markdown": [
       "1307674368000"
      ],
      "text/plain": [
       "[1] 1.307674e+12"
      ]
     },
     "metadata": {},
     "output_type": "display_data"
    },
    {
     "data": {
      "text/html": [
       "2.65252859812191e+32"
      ],
      "text/latex": [
       "2.65252859812191e+32"
      ],
      "text/markdown": [
       "2.65252859812191e+32"
      ],
      "text/plain": [
       "[1] 2.652529e+32"
      ]
     },
     "metadata": {},
     "output_type": "display_data"
    },
    {
     "name": "stderr",
     "output_type": "stream",
     "text": [
      "Warning message in gamma(x + 1):\n",
      "“NaNs produced”"
     ]
    },
    {
     "data": {
      "text/html": [
       "NaN"
      ],
      "text/latex": [
       "NaN"
      ],
      "text/markdown": [
       "NaN"
      ],
      "text/plain": [
       "[1] NaN"
      ]
     },
     "metadata": {},
     "output_type": "display_data"
    },
    {
     "data": {
      "text/html": [
       "1"
      ],
      "text/latex": [
       "1"
      ],
      "text/markdown": [
       "1"
      ],
      "text/plain": [
       "[1] 1"
      ]
     },
     "metadata": {},
     "output_type": "display_data"
    },
    {
     "data": {
      "text/html": [
       "1"
      ],
      "text/latex": [
       "1"
      ],
      "text/markdown": [
       "1"
      ],
      "text/plain": [
       "[1] 1"
      ]
     },
     "metadata": {},
     "output_type": "display_data"
    },
    {
     "data": {
      "text/html": [
       "2"
      ],
      "text/latex": [
       "2"
      ],
      "text/markdown": [
       "2"
      ],
      "text/plain": [
       "[1] 2"
      ]
     },
     "metadata": {},
     "output_type": "display_data"
    },
    {
     "data": {
      "text/html": [
       "6"
      ],
      "text/latex": [
       "6"
      ],
      "text/markdown": [
       "6"
      ],
      "text/plain": [
       "[1] 6"
      ]
     },
     "metadata": {},
     "output_type": "display_data"
    },
    {
     "data": {
      "text/html": [
       "120"
      ],
      "text/latex": [
       "120"
      ],
      "text/markdown": [
       "120"
      ],
      "text/plain": [
       "[1] 120"
      ]
     },
     "metadata": {},
     "output_type": "display_data"
    },
    {
     "data": {
      "text/html": [
       "1307674368000"
      ],
      "text/latex": [
       "1307674368000"
      ],
      "text/markdown": [
       "1307674368000"
      ],
      "text/plain": [
       "[1] 1.307674e+12"
      ]
     },
     "metadata": {},
     "output_type": "display_data"
    },
    {
     "data": {
      "text/html": [
       "2.65252859812191e+32"
      ],
      "text/latex": [
       "2.65252859812191e+32"
      ],
      "text/markdown": [
       "2.65252859812191e+32"
      ],
      "text/plain": [
       "[1] 2.652529e+32"
      ]
     },
     "metadata": {},
     "output_type": "display_data"
    }
   ],
   "source": [
    "# testovací kód\n",
    "faktoriál(-1)\n",
    "faktoriál(0)\n",
    "faktoriál(1)\n",
    "faktoriál(2)\n",
    "faktoriál(3)\n",
    "faktoriál(5)\n",
    "faktoriál(15)\n",
    "faktoriál(30)\n",
    "\n",
    "# kontrola pomocí vestavěné funkce\n",
    "factorial(-1)\n",
    "factorial(0)\n",
    "factorial(1)\n",
    "factorial(2)\n",
    "factorial(3)\n",
    "factorial(5)\n",
    "factorial(15)\n",
    "factorial(30)"
   ]
  },
  {
   "cell_type": "markdown",
   "metadata": {},
   "source": [
    "### Faktoriál vektoru\n",
    "\n",
    "Napiště funkci, která spočítá faktoriál pro každý prvek daného vektoru a výsledek vrátí opět jako vektor:"
   ]
  },
  {
   "cell_type": "code",
   "execution_count": 7,
   "metadata": {
    "collapsed": true
   },
   "outputs": [],
   "source": [
    "faktoriál_vectorized <- function(x) {\n",
    "    unlist(lapply(x, faktoriál))\n",
    "}"
   ]
  },
  {
   "cell_type": "code",
   "execution_count": 8,
   "metadata": {},
   "outputs": [
    {
     "name": "stderr",
     "output_type": "stream",
     "text": [
      "Warning message in FUN(X[[i]], ...):\n",
      "“n je menší než nula”"
     ]
    },
    {
     "data": {
      "text/html": [
       "<ol class=list-inline>\n",
       "\t<li>1</li>\n",
       "\t<li>1</li>\n",
       "\t<li>2</li>\n",
       "\t<li>6</li>\n",
       "\t<li>24</li>\n",
       "\t<li>120</li>\n",
       "\t<li>720</li>\n",
       "\t<li>5040</li>\n",
       "\t<li>40320</li>\n",
       "\t<li>362880</li>\n",
       "\t<li>3628800</li>\n",
       "</ol>\n"
      ],
      "text/latex": [
       "\\begin{enumerate*}\n",
       "\\item 1\n",
       "\\item 1\n",
       "\\item 2\n",
       "\\item 6\n",
       "\\item 24\n",
       "\\item 120\n",
       "\\item 720\n",
       "\\item 5040\n",
       "\\item 40320\n",
       "\\item 362880\n",
       "\\item 3628800\n",
       "\\end{enumerate*}\n"
      ],
      "text/markdown": [
       "1. 1\n",
       "2. 1\n",
       "3. 2\n",
       "4. 6\n",
       "5. 24\n",
       "6. 120\n",
       "7. 720\n",
       "8. 5040\n",
       "9. 40320\n",
       "10. 362880\n",
       "11. 3628800\n",
       "\n",
       "\n"
      ],
      "text/plain": [
       " [1]       1       1       2       6      24     120     720    5040   40320\n",
       "[10]  362880 3628800"
      ]
     },
     "metadata": {},
     "output_type": "display_data"
    },
    {
     "name": "stderr",
     "output_type": "stream",
     "text": [
      "Warning message in gamma(x + 1):\n",
      "“NaNs produced”"
     ]
    },
    {
     "data": {
      "text/html": [
       "<ol class=list-inline>\n",
       "\t<li>NaN</li>\n",
       "\t<li>1</li>\n",
       "\t<li>1</li>\n",
       "\t<li>2</li>\n",
       "\t<li>6</li>\n",
       "\t<li>24</li>\n",
       "\t<li>120</li>\n",
       "\t<li>720</li>\n",
       "\t<li>5040</li>\n",
       "\t<li>40320</li>\n",
       "\t<li>362880</li>\n",
       "\t<li>3628800</li>\n",
       "</ol>\n"
      ],
      "text/latex": [
       "\\begin{enumerate*}\n",
       "\\item NaN\n",
       "\\item 1\n",
       "\\item 1\n",
       "\\item 2\n",
       "\\item 6\n",
       "\\item 24\n",
       "\\item 120\n",
       "\\item 720\n",
       "\\item 5040\n",
       "\\item 40320\n",
       "\\item 362880\n",
       "\\item 3628800\n",
       "\\end{enumerate*}\n"
      ],
      "text/markdown": [
       "1. NaN\n",
       "2. 1\n",
       "3. 1\n",
       "4. 2\n",
       "5. 6\n",
       "6. 24\n",
       "7. 120\n",
       "8. 720\n",
       "9. 5040\n",
       "10. 40320\n",
       "11. 362880\n",
       "12. 3628800\n",
       "\n",
       "\n"
      ],
      "text/plain": [
       " [1]     NaN       1       1       2       6      24     120     720    5040\n",
       "[10]   40320  362880 3628800"
      ]
     },
     "metadata": {},
     "output_type": "display_data"
    }
   ],
   "source": [
    "# testovací kód\n",
    "faktoriál_vectorized(-1:10)\n",
    "\n",
    "# kontrola pomocí vestavěné funkce\n",
    "factorial(-1:10)"
   ]
  },
  {
   "cell_type": "markdown",
   "metadata": {},
   "source": [
    "### Matice sousednosti\n",
    "\n",
    "Vazby v molekule lze jednoduše popsat pomocí tzv. [matice sousednosti](https://cs.wikipedia.org/wiki/Matice_sousednosti) (adjecency matrix):\n",
    "\n",
    "![mol_repr.jpg](mol_repr.jpg)\n",
    "\n",
    "V této reprezentaci jsou tedy všechny páry atomů, které jsou spojené vazbou, v matici označeny číslem 1.\n",
    "\n",
    "Načtěte si ze souboru `adj_mat.csv` výše uvedenou matici sousednosti a uložte ji do vhodné datové struktury. Výsledek by měl vypadat nějak takto:"
   ]
  },
  {
   "cell_type": "code",
   "execution_count": 9,
   "metadata": {},
   "outputs": [
    {
     "data": {
      "text/html": [
       "<table>\n",
       "<thead><tr><th></th><th scope=col>C.1</th><th scope=col>C.2</th><th scope=col>C.3</th><th scope=col>Cl.4</th><th scope=col>C.5</th><th scope=col>C.6</th></tr></thead>\n",
       "<tbody>\n",
       "\t<tr><th scope=row>C.1</th><td>0</td><td>1</td><td>0</td><td>0</td><td>0</td><td>0</td></tr>\n",
       "\t<tr><th scope=row>C.2</th><td>1</td><td>0</td><td>1</td><td>0</td><td>0</td><td>0</td></tr>\n",
       "\t<tr><th scope=row>C.3</th><td>0</td><td>1</td><td>0</td><td>1</td><td>1</td><td>0</td></tr>\n",
       "\t<tr><th scope=row>Cl.4</th><td>0</td><td>0</td><td>1</td><td>0</td><td>0</td><td>0</td></tr>\n",
       "\t<tr><th scope=row>C.5</th><td>0</td><td>0</td><td>1</td><td>0</td><td>0</td><td>1</td></tr>\n",
       "\t<tr><th scope=row>C.6</th><td>0</td><td>0</td><td>0</td><td>0</td><td>1</td><td>0</td></tr>\n",
       "</tbody>\n",
       "</table>\n"
      ],
      "text/latex": [
       "\\begin{tabular}{r|llllll}\n",
       "  & C.1 & C.2 & C.3 & Cl.4 & C.5 & C.6\\\\\n",
       "\\hline\n",
       "\tC.1 & 0 & 1 & 0 & 0 & 0 & 0\\\\\n",
       "\tC.2 & 1 & 0 & 1 & 0 & 0 & 0\\\\\n",
       "\tC.3 & 0 & 1 & 0 & 1 & 1 & 0\\\\\n",
       "\tCl.4 & 0 & 0 & 1 & 0 & 0 & 0\\\\\n",
       "\tC.5 & 0 & 0 & 1 & 0 & 0 & 1\\\\\n",
       "\tC.6 & 0 & 0 & 0 & 0 & 1 & 0\\\\\n",
       "\\end{tabular}\n"
      ],
      "text/markdown": [
       "\n",
       "| <!--/--> | C.1 | C.2 | C.3 | Cl.4 | C.5 | C.6 | \n",
       "|---|---|---|---|---|---|\n",
       "| C.1 | 0 | 1 | 0 | 0 | 0 | 0 | \n",
       "| C.2 | 1 | 0 | 1 | 0 | 0 | 0 | \n",
       "| C.3 | 0 | 1 | 0 | 1 | 1 | 0 | \n",
       "| Cl.4 | 0 | 0 | 1 | 0 | 0 | 0 | \n",
       "| C.5 | 0 | 0 | 1 | 0 | 0 | 1 | \n",
       "| C.6 | 0 | 0 | 0 | 0 | 1 | 0 | \n",
       "\n",
       "\n"
      ],
      "text/plain": [
       "     C.1 C.2 C.3 Cl.4 C.5 C.6\n",
       "C.1  0   1   0   0    0   0  \n",
       "C.2  1   0   1   0    0   0  \n",
       "C.3  0   1   0   1    1   0  \n",
       "Cl.4 0   0   1   0    0   0  \n",
       "C.5  0   0   1   0    0   1  \n",
       "C.6  0   0   0   0    1   0  "
      ]
     },
     "metadata": {},
     "output_type": "display_data"
    }
   ],
   "source": [
    "m_adj <- read.table(\"adj_mat.csv\", sep = ',', header = T)\n",
    "rownames(m_adj) <- m_adj$X\n",
    "m_adj <- as.matrix(m_adj[,2:ncol(m_adj)])\n",
    "colnames(m_adj) <- row.names(m_adj)\n",
    "m_adj"
   ]
  },
  {
   "cell_type": "markdown",
   "metadata": {},
   "source": [
    "Vaším úkolem je vytvořit následující funkce (viz níže). Mějte na paměti, že musí být dostatečně obecné na to, aby dokázaly zpracovat jakoukoliv molekulu. \n",
    "\n",
    "#### Počet Vazeb\n",
    "\n",
    "Napište funkci, která spočítá celkový počet vazeb v molekule (dvojná se počítá za jednu vazbu):"
   ]
  },
  {
   "cell_type": "code",
   "execution_count": 10,
   "metadata": {
    "collapsed": true
   },
   "outputs": [],
   "source": [
    "počet_vazeb <- function (m) {\n",
    "    sum(m) / 2\n",
    "}"
   ]
  },
  {
   "cell_type": "code",
   "execution_count": 11,
   "metadata": {},
   "outputs": [
    {
     "data": {
      "text/html": [
       "5"
      ],
      "text/latex": [
       "5"
      ],
      "text/markdown": [
       "5"
      ],
      "text/plain": [
       "[1] 5"
      ]
     },
     "metadata": {},
     "output_type": "display_data"
    }
   ],
   "source": [
    "počet_vazeb(m_adj)"
   ]
  },
  {
   "cell_type": "markdown",
   "metadata": {},
   "source": [
    "#### Počet chemických prvků\n",
    "\n",
    "Napište funkci, která spočítá počet výskytů jednotlivých prvků v molekule.\n",
    "\n",
    "Nápověda:\n",
    "\n",
    "```R\n",
    "strsplit(colnames(m), split = \"\\\\.\")\n",
    "```"
   ]
  },
  {
   "cell_type": "code",
   "execution_count": 12,
   "metadata": {
    "collapsed": true
   },
   "outputs": [],
   "source": [
    "# klasické procedurální programování\n",
    "počet_prvků <- function(m) {\n",
    "    split_stuff <- unlist(strsplit(colnames(m), split = \"\\\\.\"))\n",
    "    elements <- split_stuff[seq(1,length(split_stuff), 2)]\n",
    "    \n",
    "    symbols <- unique(elements)\n",
    "    occurences <- vector(mode(0), length(unique(elements)))    \n",
    "    for (i in elements) {\n",
    "        occurences[which(i == symbols)] <- occurences[which(i == symbols)] + 1\n",
    "    }\n",
    "    \n",
    "    df <- as.data.frame(occurences)\n",
    "    colnames(df) <- c(\"Počet\")\n",
    "    rownames(df) <- symbols\n",
    "    df\n",
    "}"
   ]
  },
  {
   "cell_type": "code",
   "execution_count": 13,
   "metadata": {
    "collapsed": true
   },
   "outputs": [],
   "source": [
    "# do.call (volani funkce s x argumenty)\n",
    "počet_prvků <- function(m) {\n",
    "    split_stuff <- unlist(strsplit(colnames(m), split = \"\\\\.\"))\n",
    "    elements <- split_stuff[seq(1,length(split_stuff), 2)]\n",
    "    \n",
    "    counts <- do.call( # seznam pro ukladani vysledku\n",
    "        list\n",
    "        , as.list( # argumenty funkce list jako seznam\n",
    "            vector(mode(0), length(unique(elements)))\n",
    "        )\n",
    "    )\n",
    "    names(counts) <- unique(elements) # pojmenovani polozek\n",
    "    \n",
    "    # vypocet\n",
    "    for (i in elements) {\n",
    "        counts[[i]] <- counts[[i]] + 1\n",
    "    }\n",
    "    \n",
    "    # vytvoreni vysledne tabulky\n",
    "    df <- t(as.data.frame(counts))\n",
    "    colnames(df) <- c(\"Počet\")\n",
    "    df\n",
    "}"
   ]
  },
  {
   "cell_type": "code",
   "execution_count": 14,
   "metadata": {
    "collapsed": true
   },
   "outputs": [],
   "source": [
    "# pomocí kontingenční tabulky\n",
    "počet_prvků <- function(m) {\n",
    "    split_stuff <- unlist(strsplit(colnames(m), split = \"\\\\.\"))\n",
    "    element_factors <- as.factor(split_stuff[seq(1,length(split_stuff), 2)])\n",
    "    \n",
    "    df <- as.data.frame(table(element_factors))\n",
    "    colnames(df) <- c(\"Atom\", \"Počet\")\n",
    "    df\n",
    "}"
   ]
  },
  {
   "cell_type": "code",
   "execution_count": 15,
   "metadata": {
    "collapsed": true
   },
   "outputs": [],
   "source": [
    "# pomocí aggregate\n",
    "počet_prvků <- function(m) {\n",
    "    split_stuff <- unlist(strsplit(colnames(m), split = \"\\\\.\"))\n",
    "    element_factors <- as.factor(split_stuff[seq(1,length(split_stuff), 2)])\n",
    "    \n",
    "    df <- aggregate(as.vector(element_factors), list(element_factors), length)\n",
    "    colnames(df) <- c(\"Atom\", \"Počet\")\n",
    "    df\n",
    "}"
   ]
  },
  {
   "cell_type": "code",
   "execution_count": 16,
   "metadata": {},
   "outputs": [
    {
     "data": {
      "text/html": [
       "<table>\n",
       "<thead><tr><th scope=col>Atom</th><th scope=col>Počet</th></tr></thead>\n",
       "<tbody>\n",
       "\t<tr><td>C </td><td>5 </td></tr>\n",
       "\t<tr><td>Cl</td><td>1 </td></tr>\n",
       "</tbody>\n",
       "</table>\n"
      ],
      "text/latex": [
       "\\begin{tabular}{r|ll}\n",
       " Atom & Počet\\\\\n",
       "\\hline\n",
       "\t C  & 5 \\\\\n",
       "\t Cl & 1 \\\\\n",
       "\\end{tabular}\n"
      ],
      "text/markdown": [
       "\n",
       "Atom | Počet | \n",
       "|---|---|\n",
       "| C  | 5  | \n",
       "| Cl | 1  | \n",
       "\n",
       "\n"
      ],
      "text/plain": [
       "  Atom Počet\n",
       "1 C    5    \n",
       "2 Cl   1    "
      ]
     },
     "metadata": {},
     "output_type": "display_data"
    }
   ],
   "source": [
    "počet_prvků(m_adj)"
   ]
  },
  {
   "cell_type": "markdown",
   "metadata": {},
   "source": [
    "#### Seznam vazeb\n",
    "\n",
    "Napište funkci, která vrátí seznam, kde každá položka reprezentuje jeden atom v molekule. Každá tato položka pak bude obsahovat vektor identifikátorů vazebných partnerů daného atomu:"
   ]
  },
  {
   "cell_type": "code",
   "execution_count": 17,
   "metadata": {
    "collapsed": true
   },
   "outputs": [],
   "source": [
    "find_bonding_partners <- function(m) {\n",
    "    find_bonds <- function(row) {\n",
    "        atom_ids <- which(row == 1)\n",
    "        colnames(m)[atom_ids]\n",
    "    }\n",
    "\n",
    "    apply(m, 1, find_bonds)\n",
    "}"
   ]
  },
  {
   "cell_type": "code",
   "execution_count": 18,
   "metadata": {},
   "outputs": [
    {
     "data": {
      "text/html": [
       "<dl>\n",
       "\t<dt>$C.1</dt>\n",
       "\t\t<dd>'C.2'</dd>\n",
       "\t<dt>$C.2</dt>\n",
       "\t\t<dd><ol class=list-inline>\n",
       "\t<li>'C.1'</li>\n",
       "\t<li>'C.3'</li>\n",
       "</ol>\n",
       "</dd>\n",
       "\t<dt>$C.3</dt>\n",
       "\t\t<dd><ol class=list-inline>\n",
       "\t<li>'C.2'</li>\n",
       "\t<li>'Cl.4'</li>\n",
       "\t<li>'C.5'</li>\n",
       "</ol>\n",
       "</dd>\n",
       "\t<dt>$Cl.4</dt>\n",
       "\t\t<dd>'C.3'</dd>\n",
       "\t<dt>$C.5</dt>\n",
       "\t\t<dd><ol class=list-inline>\n",
       "\t<li>'C.3'</li>\n",
       "\t<li>'C.6'</li>\n",
       "</ol>\n",
       "</dd>\n",
       "\t<dt>$C.6</dt>\n",
       "\t\t<dd>'C.5'</dd>\n",
       "</dl>\n"
      ],
      "text/latex": [
       "\\begin{description}\n",
       "\\item[\\$C.1] 'C.2'\n",
       "\\item[\\$C.2] \\begin{enumerate*}\n",
       "\\item 'C.1'\n",
       "\\item 'C.3'\n",
       "\\end{enumerate*}\n",
       "\n",
       "\\item[\\$C.3] \\begin{enumerate*}\n",
       "\\item 'C.2'\n",
       "\\item 'Cl.4'\n",
       "\\item 'C.5'\n",
       "\\end{enumerate*}\n",
       "\n",
       "\\item[\\$Cl.4] 'C.3'\n",
       "\\item[\\$C.5] \\begin{enumerate*}\n",
       "\\item 'C.3'\n",
       "\\item 'C.6'\n",
       "\\end{enumerate*}\n",
       "\n",
       "\\item[\\$C.6] 'C.5'\n",
       "\\end{description}\n"
      ],
      "text/markdown": [
       "$C.1\n",
       ":   'C.2'\n",
       "$C.2\n",
       ":   1. 'C.1'\n",
       "2. 'C.3'\n",
       "\n",
       "\n",
       "\n",
       "$C.3\n",
       ":   1. 'C.2'\n",
       "2. 'Cl.4'\n",
       "3. 'C.5'\n",
       "\n",
       "\n",
       "\n",
       "$Cl.4\n",
       ":   'C.3'\n",
       "$C.5\n",
       ":   1. 'C.3'\n",
       "2. 'C.6'\n",
       "\n",
       "\n",
       "\n",
       "$C.6\n",
       ":   'C.5'\n",
       "\n",
       "\n"
      ],
      "text/plain": [
       "$C.1\n",
       "[1] \"C.2\"\n",
       "\n",
       "$C.2\n",
       "[1] \"C.1\" \"C.3\"\n",
       "\n",
       "$C.3\n",
       "[1] \"C.2\"  \"Cl.4\" \"C.5\" \n",
       "\n",
       "$Cl.4\n",
       "[1] \"C.3\"\n",
       "\n",
       "$C.5\n",
       "[1] \"C.3\" \"C.6\"\n",
       "\n",
       "$C.6\n",
       "[1] \"C.5\"\n"
      ]
     },
     "metadata": {},
     "output_type": "display_data"
    }
   ],
   "source": [
    "find_bonding_partners(m_adj)"
   ]
  },
  {
   "cell_type": "markdown",
   "metadata": {},
   "source": [
    "## Statistika\n",
    "\n",
    "V souboru `movie_avshotlength.csv` najdete data o 11001 filmech. K dispozici jsou základní data a `ASL`, průměrná délka jednoho záběru (average shot length). V následujících úkolech použijete základní statistické metody pro analýzu tohoto souboru dat.\n",
    "\n",
    "*Poznámka*: Tento datový soubor obsahuje nestandardní znaky, a tudíž čtení z něj může někdy vyústit ve zvláštní varování. Vyhnete se tomu explicitním nastavením `LOCALE` v R pomocí `LC_ALL`:\n",
    "\n",
    "```\n",
    "Sys.setlocale('LC_ALL','C')\n",
    "```"
   ]
  },
  {
   "cell_type": "code",
   "execution_count": 19,
   "metadata": {},
   "outputs": [
    {
     "data": {
      "text/html": [
       "'LC_CTYPE=C;LC_NUMERIC=C;LC_TIME=C;LC_COLLATE=C;LC_MONETARY=C;LC_MESSAGES=en_US.UTF-8;LC_PAPER=en_US.UTF-8;LC_NAME=C;LC_ADDRESS=C;LC_TELEPHONE=C;LC_MEASUREMENT=en_US.UTF-8;LC_IDENTIFICATION=C'"
      ],
      "text/latex": [
       "'LC\\_CTYPE=C;LC\\_NUMERIC=C;LC\\_TIME=C;LC\\_COLLATE=C;LC\\_MONETARY=C;LC\\_MESSAGES=en\\_US.UTF-8;LC\\_PAPER=en\\_US.UTF-8;LC\\_NAME=C;LC\\_ADDRESS=C;LC\\_TELEPHONE=C;LC\\_MEASUREMENT=en\\_US.UTF-8;LC\\_IDENTIFICATION=C'"
      ],
      "text/markdown": [
       "'LC_CTYPE=C;LC_NUMERIC=C;LC_TIME=C;LC_COLLATE=C;LC_MONETARY=C;LC_MESSAGES=en_US.UTF-8;LC_PAPER=en_US.UTF-8;LC_NAME=C;LC_ADDRESS=C;LC_TELEPHONE=C;LC_MEASUREMENT=en_US.UTF-8;LC_IDENTIFICATION=C'"
      ],
      "text/plain": [
       "[1] \"LC_CTYPE=C;LC_NUMERIC=C;LC_TIME=C;LC_COLLATE=C;LC_MONETARY=C;LC_MESSAGES=en_US.UTF-8;LC_PAPER=en_US.UTF-8;LC_NAME=C;LC_ADDRESS=C;LC_TELEPHONE=C;LC_MEASUREMENT=en_US.UTF-8;LC_IDENTIFICATION=C\""
      ]
     },
     "metadata": {},
     "output_type": "display_data"
    }
   ],
   "source": [
    "Sys.setlocale('LC_ALL','C')"
   ]
  },
  {
   "cell_type": "markdown",
   "metadata": {},
   "source": [
    "### Načtení dat\n",
    "\n",
    "Načtěte datový soubor, zobrazte náhled na několik prvních řádek tabulky filmů a zkontrolujte si, že je filmů očekávaný počet:"
   ]
  },
  {
   "cell_type": "code",
   "execution_count": 20,
   "metadata": {},
   "outputs": [
    {
     "data": {
      "text/html": [
       "<table>\n",
       "<thead><tr><th scope=col>Title</th><th scope=col>Year</th><th scope=col>Director</th><th scope=col>Country</th><th scope=col>ASL</th></tr></thead>\n",
       "<tbody>\n",
       "\t<tr><td>11:14                   </td><td>2003                    </td><td>Marcks, Greg            </td><td>USA                     </td><td>4.28                    </td></tr>\n",
       "\t<tr><td>21                      </td><td>2008                    </td><td>Luketic, Robert         </td><td>                        </td><td>3.63                    </td></tr>\n",
       "\t<tr><td>300                     </td><td>2007                    </td><td>Snyder, Zack            </td><td>USA                     </td><td>4.17                    </td></tr>\n",
       "\t<tr><td>2012                    </td><td>2009                    </td><td>Emmerich, Roland        </td><td>USA                     </td><td>3.00                    </td></tr>\n",
       "\t<tr><td>$                       </td><td>1972                    </td><td>Brooks, Richard         </td><td>                        </td><td>4.90                    </td></tr>\n",
       "\t<tr><td>*Batteries Not Included </td><td>1987                    </td><td>Robbins, Matthew        </td><td>USA                     </td><td>7.30                    </td></tr>\n",
       "</tbody>\n",
       "</table>\n"
      ],
      "text/latex": [
       "\\begin{tabular}{r|lllll}\n",
       " Title & Year & Director & Country & ASL\\\\\n",
       "\\hline\n",
       "\t 11:14                    & 2003                     & Marcks, Greg             & USA                      & 4.28                    \\\\\n",
       "\t 21                       & 2008                     & Luketic, Robert          &                          & 3.63                    \\\\\n",
       "\t 300                      & 2007                     & Snyder, Zack             & USA                      & 4.17                    \\\\\n",
       "\t 2012                     & 2009                     & Emmerich, Roland         & USA                      & 3.00                    \\\\\n",
       "\t \\$                        & 1972                       & Brooks, Richard            &                            & 4.90                      \\\\\n",
       "\t *Batteries Not Included  & 1987                     & Robbins, Matthew         & USA                      & 7.30                    \\\\\n",
       "\\end{tabular}\n"
      ],
      "text/markdown": [
       "\n",
       "Title | Year | Director | Country | ASL | \n",
       "|---|---|---|---|---|---|\n",
       "| 11:14                    | 2003                     | Marcks, Greg             | USA                      | 4.28                     | \n",
       "| 21                       | 2008                     | Luketic, Robert          |                          | 3.63                     | \n",
       "| 300                      | 2007                     | Snyder, Zack             | USA                      | 4.17                     | \n",
       "| 2012                     | 2009                     | Emmerich, Roland         | USA                      | 3.00                     | \n",
       "| $                        | 1972                     | Brooks, Richard          |                          | 4.90                     | \n",
       "| *Batteries Not Included  | 1987                     | Robbins, Matthew         | USA                      | 7.30                     | \n",
       "\n",
       "\n"
      ],
      "text/plain": [
       "  Title                    Year Director          Country ASL \n",
       "1 11:14                    2003 Marcks, Greg      USA     4.28\n",
       "2 21                       2008 Luketic, Robert           3.63\n",
       "3 300                      2007 Snyder, Zack      USA     4.17\n",
       "4 2012                     2009 Emmerich, Roland  USA     3.00\n",
       "5 $                        1972 Brooks, Richard           4.90\n",
       "6 *Batteries Not Included  1987 Robbins, Matthew  USA     7.30"
      ]
     },
     "metadata": {},
     "output_type": "display_data"
    },
    {
     "data": {
      "text/html": [
       "11001"
      ],
      "text/latex": [
       "11001"
      ],
      "text/markdown": [
       "11001"
      ],
      "text/plain": [
       "[1] 11001"
      ]
     },
     "metadata": {},
     "output_type": "display_data"
    }
   ],
   "source": [
    "df_movies <- read.table(\"movie_avshotlength.csv\", header = T, sep = \",\", quote = '\"')\n",
    "head(df_movies)\n",
    "nrow(df_movies)"
   ]
  },
  {
   "cell_type": "markdown",
   "metadata": {},
   "source": [
    "### Režiséři a průměrná délka záběru v jejich filmech\n",
    "\n",
    "Uložte si do zvláštní tabulky jména všech režisérů a počty filmů, o kterých máte data k dispozici. Celou tabulku seřaďte v sestupném pořadí podle počtu natočených snímků a ukažte seznam deseti nejaktivnějších režisérů:"
   ]
  },
  {
   "cell_type": "code",
   "execution_count": 21,
   "metadata": {},
   "outputs": [
    {
     "data": {
      "text/html": [
       "<table>\n",
       "<thead><tr><th scope=col>Director</th><th scope=col>Movies</th></tr></thead>\n",
       "<tbody>\n",
       "\t<tr><td>Hitchcock, Alfred  </td><td>53                 </td></tr>\n",
       "\t<tr><td>Lang, Fritz        </td><td>38                 </td></tr>\n",
       "\t<tr><td>Ford, John         </td><td>36                 </td></tr>\n",
       "\t<tr><td>Thomas, Gerald     </td><td>34                 </td></tr>\n",
       "\t<tr><td>Hathaway, Henry    </td><td>30                 </td></tr>\n",
       "\t<tr><td>DeMille, Cecil B.  </td><td>28                 </td></tr>\n",
       "\t<tr><td>Curtiz, Michael    </td><td>27                 </td></tr>\n",
       "\t<tr><td>Eastwood, Clint    </td><td>27                 </td></tr>\n",
       "\t<tr><td>Thomas, Ralph      </td><td>26                 </td></tr>\n",
       "\t<tr><td>Fleischer, Richard </td><td>25                 </td></tr>\n",
       "</tbody>\n",
       "</table>\n"
      ],
      "text/latex": [
       "\\begin{tabular}{r|ll}\n",
       " Director & Movies\\\\\n",
       "\\hline\n",
       "\t Hitchcock, Alfred   & 53                 \\\\\n",
       "\t Lang, Fritz         & 38                 \\\\\n",
       "\t Ford, John          & 36                 \\\\\n",
       "\t Thomas, Gerald      & 34                 \\\\\n",
       "\t Hathaway, Henry     & 30                 \\\\\n",
       "\t DeMille, Cecil B.   & 28                 \\\\\n",
       "\t Curtiz, Michael     & 27                 \\\\\n",
       "\t Eastwood, Clint     & 27                 \\\\\n",
       "\t Thomas, Ralph       & 26                 \\\\\n",
       "\t Fleischer, Richard  & 25                 \\\\\n",
       "\\end{tabular}\n"
      ],
      "text/markdown": [
       "\n",
       "Director | Movies | \n",
       "|---|---|---|---|---|---|---|---|---|---|\n",
       "| Hitchcock, Alfred   | 53                  | \n",
       "| Lang, Fritz         | 38                  | \n",
       "| Ford, John          | 36                  | \n",
       "| Thomas, Gerald      | 34                  | \n",
       "| Hathaway, Henry     | 30                  | \n",
       "| DeMille, Cecil B.   | 28                  | \n",
       "| Curtiz, Michael     | 27                  | \n",
       "| Eastwood, Clint     | 27                  | \n",
       "| Thomas, Ralph       | 26                  | \n",
       "| Fleischer, Richard  | 25                  | \n",
       "\n",
       "\n"
      ],
      "text/plain": [
       "   Director            Movies\n",
       "1  Hitchcock, Alfred   53    \n",
       "2  Lang, Fritz         38    \n",
       "3  Ford, John          36    \n",
       "4  Thomas, Gerald      34    \n",
       "5  Hathaway, Henry     30    \n",
       "6  DeMille, Cecil B.   28    \n",
       "7  Curtiz, Michael     27    \n",
       "8  Eastwood, Clint     27    \n",
       "9  Thomas, Ralph       26    \n",
       "10 Fleischer, Richard  25    "
      ]
     },
     "metadata": {},
     "output_type": "display_data"
    }
   ],
   "source": [
    "df_directors <- as.data.frame(\n",
    "        table(df_movies[\"Director\"])\n",
    ")\n",
    "df_directors <- df_directors[order(df_directors$Freq, decreasing = T),]\n",
    "colnames(df_directors) <- c(\"Director\", \"Movies\")\n",
    "rownames(df_directors) <- NULL\n",
    "head(df_directors, 10)"
   ]
  },
  {
   "cell_type": "markdown",
   "metadata": {},
   "source": [
    "Z původních dat si do nové tabulky vyfiltrujte pouze data o filmech režisérů s 25 a více filmy. Zobrazte jména těchto režisérů v abecedním pořadí a náhled získaných dat:"
   ]
  },
  {
   "cell_type": "code",
   "execution_count": 22,
   "metadata": {},
   "outputs": [
    {
     "data": {
      "text/html": [
       "<ol class=list-inline>\n",
       "\t<li>Curtiz, Michael </li>\n",
       "\t<li>DeMille, Cecil B. </li>\n",
       "\t<li>Eastwood, Clint </li>\n",
       "\t<li>Fleischer, Richard </li>\n",
       "\t<li>Ford, John </li>\n",
       "\t<li>Hathaway, Henry </li>\n",
       "\t<li>Hitchcock, Alfred </li>\n",
       "\t<li>Huston, John </li>\n",
       "\t<li>Lang, Fritz </li>\n",
       "\t<li>Spielberg, Steven </li>\n",
       "\t<li>Thomas, Gerald </li>\n",
       "\t<li>Thomas, Ralph </li>\n",
       "</ol>\n"
      ],
      "text/latex": [
       "\\begin{enumerate*}\n",
       "\\item Curtiz, Michael \n",
       "\\item DeMille, Cecil B. \n",
       "\\item Eastwood, Clint \n",
       "\\item Fleischer, Richard \n",
       "\\item Ford, John \n",
       "\\item Hathaway, Henry \n",
       "\\item Hitchcock, Alfred \n",
       "\\item Huston, John \n",
       "\\item Lang, Fritz \n",
       "\\item Spielberg, Steven \n",
       "\\item Thomas, Gerald \n",
       "\\item Thomas, Ralph \n",
       "\\end{enumerate*}\n"
      ],
      "text/markdown": [
       "1. Curtiz, Michael \n",
       "2. DeMille, Cecil B. \n",
       "3. Eastwood, Clint \n",
       "4. Fleischer, Richard \n",
       "5. Ford, John \n",
       "6. Hathaway, Henry \n",
       "7. Hitchcock, Alfred \n",
       "8. Huston, John \n",
       "9. Lang, Fritz \n",
       "10. Spielberg, Steven \n",
       "11. Thomas, Gerald \n",
       "12. Thomas, Ralph \n",
       "\n",
       "\n"
      ],
      "text/plain": [
       " [1] Curtiz, Michael     DeMille, Cecil B.   Eastwood, Clint    \n",
       " [4] Fleischer, Richard  Ford, John          Hathaway, Henry    \n",
       " [7] Hitchcock, Alfred   Huston, John        Lang, Fritz        \n",
       "[10] Spielberg, Steven   Thomas, Gerald      Thomas, Ralph      \n",
       "4571 Levels:  Aarniokosky, Douglas  Abbas-Mustan  ... \\326stlund, ruben "
      ]
     },
     "metadata": {},
     "output_type": "display_data"
    },
    {
     "data": {
      "text/html": [
       "<table>\n",
       "<thead><tr><th></th><th scope=col>Title</th><th scope=col>Year</th><th scope=col>Director</th><th scope=col>Country</th><th scope=col>ASL</th></tr></thead>\n",
       "<tbody>\n",
       "\t<tr><th scope=row>20</th><td>13 Rue Madeleine             </td><td>1946                         </td><td>Hathaway, Henry              </td><td>USA                          </td><td> 7.50                        </td></tr>\n",
       "\t<tr><th scope=row>27</th><td>1941                         </td><td>1979                         </td><td>Spielberg, Steven            </td><td>USA                          </td><td> 5.50                        </td></tr>\n",
       "\t<tr><th scope=row>34</th><td>20,000 Leagues Under the Sea </td><td>1954                         </td><td>Fleischer, Richard           </td><td>USA                          </td><td> 8.97                        </td></tr>\n",
       "\t<tr><th scope=row>41</th><td>23 Paces to Baker Street     </td><td>1956                         </td><td>Hathaway, Henry              </td><td>USA                          </td><td>10.29                        </td></tr>\n",
       "\t<tr><th scope=row>125</th><td>Above Us the Waves           </td><td>1955                         </td><td>Thomas, Ralph                </td><td>BRI                          </td><td> 7.41                        </td></tr>\n",
       "\t<tr><th scope=row>134</th><td>Absolute Power               </td><td>1996                         </td><td>Eastwood, Clint              </td><td>USA                          </td><td> 5.00                        </td></tr>\n",
       "</tbody>\n",
       "</table>\n"
      ],
      "text/latex": [
       "\\begin{tabular}{r|lllll}\n",
       "  & Title & Year & Director & Country & ASL\\\\\n",
       "\\hline\n",
       "\t20 & 13 Rue Madeleine              & 1946                          & Hathaway, Henry               & USA                           &  7.50                        \\\\\n",
       "\t27 & 1941                          & 1979                          & Spielberg, Steven             & USA                           &  5.50                        \\\\\n",
       "\t34 & 20,000 Leagues Under the Sea  & 1954                          & Fleischer, Richard            & USA                           &  8.97                        \\\\\n",
       "\t41 & 23 Paces to Baker Street      & 1956                          & Hathaway, Henry               & USA                           & 10.29                        \\\\\n",
       "\t125 & Above Us the Waves            & 1955                          & Thomas, Ralph                 & BRI                           &  7.41                        \\\\\n",
       "\t134 & Absolute Power                & 1996                          & Eastwood, Clint               & USA                           &  5.00                        \\\\\n",
       "\\end{tabular}\n"
      ],
      "text/markdown": [
       "\n",
       "| <!--/--> | Title | Year | Director | Country | ASL | \n",
       "|---|---|---|---|---|---|\n",
       "| 20 | 13 Rue Madeleine              | 1946                          | Hathaway, Henry               | USA                           |  7.50                         | \n",
       "| 27 | 1941                          | 1979                          | Spielberg, Steven             | USA                           |  5.50                         | \n",
       "| 34 | 20,000 Leagues Under the Sea  | 1954                          | Fleischer, Richard            | USA                           |  8.97                         | \n",
       "| 41 | 23 Paces to Baker Street      | 1956                          | Hathaway, Henry               | USA                           | 10.29                         | \n",
       "| 125 | Above Us the Waves            | 1955                          | Thomas, Ralph                 | BRI                           |  7.41                         | \n",
       "| 134 | Absolute Power                | 1996                          | Eastwood, Clint               | USA                           |  5.00                         | \n",
       "\n",
       "\n"
      ],
      "text/plain": [
       "    Title                         Year Director            Country ASL  \n",
       "20  13 Rue Madeleine              1946 Hathaway, Henry     USA      7.50\n",
       "27  1941                          1979 Spielberg, Steven   USA      5.50\n",
       "34  20,000 Leagues Under the Sea  1954 Fleischer, Richard  USA      8.97\n",
       "41  23 Paces to Baker Street      1956 Hathaway, Henry     USA     10.29\n",
       "125 Above Us the Waves            1955 Thomas, Ralph       BRI      7.41\n",
       "134 Absolute Power                1996 Eastwood, Clint     USA      5.00"
      ]
     },
     "metadata": {},
     "output_type": "display_data"
    }
   ],
   "source": [
    "directors_25plus <- df_directors$Director[df_directors$Movies >= 25]\n",
    "sort(directors_25plus)\n",
    "df_25plus <- df_movies[df_movies$Director %in% directors_25plus,]\n",
    "head(df_25plus)"
   ]
  },
  {
   "cell_type": "markdown",
   "metadata": {},
   "source": [
    "Pomocí krabicového grafu porovnejte průměrnou délku záběru každého z vybraných režisérů:"
   ]
  },
  {
   "cell_type": "code",
   "execution_count": 23,
   "metadata": {},
   "outputs": [
    {
     "data": {
      "image/png": "[encoded data removed]",
      "text/plain": [
       "plot without title"
      ]
     },
     "metadata": {},
     "output_type": "display_data"
    }
   ],
   "source": [
    "result <- by(df_25plus, df_25plus$Director, function(x) x$ASL)\n",
    "boxplot(result[directors_25plus])"
   ]
  },
  {
   "cell_type": "markdown",
   "metadata": {},
   "source": [
    "Odstraňte z dat o nejaktivnějších režisérech příliš odlehlé body (filmy s průměrnou délkou záběru delší než 100 sekund) a zobrazte pro upravená data nový krabicový graf:"
   ]
  },
  {
   "cell_type": "code",
   "execution_count": 24,
   "metadata": {},
   "outputs": [
    {
     "data": {
      "image/png": "[encoded data removed]",
      "text/plain": [
       "plot without title"
      ]
     },
     "metadata": {},
     "output_type": "display_data"
    }
   ],
   "source": [
    "# obecne reseni pomoci funkce by\n",
    "df_25plus <- df_25plus[df_25plus$ASL <= 100,]\n",
    "result <- by(df_25plus, df_25plus$Director, function(x) x$ASL)\n",
    "boxplot(result[directors_25plus])"
   ]
  },
  {
   "cell_type": "code",
   "execution_count": 25,
   "metadata": {},
   "outputs": [
    {
     "data": {
      "image/png": "[encoded data removed]",
      "text/plain": [
       "plot without title"
      ]
     },
     "metadata": {},
     "output_type": "display_data"
    }
   ],
   "source": [
    "# Jara Kurfürst prisel i s o neco elegantnejsim resenim pomoci funkce split\n",
    "result <- split(df_25plus$ASL, df_25plus$Director)\n",
    "boxplot(result[directors_25plus])"
   ]
  },
  {
   "cell_type": "code",
   "execution_count": 26,
   "metadata": {},
   "outputs": [
    {
     "data": {
      "image/png": "[encoded data removed]",
      "text/plain": [
       "plot without title"
      ]
     },
     "metadata": {},
     "output_type": "display_data"
    }
   ],
   "source": [
    "# uprava grafu na lepe citelnou podobu\n",
    "op <- par(mar = c(5, 10, 4, 2) + 0.1)\n",
    "boxplot(result[directors_25plus], las = 1, horizontal = T)\n",
    "par(op)"
   ]
  },
  {
   "cell_type": "markdown",
   "metadata": {},
   "source": [
    "Získejte z vyčištěných dat průměrnou délku záběru pro filmy Clinta Eastwooda a Alfreda Hitchcocka. Uložte je do dvou vektorů pro další analýzu. Vektory zobrazte spolu s počtem datových bodů.\n",
    "\n",
    "Nápověda: Pozor na podivně umístěné mezery ve jménech režisérů."
   ]
  },
  {
   "cell_type": "code",
   "execution_count": 27,
   "metadata": {},
   "outputs": [
    {
     "data": {
      "text/html": [
       "27"
      ],
      "text/latex": [
       "27"
      ],
      "text/markdown": [
       "27"
      ],
      "text/plain": [
       "[1] 27"
      ]
     },
     "metadata": {},
     "output_type": "display_data"
    },
    {
     "name": "stdout",
     "output_type": "stream",
     "text": [
      " [1] 5.00 4.61 8.80 5.93 4.57 6.49 5.62 6.40 5.27 4.14 2.91 6.37 5.69 5.24 5.30\n",
      "[16] 5.02 5.48 4.94 4.68 4.67 5.94 4.38 4.40 5.15 4.50 5.00 4.49\n"
     ]
    },
    {
     "data": {
      "text/html": [
       "52"
      ],
      "text/latex": [
       "52"
      ],
      "text/markdown": [
       "52"
      ],
      "text/plain": [
       "[1] 52"
      ]
     },
     "metadata": {},
     "output_type": "display_data"
    },
    {
     "name": "stdout",
     "output_type": "stream",
     "text": [
      " [1] 22.00  5.30  6.00 11.00 14.00  7.00  9.30  7.00  6.00  7.07  8.00  7.00\n",
      "[13]  7.00  7.50  7.00 25.50  7.50  7.00  5.50  7.50  7.00  6.00  6.00  7.80\n",
      "[25] 14.00  5.85  8.50  5.50  7.50  6.00  8.30  9.00  7.00  6.50  7.50  7.00\n",
      "[37]  7.50  9.00 18.00 10.00  6.00  8.50  9.00  6.40  8.50  6.50  8.70 40.00\n",
      "[49]  6.70 10.00  7.50  6.50\n"
     ]
    }
   ],
   "source": [
    "eastwood <- result[[\"Eastwood, Clint \"]]\n",
    "hitchcock <- result[[\"Hitchcock, Alfred \"]]\n",
    "length(eastwood)\n",
    "print(eastwood)\n",
    "length(hitchcock)\n",
    "print(hitchcock)"
   ]
  },
  {
   "cell_type": "markdown",
   "metadata": {},
   "source": [
    "Nakreslete histogramy zobrazující distribuci průměrných délek záběrů ve filmech obou režisérů:"
   ]
  },
  {
   "cell_type": "code",
   "execution_count": 28,
   "metadata": {},
   "outputs": [
    {
     "data": {
      "image/png": "[encoded data removed]",
      "text/plain": [
       "Plot with title \"Histogram of eastwood\""
      ]
     },
     "metadata": {},
     "output_type": "display_data"
    },
    {
     "data": {
      "image/png": "[encoded data removed]",
      "text/plain": [
       "Plot with title \"Histogram of hitchcock\""
      ]
     },
     "metadata": {},
     "output_type": "display_data"
    }
   ],
   "source": [
    "hist(eastwood)\n",
    "hist(hitchcock)"
   ]
  },
  {
   "cell_type": "markdown",
   "metadata": {},
   "source": [
    "Z vektoru Hitchcockových filmů ostraňte odlehlé body (filmy s průměrnou délkou záběru větší než 10 sekund) a opět zobrazte oba histogramy:"
   ]
  },
  {
   "cell_type": "code",
   "execution_count": 29,
   "metadata": {},
   "outputs": [
    {
     "data": {
      "image/png": "[encoded data removed]",
      "text/plain": [
       "Plot with title \"Histogram of eastwood\""
      ]
     },
     "metadata": {},
     "output_type": "display_data"
    },
    {
     "data": {
      "image/png": "[encoded data removed]",
      "text/plain": [
       "Plot with title \"Histogram of hitchcock\""
      ]
     },
     "metadata": {},
     "output_type": "display_data"
    }
   ],
   "source": [
    "hitchcock <- hitchcock[hitchcock <= 10]\n",
    "hist(eastwood)\n",
    "hist(hitchcock)"
   ]
  },
  {
   "cell_type": "markdown",
   "metadata": {},
   "source": [
    "Manuálně (pomocí dosazení do vzorečku) spočtěte 99% intervaly spolehlivosti pro průměrnou délku záběru ve filmech obou režisérů:"
   ]
  },
  {
   "cell_type": "code",
   "execution_count": 30,
   "metadata": {},
   "outputs": [
    {
     "data": {
      "text/html": [
       "<ol class=list-inline>\n",
       "\t<li>4.65547379129081</li>\n",
       "\t<li>5.7882299124129</li>\n",
       "</ol>\n"
      ],
      "text/latex": [
       "\\begin{enumerate*}\n",
       "\\item 4.65547379129081\n",
       "\\item 5.7882299124129\n",
       "\\end{enumerate*}\n"
      ],
      "text/markdown": [
       "1. 4.65547379129081\n",
       "2. 5.7882299124129\n",
       "\n",
       "\n"
      ],
      "text/plain": [
       "[1] 4.655474 5.788230"
      ]
     },
     "metadata": {},
     "output_type": "display_data"
    },
    {
     "data": {
      "text/html": [
       "<ol class=list-inline>\n",
       "\t<li>6.80986202031725</li>\n",
       "\t<li>7.76436020190497</li>\n",
       "</ol>\n"
      ],
      "text/latex": [
       "\\begin{enumerate*}\n",
       "\\item 6.80986202031725\n",
       "\\item 7.76436020190497\n",
       "\\end{enumerate*}\n"
      ],
      "text/markdown": [
       "1. 6.80986202031725\n",
       "2. 7.76436020190497\n",
       "\n",
       "\n"
      ],
      "text/plain": [
       "[1] 6.809862 7.764360"
      ]
     },
     "metadata": {},
     "output_type": "display_data"
    }
   ],
   "source": [
    "sem_east <- sd(eastwood) / sqrt(length(eastwood))\n",
    "t_east <- qt(0.995, df = length(eastwood) - 1)        \n",
    "c(\n",
    "    mean(eastwood) - t_east * sem_east\n",
    "    , mean(eastwood) + t_east * sem_east\n",
    ")\n",
    "\n",
    "sem_hitch <- sd(hitchcock) / sqrt(length(hitchcock))\n",
    "t_hitch <- qt(0.995, df = length(hitchcock) - 1)        \n",
    "c(\n",
    "    mean(hitchcock) - t_hitch * sem_hitch\n",
    "    , mean(hitchcock) + t_hitch * sem_hitch\n",
    ")"
   ]
  },
  {
   "cell_type": "code",
   "execution_count": 31,
   "metadata": {},
   "outputs": [
    {
     "data": {
      "text/html": [
       "<ol class=list-inline>\n",
       "\t<li>4.65547379129081</li>\n",
       "\t<li>5.7882299124129</li>\n",
       "</ol>\n"
      ],
      "text/latex": [
       "\\begin{enumerate*}\n",
       "\\item 4.65547379129081\n",
       "\\item 5.7882299124129\n",
       "\\end{enumerate*}\n"
      ],
      "text/markdown": [
       "1. 4.65547379129081\n",
       "2. 5.7882299124129\n",
       "\n",
       "\n"
      ],
      "text/plain": [
       "[1] 4.655474 5.788230"
      ]
     },
     "metadata": {},
     "output_type": "display_data"
    },
    {
     "data": {
      "text/html": [
       "<ol class=list-inline>\n",
       "\t<li>6.80986202031725</li>\n",
       "\t<li>7.76436020190497</li>\n",
       "</ol>\n"
      ],
      "text/latex": [
       "\\begin{enumerate*}\n",
       "\\item 6.80986202031725\n",
       "\\item 7.76436020190497\n",
       "\\end{enumerate*}\n"
      ],
      "text/markdown": [
       "1. 6.80986202031725\n",
       "2. 7.76436020190497\n",
       "\n",
       "\n"
      ],
      "text/plain": [
       "[1] 6.809862 7.764360"
      ]
     },
     "metadata": {},
     "output_type": "display_data"
    }
   ],
   "source": [
    "conf_int <- function(x, confLevel = 0.99) {\n",
    "    sem <- sd(x) / sqrt(length(x))\n",
    "    t <- abs(qt((1 - confLevel) / 2, df = length(x) - 1))\n",
    "        \n",
    "    c(\n",
    "        mean(x) - t * sem\n",
    "        , mean(x) + t * sem\n",
    "    )\n",
    "}\n",
    "\n",
    "conf_int(eastwood)\n",
    "conf_int(hitchcock)"
   ]
  },
  {
   "cell_type": "markdown",
   "metadata": {},
   "source": [
    "a výsledek si ověřte pomocí vestavěné funkce `t.test`:"
   ]
  },
  {
   "cell_type": "code",
   "execution_count": 32,
   "metadata": {},
   "outputs": [
    {
     "data": {
      "text/plain": [
       "\n",
       "\tOne Sample t-test\n",
       "\n",
       "data:  eastwood\n",
       "t = 25.619, df = 26, p-value < 2.2e-16\n",
       "alternative hypothesis: true mean is not equal to 0\n",
       "99 percent confidence interval:\n",
       " 4.655474 5.788230\n",
       "sample estimates:\n",
       "mean of x \n",
       " 5.221852 \n"
      ]
     },
     "metadata": {},
     "output_type": "display_data"
    },
    {
     "data": {
      "text/plain": [
       "\n",
       "\tOne Sample t-test\n",
       "\n",
       "data:  hitchcock\n",
       "t = 41.108, df = 44, p-value < 2.2e-16\n",
       "alternative hypothesis: true mean is not equal to 0\n",
       "99 percent confidence interval:\n",
       " 6.809862 7.764360\n",
       "sample estimates:\n",
       "mean of x \n",
       " 7.287111 \n"
      ]
     },
     "metadata": {},
     "output_type": "display_data"
    }
   ],
   "source": [
    "t.test(eastwood, conf.level = 0.99)\n",
    "t.test(hitchcock, conf.level = 0.99)"
   ]
  },
  {
   "cell_type": "markdown",
   "metadata": {},
   "source": [
    "### Vývoj délky záběru v jednotlivých desetiletích\n",
    "\n",
    "Seřaďte filmy od nejstaršího po nejnovější a uložte si výsledek do nové tabulky. Zobrazte deset nejstarších a deset nejnovějších filmů:"
   ]
  },
  {
   "cell_type": "code",
   "execution_count": 33,
   "metadata": {},
   "outputs": [
    {
     "data": {
      "text/html": [
       "<table>\n",
       "<thead><tr><th></th><th scope=col>Title</th><th scope=col>Year</th><th scope=col>Director</th><th scope=col>Country</th><th scope=col>ASL</th></tr></thead>\n",
       "<tbody>\n",
       "\t<tr><th scope=row>623</th><td><span style=white-space:pre-wrap>Astonished Heart, The                    </span></td><td><span style=white-space:pre-wrap>  14</span>                                     </td><td>Fisher, T. &amp; Darnborough,                                                    </td><td>BRI                                                                              </td><td>14.10                                                                            </td></tr>\n",
       "\t<tr><th scope=row>4512</th><td>Hindenburg, The                          </td><td>1075                                     </td><td>Wise, Robert                             </td><td>USA                                      </td><td> 5.94                                    </td></tr>\n",
       "\t<tr><th scope=row>3064</th><td>Ekspeditricen                            </td><td>1911                                     </td><td>Blom, August                             </td><td>DEN                                      </td><td>43.00                                    </td></tr>\n",
       "\t<tr><th scope=row>3458</th><td><span style=white-space:pre-wrap>Fire Djaevle, De                         </span></td><td>1911                                                                             </td><td><span style=white-space:pre-wrap>Dinesen, R. &amp; Lind, A.    </span>           </td><td>DEN                                                                              </td><td>21.00                                                                            </td></tr>\n",
       "\t<tr><th scope=row>2820</th><td>D<b8>dspringet til Hest fra Cirkuskuplen </td><td>1912                                     </td><td>Schnedler-Sorensen, E.                   </td><td>DEN                                      </td><td>17.00                                    </td></tr>\n",
       "\t<tr><th scope=row>7450</th><td>Pellegrino, Il                           </td><td>1912                                     </td><td>Caserini, Mario                          </td><td>ITA                                      </td><td>27.50                                    </td></tr>\n",
       "\t<tr><th scope=row>9980</th><td>Tragardmastaren                          </td><td>1912                                     </td><td>Sj<f6>str<f6>m, Victor                   </td><td>SWE                                      </td><td>24.00                                    </td></tr>\n",
       "\t<tr><th scope=row>11001</th><td>Zweimal gelebt                           </td><td>1912                                     </td><td>Mack. Max                                </td><td>GER                                      </td><td>27.00                                    </td></tr>\n",
       "\t<tr><th scope=row>5106</th><td>Ivanhoe                                  </td><td>1913                                     </td><td>Brenon, Herbert                          </td><td>USA                                      </td><td>11.90                                    </td></tr>\n",
       "\t<tr><th scope=row>6024</th><td>Ma l'amor mio non muore                  </td><td>1913                                     </td><td>Caserini, Mario                          </td><td>ITA                                      </td><td>67.00                                    </td></tr>\n",
       "</tbody>\n",
       "</table>\n"
      ],
      "text/latex": [
       "\\begin{tabular}{r|lllll}\n",
       "  & Title & Year & Director & Country & ASL\\\\\n",
       "\\hline\n",
       "\t623 & Astonished Heart, The                     &   14                                      & Fisher, T. \\& Darnborough,               & BRI                                       & 14.10                                    \\\\\n",
       "\t4512 & Hindenburg, The                           & 1075                                      & Wise, Robert                              & USA                                       &  5.94                                    \\\\\n",
       "\t3064 & Ekspeditricen                             & 1911                                      & Blom, August                              & DEN                                       & 43.00                                    \\\\\n",
       "\t3458 & Fire Djaevle, De                          & 1911                                      & Dinesen, R. \\& Lind, A.                  & DEN                                       & 21.00                                    \\\\\n",
       "\t2820 & D<b8>dspringet til Hest fra Cirkuskuplen  & 1912                                      & Schnedler-Sorensen, E.                    & DEN                                       & 17.00                                    \\\\\n",
       "\t7450 & Pellegrino, Il                            & 1912                                      & Caserini, Mario                           & ITA                                       & 27.50                                    \\\\\n",
       "\t9980 & Tragardmastaren                           & 1912                                      & Sj<f6>str<f6>m, Victor                    & SWE                                       & 24.00                                    \\\\\n",
       "\t11001 & Zweimal gelebt                            & 1912                                      & Mack. Max                                 & GER                                       & 27.00                                    \\\\\n",
       "\t5106 & Ivanhoe                                   & 1913                                      & Brenon, Herbert                           & USA                                       & 11.90                                    \\\\\n",
       "\t6024 & Ma l'amor mio non muore                   & 1913                                      & Caserini, Mario                           & ITA                                       & 67.00                                    \\\\\n",
       "\\end{tabular}\n"
      ],
      "text/markdown": [
       "\n",
       "| <!--/--> | Title | Year | Director | Country | ASL | \n",
       "|---|---|---|---|---|---|---|---|---|---|\n",
       "| 623 | Astonished Heart, The                     |   14                                      | Fisher, T. & Darnborough,                 | BRI                                       | 14.10                                     | \n",
       "| 4512 | Hindenburg, The                           | 1075                                      | Wise, Robert                              | USA                                       |  5.94                                     | \n",
       "| 3064 | Ekspeditricen                             | 1911                                      | Blom, August                              | DEN                                       | 43.00                                     | \n",
       "| 3458 | Fire Djaevle, De                          | 1911                                      | Dinesen, R. & Lind, A.                    | DEN                                       | 21.00                                     | \n",
       "| 2820 | D<b8>dspringet til Hest fra Cirkuskuplen  | 1912                                      | Schnedler-Sorensen, E.                    | DEN                                       | 17.00                                     | \n",
       "| 7450 | Pellegrino, Il                            | 1912                                      | Caserini, Mario                           | ITA                                       | 27.50                                     | \n",
       "| 9980 | Tragardmastaren                           | 1912                                      | Sj<f6>str<f6>m, Victor                    | SWE                                       | 24.00                                     | \n",
       "| 11001 | Zweimal gelebt                            | 1912                                      | Mack. Max                                 | GER                                       | 27.00                                     | \n",
       "| 5106 | Ivanhoe                                   | 1913                                      | Brenon, Herbert                           | USA                                       | 11.90                                     | \n",
       "| 6024 | Ma l'amor mio non muore                   | 1913                                      | Caserini, Mario                           | ITA                                       | 67.00                                     | \n",
       "\n",
       "\n"
      ],
      "text/plain": [
       "      Title                                     Year Director                  \n",
       "623   Astonished Heart, The                       14 Fisher, T. & Darnborough, \n",
       "4512  Hindenburg, The                           1075 Wise, Robert              \n",
       "3064  Ekspeditricen                             1911 Blom, August              \n",
       "3458  Fire Djaevle, De                          1911 Dinesen, R. & Lind, A.    \n",
       "2820  D\\270dspringet til Hest fra Cirkuskuplen  1912 Schnedler-Sorensen, E.    \n",
       "7450  Pellegrino, Il                            1912 Caserini, Mario           \n",
       "9980  Tragardmastaren                           1912 Sj\\366str\\366m, Victor    \n",
       "11001 Zweimal gelebt                            1912 Mack. Max                 \n",
       "5106  Ivanhoe                                   1913 Brenon, Herbert           \n",
       "6024  Ma l'amor mio non muore                   1913 Caserini, Mario           \n",
       "      Country ASL  \n",
       "623   BRI     14.10\n",
       "4512  USA      5.94\n",
       "3064  DEN     43.00\n",
       "3458  DEN     21.00\n",
       "2820  DEN     17.00\n",
       "7450  ITA     27.50\n",
       "9980  SWE     24.00\n",
       "11001 GER     27.00\n",
       "5106  USA     11.90\n",
       "6024  ITA     67.00"
      ]
     },
     "metadata": {},
     "output_type": "display_data"
    },
    {
     "data": {
      "text/html": [
       "<table>\n",
       "<thead><tr><th></th><th scope=col>Title</th><th scope=col>Year</th><th scope=col>Director</th><th scope=col>Country</th><th scope=col>ASL</th></tr></thead>\n",
       "<tbody>\n",
       "\t<tr><th scope=row>7829</th><td>Qissa                        </td><td>2013                         </td><td>Singh, Anup                  </td><td>                             </td><td>14.98                        </td></tr>\n",
       "\t<tr><th scope=row>7866</th><td>R100                         </td><td>2013                         </td><td>Matsumoto Hitoshi            </td><td>JAP                          </td><td> 6.01                        </td></tr>\n",
       "\t<tr><th scope=row>8555</th><td>Selfish Giant, The           </td><td>2013                         </td><td>Barnard, Clio                </td><td>BRI                          </td><td> 5.86                        </td></tr>\n",
       "\t<tr><th scope=row>10319</th><td>Vehicle 19                   </td><td>2013                         </td><td>Dewil, Mukunda Michael       </td><td>USA                          </td><td> 4.51                        </td></tr>\n",
       "\t<tr><th scope=row>10784</th><td>With You, Without You        </td><td>2013                         </td><td>Vithanage, Prasanna          </td><td>SRI                          </td><td>10.57                        </td></tr>\n",
       "\t<tr><th scope=row>9358</th><td>Sulemani Keeda               </td><td>2014                         </td><td>Masurka, Amit V.             </td><td>IND                          </td><td> 4.51                        </td></tr>\n",
       "\t<tr><th scope=row>225</th><td>After Life                   </td><td>  NA                         </td><td>Koreeda Hirokazu             </td><td>JAP                          </td><td>18.50                        </td></tr>\n",
       "\t<tr><th scope=row>2327</th><td>Cup, The                     </td><td>  NA                         </td><td>Norbu, Khyentse              </td><td>                             </td><td> 7.10                        </td></tr>\n",
       "\t<tr><th scope=row>9510</th><td>Tale of Sweetie Barrett, The </td><td>  NA                         </td><td>Bradley, Stephen             </td><td>                             </td><td> 5.80                        </td></tr>\n",
       "\t<tr><th scope=row>10482</th><td>Wandas Trick                 </td><td>  NA                         </td><td>                             </td><td>GER                          </td><td> 9.00                        </td></tr>\n",
       "</tbody>\n",
       "</table>\n"
      ],
      "text/latex": [
       "\\begin{tabular}{r|lllll}\n",
       "  & Title & Year & Director & Country & ASL\\\\\n",
       "\\hline\n",
       "\t7829 & Qissa                         & 2013                          & Singh, Anup                   &                               & 14.98                        \\\\\n",
       "\t7866 & R100                          & 2013                          & Matsumoto Hitoshi             & JAP                           &  6.01                        \\\\\n",
       "\t8555 & Selfish Giant, The            & 2013                          & Barnard, Clio                 & BRI                           &  5.86                        \\\\\n",
       "\t10319 & Vehicle 19                    & 2013                          & Dewil, Mukunda Michael        & USA                           &  4.51                        \\\\\n",
       "\t10784 & With You, Without You         & 2013                          & Vithanage, Prasanna           & SRI                           & 10.57                        \\\\\n",
       "\t9358 & Sulemani Keeda                & 2014                          & Masurka, Amit V.              & IND                           &  4.51                        \\\\\n",
       "\t225 & After Life                    &   NA                          & Koreeda Hirokazu              & JAP                           & 18.50                        \\\\\n",
       "\t2327 & Cup, The                      &   NA                          & Norbu, Khyentse               &                               &  7.10                        \\\\\n",
       "\t9510 & Tale of Sweetie Barrett, The  &   NA                          & Bradley, Stephen              &                               &  5.80                        \\\\\n",
       "\t10482 & Wandas Trick                  &   NA                          &                               & GER                           &  9.00                        \\\\\n",
       "\\end{tabular}\n"
      ],
      "text/markdown": [
       "\n",
       "| <!--/--> | Title | Year | Director | Country | ASL | \n",
       "|---|---|---|---|---|---|---|---|---|---|\n",
       "| 7829 | Qissa                         | 2013                          | Singh, Anup                   |                               | 14.98                         | \n",
       "| 7866 | R100                          | 2013                          | Matsumoto Hitoshi             | JAP                           |  6.01                         | \n",
       "| 8555 | Selfish Giant, The            | 2013                          | Barnard, Clio                 | BRI                           |  5.86                         | \n",
       "| 10319 | Vehicle 19                    | 2013                          | Dewil, Mukunda Michael        | USA                           |  4.51                         | \n",
       "| 10784 | With You, Without You         | 2013                          | Vithanage, Prasanna           | SRI                           | 10.57                         | \n",
       "| 9358 | Sulemani Keeda                | 2014                          | Masurka, Amit V.              | IND                           |  4.51                         | \n",
       "| 225 | After Life                    |   NA                          | Koreeda Hirokazu              | JAP                           | 18.50                         | \n",
       "| 2327 | Cup, The                      |   NA                          | Norbu, Khyentse               |                               |  7.10                         | \n",
       "| 9510 | Tale of Sweetie Barrett, The  |   NA                          | Bradley, Stephen              |                               |  5.80                         | \n",
       "| 10482 | Wandas Trick                  |   NA                          |                               | GER                           |  9.00                         | \n",
       "\n",
       "\n"
      ],
      "text/plain": [
       "      Title                         Year Director                Country ASL  \n",
       "7829  Qissa                         2013 Singh, Anup                     14.98\n",
       "7866  R100                          2013 Matsumoto Hitoshi       JAP      6.01\n",
       "8555  Selfish Giant, The            2013 Barnard, Clio           BRI      5.86\n",
       "10319 Vehicle 19                    2013 Dewil, Mukunda Michael  USA      4.51\n",
       "10784 With You, Without You         2013 Vithanage, Prasanna     SRI     10.57\n",
       "9358  Sulemani Keeda                2014 Masurka, Amit V.        IND      4.51\n",
       "225   After Life                      NA Koreeda Hirokazu        JAP     18.50\n",
       "2327  Cup, The                        NA Norbu, Khyentse                  7.10\n",
       "9510  Tale of Sweetie Barrett, The    NA Bradley, Stephen                 5.80\n",
       "10482 Wandas Trick                    NA                         GER      9.00"
      ]
     },
     "metadata": {},
     "output_type": "display_data"
    }
   ],
   "source": [
    "df_movies_sorted <- df_movies[order(df_movies$Year),]\n",
    "head(df_movies_sorted, 10)\n",
    "tail(df_movies_sorted, 10)"
   ]
  },
  {
   "cell_type": "markdown",
   "metadata": {},
   "source": [
    "Z tabulky odstraňte filmy, pro které neznáte rok výroby, a filmy \"Astonished Heart\" a \"Hindenburg\". Nová data opět zobrazte:"
   ]
  },
  {
   "cell_type": "code",
   "execution_count": 34,
   "metadata": {},
   "outputs": [
    {
     "data": {
      "text/html": [
       "<table>\n",
       "<thead><tr><th></th><th scope=col>Title</th><th scope=col>Year</th><th scope=col>Director</th><th scope=col>Country</th><th scope=col>ASL</th></tr></thead>\n",
       "<tbody>\n",
       "\t<tr><th scope=row>3064</th><td>Ekspeditricen                            </td><td>1911                                     </td><td>Blom, August                             </td><td>DEN                                      </td><td>43.0                                     </td></tr>\n",
       "\t<tr><th scope=row>3458</th><td><span style=white-space:pre-wrap>Fire Djaevle, De                         </span></td><td>1911                                                                             </td><td>Dinesen, R. &amp; Lind, A.                                                       </td><td>DEN                                                                              </td><td>21.0                                                                             </td></tr>\n",
       "\t<tr><th scope=row>2820</th><td>D<b8>dspringet til Hest fra Cirkuskuplen </td><td>1912                                     </td><td>Schnedler-Sorensen, E.                   </td><td>DEN                                      </td><td>17.0                                     </td></tr>\n",
       "\t<tr><th scope=row>7450</th><td>Pellegrino, Il                           </td><td>1912                                     </td><td>Caserini, Mario                          </td><td>ITA                                      </td><td>27.5                                     </td></tr>\n",
       "\t<tr><th scope=row>9980</th><td>Tragardmastaren                          </td><td>1912                                     </td><td>Sj<f6>str<f6>m, Victor                   </td><td>SWE                                      </td><td>24.0                                     </td></tr>\n",
       "\t<tr><th scope=row>11001</th><td>Zweimal gelebt                           </td><td>1912                                     </td><td>Mack. Max                                </td><td>GER                                      </td><td>27.0                                     </td></tr>\n",
       "\t<tr><th scope=row>5106</th><td>Ivanhoe                                  </td><td>1913                                     </td><td>Brenon, Herbert                          </td><td>USA                                      </td><td>11.9                                     </td></tr>\n",
       "\t<tr><th scope=row>6024</th><td>Ma l'amor mio non muore                  </td><td>1913                                     </td><td>Caserini, Mario                          </td><td>ITA                                      </td><td>67.0                                     </td></tr>\n",
       "\t<tr><th scope=row>8472</th><td>Schwarze Kugel, die                      </td><td>1913                                     </td><td>Hofer, Franz                             </td><td>GER                                      </td><td>16.0                                     </td></tr>\n",
       "\t<tr><th scope=row>9369</th><td>Sumpfblume, die                          </td><td>1913                                     </td><td>Larsen, Viggo                            </td><td>GER                                      </td><td>27.5                                     </td></tr>\n",
       "</tbody>\n",
       "</table>\n"
      ],
      "text/latex": [
       "\\begin{tabular}{r|lllll}\n",
       "  & Title & Year & Director & Country & ASL\\\\\n",
       "\\hline\n",
       "\t3064 & Ekspeditricen                             & 1911                                      & Blom, August                              & DEN                                       & 43.0                                     \\\\\n",
       "\t3458 & Fire Djaevle, De                          & 1911                                      & Dinesen, R. \\& Lind, A.                  & DEN                                       & 21.0                                     \\\\\n",
       "\t2820 & D<b8>dspringet til Hest fra Cirkuskuplen  & 1912                                      & Schnedler-Sorensen, E.                    & DEN                                       & 17.0                                     \\\\\n",
       "\t7450 & Pellegrino, Il                            & 1912                                      & Caserini, Mario                           & ITA                                       & 27.5                                     \\\\\n",
       "\t9980 & Tragardmastaren                           & 1912                                      & Sj<f6>str<f6>m, Victor                    & SWE                                       & 24.0                                     \\\\\n",
       "\t11001 & Zweimal gelebt                            & 1912                                      & Mack. Max                                 & GER                                       & 27.0                                     \\\\\n",
       "\t5106 & Ivanhoe                                   & 1913                                      & Brenon, Herbert                           & USA                                       & 11.9                                     \\\\\n",
       "\t6024 & Ma l'amor mio non muore                   & 1913                                      & Caserini, Mario                           & ITA                                       & 67.0                                     \\\\\n",
       "\t8472 & Schwarze Kugel, die                       & 1913                                      & Hofer, Franz                              & GER                                       & 16.0                                     \\\\\n",
       "\t9369 & Sumpfblume, die                           & 1913                                      & Larsen, Viggo                             & GER                                       & 27.5                                     \\\\\n",
       "\\end{tabular}\n"
      ],
      "text/markdown": [
       "\n",
       "| <!--/--> | Title | Year | Director | Country | ASL | \n",
       "|---|---|---|---|---|---|---|---|---|---|\n",
       "| 3064 | Ekspeditricen                             | 1911                                      | Blom, August                              | DEN                                       | 43.0                                      | \n",
       "| 3458 | Fire Djaevle, De                          | 1911                                      | Dinesen, R. & Lind, A.                    | DEN                                       | 21.0                                      | \n",
       "| 2820 | D<b8>dspringet til Hest fra Cirkuskuplen  | 1912                                      | Schnedler-Sorensen, E.                    | DEN                                       | 17.0                                      | \n",
       "| 7450 | Pellegrino, Il                            | 1912                                      | Caserini, Mario                           | ITA                                       | 27.5                                      | \n",
       "| 9980 | Tragardmastaren                           | 1912                                      | Sj<f6>str<f6>m, Victor                    | SWE                                       | 24.0                                      | \n",
       "| 11001 | Zweimal gelebt                            | 1912                                      | Mack. Max                                 | GER                                       | 27.0                                      | \n",
       "| 5106 | Ivanhoe                                   | 1913                                      | Brenon, Herbert                           | USA                                       | 11.9                                      | \n",
       "| 6024 | Ma l'amor mio non muore                   | 1913                                      | Caserini, Mario                           | ITA                                       | 67.0                                      | \n",
       "| 8472 | Schwarze Kugel, die                       | 1913                                      | Hofer, Franz                              | GER                                       | 16.0                                      | \n",
       "| 9369 | Sumpfblume, die                           | 1913                                      | Larsen, Viggo                             | GER                                       | 27.5                                      | \n",
       "\n",
       "\n"
      ],
      "text/plain": [
       "      Title                                     Year Director               \n",
       "3064  Ekspeditricen                             1911 Blom, August           \n",
       "3458  Fire Djaevle, De                          1911 Dinesen, R. & Lind, A. \n",
       "2820  D\\270dspringet til Hest fra Cirkuskuplen  1912 Schnedler-Sorensen, E. \n",
       "7450  Pellegrino, Il                            1912 Caserini, Mario        \n",
       "9980  Tragardmastaren                           1912 Sj\\366str\\366m, Victor \n",
       "11001 Zweimal gelebt                            1912 Mack. Max              \n",
       "5106  Ivanhoe                                   1913 Brenon, Herbert        \n",
       "6024  Ma l'amor mio non muore                   1913 Caserini, Mario        \n",
       "8472  Schwarze Kugel, die                       1913 Hofer, Franz           \n",
       "9369  Sumpfblume, die                           1913 Larsen, Viggo          \n",
       "      Country ASL \n",
       "3064  DEN     43.0\n",
       "3458  DEN     21.0\n",
       "2820  DEN     17.0\n",
       "7450  ITA     27.5\n",
       "9980  SWE     24.0\n",
       "11001 GER     27.0\n",
       "5106  USA     11.9\n",
       "6024  ITA     67.0\n",
       "8472  GER     16.0\n",
       "9369  GER     27.5"
      ]
     },
     "metadata": {},
     "output_type": "display_data"
    },
    {
     "data": {
      "text/html": [
       "<table>\n",
       "<thead><tr><th></th><th scope=col>Title</th><th scope=col>Year</th><th scope=col>Director</th><th scope=col>Country</th><th scope=col>ASL</th></tr></thead>\n",
       "<tbody>\n",
       "\t<tr><th scope=row>5897</th><td>Look of Love, The      </td><td>2013                   </td><td>Winterbottom, Michael  </td><td>                       </td><td> 3.50                  </td></tr>\n",
       "\t<tr><th scope=row>6399</th><td>Metro Manila           </td><td>2013                   </td><td>Ellis, Sean            </td><td>                       </td><td> 3.23                  </td></tr>\n",
       "\t<tr><th scope=row>6811</th><td>Mystery Road           </td><td>2013                   </td><td>Sen, Ivan              </td><td>AUS                    </td><td> 4.92                  </td></tr>\n",
       "\t<tr><th scope=row>7375</th><td>Paradies: Hoffnung     </td><td>2013                   </td><td>Seidl, Ulrich          </td><td>                       </td><td>25.55                  </td></tr>\n",
       "\t<tr><th scope=row>7829</th><td>Qissa                  </td><td>2013                   </td><td>Singh, Anup            </td><td>                       </td><td>14.98                  </td></tr>\n",
       "\t<tr><th scope=row>7866</th><td>R100                   </td><td>2013                   </td><td>Matsumoto Hitoshi      </td><td>JAP                    </td><td> 6.01                  </td></tr>\n",
       "\t<tr><th scope=row>8555</th><td>Selfish Giant, The     </td><td>2013                   </td><td>Barnard, Clio          </td><td>BRI                    </td><td> 5.86                  </td></tr>\n",
       "\t<tr><th scope=row>10319</th><td>Vehicle 19             </td><td>2013                   </td><td>Dewil, Mukunda Michael </td><td>USA                    </td><td> 4.51                  </td></tr>\n",
       "\t<tr><th scope=row>10784</th><td>With You, Without You  </td><td>2013                   </td><td>Vithanage, Prasanna    </td><td>SRI                    </td><td>10.57                  </td></tr>\n",
       "\t<tr><th scope=row>9358</th><td>Sulemani Keeda         </td><td>2014                   </td><td>Masurka, Amit V.       </td><td>IND                    </td><td> 4.51                  </td></tr>\n",
       "</tbody>\n",
       "</table>\n"
      ],
      "text/latex": [
       "\\begin{tabular}{r|lllll}\n",
       "  & Title & Year & Director & Country & ASL\\\\\n",
       "\\hline\n",
       "\t5897 & Look of Love, The       & 2013                    & Winterbottom, Michael   &                         &  3.50                  \\\\\n",
       "\t6399 & Metro Manila            & 2013                    & Ellis, Sean             &                         &  3.23                  \\\\\n",
       "\t6811 & Mystery Road            & 2013                    & Sen, Ivan               & AUS                     &  4.92                  \\\\\n",
       "\t7375 & Paradies: Hoffnung      & 2013                    & Seidl, Ulrich           &                         & 25.55                  \\\\\n",
       "\t7829 & Qissa                   & 2013                    & Singh, Anup             &                         & 14.98                  \\\\\n",
       "\t7866 & R100                    & 2013                    & Matsumoto Hitoshi       & JAP                     &  6.01                  \\\\\n",
       "\t8555 & Selfish Giant, The      & 2013                    & Barnard, Clio           & BRI                     &  5.86                  \\\\\n",
       "\t10319 & Vehicle 19              & 2013                    & Dewil, Mukunda Michael  & USA                     &  4.51                  \\\\\n",
       "\t10784 & With You, Without You   & 2013                    & Vithanage, Prasanna     & SRI                     & 10.57                  \\\\\n",
       "\t9358 & Sulemani Keeda          & 2014                    & Masurka, Amit V.        & IND                     &  4.51                  \\\\\n",
       "\\end{tabular}\n"
      ],
      "text/markdown": [
       "\n",
       "| <!--/--> | Title | Year | Director | Country | ASL | \n",
       "|---|---|---|---|---|---|---|---|---|---|\n",
       "| 5897 | Look of Love, The       | 2013                    | Winterbottom, Michael   |                         |  3.50                   | \n",
       "| 6399 | Metro Manila            | 2013                    | Ellis, Sean             |                         |  3.23                   | \n",
       "| 6811 | Mystery Road            | 2013                    | Sen, Ivan               | AUS                     |  4.92                   | \n",
       "| 7375 | Paradies: Hoffnung      | 2013                    | Seidl, Ulrich           |                         | 25.55                   | \n",
       "| 7829 | Qissa                   | 2013                    | Singh, Anup             |                         | 14.98                   | \n",
       "| 7866 | R100                    | 2013                    | Matsumoto Hitoshi       | JAP                     |  6.01                   | \n",
       "| 8555 | Selfish Giant, The      | 2013                    | Barnard, Clio           | BRI                     |  5.86                   | \n",
       "| 10319 | Vehicle 19              | 2013                    | Dewil, Mukunda Michael  | USA                     |  4.51                   | \n",
       "| 10784 | With You, Without You   | 2013                    | Vithanage, Prasanna     | SRI                     | 10.57                   | \n",
       "| 9358 | Sulemani Keeda          | 2014                    | Masurka, Amit V.        | IND                     |  4.51                   | \n",
       "\n",
       "\n"
      ],
      "text/plain": [
       "      Title                  Year Director                Country ASL  \n",
       "5897  Look of Love, The      2013 Winterbottom, Michael            3.50\n",
       "6399  Metro Manila           2013 Ellis, Sean                      3.23\n",
       "6811  Mystery Road           2013 Sen, Ivan               AUS      4.92\n",
       "7375  Paradies: Hoffnung     2013 Seidl, Ulrich                   25.55\n",
       "7829  Qissa                  2013 Singh, Anup                     14.98\n",
       "7866  R100                   2013 Matsumoto Hitoshi       JAP      6.01\n",
       "8555  Selfish Giant, The     2013 Barnard, Clio           BRI      5.86\n",
       "10319 Vehicle 19             2013 Dewil, Mukunda Michael  USA      4.51\n",
       "10784 With You, Without You  2013 Vithanage, Prasanna     SRI     10.57\n",
       "9358  Sulemani Keeda         2014 Masurka, Amit V.        IND      4.51"
      ]
     },
     "metadata": {},
     "output_type": "display_data"
    }
   ],
   "source": [
    "df_movies_sorted <- df_movies[order(df_movies$Year),]\n",
    "mask <- !is.na(df_movies_sorted$Year) & df_movies_sorted$Year > 1900\n",
    "df_movies_sorted <- df_movies_sorted[mask,]\n",
    "head(df_movies_sorted, 10)\n",
    "tail(df_movies_sorted, 10)"
   ]
  },
  {
   "cell_type": "markdown",
   "metadata": {},
   "source": [
    "Do pročištěné tabulky přidejte informaci o dekádě, ve které byl film vyprodukován a opět zobrazte deset nejstarších a deset nejnovějších filmů.\n",
    "\n",
    "Nápověda: Podívejte se do [páté lekce](../05/) na kapitolu o funkci `cut`."
   ]
  },
  {
   "cell_type": "code",
   "execution_count": 35,
   "metadata": {},
   "outputs": [
    {
     "data": {
      "text/html": [
       "<table>\n",
       "<thead><tr><th></th><th scope=col>Title</th><th scope=col>Year</th><th scope=col>Director</th><th scope=col>Country</th><th scope=col>ASL</th><th scope=col>Decade</th></tr></thead>\n",
       "<tbody>\n",
       "\t<tr><th scope=row>3064</th><td>Ekspeditricen                            </td><td>1911                                     </td><td>Blom, August                             </td><td>DEN                                      </td><td>43.0                                     </td><td>1910s                                    </td></tr>\n",
       "\t<tr><th scope=row>3458</th><td><span style=white-space:pre-wrap>Fire Djaevle, De                         </span></td><td>1911                                                                             </td><td>Dinesen, R. &amp; Lind, A.                                                       </td><td>DEN                                                                              </td><td>21.0                                                                             </td><td>1910s                                                                            </td></tr>\n",
       "\t<tr><th scope=row>2820</th><td>D<b8>dspringet til Hest fra Cirkuskuplen </td><td>1912                                     </td><td>Schnedler-Sorensen, E.                   </td><td>DEN                                      </td><td>17.0                                     </td><td>1910s                                    </td></tr>\n",
       "\t<tr><th scope=row>7450</th><td>Pellegrino, Il                           </td><td>1912                                     </td><td>Caserini, Mario                          </td><td>ITA                                      </td><td>27.5                                     </td><td>1910s                                    </td></tr>\n",
       "\t<tr><th scope=row>9980</th><td>Tragardmastaren                          </td><td>1912                                     </td><td>Sj<f6>str<f6>m, Victor                   </td><td>SWE                                      </td><td>24.0                                     </td><td>1910s                                    </td></tr>\n",
       "\t<tr><th scope=row>11001</th><td>Zweimal gelebt                           </td><td>1912                                     </td><td>Mack. Max                                </td><td>GER                                      </td><td>27.0                                     </td><td>1910s                                    </td></tr>\n",
       "\t<tr><th scope=row>5106</th><td>Ivanhoe                                  </td><td>1913                                     </td><td>Brenon, Herbert                          </td><td>USA                                      </td><td>11.9                                     </td><td>1910s                                    </td></tr>\n",
       "\t<tr><th scope=row>6024</th><td>Ma l'amor mio non muore                  </td><td>1913                                     </td><td>Caserini, Mario                          </td><td>ITA                                      </td><td>67.0                                     </td><td>1910s                                    </td></tr>\n",
       "\t<tr><th scope=row>8472</th><td>Schwarze Kugel, die                      </td><td>1913                                     </td><td>Hofer, Franz                             </td><td>GER                                      </td><td>16.0                                     </td><td>1910s                                    </td></tr>\n",
       "\t<tr><th scope=row>9369</th><td>Sumpfblume, die                          </td><td>1913                                     </td><td>Larsen, Viggo                            </td><td>GER                                      </td><td>27.5                                     </td><td>1910s                                    </td></tr>\n",
       "</tbody>\n",
       "</table>\n"
      ],
      "text/latex": [
       "\\begin{tabular}{r|llllll}\n",
       "  & Title & Year & Director & Country & ASL & Decade\\\\\n",
       "\\hline\n",
       "\t3064 & Ekspeditricen                             & 1911                                      & Blom, August                              & DEN                                       & 43.0                                      & 1910s                                    \\\\\n",
       "\t3458 & Fire Djaevle, De                          & 1911                                      & Dinesen, R. \\& Lind, A.                  & DEN                                       & 21.0                                      & 1910s                                    \\\\\n",
       "\t2820 & D<b8>dspringet til Hest fra Cirkuskuplen  & 1912                                      & Schnedler-Sorensen, E.                    & DEN                                       & 17.0                                      & 1910s                                    \\\\\n",
       "\t7450 & Pellegrino, Il                            & 1912                                      & Caserini, Mario                           & ITA                                       & 27.5                                      & 1910s                                    \\\\\n",
       "\t9980 & Tragardmastaren                           & 1912                                      & Sj<f6>str<f6>m, Victor                    & SWE                                       & 24.0                                      & 1910s                                    \\\\\n",
       "\t11001 & Zweimal gelebt                            & 1912                                      & Mack. Max                                 & GER                                       & 27.0                                      & 1910s                                    \\\\\n",
       "\t5106 & Ivanhoe                                   & 1913                                      & Brenon, Herbert                           & USA                                       & 11.9                                      & 1910s                                    \\\\\n",
       "\t6024 & Ma l'amor mio non muore                   & 1913                                      & Caserini, Mario                           & ITA                                       & 67.0                                      & 1910s                                    \\\\\n",
       "\t8472 & Schwarze Kugel, die                       & 1913                                      & Hofer, Franz                              & GER                                       & 16.0                                      & 1910s                                    \\\\\n",
       "\t9369 & Sumpfblume, die                           & 1913                                      & Larsen, Viggo                             & GER                                       & 27.5                                      & 1910s                                    \\\\\n",
       "\\end{tabular}\n"
      ],
      "text/markdown": [
       "\n",
       "| <!--/--> | Title | Year | Director | Country | ASL | Decade | \n",
       "|---|---|---|---|---|---|---|---|---|---|\n",
       "| 3064 | Ekspeditricen                             | 1911                                      | Blom, August                              | DEN                                       | 43.0                                      | 1910s                                     | \n",
       "| 3458 | Fire Djaevle, De                          | 1911                                      | Dinesen, R. & Lind, A.                    | DEN                                       | 21.0                                      | 1910s                                     | \n",
       "| 2820 | D<b8>dspringet til Hest fra Cirkuskuplen  | 1912                                      | Schnedler-Sorensen, E.                    | DEN                                       | 17.0                                      | 1910s                                     | \n",
       "| 7450 | Pellegrino, Il                            | 1912                                      | Caserini, Mario                           | ITA                                       | 27.5                                      | 1910s                                     | \n",
       "| 9980 | Tragardmastaren                           | 1912                                      | Sj<f6>str<f6>m, Victor                    | SWE                                       | 24.0                                      | 1910s                                     | \n",
       "| 11001 | Zweimal gelebt                            | 1912                                      | Mack. Max                                 | GER                                       | 27.0                                      | 1910s                                     | \n",
       "| 5106 | Ivanhoe                                   | 1913                                      | Brenon, Herbert                           | USA                                       | 11.9                                      | 1910s                                     | \n",
       "| 6024 | Ma l'amor mio non muore                   | 1913                                      | Caserini, Mario                           | ITA                                       | 67.0                                      | 1910s                                     | \n",
       "| 8472 | Schwarze Kugel, die                       | 1913                                      | Hofer, Franz                              | GER                                       | 16.0                                      | 1910s                                     | \n",
       "| 9369 | Sumpfblume, die                           | 1913                                      | Larsen, Viggo                             | GER                                       | 27.5                                      | 1910s                                     | \n",
       "\n",
       "\n"
      ],
      "text/plain": [
       "      Title                                     Year Director               \n",
       "3064  Ekspeditricen                             1911 Blom, August           \n",
       "3458  Fire Djaevle, De                          1911 Dinesen, R. & Lind, A. \n",
       "2820  D\\270dspringet til Hest fra Cirkuskuplen  1912 Schnedler-Sorensen, E. \n",
       "7450  Pellegrino, Il                            1912 Caserini, Mario        \n",
       "9980  Tragardmastaren                           1912 Sj\\366str\\366m, Victor \n",
       "11001 Zweimal gelebt                            1912 Mack. Max              \n",
       "5106  Ivanhoe                                   1913 Brenon, Herbert        \n",
       "6024  Ma l'amor mio non muore                   1913 Caserini, Mario        \n",
       "8472  Schwarze Kugel, die                       1913 Hofer, Franz           \n",
       "9369  Sumpfblume, die                           1913 Larsen, Viggo          \n",
       "      Country ASL  Decade\n",
       "3064  DEN     43.0 1910s \n",
       "3458  DEN     21.0 1910s \n",
       "2820  DEN     17.0 1910s \n",
       "7450  ITA     27.5 1910s \n",
       "9980  SWE     24.0 1910s \n",
       "11001 GER     27.0 1910s \n",
       "5106  USA     11.9 1910s \n",
       "6024  ITA     67.0 1910s \n",
       "8472  GER     16.0 1910s \n",
       "9369  GER     27.5 1910s "
      ]
     },
     "metadata": {},
     "output_type": "display_data"
    },
    {
     "data": {
      "text/html": [
       "<table>\n",
       "<thead><tr><th></th><th scope=col>Title</th><th scope=col>Year</th><th scope=col>Director</th><th scope=col>Country</th><th scope=col>ASL</th><th scope=col>Decade</th></tr></thead>\n",
       "<tbody>\n",
       "\t<tr><th scope=row>5897</th><td>Look of Love, The      </td><td>2013                   </td><td>Winterbottom, Michael  </td><td>                       </td><td> 3.50                  </td><td>2010s                  </td></tr>\n",
       "\t<tr><th scope=row>6399</th><td>Metro Manila           </td><td>2013                   </td><td>Ellis, Sean            </td><td>                       </td><td> 3.23                  </td><td>2010s                  </td></tr>\n",
       "\t<tr><th scope=row>6811</th><td>Mystery Road           </td><td>2013                   </td><td>Sen, Ivan              </td><td>AUS                    </td><td> 4.92                  </td><td>2010s                  </td></tr>\n",
       "\t<tr><th scope=row>7375</th><td>Paradies: Hoffnung     </td><td>2013                   </td><td>Seidl, Ulrich          </td><td>                       </td><td>25.55                  </td><td>2010s                  </td></tr>\n",
       "\t<tr><th scope=row>7829</th><td>Qissa                  </td><td>2013                   </td><td>Singh, Anup            </td><td>                       </td><td>14.98                  </td><td>2010s                  </td></tr>\n",
       "\t<tr><th scope=row>7866</th><td>R100                   </td><td>2013                   </td><td>Matsumoto Hitoshi      </td><td>JAP                    </td><td> 6.01                  </td><td>2010s                  </td></tr>\n",
       "\t<tr><th scope=row>8555</th><td>Selfish Giant, The     </td><td>2013                   </td><td>Barnard, Clio          </td><td>BRI                    </td><td> 5.86                  </td><td>2010s                  </td></tr>\n",
       "\t<tr><th scope=row>10319</th><td>Vehicle 19             </td><td>2013                   </td><td>Dewil, Mukunda Michael </td><td>USA                    </td><td> 4.51                  </td><td>2010s                  </td></tr>\n",
       "\t<tr><th scope=row>10784</th><td>With You, Without You  </td><td>2013                   </td><td>Vithanage, Prasanna    </td><td>SRI                    </td><td>10.57                  </td><td>2010s                  </td></tr>\n",
       "\t<tr><th scope=row>9358</th><td>Sulemani Keeda         </td><td>2014                   </td><td>Masurka, Amit V.       </td><td>IND                    </td><td> 4.51                  </td><td>2010s                  </td></tr>\n",
       "</tbody>\n",
       "</table>\n"
      ],
      "text/latex": [
       "\\begin{tabular}{r|llllll}\n",
       "  & Title & Year & Director & Country & ASL & Decade\\\\\n",
       "\\hline\n",
       "\t5897 & Look of Love, The       & 2013                    & Winterbottom, Michael   &                         &  3.50                   & 2010s                  \\\\\n",
       "\t6399 & Metro Manila            & 2013                    & Ellis, Sean             &                         &  3.23                   & 2010s                  \\\\\n",
       "\t6811 & Mystery Road            & 2013                    & Sen, Ivan               & AUS                     &  4.92                   & 2010s                  \\\\\n",
       "\t7375 & Paradies: Hoffnung      & 2013                    & Seidl, Ulrich           &                         & 25.55                   & 2010s                  \\\\\n",
       "\t7829 & Qissa                   & 2013                    & Singh, Anup             &                         & 14.98                   & 2010s                  \\\\\n",
       "\t7866 & R100                    & 2013                    & Matsumoto Hitoshi       & JAP                     &  6.01                   & 2010s                  \\\\\n",
       "\t8555 & Selfish Giant, The      & 2013                    & Barnard, Clio           & BRI                     &  5.86                   & 2010s                  \\\\\n",
       "\t10319 & Vehicle 19              & 2013                    & Dewil, Mukunda Michael  & USA                     &  4.51                   & 2010s                  \\\\\n",
       "\t10784 & With You, Without You   & 2013                    & Vithanage, Prasanna     & SRI                     & 10.57                   & 2010s                  \\\\\n",
       "\t9358 & Sulemani Keeda          & 2014                    & Masurka, Amit V.        & IND                     &  4.51                   & 2010s                  \\\\\n",
       "\\end{tabular}\n"
      ],
      "text/markdown": [
       "\n",
       "| <!--/--> | Title | Year | Director | Country | ASL | Decade | \n",
       "|---|---|---|---|---|---|---|---|---|---|\n",
       "| 5897 | Look of Love, The       | 2013                    | Winterbottom, Michael   |                         |  3.50                   | 2010s                   | \n",
       "| 6399 | Metro Manila            | 2013                    | Ellis, Sean             |                         |  3.23                   | 2010s                   | \n",
       "| 6811 | Mystery Road            | 2013                    | Sen, Ivan               | AUS                     |  4.92                   | 2010s                   | \n",
       "| 7375 | Paradies: Hoffnung      | 2013                    | Seidl, Ulrich           |                         | 25.55                   | 2010s                   | \n",
       "| 7829 | Qissa                   | 2013                    | Singh, Anup             |                         | 14.98                   | 2010s                   | \n",
       "| 7866 | R100                    | 2013                    | Matsumoto Hitoshi       | JAP                     |  6.01                   | 2010s                   | \n",
       "| 8555 | Selfish Giant, The      | 2013                    | Barnard, Clio           | BRI                     |  5.86                   | 2010s                   | \n",
       "| 10319 | Vehicle 19              | 2013                    | Dewil, Mukunda Michael  | USA                     |  4.51                   | 2010s                   | \n",
       "| 10784 | With You, Without You   | 2013                    | Vithanage, Prasanna     | SRI                     | 10.57                   | 2010s                   | \n",
       "| 9358 | Sulemani Keeda          | 2014                    | Masurka, Amit V.        | IND                     |  4.51                   | 2010s                   | \n",
       "\n",
       "\n"
      ],
      "text/plain": [
       "      Title                  Year Director                Country ASL   Decade\n",
       "5897  Look of Love, The      2013 Winterbottom, Michael            3.50 2010s \n",
       "6399  Metro Manila           2013 Ellis, Sean                      3.23 2010s \n",
       "6811  Mystery Road           2013 Sen, Ivan               AUS      4.92 2010s \n",
       "7375  Paradies: Hoffnung     2013 Seidl, Ulrich                   25.55 2010s \n",
       "7829  Qissa                  2013 Singh, Anup                     14.98 2010s \n",
       "7866  R100                   2013 Matsumoto Hitoshi       JAP      6.01 2010s \n",
       "8555  Selfish Giant, The     2013 Barnard, Clio           BRI      5.86 2010s \n",
       "10319 Vehicle 19             2013 Dewil, Mukunda Michael  USA      4.51 2010s \n",
       "10784 With You, Without You  2013 Vithanage, Prasanna     SRI     10.57 2010s \n",
       "9358  Sulemani Keeda         2014 Masurka, Amit V.        IND      4.51 2010s "
      ]
     },
     "metadata": {},
     "output_type": "display_data"
    }
   ],
   "source": [
    "decades <- seq(1900, 2020, 10)\n",
    "decade_factor <- cut(df_movies_sorted$Year, decades, right = F, labels = F)\n",
    "decade_factor <- as.factor(paste(\n",
    "    decades[decade_factor]\n",
    "    , \"s\"\n",
    "    , sep = \"\"\n",
    "))\n",
    "df_movies_sorted$Decade <- decade_factor\n",
    "head(df_movies_sorted, 10)\n",
    "tail(df_movies_sorted, 10)"
   ]
  },
  {
   "cell_type": "markdown",
   "metadata": {},
   "source": [
    "Zobrazte krabicový graf průměrných délek filmů v jednotlivých desetiletích. Z dat opět odstraňte odlehlé body (filmy s průměrnou délkou záběru větší než 50 sekund):"
   ]
  },
  {
   "cell_type": "code",
   "execution_count": 36,
   "metadata": {},
   "outputs": [
    {
     "data": {
      "image/png": "[encoded data removed]",
      "text/plain": [
       "plot without title"
      ]
     },
     "metadata": {},
     "output_type": "display_data"
    }
   ],
   "source": [
    "df_movies_sorted <- df_movies_sorted[df_movies_sorted$ASL <= 50,]\n",
    "result <- by(df_movies_sorted, df_movies_sorted$Decade, function(x) x$ASL)\n",
    "boxplot(result[unique(df_movies_sorted$Decade)])"
   ]
  },
  {
   "cell_type": "code",
   "execution_count": null,
   "metadata": {
    "collapsed": true
   },
   "outputs": [],
   "source": []
  }
 ],
 "metadata": {
  "kernelspec": {
   "display_name": "R",
   "language": "R",
   "name": "ir"
  },
  "language_info": {
   "codemirror_mode": "r",
   "file_extension": ".r",
   "mimetype": "text/x-r-source",
   "name": "R",
   "pygments_lexer": "r",
   "version": "3.3.2"
  },
  "toc": {
   "nav_menu": {},
   "number_sections": true,
   "sideBar": true,
   "skip_h1_title": true,
   "toc_cell": true,
   "toc_position": {},
   "toc_section_display": "block",
   "toc_window_display": false
  }
 },
 "nbformat": 4,
 "nbformat_minor": 2
}
