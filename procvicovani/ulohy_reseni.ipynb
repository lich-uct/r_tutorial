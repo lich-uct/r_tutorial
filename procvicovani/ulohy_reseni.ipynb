{
 "cells": [
  {
   "cell_type": "markdown",
   "metadata": {
    "toc": "true"
   },
   "source": [
    " # Table of Contents\n",
    "<div class=\"toc\" style=\"margin-top: 1em;\"><ul class=\"toc-item\" id=\"toc-level0\"><li><span><a href=\"http://localhost:8888/notebooks/procvicovani/ulohy_reseni.ipynb#Programování\" data-toc-modified-id=\"Programování-1\"><span class=\"toc-item-num\">1&nbsp;&nbsp;</span>Programování</a></span><ul class=\"toc-item\"><li><span><a href=\"http://localhost:8888/notebooks/procvicovani/ulohy_reseni.ipynb#Faktoriál\" data-toc-modified-id=\"Faktoriál-1.1\"><span class=\"toc-item-num\">1.1&nbsp;&nbsp;</span>Faktoriál</a></span></li><li><span><a href=\"http://localhost:8888/notebooks/procvicovani/ulohy_reseni.ipynb#Faktoriál-vektoru\" data-toc-modified-id=\"Faktoriál-vektoru-1.2\"><span class=\"toc-item-num\">1.2&nbsp;&nbsp;</span>Faktoriál vektoru</a></span></li><li><span><a href=\"http://localhost:8888/notebooks/procvicovani/ulohy_reseni.ipynb#Molekulové-statistiky\" data-toc-modified-id=\"Molekulové-statistiky-1.3\"><span class=\"toc-item-num\">1.3&nbsp;&nbsp;</span>Molekulové statistiky</a></span><ul class=\"toc-item\"><li><span><a href=\"http://localhost:8888/notebooks/procvicovani/ulohy_reseni.ipynb#Počet-Vazeb\" data-toc-modified-id=\"Počet-Vazeb-1.3.1\"><span class=\"toc-item-num\">1.3.1&nbsp;&nbsp;</span>Počet Vazeb</a></span></li><li><span><a href=\"http://localhost:8888/notebooks/procvicovani/ulohy_reseni.ipynb#Počet-chemických-prvků\" data-toc-modified-id=\"Počet-chemických-prvků-1.3.2\"><span class=\"toc-item-num\">1.3.2&nbsp;&nbsp;</span>Počet chemických prvků</a></span></li></ul></li></ul></li><li><span><a href=\"http://localhost:8888/notebooks/procvicovani/ulohy_reseni.ipynb#Statistika\" data-toc-modified-id=\"Statistika-2\"><span class=\"toc-item-num\">2&nbsp;&nbsp;</span>Statistika</a></span><ul class=\"toc-item\"><li><span><a href=\"http://localhost:8888/notebooks/procvicovani/ulohy_reseni.ipynb#Načtení-dat\" data-toc-modified-id=\"Načtení-dat-2.1\"><span class=\"toc-item-num\">2.1&nbsp;&nbsp;</span>Načtení dat</a></span></li><li><span><a href=\"http://localhost:8888/notebooks/procvicovani/ulohy_reseni.ipynb#Režiséři\" data-toc-modified-id=\"Režiséři-2.2\"><span class=\"toc-item-num\">2.2&nbsp;&nbsp;</span>Režiséři</a></span></li></ul></li></ul></div>"
   ]
  },
  {
   "cell_type": "markdown",
   "metadata": {},
   "source": [
    "# Úlohy\n",
    "\n",
    "Tento notebook obsahuje praktické úlohy na procvičení nejrůznějších znalostí ze statistiky a programování v jazyce R.\n",
    "\n",
    "## Programování\n",
    "\n",
    "### Faktoriál\n",
    "\n",
    "Naprogramujte libovolným způsobem výpočet faktoriálu z přirozeného čísla:\n",
    "\n",
    "$n! = \\begin{cases}1&\\text{pokud n = 0}\\\\n\\cdot (n-1)!&\\text{jinak}\\end{cases}$"
   ]
  },
  {
   "cell_type": "code",
   "execution_count": 1,
   "metadata": {
    "collapsed": true
   },
   "outputs": [],
   "source": [
    "# rekurze\n",
    "faktoriál <- function(n) {\n",
    "    if (n < 0) {\n",
    "        warning(\"n je menší než nula\")\n",
    "        return(NULL)\n",
    "    }\n",
    "    if (n == 0) {\n",
    "        return(1)\n",
    "    }\n",
    "    \n",
    "    n * faktoriál(n - 1)\n",
    "}"
   ]
  },
  {
   "cell_type": "code",
   "execution_count": 2,
   "metadata": {
    "collapsed": true
   },
   "outputs": [],
   "source": [
    "# cyklus while\n",
    "faktoriál <- function(n) {\n",
    "    if (n < 0) {\n",
    "        warning(\"n je menší než nula\")\n",
    "        return(NULL)\n",
    "    }\n",
    "    if (n == 0) {\n",
    "        return(1)\n",
    "    }\n",
    "    \n",
    "    ret <- n\n",
    "    while (n != 1) {\n",
    "        n <- (n - 1)\n",
    "        ret <- ret * n\n",
    "    }\n",
    "    ret\n",
    "}"
   ]
  },
  {
   "cell_type": "code",
   "execution_count": 3,
   "metadata": {
    "collapsed": true
   },
   "outputs": [],
   "source": [
    "# cyklus for\n",
    "faktoriál <- function(n) {\n",
    "    if (n < 0) {\n",
    "        warning(\"n je menší než nula\")\n",
    "        return(NULL)\n",
    "    }\n",
    "    if (n == 0) {\n",
    "        return(1)\n",
    "    }\n",
    "    \n",
    "    ret <- n\n",
    "    for (i in (n-1):1) {\n",
    "        ret <- ret * i\n",
    "    }\n",
    "    ret\n",
    "}"
   ]
  },
  {
   "cell_type": "code",
   "execution_count": 4,
   "metadata": {
    "collapsed": true
   },
   "outputs": [],
   "source": [
    "# pomocí Reduce\n",
    "faktoriál <- function(n) {\n",
    "    if (n < 0) {\n",
    "        warning(\"n je menší než nula\")\n",
    "        return(NULL)\n",
    "    }\n",
    "    if (n == 0) {\n",
    "        return(1)\n",
    "    }\n",
    "    \n",
    "    Reduce(function(i, j) i*j, as.double(n:2))\n",
    "}"
   ]
  },
  {
   "cell_type": "code",
   "execution_count": 5,
   "metadata": {
    "collapsed": true
   },
   "outputs": [],
   "source": [
    "# pomocí sapply (velice obskurní a nevhodný způsob použití této funkce)\n",
    "faktoriál <- function(n) {\n",
    "    if (n < 0) {\n",
    "        warning(\"n je menší než nula\")\n",
    "        return(NULL)\n",
    "    }\n",
    "    if (n == 0) {\n",
    "        return(1)\n",
    "    }\n",
    "    \n",
    "    ret <- n\n",
    "    sapply(n:2, function(n) {ret <<- ret * (n-1)})\n",
    "    ret\n",
    "}"
   ]
  },
  {
   "cell_type": "code",
   "execution_count": 6,
   "metadata": {},
   "outputs": [
    {
     "name": "stderr",
     "output_type": "stream",
     "text": [
      "Warning message in faktoriál(-1):\n",
      "“n je menší než nula”"
     ]
    },
    {
     "data": {
      "text/plain": [
       "NULL"
      ]
     },
     "metadata": {},
     "output_type": "display_data"
    },
    {
     "data": {
      "text/html": [
       "1"
      ],
      "text/latex": [
       "1"
      ],
      "text/markdown": [
       "1"
      ],
      "text/plain": [
       "[1] 1"
      ]
     },
     "metadata": {},
     "output_type": "display_data"
    },
    {
     "data": {
      "text/html": [
       "6"
      ],
      "text/latex": [
       "6"
      ],
      "text/markdown": [
       "6"
      ],
      "text/plain": [
       "[1] 6"
      ]
     },
     "metadata": {},
     "output_type": "display_data"
    },
    {
     "data": {
      "text/html": [
       "120"
      ],
      "text/latex": [
       "120"
      ],
      "text/markdown": [
       "120"
      ],
      "text/plain": [
       "[1] 120"
      ]
     },
     "metadata": {},
     "output_type": "display_data"
    },
    {
     "data": {
      "text/html": [
       "1307674368000"
      ],
      "text/latex": [
       "1307674368000"
      ],
      "text/markdown": [
       "1307674368000"
      ],
      "text/plain": [
       "[1] 1.307674e+12"
      ]
     },
     "metadata": {},
     "output_type": "display_data"
    },
    {
     "data": {
      "text/html": [
       "2.65252859812191e+32"
      ],
      "text/latex": [
       "2.65252859812191e+32"
      ],
      "text/markdown": [
       "2.65252859812191e+32"
      ],
      "text/plain": [
       "[1] 2.652529e+32"
      ]
     },
     "metadata": {},
     "output_type": "display_data"
    },
    {
     "name": "stderr",
     "output_type": "stream",
     "text": [
      "Warning message in gamma(x + 1):\n",
      "“NaNs produced”"
     ]
    },
    {
     "data": {
      "text/html": [
       "NaN"
      ],
      "text/latex": [
       "NaN"
      ],
      "text/markdown": [
       "NaN"
      ],
      "text/plain": [
       "[1] NaN"
      ]
     },
     "metadata": {},
     "output_type": "display_data"
    },
    {
     "data": {
      "text/html": [
       "1"
      ],
      "text/latex": [
       "1"
      ],
      "text/markdown": [
       "1"
      ],
      "text/plain": [
       "[1] 1"
      ]
     },
     "metadata": {},
     "output_type": "display_data"
    },
    {
     "data": {
      "text/html": [
       "6"
      ],
      "text/latex": [
       "6"
      ],
      "text/markdown": [
       "6"
      ],
      "text/plain": [
       "[1] 6"
      ]
     },
     "metadata": {},
     "output_type": "display_data"
    },
    {
     "data": {
      "text/html": [
       "120"
      ],
      "text/latex": [
       "120"
      ],
      "text/markdown": [
       "120"
      ],
      "text/plain": [
       "[1] 120"
      ]
     },
     "metadata": {},
     "output_type": "display_data"
    },
    {
     "data": {
      "text/html": [
       "1307674368000"
      ],
      "text/latex": [
       "1307674368000"
      ],
      "text/markdown": [
       "1307674368000"
      ],
      "text/plain": [
       "[1] 1.307674e+12"
      ]
     },
     "metadata": {},
     "output_type": "display_data"
    },
    {
     "data": {
      "text/html": [
       "2.65252859812191e+32"
      ],
      "text/latex": [
       "2.65252859812191e+32"
      ],
      "text/markdown": [
       "2.65252859812191e+32"
      ],
      "text/plain": [
       "[1] 2.652529e+32"
      ]
     },
     "metadata": {},
     "output_type": "display_data"
    }
   ],
   "source": [
    "# testovací kód\n",
    "faktoriál(-1)\n",
    "faktoriál(0)\n",
    "faktoriál(3)\n",
    "faktoriál(5)\n",
    "faktoriál(15)\n",
    "faktoriál(30)\n",
    "\n",
    "# kontrola pomocí vestavěné funkce\n",
    "factorial(-1)\n",
    "factorial(0)\n",
    "factorial(3)\n",
    "factorial(5)\n",
    "factorial(15)\n",
    "factorial(30)"
   ]
  },
  {
   "cell_type": "markdown",
   "metadata": {},
   "source": [
    "### Faktoriál vektoru\n",
    "\n",
    "Napiště funkci, která spočítá faktoriál pro každý prvek daného vektoru a výsledek vrátí opět jako vektor:"
   ]
  },
  {
   "cell_type": "code",
   "execution_count": 7,
   "metadata": {
    "collapsed": true
   },
   "outputs": [],
   "source": [
    "faktoriál_vectorized <- function(x) {\n",
    "    unlist(lapply(x, faktoriál))\n",
    "}"
   ]
  },
  {
   "cell_type": "code",
   "execution_count": 8,
   "metadata": {},
   "outputs": [
    {
     "name": "stderr",
     "output_type": "stream",
     "text": [
      "Warning message in FUN(X[[i]], ...):\n",
      "“n je menší než nula”"
     ]
    },
    {
     "data": {
      "text/html": [
       "<ol class=list-inline>\n",
       "\t<li>1</li>\n",
       "\t<li>0</li>\n",
       "\t<li>2</li>\n",
       "\t<li>6</li>\n",
       "\t<li>24</li>\n",
       "\t<li>120</li>\n",
       "\t<li>720</li>\n",
       "\t<li>5040</li>\n",
       "\t<li>40320</li>\n",
       "\t<li>362880</li>\n",
       "\t<li>3628800</li>\n",
       "</ol>\n"
      ],
      "text/latex": [
       "\\begin{enumerate*}\n",
       "\\item 1\n",
       "\\item 0\n",
       "\\item 2\n",
       "\\item 6\n",
       "\\item 24\n",
       "\\item 120\n",
       "\\item 720\n",
       "\\item 5040\n",
       "\\item 40320\n",
       "\\item 362880\n",
       "\\item 3628800\n",
       "\\end{enumerate*}\n"
      ],
      "text/markdown": [
       "1. 1\n",
       "2. 0\n",
       "3. 2\n",
       "4. 6\n",
       "5. 24\n",
       "6. 120\n",
       "7. 720\n",
       "8. 5040\n",
       "9. 40320\n",
       "10. 362880\n",
       "11. 3628800\n",
       "\n",
       "\n"
      ],
      "text/plain": [
       " [1]       1       0       2       6      24     120     720    5040   40320\n",
       "[10]  362880 3628800"
      ]
     },
     "metadata": {},
     "output_type": "display_data"
    },
    {
     "name": "stderr",
     "output_type": "stream",
     "text": [
      "Warning message in gamma(x + 1):\n",
      "“NaNs produced”"
     ]
    },
    {
     "data": {
      "text/html": [
       "<ol class=list-inline>\n",
       "\t<li>NaN</li>\n",
       "\t<li>1</li>\n",
       "\t<li>1</li>\n",
       "\t<li>2</li>\n",
       "\t<li>6</li>\n",
       "\t<li>24</li>\n",
       "\t<li>120</li>\n",
       "\t<li>720</li>\n",
       "\t<li>5040</li>\n",
       "\t<li>40320</li>\n",
       "\t<li>362880</li>\n",
       "\t<li>3628800</li>\n",
       "</ol>\n"
      ],
      "text/latex": [
       "\\begin{enumerate*}\n",
       "\\item NaN\n",
       "\\item 1\n",
       "\\item 1\n",
       "\\item 2\n",
       "\\item 6\n",
       "\\item 24\n",
       "\\item 120\n",
       "\\item 720\n",
       "\\item 5040\n",
       "\\item 40320\n",
       "\\item 362880\n",
       "\\item 3628800\n",
       "\\end{enumerate*}\n"
      ],
      "text/markdown": [
       "1. NaN\n",
       "2. 1\n",
       "3. 1\n",
       "4. 2\n",
       "5. 6\n",
       "6. 24\n",
       "7. 120\n",
       "8. 720\n",
       "9. 5040\n",
       "10. 40320\n",
       "11. 362880\n",
       "12. 3628800\n",
       "\n",
       "\n"
      ],
      "text/plain": [
       " [1]     NaN       1       1       2       6      24     120     720    5040\n",
       "[10]   40320  362880 3628800"
      ]
     },
     "metadata": {},
     "output_type": "display_data"
    }
   ],
   "source": [
    "# testovací kód\n",
    "faktoriál_vectorized(-1:10)\n",
    "\n",
    "# kontrola pomocí vestavěné funkce\n",
    "factorial(-1:10)"
   ]
  },
  {
   "cell_type": "markdown",
   "metadata": {},
   "source": [
    "### Molekulové statistiky\n",
    "\n",
    "Vazby v molekule lze jednoduše popsat pomocí tzv. [matice sousednosti](https://cs.wikipedia.org/wiki/Matice_sousednosti)(adjecency matrix):\n",
    "\n",
    "![mol_repr.jpg](mol_repr.jpg)\n",
    "\n",
    "V této reprezentaci jsou tedy všechny páry atomů, které jsou spojené vazbou, v matici označeny číslem 1.\n",
    "\n",
    "Načtěte si ze souboru `adj_mat.csv` výše uvedenou matici sousednosti a ulo6te ji do vhodné datové struktury. Výsledek by měl vypadat nějak takto:"
   ]
  },
  {
   "cell_type": "code",
   "execution_count": 9,
   "metadata": {},
   "outputs": [
    {
     "data": {
      "text/html": [
       "<table>\n",
       "<thead><tr><th></th><th scope=col>C.1</th><th scope=col>C.2</th><th scope=col>C.3</th><th scope=col>Cl.4</th><th scope=col>C.5</th><th scope=col>C.6</th></tr></thead>\n",
       "<tbody>\n",
       "\t<tr><th scope=row>C.1</th><td>0</td><td>1</td><td>0</td><td>0</td><td>0</td><td>0</td></tr>\n",
       "\t<tr><th scope=row>C.2</th><td>1</td><td>0</td><td>1</td><td>0</td><td>0</td><td>0</td></tr>\n",
       "\t<tr><th scope=row>C.3</th><td>0</td><td>1</td><td>0</td><td>1</td><td>1</td><td>0</td></tr>\n",
       "\t<tr><th scope=row>Cl.4</th><td>0</td><td>0</td><td>1</td><td>0</td><td>0</td><td>0</td></tr>\n",
       "\t<tr><th scope=row>C.5</th><td>0</td><td>0</td><td>1</td><td>0</td><td>0</td><td>1</td></tr>\n",
       "\t<tr><th scope=row>C.6</th><td>0</td><td>0</td><td>0</td><td>0</td><td>1</td><td>0</td></tr>\n",
       "</tbody>\n",
       "</table>\n"
      ],
      "text/latex": [
       "\\begin{tabular}{r|llllll}\n",
       "  & C.1 & C.2 & C.3 & Cl.4 & C.5 & C.6\\\\\n",
       "\\hline\n",
       "\tC.1 & 0 & 1 & 0 & 0 & 0 & 0\\\\\n",
       "\tC.2 & 1 & 0 & 1 & 0 & 0 & 0\\\\\n",
       "\tC.3 & 0 & 1 & 0 & 1 & 1 & 0\\\\\n",
       "\tCl.4 & 0 & 0 & 1 & 0 & 0 & 0\\\\\n",
       "\tC.5 & 0 & 0 & 1 & 0 & 0 & 1\\\\\n",
       "\tC.6 & 0 & 0 & 0 & 0 & 1 & 0\\\\\n",
       "\\end{tabular}\n"
      ],
      "text/markdown": [
       "\n",
       "| <!--/--> | C.1 | C.2 | C.3 | Cl.4 | C.5 | C.6 | \n",
       "|---|---|---|---|---|---|\n",
       "| C.1 | 0 | 1 | 0 | 0 | 0 | 0 | \n",
       "| C.2 | 1 | 0 | 1 | 0 | 0 | 0 | \n",
       "| C.3 | 0 | 1 | 0 | 1 | 1 | 0 | \n",
       "| Cl.4 | 0 | 0 | 1 | 0 | 0 | 0 | \n",
       "| C.5 | 0 | 0 | 1 | 0 | 0 | 1 | \n",
       "| C.6 | 0 | 0 | 0 | 0 | 1 | 0 | \n",
       "\n",
       "\n"
      ],
      "text/plain": [
       "     C.1 C.2 C.3 Cl.4 C.5 C.6\n",
       "C.1  0   1   0   0    0   0  \n",
       "C.2  1   0   1   0    0   0  \n",
       "C.3  0   1   0   1    1   0  \n",
       "Cl.4 0   0   1   0    0   0  \n",
       "C.5  0   0   1   0    0   1  \n",
       "C.6  0   0   0   0    1   0  "
      ]
     },
     "metadata": {},
     "output_type": "display_data"
    }
   ],
   "source": [
    "m_adj <- read.table(\"adj_mat.csv\", sep = ',', header = T)\n",
    "rownames(m_adj) <- m_adj$X\n",
    "m_adj <- as.matrix(m_adj[,2:ncol(m_adj)])\n",
    "colnames(m_adj) <- row.names(m_adj)\n",
    "m_adj"
   ]
  },
  {
   "cell_type": "markdown",
   "metadata": {},
   "source": [
    "Vaším úkolem je napsat dvě funkce (viz níže). Mějte na paměti, že musí být dostatečně obecné na to, aby dokázaly zpracovat jakoukoliv molekulu. \n",
    "\n",
    "#### Počet Vazeb\n",
    "\n",
    "Napište funkci, která spočítá celkový počet vazeb v molekule (dvojná se počítá za jednu vazbu):"
   ]
  },
  {
   "cell_type": "code",
   "execution_count": 10,
   "metadata": {
    "collapsed": true
   },
   "outputs": [],
   "source": [
    "počet_vazeb <- function (m) {\n",
    "    sum(m) / 2\n",
    "}"
   ]
  },
  {
   "cell_type": "code",
   "execution_count": 11,
   "metadata": {},
   "outputs": [
    {
     "data": {
      "text/html": [
       "5"
      ],
      "text/latex": [
       "5"
      ],
      "text/markdown": [
       "5"
      ],
      "text/plain": [
       "[1] 5"
      ]
     },
     "metadata": {},
     "output_type": "display_data"
    }
   ],
   "source": [
    "počet_vazeb(m_adj)"
   ]
  },
  {
   "cell_type": "markdown",
   "metadata": {},
   "source": [
    "#### Počet chemických prvků\n",
    "\n",
    "Napište funkci, která spočítá počet výskytů jednotlivých prvků v molekule.\n",
    "\n",
    "Nápověda:\n",
    "\n",
    "```R\n",
    "strsplit(colnames(m), split = \"\\\\.\")\n",
    "```"
   ]
  },
  {
   "cell_type": "code",
   "execution_count": 12,
   "metadata": {
    "collapsed": true
   },
   "outputs": [],
   "source": [
    "# klasické procedurální programování\n",
    "počet_prvků <- function(m) {\n",
    "    split_stuff <- unlist(strsplit(colnames(m), split = \"\\\\.\"))\n",
    "    elements <- split_stuff[seq(1,length(split_stuff), 2)]\n",
    "    \n",
    "    symbols <- unique(elements)\n",
    "    occurences <- vector(mode(0), length(unique(elements)))    \n",
    "    for (i in elements) {\n",
    "        occurences[which(i == symbols)] <- occurences[which(i == symbols)] + 1\n",
    "    }\n",
    "    \n",
    "    df <- as.data.frame(occurences)\n",
    "    colnames(df) <- c(\"Počet\")\n",
    "    rownames(df) <- symbols\n",
    "    df\n",
    "}"
   ]
  },
  {
   "cell_type": "code",
   "execution_count": 13,
   "metadata": {
    "collapsed": true
   },
   "outputs": [],
   "source": [
    "# do.call\n",
    "počet_prvků <- function(m) {\n",
    "    split_stuff <- unlist(strsplit(colnames(m), split = \"\\\\.\"))\n",
    "    elements <- split_stuff[seq(1,length(split_stuff), 2)]\n",
    "    \n",
    "    counts <- do.call(\n",
    "        list\n",
    "        , as.list(\n",
    "            vector(mode(0), length(unique(elements)))\n",
    "        )\n",
    "    )\n",
    "    names(counts) <- unique(elements)\n",
    "    for (i in elements) {\n",
    "        counts[[i]] <- counts[[i]] + 1\n",
    "    }\n",
    "    \n",
    "    df <- t(as.data.frame(counts))\n",
    "    colnames(df) <- c(\"Počet\")\n",
    "    df\n",
    "}"
   ]
  },
  {
   "cell_type": "code",
   "execution_count": 14,
   "metadata": {
    "collapsed": true
   },
   "outputs": [],
   "source": [
    "# pomocí kontingenční tabulky\n",
    "počet_prvků <- function(m) {\n",
    "    split_stuff <- unlist(strsplit(colnames(m), split = \"\\\\.\"))\n",
    "    element_factors <- as.factor(split_stuff[seq(1,length(split_stuff), 2)])\n",
    "    \n",
    "    df <- as.data.frame(table(element_factors))\n",
    "    colnames(df) <- c(\"Atom\", \"Počet\")\n",
    "    df\n",
    "}"
   ]
  },
  {
   "cell_type": "code",
   "execution_count": 15,
   "metadata": {
    "collapsed": true
   },
   "outputs": [],
   "source": [
    "# pomocí aggregate\n",
    "počet_prvků <- function(m) {\n",
    "    split_stuff <- unlist(strsplit(colnames(m), split = \"\\\\.\"))\n",
    "    element_factors <- as.factor(split_stuff[seq(1,length(split_stuff), 2)])\n",
    "    \n",
    "    df <- aggregate(as.vector(element_factors), list(element_factors), length)\n",
    "    colnames(df) <- c(\"Atom\", \"Počet\")\n",
    "    df\n",
    "}"
   ]
  },
  {
   "cell_type": "code",
   "execution_count": 16,
   "metadata": {},
   "outputs": [
    {
     "data": {
      "text/html": [
       "<table>\n",
       "<thead><tr><th scope=col>Atom</th><th scope=col>Počet</th></tr></thead>\n",
       "<tbody>\n",
       "\t<tr><td>C </td><td>5 </td></tr>\n",
       "\t<tr><td>Cl</td><td>1 </td></tr>\n",
       "</tbody>\n",
       "</table>\n"
      ],
      "text/latex": [
       "\\begin{tabular}{r|ll}\n",
       " Atom & Počet\\\\\n",
       "\\hline\n",
       "\t C  & 5 \\\\\n",
       "\t Cl & 1 \\\\\n",
       "\\end{tabular}\n"
      ],
      "text/markdown": [
       "\n",
       "Atom | Počet | \n",
       "|---|---|\n",
       "| C  | 5  | \n",
       "| Cl | 1  | \n",
       "\n",
       "\n"
      ],
      "text/plain": [
       "  Atom Počet\n",
       "1 C    5    \n",
       "2 Cl   1    "
      ]
     },
     "metadata": {},
     "output_type": "display_data"
    }
   ],
   "source": [
    "počet_prvků(m_adj)"
   ]
  },
  {
   "cell_type": "markdown",
   "metadata": {},
   "source": [
    "## Statistika\n",
    "\n",
    "V souboru `movie_avshotlength.csv` najdete data o 11001 filmech. K dispozici jsou základní data a `ASL`, průměrná délka jednoho záběru (average shot length). V následujících úkolech použijete základní statistické metody pro analýzu tohoto souboru dat.\n",
    "\n",
    "### Načtení dat\n",
    "\n",
    "Načtěte datový soubor, zobrazte náhled na několik prvních řádek tabulky filmů a zkontrolujte si, že je filmů očekávaný počet:"
   ]
  },
  {
   "cell_type": "code",
   "execution_count": 17,
   "metadata": {},
   "outputs": [
    {
     "data": {
      "text/html": [
       "<table>\n",
       "<thead><tr><th scope=col>Title</th><th scope=col>Year</th><th scope=col>Director</th><th scope=col>Country</th><th scope=col>ASL</th></tr></thead>\n",
       "<tbody>\n",
       "\t<tr><td>11:14                   </td><td>2003                    </td><td>Marcks, Greg            </td><td>USA                     </td><td>4.28                    </td></tr>\n",
       "\t<tr><td>21                      </td><td>2008                    </td><td>Luketic, Robert         </td><td>                        </td><td>3.63                    </td></tr>\n",
       "\t<tr><td>300                     </td><td>2007                    </td><td>Snyder, Zack            </td><td>USA                     </td><td>4.17                    </td></tr>\n",
       "\t<tr><td>2012                    </td><td>2009                    </td><td>Emmerich, Roland        </td><td>USA                     </td><td>3.00                    </td></tr>\n",
       "\t<tr><td>$                       </td><td>1972                    </td><td>Brooks, Richard         </td><td>                        </td><td>4.90                    </td></tr>\n",
       "\t<tr><td>*Batteries Not Included </td><td>1987                    </td><td>Robbins, Matthew        </td><td>USA                     </td><td>7.30                    </td></tr>\n",
       "</tbody>\n",
       "</table>\n"
      ],
      "text/latex": [
       "\\begin{tabular}{r|lllll}\n",
       " Title & Year & Director & Country & ASL\\\\\n",
       "\\hline\n",
       "\t 11:14                    & 2003                     & Marcks, Greg             & USA                      & 4.28                    \\\\\n",
       "\t 21                       & 2008                     & Luketic, Robert          &                          & 3.63                    \\\\\n",
       "\t 300                      & 2007                     & Snyder, Zack             & USA                      & 4.17                    \\\\\n",
       "\t 2012                     & 2009                     & Emmerich, Roland         & USA                      & 3.00                    \\\\\n",
       "\t \\$                        & 1972                       & Brooks, Richard            &                            & 4.90                      \\\\\n",
       "\t *Batteries Not Included  & 1987                     & Robbins, Matthew         & USA                      & 7.30                    \\\\\n",
       "\\end{tabular}\n"
      ],
      "text/markdown": [
       "\n",
       "Title | Year | Director | Country | ASL | \n",
       "|---|---|---|---|---|---|\n",
       "| 11:14                    | 2003                     | Marcks, Greg             | USA                      | 4.28                     | \n",
       "| 21                       | 2008                     | Luketic, Robert          |                          | 3.63                     | \n",
       "| 300                      | 2007                     | Snyder, Zack             | USA                      | 4.17                     | \n",
       "| 2012                     | 2009                     | Emmerich, Roland         | USA                      | 3.00                     | \n",
       "| $                        | 1972                     | Brooks, Richard          |                          | 4.90                     | \n",
       "| *Batteries Not Included  | 1987                     | Robbins, Matthew         | USA                      | 7.30                     | \n",
       "\n",
       "\n"
      ],
      "text/plain": [
       "  Title                    Year Director          Country ASL \n",
       "1 11:14                    2003 Marcks, Greg      USA     4.28\n",
       "2 21                       2008 Luketic, Robert           3.63\n",
       "3 300                      2007 Snyder, Zack      USA     4.17\n",
       "4 2012                     2009 Emmerich, Roland  USA     3.00\n",
       "5 $                        1972 Brooks, Richard           4.90\n",
       "6 *Batteries Not Included  1987 Robbins, Matthew  USA     7.30"
      ]
     },
     "metadata": {},
     "output_type": "display_data"
    },
    {
     "data": {
      "text/html": [
       "11001"
      ],
      "text/latex": [
       "11001"
      ],
      "text/markdown": [
       "11001"
      ],
      "text/plain": [
       "[1] 11001"
      ]
     },
     "metadata": {},
     "output_type": "display_data"
    }
   ],
   "source": [
    "df_movies <- read.table(\"movie_avshotlength.csv\", header = T, sep = \",\", quote = '\"')\n",
    "head(df_movies)\n",
    "nrow(df_movies)"
   ]
  },
  {
   "cell_type": "markdown",
   "metadata": {},
   "source": [
    "### Režiséři\n",
    "\n",
    "Uložte si do zvláštní tabulky jména všech režisérů a počty filmů, o kterých máte data k dispozici. Celou tabulku seřaďte v sestupném pořadí podle počtu natočených snímků a ukažte seznam deseti nejaktivnějších režisérů:"
   ]
  },
  {
   "cell_type": "code",
   "execution_count": 18,
   "metadata": {},
   "outputs": [
    {
     "data": {
      "text/html": [
       "<table>\n",
       "<thead><tr><th scope=col>Director</th><th scope=col>Movies</th></tr></thead>\n",
       "<tbody>\n",
       "\t<tr><td>Hitchcock, Alfred  </td><td>53                 </td></tr>\n",
       "\t<tr><td>Lang, Fritz        </td><td>38                 </td></tr>\n",
       "\t<tr><td>Ford, John         </td><td>36                 </td></tr>\n",
       "\t<tr><td>Thomas, Gerald     </td><td>34                 </td></tr>\n",
       "\t<tr><td>Hathaway, Henry    </td><td>30                 </td></tr>\n",
       "\t<tr><td>DeMille, Cecil B.  </td><td>28                 </td></tr>\n",
       "\t<tr><td>Curtiz, Michael    </td><td>27                 </td></tr>\n",
       "\t<tr><td>Eastwood, Clint    </td><td>27                 </td></tr>\n",
       "\t<tr><td>Thomas, Ralph      </td><td>26                 </td></tr>\n",
       "\t<tr><td>Fleischer, Richard </td><td>25                 </td></tr>\n",
       "</tbody>\n",
       "</table>\n"
      ],
      "text/latex": [
       "\\begin{tabular}{r|ll}\n",
       " Director & Movies\\\\\n",
       "\\hline\n",
       "\t Hitchcock, Alfred   & 53                 \\\\\n",
       "\t Lang, Fritz         & 38                 \\\\\n",
       "\t Ford, John          & 36                 \\\\\n",
       "\t Thomas, Gerald      & 34                 \\\\\n",
       "\t Hathaway, Henry     & 30                 \\\\\n",
       "\t DeMille, Cecil B.   & 28                 \\\\\n",
       "\t Curtiz, Michael     & 27                 \\\\\n",
       "\t Eastwood, Clint     & 27                 \\\\\n",
       "\t Thomas, Ralph       & 26                 \\\\\n",
       "\t Fleischer, Richard  & 25                 \\\\\n",
       "\\end{tabular}\n"
      ],
      "text/markdown": [
       "\n",
       "Director | Movies | \n",
       "|---|---|---|---|---|---|---|---|---|---|\n",
       "| Hitchcock, Alfred   | 53                  | \n",
       "| Lang, Fritz         | 38                  | \n",
       "| Ford, John          | 36                  | \n",
       "| Thomas, Gerald      | 34                  | \n",
       "| Hathaway, Henry     | 30                  | \n",
       "| DeMille, Cecil B.   | 28                  | \n",
       "| Curtiz, Michael     | 27                  | \n",
       "| Eastwood, Clint     | 27                  | \n",
       "| Thomas, Ralph       | 26                  | \n",
       "| Fleischer, Richard  | 25                  | \n",
       "\n",
       "\n"
      ],
      "text/plain": [
       "   Director            Movies\n",
       "1  Hitchcock, Alfred   53    \n",
       "2  Lang, Fritz         38    \n",
       "3  Ford, John          36    \n",
       "4  Thomas, Gerald      34    \n",
       "5  Hathaway, Henry     30    \n",
       "6  DeMille, Cecil B.   28    \n",
       "7  Curtiz, Michael     27    \n",
       "8  Eastwood, Clint     27    \n",
       "9  Thomas, Ralph       26    \n",
       "10 Fleischer, Richard  25    "
      ]
     },
     "metadata": {},
     "output_type": "display_data"
    }
   ],
   "source": [
    "df_directors <- as.data.frame(\n",
    "        table(df_movies[\"Director\"])\n",
    ")\n",
    "df_directors <- df_directors[order(df_directors$Freq, decreasing = T),]\n",
    "colnames(df_directors) <- c(\"Director\", \"Movies\")\n",
    "rownames(df_directors) <- NULL\n",
    "head(df_directors, 10)"
   ]
  },
  {
   "cell_type": "markdown",
   "metadata": {},
   "source": [
    "Z původních dat si do nové tabulky vyfiltrujte pouze data o filmech režisérů s 25 a více filmy. Zobrazte jména těchto režisérů v abecedním pořadí a náhled získaných dat:"
   ]
  },
  {
   "cell_type": "code",
   "execution_count": 19,
   "metadata": {},
   "outputs": [
    {
     "data": {
      "text/html": [
       "<ol class=list-inline>\n",
       "\t<li>Curtiz, Michael </li>\n",
       "\t<li>DeMille, Cecil B. </li>\n",
       "\t<li>Eastwood, Clint </li>\n",
       "\t<li>Ford, John </li>\n",
       "\t<li>Hathaway, Henry </li>\n",
       "\t<li>Hitchcock, Alfred </li>\n",
       "\t<li>Lang, Fritz </li>\n",
       "\t<li>Thomas, Gerald </li>\n",
       "\t<li>Thomas, Ralph </li>\n",
       "</ol>\n"
      ],
      "text/latex": [
       "\\begin{enumerate*}\n",
       "\\item Curtiz, Michael \n",
       "\\item DeMille, Cecil B. \n",
       "\\item Eastwood, Clint \n",
       "\\item Ford, John \n",
       "\\item Hathaway, Henry \n",
       "\\item Hitchcock, Alfred \n",
       "\\item Lang, Fritz \n",
       "\\item Thomas, Gerald \n",
       "\\item Thomas, Ralph \n",
       "\\end{enumerate*}\n"
      ],
      "text/markdown": [
       "1. Curtiz, Michael \n",
       "2. DeMille, Cecil B. \n",
       "3. Eastwood, Clint \n",
       "4. Ford, John \n",
       "5. Hathaway, Henry \n",
       "6. Hitchcock, Alfred \n",
       "7. Lang, Fritz \n",
       "8. Thomas, Gerald \n",
       "9. Thomas, Ralph \n",
       "\n",
       "\n"
      ],
      "text/plain": [
       "[1] Curtiz, Michael    DeMille, Cecil B.  Eastwood, Clint    Ford, John        \n",
       "[5] Hathaway, Henry    Hitchcock, Alfred  Lang, Fritz        Thomas, Gerald    \n",
       "[9] Thomas, Ralph     \n",
       "4571 Levels:  \\xd6stlund, ruben  Aarniokosky, Douglas  ... Zwigoff, Terry "
      ]
     },
     "metadata": {},
     "output_type": "display_data"
    },
    {
     "data": {
      "text/html": [
       "<table>\n",
       "<thead><tr><th></th><th scope=col>Title</th><th scope=col>Year</th><th scope=col>Director</th><th scope=col>Country</th><th scope=col>ASL</th></tr></thead>\n",
       "<tbody>\n",
       "\t<tr><th scope=row>20</th><td>13 Rue Madeleine                          </td><td>1946                                      </td><td>Hathaway, Henry                           </td><td>USA                                       </td><td> 7.50                                     </td></tr>\n",
       "\t<tr><th scope=row>41</th><td>23 Paces to Baker Street                  </td><td>1956                                      </td><td>Hathaway, Henry                           </td><td>USA                                       </td><td>10.29                                     </td></tr>\n",
       "\t<tr><th scope=row>125</th><td>Above Us the Waves                        </td><td>1955                                      </td><td>Thomas, Ralph                             </td><td>BRI                                       </td><td> 7.41                                     </td></tr>\n",
       "\t<tr><th scope=row>134</th><td>Absolute Power                            </td><td>1996                                      </td><td>Eastwood, Clint                           </td><td>USA                                       </td><td> 5.00                                     </td></tr>\n",
       "\t<tr><th scope=row>214</th><td>Affairs of Anatole, The                   </td><td>1921                                      </td><td>DeMille, Cecil B.                         </td><td>USA                                       </td><td> 8.00                                     </td></tr>\n",
       "\t<tr><th scope=row>381</th><td>American Guerrilla in the Phillipines, An </td><td>1950                                      </td><td>Lang, Fritz                               </td><td>USA                                       </td><td> 8.98                                     </td></tr>\n",
       "</tbody>\n",
       "</table>\n"
      ],
      "text/latex": [
       "\\begin{tabular}{r|lllll}\n",
       "  & Title & Year & Director & Country & ASL\\\\\n",
       "\\hline\n",
       "\t20 & 13 Rue Madeleine                           & 1946                                       & Hathaway, Henry                            & USA                                        &  7.50                                     \\\\\n",
       "\t41 & 23 Paces to Baker Street                   & 1956                                       & Hathaway, Henry                            & USA                                        & 10.29                                     \\\\\n",
       "\t125 & Above Us the Waves                         & 1955                                       & Thomas, Ralph                              & BRI                                        &  7.41                                     \\\\\n",
       "\t134 & Absolute Power                             & 1996                                       & Eastwood, Clint                            & USA                                        &  5.00                                     \\\\\n",
       "\t214 & Affairs of Anatole, The                    & 1921                                       & DeMille, Cecil B.                          & USA                                        &  8.00                                     \\\\\n",
       "\t381 & American Guerrilla in the Phillipines, An  & 1950                                       & Lang, Fritz                                & USA                                        &  8.98                                     \\\\\n",
       "\\end{tabular}\n"
      ],
      "text/markdown": [
       "\n",
       "| <!--/--> | Title | Year | Director | Country | ASL | \n",
       "|---|---|---|---|---|---|\n",
       "| 20 | 13 Rue Madeleine                           | 1946                                       | Hathaway, Henry                            | USA                                        |  7.50                                      | \n",
       "| 41 | 23 Paces to Baker Street                   | 1956                                       | Hathaway, Henry                            | USA                                        | 10.29                                      | \n",
       "| 125 | Above Us the Waves                         | 1955                                       | Thomas, Ralph                              | BRI                                        |  7.41                                      | \n",
       "| 134 | Absolute Power                             | 1996                                       | Eastwood, Clint                            | USA                                        |  5.00                                      | \n",
       "| 214 | Affairs of Anatole, The                    | 1921                                       | DeMille, Cecil B.                          | USA                                        |  8.00                                      | \n",
       "| 381 | American Guerrilla in the Phillipines, An  | 1950                                       | Lang, Fritz                                | USA                                        |  8.98                                      | \n",
       "\n",
       "\n"
      ],
      "text/plain": [
       "    Title                                      Year Director           Country\n",
       "20  13 Rue Madeleine                           1946 Hathaway, Henry    USA    \n",
       "41  23 Paces to Baker Street                   1956 Hathaway, Henry    USA    \n",
       "125 Above Us the Waves                         1955 Thomas, Ralph      BRI    \n",
       "134 Absolute Power                             1996 Eastwood, Clint    USA    \n",
       "214 Affairs of Anatole, The                    1921 DeMille, Cecil B.  USA    \n",
       "381 American Guerrilla in the Phillipines, An  1950 Lang, Fritz        USA    \n",
       "    ASL  \n",
       "20   7.50\n",
       "41  10.29\n",
       "125  7.41\n",
       "134  5.00\n",
       "214  8.00\n",
       "381  8.98"
      ]
     },
     "metadata": {},
     "output_type": "display_data"
    }
   ],
   "source": [
    "directors_25plus <- df_directors$Director[df_directors$Movies > 25]\n",
    "sort(directors_25plus)\n",
    "df_25plus <- df_movies[df_movies$Director %in% directors_25plus,]\n",
    "head(df_25plus)"
   ]
  },
  {
   "cell_type": "markdown",
   "metadata": {},
   "source": [
    "Pomocí krabicového grafu porovnejte průměrnou délku záběru každého z vybraných režisérů:"
   ]
  },
  {
   "cell_type": "code",
   "execution_count": 20,
   "metadata": {},
   "outputs": [
    {
     "data": {
      "image/png": "[encoded data removed]",
      "text/plain": [
       "plot without title"
      ]
     },
     "metadata": {},
     "output_type": "display_data"
    }
   ],
   "source": [
    "result <- by(df_25plus, df_25plus$Director, function(x) x$ASL)\n",
    "boxplot(result[directors_25plus])"
   ]
  },
  {
   "cell_type": "markdown",
   "metadata": {},
   "source": [
    "Odstraňte z dat odlehlé body, tj. filmy s délkou záběru delší než 100 sekund, a zobrazte pro tato data nový krabicový graf:"
   ]
  },
  {
   "cell_type": "code",
   "execution_count": 21,
   "metadata": {},
   "outputs": [
    {
     "data": {
      "image/png": "[encoded data removed]",
      "text/plain": [
       "plot without title"
      ]
     },
     "metadata": {},
     "output_type": "display_data"
    }
   ],
   "source": [
    "df_25plus <- df_25plus[df_25plus$ASL <= 100,]\n",
    "result <- by(df_25plus, df_25plus$Director, function(x) x$ASL)\n",
    "boxplot(result[directors_25plus])"
   ]
  },
  {
   "cell_type": "code",
   "execution_count": 22,
   "metadata": {},
   "outputs": [
    {
     "data": {
      "image/png": "[encoded data removed]",
      "text/plain": [
       "plot without title"
      ]
     },
     "metadata": {},
     "output_type": "display_data"
    }
   ],
   "source": [
    "op <- par(mar = c(5, 10, 4, 2) + 0.1)\n",
    "boxplot(result[directors_25plus], las = 1, horizontal = T)"
   ]
  },
  {
   "cell_type": "code",
   "execution_count": 23,
   "metadata": {},
   "outputs": [
    {
     "data": {
      "text/html": [
       "27"
      ],
      "text/latex": [
       "27"
      ],
      "text/markdown": [
       "27"
      ],
      "text/plain": [
       "[1] 27"
      ]
     },
     "metadata": {},
     "output_type": "display_data"
    },
    {
     "data": {
      "text/html": [
       "52"
      ],
      "text/latex": [
       "52"
      ],
      "text/markdown": [
       "52"
      ],
      "text/plain": [
       "[1] 52"
      ]
     },
     "metadata": {},
     "output_type": "display_data"
    }
   ],
   "source": [
    "eastwood <- result[[\"Eastwood, Clint \"]]\n",
    "hitchcock <- result[[\"Hitchcock, Alfred \"]]\n",
    "length(eastwood)\n",
    "length(hitchcock)"
   ]
  },
  {
   "cell_type": "code",
   "execution_count": 24,
   "metadata": {},
   "outputs": [
    {
     "data": {
      "image/png": "[encoded data removed]",
      "text/plain": [
       "Plot with title “Histogram of eastwood”"
      ]
     },
     "metadata": {},
     "output_type": "display_data"
    }
   ],
   "source": [
    "hist(eastwood)"
   ]
  },
  {
   "cell_type": "code",
   "execution_count": 25,
   "metadata": {},
   "outputs": [
    {
     "data": {
      "image/png": "[encoded data removed]",
      "text/plain": [
       "Plot with title “Histogram of hitchcock”"
      ]
     },
     "metadata": {},
     "output_type": "display_data"
    }
   ],
   "source": [
    "hist(hitchcock)"
   ]
  },
  {
   "cell_type": "code",
   "execution_count": 26,
   "metadata": {},
   "outputs": [
    {
     "data": {
      "text/html": [
       "45"
      ],
      "text/latex": [
       "45"
      ],
      "text/markdown": [
       "45"
      ],
      "text/plain": [
       "[1] 45"
      ]
     },
     "metadata": {},
     "output_type": "display_data"
    },
    {
     "data": {
      "image/png": "[encoded data removed]",
      "text/plain": [
       "Plot with title “Histogram of hitchcock”"
      ]
     },
     "metadata": {},
     "output_type": "display_data"
    }
   ],
   "source": [
    "hitchcock <- hitchcock[hitchcock <= 10]\n",
    "length(hitchcock)\n",
    "hist(hitchcock)"
   ]
  },
  {
   "cell_type": "code",
   "execution_count": 27,
   "metadata": {},
   "outputs": [
    {
     "data": {
      "text/plain": [
       "\n",
       "\tOne Sample t-test\n",
       "\n",
       "data:  hitchcock\n",
       "t = 41.108, df = 44, p-value < 2.2e-16\n",
       "alternative hypothesis: true mean is not equal to 0\n",
       "95 percent confidence interval:\n",
       " 6.929855 7.644367\n",
       "sample estimates:\n",
       "mean of x \n",
       " 7.287111 \n"
      ]
     },
     "metadata": {},
     "output_type": "display_data"
    }
   ],
   "source": [
    "t.test(hitchcock)"
   ]
  },
  {
   "cell_type": "code",
   "execution_count": 28,
   "metadata": {},
   "outputs": [
    {
     "data": {
      "text/plain": [
       "\n",
       "\tOne Sample t-test\n",
       "\n",
       "data:  eastwood\n",
       "t = 25.619, df = 26, p-value < 2.2e-16\n",
       "alternative hypothesis: true mean is not equal to 0\n",
       "95 percent confidence interval:\n",
       " 4.802879 5.640825\n",
       "sample estimates:\n",
       "mean of x \n",
       " 5.221852 \n"
      ]
     },
     "metadata": {},
     "output_type": "display_data"
    }
   ],
   "source": [
    "t.test(eastwood)"
   ]
  },
  {
   "cell_type": "code",
   "execution_count": null,
   "metadata": {
    "collapsed": true
   },
   "outputs": [],
   "source": []
  }
 ],
 "metadata": {
  "kernelspec": {
   "display_name": "R",
   "language": "R",
   "name": "ir"
  },
  "language_info": {
   "codemirror_mode": "r",
   "file_extension": ".r",
   "mimetype": "text/x-r-source",
   "name": "R",
   "pygments_lexer": "r",
   "version": "3.3.2"
  },
  "toc": {
   "nav_menu": {},
   "number_sections": true,
   "sideBar": true,
   "skip_h1_title": true,
   "toc_cell": true,
   "toc_position": {},
   "toc_section_display": "block",
   "toc_window_display": false
  }
 },
 "nbformat": 4,
 "nbformat_minor": 2
}
