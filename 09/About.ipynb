{
 "cells": [
  {
   "cell_type": "markdown",
   "metadata": {
    "toc": true
   },
   "source": [
    "<h1>Table of Contents<span class=\"tocSkip\"></span></h1>\n",
    "<div class=\"toc\"><ul class=\"toc-item\"><li><span><a href=\"#Alcoholics\" data-toc-modified-id=\"Alcoholics-1\"><span class=\"toc-item-num\">1&nbsp;&nbsp;</span>Alcoholics</a></span></li><li><span><a href=\"#Employment\" data-toc-modified-id=\"Employment-2\"><span class=\"toc-item-num\">2&nbsp;&nbsp;</span>Employment</a></span></li><li><span><a href=\"#Hearts\" data-toc-modified-id=\"Hearts-3\"><span class=\"toc-item-num\">3&nbsp;&nbsp;</span>Hearts</a></span></li><li><span><a href=\"#Life-Goals\" data-toc-modified-id=\"Life-Goals-4\"><span class=\"toc-item-num\">4&nbsp;&nbsp;</span>Life Goals</a></span></li><li><span><a href=\"#Social\" data-toc-modified-id=\"Social-5\"><span class=\"toc-item-num\">5&nbsp;&nbsp;</span>Social</a></span></li><li><span><a href=\"#Smoking-Deaths-Among-Doctors\" data-toc-modified-id=\"Smoking-Deaths-Among-Doctors-6\"><span class=\"toc-item-num\">6&nbsp;&nbsp;</span>Smoking Deaths Among Doctors</a></span></li><li><span><a href=\"#Doug-Score\" data-toc-modified-id=\"Doug-Score-7\"><span class=\"toc-item-num\">7&nbsp;&nbsp;</span>Doug Score</a></span></li><li><span><a href=\"#Crashes\" data-toc-modified-id=\"Crashes-8\"><span class=\"toc-item-num\">8&nbsp;&nbsp;</span>Crashes</a></span></li></ul></div>"
   ]
  },
  {
   "cell_type": "markdown",
   "metadata": {},
   "source": [
    "## Alcoholics\n",
    "\n",
    "https://www.statcrunch.com/5.0/viewreport.php?reportid=73650\n",
    "\n",
    "**Description:** My group and I design a survey to find out among the adult who drinks , why they drink, their age, education level and how many drink they have per day. The data was gathered individually and put together into statcrunch by one member of the group. This survey shows the number of drinking adults and what motivate them to drink. Our survey question is below. \n",
    "\n",
    "1. Do you Drink Alcohol? Circle one: Y N \n",
    "2. What is your age?____years \n",
    "3. What is your gender? Circle one: Male Female \n",
    "4. Are you having an increasing number of A. Financial problems B. family problems C. Work problems D. Health problems E. Financial and family problems F financial, health and family problems G. Family and work problems H. Financial, Family, and work problems I. none of the above Circle one. \n",
    "5. How many drinks do you have a week?_____ drinks \n",
    "6. Education: What is the highest degree or level of school you have completed? If currently enrolled, mark the previous grade or highest degree received. A. No schooling completed B. Nursery school to 8th grade C. 9th, 10th or 11th grade D. 12th grade, no diploma E. High school graduate - high school diploma or the equivalent (for example: GED) F. Some college credit, but less than 1 year G. 1 or more years of college, no degree H. Associate degree (for example: AA, AS) I. Bachelor's degree (for example: BA, AB, BS) J. Master's degree (for example: MA, MS, MEng, MEd, MSW, MBA) K. Professional degree (for example: MD, DDS, DVM, LLB, JD) Circle one. \n",
    "\n",
    "----- Original Message ---- Sent on:Tuesday, May 22, 2012 11:46 PM Hi. It looks good. Change: \n",
    "\n",
    "- 2. What is your gender? Circle one: Male Female Other to2. What is your gender? Circle one: Male Female Other Since I do not think you will get someone answering as Other. \n",
    "- In #3, I forgot another option:3. Are you having an increasing number of A. Financial problems B. family problems C. Work problems D. Financial and family problems E. financial and family problems F. Family and work problems G. Financial, Family, and work problems H. none of the above Circle one."
   ]
  },
  {
   "cell_type": "code",
   "execution_count": 1,
   "metadata": {},
   "outputs": [
    {
     "data": {
      "text/html": [
       "<table>\n",
       "<thead><tr><th scope=col>Response.id</th><th scope=col>Response</th><th scope=col>Age</th><th scope=col>Sex</th><th scope=col>G..Family.and.Work.Problems</th><th scope=col>No.of.drinks</th><th scope=col>Education</th></tr></thead>\n",
       "<tbody>\n",
       "\t<tr><td>87167                                                               </td><td>Yes                                                                 </td><td>26                                                                  </td><td>Male                                                                </td><td>I. None of the above                                                </td><td>20                                                                  </td><td>C. 9th, 10th, or 11th grade                                         </td></tr>\n",
       "\t<tr><td>87168                                                               </td><td>Yes                                                                 </td><td>30                                                                  </td><td>Male                                                                </td><td>H. Financial, Family, and Work Problems                             </td><td>48                                                                  </td><td>E. High School graduate- high school diploma or the equivalent (GED)</td></tr>\n",
       "\t<tr><td>87169                                                               </td><td>Yes                                                                 </td><td>39                                                                  </td><td>Male                                                                </td><td>I. None of the above                                                </td><td> 3                                                                  </td><td>G. 1 or more years of College                                       </td></tr>\n",
       "\t<tr><td>87170                                                               </td><td>Yes                                                                 </td><td>30                                                                  </td><td>Male                                                                </td><td>I. None of the above                                                </td><td> 2                                                                  </td><td>H. Associates degree (for example: AA, AS)                          </td></tr>\n",
       "\t<tr><td>87171                                                               </td><td>Yes                                                                 </td><td>40                                                                  </td><td>Male                                                                </td><td>C. Work Problems                                                    </td><td> 1                                                                  </td><td>G. 1 or more years of College                                       </td></tr>\n",
       "\t<tr><td>87176                                                               </td><td>Yes                                                                 </td><td>40                                                                  </td><td>Female                                                              </td><td>I. None of the above                                                </td><td> 1                                                                  </td><td>G. 1 or more years of College                                       </td></tr>\n",
       "</tbody>\n",
       "</table>\n"
      ],
      "text/latex": [
       "\\begin{tabular}{r|lllllll}\n",
       " Response.id & Response & Age & Sex & G..Family.and.Work.Problems & No.of.drinks & Education\\\\\n",
       "\\hline\n",
       "\t 87167                                                                & Yes                                                                  & 26                                                                   & Male                                                                 & I. None of the above                                                 & 20                                                                   & C. 9th, 10th, or 11th grade                                         \\\\\n",
       "\t 87168                                                                & Yes                                                                  & 30                                                                   & Male                                                                 & H. Financial, Family, and Work Problems                              & 48                                                                   & E. High School graduate- high school diploma or the equivalent (GED)\\\\\n",
       "\t 87169                                                                & Yes                                                                  & 39                                                                   & Male                                                                 & I. None of the above                                                 &  3                                                                   & G. 1 or more years of College                                       \\\\\n",
       "\t 87170                                                                & Yes                                                                  & 30                                                                   & Male                                                                 & I. None of the above                                                 &  2                                                                   & H. Associates degree (for example: AA, AS)                          \\\\\n",
       "\t 87171                                                                & Yes                                                                  & 40                                                                   & Male                                                                 & C. Work Problems                                                     &  1                                                                   & G. 1 or more years of College                                       \\\\\n",
       "\t 87176                                                                & Yes                                                                  & 40                                                                   & Female                                                               & I. None of the above                                                 &  1                                                                   & G. 1 or more years of College                                       \\\\\n",
       "\\end{tabular}\n"
      ],
      "text/markdown": [
       "\n",
       "Response.id | Response | Age | Sex | G..Family.and.Work.Problems | No.of.drinks | Education | \n",
       "|---|---|---|---|---|---|\n",
       "| 87167                                                                | Yes                                                                  | 26                                                                   | Male                                                                 | I. None of the above                                                 | 20                                                                   | C. 9th, 10th, or 11th grade                                          | \n",
       "| 87168                                                                | Yes                                                                  | 30                                                                   | Male                                                                 | H. Financial, Family, and Work Problems                              | 48                                                                   | E. High School graduate- high school diploma or the equivalent (GED) | \n",
       "| 87169                                                                | Yes                                                                  | 39                                                                   | Male                                                                 | I. None of the above                                                 |  3                                                                   | G. 1 or more years of College                                        | \n",
       "| 87170                                                                | Yes                                                                  | 30                                                                   | Male                                                                 | I. None of the above                                                 |  2                                                                   | H. Associates degree (for example: AA, AS)                           | \n",
       "| 87171                                                                | Yes                                                                  | 40                                                                   | Male                                                                 | C. Work Problems                                                     |  1                                                                   | G. 1 or more years of College                                        | \n",
       "| 87176                                                                | Yes                                                                  | 40                                                                   | Female                                                               | I. None of the above                                                 |  1                                                                   | G. 1 or more years of College                                        | \n",
       "\n",
       "\n"
      ],
      "text/plain": [
       "  Response.id Response Age Sex    G..Family.and.Work.Problems            \n",
       "1 87167       Yes      26  Male   I. None of the above                   \n",
       "2 87168       Yes      30  Male   H. Financial, Family, and Work Problems\n",
       "3 87169       Yes      39  Male   I. None of the above                   \n",
       "4 87170       Yes      30  Male   I. None of the above                   \n",
       "5 87171       Yes      40  Male   C. Work Problems                       \n",
       "6 87176       Yes      40  Female I. None of the above                   \n",
       "  No.of.drinks\n",
       "1 20          \n",
       "2 48          \n",
       "3  3          \n",
       "4  2          \n",
       "5  1          \n",
       "6  1          \n",
       "  Education                                                           \n",
       "1 C. 9th, 10th, or 11th grade                                         \n",
       "2 E. High School graduate- high school diploma or the equivalent (GED)\n",
       "3 G. 1 or more years of College                                       \n",
       "4 H. Associates degree (for example: AA, AS)                          \n",
       "5 G. 1 or more years of College                                       \n",
       "6 G. 1 or more years of College                                       "
      ]
     },
     "metadata": {},
     "output_type": "display_data"
    }
   ],
   "source": [
    "alcoholics_df <- read.table(\"alcoholics.csv\", header = TRUE, sep = \",\")\n",
    "head(alcoholics_df)"
   ]
  },
  {
   "cell_type": "markdown",
   "metadata": {},
   "source": [
    "## Employment"
   ]
  },
  {
   "cell_type": "code",
   "execution_count": 2,
   "metadata": {},
   "outputs": [
    {
     "data": {
      "text/html": [
       "<table>\n",
       "<thead><tr><th scope=col>College</th><th scope=col>HiSchool</th></tr></thead>\n",
       "<tbody>\n",
       "\t<tr><td>2.8</td><td>5.9</td></tr>\n",
       "\t<tr><td>2.2</td><td>4.9</td></tr>\n",
       "\t<tr><td>2.2</td><td>4.8</td></tr>\n",
       "\t<tr><td>1.7</td><td>5.4</td></tr>\n",
       "\t<tr><td>2.3</td><td>6.3</td></tr>\n",
       "\t<tr><td>2.3</td><td>6.9</td></tr>\n",
       "</tbody>\n",
       "</table>\n"
      ],
      "text/latex": [
       "\\begin{tabular}{r|ll}\n",
       " College & HiSchool\\\\\n",
       "\\hline\n",
       "\t 2.8 & 5.9\\\\\n",
       "\t 2.2 & 4.9\\\\\n",
       "\t 2.2 & 4.8\\\\\n",
       "\t 1.7 & 5.4\\\\\n",
       "\t 2.3 & 6.3\\\\\n",
       "\t 2.3 & 6.9\\\\\n",
       "\\end{tabular}\n"
      ],
      "text/markdown": [
       "\n",
       "College | HiSchool | \n",
       "|---|---|---|---|---|---|\n",
       "| 2.8 | 5.9 | \n",
       "| 2.2 | 4.9 | \n",
       "| 2.2 | 4.8 | \n",
       "| 1.7 | 5.4 | \n",
       "| 2.3 | 6.3 | \n",
       "| 2.3 | 6.9 | \n",
       "\n",
       "\n"
      ],
      "text/plain": [
       "  College HiSchool\n",
       "1 2.8     5.9     \n",
       "2 2.2     4.9     \n",
       "3 2.2     4.8     \n",
       "4 1.7     5.4     \n",
       "5 2.3     6.3     \n",
       "6 2.3     6.9     "
      ]
     },
     "metadata": {},
     "output_type": "display_data"
    }
   ],
   "source": [
    "employment_df <- read.table(\"employment.csv\", header = TRUE, sep = \",\")\n",
    "head(employment_df)"
   ]
  },
  {
   "cell_type": "markdown",
   "metadata": {},
   "source": [
    "## Hearts\n",
    "\n",
    "https://rdrr.io/cran/UsingR/man/normtemp.html\n",
    "\n",
    "A data frame with 130 observations on the following 3 variables.\n",
    "\n",
    "temperature\n",
    "\n",
    "    normal body temperature\n",
    "gender\n",
    "\n",
    "    Gender 1 = male, 2 = female\n",
    "hr\n",
    "\n",
    "    Resting heart rate\n",
    "    \n",
    "Is normal body temperature 98.6 degrees Fahrenheit? This dataset was constructed to match data presented in an are article intending to establish the true value of “normal” body temperature."
   ]
  },
  {
   "cell_type": "code",
   "execution_count": 3,
   "metadata": {},
   "outputs": [
    {
     "data": {
      "text/html": [
       "<table>\n",
       "<thead><tr><th scope=col>Gender</th><th scope=col>Body.Temp</th><th scope=col>Heart.Rate</th></tr></thead>\n",
       "<tbody>\n",
       "\t<tr><td>Male</td><td>96.3</td><td>70  </td></tr>\n",
       "\t<tr><td>Male</td><td>96.7</td><td>71  </td></tr>\n",
       "\t<tr><td>Male</td><td>96.9</td><td>74  </td></tr>\n",
       "\t<tr><td>Male</td><td>97.0</td><td>80  </td></tr>\n",
       "\t<tr><td>Male</td><td>97.1</td><td>73  </td></tr>\n",
       "\t<tr><td>Male</td><td>97.1</td><td>75  </td></tr>\n",
       "</tbody>\n",
       "</table>\n"
      ],
      "text/latex": [
       "\\begin{tabular}{r|lll}\n",
       " Gender & Body.Temp & Heart.Rate\\\\\n",
       "\\hline\n",
       "\t Male & 96.3 & 70  \\\\\n",
       "\t Male & 96.7 & 71  \\\\\n",
       "\t Male & 96.9 & 74  \\\\\n",
       "\t Male & 97.0 & 80  \\\\\n",
       "\t Male & 97.1 & 73  \\\\\n",
       "\t Male & 97.1 & 75  \\\\\n",
       "\\end{tabular}\n"
      ],
      "text/markdown": [
       "\n",
       "Gender | Body.Temp | Heart.Rate | \n",
       "|---|---|---|---|---|---|\n",
       "| Male | 96.3 | 70   | \n",
       "| Male | 96.7 | 71   | \n",
       "| Male | 96.9 | 74   | \n",
       "| Male | 97.0 | 80   | \n",
       "| Male | 97.1 | 73   | \n",
       "| Male | 97.1 | 75   | \n",
       "\n",
       "\n"
      ],
      "text/plain": [
       "  Gender Body.Temp Heart.Rate\n",
       "1 Male   96.3      70        \n",
       "2 Male   96.7      71        \n",
       "3 Male   96.9      74        \n",
       "4 Male   97.0      80        \n",
       "5 Male   97.1      73        \n",
       "6 Male   97.1      75        "
      ]
     },
     "metadata": {},
     "output_type": "display_data"
    }
   ],
   "source": [
    "hearts_df <- read.table(\"hearts.csv\", header = TRUE, sep = \",\")\n",
    "head(hearts_df)"
   ]
  },
  {
   "cell_type": "code",
   "execution_count": 4,
   "metadata": {},
   "outputs": [
    {
     "data": {
      "text/html": [
       "<ol class=list-inline>\n",
       "\t<li>130</li>\n",
       "\t<li>3</li>\n",
       "</ol>\n"
      ],
      "text/latex": [
       "\\begin{enumerate*}\n",
       "\\item 130\n",
       "\\item 3\n",
       "\\end{enumerate*}\n"
      ],
      "text/markdown": [
       "1. 130\n",
       "2. 3\n",
       "\n",
       "\n"
      ],
      "text/plain": [
       "[1] 130   3"
      ]
     },
     "metadata": {},
     "output_type": "display_data"
    }
   ],
   "source": [
    "dim(hearts_df)"
   ]
  },
  {
   "cell_type": "markdown",
   "metadata": {},
   "source": [
    "## Life Goals\n",
    "\n",
    "https://www.statcrunch.com/app/index.php?dataid=339273\n",
    "\n",
    "Subjects were students in grades 4-6 from three school districts in Ingham and Clinton Counties, Michigan. Chase and Dummer stratified their sample, selecting students from urban, suburban, and rural school districts with approximately 1/3 of their sample coming from each district. Students indicated whether good grades, athletic ability, or popularity was most important to them. They also ranked four factors: grades, sports, looks, and money, in order of their importance for popularity. The questionnaire also asked for gender, grade level, and other demographic information. Number of cases: 478 Variable Names: Gender: Boy or girl Grade: 4, 5 or 6 Age: Age in years Race: White, Other Urban/Rural: Rural, Suburban, or Urban school district School: Brentwood Elementary, Brentwood Middle, Ridge, Sand, Eureka, Brown, Main, Portage, Westdale Middle Goals: Student's choice in the personal goals question where options were 1 = Make Good Grades, 2 = Be Popular, 3 = Be Good in Sports Grades: Rank of \"make good grades\" (1=most important for popularity, 4=least important) Sports: Rank of \"being good at sports\" (1=most important for popularity, 4=least important) Looks: Rank of \"being handsome or pretty\" (1=most important for popularity, 4=least important) Money: Rank of \"having lots of money\" (1=most important for popularity, 4=least important)"
   ]
  },
  {
   "cell_type": "code",
   "execution_count": 5,
   "metadata": {},
   "outputs": [
    {
     "data": {
      "text/html": [
       "<table>\n",
       "<thead><tr><th scope=col>Gender</th><th scope=col>Grade</th><th scope=col>Age</th><th scope=col>Race</th><th scope=col>Urban.Rural</th><th scope=col>School</th><th scope=col>Goals</th><th scope=col>Grades</th><th scope=col>Sports</th><th scope=col>Looks</th><th scope=col>Money</th></tr></thead>\n",
       "<tbody>\n",
       "\t<tr><td>boy    </td><td>5      </td><td>11     </td><td>White  </td><td>Rural  </td><td>Elm    </td><td>Sports </td><td>1      </td><td>2      </td><td>4      </td><td>3      </td></tr>\n",
       "\t<tr><td>boy    </td><td>5      </td><td>10     </td><td>White  </td><td>Rural  </td><td>Elm    </td><td>Popular</td><td>2      </td><td>1      </td><td>4      </td><td>3      </td></tr>\n",
       "\t<tr><td>girl   </td><td>5      </td><td>11     </td><td>White  </td><td>Rural  </td><td>Elm    </td><td>Popular</td><td>4      </td><td>3      </td><td>1      </td><td>2      </td></tr>\n",
       "\t<tr><td>girl   </td><td>5      </td><td>11     </td><td>White  </td><td>Rural  </td><td>Elm    </td><td>Popular</td><td>2      </td><td>3      </td><td>4      </td><td>1      </td></tr>\n",
       "\t<tr><td>girl   </td><td>5      </td><td>10     </td><td>White  </td><td>Rural  </td><td>Elm    </td><td>Popular</td><td>4      </td><td>2      </td><td>1      </td><td>3      </td></tr>\n",
       "\t<tr><td>girl   </td><td>5      </td><td>11     </td><td>White  </td><td>Rural  </td><td>Elm    </td><td>Popular</td><td>4      </td><td>2      </td><td>1      </td><td>3      </td></tr>\n",
       "</tbody>\n",
       "</table>\n"
      ],
      "text/latex": [
       "\\begin{tabular}{r|lllllllllll}\n",
       " Gender & Grade & Age & Race & Urban.Rural & School & Goals & Grades & Sports & Looks & Money\\\\\n",
       "\\hline\n",
       "\t boy     & 5       & 11      & White   & Rural   & Elm     & Sports  & 1       & 2       & 4       & 3      \\\\\n",
       "\t boy     & 5       & 10      & White   & Rural   & Elm     & Popular & 2       & 1       & 4       & 3      \\\\\n",
       "\t girl    & 5       & 11      & White   & Rural   & Elm     & Popular & 4       & 3       & 1       & 2      \\\\\n",
       "\t girl    & 5       & 11      & White   & Rural   & Elm     & Popular & 2       & 3       & 4       & 1      \\\\\n",
       "\t girl    & 5       & 10      & White   & Rural   & Elm     & Popular & 4       & 2       & 1       & 3      \\\\\n",
       "\t girl    & 5       & 11      & White   & Rural   & Elm     & Popular & 4       & 2       & 1       & 3      \\\\\n",
       "\\end{tabular}\n"
      ],
      "text/markdown": [
       "\n",
       "Gender | Grade | Age | Race | Urban.Rural | School | Goals | Grades | Sports | Looks | Money | \n",
       "|---|---|---|---|---|---|\n",
       "| boy     | 5       | 11      | White   | Rural   | Elm     | Sports  | 1       | 2       | 4       | 3       | \n",
       "| boy     | 5       | 10      | White   | Rural   | Elm     | Popular | 2       | 1       | 4       | 3       | \n",
       "| girl    | 5       | 11      | White   | Rural   | Elm     | Popular | 4       | 3       | 1       | 2       | \n",
       "| girl    | 5       | 11      | White   | Rural   | Elm     | Popular | 2       | 3       | 4       | 1       | \n",
       "| girl    | 5       | 10      | White   | Rural   | Elm     | Popular | 4       | 2       | 1       | 3       | \n",
       "| girl    | 5       | 11      | White   | Rural   | Elm     | Popular | 4       | 2       | 1       | 3       | \n",
       "\n",
       "\n"
      ],
      "text/plain": [
       "  Gender Grade Age Race  Urban.Rural School Goals   Grades Sports Looks Money\n",
       "1 boy    5     11  White Rural       Elm    Sports  1      2      4     3    \n",
       "2 boy    5     10  White Rural       Elm    Popular 2      1      4     3    \n",
       "3 girl   5     11  White Rural       Elm    Popular 4      3      1     2    \n",
       "4 girl   5     11  White Rural       Elm    Popular 2      3      4     1    \n",
       "5 girl   5     10  White Rural       Elm    Popular 4      2      1     3    \n",
       "6 girl   5     11  White Rural       Elm    Popular 4      2      1     3    "
      ]
     },
     "metadata": {},
     "output_type": "display_data"
    }
   ],
   "source": [
    "goals_df <- read.table(\"life_goals.csv\", header = TRUE, sep = \",\")\n",
    "head(goals_df)"
   ]
  },
  {
   "cell_type": "code",
   "execution_count": 6,
   "metadata": {},
   "outputs": [
    {
     "data": {
      "text/html": [
       "<ol class=list-inline>\n",
       "\t<li>Elm</li>\n",
       "\t<li>Brentwood Elementary</li>\n",
       "\t<li>Brentwood Middle</li>\n",
       "\t<li>Ridge</li>\n",
       "\t<li>Sand</li>\n",
       "\t<li>Brown Middle</li>\n",
       "\t<li>Main</li>\n",
       "\t<li>Portage</li>\n",
       "\t<li>Westdale Middle</li>\n",
       "</ol>\n"
      ],
      "text/latex": [
       "\\begin{enumerate*}\n",
       "\\item Elm\n",
       "\\item Brentwood Elementary\n",
       "\\item Brentwood Middle\n",
       "\\item Ridge\n",
       "\\item Sand\n",
       "\\item Brown Middle\n",
       "\\item Main\n",
       "\\item Portage\n",
       "\\item Westdale Middle\n",
       "\\end{enumerate*}\n"
      ],
      "text/markdown": [
       "1. Elm\n",
       "2. Brentwood Elementary\n",
       "3. Brentwood Middle\n",
       "4. Ridge\n",
       "5. Sand\n",
       "6. Brown Middle\n",
       "7. Main\n",
       "8. Portage\n",
       "9. Westdale Middle\n",
       "\n",
       "\n"
      ],
      "text/plain": [
       "[1] Elm                  Brentwood Elementary Brentwood Middle    \n",
       "[4] Ridge                Sand                 Brown Middle        \n",
       "[7] Main                 Portage              Westdale Middle     \n",
       "9 Levels: Brentwood Elementary Brentwood Middle Brown Middle Elm ... Westdale Middle"
      ]
     },
     "metadata": {},
     "output_type": "display_data"
    }
   ],
   "source": [
    "unique(goals_df$School)"
   ]
  },
  {
   "cell_type": "markdown",
   "metadata": {},
   "source": [
    "## Social\n",
    "\n",
    "https://www.statcrunch.com/app/index.php?dataid=2412748\n",
    "\n",
    "Respondents provided their most used social media application (Media App), how many minutes they spent on social media per day (Time spent), the number of times they visited social media per day (Visits per day), the number of posts they make per week (Posts per week), their gender (Gender), and their age (Age)."
   ]
  },
  {
   "cell_type": "code",
   "execution_count": 7,
   "metadata": {},
   "outputs": [
    {
     "data": {
      "text/html": [
       "<table>\n",
       "<thead><tr><th scope=col>Response_id</th><th scope=col>Age</th><th scope=col>Gender</th><th scope=col>Media.app</th><th scope=col>Media.app.Other</th><th scope=col>Time.spent</th><th scope=col>Times.per.day</th><th scope=col>Posts</th></tr></thead>\n",
       "<tbody>\n",
       "\t<tr><td>655696  </td><td>62      </td><td>Male    </td><td>Facebook</td><td>        </td><td> 10     </td><td> 1.0    </td><td>1       </td></tr>\n",
       "\t<tr><td>655698  </td><td> 4      </td><td>Female  </td><td>Facebook</td><td>        </td><td>  1     </td><td> 1.0    </td><td>1       </td></tr>\n",
       "\t<tr><td>655708  </td><td>25      </td><td>Female  </td><td>Facebook</td><td>        </td><td> 40     </td><td> 5.0    </td><td>1       </td></tr>\n",
       "\t<tr><td>655715  </td><td>19      </td><td>Male    </td><td>Facebook</td><td>        </td><td>  5     </td><td> 0.1    </td><td>0       </td></tr>\n",
       "\t<tr><td>655717  </td><td>20      </td><td>Female  </td><td>Twitter </td><td>        </td><td>120     </td><td>20.0    </td><td>7       </td></tr>\n",
       "\t<tr><td>655719  </td><td>17      </td><td>Male    </td><td>Twitter </td><td>        </td><td> 60     </td><td> 8.0    </td><td>1       </td></tr>\n",
       "</tbody>\n",
       "</table>\n"
      ],
      "text/latex": [
       "\\begin{tabular}{r|llllllll}\n",
       " Response\\_id & Age & Gender & Media.app & Media.app.Other & Time.spent & Times.per.day & Posts\\\\\n",
       "\\hline\n",
       "\t 655696   & 62       & Male     & Facebook &          &  10      &  1.0     & 1       \\\\\n",
       "\t 655698   &  4       & Female   & Facebook &          &   1      &  1.0     & 1       \\\\\n",
       "\t 655708   & 25       & Female   & Facebook &          &  40      &  5.0     & 1       \\\\\n",
       "\t 655715   & 19       & Male     & Facebook &          &   5      &  0.1     & 0       \\\\\n",
       "\t 655717   & 20       & Female   & Twitter  &          & 120      & 20.0     & 7       \\\\\n",
       "\t 655719   & 17       & Male     & Twitter  &          &  60      &  8.0     & 1       \\\\\n",
       "\\end{tabular}\n"
      ],
      "text/markdown": [
       "\n",
       "Response_id | Age | Gender | Media.app | Media.app.Other | Time.spent | Times.per.day | Posts | \n",
       "|---|---|---|---|---|---|\n",
       "| 655696   | 62       | Male     | Facebook |          |  10      |  1.0     | 1        | \n",
       "| 655698   |  4       | Female   | Facebook |          |   1      |  1.0     | 1        | \n",
       "| 655708   | 25       | Female   | Facebook |          |  40      |  5.0     | 1        | \n",
       "| 655715   | 19       | Male     | Facebook |          |   5      |  0.1     | 0        | \n",
       "| 655717   | 20       | Female   | Twitter  |          | 120      | 20.0     | 7        | \n",
       "| 655719   | 17       | Male     | Twitter  |          |  60      |  8.0     | 1        | \n",
       "\n",
       "\n"
      ],
      "text/plain": [
       "  Response_id Age Gender Media.app Media.app.Other Time.spent Times.per.day\n",
       "1 655696      62  Male   Facebook                   10         1.0         \n",
       "2 655698       4  Female Facebook                    1         1.0         \n",
       "3 655708      25  Female Facebook                   40         5.0         \n",
       "4 655715      19  Male   Facebook                    5         0.1         \n",
       "5 655717      20  Female Twitter                   120        20.0         \n",
       "6 655719      17  Male   Twitter                    60         8.0         \n",
       "  Posts\n",
       "1 1    \n",
       "2 1    \n",
       "3 1    \n",
       "4 0    \n",
       "5 7    \n",
       "6 1    "
      ]
     },
     "metadata": {},
     "output_type": "display_data"
    }
   ],
   "source": [
    "social_df <- read.table(\"social.csv\", header = TRUE, sep = \",\")\n",
    "head(social_df)"
   ]
  },
  {
   "cell_type": "markdown",
   "metadata": {},
   "source": [
    "## Smoking Deaths Among Doctors\n",
    "\n",
    "https://vincentarelbundock.github.io/Rdatasets/doc/boot/breslow.html\n",
    "\n",
    "In 1961 Doll and Hill sent out a questionnaire to all men on the British Medical Register enquiring about their smoking habits. Almost 70% of such men replied. Death certificates were obtained for medical practitioners and causes of death were assigned on the basis of these certificates. The breslow data set contains the person-years of observations and deaths from coronary artery disease accumulated during the first ten years of the study."
   ]
  },
  {
   "cell_type": "code",
   "execution_count": 9,
   "metadata": {},
   "outputs": [
    {
     "data": {
      "text/html": [
       "<table>\n",
       "<thead><tr><th scope=col>X</th><th scope=col>age</th><th scope=col>smoke</th><th scope=col>n</th><th scope=col>y</th><th scope=col>ns</th></tr></thead>\n",
       "<tbody>\n",
       "\t<tr><td>1    </td><td>40   </td><td>0    </td><td>18790</td><td> 2   </td><td>    0</td></tr>\n",
       "\t<tr><td>2    </td><td>50   </td><td>0    </td><td>10673</td><td>12   </td><td>    0</td></tr>\n",
       "\t<tr><td>3    </td><td>60   </td><td>0    </td><td> 5710</td><td>28   </td><td>    0</td></tr>\n",
       "\t<tr><td>4    </td><td>70   </td><td>0    </td><td> 2585</td><td>28   </td><td>    0</td></tr>\n",
       "\t<tr><td>5    </td><td>80   </td><td>0    </td><td> 1462</td><td>31   </td><td>    0</td></tr>\n",
       "\t<tr><td>6    </td><td>40   </td><td>1    </td><td>52407</td><td>32   </td><td>52407</td></tr>\n",
       "</tbody>\n",
       "</table>\n"
      ],
      "text/latex": [
       "\\begin{tabular}{r|llllll}\n",
       " X & age & smoke & n & y & ns\\\\\n",
       "\\hline\n",
       "\t 1     & 40    & 0     & 18790 &  2    &     0\\\\\n",
       "\t 2     & 50    & 0     & 10673 & 12    &     0\\\\\n",
       "\t 3     & 60    & 0     &  5710 & 28    &     0\\\\\n",
       "\t 4     & 70    & 0     &  2585 & 28    &     0\\\\\n",
       "\t 5     & 80    & 0     &  1462 & 31    &     0\\\\\n",
       "\t 6     & 40    & 1     & 52407 & 32    & 52407\\\\\n",
       "\\end{tabular}\n"
      ],
      "text/markdown": [
       "\n",
       "X | age | smoke | n | y | ns | \n",
       "|---|---|---|---|---|---|\n",
       "| 1     | 40    | 0     | 18790 |  2    |     0 | \n",
       "| 2     | 50    | 0     | 10673 | 12    |     0 | \n",
       "| 3     | 60    | 0     |  5710 | 28    |     0 | \n",
       "| 4     | 70    | 0     |  2585 | 28    |     0 | \n",
       "| 5     | 80    | 0     |  1462 | 31    |     0 | \n",
       "| 6     | 40    | 1     | 52407 | 32    | 52407 | \n",
       "\n",
       "\n"
      ],
      "text/plain": [
       "  X age smoke n     y  ns   \n",
       "1 1 40  0     18790  2     0\n",
       "2 2 50  0     10673 12     0\n",
       "3 3 60  0      5710 28     0\n",
       "4 4 70  0      2585 28     0\n",
       "5 5 80  0      1462 31     0\n",
       "6 6 40  1     52407 32 52407"
      ]
     },
     "metadata": {},
     "output_type": "display_data"
    }
   ],
   "source": [
    "breslow_df <- read.table(\"breslow.csv\", header = TRUE, sep = \",\")\n",
    "head(breslow_df)"
   ]
  },
  {
   "cell_type": "markdown",
   "metadata": {},
   "source": [
    "## Doug Score\n",
    "\n",
    "https://docs.google.com/spreadsheets/d/1KTArYwDWrn52fnc7B12KvjRb6nmcEaU6gXYehWfsZSo/edit#gid=0\n",
    "\n",
    "http://www.dougdemuro.com/uncategorized/welcome-to-the-dougscore/\n",
    "\n",
    "https://dougscore.netlify.com/\n",
    "\n",
    "https://www.fueleconomy.gov/feg/ws/index.shtml"
   ]
  },
  {
   "cell_type": "code",
   "execution_count": 1,
   "metadata": {},
   "outputs": [
    {
     "data": {
      "text/html": [
       "<table>\n",
       "<thead><tr><th scope=col>Year</th><th scope=col>Make</th><th scope=col>Model</th><th scope=col>Styling</th><th scope=col>Acceleration</th><th scope=col>Handling</th><th scope=col>Fun.Factor</th><th scope=col>Cool.Factor</th><th scope=col>WTOTAL</th><th scope=col>Features</th><th scope=col>Comfort</th><th scope=col>Quality</th><th scope=col>Practicality</th><th scope=col>Value</th><th scope=col>DTOTAL</th><th scope=col>DOUGSCORE</th><th scope=col>Video.Length</th><th scope=col>Filming.Location</th><th scope=col>Filming.State.Country</th><th scope=col>Vehicle.Country</th></tr></thead>\n",
       "<tbody>\n",
       "\t<tr><td>2018          </td><td>Bugatti       </td><td>Chiron        </td><td>9             </td><td>10            </td><td> 9            </td><td>10            </td><td>10            </td><td>48            </td><td>6             </td><td>5             </td><td>7             </td><td>1             </td><td>6             </td><td>25            </td><td>73            </td><td>35:06         </td><td>Toronto       </td><td>Ontario       </td><td>France        </td></tr>\n",
       "\t<tr><td>2018          </td><td>Mercedes-Benz </td><td>E63S AMG Wagon</td><td>7             </td><td> 9            </td><td> 6            </td><td> 7            </td><td> 6            </td><td>35            </td><td>9             </td><td>7             </td><td>7             </td><td>8             </td><td>6             </td><td>37            </td><td>72            </td><td>27:19         </td><td>Hunt Valley   </td><td>Maryland      </td><td>Germany       </td></tr>\n",
       "\t<tr><td>2015          </td><td>Porsche       </td><td>918 Spyder    </td><td>8             </td><td>10            </td><td>10            </td><td>10            </td><td>10            </td><td>48            </td><td>6             </td><td>3             </td><td>8             </td><td>1             </td><td>6             </td><td>24            </td><td>72            </td><td>29:49         </td><td>Franklin      </td><td>Tennessee     </td><td>Germany       </td></tr>\n",
       "\t<tr><td>2018          </td><td>Ferrari       </td><td>812 Superfast </td><td>8             </td><td>10            </td><td> 9            </td><td> 9            </td><td> 8            </td><td>44            </td><td>6             </td><td>5             </td><td>8             </td><td>3             </td><td>6             </td><td>28            </td><td>72            </td><td>25:18         </td><td>Los Angeles   </td><td>California    </td><td>Italy         </td></tr>\n",
       "\t<tr><td>2018          </td><td>Porsche       </td><td>911 GT2RS     </td><td>7             </td><td>10            </td><td>10            </td><td>10            </td><td> 9            </td><td>46            </td><td>6             </td><td>3             </td><td>8             </td><td>2             </td><td>6             </td><td>25            </td><td>71            </td><td>21:30         </td><td>Redwood City  </td><td>California    </td><td>Germany       </td></tr>\n",
       "\t<tr><td>2015          </td><td>Ferrari       </td><td>F12 Berlinetta</td><td>8             </td><td> 9            </td><td> 9            </td><td> 9            </td><td> 8            </td><td>43            </td><td>6             </td><td>5             </td><td>7             </td><td>3             </td><td>7             </td><td>28            </td><td>71            </td><td>20:00         </td><td>San Diego     </td><td>California    </td><td>Italy         </td></tr>\n",
       "</tbody>\n",
       "</table>\n"
      ],
      "text/latex": [
       "\\begin{tabular}{r|llllllllllllllllllll}\n",
       " Year & Make & Model & Styling & Acceleration & Handling & Fun.Factor & Cool.Factor & WTOTAL & Features & Comfort & Quality & Practicality & Value & DTOTAL & DOUGSCORE & Video.Length & Filming.Location & Filming.State.Country & Vehicle.Country\\\\\n",
       "\\hline\n",
       "\t 2018           & Bugatti        & Chiron         & 9              & 10             &  9             & 10             & 10             & 48             & 6              & 5              & 7              & 1              & 6              & 25             & 73             & 35:06          & Toronto        & Ontario        & France        \\\\\n",
       "\t 2018           & Mercedes-Benz  & E63S AMG Wagon & 7              &  9             &  6             &  7             &  6             & 35             & 9              & 7              & 7              & 8              & 6              & 37             & 72             & 27:19          & Hunt Valley    & Maryland       & Germany       \\\\\n",
       "\t 2015           & Porsche        & 918 Spyder     & 8              & 10             & 10             & 10             & 10             & 48             & 6              & 3              & 8              & 1              & 6              & 24             & 72             & 29:49          & Franklin       & Tennessee      & Germany       \\\\\n",
       "\t 2018           & Ferrari        & 812 Superfast  & 8              & 10             &  9             &  9             &  8             & 44             & 6              & 5              & 8              & 3              & 6              & 28             & 72             & 25:18          & Los Angeles    & California     & Italy         \\\\\n",
       "\t 2018           & Porsche        & 911 GT2RS      & 7              & 10             & 10             & 10             &  9             & 46             & 6              & 3              & 8              & 2              & 6              & 25             & 71             & 21:30          & Redwood City   & California     & Germany       \\\\\n",
       "\t 2015           & Ferrari        & F12 Berlinetta & 8              &  9             &  9             &  9             &  8             & 43             & 6              & 5              & 7              & 3              & 7              & 28             & 71             & 20:00          & San Diego      & California     & Italy         \\\\\n",
       "\\end{tabular}\n"
      ],
      "text/markdown": [
       "\n",
       "Year | Make | Model | Styling | Acceleration | Handling | Fun.Factor | Cool.Factor | WTOTAL | Features | Comfort | Quality | Practicality | Value | DTOTAL | DOUGSCORE | Video.Length | Filming.Location | Filming.State.Country | Vehicle.Country | \n",
       "|---|---|---|---|---|---|\n",
       "| 2018           | Bugatti        | Chiron         | 9              | 10             |  9             | 10             | 10             | 48             | 6              | 5              | 7              | 1              | 6              | 25             | 73             | 35:06          | Toronto        | Ontario        | France         | \n",
       "| 2018           | Mercedes-Benz  | E63S AMG Wagon | 7              |  9             |  6             |  7             |  6             | 35             | 9              | 7              | 7              | 8              | 6              | 37             | 72             | 27:19          | Hunt Valley    | Maryland       | Germany        | \n",
       "| 2015           | Porsche        | 918 Spyder     | 8              | 10             | 10             | 10             | 10             | 48             | 6              | 3              | 8              | 1              | 6              | 24             | 72             | 29:49          | Franklin       | Tennessee      | Germany        | \n",
       "| 2018           | Ferrari        | 812 Superfast  | 8              | 10             |  9             |  9             |  8             | 44             | 6              | 5              | 8              | 3              | 6              | 28             | 72             | 25:18          | Los Angeles    | California     | Italy          | \n",
       "| 2018           | Porsche        | 911 GT2RS      | 7              | 10             | 10             | 10             |  9             | 46             | 6              | 3              | 8              | 2              | 6              | 25             | 71             | 21:30          | Redwood City   | California     | Germany        | \n",
       "| 2015           | Ferrari        | F12 Berlinetta | 8              |  9             |  9             |  9             |  8             | 43             | 6              | 5              | 7              | 3              | 7              | 28             | 71             | 20:00          | San Diego      | California     | Italy          | \n",
       "\n",
       "\n"
      ],
      "text/plain": [
       "  Year Make          Model          Styling Acceleration Handling Fun.Factor\n",
       "1 2018 Bugatti       Chiron         9       10            9       10        \n",
       "2 2018 Mercedes-Benz E63S AMG Wagon 7        9            6        7        \n",
       "3 2015 Porsche       918 Spyder     8       10           10       10        \n",
       "4 2018 Ferrari       812 Superfast  8       10            9        9        \n",
       "5 2018 Porsche       911 GT2RS      7       10           10       10        \n",
       "6 2015 Ferrari       F12 Berlinetta 8        9            9        9        \n",
       "  Cool.Factor WTOTAL Features Comfort Quality Practicality Value DTOTAL\n",
       "1 10          48     6        5       7       1            6     25    \n",
       "2  6          35     9        7       7       8            6     37    \n",
       "3 10          48     6        3       8       1            6     24    \n",
       "4  8          44     6        5       8       3            6     28    \n",
       "5  9          46     6        3       8       2            6     25    \n",
       "6  8          43     6        5       7       3            7     28    \n",
       "  DOUGSCORE Video.Length Filming.Location Filming.State.Country Vehicle.Country\n",
       "1 73        35:06        Toronto          Ontario               France         \n",
       "2 72        27:19        Hunt Valley      Maryland              Germany        \n",
       "3 72        29:49        Franklin         Tennessee             Germany        \n",
       "4 72        25:18        Los Angeles      California            Italy          \n",
       "5 71        21:30        Redwood City     California            Germany        \n",
       "6 71        20:00        San Diego        California            Italy          "
      ]
     },
     "metadata": {},
     "output_type": "display_data"
    }
   ],
   "source": [
    "dscore_df <- read.table(\"doug_score.csv\", header = TRUE, sep = \",\")\n",
    "head(dscore_df)"
   ]
  },
  {
   "cell_type": "code",
   "execution_count": 23,
   "metadata": {},
   "outputs": [
    {
     "data": {
      "text/html": [
       "<table>\n",
       "<thead><tr><th></th><th scope=col>Year</th><th scope=col>Make</th><th scope=col>Model</th><th scope=col>Styling</th><th scope=col>Acceleration</th><th scope=col>Handling</th><th scope=col>Fun.Factor</th><th scope=col>Cool.Factor</th><th scope=col>WTOTAL</th><th scope=col>Features</th><th scope=col>Comfort</th><th scope=col>Quality</th><th scope=col>Practicality</th><th scope=col>Value</th><th scope=col>DTOTAL</th><th scope=col>DOUGSCORE</th><th scope=col>Filming.Location</th><th scope=col>Filming.State.Country</th><th scope=col>Vehicle.Country</th></tr></thead>\n",
       "<tbody>\n",
       "\t<tr><th scope=row>1</th><td>2018           </td><td>Mercedes-Benz  </td><td>E63S AMG Wagon </td><td>7              </td><td> 9             </td><td> 6             </td><td> 7             </td><td> 6             </td><td>35             </td><td>9              </td><td>7              </td><td>7              </td><td>8              </td><td>6              </td><td>37             </td><td>72             </td><td>Hunt Valley    </td><td>Maryland       </td><td>Germany        </td></tr>\n",
       "\t<tr><th scope=row>2</th><td>2015           </td><td>Porsche        </td><td>918 Spyder     </td><td>8              </td><td>10             </td><td>10             </td><td>10             </td><td>10             </td><td>48             </td><td>6              </td><td>3              </td><td>8              </td><td>1              </td><td>6              </td><td>24             </td><td>72             </td><td>Franklin       </td><td>Tennessee      </td><td>Germany        </td></tr>\n",
       "\t<tr><th scope=row>3</th><td>2018           </td><td>BMW            </td><td>M5             </td><td>7              </td><td>10             </td><td> 7             </td><td> 7             </td><td> 6             </td><td>37             </td><td>9              </td><td>7              </td><td>7              </td><td>5              </td><td>6              </td><td>34             </td><td>71             </td><td>Santa Ana      </td><td>California     </td><td>Germany        </td></tr>\n",
       "\t<tr><th scope=row>5</th><td>2005           </td><td>Porsche        </td><td>Carrera GT     </td><td>9              </td><td> 9             </td><td>10             </td><td>10             </td><td>10             </td><td>48             </td><td>3              </td><td>3              </td><td>9              </td><td>1              </td><td>7              </td><td>23             </td><td>71             </td><td>Beachwood      </td><td>Ohio           </td><td>Germany        </td></tr>\n",
       "\t<tr><th scope=row>7</th><td>2014           </td><td>Audi           </td><td>RS7            </td><td>7              </td><td> 8             </td><td> 6             </td><td> 7             </td><td> 6             </td><td>34             </td><td>7              </td><td>7              </td><td>8              </td><td>8              </td><td>6              </td><td>36             </td><td>70             </td><td>King of Prussia</td><td>Pennsylvania   </td><td>Germany        </td></tr>\n",
       "\t<tr><th scope=row>9</th><td>2018           </td><td>BMW            </td><td>M760i          </td><td>6              </td><td> 8             </td><td> 6             </td><td> 5             </td><td> 6             </td><td>31             </td><td>9              </td><td>9              </td><td>8              </td><td>6              </td><td>6              </td><td>38             </td><td>69             </td><td>Devon          </td><td>Pennsylvania   </td><td>Germany        </td></tr>\n",
       "</tbody>\n",
       "</table>\n"
      ],
      "text/latex": [
       "\\begin{tabular}{r|lllllllllllllllllll}\n",
       "  & Year & Make & Model & Styling & Acceleration & Handling & Fun.Factor & Cool.Factor & WTOTAL & Features & Comfort & Quality & Practicality & Value & DTOTAL & DOUGSCORE & Filming.Location & Filming.State.Country & Vehicle.Country\\\\\n",
       "\\hline\n",
       "\t1 & 2018            & Mercedes-Benz   & E63S AMG Wagon  & 7               &  9              &  6              &  7              &  6              & 35              & 9               & 7               & 7               & 8               & 6               & 37              & 72              & Hunt Valley     & Maryland        & Germany        \\\\\n",
       "\t2 & 2015            & Porsche         & 918 Spyder      & 8               & 10              & 10              & 10              & 10              & 48              & 6               & 3               & 8               & 1               & 6               & 24              & 72              & Franklin        & Tennessee       & Germany        \\\\\n",
       "\t3 & 2018            & BMW             & M5              & 7               & 10              &  7              &  7              &  6              & 37              & 9               & 7               & 7               & 5               & 6               & 34              & 71              & Santa Ana       & California      & Germany        \\\\\n",
       "\t5 & 2005            & Porsche         & Carrera GT      & 9               &  9              & 10              & 10              & 10              & 48              & 3               & 3               & 9               & 1               & 7               & 23              & 71              & Beachwood       & Ohio            & Germany        \\\\\n",
       "\t7 & 2014            & Audi            & RS7             & 7               &  8              &  6              &  7              &  6              & 34              & 7               & 7               & 8               & 8               & 6               & 36              & 70              & King of Prussia & Pennsylvania    & Germany        \\\\\n",
       "\t9 & 2018            & BMW             & M760i           & 6               &  8              &  6              &  5              &  6              & 31              & 9               & 9               & 8               & 6               & 6               & 38              & 69              & Devon           & Pennsylvania    & Germany        \\\\\n",
       "\\end{tabular}\n"
      ],
      "text/markdown": [
       "\n",
       "| <!--/--> | Year | Make | Model | Styling | Acceleration | Handling | Fun.Factor | Cool.Factor | WTOTAL | Features | Comfort | Quality | Practicality | Value | DTOTAL | DOUGSCORE | Filming.Location | Filming.State.Country | Vehicle.Country | \n",
       "|---|---|---|---|---|---|\n",
       "| 1 | 2018            | Mercedes-Benz   | E63S AMG Wagon  | 7               |  9              |  6              |  7              |  6              | 35              | 9               | 7               | 7               | 8               | 6               | 37              | 72              | Hunt Valley     | Maryland        | Germany         | \n",
       "| 2 | 2015            | Porsche         | 918 Spyder      | 8               | 10              | 10              | 10              | 10              | 48              | 6               | 3               | 8               | 1               | 6               | 24              | 72              | Franklin        | Tennessee       | Germany         | \n",
       "| 3 | 2018            | BMW             | M5              | 7               | 10              |  7              |  7              |  6              | 37              | 9               | 7               | 7               | 5               | 6               | 34              | 71              | Santa Ana       | California      | Germany         | \n",
       "| 5 | 2005            | Porsche         | Carrera GT      | 9               |  9              | 10              | 10              | 10              | 48              | 3               | 3               | 9               | 1               | 7               | 23              | 71              | Beachwood       | Ohio            | Germany         | \n",
       "| 7 | 2014            | Audi            | RS7             | 7               |  8              |  6              |  7              |  6              | 34              | 7               | 7               | 8               | 8               | 6               | 36              | 70              | King of Prussia | Pennsylvania    | Germany         | \n",
       "| 9 | 2018            | BMW             | M760i           | 6               |  8              |  6              |  5              |  6              | 31              | 9               | 9               | 8               | 6               | 6               | 38              | 69              | Devon           | Pennsylvania    | Germany         | \n",
       "\n",
       "\n"
      ],
      "text/plain": [
       "  Year Make          Model          Styling Acceleration Handling Fun.Factor\n",
       "1 2018 Mercedes-Benz E63S AMG Wagon 7        9            6        7        \n",
       "2 2015 Porsche       918 Spyder     8       10           10       10        \n",
       "3 2018 BMW           M5             7       10            7        7        \n",
       "5 2005 Porsche       Carrera GT     9        9           10       10        \n",
       "7 2014 Audi          RS7            7        8            6        7        \n",
       "9 2018 BMW           M760i          6        8            6        5        \n",
       "  Cool.Factor WTOTAL Features Comfort Quality Practicality Value DTOTAL\n",
       "1  6          35     9        7       7       8            6     37    \n",
       "2 10          48     6        3       8       1            6     24    \n",
       "3  6          37     9        7       7       5            6     34    \n",
       "5 10          48     3        3       9       1            7     23    \n",
       "7  6          34     7        7       8       8            6     36    \n",
       "9  6          31     9        9       8       6            6     38    \n",
       "  DOUGSCORE Filming.Location Filming.State.Country Vehicle.Country\n",
       "1 72        Hunt Valley      Maryland              Germany        \n",
       "2 72        Franklin         Tennessee             Germany        \n",
       "3 71        Santa Ana        California            Germany        \n",
       "5 71        Beachwood        Ohio                  Germany        \n",
       "7 70        King of Prussia  Pennsylvania          Germany        \n",
       "9 69        Devon            Pennsylvania          Germany        "
      ]
     },
     "metadata": {},
     "output_type": "display_data"
    }
   ],
   "source": [
    "ger_cars <- dscore_df[dscore_df$Vehicle.Country == \"Germany\",]\n",
    "head(ger_cars)"
   ]
  },
  {
   "cell_type": "code",
   "execution_count": 25,
   "metadata": {},
   "outputs": [
    {
     "data": {
      "text/html": [
       "<table>\n",
       "<thead><tr><th></th><th scope=col>Year</th><th scope=col>Make</th><th scope=col>Model</th><th scope=col>Styling</th><th scope=col>Acceleration</th><th scope=col>Handling</th><th scope=col>Fun.Factor</th><th scope=col>Cool.Factor</th><th scope=col>WTOTAL</th><th scope=col>Features</th><th scope=col>Comfort</th><th scope=col>Quality</th><th scope=col>Practicality</th><th scope=col>Value</th><th scope=col>DTOTAL</th><th scope=col>DOUGSCORE</th><th scope=col>Filming.Location</th><th scope=col>Filming.State.Country</th><th scope=col>Vehicle.Country</th></tr></thead>\n",
       "<tbody>\n",
       "\t<tr><th scope=row>4</th><td>2015         </td><td>Lamborghini  </td><td>Huracan      </td><td>8            </td><td>10           </td><td> 9           </td><td> 9           </td><td> 8           </td><td>44           </td><td>6            </td><td> 4           </td><td>8            </td><td>2            </td><td>7            </td><td>27           </td><td>71           </td><td>Alpharetta   </td><td>Georgia      </td><td>Italy        </td></tr>\n",
       "\t<tr><th scope=row>6</th><td>2016         </td><td>Ferrari      </td><td>488 Spider   </td><td>9            </td><td> 9           </td><td> 9           </td><td> 9           </td><td> 8           </td><td>44           </td><td>6            </td><td> 4           </td><td>8            </td><td>3            </td><td>6            </td><td>27           </td><td>71           </td><td>Colts Neck   </td><td>New Jersey   </td><td>Italy        </td></tr>\n",
       "\t<tr><th scope=row>8</th><td>2017         </td><td>McLaren      </td><td>720S         </td><td>8            </td><td>10           </td><td> 9           </td><td> 9           </td><td> 8           </td><td>44           </td><td>6            </td><td> 4           </td><td>7            </td><td>2            </td><td>6            </td><td>25           </td><td>69           </td><td>West Chester </td><td>Pennsylvania </td><td>UK           </td></tr>\n",
       "\t<tr><th scope=row>11</th><td>2017         </td><td>Ford         </td><td>GT           </td><td>8            </td><td>10           </td><td>10           </td><td>10           </td><td>10           </td><td>48           </td><td>5            </td><td> 2           </td><td>6            </td><td>1            </td><td>6            </td><td>20           </td><td>68           </td><td>Tooele       </td><td>Utah         </td><td>USA          </td></tr>\n",
       "\t<tr><th scope=row>12</th><td>2015         </td><td>McLaren      </td><td>650S         </td><td>7            </td><td>10           </td><td> 9           </td><td> 9           </td><td> 7           </td><td>42           </td><td>6            </td><td> 4           </td><td>6            </td><td>3            </td><td>7            </td><td>26           </td><td>68           </td><td>Tysons Corner</td><td>Virginia     </td><td>UK           </td></tr>\n",
       "\t<tr><th scope=row>14</th><td>2018         </td><td>Rolls-Royce  </td><td>Phantom      </td><td>6            </td><td> 5           </td><td> 5           </td><td> 6           </td><td> 8           </td><td>30           </td><td>9            </td><td>10           </td><td>9            </td><td>5            </td><td>5            </td><td>38           </td><td>68           </td><td>La Jolla     </td><td>California   </td><td>UK           </td></tr>\n",
       "</tbody>\n",
       "</table>\n"
      ],
      "text/latex": [
       "\\begin{tabular}{r|lllllllllllllllllll}\n",
       "  & Year & Make & Model & Styling & Acceleration & Handling & Fun.Factor & Cool.Factor & WTOTAL & Features & Comfort & Quality & Practicality & Value & DTOTAL & DOUGSCORE & Filming.Location & Filming.State.Country & Vehicle.Country\\\\\n",
       "\\hline\n",
       "\t4 & 2015          & Lamborghini   & Huracan       & 8             & 10            &  9            &  9            &  8            & 44            & 6             &  4            & 8             & 2             & 7             & 27            & 71            & Alpharetta    & Georgia       & Italy        \\\\\n",
       "\t6 & 2016          & Ferrari       & 488 Spider    & 9             &  9            &  9            &  9            &  8            & 44            & 6             &  4            & 8             & 3             & 6             & 27            & 71            & Colts Neck    & New Jersey    & Italy        \\\\\n",
       "\t8 & 2017          & McLaren       & 720S          & 8             & 10            &  9            &  9            &  8            & 44            & 6             &  4            & 7             & 2             & 6             & 25            & 69            & West Chester  & Pennsylvania  & UK           \\\\\n",
       "\t11 & 2017          & Ford          & GT            & 8             & 10            & 10            & 10            & 10            & 48            & 5             &  2            & 6             & 1             & 6             & 20            & 68            & Tooele        & Utah          & USA          \\\\\n",
       "\t12 & 2015          & McLaren       & 650S          & 7             & 10            &  9            &  9            &  7            & 42            & 6             &  4            & 6             & 3             & 7             & 26            & 68            & Tysons Corner & Virginia      & UK           \\\\\n",
       "\t14 & 2018          & Rolls-Royce   & Phantom       & 6             &  5            &  5            &  6            &  8            & 30            & 9             & 10            & 9             & 5             & 5             & 38            & 68            & La Jolla      & California    & UK           \\\\\n",
       "\\end{tabular}\n"
      ],
      "text/markdown": [
       "\n",
       "| <!--/--> | Year | Make | Model | Styling | Acceleration | Handling | Fun.Factor | Cool.Factor | WTOTAL | Features | Comfort | Quality | Practicality | Value | DTOTAL | DOUGSCORE | Filming.Location | Filming.State.Country | Vehicle.Country | \n",
       "|---|---|---|---|---|---|\n",
       "| 4 | 2015          | Lamborghini   | Huracan       | 8             | 10            |  9            |  9            |  8            | 44            | 6             |  4            | 8             | 2             | 7             | 27            | 71            | Alpharetta    | Georgia       | Italy         | \n",
       "| 6 | 2016          | Ferrari       | 488 Spider    | 9             |  9            |  9            |  9            |  8            | 44            | 6             |  4            | 8             | 3             | 6             | 27            | 71            | Colts Neck    | New Jersey    | Italy         | \n",
       "| 8 | 2017          | McLaren       | 720S          | 8             | 10            |  9            |  9            |  8            | 44            | 6             |  4            | 7             | 2             | 6             | 25            | 69            | West Chester  | Pennsylvania  | UK            | \n",
       "| 11 | 2017          | Ford          | GT            | 8             | 10            | 10            | 10            | 10            | 48            | 5             |  2            | 6             | 1             | 6             | 20            | 68            | Tooele        | Utah          | USA           | \n",
       "| 12 | 2015          | McLaren       | 650S          | 7             | 10            |  9            |  9            |  7            | 42            | 6             |  4            | 6             | 3             | 7             | 26            | 68            | Tysons Corner | Virginia      | UK            | \n",
       "| 14 | 2018          | Rolls-Royce   | Phantom       | 6             |  5            |  5            |  6            |  8            | 30            | 9             | 10            | 9             | 5             | 5             | 38            | 68            | La Jolla      | California    | UK            | \n",
       "\n",
       "\n"
      ],
      "text/plain": [
       "   Year Make        Model      Styling Acceleration Handling Fun.Factor\n",
       "4  2015 Lamborghini Huracan    8       10            9        9        \n",
       "6  2016 Ferrari     488 Spider 9        9            9        9        \n",
       "8  2017 McLaren     720S       8       10            9        9        \n",
       "11 2017 Ford        GT         8       10           10       10        \n",
       "12 2015 McLaren     650S       7       10            9        9        \n",
       "14 2018 Rolls-Royce Phantom    6        5            5        6        \n",
       "   Cool.Factor WTOTAL Features Comfort Quality Practicality Value DTOTAL\n",
       "4   8          44     6         4      8       2            7     27    \n",
       "6   8          44     6         4      8       3            6     27    \n",
       "8   8          44     6         4      7       2            6     25    \n",
       "11 10          48     5         2      6       1            6     20    \n",
       "12  7          42     6         4      6       3            7     26    \n",
       "14  8          30     9        10      9       5            5     38    \n",
       "   DOUGSCORE Filming.Location Filming.State.Country Vehicle.Country\n",
       "4  71        Alpharetta       Georgia               Italy          \n",
       "6  71        Colts Neck       New Jersey            Italy          \n",
       "8  69        West Chester     Pennsylvania          UK             \n",
       "11 68        Tooele           Utah                  USA            \n",
       "12 68        Tysons Corner    Virginia              UK             \n",
       "14 68        La Jolla         California            UK             "
      ]
     },
     "metadata": {},
     "output_type": "display_data"
    }
   ],
   "source": [
    "other_cars <- dscore_df[dscore_df$Vehicle.Country != \"Germany\",]\n",
    "head(other_cars)"
   ]
  },
  {
   "cell_type": "code",
   "execution_count": 36,
   "metadata": {},
   "outputs": [
    {
     "data": {
      "text/plain": [
       "\n",
       "\tWelch Two Sample t-test\n",
       "\n",
       "data:  ger_cars$WTOTAL and other_cars$WTOTAL\n",
       "t = 2.5677, df = 86.969, p-value = 0.005973\n",
       "alternative hypothesis: true difference in means is greater than 0\n",
       "95 percent confidence interval:\n",
       " 1.461165      Inf\n",
       "sample estimates:\n",
       "mean of x mean of y \n",
       "   32.225    28.080 \n"
      ]
     },
     "metadata": {},
     "output_type": "display_data"
    }
   ],
   "source": [
    "t.test(ger_cars$WTOTAL, other_cars$WTOTAL, alternative = \"greater\")"
   ]
  },
  {
   "cell_type": "markdown",
   "metadata": {},
   "source": [
    "## Crashes\n",
    "\n",
    "https://catalog.data.gov/dataset/motor-vehicle-crashes-vehicle-information-beginning-2009\n",
    "\n",
    "Attributes about each vehicle involved in a crash as reported to NYS DMV.\n",
    "\n",
    "https://www.kaggle.com/c/acquire-valued-shoppers-challenge/discussion/9507\n",
    "\n",
    "https://www.rdocumentation.org/packages/base/versions/3.5.1/topics/scan"
   ]
  },
  {
   "cell_type": "code",
   "execution_count": 5,
   "metadata": {},
   "outputs": [
    {
     "data": {
      "text/html": [
       "<table>\n",
       "<thead><tr><th scope=col>Year</th><th scope=col>Case.Vehicle.ID</th><th scope=col>Vehicle.Body.Type</th><th scope=col>Registration.Class</th><th scope=col>Action.Prior.to.Accident</th><th scope=col>Type...Axles.of.Truck.or.Bus</th><th scope=col>Direction.of.Travel</th><th scope=col>Fuel.Type</th><th scope=col>Vehicle.Year</th><th scope=col>State.of.Registration</th><th scope=col>Number.of.Occupants</th><th scope=col>Engine.Cylinders</th><th scope=col>Vehicle.Make</th><th scope=col>Contributing.Factor.1</th><th scope=col>Contributing.Factor.1.Description</th><th scope=col>Contributing.Factor.2</th><th scope=col>Contributing.Factor.2.Description</th><th scope=col>Event.Type</th><th scope=col>Partial.VIN</th></tr></thead>\n",
       "<tbody>\n",
       "\t<tr><td>2016                                        </td><td>13364291                                    </td><td>SUBURBAN                                    </td><td>PASSENGER OR SUBURBAN                       </td><td>Changing Lanes                              </td><td>Not Entered                                 </td><td>West                                        </td><td>Gas                                         </td><td>2012                                        </td><td>NY                                          </td><td>1                                           </td><td>4                                           </td><td>MINI                                        </td><td>HUMAN                                       </td><td>Unsafe Lane Changing                        </td><td>HUMAN                                       </td><td>Not Applicable                              </td><td>Not Applicable                              </td><td>WMWZC3C57CWL81108                           </td></tr>\n",
       "\t<tr><td>2016                                        </td><td>13364304                                    </td><td>PICKUP TRUCK                                </td><td>PASSENGER OR SUBURBAN                       </td><td>Going Straight Ahead                        </td><td>Not Entered                                 </td><td>East                                        </td><td>Gas                                         </td><td>2014                                        </td><td>NY                                          </td><td>2                                           </td><td>6                                           </td><td>CHEVR                                       </td><td>ENVMT                                       </td><td>Pavement Slippery                           </td><td>HUMAN                                       </td><td>Not Applicable                              </td><td>Not Applicable                              </td><td>3GCUKREH8EG196335                           </td></tr>\n",
       "\t<tr><td>2016                                        </td><td>13364305                                    </td><td>4 DOOR SEDAN                                </td><td>PASSENGER OR SUBURBAN                       </td><td>Going Straight Ahead                        </td><td>Not Entered                                 </td><td>North                                       </td><td>Gas                                         </td><td>2007                                        </td><td>NY                                          </td><td>1                                           </td><td>4                                           </td><td>HONDA                                       </td><td>ENVMT                                       </td><td>Pavement Slippery                           </td><td>HUMAN                                       </td><td>Not Applicable                              </td><td>Not Applicable                              </td><td>1HGCM56387A220086                           </td></tr>\n",
       "\t<tr><td>2016                                        </td><td>13364307                                    </td><td>SUBURBAN                                    </td><td>PASSENGER OR SUBURBAN                       </td><td>Going Straight Ahead                        </td><td>Not Entered                                 </td><td>North                                       </td><td>Gas                                         </td><td>2011                                        </td><td>NY                                          </td><td>4                                           </td><td>4                                           </td><td>CHEVR                                       </td><td>ENVMT                                       </td><td>Pavement Slippery                           </td><td>ENVMT                                       </td><td>Obstruction/ Debris                         </td><td>Unknown                                     </td><td>2CNFLCEC1B6362978                           </td></tr>\n",
       "\t<tr><td>2016                                        </td><td>13364306                                    </td><td>SUBURBAN                                    </td><td>PASSENGER OR SUBURBAN                       </td><td>Going Straight Ahead                        </td><td>Not Entered                                 </td><td>North                                       </td><td>Gas                                         </td><td>2004                                        </td><td>NY                                          </td><td>1                                           </td><td>6                                           </td><td>BUICK                                       </td><td>ENVMT                                       </td><td>Pavement Slippery                           </td><td>HUMAN                                       </td><td>Not Applicable                              </td><td>Snow Embankment, Collision With Fixed Object</td><td>3G5DA03E04S597761                           </td></tr>\n",
       "\t<tr><td>2016                                        </td><td>13364313                                    </td><td>4 DOOR SEDAN                                </td><td>PASSENGER OR SUBURBAN                       </td><td>Parked                                      </td><td>Not Entered                                 </td><td>North                                       </td><td>Gas                                         </td><td>2014                                        </td><td>NY                                          </td><td>0                                           </td><td>4                                           </td><td>BMW                                         </td><td>HUMAN                                       </td><td>Not Applicable                              </td><td>HUMAN                                       </td><td>Not Applicable                              </td><td>Not Applicable                              </td><td>WBA3B5C51EP543896                           </td></tr>\n",
       "</tbody>\n",
       "</table>\n"
      ],
      "text/latex": [
       "\\begin{tabular}{r|lllllllllllllllllll}\n",
       " Year & Case.Vehicle.ID & Vehicle.Body.Type & Registration.Class & Action.Prior.to.Accident & Type...Axles.of.Truck.or.Bus & Direction.of.Travel & Fuel.Type & Vehicle.Year & State.of.Registration & Number.of.Occupants & Engine.Cylinders & Vehicle.Make & Contributing.Factor.1 & Contributing.Factor.1.Description & Contributing.Factor.2 & Contributing.Factor.2.Description & Event.Type & Partial.VIN\\\\\n",
       "\\hline\n",
       "\t 2016                                         & 13364291                                     & SUBURBAN                                     & PASSENGER OR SUBURBAN                        & Changing Lanes                               & Not Entered                                  & West                                         & Gas                                          & 2012                                         & NY                                           & 1                                            & 4                                            & MINI                                         & HUMAN                                        & Unsafe Lane Changing                         & HUMAN                                        & Not Applicable                               & Not Applicable                               & WMWZC3C57CWL81108                           \\\\\n",
       "\t 2016                                         & 13364304                                     & PICKUP TRUCK                                 & PASSENGER OR SUBURBAN                        & Going Straight Ahead                         & Not Entered                                  & East                                         & Gas                                          & 2014                                         & NY                                           & 2                                            & 6                                            & CHEVR                                        & ENVMT                                        & Pavement Slippery                            & HUMAN                                        & Not Applicable                               & Not Applicable                               & 3GCUKREH8EG196335                           \\\\\n",
       "\t 2016                                         & 13364305                                     & 4 DOOR SEDAN                                 & PASSENGER OR SUBURBAN                        & Going Straight Ahead                         & Not Entered                                  & North                                        & Gas                                          & 2007                                         & NY                                           & 1                                            & 4                                            & HONDA                                        & ENVMT                                        & Pavement Slippery                            & HUMAN                                        & Not Applicable                               & Not Applicable                               & 1HGCM56387A220086                           \\\\\n",
       "\t 2016                                         & 13364307                                     & SUBURBAN                                     & PASSENGER OR SUBURBAN                        & Going Straight Ahead                         & Not Entered                                  & North                                        & Gas                                          & 2011                                         & NY                                           & 4                                            & 4                                            & CHEVR                                        & ENVMT                                        & Pavement Slippery                            & ENVMT                                        & Obstruction/ Debris                          & Unknown                                      & 2CNFLCEC1B6362978                           \\\\\n",
       "\t 2016                                         & 13364306                                     & SUBURBAN                                     & PASSENGER OR SUBURBAN                        & Going Straight Ahead                         & Not Entered                                  & North                                        & Gas                                          & 2004                                         & NY                                           & 1                                            & 6                                            & BUICK                                        & ENVMT                                        & Pavement Slippery                            & HUMAN                                        & Not Applicable                               & Snow Embankment, Collision With Fixed Object & 3G5DA03E04S597761                           \\\\\n",
       "\t 2016                                         & 13364313                                     & 4 DOOR SEDAN                                 & PASSENGER OR SUBURBAN                        & Parked                                       & Not Entered                                  & North                                        & Gas                                          & 2014                                         & NY                                           & 0                                            & 4                                            & BMW                                          & HUMAN                                        & Not Applicable                               & HUMAN                                        & Not Applicable                               & Not Applicable                               & WBA3B5C51EP543896                           \\\\\n",
       "\\end{tabular}\n"
      ],
      "text/markdown": [
       "\n",
       "Year | Case.Vehicle.ID | Vehicle.Body.Type | Registration.Class | Action.Prior.to.Accident | Type...Axles.of.Truck.or.Bus | Direction.of.Travel | Fuel.Type | Vehicle.Year | State.of.Registration | Number.of.Occupants | Engine.Cylinders | Vehicle.Make | Contributing.Factor.1 | Contributing.Factor.1.Description | Contributing.Factor.2 | Contributing.Factor.2.Description | Event.Type | Partial.VIN | \n",
       "|---|---|---|---|---|---|\n",
       "| 2016                                         | 13364291                                     | SUBURBAN                                     | PASSENGER OR SUBURBAN                        | Changing Lanes                               | Not Entered                                  | West                                         | Gas                                          | 2012                                         | NY                                           | 1                                            | 4                                            | MINI                                         | HUMAN                                        | Unsafe Lane Changing                         | HUMAN                                        | Not Applicable                               | Not Applicable                               | WMWZC3C57CWL81108                            | \n",
       "| 2016                                         | 13364304                                     | PICKUP TRUCK                                 | PASSENGER OR SUBURBAN                        | Going Straight Ahead                         | Not Entered                                  | East                                         | Gas                                          | 2014                                         | NY                                           | 2                                            | 6                                            | CHEVR                                        | ENVMT                                        | Pavement Slippery                            | HUMAN                                        | Not Applicable                               | Not Applicable                               | 3GCUKREH8EG196335                            | \n",
       "| 2016                                         | 13364305                                     | 4 DOOR SEDAN                                 | PASSENGER OR SUBURBAN                        | Going Straight Ahead                         | Not Entered                                  | North                                        | Gas                                          | 2007                                         | NY                                           | 1                                            | 4                                            | HONDA                                        | ENVMT                                        | Pavement Slippery                            | HUMAN                                        | Not Applicable                               | Not Applicable                               | 1HGCM56387A220086                            | \n",
       "| 2016                                         | 13364307                                     | SUBURBAN                                     | PASSENGER OR SUBURBAN                        | Going Straight Ahead                         | Not Entered                                  | North                                        | Gas                                          | 2011                                         | NY                                           | 4                                            | 4                                            | CHEVR                                        | ENVMT                                        | Pavement Slippery                            | ENVMT                                        | Obstruction/ Debris                          | Unknown                                      | 2CNFLCEC1B6362978                            | \n",
       "| 2016                                         | 13364306                                     | SUBURBAN                                     | PASSENGER OR SUBURBAN                        | Going Straight Ahead                         | Not Entered                                  | North                                        | Gas                                          | 2004                                         | NY                                           | 1                                            | 6                                            | BUICK                                        | ENVMT                                        | Pavement Slippery                            | HUMAN                                        | Not Applicable                               | Snow Embankment, Collision With Fixed Object | 3G5DA03E04S597761                            | \n",
       "| 2016                                         | 13364313                                     | 4 DOOR SEDAN                                 | PASSENGER OR SUBURBAN                        | Parked                                       | Not Entered                                  | North                                        | Gas                                          | 2014                                         | NY                                           | 0                                            | 4                                            | BMW                                          | HUMAN                                        | Not Applicable                               | HUMAN                                        | Not Applicable                               | Not Applicable                               | WBA3B5C51EP543896                            | \n",
       "\n",
       "\n"
      ],
      "text/plain": [
       "  Year Case.Vehicle.ID Vehicle.Body.Type Registration.Class   \n",
       "1 2016 13364291        SUBURBAN          PASSENGER OR SUBURBAN\n",
       "2 2016 13364304        PICKUP TRUCK      PASSENGER OR SUBURBAN\n",
       "3 2016 13364305        4 DOOR SEDAN      PASSENGER OR SUBURBAN\n",
       "4 2016 13364307        SUBURBAN          PASSENGER OR SUBURBAN\n",
       "5 2016 13364306        SUBURBAN          PASSENGER OR SUBURBAN\n",
       "6 2016 13364313        4 DOOR SEDAN      PASSENGER OR SUBURBAN\n",
       "  Action.Prior.to.Accident Type...Axles.of.Truck.or.Bus Direction.of.Travel\n",
       "1 Changing Lanes           Not Entered                  West               \n",
       "2 Going Straight Ahead     Not Entered                  East               \n",
       "3 Going Straight Ahead     Not Entered                  North              \n",
       "4 Going Straight Ahead     Not Entered                  North              \n",
       "5 Going Straight Ahead     Not Entered                  North              \n",
       "6 Parked                   Not Entered                  North              \n",
       "  Fuel.Type Vehicle.Year State.of.Registration Number.of.Occupants\n",
       "1 Gas       2012         NY                    1                  \n",
       "2 Gas       2014         NY                    2                  \n",
       "3 Gas       2007         NY                    1                  \n",
       "4 Gas       2011         NY                    4                  \n",
       "5 Gas       2004         NY                    1                  \n",
       "6 Gas       2014         NY                    0                  \n",
       "  Engine.Cylinders Vehicle.Make Contributing.Factor.1\n",
       "1 4                MINI         HUMAN                \n",
       "2 6                CHEVR        ENVMT                \n",
       "3 4                HONDA        ENVMT                \n",
       "4 4                CHEVR        ENVMT                \n",
       "5 6                BUICK        ENVMT                \n",
       "6 4                BMW          HUMAN                \n",
       "  Contributing.Factor.1.Description Contributing.Factor.2\n",
       "1 Unsafe Lane Changing              HUMAN                \n",
       "2 Pavement Slippery                 HUMAN                \n",
       "3 Pavement Slippery                 HUMAN                \n",
       "4 Pavement Slippery                 ENVMT                \n",
       "5 Pavement Slippery                 HUMAN                \n",
       "6 Not Applicable                    HUMAN                \n",
       "  Contributing.Factor.2.Description\n",
       "1 Not Applicable                   \n",
       "2 Not Applicable                   \n",
       "3 Not Applicable                   \n",
       "4 Obstruction/ Debris              \n",
       "5 Not Applicable                   \n",
       "6 Not Applicable                   \n",
       "  Event.Type                                   Partial.VIN      \n",
       "1 Not Applicable                               WMWZC3C57CWL81108\n",
       "2 Not Applicable                               3GCUKREH8EG196335\n",
       "3 Not Applicable                               1HGCM56387A220086\n",
       "4 Unknown                                      2CNFLCEC1B6362978\n",
       "5 Snow Embankment, Collision With Fixed Object 3G5DA03E04S597761\n",
       "6 Not Applicable                               WBA3B5C51EP543896"
      ]
     },
     "metadata": {},
     "output_type": "display_data"
    }
   ],
   "source": [
    "crashes_df <- read.table(\n",
    "    \"crashes.csv\"\n",
    "    , header = TRUE\n",
    "    , sep = \",\"\n",
    "    , quote = '\"'\n",
    "    , nrows = 100000\n",
    ")\n",
    "head(crashes_df)"
   ]
  },
  {
   "cell_type": "code",
   "execution_count": 14,
   "metadata": {},
   "outputs": [
    {
     "data": {
      "text/html": [
       "<ol class=list-inline>\n",
       "\t<li>''</li>\n",
       "\t<li>'Animal, Collision With'</li>\n",
       "\t<li>'Barrier, Collision With Fixed Object'</li>\n",
       "\t<li>'Bicyclist, Collision With'</li>\n",
       "\t<li>'Bridge Structure, Collision With Fixed Object'</li>\n",
       "\t<li>'Building/Wall, Collision With Fixed Object'</li>\n",
       "\t<li>'Crash Cushion, Collision With Fixed Object'</li>\n",
       "\t<li>'Culver/Head Wall, Collision With Fixed Object'</li>\n",
       "\t<li>'Curbing, Collision With Fixed Object'</li>\n",
       "\t<li>'Deer'</li>\n",
       "\t<li>'Earth Embankment/Rock Cut/Ditch, Collision With Fixed Object'</li>\n",
       "\t<li>'Fence, Collision With Fixed Object'</li>\n",
       "\t<li>'Fire Hydrant, Collision With Fixed Object'</li>\n",
       "\t<li>'Fire/Explosion, Non-Collision'</li>\n",
       "\t<li>'Guide Rail - End, Collision With Fixed Object'</li>\n",
       "\t<li>'Guide Rail - Not At End, Collision With Fixed Object'</li>\n",
       "\t<li>'In-Line Skater, Collision With'</li>\n",
       "\t<li>'Light Support/Utility Pole, Collision With Fixed Object'</li>\n",
       "\t<li>'Median - End, Collision With Fixed Object'</li>\n",
       "\t<li>'Median - Not At End, Collision With Fixed Object'</li>\n",
       "\t<li>'Not Applicable'</li>\n",
       "\t<li>'Not Entered'</li>\n",
       "\t<li>'Other Fixed Object*, Collision With Fixed Object'</li>\n",
       "\t<li>'Other Motor Vehicle, Collision With'</li>\n",
       "\t<li>'Other Object (Not Fixed)*, Collision With'</li>\n",
       "\t<li>'Other Pedestrian'</li>\n",
       "\t<li>'Other*, Non-Collision'</li>\n",
       "\t<li>'Overturned, Non-Collision'</li>\n",
       "\t<li>'Pedestrian, Collision With'</li>\n",
       "\t<li>'Railroad Train, Collision With'</li>\n",
       "\t<li>'Ran Off Roadway Only, Non-Collision'</li>\n",
       "\t<li>'Sign Post, Collision With Fixed Object'</li>\n",
       "\t<li>'Snow Embankment, Collision With Fixed Object'</li>\n",
       "\t<li>'Submersion, Non-Collision'</li>\n",
       "\t<li>'Tree, Collision With Fixed Object'</li>\n",
       "\t<li>'Unknown'</li>\n",
       "</ol>\n"
      ],
      "text/latex": [
       "\\begin{enumerate*}\n",
       "\\item ''\n",
       "\\item 'Animal, Collision With'\n",
       "\\item 'Barrier, Collision With Fixed Object'\n",
       "\\item 'Bicyclist, Collision With'\n",
       "\\item 'Bridge Structure, Collision With Fixed Object'\n",
       "\\item 'Building/Wall, Collision With Fixed Object'\n",
       "\\item 'Crash Cushion, Collision With Fixed Object'\n",
       "\\item 'Culver/Head Wall, Collision With Fixed Object'\n",
       "\\item 'Curbing, Collision With Fixed Object'\n",
       "\\item 'Deer'\n",
       "\\item 'Earth Embankment/Rock Cut/Ditch, Collision With Fixed Object'\n",
       "\\item 'Fence, Collision With Fixed Object'\n",
       "\\item 'Fire Hydrant, Collision With Fixed Object'\n",
       "\\item 'Fire/Explosion, Non-Collision'\n",
       "\\item 'Guide Rail - End, Collision With Fixed Object'\n",
       "\\item 'Guide Rail - Not At End, Collision With Fixed Object'\n",
       "\\item 'In-Line Skater, Collision With'\n",
       "\\item 'Light Support/Utility Pole, Collision With Fixed Object'\n",
       "\\item 'Median - End, Collision With Fixed Object'\n",
       "\\item 'Median - Not At End, Collision With Fixed Object'\n",
       "\\item 'Not Applicable'\n",
       "\\item 'Not Entered'\n",
       "\\item 'Other Fixed Object*, Collision With Fixed Object'\n",
       "\\item 'Other Motor Vehicle, Collision With'\n",
       "\\item 'Other Object (Not Fixed)*, Collision With'\n",
       "\\item 'Other Pedestrian'\n",
       "\\item 'Other*, Non-Collision'\n",
       "\\item 'Overturned, Non-Collision'\n",
       "\\item 'Pedestrian, Collision With'\n",
       "\\item 'Railroad Train, Collision With'\n",
       "\\item 'Ran Off Roadway Only, Non-Collision'\n",
       "\\item 'Sign Post, Collision With Fixed Object'\n",
       "\\item 'Snow Embankment, Collision With Fixed Object'\n",
       "\\item 'Submersion, Non-Collision'\n",
       "\\item 'Tree, Collision With Fixed Object'\n",
       "\\item 'Unknown'\n",
       "\\end{enumerate*}\n"
      ],
      "text/markdown": [
       "1. ''\n",
       "2. 'Animal, Collision With'\n",
       "3. 'Barrier, Collision With Fixed Object'\n",
       "4. 'Bicyclist, Collision With'\n",
       "5. 'Bridge Structure, Collision With Fixed Object'\n",
       "6. 'Building/Wall, Collision With Fixed Object'\n",
       "7. 'Crash Cushion, Collision With Fixed Object'\n",
       "8. 'Culver/Head Wall, Collision With Fixed Object'\n",
       "9. 'Curbing, Collision With Fixed Object'\n",
       "10. 'Deer'\n",
       "11. 'Earth Embankment/Rock Cut/Ditch, Collision With Fixed Object'\n",
       "12. 'Fence, Collision With Fixed Object'\n",
       "13. 'Fire Hydrant, Collision With Fixed Object'\n",
       "14. 'Fire/Explosion, Non-Collision'\n",
       "15. 'Guide Rail - End, Collision With Fixed Object'\n",
       "16. 'Guide Rail - Not At End, Collision With Fixed Object'\n",
       "17. 'In-Line Skater, Collision With'\n",
       "18. 'Light Support/Utility Pole, Collision With Fixed Object'\n",
       "19. 'Median - End, Collision With Fixed Object'\n",
       "20. 'Median - Not At End, Collision With Fixed Object'\n",
       "21. 'Not Applicable'\n",
       "22. 'Not Entered'\n",
       "23. 'Other Fixed Object*, Collision With Fixed Object'\n",
       "24. 'Other Motor Vehicle, Collision With'\n",
       "25. 'Other Object (Not Fixed)*, Collision With'\n",
       "26. 'Other Pedestrian'\n",
       "27. 'Other*, Non-Collision'\n",
       "28. 'Overturned, Non-Collision'\n",
       "29. 'Pedestrian, Collision With'\n",
       "30. 'Railroad Train, Collision With'\n",
       "31. 'Ran Off Roadway Only, Non-Collision'\n",
       "32. 'Sign Post, Collision With Fixed Object'\n",
       "33. 'Snow Embankment, Collision With Fixed Object'\n",
       "34. 'Submersion, Non-Collision'\n",
       "35. 'Tree, Collision With Fixed Object'\n",
       "36. 'Unknown'\n",
       "\n",
       "\n"
      ],
      "text/plain": [
       " [1] \"\"                                                            \n",
       " [2] \"Animal, Collision With\"                                      \n",
       " [3] \"Barrier, Collision With Fixed Object\"                        \n",
       " [4] \"Bicyclist, Collision With\"                                   \n",
       " [5] \"Bridge Structure, Collision With Fixed Object\"               \n",
       " [6] \"Building/Wall, Collision With Fixed Object\"                  \n",
       " [7] \"Crash Cushion, Collision With Fixed Object\"                  \n",
       " [8] \"Culver/Head Wall, Collision With Fixed Object\"               \n",
       " [9] \"Curbing, Collision With Fixed Object\"                        \n",
       "[10] \"Deer\"                                                        \n",
       "[11] \"Earth Embankment/Rock Cut/Ditch, Collision With Fixed Object\"\n",
       "[12] \"Fence, Collision With Fixed Object\"                          \n",
       "[13] \"Fire Hydrant, Collision With Fixed Object\"                   \n",
       "[14] \"Fire/Explosion, Non-Collision\"                               \n",
       "[15] \"Guide Rail - End, Collision With Fixed Object\"               \n",
       "[16] \"Guide Rail - Not At End, Collision With Fixed Object\"        \n",
       "[17] \"In-Line Skater, Collision With\"                              \n",
       "[18] \"Light Support/Utility Pole, Collision With Fixed Object\"     \n",
       "[19] \"Median - End, Collision With Fixed Object\"                   \n",
       "[20] \"Median - Not At End, Collision With Fixed Object\"            \n",
       "[21] \"Not Applicable\"                                              \n",
       "[22] \"Not Entered\"                                                 \n",
       "[23] \"Other Fixed Object*, Collision With Fixed Object\"            \n",
       "[24] \"Other Motor Vehicle, Collision With\"                         \n",
       "[25] \"Other Object (Not Fixed)*, Collision With\"                   \n",
       "[26] \"Other Pedestrian\"                                            \n",
       "[27] \"Other*, Non-Collision\"                                       \n",
       "[28] \"Overturned, Non-Collision\"                                   \n",
       "[29] \"Pedestrian, Collision With\"                                  \n",
       "[30] \"Railroad Train, Collision With\"                              \n",
       "[31] \"Ran Off Roadway Only, Non-Collision\"                         \n",
       "[32] \"Sign Post, Collision With Fixed Object\"                      \n",
       "[33] \"Snow Embankment, Collision With Fixed Object\"                \n",
       "[34] \"Submersion, Non-Collision\"                                   \n",
       "[35] \"Tree, Collision With Fixed Object\"                           \n",
       "[36] \"Unknown\"                                                     "
      ]
     },
     "metadata": {},
     "output_type": "display_data"
    }
   ],
   "source": [
    "sort(levels(crashes_df$Event.Type))"
   ]
  },
  {
   "cell_type": "markdown",
   "metadata": {},
   "source": [
    "https://www.rdocumentation.org/packages/parallel/versions/3.5.1/topics/clusterApply"
   ]
  },
  {
   "cell_type": "code",
   "execution_count": 22,
   "metadata": {},
   "outputs": [
    {
     "data": {
      "text/html": [
       "<table>\n",
       "<tbody>\n",
       "\t<tr><td>NA             </td><td>NA             </td><td>NA             </td><td>NA             </td><td>Snow Embankment</td><td>NA             </td><td>NA             </td><td>NA             </td><td>NA             </td><td>NA             </td><td>⋯              </td><td>Not Entered    </td><td>Not Entered    </td><td>Not Entered    </td><td>Not Entered    </td><td>Not Entered    </td><td>Not Entered    </td><td>Not Entered    </td><td>NA             </td><td>NA             </td><td>Overturned     </td></tr>\n",
       "\t<tr><td>NA                          </td><td>NA                          </td><td>NA                          </td><td>NA                          </td><td> Collision With Fixed Object</td><td>NA                          </td><td>NA                          </td><td>NA                          </td><td>NA                          </td><td>NA                          </td><td>⋯                           </td><td>NA                          </td><td>NA                          </td><td>NA                          </td><td>NA                          </td><td>NA                          </td><td>NA                          </td><td>NA                          </td><td>NA                          </td><td>NA                          </td><td> Non-Collision              </td></tr>\n",
       "</tbody>\n",
       "</table>\n"
      ],
      "text/markdown": [
       "\n",
       "| NA              | NA              | NA              | NA              | Snow Embankment | NA              | NA              | NA              | NA              | NA              | ⋯               | Not Entered     | Not Entered     | Not Entered     | Not Entered     | Not Entered     | Not Entered     | Not Entered     | NA              | NA              | Overturned      | \n",
       "| NA                           | NA                           | NA                           | NA                           |  Collision With Fixed Object | NA                           | NA                           | NA                           | NA                           | NA                           | ⋯                            | NA                           | NA                           | NA                           | NA                           | NA                           | NA                           | NA                           | NA                           | NA                           |  Non-Collision               | \n",
       "\n",
       "\n"
      ],
      "text/plain": [
       "     [,1] [,2] [,3] [,4] [,5]                         [,6] [,7] [,8] [,9] [,10]\n",
       "[1,] NA   NA   NA   NA   Snow Embankment              NA   NA   NA   NA   NA   \n",
       "[2,] NA   NA   NA   NA    Collision With Fixed Object NA   NA   NA   NA   NA   \n",
       "     [,11] [,12]       [,13]       [,14]       [,15]       [,16]      \n",
       "[1,] ⋯     Not Entered Not Entered Not Entered Not Entered Not Entered\n",
       "[2,] ⋯     NA          NA          NA          NA          NA         \n",
       "     [,17]       [,18]       [,19] [,20] [,21]         \n",
       "[1,] Not Entered Not Entered NA    NA    Overturned    \n",
       "[2,] NA          NA          NA    NA     Non-Collision"
      ]
     },
     "metadata": {},
     "output_type": "display_data"
    }
   ],
   "source": [
    "parse_event_type <- function(row, NA_strings = c(\",\", \"\", \"Unknown\", \"Not Applicable\")) {\n",
    "    row_split <- strsplit(as.character(row), \",\")[[1]]\n",
    "    object <- NA\n",
    "    event <- NA\n",
    "    if (length(row_split) == 2) {\n",
    "        object <- row_split[1]\n",
    "        event <- row_split[2]\n",
    "    } else if (length(row_split) == 1) {\n",
    "        object <- row_split[1]\n",
    "    }\n",
    "    \n",
    "    if (object %in% NA_strings) {\n",
    "        object <- NA\n",
    "    }\n",
    "    \n",
    "    return(list(\n",
    "        object\n",
    "        , event\n",
    "    ))\n",
    "} \n",
    "\n",
    "parsed_list <- sapply(crashes_df$Event.Type, parse_event_type)\n",
    "head(parsed_list)"
   ]
  },
  {
   "cell_type": "code",
   "execution_count": 36,
   "metadata": {},
   "outputs": [
    {
     "ename": "ERROR",
     "evalue": "Error in `colnames<-`(`*tmp*`, value = c(\"Object\", \"Event\")): length of 'dimnames' [2] not equal to array extent\n",
     "output_type": "error",
     "traceback": [
      "Error in `colnames<-`(`*tmp*`, value = c(\"Object\", \"Event\")): length of 'dimnames' [2] not equal to array extent\nTraceback:\n",
      "1. `colnames<-`(`*tmp*`, value = c(\"Object\", \"Event\"))"
     ]
    }
   ],
   "source": [
    "parsed_list_t <- t(parsed_list)\n",
    "colnames(parsed_list_t) <- c(\"Object\", \"Event\")\n",
    "head(parsed_list_t)"
   ]
  },
  {
   "cell_type": "code",
   "execution_count": null,
   "metadata": {},
   "outputs": [],
   "source": []
  }
 ],
 "metadata": {
  "kernelspec": {
   "display_name": "R",
   "language": "R",
   "name": "ir"
  },
  "language_info": {
   "codemirror_mode": "r",
   "file_extension": ".r",
   "mimetype": "text/x-r-source",
   "name": "R",
   "pygments_lexer": "r",
   "version": "3.5.1"
  },
  "toc": {
   "base_numbering": 1,
   "nav_menu": {},
   "number_sections": true,
   "sideBar": true,
   "skip_h1_title": true,
   "title_cell": "Table of Contents",
   "title_sidebar": "Contents",
   "toc_cell": true,
   "toc_position": {},
   "toc_section_display": true,
   "toc_window_display": false
  }
 },
 "nbformat": 4,
 "nbformat_minor": 2
}
