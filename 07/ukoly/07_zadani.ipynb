{
 "cells": [
  {
   "cell_type": "markdown",
   "metadata": {
    "toc": "true"
   },
   "source": [
    " # Table of Contents\n",
    "<div class=\"toc\" style=\"margin-top: 1em;\"><ul class=\"toc-item\" id=\"toc-level0\"><li><span><a href=\"http://localhost:8888/notebooks/07/ukoly/07_zadani.ipynb#Plnící-stroj\" data-toc-modified-id=\"Plnící-stroj-1\"><span class=\"toc-item-num\">1&nbsp;&nbsp;</span>Plnící stroj</a></span></li></ul></div>"
   ]
  },
  {
   "cell_type": "markdown",
   "metadata": {},
   "source": [
    "# Úkoly\n",
    "\n",
    "K vypracování těchto úkolů budete potřebovat některé základní znalosti z předchozích lekcí, ale především ty z této lekce.\n",
    "\n",
    "## Plnící stroj\n",
    "\n",
    "Ve vašem rodinném pivovaru máte prastarý plnící stroj lahví a chcete zjistit, jak přesně tento starý vrak vlastně lahve plní. Za tímto účelem jste po naplnění 20 lahví změřili objem jejich obsahu. Stanovte na základě vašich měření očekávaný rozsah objemů vašich piv s pravděpodobností 99%. Vaše data najdete v souboru [`plnici_stroj.csv`](plnici_stroj.csv). Údaje jsou v ml."
   ]
  },
  {
   "cell_type": "code",
   "execution_count": null,
   "metadata": {
    "collapsed": true
   },
   "outputs": [],
   "source": []
  }
 ],
 "metadata": {
  "kernelspec": {
   "display_name": "R",
   "language": "R",
   "name": "ir"
  },
  "language_info": {
   "codemirror_mode": "r",
   "file_extension": ".r",
   "mimetype": "text/x-r-source",
   "name": "R",
   "pygments_lexer": "r",
   "version": "3.3.2"
  },
  "toc": {
   "nav_menu": {},
   "number_sections": true,
   "sideBar": true,
   "skip_h1_title": true,
   "toc_cell": true,
   "toc_position": {},
   "toc_section_display": "block",
   "toc_window_display": false
  }
 },
 "nbformat": 4,
 "nbformat_minor": 2
}
