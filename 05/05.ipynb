{
 "cells": [
  {
   "cell_type": "markdown",
   "metadata": {
    "toc": "true"
   },
   "source": [
    " # Table of Contents\n",
    "<div class=\"toc\" style=\"margin-top: 1em;\"><ul class=\"toc-item\" id=\"toc-level0\"><li><span><a href=\"http://localhost:8888/notebooks/05/05.ipynb#Načítání-dat-ze-souboru\" data-toc-modified-id=\"Načítání-dat-ze-souboru-1\"><span class=\"toc-item-num\">1&nbsp;&nbsp;</span>Načítání dat ze souboru</a></span></li><li><span><a href=\"http://localhost:8888/notebooks/05/05.ipynb#Ukládání-dat-do-souboru\" data-toc-modified-id=\"Ukládání-dat-do-souboru-2\"><span class=\"toc-item-num\">2&nbsp;&nbsp;</span>Ukládání dat do souboru</a></span></li><li><span><a href=\"http://localhost:8888/notebooks/05/05.ipynb#Funkce-apply,-lapply-a-sapply\" data-toc-modified-id=\"Funkce-apply,-lapply-a-sapply-3\"><span class=\"toc-item-num\">3&nbsp;&nbsp;</span>Funkce <code>apply</code>, <code>lapply</code> a <code>sapply</code></a></span><ul class=\"toc-item\"><li><span><a href=\"http://localhost:8888/notebooks/05/05.ipynb#apply\" data-toc-modified-id=\"apply-3.1\"><span class=\"toc-item-num\">3.1&nbsp;&nbsp;</span><code>apply</code></a></span></li><li><span><a href=\"http://localhost:8888/notebooks/05/05.ipynb#lapply\" data-toc-modified-id=\"lapply-3.2\"><span class=\"toc-item-num\">3.2&nbsp;&nbsp;</span><code>lapply</code></a></span><ul class=\"toc-item\"><li><span><a href=\"http://localhost:8888/notebooks/05/05.ipynb#sapply\" data-toc-modified-id=\"sapply-3.2.1\"><span class=\"toc-item-num\">3.2.1&nbsp;&nbsp;</span><code>sapply</code></a></span></li></ul></li></ul></li><li><span><a href=\"http://localhost:8888/notebooks/05/05.ipynb#Funkce-pro-použití-s-faktory-(tapply,-by,-split,-aggregate-a-cut)\" data-toc-modified-id=\"Funkce-pro-použití-s-faktory-(tapply,-by,-split,-aggregate-a-cut)-4\"><span class=\"toc-item-num\">4&nbsp;&nbsp;</span>Funkce pro použití s faktory (<code>tapply</code>, <code>by</code>, <code>split</code>, <code>aggregate</code> a <code>cut</code>)</a></span><ul class=\"toc-item\"><li><span><a href=\"http://localhost:8888/notebooks/05/05.ipynb#tapply\" data-toc-modified-id=\"tapply-4.1\"><span class=\"toc-item-num\">4.1&nbsp;&nbsp;</span><code>tapply</code></a></span></li><li><span><a href=\"http://localhost:8888/notebooks/05/05.ipynb#by\" data-toc-modified-id=\"by-4.2\"><span class=\"toc-item-num\">4.2&nbsp;&nbsp;</span><code>by</code></a></span></li><li><span><a href=\"http://localhost:8888/notebooks/05/05.ipynb#split\" data-toc-modified-id=\"split-4.3\"><span class=\"toc-item-num\">4.3&nbsp;&nbsp;</span><code>split</code></a></span></li><li><span><a href=\"http://localhost:8888/notebooks/05/05.ipynb#aggregate\" data-toc-modified-id=\"aggregate-4.4\"><span class=\"toc-item-num\">4.4&nbsp;&nbsp;</span><code>aggregate</code></a></span></li><li><span><a href=\"http://localhost:8888/notebooks/05/05.ipynb#cut\" data-toc-modified-id=\"cut-4.5\"><span class=\"toc-item-num\">4.5&nbsp;&nbsp;</span><code>cut</code></a></span></li></ul></li><li><span><a href=\"http://localhost:8888/notebooks/05/05.ipynb#Funkce-Map,-Reduce-a-Filter\" data-toc-modified-id=\"Funkce-Map,-Reduce-a-Filter-5\"><span class=\"toc-item-num\">5&nbsp;&nbsp;</span>Funkce <code>Map</code>, <code>Reduce</code> a <code>Filter</code></a></span><ul class=\"toc-item\"><li><span><a href=\"http://localhost:8888/notebooks/05/05.ipynb#Map\" data-toc-modified-id=\"Map-5.1\"><span class=\"toc-item-num\">5.1&nbsp;&nbsp;</span><code>Map</code></a></span></li><li><span><a href=\"http://localhost:8888/notebooks/05/05.ipynb#Reduce\" data-toc-modified-id=\"Reduce-5.2\"><span class=\"toc-item-num\">5.2&nbsp;&nbsp;</span>Reduce</a></span></li><li><span><a href=\"http://localhost:8888/notebooks/05/05.ipynb#Filter\" data-toc-modified-id=\"Filter-5.3\"><span class=\"toc-item-num\">5.3&nbsp;&nbsp;</span>Filter</a></span></li></ul></li></ul></div>"
   ]
  },
  {
   "cell_type": "markdown",
   "metadata": {},
   "source": [
    "# Manipulace dat\n",
    "\n",
    "V předchozích dvou lekcích jsme si ukázali [základní principy programování v R](../03/) a [hlavní datové struktury](../04/). Nyní si ukážeme jak tyto dvě lekce propojit a využít tyto znalosti k jednoduché analýze datového souboru. Využijeme k tomu nejrůznějších principů, které už známe, a ukážeme si několik nových funkcí, které se v R při práci a analýze dat často používají.\n",
    "\n",
    "## Načítání dat ze souboru\n",
    "\n",
    "Data většinou nebudete do tabulek a matic vkládat manuálně ale z externích zdrojů, kterými mohou být internetové stránky, nejrůznější databáze nebo obyčejné textové soubory. V R existuje mnoho možností, kterými lze data snadno získat z mnoha zdrojů. My jsme si zatím ukázali jak jednoduše přistupovat k testovacím datovým množinám, které jsou v R přístupné přímo jako proměnné (např. `volcano` nebo `mtcars`). Nejčastěji ale budete jako uživatel chtít načíst do R vlastní data a to ve formě textových souborů. V této lekci si tedy ukážeme jak na to.\n",
    "\n",
    "V adresáři s touto lekcí se nachází dva soubory `ufocase.info` a `ufocase.bat`. Soubor `ufocase.info` obsahuje popis jedné z [volně dostupných datových množin](http://www.stat.ufl.edu/~winner/datasets.html) na stránkách Larryho Winnera z University of Florida. Tento soubor vypadá následovně:\n",
    "\n",
    "```\n",
    "Dataset:  ufocase.dat\n",
    "\n",
    "Source:  www.ufocasebook.com\n",
    "\n",
    "Description:  UFO/Alien Cases, including categorical outcomes:\n",
    "Presence/Absence of physical effects, multimedia (picture/video),\n",
    "ET contact, and abduction.\n",
    "\n",
    "Variable/Columns\n",
    "\n",
    "Year 1-4 \n",
    "Name of sighting/event  7-56\n",
    "Location   60-72\n",
    "Physical effects 75   /* 1=Yes, 0=No  */\n",
    "Multimedia  79  /*  1=Yes, 0=No  */\n",
    "ET contact   83  /* 1=Yes, 0=No  */\n",
    "Abduction   87   /*  1=Yes, 0=No  */\n",
    "```\n",
    "\n",
    "Soubor `ufocase.bat` pak obsahuje samotná data a jeho prvních pět řádků vypadá následovně:\n",
    "\n",
    "```\n",
    "1865  The Great Airships                                   USA            1   0   1  0\n",
    "1878  Denison, Texas Daylight UFO                          USA            0   0   0  0\n",
    "1897  The Aurora, Texas Crash                              USA            1   0   1  0\n",
    "1930  Alien Picture from Alaska                            Alaska         0   1   1  0\n",
    "1937  Discovery of the Dropa Discs                         China          0   0   0  0\n",
    "```\n",
    "\n",
    "Z popisku a samotných dat tedy vidíme, že se jedná o záznamy pozorování neidentifikovatelných létajících objektů (UFOs) na různých místech. K dispozici jsou ke každému případu informace o roku (`Year`), kdy k událostem došlo, písemný popisek události `Name of sighting/event`, název lokace (`Location`), kde k pozorování došlo a informace o tom, zda během pozorování došlo k nějakým fyzickým projevům (`Physical effects`), zda jsou k dispozici multimediální nahrávky z události (`Multimedia`), zda došlo ke kontaktu (`ET contact`) a zda došlo přímo k unesení mimozemšťanem (`Abduction`).\n",
    "\n",
    "Soubor nás svojí strukturou tedy přímo vybízí k tomu, abychom z něj vytvořili `data.frame` a nějakým způsobem data analyzovali. Má to ovšem háček. Pro nás je struktura dokumentu sice jasná, ale jak to říci našemu programu? Jednotlivé sloupce jsou totiž od sebe oddělená v podstatě libovolným počtem mezer. Situaci navíc ještě komplikuje druhý sloupec s popisem události, který má mezery mezi slovy. Pojďme si tedy napsat program, který tento soubor nejprve zanalyzuje řádku po řádce a pokusí se na základě jednoduchého pravidla rozlišit záznamy z jendotlivých sloupců.\n",
    "\n",
    "Načtení souboru v R probíhá následovně. Nejprve je třeba vytvořit připojení k souboru, ze kterého budeme jednotlivé řádky číst:"
   ]
  },
  {
   "cell_type": "code",
   "execution_count": 1,
   "metadata": {
    "collapsed": true
   },
   "outputs": [],
   "source": [
    "connection  <- file(\"ufocase.dat\", open = \"r\")"
   ]
  },
  {
   "cell_type": "markdown",
   "metadata": {},
   "source": [
    "Tímto způsobem tedy řekneme, že chceme orevřít soubor z daného umístění a budeme jej pouze číst (`open = \"r\"`). Funkce `file` umožňuje krom souborů na disku otevírat soubory i z dalších umístění a podporuje i některé běžné kompresní formáty (viz nápověda, `help(file)`). Proměnnou jsme si nazvali `connection`, protože se po technické stránce jedná o otevření připojení k určitému proudu dat, který budeme postupně číst.\n",
    "\n",
    "Soubor máme takto tedy připravený pro čtení. V našem případě chceme soubor číst řádku po řádce, k čemuž slouží v R funkce `readlines`, které dáme k dispozici naše připojení a počet řádek, který chceme naráz ze souboru načíst:"
   ]
  },
  {
   "cell_type": "code",
   "execution_count": 2,
   "metadata": {},
   "outputs": [
    {
     "data": {
      "text/html": [
       "<ol class=list-inline>\n",
       "\t<li><span style=white-space:pre-wrap>'1865  The Great Airships                                   USA            1   0   1   0'</span></li>\n",
       "\t<li><span style=white-space:pre-wrap>'1878  Denison, Texas Daylight UFO                          USA            0   0   0   0'</span></li>\n",
       "\t<li><span style=white-space:pre-wrap>'1897  The Aurora, Texas Crash                              USA            1   0   1   0'</span></li>\n",
       "\t<li><span style=white-space:pre-wrap>'1930  Alien Picture from Alaska                            Alaska         0   1   1   0'</span></li>\n",
       "\t<li><span style=white-space:pre-wrap>'1937  Discovery of the Dropa Discs                         China          0   0   0   0'</span></li>\n",
       "</ol>\n"
      ],
      "text/latex": [
       "\\begin{enumerate*}\n",
       "\\item '1865  The Great Airships                                   USA            1   0   1   0'\n",
       "\\item '1878  Denison, Texas Daylight UFO                          USA            0   0   0   0'\n",
       "\\item '1897  The Aurora, Texas Crash                              USA            1   0   1   0'\n",
       "\\item '1930  Alien Picture from Alaska                            Alaska         0   1   1   0'\n",
       "\\item '1937  Discovery of the Dropa Discs                         China          0   0   0   0'\n",
       "\\end{enumerate*}\n"
      ],
      "text/markdown": [
       "1. <span style=white-space:pre-wrap>'1865  The Great Airships                                   USA            1   0   1   0'</span>\n",
       "2. <span style=white-space:pre-wrap>'1878  Denison, Texas Daylight UFO                          USA            0   0   0   0'</span>\n",
       "3. <span style=white-space:pre-wrap>'1897  The Aurora, Texas Crash                              USA            1   0   1   0'</span>\n",
       "4. <span style=white-space:pre-wrap>'1930  Alien Picture from Alaska                            Alaska         0   1   1   0'</span>\n",
       "5. <span style=white-space:pre-wrap>'1937  Discovery of the Dropa Discs                         China          0   0   0   0'</span>\n",
       "\n",
       "\n"
      ],
      "text/plain": [
       "[1] \"1865  The Great Airships                                   USA            1   0   1   0\"\n",
       "[2] \"1878  Denison, Texas Daylight UFO                          USA            0   0   0   0\"\n",
       "[3] \"1897  The Aurora, Texas Crash                              USA            1   0   1   0\"\n",
       "[4] \"1930  Alien Picture from Alaska                            Alaska         0   1   1   0\"\n",
       "[5] \"1937  Discovery of the Dropa Discs                         China          0   0   0   0\""
      ]
     },
     "metadata": {},
     "output_type": "display_data"
    }
   ],
   "source": [
    "readLines(connection, n = 5)"
   ]
  },
  {
   "cell_type": "markdown",
   "metadata": {},
   "source": [
    "Toto je tedy prvních pět řádek souboru jako seznam. Zde je dalších pět:"
   ]
  },
  {
   "cell_type": "code",
   "execution_count": 3,
   "metadata": {},
   "outputs": [
    {
     "data": {
      "text/html": [
       "<ol class=list-inline>\n",
       "\t<li><span style=white-space:pre-wrap>'1939  Alien Bodies Confirmed (Cordell Hull)                USA            0   0   1   0'</span></li>\n",
       "\t<li><span style=white-space:pre-wrap>'1941  Missouri Crash &amp; Retrieval                           USA            1   1   1   0'</span></li>\n",
       "\t<li><span style=white-space:pre-wrap>'1942  The Battle of Los Angeles                            USA            1   1   0   0'</span></li>\n",
       "\t<li><span style=white-space:pre-wrap>'1944  World War II Foo-Fighters                            Europe         0   1   0   0'</span></li>\n",
       "\t<li><span style=white-space:pre-wrap>'1945  Lt. Gorman Chases a UFO                              USA            0   0   0   0'</span></li>\n",
       "</ol>\n"
      ],
      "text/latex": [
       "\\begin{enumerate*}\n",
       "\\item '1939  Alien Bodies Confirmed (Cordell Hull)                USA            0   0   1   0'\n",
       "\\item '1941  Missouri Crash \\& Retrieval                           USA            1   1   1   0'\n",
       "\\item '1942  The Battle of Los Angeles                            USA            1   1   0   0'\n",
       "\\item '1944  World War II Foo-Fighters                            Europe         0   1   0   0'\n",
       "\\item '1945  Lt. Gorman Chases a UFO                              USA            0   0   0   0'\n",
       "\\end{enumerate*}\n"
      ],
      "text/markdown": [
       "1. <span style=white-space:pre-wrap>'1939  Alien Bodies Confirmed (Cordell Hull)                USA            0   0   1   0'</span>\n",
       "2. <span style=white-space:pre-wrap>'1941  Missouri Crash &amp; Retrieval                           USA            1   1   1   0'</span>\n",
       "3. <span style=white-space:pre-wrap>'1942  The Battle of Los Angeles                            USA            1   1   0   0'</span>\n",
       "4. <span style=white-space:pre-wrap>'1944  World War II Foo-Fighters                            Europe         0   1   0   0'</span>\n",
       "5. <span style=white-space:pre-wrap>'1945  Lt. Gorman Chases a UFO                              USA            0   0   0   0'</span>\n",
       "\n",
       "\n"
      ],
      "text/plain": [
       "[1] \"1939  Alien Bodies Confirmed (Cordell Hull)                USA            0   0   1   0\"\n",
       "[2] \"1941  Missouri Crash & Retrieval                           USA            1   1   1   0\"\n",
       "[3] \"1942  The Battle of Los Angeles                            USA            1   1   0   0\"\n",
       "[4] \"1944  World War II Foo-Fighters                            Europe         0   1   0   0\"\n",
       "[5] \"1945  Lt. Gorman Chases a UFO                              USA            0   0   0   0\""
      ]
     },
     "metadata": {},
     "output_type": "display_data"
    }
   ],
   "source": [
    "readLines(connection, n = 5)"
   ]
  },
  {
   "cell_type": "markdown",
   "metadata": {},
   "source": [
    "Všimněte si, že funkce `readLines` vrací pokaždé další a další řádky. Je to tím, že objekt, který se skrývá pod proměnnou `connection`, si udržuje svůj vnitřní stav a při každém zavolání začne vracet data od té části souboru, kde dříve skončil. \n",
    "\n",
    "Když už připojení nepotřebujeme měli bychom ho uzavřít:"
   ]
  },
  {
   "cell_type": "code",
   "execution_count": 4,
   "metadata": {
    "collapsed": true
   },
   "outputs": [],
   "source": [
    "close(connection)"
   ]
  },
  {
   "cell_type": "markdown",
   "metadata": {},
   "source": [
    "Tak zajistíme, že se připojení uzavře a není z něj již možné dál číst:"
   ]
  },
  {
   "cell_type": "code",
   "execution_count": 5,
   "metadata": {},
   "outputs": [
    {
     "ename": "ERROR",
     "evalue": "Error in readLines(connection, n = 5): invalid connection\n",
     "output_type": "error",
     "traceback": [
      "Error in readLines(connection, n = 5): invalid connection\nTraceback:\n",
      "1. readLines(connection, n = 5)"
     ]
    }
   ],
   "source": [
    "readLines(connection, n = 5)"
   ]
  },
  {
   "cell_type": "markdown",
   "metadata": {},
   "source": [
    "Pokud chceme program znovu načíst, musíme tedy připojení znovu vytvořit:"
   ]
  },
  {
   "cell_type": "code",
   "execution_count": 6,
   "metadata": {
    "collapsed": true
   },
   "outputs": [],
   "source": [
    "connection <- file(\"ufocase.dat\", open = \"r\")"
   ]
  },
  {
   "cell_type": "markdown",
   "metadata": {},
   "source": [
    "Přistupme teď tedy již k samotné analýze souboru. Jelikož nevíme, kolik má soubor řádek musíme použít cyklus `while` nebo `repeat`. My zde použijeme cyklus `repeat`, který v tomto případě umožňuje použít o něco čitelnější kód:"
   ]
  },
  {
   "cell_type": "code",
   "execution_count": 7,
   "metadata": {},
   "outputs": [
    {
     "name": "stdout",
     "output_type": "stream",
     "text": [
      "[1] \"1865  The Great Airships                                   USA            1   0   1   0\"\n",
      "[1] \"1878  Denison, Texas Daylight UFO                          USA            0   0   0   0\"\n",
      "[1] \"1897  The Aurora, Texas Crash                              USA            1   0   1   0\"\n",
      "[1] \"1930  Alien Picture from Alaska                            Alaska         0   1   1   0\"\n",
      "[1] \"1937  Discovery of the Dropa Discs                         China          0   0   0   0\"\n",
      "[1] \"1939  Alien Bodies Confirmed (Cordell Hull)                USA            0   0   1   0\"\n",
      "[1] \"1941  Missouri Crash & Retrieval                           USA            1   1   1   0\"\n",
      "[1] \"1942  The Battle of Los Angeles                            USA            1   1   0   0\"\n",
      "[1] \"1944  World War II Foo-Fighters                            Europe         0   1   0   0\"\n",
      "[1] \"1945  Lt. Gorman Chases a UFO                              USA            0   0   0   0\"\n",
      "[1] \"1947  The Kenneth Arnold Sighting                          USA            0   0   0   0\"\n",
      "[1] \"1947  Malta, Alien Entities Seen on Watercraft             Malta          0   0   1   0\"\n",
      "[1] \"1947  Pilot Sees Six UFOs, Morristown, NJ                  USA            1   1   0   0\"\n",
      "[1] \"1947  The Roswell, New Mexico Crash                        USA            1   1   1   0\"\n",
      "[1] \"1948  The Death of Thomas Mantell                          USA            0   0   0   0\"\n",
      "[1] \"1948  The Aztec, New Mexico Crash                          USA            1   0   0   0\"\n",
      "[1] \"1948  The Chiles-Whitted Sighting                          USA            1   0   0   0\"\n",
      "[1] \"1949  Norwood, Ohio Searchlight Incident                   USA            0   1   0   0\"\n",
      "[1] \"1950  Dr. Botta Enters Flying Saucer                       S Amer         1   0   1   0\"\n",
      "[1] \"1950  The Trent UFO Photographs                            USA            0   1   0   0\"\n",
      "[1] \"1950  The Great Falls, Montana Film                        USA            0   1   0   0\"\n",
      "[1] \"1951  Gander, Newfoundland UFO Case                        Canada         1   0   0   0\"\n",
      "[1] \"1951  The White Sands, NM Radar Case                       USA            1   0   0   0\"\n",
      "[1] \"1951  The Lubbock, Texas Lights                            USA            0   1   0   0\"\n",
      "[1] \"1951  The Fort Monmouth UFO Incident                       USA            1   0   0   0\"\n",
      "[1] \"1952  San Jose, CA Scientist Reports Disc                  USA            1   0   0   0\"\n",
      "[1] \"1952  Nash-Fortenberry UFO Sighting                        USA            1   0   0   0\"\n",
      "[1] \"1952  The Tremonton, Utah Color Film                       USA            0   1   0   0\"\n",
      "[1] \"1952  Customs Inspector films large UFO                    Peru           1   1   0   0\"\n",
      "[1] \"1952  Washington, D. C. Sightings                          USA            0   1   0   0\"\n",
      "[1] \"1952  Coast Guard UFO Photograph                           USA            0   1   0   0\"\n",
      "[1] \"1952  Australian Seafury Incident                          Australia      1   0   0   0\"\n",
      "[1] \"1952  The Florida Scoutmaster Encounter                    USA            1   0   0   0\"\n",
      "[1] \"1952  Navy aviators encounter UFO                          Gnland         0   0   0   0\"\n",
      "[1] \"1952  The Operation Mainbrace Sightings                    Den/Nor        0   0   0   0\"\n",
      "[1] \"1952  The Flatwoods, Virginia Entity                       USA            1   0   0   0\"\n",
      "[1] \"1952  Gulf of Mexico UFO Encounter                         G/Mexico       0   0   0   0\"\n",
      "[1] \"1953  The Arizona UFO Crash                                USA            1   0   1   0\"\n",
      "[1] \"1953  The Ellworth Air Force Base Incident                 USA            0   0   0   0\"\n",
      "[1] \"1953  The Tom Drury UFO Footage                            N Guinea       0   1   0   0\"\n",
      "[1] \"1953  Pilot Lost in UFO chase (Felix Moncla)               USA            0   0   0   0\"\n",
      "[1] \"1954  UFO Landing in France                                France         1   1   1   0\"\n",
      "[1] \"1955  UFO encounter at Bexleyheath                         U K            0   0   0   0\"\n",
      "[1] \"1955  Kelly-Hopkinsville Alien Encounter                   USA            1   0   1   0\"\n",
      "[1] \"1955  U S Senators see flying discs in Russia              Russia         0   0   0   0\"\n",
      "[1] \"1956  Bentwaters AFB UFO Encounter                         U K            1   0   0   0\"\n",
      "[1] \"1956  Minot Air Force Base Radar/Visual Case               USA            1   0   0   0\"\n",
      "[1] \"1957  The RB-47 UFO Incident                               USA            1   0   0   0\"\n",
      "[1] \"1957  Ubatuba UFO Fragments                                Brazil         1   0   0   0\"\n",
      "[1] \"1957  UFOs / nuclear test                                  Tasmania       0   0   0   0\"\n",
      "[1] \"1957  The Ring-Cloud UFO photos                            USA            0   0   0   0\"\n",
      "[1] \"1957  Villas-Boas Encounter                                Brazil         1   0   1   1\"\n",
      "[1] \"1957  The Levelland, Texas Landings                        USA            0   0   0   0\"\n",
      "[1] \"1957  Madison, Ohio, Kuhn/Dog Case                         USA            1   0   0   0\"\n",
      "[1] \"1958  The Trinidade Island Photographs                     Brazil         0   1   0   0\"\n",
      "[1] \"1958  Monon Railroad UFO Incident                          USA            1   0   0   0\"\n",
      "[1] \"1959  Disappearance of Private Gerry Irwin                 USA            1   0   0   0\"\n",
      "[1] \"1959  The Papua, New Guinea Sightings                      N Guinea       1   0   1   0\"\n",
      "[1] \"1959  Mushroom UFO / Portland, Oregon                      USA            0   0   0   0\"\n",
      "[1] \"1960  Red Bluff UFO Incident                               USA            1   0   0   0\"\n",
      "[1] \"1961  Betty and Barney Hill Abduction                      USA            1   0   1   1\"\n",
      "[1] \"1962  UFO Crashes in Las Vegas                             USA            1   0   0   0\"\n",
      "[1] \"1963  The Willow Grove Encounter                           Australia      1   0   0   0\"\n",
      "[1] \"1963  Wayne City UFO/Car Chase                             USA            0   0   0   0\"\n",
      "[1] \"1964  Socorro, New Mexico (Zamora)                         USA            1   0   1   0\"\n",
      "[1] \"1964  UFO Landing, New York (Wilcox)                       USA            1   0   1   0\"\n",
      "[1] \"1964  Vehicle UFO, Lavonia, Georgia                        USA            1   0   0   0\"\n",
      "[1] \"1964  UFO Filmed at Vandenburg AFB                         USA            1   1   0   0\"\n",
      "[1] \"1964  Alien Encounter at Cisco County                      USA            1   0   1   0\"\n",
      "[1] \"1965  Florida Everglades Encounter (Flynn)                 USA            1   0   0   0\"\n",
      "[1] \"1965  Valensole, France Landing (Masse)                    France         1   0   1   0\"\n",
      "[1] \"1965  The Australian Beach Landing                         Australia      1   0   0   0\"\n",
      "[1] \"1965  Sherman, Texas UFO Photograph                        USA            1   1   0   0\"\n",
      "[1] \"1965  UFO Lands Pretoria, South Africa                     S Africa       1   0   0   0\"\n",
      "[1] \"1965  Exeter, New Hampshire Sightings                      USA            1   0   0   0\"\n",
      "[1] \"1965  UFO Illuminates Police Car                           USA            1   0   0   0\"\n",
      "[1] \"1965  The Kecksburg, Pennsylvania Crash                    USA            1   0   0   0\"\n",
      "[1] \"1966  The USS Tiru Encounter                               USA            0   0   0   0\"\n",
      "[1] \"1966  The Tulley Saucer Nest                               Australia      1   0   0   0\"\n",
      "[1] \"1966  Michigan Sheriff Confirms UFO                        USA            0   0   0   0\"\n",
      "[1] \"1966  Portage County UFO Chase                             USA            1   0   0   0\"\n",
      "[1] \"1966  The Mothman Legend                                   USA            1   0   0   0\"\n",
      "[1] \"1967  The Betty Andreasson Abduction                       USA            1   0   1   1\"\n",
      "[1] \"1967  Falcon Lake (Michalak) Encounter                     Canada         1   0   0   0\"\n",
      "[1] \"1967  UFO Encounter at Ontario Lake                        Canada         0   0   0   0\"\n",
      "[1] \"1967  The Shag Harbor Crash                                N Scotia       1   0   0   0\"\n",
      "[1] \"1967  Patrolman Herbert Schirmer abducted                  USA            1   0   1   1\"\n",
      "[1] \"1968  Hanbury, U K Entities in UFO Dome                    U K            1   0   1   0\"\n",
      "[1] \"1969  The Russian Crash, Sverdlovsky                       Russia         1   1   1   0\"\n",
      "[1] \"1969  The Arrowhead UFO Encounter                          GOM            0   0   1   0\"\n",
      "[1] \"1969  The Buff Ledge Camp Abduction                        USA            1   0   1   1\"\n",
      "[1] \"1970  Cowichan District Hospital Sighting                  Canada         1   0   1   0\"\n",
      "[1] \"1970  RAF Binbrook UFO Encounter                           USA            1   0   0   0\"\n",
      "[1] \"1971  UFOs photographed in Austria                         Austria        0   1   0   0\"\n",
      "[1] \"1971  Holloman AFB UFO landing film                        USA            0   1   1   0\"\n",
      "[1] \"1971  Bizarre UFO Encounter / Uranium Mine                 USA            1   0   0   0\"\n",
      "[1] \"1971  Costa Rican UFO Photograph                           Costa R.       0   1   0   0\"\n",
      "[1] \"1971  The Delphos, Kansas Glowing Ring                     USA            1   0   0   0\"\n",
      "[1] \"1972  McChord UFO Encounter                                USA            1   0   0   0\"\n",
      "[1] \"1973  McAlester, Oklahoma, Plane / UFO                     USA            1   1   0   0\"\n",
      "[1] \"1973  The Judy Doraty Abduction                            USA            1   0   1   1\"\n",
      "[1] \"1973  Princeton, Indiana UFO Sighting                      USA            0   0   0   0\"\n",
      "[1] \"1973  The Alabama Tin Foil Alien                           USA            1   1   1   0\"\n",
      "[1] \"1973  Hicksville, Ohio Erratic Lights                      USA            1   0   0   0\"\n",
      "[1] \"1973  Dayton, Ohio 15 UFO Sightings                        USA            0   0   0   0\"\n",
      "[1] \"1973  UFO Stops Train                                      USA            0   0   0   0\"\n",
      "[1] \"1973  Coyne Helicopter/UFO Encounter                       USA            0   0   0   0\"\n",
      "[1] \"1973  Pascagoula, Mississippi Abduction                    USA            1   0   1   1\"\n",
      "[1] \"1973  Lyndia Morel UFO Encounter                           USA            1   0   1   0\"\n",
      "[1] \"1974  The Wales UFO Crash                                  Wales          1   0   0   0\"\n",
      "[1] \"1974  Disk crash in Chihuahua, Mexico                      Mexico         1   0   0   0\"\n",
      "[1] \"1974  Domed Saucers create Crop Circles                    Canada         1   0   0   0\"\n",
      "[1] \"1975  The Billy Meier Videos                               Switz          1   1   1   0\"\n",
      "[1] \"1975  Sergeant Charles L. Moody Abduction                  USA            1   0   1   1\"\n",
      "[1] \"1975  The Loring AFB Encounter                             USA            1   0   0   0\"\n",
      "[1] \"1975  UFOs Over SAC Bases (Malmstrom)                      USA            1   0   0   0\"\n",
      "[1] \"1975  The Travis Walton Abduction                          USA            1   0   1   1\"\n",
      "[1] \"1976  The Stanford, Kentucky Abductions                    USA            1   0   1   1\"\n",
      "[1] \"1976  The Canary Island Alien Sphere                       Spain          1   1   1   0\"\n",
      "[1] \"1976  Tehran, Iran UFO Incident                            Iran           1   0   0   0\"\n",
      "[1] \"1976  The Allagash Waterway Abductions                     USA            1   0   1   1\"\n",
      "[1] \"1977  Alien encounter, Baltimore                           USA            1   0   1   0\"\n",
      "[1] \"1977  UFOs Invade Colares Island                           Brazil         1   1   0   0\"\n",
      "[1] \"1977  UFO Incident at Alsworth AFB                         USA            1   0   1   0\"\n",
      "[1] \"1978  Veteran Pilot Sees Domed UFO                         USA            0   0   0   0\"\n",
      "[1] \"1978  Alien Shot Dead Ft. Dix / McGuire AFB                USA            1   0   1   0\"\n",
      "[1] \"1978  Australian Pilot (Valentich) Disappears              Australia      1   0   0   0\"\n",
      "[1] \"1978  New Zealand Encounter                                N Zealand      1   1   0   0\"\n",
      "[1] \"1979  Alien body recovered                                 P. Rico        0   1   1   0\"\n",
      "[1] \"1979  Russian Cosmonaut Sees UFO                           Space          0   1   0   0\"\n",
      "[1] \"1980  Aircraft Disappears: UFO Seen                        P. Rico        0   0   0   0\"\n",
      "[1] \"1980  The Kirtland AFB Encounter                           USA            0   0   0   0\"\n",
      "[1] \"1980  Rancher sees bizarre UFO                             Australia      1   0   0   0\"\n",
      "[1] \"1980  Bentwaters-Woodbridge (Rendlesham)                   U K            1   1   1   0\"\n",
      "[1] \"1980  Piney Woods (Cash-Landrum) Encounter                 USA            1   0   0   0\"\n",
      "[1] \"1981  Trans-en-Province UFO Landing                        France         0   0   0   0\"\n",
      "[1] \"1981  The Carlos Diaz Story                                Mexico         1   1   1   0\"\n",
      "[1] \"1981  The Hudson Valley Sightings                          USA            0   0   0   0\"\n",
      "[1] \"1986  Japanese Airline Encounters UFO                      Alaska         1   0   0   0\"\n",
      "[1] \"1987  Connecticut, Policeman Photos UFO                    USA            1   1   0   0\"\n",
      "[1] \"1987  Hudson Valley Abduction                              USA            1   0   1   1\"\n",
      "[1] \"1987  The Christa Tilton Story                             USA            1   0   1   1\"\n",
      "[1] \"1987  North Canol Road Abduction                           Canada         1   0   1   1\"\n",
      "[1] \"1987  The Gulf Breeze Sightings (Walters)                  USA            1   1   0   0\"\n",
      "[1] \"1987  The Ilkley Moor Alien                                U K            1   1   1   1\"\n",
      "[1] \"1988  The Eyre Highway Incident, Australia                 Australia      1   0   0   0\"\n",
      "[1] \"1988  John Salter and Son Abduction                        USA            1   0   1   1\"\n",
      "[1] \"1988  Coast Guard UFO Encounter                            USA            1   0   0   0\"\n",
      "[1] \"1988  DNA Sample / Khoury Abduction                        Australia      1   0   1   1\"\n",
      "[1] \"1988  The Phobos II Incident                               Space          1   1   0   0\"\n",
      "[1] \"1989  The Belgian UFO Wave                                 Belgium        0   1   0   0\"\n",
      "[1] \"1989  The Voronezh, Russia Aliens                          Russia         1   0   1   0\"\n",
      "[1] \"1989  Linda Cortile-Napolitano Abduction                   USA            1   0   1   1\"\n",
      "[1] \"1989  Carp Canada, (Guardian) Landing                      Canada         1   1   0   0\"\n",
      "[1] \"1991  Shaitan Mazar, Russian Crash Retrieval               Russia         1   0   0   0\"\n",
      "[1] \"1992  Florida Patrolman Encounters UFO                     USA            1   0   0   0\"\n",
      "[1] \"1993  Southaven UFO Crash                                  USA            1   0   0   0\"\n",
      "[1] \"1993  The Kelly Cahill Abduction                           Australia      1   0   1   1\"\n",
      "[1] \"1994  UFO Sightings in Holland, Michigan                   USA            1   0   0   0\"\n",
      "[1] \"1994  UFO Photographed in Mongo, Indiana                   USA            1   1   0   0\"\n",
      "[1] \"1995  American West 564 UFO Encounter                      USA            0   0   0   0\"\n",
      "[1] \"1995  UFO Crash in Israel                                  Israel         1   1   0   0\"\n",
      "[1] \"1996  The Varginha, Brazil Entity                          Brazil         1   1   1   0\"\n",
      "[1] \"1996  Alien Body Recovered                                 Russia         0   1   1   0\"\n",
      "[1] \"1996  UFO Photograph Case, Alabama                         USA            0   1   0   0\"\n",
      "[1] \"1996  UFO Photo Hungary                                    Hungary        0   1   0   0\"\n",
      "[1] \"1997  UFOs merging on film                                 USA            0   1   0   0\"\n",
      "[1] \"1997  St. Petersburg, Russia UFO                           Russia         0   1   0   0\"\n",
      "[1] \"1997  The Phoenix, Arizona Lights                          France         1   1   0   0\"\n",
      "[1] \"1997  UFO Encounter, Boyne Island                          U K            0   0   0   0\"\n",
      "[1] \"1997  Swissair jet / near miss UFO                         USA            0   1   0   0\"\n",
      "[1] \"1997  South Africa UFO Encounter                           S Africa       0   0   0   0\"\n",
      "[1] \"1997  Abduction in Wales                                   Wales          1   0   1   1\"\n",
      "[1] \"1999  Aliens photographed in London                        U K            0   1   1   0\"\n",
      "[1] \"1999  Jet Crew Encounters UFO                              Den.           0   0   0   0\"\n",
      "[1] \"1999  British Charter Encounters UFO                       U K            0   0   0   0\"\n",
      "[1] \"1999  UFO Crash in Swedish Lake                            Sweden         0   0   0   0\"\n",
      "[1] \"1999  Abduction in Illinois                                USA            1   0   1   1\"\n",
      "[1] \"2000  The Illinois Sightings                               USA            0   0   0   0\"\n",
      "[1] \"2000  UFO Photographed / Stinson Lake                      USA            1   1   0   0\"\n",
      "[1] \"2000  UFO shoots beam at photographer                      USA            1   0   0   0\"\n",
      "[1] \"2000  UFO landing in West Malaysia                         Malaysia       1   0   0   0\"\n",
      "[1] \"2000  The Twin Towers UFO Video(hoax)                      USA            1   1   0   0\"\n",
      "[1] \"2000  UFO Visits Idaho Mountain                            USA            0   0   0   0\"\n",
      "[1] \"2001  Waynesville, Ohio Police UFO Report                  USA            0   0   0   0\"\n",
      "[1] \"2002  Roswell (General Ramey Memo)                         USA            0   1   0   0\"\n",
      "[1] \"2002  Gulfport, Mississippi UFO Incident                   USA            1   0   1   0\"\n",
      "[1] \"2002  Trenton / Brookville UFO Sightings                   USA            1   0   0   0\"\n",
      "[1] \"2002  Tyrone, PA Sighting & Photograph                     USA            0   1   0   0\"\n",
      "[1] \"2002  The Albany Airport UFO Video                         USA            0   1   0   0\"\n",
      "[1] \"2002  Rendlesham Documents released                        U K            0   0   0   0\"\n",
      "[1] \"2002  The Leyland, Lancashire Videos                       U K            0   1   0   0\"\n",
      "[1] \"2002  Afyon, Turkey Sighting with Video                    Turkey         0   1   0   0\"\n",
      "[1] \"2002  Possible UFO Landing, Chile                          Chile          1   1   0   0\"\n",
      "[1] \"2003  UFO Photographed / Wisconsin                         USA            0   1   0   0\"\n",
      "[1] \"2003  UFO Video / Tennessee, Shaffer                       USA            0   1   0   0\"\n",
      "[1] \"2003  UFO Incident, Screaming Sounds                       USA            1   0   0   0\"\n",
      "[1] \"2003  Ashland, Nebraska UFO Video                          USA            0   1   0   0\"\n",
      "[1] \"2004  Amelia, Ohio Bizarre UFO Incident                    USA            1   0   0   0\"\n",
      "[1] \"2004  Mexican Military Releases UFO Footage                Mexico         1   1   0   0\"\n",
      "[1] \"2004  Centerville, Ohio UFO Report                         USA            1   0   0   0\"\n",
      "[1] \"2004  Close Encounter in Tennessee                         USA            1   0   0   0\"\n",
      "[1] \"2004  Northern Ohio Sightings                              USA            1   0   0   0\"\n"
     ]
    }
   ],
   "source": [
    "counter <- 1\n",
    "repeat {\n",
    "    line <- readLines(connection, n = 1)\n",
    "    if (!length(line)) break\n",
    "    print(line)\n",
    "}"
   ]
  },
  {
   "cell_type": "markdown",
   "metadata": {
    "collapsed": true
   },
   "source": [
    "Takto je tedy celý náš datový soubor vypsaný řádku po řádce. Všimněte si, že výstup funkce `length` lze přímo použít jako pravdivostní hodnotu. Pokud totiž ze souboru vyčerpáme všechen vstup, funkce nám vrátí prázdný vektor:"
   ]
  },
  {
   "cell_type": "code",
   "execution_count": 8,
   "metadata": {},
   "outputs": [
    {
     "name": "stdout",
     "output_type": "stream",
     "text": [
      "character(0)\n"
     ]
    }
   ],
   "source": [
    "print(readLines(connection, n = 1))"
   ]
  },
  {
   "cell_type": "markdown",
   "metadata": {},
   "source": [
    "Jehož délka je tedy nulová:"
   ]
  },
  {
   "cell_type": "code",
   "execution_count": 9,
   "metadata": {},
   "outputs": [
    {
     "data": {
      "text/html": [
       "0"
      ],
      "text/latex": [
       "0"
      ],
      "text/markdown": [
       "0"
      ],
      "text/plain": [
       "[1] 0"
      ]
     },
     "metadata": {},
     "output_type": "display_data"
    }
   ],
   "source": [
    "length(character(0))"
   ]
  },
  {
   "cell_type": "markdown",
   "metadata": {},
   "source": [
    "Operátor `!` se sice většinou aplikuje na logické hodnoty, ale lze jej použít i na čísla:"
   ]
  },
  {
   "cell_type": "code",
   "execution_count": 10,
   "metadata": {},
   "outputs": [
    {
     "data": {
      "text/html": [
       "FALSE"
      ],
      "text/latex": [
       "FALSE"
      ],
      "text/markdown": [
       "FALSE"
      ],
      "text/plain": [
       "[1] FALSE"
      ]
     },
     "metadata": {},
     "output_type": "display_data"
    },
    {
     "data": {
      "text/html": [
       "FALSE"
      ],
      "text/latex": [
       "FALSE"
      ],
      "text/markdown": [
       "FALSE"
      ],
      "text/plain": [
       "[1] FALSE"
      ]
     },
     "metadata": {},
     "output_type": "display_data"
    },
    {
     "data": {
      "text/html": [
       "TRUE"
      ],
      "text/latex": [
       "TRUE"
      ],
      "text/markdown": [
       "TRUE"
      ],
      "text/plain": [
       "[1] TRUE"
      ]
     },
     "metadata": {},
     "output_type": "display_data"
    },
    {
     "data": {
      "text/html": [
       "FALSE"
      ],
      "text/latex": [
       "FALSE"
      ],
      "text/markdown": [
       "FALSE"
      ],
      "text/plain": [
       "[1] FALSE"
      ]
     },
     "metadata": {},
     "output_type": "display_data"
    },
    {
     "data": {
      "text/html": [
       "FALSE"
      ],
      "text/latex": [
       "FALSE"
      ],
      "text/markdown": [
       "FALSE"
      ],
      "text/plain": [
       "[1] FALSE"
      ]
     },
     "metadata": {},
     "output_type": "display_data"
    }
   ],
   "source": [
    "!-2\n",
    "!-1\n",
    "!0\n",
    "!1\n",
    "!2"
   ]
  },
  {
   "cell_type": "markdown",
   "metadata": {},
   "source": [
    "Každou nenulovou hodnotu tak tento operátor interpretuje jako `TRUE`, a tudíž po negaci vrátí `FALSE`. Této vlastnosti jsme s výhodou využili i v našem kódu jako rozhdodovací podmínku k zastavení cyklu:\n",
    "\n",
    "```R\n",
    "if (!length(line)) break\n",
    "```\n",
    "\n",
    "Jsme tedy hotoví a na závěr ještě uzavřeme připojení:"
   ]
  },
  {
   "cell_type": "code",
   "execution_count": 11,
   "metadata": {
    "collapsed": true
   },
   "outputs": [],
   "source": [
    "close(connection)"
   ]
  },
  {
   "cell_type": "markdown",
   "metadata": {},
   "source": [
    "Pro úplnost si ještě uvedeme implementaci s cyklem `while`:"
   ]
  },
  {
   "cell_type": "code",
   "execution_count": 12,
   "metadata": {},
   "outputs": [
    {
     "name": "stdout",
     "output_type": "stream",
     "text": [
      "[1] \"1865  The Great Airships                                   USA            1   0   1   0\"\n",
      "[1] \"1878  Denison, Texas Daylight UFO                          USA            0   0   0   0\"\n",
      "[1] \"1897  The Aurora, Texas Crash                              USA            1   0   1   0\"\n",
      "[1] \"1930  Alien Picture from Alaska                            Alaska         0   1   1   0\"\n",
      "[1] \"1937  Discovery of the Dropa Discs                         China          0   0   0   0\"\n"
     ]
    }
   ],
   "source": [
    "connection <- file(\"ufocase.dat\", open = \"r\")\n",
    "\n",
    "counter <- 1\n",
    "while (length(line <- readLines(connection, n = 1))) {\n",
    "    print(line)\n",
    "    \n",
    "    # ukončení po prvních pěti řádcích, aby nebyl výstup příliš dlouhý\n",
    "    if (counter >= 5) break\n",
    "    counter <- counter + 1\n",
    "}\n",
    "\n",
    "close(connection)"
   ]
  },
  {
   "cell_type": "markdown",
   "metadata": {},
   "source": [
    "Zde jsme se rozhodli přiřazení do proměnné `line` a přečtení řádky z připojení uskutečnit přímo při definici podmínky pro provedení další iterace. V R je toto možné a i když je to méně čitelné než řešení nahoře, působí to velice kompaktně. My zde cyklus ukončíme předčasně po pěti řádcích, ale je vám asi jasné, že byste takto opět mohli projít celý soubor.\n",
    "\n",
    "Vypsali jsme si teď tedy celý soubor, který naštěstí není tak dlouhý, a vidíme, že sloupce, které představují jednotlivé nezávislé proměnné, jsou většinou oddělené alespoň dvěma mezerami. Zkusme tedy za použití této znalosti nejprve vytvořit jednoduchou matici, která bude reprezentovat naše data:"
   ]
  },
  {
   "cell_type": "code",
   "execution_count": 13,
   "metadata": {},
   "outputs": [
    {
     "data": {
      "text/html": [
       "<table>\n",
       "<tbody>\n",
       "\t<tr><th scope=row>data_row</th><td>1865                        </td><td>The Great Airships          </td><td>USA                         </td><td>1                           </td><td>0                           </td><td>1                           </td><td>0                           </td></tr>\n",
       "\t<tr><th scope=row>data_row</th><td>1878                        </td><td>Denison, Texas Daylight UFO </td><td>USA                         </td><td>0                           </td><td>0                           </td><td>0                           </td><td>0                           </td></tr>\n",
       "\t<tr><th scope=row>data_row</th><td>1897                        </td><td>The Aurora, Texas Crash     </td><td>USA                         </td><td>1                           </td><td>0                           </td><td>1                           </td><td>0                           </td></tr>\n",
       "\t<tr><th scope=row>data_row</th><td>1930                        </td><td>Alien Picture from Alaska   </td><td>Alaska                      </td><td>0                           </td><td>1                           </td><td>1                           </td><td>0                           </td></tr>\n",
       "\t<tr><th scope=row>data_row</th><td>1937                        </td><td>Discovery of the Dropa Discs</td><td>China                       </td><td>0                           </td><td>0                           </td><td>0                           </td><td>0                           </td></tr>\n",
       "</tbody>\n",
       "</table>\n"
      ],
      "text/latex": [
       "\\begin{tabular}{r|lllllll}\n",
       "\tdata\\_row & 1865                         & The Great Airships           & USA                          & 1                            & 0                            & 1                            & 0                           \\\\\n",
       "\tdata\\_row & 1878                         & Denison, Texas Daylight UFO  & USA                          & 0                            & 0                            & 0                            & 0                           \\\\\n",
       "\tdata\\_row & 1897                         & The Aurora, Texas Crash      & USA                          & 1                            & 0                            & 1                            & 0                           \\\\\n",
       "\tdata\\_row & 1930                         & Alien Picture from Alaska    & Alaska                       & 0                            & 1                            & 1                            & 0                           \\\\\n",
       "\tdata\\_row & 1937                         & Discovery of the Dropa Discs & China                        & 0                            & 0                            & 0                            & 0                           \\\\\n",
       "\\end{tabular}\n"
      ],
      "text/markdown": [
       "\n",
       "| data_row | 1865                         | The Great Airships           | USA                          | 1                            | 0                            | 1                            | 0                            | \n",
       "| data_row | 1878                         | Denison, Texas Daylight UFO  | USA                          | 0                            | 0                            | 0                            | 0                            | \n",
       "| data_row | 1897                         | The Aurora, Texas Crash      | USA                          | 1                            | 0                            | 1                            | 0                            | \n",
       "| data_row | 1930                         | Alien Picture from Alaska    | Alaska                       | 0                            | 1                            | 1                            | 0                            | \n",
       "| data_row | 1937                         | Discovery of the Dropa Discs | China                        | 0                            | 0                            | 0                            | 0                            | \n",
       "\n",
       "\n"
      ],
      "text/plain": [
       "         [,1] [,2]                         [,3]   [,4] [,5] [,6] [,7]\n",
       "data_row 1865 The Great Airships           USA    1    0    1    0   \n",
       "data_row 1878 Denison, Texas Daylight UFO  USA    0    0    0    0   \n",
       "data_row 1897 The Aurora, Texas Crash      USA    1    0    1    0   \n",
       "data_row 1930 Alien Picture from Alaska    Alaska 0    1    1    0   \n",
       "data_row 1937 Discovery of the Dropa Discs China  0    0    0    0   "
      ]
     },
     "metadata": {},
     "output_type": "display_data"
    }
   ],
   "source": [
    "connection <- file(\"ufocase.dat\", open = \"r\")\n",
    "\n",
    "counter <- 1\n",
    "m_ufocase <- NULL # proměnná, která bude odkazovat na naší matici\n",
    "while (length(line <- readLines(connection, n = 1))) { # iteruj řádku po řádce\n",
    "    line_strip <- unlist(strsplit(line, \" \")) # rozděl řádku podle mezer\n",
    "    \n",
    "    data_row <- c() # vektor reprezentující jeden řádek v matici\n",
    "    next_col <- T # indikátor, zda očekáváme nový sloupec (nová nezávislá proměnná)\n",
    "    for (fragment in line_strip) { # iteruj přes jednotlivé nalezené fragmenty\n",
    "        if (fragment != \"\" && next_col) {\n",
    "            # nalezený fragment není prázdný řetězec a zároveň očekáváme nový sloupec\n",
    "            \n",
    "            data_row <- c(data_row, fragment) # přidej nové slovo na řádku v matici\n",
    "            next_col <- F # nalezli jsme sloupec, takže tento fakt zaznamenáme\n",
    "        } else if (fragment == \"\") {\n",
    "            # nalezli jsme prázdý řetězec, což znamená úsek, \n",
    "            # kde byla v textové tabulce na řádce více než jedna mezera\n",
    "            \n",
    "            next_col <- T # očekáváme tedy nový sloupec\n",
    "        } else if (fragment != \"\" && !next_col) {\n",
    "            # nalezli jsme fragment, ale neočekáváme nový sloupec\n",
    "            # jedná se tedy o fragment z jednoho sloupce\n",
    "            \n",
    "            # z řádku si tedy vezmeme poslední fragment\n",
    "            previous_fragment <- data_row[length(data_row)]\n",
    "            \n",
    "            # a po spojení s předchozím tento celek přidáme jako nový poslední fragment\n",
    "            data_row <- c(\n",
    "                data_row[-(length(data_row))] # všechna data na řádce ale bez posledního fragmentu\n",
    "                , paste(previous_fragment, fragment, sep = \" \") # spojení posledního fragmentu s aktuálním\n",
    "            )\n",
    "        } else {\n",
    "            stop(\"Sem bychom se neměli dostat. Pokud ano, něco nám uniklo.\")\n",
    "        }\n",
    "    }\n",
    "    \n",
    "    # připoj aktuální řádek do matice\n",
    "    m_ufocase <- rbind(m_ufocase, data_row)\n",
    "}\n",
    "\n",
    "close(connection) # zavři spojení\n",
    "\n",
    "head(m_ufocase, 5) # ukaž prvních pět řádků z vytvořené matice "
   ]
  },
  {
   "cell_type": "markdown",
   "metadata": {},
   "source": [
    "Jak vidíte, připravit si data k analýze může někdy vyžadovat nemalé úsilí. V tomto případě jsme museli přijít s poměrně rozvětveným algoritmem, abychom data dostali do podoby, se kterou již lze snáze pracovat. V předchozí ukázce je několik nových funkcí, které jsme ještě nediskutovali. Pojďme si je tedy teď probrat podrobněji.\n",
    "\n",
    "**Funkce `stop`**\n",
    "\n",
    "Funkce stop je podobná jako funkce `warning` a znamená, že se aktuálně vykonávaný program ukončí a zobrazí uživateli varovnou zprávu o chybě:"
   ]
  },
  {
   "cell_type": "code",
   "execution_count": 14,
   "metadata": {},
   "outputs": [
    {
     "ename": "ERROR",
     "evalue": "Error in eval(expr, envir, enclos): Varování!\n",
     "output_type": "error",
     "traceback": [
      "Error in eval(expr, envir, enclos): Varování!\nTraceback:\n",
      "1. stop(\"Varování!\")"
     ]
    }
   ],
   "source": [
    "stop(\"Varování!\")"
   ]
  },
  {
   "cell_type": "markdown",
   "metadata": {},
   "source": [
    "Pokud je zavolání funkce stop uzavřeno v nějakém bloku kódu, ukáže se i konkrétní řádka programu, kde k zavolání došlo:"
   ]
  },
  {
   "cell_type": "code",
   "execution_count": 15,
   "metadata": {},
   "outputs": [
    {
     "name": "stdout",
     "output_type": "stream",
     "text": [
      "[1] \"OK\"\n"
     ]
    },
    {
     "ename": "ERROR",
     "evalue": "Error in eval(expr, envir, enclos): Varování!\n",
     "output_type": "error",
     "traceback": [
      "Error in eval(expr, envir, enclos): Varování!\nTraceback:\n",
      "1. stop(\"Varování!\")   # at line 3 of file <text>"
     ]
    }
   ],
   "source": [
    "{\n",
    "    print(\"OK\")\n",
    "    stop(\"Varování!\")\n",
    "    print(\"Not OK\")\n",
    "}"
   ]
  },
  {
   "cell_type": "markdown",
   "metadata": {},
   "source": [
    "Pokud k volání dojde ve funkci, je součástí výpisu i výpis toho, v jaké fázi se zrovna program nacházel:"
   ]
  },
  {
   "cell_type": "code",
   "execution_count": 16,
   "metadata": {},
   "outputs": [
    {
     "ename": "ERROR",
     "evalue": "Error in x(): Not OK.\n",
     "output_type": "error",
     "traceback": [
      "Error in x(): Not OK.\nTraceback:\n",
      "1. x()",
      "2. stop(\"Not OK.\")   # at line 1 of file <text>"
     ]
    }
   ],
   "source": [
    "x <- function () stop(\"Not OK.\")\n",
    "x()"
   ]
  },
  {
   "cell_type": "markdown",
   "metadata": {},
   "source": [
    "To zde tedy znamená informaci o tom, že nejdříve došlo k zavolání funkce `x`, a potom k zastavení programu funkcí `stop`.\n",
    "\n",
    "**Funkce `rbind`**\n",
    "\n",
    "Funkce `rbind` je velice užitečnou funkcí pro práci s daty a slouží ke spojování dvou datových reprezentací se stejným počtem sloupců. Lze takto například spojit dvě matice:"
   ]
  },
  {
   "cell_type": "code",
   "execution_count": 17,
   "metadata": {},
   "outputs": [
    {
     "data": {
      "text/html": [
       "<table>\n",
       "<tbody>\n",
       "\t<tr><td>0</td><td>0</td></tr>\n",
       "\t<tr><td>0</td><td>0</td></tr>\n",
       "\t<tr><td>0</td><td>0</td></tr>\n",
       "\t<tr><td>1</td><td>1</td></tr>\n",
       "\t<tr><td>1</td><td>1</td></tr>\n",
       "\t<tr><td>1</td><td>1</td></tr>\n",
       "</tbody>\n",
       "</table>\n"
      ],
      "text/latex": [
       "\\begin{tabular}{ll}\n",
       "\t 0 & 0\\\\\n",
       "\t 0 & 0\\\\\n",
       "\t 0 & 0\\\\\n",
       "\t 1 & 1\\\\\n",
       "\t 1 & 1\\\\\n",
       "\t 1 & 1\\\\\n",
       "\\end{tabular}\n"
      ],
      "text/markdown": [
       "\n",
       "| 0 | 0 | \n",
       "| 0 | 0 | \n",
       "| 0 | 0 | \n",
       "| 1 | 1 | \n",
       "| 1 | 1 | \n",
       "| 1 | 1 | \n",
       "\n",
       "\n"
      ],
      "text/plain": [
       "     [,1] [,2]\n",
       "[1,] 0    0   \n",
       "[2,] 0    0   \n",
       "[3,] 0    0   \n",
       "[4,] 1    1   \n",
       "[5,] 1    1   \n",
       "[6,] 1    1   "
      ]
     },
     "metadata": {},
     "output_type": "display_data"
    }
   ],
   "source": [
    "m_x <- matrix(rep(0, 6), ncol = 2)\n",
    "m_y <- matrix(rep(1, 6), ncol = 2)\n",
    "\n",
    "rbind(m_x, m_y)"
   ]
  },
  {
   "cell_type": "markdown",
   "metadata": {},
   "source": [
    "nebo i jiné vzájemně kompatibilní struktury, kterých může být libovolný počet:"
   ]
  },
  {
   "cell_type": "code",
   "execution_count": 18,
   "metadata": {},
   "outputs": [
    {
     "data": {
      "text/html": [
       "<table>\n",
       "<tbody>\n",
       "\t<tr><td>1</td><td>2</td></tr>\n",
       "\t<tr><td>3</td><td>4</td></tr>\n",
       "\t<tr><td>5</td><td>6</td></tr>\n",
       "</tbody>\n",
       "</table>\n"
      ],
      "text/latex": [
       "\\begin{tabular}{ll}\n",
       "\t 1 & 2\\\\\n",
       "\t 3 & 4\\\\\n",
       "\t 5 & 6\\\\\n",
       "\\end{tabular}\n"
      ],
      "text/markdown": [
       "\n",
       "| 1 | 2 | \n",
       "| 3 | 4 | \n",
       "| 5 | 6 | \n",
       "\n",
       "\n"
      ],
      "text/plain": [
       "     [,1] [,2]\n",
       "[1,] 1    2   \n",
       "[2,] 3    4   \n",
       "[3,] 5    6   "
      ]
     },
     "metadata": {},
     "output_type": "display_data"
    }
   ],
   "source": [
    "rbind(c(1,2), c(3,4), c(5, 6))"
   ]
  },
  {
   "cell_type": "markdown",
   "metadata": {},
   "source": [
    "Když je jediným argumentem vektor, je výsledkem jednořádková matice:"
   ]
  },
  {
   "cell_type": "code",
   "execution_count": 19,
   "metadata": {},
   "outputs": [
    {
     "name": "stdout",
     "output_type": "stream",
     "text": [
      "     [,1] [,2] [,3] [,4] [,5] [,6] [,7] [,8] [,9] [,10]\n",
      "[1,]    1    2    3    4    5    6    7    8    9    10\n"
     ]
    }
   ],
   "source": [
    "print(rbind(1:10))"
   ]
  },
  {
   "cell_type": "markdown",
   "metadata": {},
   "source": [
    "čehož jsme využili i v našem kódu pro zpracování textového souboru.\n",
    "\n",
    "Příbuznou funkcí k `rbind`, je `cbind`, která naopak sdružuje data přes sloupce:"
   ]
  },
  {
   "cell_type": "code",
   "execution_count": 20,
   "metadata": {},
   "outputs": [
    {
     "data": {
      "text/html": [
       "<table>\n",
       "<tbody>\n",
       "\t<tr><td>0</td><td>0</td><td>1</td><td>1</td></tr>\n",
       "\t<tr><td>0</td><td>0</td><td>1</td><td>1</td></tr>\n",
       "\t<tr><td>0</td><td>0</td><td>1</td><td>1</td></tr>\n",
       "</tbody>\n",
       "</table>\n"
      ],
      "text/latex": [
       "\\begin{tabular}{llll}\n",
       "\t 0 & 0 & 1 & 1\\\\\n",
       "\t 0 & 0 & 1 & 1\\\\\n",
       "\t 0 & 0 & 1 & 1\\\\\n",
       "\\end{tabular}\n"
      ],
      "text/markdown": [
       "\n",
       "| 0 | 0 | 1 | 1 | \n",
       "| 0 | 0 | 1 | 1 | \n",
       "| 0 | 0 | 1 | 1 | \n",
       "\n",
       "\n"
      ],
      "text/plain": [
       "     [,1] [,2] [,3] [,4]\n",
       "[1,] 0    0    1    1   \n",
       "[2,] 0    0    1    1   \n",
       "[3,] 0    0    1    1   "
      ]
     },
     "metadata": {},
     "output_type": "display_data"
    },
    {
     "data": {
      "text/html": [
       "<table>\n",
       "<tbody>\n",
       "\t<tr><td>1</td><td>3</td><td>5</td></tr>\n",
       "\t<tr><td>2</td><td>4</td><td>6</td></tr>\n",
       "</tbody>\n",
       "</table>\n"
      ],
      "text/latex": [
       "\\begin{tabular}{lll}\n",
       "\t 1 & 3 & 5\\\\\n",
       "\t 2 & 4 & 6\\\\\n",
       "\\end{tabular}\n"
      ],
      "text/markdown": [
       "\n",
       "| 1 | 3 | 5 | \n",
       "| 2 | 4 | 6 | \n",
       "\n",
       "\n"
      ],
      "text/plain": [
       "     [,1] [,2] [,3]\n",
       "[1,] 1    3    5   \n",
       "[2,] 2    4    6   "
      ]
     },
     "metadata": {},
     "output_type": "display_data"
    }
   ],
   "source": [
    "cbind(m_x, m_y)\n",
    "cbind(c(1,2), c(3,4), c(5, 6))"
   ]
  },
  {
   "cell_type": "markdown",
   "metadata": {},
   "source": [
    "**Funke `head`**\n",
    "\n",
    "Tato funkce se hodí zejména pokud pracujete v interaktivním módu a chcete se podívat, jak data vlastně vypadají, ale bez toho aniž byste museli vypisovat úplně všechno. Funkci můžete též specifikovat kolik položek maximálně chcete zobrazit. U dvourozměrných datových struktur je to počet řádek:"
   ]
  },
  {
   "cell_type": "code",
   "execution_count": 21,
   "metadata": {},
   "outputs": [
    {
     "data": {
      "text/html": [
       "<table>\n",
       "<tbody>\n",
       "\t<tr><th scope=row>data_row</th><td>1865                       </td><td>The Great Airships         </td><td>USA                        </td><td>1                          </td><td>0                          </td><td>1                          </td><td>0                          </td></tr>\n",
       "\t<tr><th scope=row>data_row</th><td>1878                       </td><td>Denison, Texas Daylight UFO</td><td>USA                        </td><td>0                          </td><td>0                          </td><td>0                          </td><td>0                          </td></tr>\n",
       "\t<tr><th scope=row>data_row</th><td>1897                       </td><td>The Aurora, Texas Crash    </td><td>USA                        </td><td>1                          </td><td>0                          </td><td>1                          </td><td>0                          </td></tr>\n",
       "</tbody>\n",
       "</table>\n"
      ],
      "text/latex": [
       "\\begin{tabular}{r|lllllll}\n",
       "\tdata\\_row & 1865                        & The Great Airships          & USA                         & 1                           & 0                           & 1                           & 0                          \\\\\n",
       "\tdata\\_row & 1878                        & Denison, Texas Daylight UFO & USA                         & 0                           & 0                           & 0                           & 0                          \\\\\n",
       "\tdata\\_row & 1897                        & The Aurora, Texas Crash     & USA                         & 1                           & 0                           & 1                           & 0                          \\\\\n",
       "\\end{tabular}\n"
      ],
      "text/markdown": [
       "\n",
       "| data_row | 1865                        | The Great Airships          | USA                         | 1                           | 0                           | 1                           | 0                           | \n",
       "| data_row | 1878                        | Denison, Texas Daylight UFO | USA                         | 0                           | 0                           | 0                           | 0                           | \n",
       "| data_row | 1897                        | The Aurora, Texas Crash     | USA                         | 1                           | 0                           | 1                           | 0                           | \n",
       "\n",
       "\n"
      ],
      "text/plain": [
       "         [,1] [,2]                        [,3] [,4] [,5] [,6] [,7]\n",
       "data_row 1865 The Great Airships          USA  1    0    1    0   \n",
       "data_row 1878 Denison, Texas Daylight UFO USA  0    0    0    0   \n",
       "data_row 1897 The Aurora, Texas Crash     USA  1    0    1    0   "
      ]
     },
     "metadata": {},
     "output_type": "display_data"
    }
   ],
   "source": [
    "head(m_ufocase, 3)"
   ]
  },
  {
   "cell_type": "markdown",
   "metadata": {},
   "source": [
    "U vektorů potom pouze počet položek:"
   ]
  },
  {
   "cell_type": "code",
   "execution_count": 22,
   "metadata": {},
   "outputs": [
    {
     "data": {
      "text/html": [
       "<ol class=list-inline>\n",
       "\t<li>1</li>\n",
       "\t<li>2</li>\n",
       "\t<li>3</li>\n",
       "\t<li>4</li>\n",
       "\t<li>5</li>\n",
       "</ol>\n"
      ],
      "text/latex": [
       "\\begin{enumerate*}\n",
       "\\item 1\n",
       "\\item 2\n",
       "\\item 3\n",
       "\\item 4\n",
       "\\item 5\n",
       "\\end{enumerate*}\n"
      ],
      "text/markdown": [
       "1. 1\n",
       "2. 2\n",
       "3. 3\n",
       "4. 4\n",
       "5. 5\n",
       "\n",
       "\n"
      ],
      "text/plain": [
       "[1] 1 2 3 4 5"
      ]
     },
     "metadata": {},
     "output_type": "display_data"
    }
   ],
   "source": [
    "head(1:10, 5)"
   ]
  },
  {
   "cell_type": "markdown",
   "metadata": {},
   "source": [
    "Mimo funkce `head` existuje ještě funkce `tail`, která dělá opět to samé, ale od konce:"
   ]
  },
  {
   "cell_type": "code",
   "execution_count": 23,
   "metadata": {},
   "outputs": [
    {
     "data": {
      "text/html": [
       "<table>\n",
       "<tbody>\n",
       "\t<tr><th scope=row>data_row</th><td>2004                        </td><td>Centerville, Ohio UFO Report</td><td>USA                         </td><td>1                           </td><td>0                           </td><td>0                           </td><td>0                           </td></tr>\n",
       "\t<tr><th scope=row>data_row</th><td>2004                        </td><td>Close Encounter in Tennessee</td><td>USA                         </td><td>1                           </td><td>0                           </td><td>0                           </td><td>0                           </td></tr>\n",
       "\t<tr><th scope=row>data_row</th><td>2004                        </td><td>Northern Ohio Sightings     </td><td>USA                         </td><td>1                           </td><td>0                           </td><td>0                           </td><td>0                           </td></tr>\n",
       "</tbody>\n",
       "</table>\n"
      ],
      "text/latex": [
       "\\begin{tabular}{r|lllllll}\n",
       "\tdata\\_row & 2004                         & Centerville, Ohio UFO Report & USA                          & 1                            & 0                            & 0                            & 0                           \\\\\n",
       "\tdata\\_row & 2004                         & Close Encounter in Tennessee & USA                          & 1                            & 0                            & 0                            & 0                           \\\\\n",
       "\tdata\\_row & 2004                         & Northern Ohio Sightings      & USA                          & 1                            & 0                            & 0                            & 0                           \\\\\n",
       "\\end{tabular}\n"
      ],
      "text/markdown": [
       "\n",
       "| data_row | 2004                         | Centerville, Ohio UFO Report | USA                          | 1                            | 0                            | 0                            | 0                            | \n",
       "| data_row | 2004                         | Close Encounter in Tennessee | USA                          | 1                            | 0                            | 0                            | 0                            | \n",
       "| data_row | 2004                         | Northern Ohio Sightings      | USA                          | 1                            | 0                            | 0                            | 0                            | \n",
       "\n",
       "\n"
      ],
      "text/plain": [
       "         [,1] [,2]                         [,3] [,4] [,5] [,6] [,7]\n",
       "data_row 2004 Centerville, Ohio UFO Report USA  1    0    0    0   \n",
       "data_row 2004 Close Encounter in Tennessee USA  1    0    0    0   \n",
       "data_row 2004 Northern Ohio Sightings      USA  1    0    0    0   "
      ]
     },
     "metadata": {},
     "output_type": "display_data"
    }
   ],
   "source": [
    "tail(m_ufocase, 3)"
   ]
  },
  {
   "cell_type": "markdown",
   "metadata": {},
   "source": [
    "Asi jste si všimli, že funkce `rbind` automaticky přidala jména řádků podle názvu připojované proměnné. V našem případě nás to jen zbytečně rozptyluje, takže tato jména z matice odstraníme, než budeme v našich úpravách pokračovat:"
   ]
  },
  {
   "cell_type": "code",
   "execution_count": 24,
   "metadata": {},
   "outputs": [
    {
     "data": {
      "text/html": [
       "<table>\n",
       "<tbody>\n",
       "\t<tr><td>1865                                 </td><td>The Great Airships                   </td><td>USA                                  </td><td>1                                    </td><td>0                                    </td><td>1                                    </td><td>0                                    </td></tr>\n",
       "\t<tr><td>1878                                 </td><td>Denison, Texas Daylight UFO          </td><td>USA                                  </td><td>0                                    </td><td>0                                    </td><td>0                                    </td><td>0                                    </td></tr>\n",
       "\t<tr><td>1897                                 </td><td>The Aurora, Texas Crash              </td><td>USA                                  </td><td>1                                    </td><td>0                                    </td><td>1                                    </td><td>0                                    </td></tr>\n",
       "\t<tr><td>1930                                 </td><td>Alien Picture from Alaska            </td><td>Alaska                               </td><td>0                                    </td><td>1                                    </td><td>1                                    </td><td>0                                    </td></tr>\n",
       "\t<tr><td>1937                                 </td><td>Discovery of the Dropa Discs         </td><td>China                                </td><td>0                                    </td><td>0                                    </td><td>0                                    </td><td>0                                    </td></tr>\n",
       "\t<tr><td>1939                                 </td><td>Alien Bodies Confirmed (Cordell Hull)</td><td>USA                                  </td><td>0                                    </td><td>0                                    </td><td>1                                    </td><td>0                                    </td></tr>\n",
       "</tbody>\n",
       "</table>\n"
      ],
      "text/latex": [
       "\\begin{tabular}{lllllll}\n",
       "\t 1865                                  & The Great Airships                    & USA                                   & 1                                     & 0                                     & 1                                     & 0                                    \\\\\n",
       "\t 1878                                  & Denison, Texas Daylight UFO           & USA                                   & 0                                     & 0                                     & 0                                     & 0                                    \\\\\n",
       "\t 1897                                  & The Aurora, Texas Crash               & USA                                   & 1                                     & 0                                     & 1                                     & 0                                    \\\\\n",
       "\t 1930                                  & Alien Picture from Alaska             & Alaska                                & 0                                     & 1                                     & 1                                     & 0                                    \\\\\n",
       "\t 1937                                  & Discovery of the Dropa Discs          & China                                 & 0                                     & 0                                     & 0                                     & 0                                    \\\\\n",
       "\t 1939                                  & Alien Bodies Confirmed (Cordell Hull) & USA                                   & 0                                     & 0                                     & 1                                     & 0                                    \\\\\n",
       "\\end{tabular}\n"
      ],
      "text/markdown": [
       "\n",
       "| 1865                                  | The Great Airships                    | USA                                   | 1                                     | 0                                     | 1                                     | 0                                     | \n",
       "| 1878                                  | Denison, Texas Daylight UFO           | USA                                   | 0                                     | 0                                     | 0                                     | 0                                     | \n",
       "| 1897                                  | The Aurora, Texas Crash               | USA                                   | 1                                     | 0                                     | 1                                     | 0                                     | \n",
       "| 1930                                  | Alien Picture from Alaska             | Alaska                                | 0                                     | 1                                     | 1                                     | 0                                     | \n",
       "| 1937                                  | Discovery of the Dropa Discs          | China                                 | 0                                     | 0                                     | 0                                     | 0                                     | \n",
       "| 1939                                  | Alien Bodies Confirmed (Cordell Hull) | USA                                   | 0                                     | 0                                     | 1                                     | 0                                     | \n",
       "\n",
       "\n"
      ],
      "text/plain": [
       "     [,1] [,2]                                  [,3]   [,4] [,5] [,6] [,7]\n",
       "[1,] 1865 The Great Airships                    USA    1    0    1    0   \n",
       "[2,] 1878 Denison, Texas Daylight UFO           USA    0    0    0    0   \n",
       "[3,] 1897 The Aurora, Texas Crash               USA    1    0    1    0   \n",
       "[4,] 1930 Alien Picture from Alaska             Alaska 0    1    1    0   \n",
       "[5,] 1937 Discovery of the Dropa Discs          China  0    0    0    0   \n",
       "[6,] 1939 Alien Bodies Confirmed (Cordell Hull) USA    0    0    1    0   "
      ]
     },
     "metadata": {},
     "output_type": "display_data"
    }
   ],
   "source": [
    "row.names(m_ufocase) <- NULL\n",
    "head(m_ufocase)"
   ]
  },
  {
   "cell_type": "markdown",
   "metadata": {},
   "source": [
    "Všechna data v matici jsou zatím typu `character`:"
   ]
  },
  {
   "cell_type": "code",
   "execution_count": 25,
   "metadata": {},
   "outputs": [
    {
     "data": {
      "text/html": [
       "'matrix'"
      ],
      "text/latex": [
       "'matrix'"
      ],
      "text/markdown": [
       "'matrix'"
      ],
      "text/plain": [
       "[1] \"matrix\""
      ]
     },
     "metadata": {},
     "output_type": "display_data"
    },
    {
     "data": {
      "text/html": [
       "'character'"
      ],
      "text/latex": [
       "'character'"
      ],
      "text/markdown": [
       "'character'"
      ],
      "text/plain": [
       "[1] \"character\""
      ]
     },
     "metadata": {},
     "output_type": "display_data"
    }
   ],
   "source": [
    "class(m_ufocase)\n",
    "mode(m_ufocase)"
   ]
  },
  {
   "cell_type": "markdown",
   "metadata": {},
   "source": [
    "Je však zřejmé, že některá data by bylo vhodné reprezentovat i jinými datovými typy. Všechny položky (kromě textového popisu události) by vlastně šlo převést na faktory, neboť řadí jednotlivé záznamy do různých skupin. Vhodnější reprezentací by tedy byl `data.frame`, který je rozšířením seznamů a umožňuje tak agregovat proměnné různých typů. Asi nejpřímočarejším řešením je použití funkce `as.data.frame`:"
   ]
  },
  {
   "cell_type": "code",
   "execution_count": 26,
   "metadata": {},
   "outputs": [
    {
     "data": {
      "text/html": [
       "<table>\n",
       "<thead><tr><th scope=col>V1</th><th scope=col>V2</th><th scope=col>V3</th><th scope=col>V4</th><th scope=col>V5</th><th scope=col>V6</th><th scope=col>V7</th></tr></thead>\n",
       "<tbody>\n",
       "\t<tr><td>1865                                 </td><td>The Great Airships                   </td><td>USA                                  </td><td>1                                    </td><td>0                                    </td><td>1                                    </td><td>0                                    </td></tr>\n",
       "\t<tr><td>1878                                 </td><td>Denison, Texas Daylight UFO          </td><td>USA                                  </td><td>0                                    </td><td>0                                    </td><td>0                                    </td><td>0                                    </td></tr>\n",
       "\t<tr><td>1897                                 </td><td>The Aurora, Texas Crash              </td><td>USA                                  </td><td>1                                    </td><td>0                                    </td><td>1                                    </td><td>0                                    </td></tr>\n",
       "\t<tr><td>1930                                 </td><td>Alien Picture from Alaska            </td><td>Alaska                               </td><td>0                                    </td><td>1                                    </td><td>1                                    </td><td>0                                    </td></tr>\n",
       "\t<tr><td>1937                                 </td><td>Discovery of the Dropa Discs         </td><td>China                                </td><td>0                                    </td><td>0                                    </td><td>0                                    </td><td>0                                    </td></tr>\n",
       "\t<tr><td>1939                                 </td><td>Alien Bodies Confirmed (Cordell Hull)</td><td>USA                                  </td><td>0                                    </td><td>0                                    </td><td>1                                    </td><td>0                                    </td></tr>\n",
       "</tbody>\n",
       "</table>\n"
      ],
      "text/latex": [
       "\\begin{tabular}{r|lllllll}\n",
       " V1 & V2 & V3 & V4 & V5 & V6 & V7\\\\\n",
       "\\hline\n",
       "\t 1865                                  & The Great Airships                    & USA                                   & 1                                     & 0                                     & 1                                     & 0                                    \\\\\n",
       "\t 1878                                  & Denison, Texas Daylight UFO           & USA                                   & 0                                     & 0                                     & 0                                     & 0                                    \\\\\n",
       "\t 1897                                  & The Aurora, Texas Crash               & USA                                   & 1                                     & 0                                     & 1                                     & 0                                    \\\\\n",
       "\t 1930                                  & Alien Picture from Alaska             & Alaska                                & 0                                     & 1                                     & 1                                     & 0                                    \\\\\n",
       "\t 1937                                  & Discovery of the Dropa Discs          & China                                 & 0                                     & 0                                     & 0                                     & 0                                    \\\\\n",
       "\t 1939                                  & Alien Bodies Confirmed (Cordell Hull) & USA                                   & 0                                     & 0                                     & 1                                     & 0                                    \\\\\n",
       "\\end{tabular}\n"
      ],
      "text/markdown": [
       "\n",
       "V1 | V2 | V3 | V4 | V5 | V6 | V7 | \n",
       "|---|---|---|---|---|---|\n",
       "| 1865                                  | The Great Airships                    | USA                                   | 1                                     | 0                                     | 1                                     | 0                                     | \n",
       "| 1878                                  | Denison, Texas Daylight UFO           | USA                                   | 0                                     | 0                                     | 0                                     | 0                                     | \n",
       "| 1897                                  | The Aurora, Texas Crash               | USA                                   | 1                                     | 0                                     | 1                                     | 0                                     | \n",
       "| 1930                                  | Alien Picture from Alaska             | Alaska                                | 0                                     | 1                                     | 1                                     | 0                                     | \n",
       "| 1937                                  | Discovery of the Dropa Discs          | China                                 | 0                                     | 0                                     | 0                                     | 0                                     | \n",
       "| 1939                                  | Alien Bodies Confirmed (Cordell Hull) | USA                                   | 0                                     | 0                                     | 1                                     | 0                                     | \n",
       "\n",
       "\n"
      ],
      "text/plain": [
       "  V1   V2                                    V3     V4 V5 V6 V7\n",
       "1 1865 The Great Airships                    USA    1  0  1  0 \n",
       "2 1878 Denison, Texas Daylight UFO           USA    0  0  0  0 \n",
       "3 1897 The Aurora, Texas Crash               USA    1  0  1  0 \n",
       "4 1930 Alien Picture from Alaska             Alaska 0  1  1  0 \n",
       "5 1937 Discovery of the Dropa Discs          China  0  0  0  0 \n",
       "6 1939 Alien Bodies Confirmed (Cordell Hull) USA    0  0  1  0 "
      ]
     },
     "metadata": {},
     "output_type": "display_data"
    }
   ],
   "source": [
    "df_ufocase <- as.data.frame(m_ufocase)\n",
    "head(df_ufocase)"
   ]
  },
  {
   "cell_type": "markdown",
   "metadata": {},
   "source": [
    "Pro snazší orientaci si ještě přejmenujeme jednotlivé sloupce podle klíče v souboru `ufocase.info`:\n",
    "\n",
    "```\n",
    "Variable/Columns\n",
    "\n",
    "Year 1-4 \n",
    "Name of sighting/event  7-56\n",
    "Location   60-72\n",
    "Physical effects 75   /* 1=Yes, 0=No  */\n",
    "Multimedia  79  /*  1=Yes, 0=No  */\n",
    "ET contact   83  /* 1=Yes, 0=No  */\n",
    "Abduction   87   /*  1=Yes, 0=No  */\n",
    "```"
   ]
  },
  {
   "cell_type": "code",
   "execution_count": 27,
   "metadata": {},
   "outputs": [
    {
     "data": {
      "text/html": [
       "<table>\n",
       "<thead><tr><th scope=col>Year</th><th scope=col>EventName</th><th scope=col>Location</th><th scope=col>PhysicalEffects</th><th scope=col>Multimedia</th><th scope=col>ETContact</th><th scope=col>Abduction</th></tr></thead>\n",
       "<tbody>\n",
       "\t<tr><td>1865                                 </td><td>The Great Airships                   </td><td>USA                                  </td><td>1                                    </td><td>0                                    </td><td>1                                    </td><td>0                                    </td></tr>\n",
       "\t<tr><td>1878                                 </td><td>Denison, Texas Daylight UFO          </td><td>USA                                  </td><td>0                                    </td><td>0                                    </td><td>0                                    </td><td>0                                    </td></tr>\n",
       "\t<tr><td>1897                                 </td><td>The Aurora, Texas Crash              </td><td>USA                                  </td><td>1                                    </td><td>0                                    </td><td>1                                    </td><td>0                                    </td></tr>\n",
       "\t<tr><td>1930                                 </td><td>Alien Picture from Alaska            </td><td>Alaska                               </td><td>0                                    </td><td>1                                    </td><td>1                                    </td><td>0                                    </td></tr>\n",
       "\t<tr><td>1937                                 </td><td>Discovery of the Dropa Discs         </td><td>China                                </td><td>0                                    </td><td>0                                    </td><td>0                                    </td><td>0                                    </td></tr>\n",
       "\t<tr><td>1939                                 </td><td>Alien Bodies Confirmed (Cordell Hull)</td><td>USA                                  </td><td>0                                    </td><td>0                                    </td><td>1                                    </td><td>0                                    </td></tr>\n",
       "</tbody>\n",
       "</table>\n"
      ],
      "text/latex": [
       "\\begin{tabular}{r|lllllll}\n",
       " Year & EventName & Location & PhysicalEffects & Multimedia & ETContact & Abduction\\\\\n",
       "\\hline\n",
       "\t 1865                                  & The Great Airships                    & USA                                   & 1                                     & 0                                     & 1                                     & 0                                    \\\\\n",
       "\t 1878                                  & Denison, Texas Daylight UFO           & USA                                   & 0                                     & 0                                     & 0                                     & 0                                    \\\\\n",
       "\t 1897                                  & The Aurora, Texas Crash               & USA                                   & 1                                     & 0                                     & 1                                     & 0                                    \\\\\n",
       "\t 1930                                  & Alien Picture from Alaska             & Alaska                                & 0                                     & 1                                     & 1                                     & 0                                    \\\\\n",
       "\t 1937                                  & Discovery of the Dropa Discs          & China                                 & 0                                     & 0                                     & 0                                     & 0                                    \\\\\n",
       "\t 1939                                  & Alien Bodies Confirmed (Cordell Hull) & USA                                   & 0                                     & 0                                     & 1                                     & 0                                    \\\\\n",
       "\\end{tabular}\n"
      ],
      "text/markdown": [
       "\n",
       "Year | EventName | Location | PhysicalEffects | Multimedia | ETContact | Abduction | \n",
       "|---|---|---|---|---|---|\n",
       "| 1865                                  | The Great Airships                    | USA                                   | 1                                     | 0                                     | 1                                     | 0                                     | \n",
       "| 1878                                  | Denison, Texas Daylight UFO           | USA                                   | 0                                     | 0                                     | 0                                     | 0                                     | \n",
       "| 1897                                  | The Aurora, Texas Crash               | USA                                   | 1                                     | 0                                     | 1                                     | 0                                     | \n",
       "| 1930                                  | Alien Picture from Alaska             | Alaska                                | 0                                     | 1                                     | 1                                     | 0                                     | \n",
       "| 1937                                  | Discovery of the Dropa Discs          | China                                 | 0                                     | 0                                     | 0                                     | 0                                     | \n",
       "| 1939                                  | Alien Bodies Confirmed (Cordell Hull) | USA                                   | 0                                     | 0                                     | 1                                     | 0                                     | \n",
       "\n",
       "\n"
      ],
      "text/plain": [
       "  Year EventName                             Location PhysicalEffects\n",
       "1 1865 The Great Airships                    USA      1              \n",
       "2 1878 Denison, Texas Daylight UFO           USA      0              \n",
       "3 1897 The Aurora, Texas Crash               USA      1              \n",
       "4 1930 Alien Picture from Alaska             Alaska   0              \n",
       "5 1937 Discovery of the Dropa Discs          China    0              \n",
       "6 1939 Alien Bodies Confirmed (Cordell Hull) USA      0              \n",
       "  Multimedia ETContact Abduction\n",
       "1 0          1         0        \n",
       "2 0          0         0        \n",
       "3 0          1         0        \n",
       "4 1          1         0        \n",
       "5 0          0         0        \n",
       "6 0          1         0        "
      ]
     },
     "metadata": {},
     "output_type": "display_data"
    }
   ],
   "source": [
    "colnames(df_ufocase) <- c(\n",
    "    \"Year\"\n",
    "    , \"EventName\"\n",
    "    , \"Location\"\n",
    "    , \"PhysicalEffects\"\n",
    "    , \"Multimedia\"\n",
    "    , \"ETContact\"\n",
    "    , \"Abduction\"\n",
    ")\n",
    "head(df_ufocase)"
   ]
  },
  {
   "cell_type": "markdown",
   "metadata": {},
   "source": [
    "To už vypadá o něco lépe, ale co typy sloupců:"
   ]
  },
  {
   "cell_type": "code",
   "execution_count": 28,
   "metadata": {},
   "outputs": [
    {
     "name": "stdout",
     "output_type": "stream",
     "text": [
      "[1] \"Year  class:  factor\"\n",
      "[1] \"EventName  class:  factor\"\n",
      "[1] \"Location  class:  factor\"\n",
      "[1] \"PhysicalEffects  class:  factor\"\n",
      "[1] \"Multimedia  class:  factor\"\n",
      "[1] \"ETContact  class:  factor\"\n",
      "[1] \"Abduction  class:  factor\"\n"
     ]
    }
   ],
   "source": [
    "print_col_types <- function(df) {\n",
    "    for (colname in colnames(df)) {\n",
    "        print(paste(\n",
    "            colname\n",
    "            , \" class: \"\n",
    "            , class(df[[colname]])\n",
    "        ))\n",
    "    }\n",
    "}\n",
    "\n",
    "print_col_types(df_ufocase)"
   ]
  },
  {
   "cell_type": "markdown",
   "metadata": {},
   "source": [
    "Funkce `as.data.frame` se nám tedy pokusila podstatně ušetřit práci a všechny položky převedla na faktor. Toto je defaultní chování pro sloupce, které jsou typu `character`. Pokud bychom chtěli tomuto chování zabránit, můžeme použít argument `stringsAsFactors`. K automatickému převodu sloupců pak nedojede:"
   ]
  },
  {
   "cell_type": "code",
   "execution_count": 29,
   "metadata": {},
   "outputs": [
    {
     "name": "stdout",
     "output_type": "stream",
     "text": [
      "[1] \"V1  class:  character\"\n",
      "[1] \"V2  class:  character\"\n",
      "[1] \"V3  class:  character\"\n",
      "[1] \"V4  class:  character\"\n",
      "[1] \"V5  class:  character\"\n",
      "[1] \"V6  class:  character\"\n",
      "[1] \"V7  class:  character\"\n"
     ]
    }
   ],
   "source": [
    "df_ufocase_noconvert <- as.data.frame(m_ufocase, stringsAsFactors = F)\n",
    "\n",
    "print_col_types(df_ufocase_noconvert)"
   ]
  },
  {
   "cell_type": "markdown",
   "metadata": {},
   "source": [
    "Pro nás byla však první verze volání výhodná, takže se k ní vrátíme:"
   ]
  },
  {
   "cell_type": "code",
   "execution_count": 30,
   "metadata": {},
   "outputs": [
    {
     "name": "stdout",
     "output_type": "stream",
     "text": [
      "[1] \"Year  class:  factor\"\n",
      "[1] \"EventName  class:  factor\"\n",
      "[1] \"Location  class:  factor\"\n",
      "[1] \"PhysicalEffects  class:  factor\"\n",
      "[1] \"Multimedia  class:  factor\"\n",
      "[1] \"ETContact  class:  factor\"\n",
      "[1] \"Abduction  class:  factor\"\n"
     ]
    }
   ],
   "source": [
    "print_col_types(df_ufocase)"
   ]
  },
  {
   "cell_type": "markdown",
   "metadata": {},
   "source": [
    "Toto je tedy skoro to, co chceme, až na případ sloupce `EventName` který bychom chtěli ponechat jako typ `character`. To lze však jednoduše vyřešit následujícím příkazem:"
   ]
  },
  {
   "cell_type": "code",
   "execution_count": 31,
   "metadata": {
    "scrolled": true
   },
   "outputs": [
    {
     "name": "stdout",
     "output_type": "stream",
     "text": [
      "[1] \"Year  class:  factor\"\n",
      "[1] \"EventName  class:  character\"\n",
      "[1] \"Location  class:  factor\"\n",
      "[1] \"PhysicalEffects  class:  factor\"\n",
      "[1] \"Multimedia  class:  factor\"\n",
      "[1] \"ETContact  class:  factor\"\n",
      "[1] \"Abduction  class:  factor\"\n"
     ]
    },
    {
     "data": {
      "text/html": [
       "<table>\n",
       "<thead><tr><th scope=col>Year</th><th scope=col>EventName</th><th scope=col>Location</th><th scope=col>PhysicalEffects</th><th scope=col>Multimedia</th><th scope=col>ETContact</th><th scope=col>Abduction</th></tr></thead>\n",
       "<tbody>\n",
       "\t<tr><td>1865                                 </td><td>The Great Airships                   </td><td>USA                                  </td><td>1                                    </td><td>0                                    </td><td>1                                    </td><td>0                                    </td></tr>\n",
       "\t<tr><td>1878                                 </td><td>Denison, Texas Daylight UFO          </td><td>USA                                  </td><td>0                                    </td><td>0                                    </td><td>0                                    </td><td>0                                    </td></tr>\n",
       "\t<tr><td>1897                                 </td><td>The Aurora, Texas Crash              </td><td>USA                                  </td><td>1                                    </td><td>0                                    </td><td>1                                    </td><td>0                                    </td></tr>\n",
       "\t<tr><td>1930                                 </td><td>Alien Picture from Alaska            </td><td>Alaska                               </td><td>0                                    </td><td>1                                    </td><td>1                                    </td><td>0                                    </td></tr>\n",
       "\t<tr><td>1937                                 </td><td>Discovery of the Dropa Discs         </td><td>China                                </td><td>0                                    </td><td>0                                    </td><td>0                                    </td><td>0                                    </td></tr>\n",
       "\t<tr><td>1939                                 </td><td>Alien Bodies Confirmed (Cordell Hull)</td><td>USA                                  </td><td>0                                    </td><td>0                                    </td><td>1                                    </td><td>0                                    </td></tr>\n",
       "</tbody>\n",
       "</table>\n"
      ],
      "text/latex": [
       "\\begin{tabular}{r|lllllll}\n",
       " Year & EventName & Location & PhysicalEffects & Multimedia & ETContact & Abduction\\\\\n",
       "\\hline\n",
       "\t 1865                                  & The Great Airships                    & USA                                   & 1                                     & 0                                     & 1                                     & 0                                    \\\\\n",
       "\t 1878                                  & Denison, Texas Daylight UFO           & USA                                   & 0                                     & 0                                     & 0                                     & 0                                    \\\\\n",
       "\t 1897                                  & The Aurora, Texas Crash               & USA                                   & 1                                     & 0                                     & 1                                     & 0                                    \\\\\n",
       "\t 1930                                  & Alien Picture from Alaska             & Alaska                                & 0                                     & 1                                     & 1                                     & 0                                    \\\\\n",
       "\t 1937                                  & Discovery of the Dropa Discs          & China                                 & 0                                     & 0                                     & 0                                     & 0                                    \\\\\n",
       "\t 1939                                  & Alien Bodies Confirmed (Cordell Hull) & USA                                   & 0                                     & 0                                     & 1                                     & 0                                    \\\\\n",
       "\\end{tabular}\n"
      ],
      "text/markdown": [
       "\n",
       "Year | EventName | Location | PhysicalEffects | Multimedia | ETContact | Abduction | \n",
       "|---|---|---|---|---|---|\n",
       "| 1865                                  | The Great Airships                    | USA                                   | 1                                     | 0                                     | 1                                     | 0                                     | \n",
       "| 1878                                  | Denison, Texas Daylight UFO           | USA                                   | 0                                     | 0                                     | 0                                     | 0                                     | \n",
       "| 1897                                  | The Aurora, Texas Crash               | USA                                   | 1                                     | 0                                     | 1                                     | 0                                     | \n",
       "| 1930                                  | Alien Picture from Alaska             | Alaska                                | 0                                     | 1                                     | 1                                     | 0                                     | \n",
       "| 1937                                  | Discovery of the Dropa Discs          | China                                 | 0                                     | 0                                     | 0                                     | 0                                     | \n",
       "| 1939                                  | Alien Bodies Confirmed (Cordell Hull) | USA                                   | 0                                     | 0                                     | 1                                     | 0                                     | \n",
       "\n",
       "\n"
      ],
      "text/plain": [
       "  Year EventName                             Location PhysicalEffects\n",
       "1 1865 The Great Airships                    USA      1              \n",
       "2 1878 Denison, Texas Daylight UFO           USA      0              \n",
       "3 1897 The Aurora, Texas Crash               USA      1              \n",
       "4 1930 Alien Picture from Alaska             Alaska   0              \n",
       "5 1937 Discovery of the Dropa Discs          China    0              \n",
       "6 1939 Alien Bodies Confirmed (Cordell Hull) USA      0              \n",
       "  Multimedia ETContact Abduction\n",
       "1 0          1         0        \n",
       "2 0          0         0        \n",
       "3 0          1         0        \n",
       "4 1          1         0        \n",
       "5 0          0         0        \n",
       "6 0          1         0        "
      ]
     },
     "metadata": {},
     "output_type": "display_data"
    }
   ],
   "source": [
    "df_ufocase[[\"EventName\"]] <- as.character(df_ufocase[[\"EventName\"]])\n",
    "\n",
    "print_col_types(df_ufocase)\n",
    "head(df_ufocase)"
   ]
  },
  {
   "cell_type": "markdown",
   "metadata": {},
   "source": [
    "## Ukládání dat do souboru\n",
    "\n",
    "Tato reprezentace našich dat tedy už vypadá celkem rozumně a v R by se nám s ní již mohlo dobře pracovat. Co když ale budeme chtít tabulku otevřít v jiném programu nebo zase v R, ale nebudeme již k tomu mít k dispozici náš kód, který pro nás pracně data z původního souboru vydoloval? \n",
    "\n",
    "Odpovědí jsou tzv. CSV (comma separated values) soubory. Tyto soubory představují jednoduchý standard pro transport dat mezi programy a většina datových množin je již přímo distribuována v tomto formátu. Naše bohužel nebyla, ale my si v R můžeme snadno takový soubor vyrobit jednoduchým zavoláním funkce `write.table`:"
   ]
  },
  {
   "cell_type": "code",
   "execution_count": 32,
   "metadata": {
    "collapsed": true
   },
   "outputs": [],
   "source": [
    "write.table(\n",
    "    df_ufocase\n",
    "    , file = \"ufocase.csv\"\n",
    "    , row.names = F\n",
    "    , sep = \",\"\n",
    ")"
   ]
  },
  {
   "cell_type": "markdown",
   "metadata": {},
   "source": [
    "Pokud si tento soubor, který R právě vytvořilo v aktuálním pracovním adresáři, otevřete v textovém editoru, měl by jeho začátek vypadat nějak takto:\n",
    "\n",
    "```\n",
    "\"Year\",\"EventName\",\"Location\",\"PhysicalEffects\",\"Multimedia\",\"ETContact\",\"Abduction\"\n",
    "\"1865\",\"The Great Airships\",\"USA\",\"1\",\"0\",\"1\",\"0\"\n",
    "\"1878\",\"Denison, Texas Daylight UFO\",\"USA\",\"0\",\"0\",\"0\",\"0\"\n",
    "\"1897\",\"The Aurora, Texas Crash\",\"USA\",\"1\",\"0\",\"1\",\"0\"\n",
    "\"1930\",\"Alien Picture from Alaska\",\"Alaska\",\"0\",\"1\",\"1\",\"0\"\n",
    "\"1937\",\"Discovery of the Dropa Discs\",\"China\",\"0\",\"0\",\"0\",\"0\"\n",
    "```\n",
    "\n",
    "Jeden řádek souboru tedy odpovídá jednomu řádku naší tabulky. Jednotlivé sloupce jsou pak odděleny čárkou, kterou jsme sepcifikovali jako separátor pomocí argumentu `sep`. Řetězce a faktory jsou ve výchozím nastavení uzavřeny do uvozovek. My jsme ještě navíc použili argument `row.names`, který R říká, že do souboru nechceme zapisovat jména řádek. V případě, že jména chybí, je R totiž v souboru automaticky očísluje, což momentálně nechceme. Funkce `write.table` akceptuje ještě mnoho dalších argumentů, kterými si můžete váš soubor upravit podle potřeby (více viz `help(write.table)`). Těmto souborům rozumí i MS Excel a další tabulkové procesory, takže patříte-li mezi uživatele těchto programů, můžete si svá data takto snadno importovat do vašeho sešitu.\n",
    "\n",
    "Načítání takové tabulky je pak v R zredukováno na pouhé zavolání funkce `read.table`:"
   ]
  },
  {
   "cell_type": "code",
   "execution_count": 33,
   "metadata": {},
   "outputs": [
    {
     "data": {
      "text/html": [
       "<table>\n",
       "<thead><tr><th scope=col>Year</th><th scope=col>EventName</th><th scope=col>Location</th><th scope=col>PhysicalEffects</th><th scope=col>Multimedia</th><th scope=col>ETContact</th><th scope=col>Abduction</th></tr></thead>\n",
       "<tbody>\n",
       "\t<tr><td>1865                                 </td><td>The Great Airships                   </td><td>USA                                  </td><td>1                                    </td><td>0                                    </td><td>1                                    </td><td>0                                    </td></tr>\n",
       "\t<tr><td>1878                                 </td><td>Denison, Texas Daylight UFO          </td><td>USA                                  </td><td>0                                    </td><td>0                                    </td><td>0                                    </td><td>0                                    </td></tr>\n",
       "\t<tr><td>1897                                 </td><td>The Aurora, Texas Crash              </td><td>USA                                  </td><td>1                                    </td><td>0                                    </td><td>1                                    </td><td>0                                    </td></tr>\n",
       "\t<tr><td>1930                                 </td><td>Alien Picture from Alaska            </td><td>Alaska                               </td><td>0                                    </td><td>1                                    </td><td>1                                    </td><td>0                                    </td></tr>\n",
       "\t<tr><td>1937                                 </td><td>Discovery of the Dropa Discs         </td><td>China                                </td><td>0                                    </td><td>0                                    </td><td>0                                    </td><td>0                                    </td></tr>\n",
       "\t<tr><td>1939                                 </td><td>Alien Bodies Confirmed (Cordell Hull)</td><td>USA                                  </td><td>0                                    </td><td>0                                    </td><td>1                                    </td><td>0                                    </td></tr>\n",
       "</tbody>\n",
       "</table>\n"
      ],
      "text/latex": [
       "\\begin{tabular}{r|lllllll}\n",
       " Year & EventName & Location & PhysicalEffects & Multimedia & ETContact & Abduction\\\\\n",
       "\\hline\n",
       "\t 1865                                  & The Great Airships                    & USA                                   & 1                                     & 0                                     & 1                                     & 0                                    \\\\\n",
       "\t 1878                                  & Denison, Texas Daylight UFO           & USA                                   & 0                                     & 0                                     & 0                                     & 0                                    \\\\\n",
       "\t 1897                                  & The Aurora, Texas Crash               & USA                                   & 1                                     & 0                                     & 1                                     & 0                                    \\\\\n",
       "\t 1930                                  & Alien Picture from Alaska             & Alaska                                & 0                                     & 1                                     & 1                                     & 0                                    \\\\\n",
       "\t 1937                                  & Discovery of the Dropa Discs          & China                                 & 0                                     & 0                                     & 0                                     & 0                                    \\\\\n",
       "\t 1939                                  & Alien Bodies Confirmed (Cordell Hull) & USA                                   & 0                                     & 0                                     & 1                                     & 0                                    \\\\\n",
       "\\end{tabular}\n"
      ],
      "text/markdown": [
       "\n",
       "Year | EventName | Location | PhysicalEffects | Multimedia | ETContact | Abduction | \n",
       "|---|---|---|---|---|---|\n",
       "| 1865                                  | The Great Airships                    | USA                                   | 1                                     | 0                                     | 1                                     | 0                                     | \n",
       "| 1878                                  | Denison, Texas Daylight UFO           | USA                                   | 0                                     | 0                                     | 0                                     | 0                                     | \n",
       "| 1897                                  | The Aurora, Texas Crash               | USA                                   | 1                                     | 0                                     | 1                                     | 0                                     | \n",
       "| 1930                                  | Alien Picture from Alaska             | Alaska                                | 0                                     | 1                                     | 1                                     | 0                                     | \n",
       "| 1937                                  | Discovery of the Dropa Discs          | China                                 | 0                                     | 0                                     | 0                                     | 0                                     | \n",
       "| 1939                                  | Alien Bodies Confirmed (Cordell Hull) | USA                                   | 0                                     | 0                                     | 1                                     | 0                                     | \n",
       "\n",
       "\n"
      ],
      "text/plain": [
       "  Year EventName                             Location PhysicalEffects\n",
       "1 1865 The Great Airships                    USA      1              \n",
       "2 1878 Denison, Texas Daylight UFO           USA      0              \n",
       "3 1897 The Aurora, Texas Crash               USA      1              \n",
       "4 1930 Alien Picture from Alaska             Alaska   0              \n",
       "5 1937 Discovery of the Dropa Discs          China    0              \n",
       "6 1939 Alien Bodies Confirmed (Cordell Hull) USA      0              \n",
       "  Multimedia ETContact Abduction\n",
       "1 0          1         0        \n",
       "2 0          0         0        \n",
       "3 0          1         0        \n",
       "4 1          1         0        \n",
       "5 0          0         0        \n",
       "6 0          1         0        "
      ]
     },
     "metadata": {},
     "output_type": "display_data"
    },
    {
     "data": {
      "text/html": [
       "'numeric'"
      ],
      "text/latex": [
       "'numeric'"
      ],
      "text/markdown": [
       "'numeric'"
      ],
      "text/plain": [
       "[1] \"numeric\""
      ]
     },
     "metadata": {},
     "output_type": "display_data"
    },
    {
     "data": {
      "text/html": [
       "'character'"
      ],
      "text/latex": [
       "'character'"
      ],
      "text/markdown": [
       "'character'"
      ],
      "text/plain": [
       "[1] \"character\""
      ]
     },
     "metadata": {},
     "output_type": "display_data"
    },
    {
     "data": {
      "text/html": [
       "'numeric'"
      ],
      "text/latex": [
       "'numeric'"
      ],
      "text/markdown": [
       "'numeric'"
      ],
      "text/plain": [
       "[1] \"numeric\""
      ]
     },
     "metadata": {},
     "output_type": "display_data"
    }
   ],
   "source": [
    "df_ufocase_csv <- read.table(\n",
    "    \"ufocase.csv\"\n",
    "    , sep = \",\"\n",
    "    , header = T\n",
    "    , stringsAsFactors = F\n",
    ")\n",
    "head(df_ufocase_csv)\n",
    "mode(df_ufocase_csv[[\"Year\"]])\n",
    "mode(df_ufocase_csv[[\"EventName\"]])\n",
    "mode(df_ufocase_csv[[\"PhysicalEffects\"]])"
   ]
  },
  {
   "cell_type": "markdown",
   "metadata": {},
   "source": [
    "Tato funkce opět akceptuje celou řadu argumentů, kterými lze nastavit nejen separátor použitý v souboru ale i další parametry. My jsme zde například R pomocí argumentu `header` řekli, že má první řádku interpretovat jako jména jednotlivých sloupců, nikoliv jako data samotná. Zároveň jsme zakázali převedení sloupců, které obsahují řetězce, na faktory pomocí argumentu `stringsAsFactors`, který je ekvivalentem stejnojmeného argumentu již zmíněné funkce `as.data.frame`. R v tomto případě však automaticky převedlo tyto sloupce na čísla, i když byla data uzavřená v uvozovkách. Toto chování lze změnit explicitní specifikací datových typů sloupců pomocí argumentu `colClasses`:"
   ]
  },
  {
   "cell_type": "code",
   "execution_count": 34,
   "metadata": {},
   "outputs": [
    {
     "data": {
      "text/html": [
       "<table>\n",
       "<thead><tr><th scope=col>Year</th><th scope=col>EventName</th><th scope=col>Location</th><th scope=col>PhysicalEffects</th><th scope=col>Multimedia</th><th scope=col>ETContact</th><th scope=col>Abduction</th></tr></thead>\n",
       "<tbody>\n",
       "\t<tr><td>1865                                 </td><td>The Great Airships                   </td><td>USA                                  </td><td>1                                    </td><td>0                                    </td><td>1                                    </td><td>0                                    </td></tr>\n",
       "\t<tr><td>1878                                 </td><td>Denison, Texas Daylight UFO          </td><td>USA                                  </td><td>0                                    </td><td>0                                    </td><td>0                                    </td><td>0                                    </td></tr>\n",
       "\t<tr><td>1897                                 </td><td>The Aurora, Texas Crash              </td><td>USA                                  </td><td>1                                    </td><td>0                                    </td><td>1                                    </td><td>0                                    </td></tr>\n",
       "\t<tr><td>1930                                 </td><td>Alien Picture from Alaska            </td><td>Alaska                               </td><td>0                                    </td><td>1                                    </td><td>1                                    </td><td>0                                    </td></tr>\n",
       "\t<tr><td>1937                                 </td><td>Discovery of the Dropa Discs         </td><td>China                                </td><td>0                                    </td><td>0                                    </td><td>0                                    </td><td>0                                    </td></tr>\n",
       "\t<tr><td>1939                                 </td><td>Alien Bodies Confirmed (Cordell Hull)</td><td>USA                                  </td><td>0                                    </td><td>0                                    </td><td>1                                    </td><td>0                                    </td></tr>\n",
       "</tbody>\n",
       "</table>\n"
      ],
      "text/latex": [
       "\\begin{tabular}{r|lllllll}\n",
       " Year & EventName & Location & PhysicalEffects & Multimedia & ETContact & Abduction\\\\\n",
       "\\hline\n",
       "\t 1865                                  & The Great Airships                    & USA                                   & 1                                     & 0                                     & 1                                     & 0                                    \\\\\n",
       "\t 1878                                  & Denison, Texas Daylight UFO           & USA                                   & 0                                     & 0                                     & 0                                     & 0                                    \\\\\n",
       "\t 1897                                  & The Aurora, Texas Crash               & USA                                   & 1                                     & 0                                     & 1                                     & 0                                    \\\\\n",
       "\t 1930                                  & Alien Picture from Alaska             & Alaska                                & 0                                     & 1                                     & 1                                     & 0                                    \\\\\n",
       "\t 1937                                  & Discovery of the Dropa Discs          & China                                 & 0                                     & 0                                     & 0                                     & 0                                    \\\\\n",
       "\t 1939                                  & Alien Bodies Confirmed (Cordell Hull) & USA                                   & 0                                     & 0                                     & 1                                     & 0                                    \\\\\n",
       "\\end{tabular}\n"
      ],
      "text/markdown": [
       "\n",
       "Year | EventName | Location | PhysicalEffects | Multimedia | ETContact | Abduction | \n",
       "|---|---|---|---|---|---|\n",
       "| 1865                                  | The Great Airships                    | USA                                   | 1                                     | 0                                     | 1                                     | 0                                     | \n",
       "| 1878                                  | Denison, Texas Daylight UFO           | USA                                   | 0                                     | 0                                     | 0                                     | 0                                     | \n",
       "| 1897                                  | The Aurora, Texas Crash               | USA                                   | 1                                     | 0                                     | 1                                     | 0                                     | \n",
       "| 1930                                  | Alien Picture from Alaska             | Alaska                                | 0                                     | 1                                     | 1                                     | 0                                     | \n",
       "| 1937                                  | Discovery of the Dropa Discs          | China                                 | 0                                     | 0                                     | 0                                     | 0                                     | \n",
       "| 1939                                  | Alien Bodies Confirmed (Cordell Hull) | USA                                   | 0                                     | 0                                     | 1                                     | 0                                     | \n",
       "\n",
       "\n"
      ],
      "text/plain": [
       "  Year EventName                             Location PhysicalEffects\n",
       "1 1865 The Great Airships                    USA      1              \n",
       "2 1878 Denison, Texas Daylight UFO           USA      0              \n",
       "3 1897 The Aurora, Texas Crash               USA      1              \n",
       "4 1930 Alien Picture from Alaska             Alaska   0              \n",
       "5 1937 Discovery of the Dropa Discs          China    0              \n",
       "6 1939 Alien Bodies Confirmed (Cordell Hull) USA      0              \n",
       "  Multimedia ETContact Abduction\n",
       "1 0          1         0        \n",
       "2 0          0         0        \n",
       "3 0          1         0        \n",
       "4 1          1         0        \n",
       "5 0          0         0        \n",
       "6 0          1         0        "
      ]
     },
     "metadata": {},
     "output_type": "display_data"
    },
    {
     "data": {
      "text/html": [
       "'character'"
      ],
      "text/latex": [
       "'character'"
      ],
      "text/markdown": [
       "'character'"
      ],
      "text/plain": [
       "[1] \"character\""
      ]
     },
     "metadata": {},
     "output_type": "display_data"
    },
    {
     "data": {
      "text/html": [
       "'character'"
      ],
      "text/latex": [
       "'character'"
      ],
      "text/markdown": [
       "'character'"
      ],
      "text/plain": [
       "[1] \"character\""
      ]
     },
     "metadata": {},
     "output_type": "display_data"
    },
    {
     "data": {
      "text/html": [
       "'character'"
      ],
      "text/latex": [
       "'character'"
      ],
      "text/markdown": [
       "'character'"
      ],
      "text/plain": [
       "[1] \"character\""
      ]
     },
     "metadata": {},
     "output_type": "display_data"
    }
   ],
   "source": [
    "df_ufocase_csv_char <- read.table(\n",
    "    \"ufocase.csv\"\n",
    "    , sep = \",\"\n",
    "    , header = T\n",
    "    , stringsAsFactors = F\n",
    "    , colClasses = rep(class(\"\"), 7)\n",
    ")\n",
    "head(df_ufocase_csv_char)\n",
    "mode(df_ufocase_csv_char[[\"Year\"]])\n",
    "mode(df_ufocase_csv_char[[\"EventName\"]])\n",
    "mode(df_ufocase_csv_char[[\"PhysicalEffects\"]])"
   ]
  },
  {
   "cell_type": "markdown",
   "metadata": {},
   "source": [
    "Nyní máme tedy data nejen připravená k analýze, ale i uložená na disku pro snadné použití v jiných programech. V následujících kapitolách si postupně představíme funkce, které nám pomohou jak při analýze, tak transformaci našich dat. \n",
    "\n",
    "## Funkce `apply`, `lapply` a `sapply`\n",
    "\n",
    "Tyto funkce znamenají v R jednu z vhodných alterantiv k cyklům. Umožňují rychlé a snadné procházení napříč položkami datových struktur a jejich transformace. I v následujících kapitolách budeme dále jako příklady používat předchozí reprezentace našich dat (jmenovitě matici `m_ufocase` a datovou tabulku `df_ufocase`).\n",
    "\n",
    "### `apply`\n",
    "\n",
    "Základní funkcí z této rodiny funkcí je `apply`, která je z výše uvedených nejjednodušší a zpravidla se aplikuje na matice. Jednoduchou aplikaci funkce `apply` představuje následující příklad, ve kterém pomcí jednoduché funkce spojíme položky v jednotlivých řádcích matice `m_ufocase` pomocí separátoru a vše umístíme do jednoho vektoru:"
   ]
  },
  {
   "cell_type": "code",
   "execution_count": 35,
   "metadata": {},
   "outputs": [
    {
     "data": {
      "text/html": [
       "<ol class=list-inline>\n",
       "\t<li>'1865--The Great Airships--USA--1--0--1--0'</li>\n",
       "\t<li>'1878--Denison, Texas Daylight UFO--USA--0--0--0--0'</li>\n",
       "\t<li>'1897--The Aurora, Texas Crash--USA--1--0--1--0'</li>\n",
       "\t<li>'1930--Alien Picture from Alaska--Alaska--0--1--1--0'</li>\n",
       "\t<li>'1937--Discovery of the Dropa Discs--China--0--0--0--0'</li>\n",
       "</ol>\n"
      ],
      "text/latex": [
       "\\begin{enumerate*}\n",
       "\\item '1865--The Great Airships--USA--1--0--1--0'\n",
       "\\item '1878--Denison, Texas Daylight UFO--USA--0--0--0--0'\n",
       "\\item '1897--The Aurora, Texas Crash--USA--1--0--1--0'\n",
       "\\item '1930--Alien Picture from Alaska--Alaska--0--1--1--0'\n",
       "\\item '1937--Discovery of the Dropa Discs--China--0--0--0--0'\n",
       "\\end{enumerate*}\n"
      ],
      "text/markdown": [
       "1. '1865--The Great Airships--USA--1--0--1--0'\n",
       "2. '1878--Denison, Texas Daylight UFO--USA--0--0--0--0'\n",
       "3. '1897--The Aurora, Texas Crash--USA--1--0--1--0'\n",
       "4. '1930--Alien Picture from Alaska--Alaska--0--1--1--0'\n",
       "5. '1937--Discovery of the Dropa Discs--China--0--0--0--0'\n",
       "\n",
       "\n"
      ],
      "text/plain": [
       "[1] \"1865--The Great Airships--USA--1--0--1--0\"            \n",
       "[2] \"1878--Denison, Texas Daylight UFO--USA--0--0--0--0\"   \n",
       "[3] \"1897--The Aurora, Texas Crash--USA--1--0--1--0\"       \n",
       "[4] \"1930--Alien Picture from Alaska--Alaska--0--1--1--0\"  \n",
       "[5] \"1937--Discovery of the Dropa Discs--China--0--0--0--0\""
      ]
     },
     "metadata": {},
     "output_type": "display_data"
    }
   ],
   "source": [
    "connect <- function(x) {\n",
    "    paste(x, collapse = '--')\n",
    "}\n",
    "\n",
    "output <- apply(m_ufocase, 1, connect)\n",
    "output[1:5]"
   ]
  },
  {
   "cell_type": "markdown",
   "metadata": {},
   "source": [
    "V tomto příkladě funkce `apply` tedy funguje obdobně jako následující cyklus:"
   ]
  },
  {
   "cell_type": "code",
   "execution_count": 36,
   "metadata": {},
   "outputs": [
    {
     "data": {
      "text/html": [
       "<ol class=list-inline>\n",
       "\t<li>'1865--The Great Airships--USA--1--0--1--0'</li>\n",
       "\t<li>'1878--Denison, Texas Daylight UFO--USA--0--0--0--0'</li>\n",
       "\t<li>'1897--The Aurora, Texas Crash--USA--1--0--1--0'</li>\n",
       "\t<li>'1930--Alien Picture from Alaska--Alaska--0--1--1--0'</li>\n",
       "\t<li>'1937--Discovery of the Dropa Discs--China--0--0--0--0'</li>\n",
       "</ol>\n"
      ],
      "text/latex": [
       "\\begin{enumerate*}\n",
       "\\item '1865--The Great Airships--USA--1--0--1--0'\n",
       "\\item '1878--Denison, Texas Daylight UFO--USA--0--0--0--0'\n",
       "\\item '1897--The Aurora, Texas Crash--USA--1--0--1--0'\n",
       "\\item '1930--Alien Picture from Alaska--Alaska--0--1--1--0'\n",
       "\\item '1937--Discovery of the Dropa Discs--China--0--0--0--0'\n",
       "\\end{enumerate*}\n"
      ],
      "text/markdown": [
       "1. '1865--The Great Airships--USA--1--0--1--0'\n",
       "2. '1878--Denison, Texas Daylight UFO--USA--0--0--0--0'\n",
       "3. '1897--The Aurora, Texas Crash--USA--1--0--1--0'\n",
       "4. '1930--Alien Picture from Alaska--Alaska--0--1--1--0'\n",
       "5. '1937--Discovery of the Dropa Discs--China--0--0--0--0'\n",
       "\n",
       "\n"
      ],
      "text/plain": [
       "[1] \"1865--The Great Airships--USA--1--0--1--0\"            \n",
       "[2] \"1878--Denison, Texas Daylight UFO--USA--0--0--0--0\"   \n",
       "[3] \"1897--The Aurora, Texas Crash--USA--1--0--1--0\"       \n",
       "[4] \"1930--Alien Picture from Alaska--Alaska--0--1--1--0\"  \n",
       "[5] \"1937--Discovery of the Dropa Discs--China--0--0--0--0\""
      ]
     },
     "metadata": {},
     "output_type": "display_data"
    }
   ],
   "source": [
    "output <- NULL\n",
    "for (row_idx in 1:nrow(m_ufocase)) {\n",
    "    # pro každý řádek\n",
    "    x <- m_ufocase[row_idx,]\n",
    "    \n",
    "    # zavolej funkci `connect`, kde její první argument bude právě procházený řádek matice\n",
    "    output <- c(output, connect(x)) \n",
    "}\n",
    "\n",
    "output[1:5]"
   ]
  },
  {
   "cell_type": "markdown",
   "metadata": {},
   "source": [
    "První argument funkce `apply` specifikuje matici, kterou budeme procházet. Druhý argument je potom kód dimenze (1 pro řádky, 2 pro sloupce). Třetí argument pak specfikuje funkci, která se bude postupně volat na každý řádek nebo sloupec. Tato funkce musí mít alespoň jeden argument a řádek nebo sloupec se vždy pošle jako první argument funkce. Výsledky jednotlivých volání jsou pak spojené do jednoho vektoru. \n",
    "\n",
    "Funkci lze kromě dat samotných též poslat další argumenty, ty ve volání následují hned po funkci samotné a zůstavají při každém volání konstantní:"
   ]
  },
  {
   "cell_type": "code",
   "execution_count": 37,
   "metadata": {},
   "outputs": [
    {
     "data": {
      "text/html": [
       "'character'"
      ],
      "text/latex": [
       "'character'"
      ],
      "text/markdown": [
       "'character'"
      ],
      "text/plain": [
       "[1] \"character\""
      ]
     },
     "metadata": {},
     "output_type": "display_data"
    },
    {
     "data": {
      "text/html": [
       "<ol class=list-inline>\n",
       "\t<li>'1865----The Great Airships----USA----1----0----1----0'</li>\n",
       "\t<li>'1878----Denison, Texas Daylight UFO----USA----0----0----0----0'</li>\n",
       "\t<li>'1897----The Aurora, Texas Crash----USA----1----0----1----0'</li>\n",
       "\t<li>'1930----Alien Picture from Alaska----Alaska----0----1----1----0'</li>\n",
       "\t<li>'1937----Discovery of the Dropa Discs----China----0----0----0----0'</li>\n",
       "</ol>\n"
      ],
      "text/latex": [
       "\\begin{enumerate*}\n",
       "\\item '1865----The Great Airships----USA----1----0----1----0'\n",
       "\\item '1878----Denison, Texas Daylight UFO----USA----0----0----0----0'\n",
       "\\item '1897----The Aurora, Texas Crash----USA----1----0----1----0'\n",
       "\\item '1930----Alien Picture from Alaska----Alaska----0----1----1----0'\n",
       "\\item '1937----Discovery of the Dropa Discs----China----0----0----0----0'\n",
       "\\end{enumerate*}\n"
      ],
      "text/markdown": [
       "1. '1865----The Great Airships----USA----1----0----1----0'\n",
       "2. '1878----Denison, Texas Daylight UFO----USA----0----0----0----0'\n",
       "3. '1897----The Aurora, Texas Crash----USA----1----0----1----0'\n",
       "4. '1930----Alien Picture from Alaska----Alaska----0----1----1----0'\n",
       "5. '1937----Discovery of the Dropa Discs----China----0----0----0----0'\n",
       "\n",
       "\n"
      ],
      "text/plain": [
       "[1] \"1865----The Great Airships----USA----1----0----1----0\"            \n",
       "[2] \"1878----Denison, Texas Daylight UFO----USA----0----0----0----0\"   \n",
       "[3] \"1897----The Aurora, Texas Crash----USA----1----0----1----0\"       \n",
       "[4] \"1930----Alien Picture from Alaska----Alaska----0----1----1----0\"  \n",
       "[5] \"1937----Discovery of the Dropa Discs----China----0----0----0----0\""
      ]
     },
     "metadata": {},
     "output_type": "display_data"
    }
   ],
   "source": [
    "connect <- function(x, sep = '', collapse = '--') {\n",
    "    paste(x, sep = sep, collapse = collapse)\n",
    "}\n",
    "\n",
    "output <- apply(m_ufocase, 1, connect, collapse = '----')\n",
    "class(output[1:5])\n",
    "output[1:5]"
   ]
  },
  {
   "cell_type": "markdown",
   "metadata": {},
   "source": [
    "Pokud naše funkce vrací vektor nebo dokonce matici, je výsledkem matice:"
   ]
  },
  {
   "cell_type": "code",
   "execution_count": 38,
   "metadata": {},
   "outputs": [
    {
     "data": {
      "text/html": [
       "'matrix'"
      ],
      "text/latex": [
       "'matrix'"
      ],
      "text/markdown": [
       "'matrix'"
      ],
      "text/plain": [
       "[1] \"matrix\""
      ]
     },
     "metadata": {},
     "output_type": "display_data"
    },
    {
     "data": {
      "text/html": [
       "<table>\n",
       "<tbody>\n",
       "\t<tr><td>1865                                 </td><td>1878                                 </td><td>1897                                 </td><td>1930                                 </td><td>1937                                 </td><td>1939                                 </td><td>1941                                 </td><td>1942                                 </td><td>1944                                 </td><td>1945                                 </td><td>⋯                                    </td><td>2002                                 </td><td>2003                                 </td><td>2003                                 </td><td>2003                                 </td><td>2003                                 </td><td>2004                                 </td><td>2004                                 </td><td>2004                                 </td><td>2004                                 </td><td>2004                                 </td></tr>\n",
       "\t<tr><td>The Great Airships                   </td><td>Denison, Texas Daylight UFO          </td><td>The Aurora, Texas Crash              </td><td>Alien Picture from Alaska            </td><td>Discovery of the Dropa Discs         </td><td>Alien Bodies Confirmed (Cordell Hull)</td><td>Missouri Crash &amp; Retrieval       </td><td>The Battle of Los Angeles            </td><td>World War II Foo-Fighters            </td><td>Lt. Gorman Chases a UFO              </td><td>⋯                                    </td><td>Possible UFO Landing, Chile          </td><td>UFO Photographed / Wisconsin         </td><td>UFO Video / Tennessee, Shaffer       </td><td>UFO Incident, Screaming Sounds       </td><td>Ashland, Nebraska UFO Video          </td><td>Amelia, Ohio Bizarre UFO Incident    </td><td>Mexican Military Releases UFO Footage</td><td>Centerville, Ohio UFO Report         </td><td>Close Encounter in Tennessee         </td><td>Northern Ohio Sightings              </td></tr>\n",
       "\t<tr><td>USA                                  </td><td>USA                                  </td><td>USA                                  </td><td>Alaska                               </td><td>China                                </td><td>USA                                  </td><td>USA                                  </td><td>USA                                  </td><td>Europe                               </td><td>USA                                  </td><td>⋯                                    </td><td>Chile                                </td><td>USA                                  </td><td>USA                                  </td><td>USA                                  </td><td>USA                                  </td><td>USA                                  </td><td>Mexico                               </td><td>USA                                  </td><td>USA                                  </td><td>USA                                  </td></tr>\n",
       "\t<tr><td>1                                    </td><td>0                                    </td><td>1                                    </td><td>0                                    </td><td>0                                    </td><td>0                                    </td><td>1                                    </td><td>1                                    </td><td>0                                    </td><td>0                                    </td><td>⋯                                    </td><td>1                                    </td><td>0                                    </td><td>0                                    </td><td>1                                    </td><td>0                                    </td><td>1                                    </td><td>1                                    </td><td>1                                    </td><td>1                                    </td><td>1                                    </td></tr>\n",
       "\t<tr><td>0                                    </td><td>0                                    </td><td>0                                    </td><td>1                                    </td><td>0                                    </td><td>0                                    </td><td>1                                    </td><td>1                                    </td><td>1                                    </td><td>0                                    </td><td>⋯                                    </td><td>1                                    </td><td>1                                    </td><td>1                                    </td><td>0                                    </td><td>1                                    </td><td>0                                    </td><td>1                                    </td><td>0                                    </td><td>0                                    </td><td>0                                    </td></tr>\n",
       "\t<tr><td>1                                    </td><td>0                                    </td><td>1                                    </td><td>1                                    </td><td>0                                    </td><td>1                                    </td><td>1                                    </td><td>0                                    </td><td>0                                    </td><td>0                                    </td><td>⋯                                    </td><td>0                                    </td><td>0                                    </td><td>0                                    </td><td>0                                    </td><td>0                                    </td><td>0                                    </td><td>0                                    </td><td>0                                    </td><td>0                                    </td><td>0                                    </td></tr>\n",
       "\t<tr><td>0                                    </td><td>0                                    </td><td>0                                    </td><td>0                                    </td><td>0                                    </td><td>0                                    </td><td>0                                    </td><td>0                                    </td><td>0                                    </td><td>0                                    </td><td>⋯                                    </td><td>0                                    </td><td>0                                    </td><td>0                                    </td><td>0                                    </td><td>0                                    </td><td>0                                    </td><td>0                                    </td><td>0                                    </td><td>0                                    </td><td>0                                    </td></tr>\n",
       "</tbody>\n",
       "</table>\n"
      ],
      "text/latex": [
       "\\begin{tabular}{lllllllllllllllllllllllllllllllllllllllllllllllllllllllllllllllllllllllllllllllllllllllllllllllllllllllllllllllllllllllllllllllllllllllllllllllllllllllllllllllllllllllllllllllllllllllllllllllllllllllllll}\n",
       "\t 1865                                  & 1878                                  & 1897                                  & 1930                                  & 1937                                  & 1939                                  & 1941                                  & 1942                                  & 1944                                  & 1945                                  & ⋯                                     & 2002                                  & 2003                                  & 2003                                  & 2003                                  & 2003                                  & 2004                                  & 2004                                  & 2004                                  & 2004                                  & 2004                                 \\\\\n",
       "\t The Great Airships                    & Denison, Texas Daylight UFO           & The Aurora, Texas Crash               & Alien Picture from Alaska             & Discovery of the Dropa Discs          & Alien Bodies Confirmed (Cordell Hull) & Missouri Crash \\& Retrieval          & The Battle of Los Angeles             & World War II Foo-Fighters             & Lt. Gorman Chases a UFO               & ⋯                                     & Possible UFO Landing, Chile           & UFO Photographed / Wisconsin          & UFO Video / Tennessee, Shaffer        & UFO Incident, Screaming Sounds        & Ashland, Nebraska UFO Video           & Amelia, Ohio Bizarre UFO Incident     & Mexican Military Releases UFO Footage & Centerville, Ohio UFO Report          & Close Encounter in Tennessee          & Northern Ohio Sightings              \\\\\n",
       "\t USA                                   & USA                                   & USA                                   & Alaska                                & China                                 & USA                                   & USA                                   & USA                                   & Europe                                & USA                                   & ⋯                                     & Chile                                 & USA                                   & USA                                   & USA                                   & USA                                   & USA                                   & Mexico                                & USA                                   & USA                                   & USA                                  \\\\\n",
       "\t 1                                     & 0                                     & 1                                     & 0                                     & 0                                     & 0                                     & 1                                     & 1                                     & 0                                     & 0                                     & ⋯                                     & 1                                     & 0                                     & 0                                     & 1                                     & 0                                     & 1                                     & 1                                     & 1                                     & 1                                     & 1                                    \\\\\n",
       "\t 0                                     & 0                                     & 0                                     & 1                                     & 0                                     & 0                                     & 1                                     & 1                                     & 1                                     & 0                                     & ⋯                                     & 1                                     & 1                                     & 1                                     & 0                                     & 1                                     & 0                                     & 1                                     & 0                                     & 0                                     & 0                                    \\\\\n",
       "\t 1                                     & 0                                     & 1                                     & 1                                     & 0                                     & 1                                     & 1                                     & 0                                     & 0                                     & 0                                     & ⋯                                     & 0                                     & 0                                     & 0                                     & 0                                     & 0                                     & 0                                     & 0                                     & 0                                     & 0                                     & 0                                    \\\\\n",
       "\t 0                                     & 0                                     & 0                                     & 0                                     & 0                                     & 0                                     & 0                                     & 0                                     & 0                                     & 0                                     & ⋯                                     & 0                                     & 0                                     & 0                                     & 0                                     & 0                                     & 0                                     & 0                                     & 0                                     & 0                                     & 0                                    \\\\\n",
       "\\end{tabular}\n"
      ],
      "text/markdown": [
       "\n",
       "| 1865                                  | 1878                                  | 1897                                  | 1930                                  | 1937                                  | 1939                                  | 1941                                  | 1942                                  | 1944                                  | 1945                                  | ⋯                                     | 2002                                  | 2003                                  | 2003                                  | 2003                                  | 2003                                  | 2004                                  | 2004                                  | 2004                                  | 2004                                  | 2004                                  | \n",
       "| The Great Airships                    | Denison, Texas Daylight UFO           | The Aurora, Texas Crash               | Alien Picture from Alaska             | Discovery of the Dropa Discs          | Alien Bodies Confirmed (Cordell Hull) | Missouri Crash & Retrieval            | The Battle of Los Angeles             | World War II Foo-Fighters             | Lt. Gorman Chases a UFO               | ⋯                                     | Possible UFO Landing, Chile           | UFO Photographed / Wisconsin          | UFO Video / Tennessee, Shaffer        | UFO Incident, Screaming Sounds        | Ashland, Nebraska UFO Video           | Amelia, Ohio Bizarre UFO Incident     | Mexican Military Releases UFO Footage | Centerville, Ohio UFO Report          | Close Encounter in Tennessee          | Northern Ohio Sightings               | \n",
       "| USA                                   | USA                                   | USA                                   | Alaska                                | China                                 | USA                                   | USA                                   | USA                                   | Europe                                | USA                                   | ⋯                                     | Chile                                 | USA                                   | USA                                   | USA                                   | USA                                   | USA                                   | Mexico                                | USA                                   | USA                                   | USA                                   | \n",
       "| 1                                     | 0                                     | 1                                     | 0                                     | 0                                     | 0                                     | 1                                     | 1                                     | 0                                     | 0                                     | ⋯                                     | 1                                     | 0                                     | 0                                     | 1                                     | 0                                     | 1                                     | 1                                     | 1                                     | 1                                     | 1                                     | \n",
       "| 0                                     | 0                                     | 0                                     | 1                                     | 0                                     | 0                                     | 1                                     | 1                                     | 1                                     | 0                                     | ⋯                                     | 1                                     | 1                                     | 1                                     | 0                                     | 1                                     | 0                                     | 1                                     | 0                                     | 0                                     | 0                                     | \n",
       "| 1                                     | 0                                     | 1                                     | 1                                     | 0                                     | 1                                     | 1                                     | 0                                     | 0                                     | 0                                     | ⋯                                     | 0                                     | 0                                     | 0                                     | 0                                     | 0                                     | 0                                     | 0                                     | 0                                     | 0                                     | 0                                     | \n",
       "| 0                                     | 0                                     | 0                                     | 0                                     | 0                                     | 0                                     | 0                                     | 0                                     | 0                                     | 0                                     | ⋯                                     | 0                                     | 0                                     | 0                                     | 0                                     | 0                                     | 0                                     | 0                                     | 0                                     | 0                                     | 0                                     | \n",
       "\n",
       "\n"
      ],
      "text/plain": [
       "     [,1]               [,2]                        [,3]                   \n",
       "[1,] 1865               1878                        1897                   \n",
       "[2,] The Great Airships Denison, Texas Daylight UFO The Aurora, Texas Crash\n",
       "[3,] USA                USA                         USA                    \n",
       "[4,] 1                  0                           1                      \n",
       "[5,] 0                  0                           0                      \n",
       "[6,] 1                  0                           1                      \n",
       "[7,] 0                  0                           0                      \n",
       "     [,4]                      [,5]                        \n",
       "[1,] 1930                      1937                        \n",
       "[2,] Alien Picture from Alaska Discovery of the Dropa Discs\n",
       "[3,] Alaska                    China                       \n",
       "[4,] 0                         0                           \n",
       "[5,] 1                         0                           \n",
       "[6,] 1                         0                           \n",
       "[7,] 0                         0                           \n",
       "     [,6]                                  [,7]                      \n",
       "[1,] 1939                                  1941                      \n",
       "[2,] Alien Bodies Confirmed (Cordell Hull) Missouri Crash & Retrieval\n",
       "[3,] USA                                   USA                       \n",
       "[4,] 0                                     1                         \n",
       "[5,] 0                                     1                         \n",
       "[6,] 1                                     1                         \n",
       "[7,] 0                                     0                         \n",
       "     [,8]                      [,9]                     \n",
       "[1,] 1942                      1944                     \n",
       "[2,] The Battle of Los Angeles World War II Foo-Fighters\n",
       "[3,] USA                       Europe                   \n",
       "[4,] 1                         0                        \n",
       "[5,] 1                         1                        \n",
       "[6,] 0                         0                        \n",
       "[7,] 0                         0                        \n",
       "     [,10]                   [,11] [,12]                      \n",
       "[1,] 1945                    ⋯     2002                       \n",
       "[2,] Lt. Gorman Chases a UFO ⋯     Possible UFO Landing, Chile\n",
       "[3,] USA                     ⋯     Chile                      \n",
       "[4,] 0                       ⋯     1                          \n",
       "[5,] 0                       ⋯     1                          \n",
       "[6,] 0                       ⋯     0                          \n",
       "[7,] 0                       ⋯     0                          \n",
       "     [,13]                        [,14]                         \n",
       "[1,] 2003                         2003                          \n",
       "[2,] UFO Photographed / Wisconsin UFO Video / Tennessee, Shaffer\n",
       "[3,] USA                          USA                           \n",
       "[4,] 0                            0                             \n",
       "[5,] 1                            1                             \n",
       "[6,] 0                            0                             \n",
       "[7,] 0                            0                             \n",
       "     [,15]                          [,16]                      \n",
       "[1,] 2003                           2003                       \n",
       "[2,] UFO Incident, Screaming Sounds Ashland, Nebraska UFO Video\n",
       "[3,] USA                            USA                        \n",
       "[4,] 1                              0                          \n",
       "[5,] 0                              1                          \n",
       "[6,] 0                              0                          \n",
       "[7,] 0                              0                          \n",
       "     [,17]                             [,18]                                \n",
       "[1,] 2004                              2004                                 \n",
       "[2,] Amelia, Ohio Bizarre UFO Incident Mexican Military Releases UFO Footage\n",
       "[3,] USA                               Mexico                               \n",
       "[4,] 1                                 1                                    \n",
       "[5,] 0                                 1                                    \n",
       "[6,] 0                                 0                                    \n",
       "[7,] 0                                 0                                    \n",
       "     [,19]                        [,20]                       \n",
       "[1,] 2004                         2004                        \n",
       "[2,] Centerville, Ohio UFO Report Close Encounter in Tennessee\n",
       "[3,] USA                          USA                         \n",
       "[4,] 1                            1                           \n",
       "[5,] 0                            0                           \n",
       "[6,] 0                            0                           \n",
       "[7,] 0                            0                           \n",
       "     [,21]                  \n",
       "[1,] 2004                   \n",
       "[2,] Northern Ohio Sightings\n",
       "[3,] USA                    \n",
       "[4,] 1                      \n",
       "[5,] 0                      \n",
       "[6,] 0                      \n",
       "[7,] 0                      "
      ]
     },
     "metadata": {},
     "output_type": "display_data"
    }
   ],
   "source": [
    "output <- apply(m_ufocase, 1, function(x) x)\n",
    "class(output)\n",
    "output"
   ]
  },
  {
   "cell_type": "markdown",
   "metadata": {},
   "source": [
    "Jelikož `x` je vektor a zároveň jej z naší funkce vracíme, je zde funkcí `apply` interpretován jako jeden sloupec ve výsledné matici. Výsledkem je tedy transponovaná matice.\n",
    "\n",
    "Funkci `apply` lze též aplikovat na jiné datové typy než matice. Bez problémů lze použít i `data.frame` nebo vícerozměrné pole. Avšak výsledkem je vždy opět pouze matice,  vektor nebo pole:"
   ]
  },
  {
   "cell_type": "code",
   "execution_count": 39,
   "metadata": {},
   "outputs": [
    {
     "data": {
      "text/html": [
       "'array'"
      ],
      "text/latex": [
       "'array'"
      ],
      "text/markdown": [
       "'array'"
      ],
      "text/plain": [
       "[1] \"array\""
      ]
     },
     "metadata": {},
     "output_type": "display_data"
    },
    {
     "name": "stdout",
     "output_type": "stream",
     "text": [
      ", , 1\n",
      "\n",
      "     [,1] [,2] [,3]\n",
      "[1,]    1    3    5\n",
      "[2,]    2    4    6\n",
      "\n",
      ", , 2\n",
      "\n",
      "     [,1] [,2] [,3]\n",
      "[1,]    7    9   11\n",
      "[2,]    8   10   12\n",
      "\n"
     ]
    },
    {
     "data": {
      "text/html": [
       "'numeric'"
      ],
      "text/latex": [
       "'numeric'"
      ],
      "text/markdown": [
       "'numeric'"
      ],
      "text/plain": [
       "[1] \"numeric\""
      ]
     },
     "metadata": {},
     "output_type": "display_data"
    },
    {
     "data": {
      "text/html": [
       "'array'"
      ],
      "text/latex": [
       "'array'"
      ],
      "text/markdown": [
       "'array'"
      ],
      "text/plain": [
       "[1] \"array\""
      ]
     },
     "metadata": {},
     "output_type": "display_data"
    },
    {
     "name": "stdout",
     "output_type": "stream",
     "text": [
      ", , 1\n",
      "\n",
      "     [,1] [,2]\n",
      "[1,]    1    2\n",
      "[2,]    3    4\n",
      "[3,]    5    6\n",
      "\n",
      ", , 2\n",
      "\n",
      "     [,1] [,2]\n",
      "[1,]    7    8\n",
      "[2,]    9   10\n",
      "[3,]   11   12\n",
      "\n"
     ]
    }
   ],
   "source": [
    "ar_x <- array(1:12, dim = c(2, 3, 2))\n",
    "\n",
    "class(ar_x)\n",
    "print(ar_x)\n",
    "output <- apply(ar_x, c(1, 3), function(x) x)\n",
    "mode(output)\n",
    "class(output)\n",
    "print(output)"
   ]
  },
  {
   "cell_type": "markdown",
   "metadata": {},
   "source": [
    "V případě vícerozměrného pole tedy můžeme specifikovat více dimenzí, podle kterých se má iterovat. V našem příkladě jsme vlastně provedli transpozici podle první dimenze a transponované matice pak znovu \"navrstvili\" nad sebe podle třetí. Pokud bychom to udělali naopak, výsledek by byl jiný:"
   ]
  },
  {
   "cell_type": "code",
   "execution_count": 40,
   "metadata": {},
   "outputs": [
    {
     "name": "stdout",
     "output_type": "stream",
     "text": [
      ", , 1\n",
      "\n",
      "     [,1] [,2]\n",
      "[1,]    1    7\n",
      "[2,]    3    9\n",
      "[3,]    5   11\n",
      "\n",
      ", , 2\n",
      "\n",
      "     [,1] [,2]\n",
      "[1,]    2    8\n",
      "[2,]    4   10\n",
      "[3,]    6   12\n",
      "\n"
     ]
    }
   ],
   "source": [
    "output <- apply(ar_x, c(3, 1), function(x) x)\n",
    "print(output)"
   ]
  },
  {
   "cell_type": "markdown",
   "metadata": {},
   "source": [
    "Jak algoritmus procházel pole v tomto případě je jasnější, když si postupně vypíšeme jednotlivé výsledky:"
   ]
  },
  {
   "cell_type": "code",
   "execution_count": 41,
   "metadata": {},
   "outputs": [
    {
     "name": "stdout",
     "output_type": "stream",
     "text": [
      ", , 1\n",
      "\n",
      "     [,1] [,2] [,3]\n",
      "[1,]    1    3    5\n",
      "[2,]    2    4    6\n",
      "\n",
      ", , 2\n",
      "\n",
      "     [,1] [,2] [,3]\n",
      "[1,]    7    9   11\n",
      "[2,]    8   10   12\n",
      "\n",
      "[1] 1 3 5\n",
      "[1]  7  9 11\n",
      "[1] 2 4 6\n",
      "[1]  8 10 12\n",
      ", , 1\n",
      "\n",
      "     [,1] [,2]\n",
      "[1,]    1    7\n",
      "[2,]    3    9\n",
      "[3,]    5   11\n",
      "\n",
      ", , 2\n",
      "\n",
      "     [,1] [,2]\n",
      "[1,]    2    8\n",
      "[2,]    4   10\n",
      "[3,]    6   12\n",
      "\n"
     ]
    }
   ],
   "source": [
    "print(ar_x)\n",
    "output <- apply(ar_x, c(3, 1), function(x) print(x))   \n",
    "print(output)"
   ]
  },
  {
   "cell_type": "markdown",
   "metadata": {},
   "source": [
    "V případě datové tabulky obdržíme po obdobné transformaci matici. Jako příklad zde použijeme soubor `mtcars`, který jsme si již představili v předchozí lekci:"
   ]
  },
  {
   "cell_type": "code",
   "execution_count": 42,
   "metadata": {},
   "outputs": [
    {
     "data": {
      "text/html": [
       "'data.frame'"
      ],
      "text/latex": [
       "'data.frame'"
      ],
      "text/markdown": [
       "'data.frame'"
      ],
      "text/plain": [
       "[1] \"data.frame\""
      ]
     },
     "metadata": {},
     "output_type": "display_data"
    },
    {
     "data": {
      "text/html": [
       "<table>\n",
       "<thead><tr><th></th><th scope=col>mpg</th><th scope=col>cyl</th><th scope=col>disp</th><th scope=col>hp</th><th scope=col>drat</th><th scope=col>wt</th><th scope=col>qsec</th><th scope=col>vs</th><th scope=col>am</th><th scope=col>gear</th><th scope=col>carb</th></tr></thead>\n",
       "<tbody>\n",
       "\t<tr><th scope=row>Mazda RX4</th><td>21.0 </td><td>6    </td><td>160  </td><td>110  </td><td>3.90 </td><td>2.620</td><td>16.46</td><td>0    </td><td>1    </td><td>4    </td><td>4    </td></tr>\n",
       "\t<tr><th scope=row>Mazda RX4 Wag</th><td>21.0 </td><td>6    </td><td>160  </td><td>110  </td><td>3.90 </td><td>2.875</td><td>17.02</td><td>0    </td><td>1    </td><td>4    </td><td>4    </td></tr>\n",
       "\t<tr><th scope=row>Datsun 710</th><td>22.8 </td><td>4    </td><td>108  </td><td> 93  </td><td>3.85 </td><td>2.320</td><td>18.61</td><td>1    </td><td>1    </td><td>4    </td><td>1    </td></tr>\n",
       "\t<tr><th scope=row>Hornet 4 Drive</th><td>21.4 </td><td>6    </td><td>258  </td><td>110  </td><td>3.08 </td><td>3.215</td><td>19.44</td><td>1    </td><td>0    </td><td>3    </td><td>1    </td></tr>\n",
       "\t<tr><th scope=row>Hornet Sportabout</th><td>18.7 </td><td>8    </td><td>360  </td><td>175  </td><td>3.15 </td><td>3.440</td><td>17.02</td><td>0    </td><td>0    </td><td>3    </td><td>2    </td></tr>\n",
       "\t<tr><th scope=row>Valiant</th><td>18.1 </td><td>6    </td><td>225  </td><td>105  </td><td>2.76 </td><td>3.460</td><td>20.22</td><td>1    </td><td>0    </td><td>3    </td><td>1    </td></tr>\n",
       "</tbody>\n",
       "</table>\n"
      ],
      "text/latex": [
       "\\begin{tabular}{r|lllllllllll}\n",
       "  & mpg & cyl & disp & hp & drat & wt & qsec & vs & am & gear & carb\\\\\n",
       "\\hline\n",
       "\tMazda RX4 & 21.0  & 6     & 160   & 110   & 3.90  & 2.620 & 16.46 & 0     & 1     & 4     & 4    \\\\\n",
       "\tMazda RX4 Wag & 21.0  & 6     & 160   & 110   & 3.90  & 2.875 & 17.02 & 0     & 1     & 4     & 4    \\\\\n",
       "\tDatsun 710 & 22.8  & 4     & 108   &  93   & 3.85  & 2.320 & 18.61 & 1     & 1     & 4     & 1    \\\\\n",
       "\tHornet 4 Drive & 21.4  & 6     & 258   & 110   & 3.08  & 3.215 & 19.44 & 1     & 0     & 3     & 1    \\\\\n",
       "\tHornet Sportabout & 18.7  & 8     & 360   & 175   & 3.15  & 3.440 & 17.02 & 0     & 0     & 3     & 2    \\\\\n",
       "\tValiant & 18.1  & 6     & 225   & 105   & 2.76  & 3.460 & 20.22 & 1     & 0     & 3     & 1    \\\\\n",
       "\\end{tabular}\n"
      ],
      "text/markdown": [
       "\n",
       "| <!--/--> | mpg | cyl | disp | hp | drat | wt | qsec | vs | am | gear | carb | \n",
       "|---|---|---|---|---|---|\n",
       "| Mazda RX4 | 21.0  | 6     | 160   | 110   | 3.90  | 2.620 | 16.46 | 0     | 1     | 4     | 4     | \n",
       "| Mazda RX4 Wag | 21.0  | 6     | 160   | 110   | 3.90  | 2.875 | 17.02 | 0     | 1     | 4     | 4     | \n",
       "| Datsun 710 | 22.8  | 4     | 108   |  93   | 3.85  | 2.320 | 18.61 | 1     | 1     | 4     | 1     | \n",
       "| Hornet 4 Drive | 21.4  | 6     | 258   | 110   | 3.08  | 3.215 | 19.44 | 1     | 0     | 3     | 1     | \n",
       "| Hornet Sportabout | 18.7  | 8     | 360   | 175   | 3.15  | 3.440 | 17.02 | 0     | 0     | 3     | 2     | \n",
       "| Valiant | 18.1  | 6     | 225   | 105   | 2.76  | 3.460 | 20.22 | 1     | 0     | 3     | 1     | \n",
       "\n",
       "\n"
      ],
      "text/plain": [
       "                  mpg  cyl disp hp  drat wt    qsec  vs am gear carb\n",
       "Mazda RX4         21.0 6   160  110 3.90 2.620 16.46 0  1  4    4   \n",
       "Mazda RX4 Wag     21.0 6   160  110 3.90 2.875 17.02 0  1  4    4   \n",
       "Datsun 710        22.8 4   108   93 3.85 2.320 18.61 1  1  4    1   \n",
       "Hornet 4 Drive    21.4 6   258  110 3.08 3.215 19.44 1  0  3    1   \n",
       "Hornet Sportabout 18.7 8   360  175 3.15 3.440 17.02 0  0  3    2   \n",
       "Valiant           18.1 6   225  105 2.76 3.460 20.22 1  0  3    1   "
      ]
     },
     "metadata": {},
     "output_type": "display_data"
    },
    {
     "data": {
      "text/html": [
       "'numeric'"
      ],
      "text/latex": [
       "'numeric'"
      ],
      "text/markdown": [
       "'numeric'"
      ],
      "text/plain": [
       "[1] \"numeric\""
      ]
     },
     "metadata": {},
     "output_type": "display_data"
    },
    {
     "data": {
      "text/html": [
       "'matrix'"
      ],
      "text/latex": [
       "'matrix'"
      ],
      "text/markdown": [
       "'matrix'"
      ],
      "text/plain": [
       "[1] \"matrix\""
      ]
     },
     "metadata": {},
     "output_type": "display_data"
    },
    {
     "data": {
      "text/html": [
       "<table>\n",
       "<thead><tr><th></th><th scope=col>Mazda RX4</th><th scope=col>Mazda RX4 Wag</th><th scope=col>Datsun 710</th><th scope=col>Hornet 4 Drive</th><th scope=col>Hornet Sportabout</th><th scope=col>Valiant</th><th scope=col>Duster 360</th><th scope=col>Merc 240D</th><th scope=col>Merc 230</th><th scope=col>Merc 280</th><th scope=col>⋯</th><th scope=col>AMC Javelin</th><th scope=col>Camaro Z28</th><th scope=col>Pontiac Firebird</th><th scope=col>Fiat X1-9</th><th scope=col>Porsche 914-2</th><th scope=col>Lotus Europa</th><th scope=col>Ford Pantera L</th><th scope=col>Ferrari Dino</th><th scope=col>Maserati Bora</th><th scope=col>Volvo 142E</th></tr></thead>\n",
       "<tbody>\n",
       "\t<tr><th scope=row>mpg</th><td> 21.00 </td><td> 21.000</td><td> 22.80 </td><td> 21.400</td><td> 18.70 </td><td> 18.10 </td><td> 14.30 </td><td> 24.40 </td><td> 22.80 </td><td> 19.20 </td><td>⋯      </td><td> 15.200</td><td> 13.30 </td><td> 19.200</td><td>27.300 </td><td> 26.00 </td><td> 30.400</td><td> 15.80 </td><td> 19.70 </td><td> 15.00 </td><td> 21.40 </td></tr>\n",
       "\t<tr><th scope=row>cyl</th><td>  6.00 </td><td>  6.000</td><td>  4.00 </td><td>  6.000</td><td>  8.00 </td><td>  6.00 </td><td>  8.00 </td><td>  4.00 </td><td>  4.00 </td><td>  6.00 </td><td>⋯      </td><td>  8.000</td><td>  8.00 </td><td>  8.000</td><td> 4.000 </td><td>  4.00 </td><td>  4.000</td><td>  8.00 </td><td>  6.00 </td><td>  8.00 </td><td>  4.00 </td></tr>\n",
       "\t<tr><th scope=row>disp</th><td>160.00 </td><td>160.000</td><td>108.00 </td><td>258.000</td><td>360.00 </td><td>225.00 </td><td>360.00 </td><td>146.70 </td><td>140.80 </td><td>167.60 </td><td>⋯      </td><td>304.000</td><td>350.00 </td><td>400.000</td><td>79.000 </td><td>120.30 </td><td> 95.100</td><td>351.00 </td><td>145.00 </td><td>301.00 </td><td>121.00 </td></tr>\n",
       "\t<tr><th scope=row>hp</th><td>110.00 </td><td>110.000</td><td> 93.00 </td><td>110.000</td><td>175.00 </td><td>105.00 </td><td>245.00 </td><td> 62.00 </td><td> 95.00 </td><td>123.00 </td><td>⋯      </td><td>150.000</td><td>245.00 </td><td>175.000</td><td>66.000 </td><td> 91.00 </td><td>113.000</td><td>264.00 </td><td>175.00 </td><td>335.00 </td><td>109.00 </td></tr>\n",
       "\t<tr><th scope=row>drat</th><td>  3.90 </td><td>  3.900</td><td>  3.85 </td><td>  3.080</td><td>  3.15 </td><td>  2.76 </td><td>  3.21 </td><td>  3.69 </td><td>  3.92 </td><td>  3.92 </td><td>⋯      </td><td>  3.150</td><td>  3.73 </td><td>  3.080</td><td> 4.080 </td><td>  4.43 </td><td>  3.770</td><td>  4.22 </td><td>  3.62 </td><td>  3.54 </td><td>  4.11 </td></tr>\n",
       "\t<tr><th scope=row>wt</th><td>  2.62 </td><td>  2.875</td><td>  2.32 </td><td>  3.215</td><td>  3.44 </td><td>  3.46 </td><td>  3.57 </td><td>  3.19 </td><td>  3.15 </td><td>  3.44 </td><td>⋯      </td><td>  3.435</td><td>  3.84 </td><td>  3.845</td><td> 1.935 </td><td>  2.14 </td><td>  1.513</td><td>  3.17 </td><td>  2.77 </td><td>  3.57 </td><td>  2.78 </td></tr>\n",
       "\t<tr><th scope=row>qsec</th><td> 16.46 </td><td> 17.020</td><td> 18.61 </td><td> 19.440</td><td> 17.02 </td><td> 20.22 </td><td> 15.84 </td><td> 20.00 </td><td> 22.90 </td><td> 18.30 </td><td>⋯      </td><td> 17.300</td><td> 15.41 </td><td> 17.050</td><td>18.900 </td><td> 16.70 </td><td> 16.900</td><td> 14.50 </td><td> 15.50 </td><td> 14.60 </td><td> 18.60 </td></tr>\n",
       "\t<tr><th scope=row>vs</th><td>  0.00 </td><td>  0.000</td><td>  1.00 </td><td>  1.000</td><td>  0.00 </td><td>  1.00 </td><td>  0.00 </td><td>  1.00 </td><td>  1.00 </td><td>  1.00 </td><td>⋯      </td><td>  0.000</td><td>  0.00 </td><td>  0.000</td><td> 1.000 </td><td>  0.00 </td><td>  1.000</td><td>  0.00 </td><td>  0.00 </td><td>  0.00 </td><td>  1.00 </td></tr>\n",
       "\t<tr><th scope=row>am</th><td>  1.00 </td><td>  1.000</td><td>  1.00 </td><td>  0.000</td><td>  0.00 </td><td>  0.00 </td><td>  0.00 </td><td>  0.00 </td><td>  0.00 </td><td>  0.00 </td><td>⋯      </td><td>  0.000</td><td>  0.00 </td><td>  0.000</td><td> 1.000 </td><td>  1.00 </td><td>  1.000</td><td>  1.00 </td><td>  1.00 </td><td>  1.00 </td><td>  1.00 </td></tr>\n",
       "\t<tr><th scope=row>gear</th><td>  4.00 </td><td>  4.000</td><td>  4.00 </td><td>  3.000</td><td>  3.00 </td><td>  3.00 </td><td>  3.00 </td><td>  4.00 </td><td>  4.00 </td><td>  4.00 </td><td>⋯      </td><td>  3.000</td><td>  3.00 </td><td>  3.000</td><td> 4.000 </td><td>  5.00 </td><td>  5.000</td><td>  5.00 </td><td>  5.00 </td><td>  5.00 </td><td>  4.00 </td></tr>\n",
       "\t<tr><th scope=row>carb</th><td>  4.00 </td><td>  4.000</td><td>  1.00 </td><td>  1.000</td><td>  2.00 </td><td>  1.00 </td><td>  4.00 </td><td>  2.00 </td><td>  2.00 </td><td>  4.00 </td><td>⋯      </td><td>  2.000</td><td>  4.00 </td><td>  2.000</td><td> 1.000 </td><td>  2.00 </td><td>  2.000</td><td>  4.00 </td><td>  6.00 </td><td>  8.00 </td><td>  2.00 </td></tr>\n",
       "</tbody>\n",
       "</table>\n"
      ],
      "text/latex": [
       "\\begin{tabular}{r|llllllllllllllllllllllllllllllll}\n",
       "  & Mazda RX4 & Mazda RX4 Wag & Datsun 710 & Hornet 4 Drive & Hornet Sportabout & Valiant & Duster 360 & Merc 240D & Merc 230 & Merc 280 & ⋯ & AMC Javelin & Camaro Z28 & Pontiac Firebird & Fiat X1-9 & Porsche 914-2 & Lotus Europa & Ford Pantera L & Ferrari Dino & Maserati Bora & Volvo 142E\\\\\n",
       "\\hline\n",
       "\tmpg &  21.00  &  21.000 &  22.80  &  21.400 &  18.70  &  18.10  &  14.30  &  24.40  &  22.80  &  19.20  & ⋯       &  15.200 &  13.30  &  19.200 & 27.300  &  26.00  &  30.400 &  15.80  &  19.70  &  15.00  &  21.40 \\\\\n",
       "\tcyl &   6.00  &   6.000 &   4.00  &   6.000 &   8.00  &   6.00  &   8.00  &   4.00  &   4.00  &   6.00  & ⋯       &   8.000 &   8.00  &   8.000 &  4.000  &   4.00  &   4.000 &   8.00  &   6.00  &   8.00  &   4.00 \\\\\n",
       "\tdisp & 160.00  & 160.000 & 108.00  & 258.000 & 360.00  & 225.00  & 360.00  & 146.70  & 140.80  & 167.60  & ⋯       & 304.000 & 350.00  & 400.000 & 79.000  & 120.30  &  95.100 & 351.00  & 145.00  & 301.00  & 121.00 \\\\\n",
       "\thp & 110.00  & 110.000 &  93.00  & 110.000 & 175.00  & 105.00  & 245.00  &  62.00  &  95.00  & 123.00  & ⋯       & 150.000 & 245.00  & 175.000 & 66.000  &  91.00  & 113.000 & 264.00  & 175.00  & 335.00  & 109.00 \\\\\n",
       "\tdrat &   3.90  &   3.900 &   3.85  &   3.080 &   3.15  &   2.76  &   3.21  &   3.69  &   3.92  &   3.92  & ⋯       &   3.150 &   3.73  &   3.080 &  4.080  &   4.43  &   3.770 &   4.22  &   3.62  &   3.54  &   4.11 \\\\\n",
       "\twt &   2.62  &   2.875 &   2.32  &   3.215 &   3.44  &   3.46  &   3.57  &   3.19  &   3.15  &   3.44  & ⋯       &   3.435 &   3.84  &   3.845 &  1.935  &   2.14  &   1.513 &   3.17  &   2.77  &   3.57  &   2.78 \\\\\n",
       "\tqsec &  16.46  &  17.020 &  18.61  &  19.440 &  17.02  &  20.22  &  15.84  &  20.00  &  22.90  &  18.30  & ⋯       &  17.300 &  15.41  &  17.050 & 18.900  &  16.70  &  16.900 &  14.50  &  15.50  &  14.60  &  18.60 \\\\\n",
       "\tvs &   0.00  &   0.000 &   1.00  &   1.000 &   0.00  &   1.00  &   0.00  &   1.00  &   1.00  &   1.00  & ⋯       &   0.000 &   0.00  &   0.000 &  1.000  &   0.00  &   1.000 &   0.00  &   0.00  &   0.00  &   1.00 \\\\\n",
       "\tam &   1.00  &   1.000 &   1.00  &   0.000 &   0.00  &   0.00  &   0.00  &   0.00  &   0.00  &   0.00  & ⋯       &   0.000 &   0.00  &   0.000 &  1.000  &   1.00  &   1.000 &   1.00  &   1.00  &   1.00  &   1.00 \\\\\n",
       "\tgear &   4.00  &   4.000 &   4.00  &   3.000 &   3.00  &   3.00  &   3.00  &   4.00  &   4.00  &   4.00  & ⋯       &   3.000 &   3.00  &   3.000 &  4.000  &   5.00  &   5.000 &   5.00  &   5.00  &   5.00  &   4.00 \\\\\n",
       "\tcarb &   4.00  &   4.000 &   1.00  &   1.000 &   2.00  &   1.00  &   4.00  &   2.00  &   2.00  &   4.00  & ⋯       &   2.000 &   4.00  &   2.000 &  1.000  &   2.00  &   2.000 &   4.00  &   6.00  &   8.00  &   2.00 \\\\\n",
       "\\end{tabular}\n"
      ],
      "text/markdown": [
       "\n",
       "| <!--/--> | Mazda RX4 | Mazda RX4 Wag | Datsun 710 | Hornet 4 Drive | Hornet Sportabout | Valiant | Duster 360 | Merc 240D | Merc 230 | Merc 280 | ⋯ | AMC Javelin | Camaro Z28 | Pontiac Firebird | Fiat X1-9 | Porsche 914-2 | Lotus Europa | Ford Pantera L | Ferrari Dino | Maserati Bora | Volvo 142E | \n",
       "|---|---|---|---|---|---|---|---|---|---|---|\n",
       "| mpg |  21.00  |  21.000 |  22.80  |  21.400 |  18.70  |  18.10  |  14.30  |  24.40  |  22.80  |  19.20  | ⋯       |  15.200 |  13.30  |  19.200 | 27.300  |  26.00  |  30.400 |  15.80  |  19.70  |  15.00  |  21.40  | \n",
       "| cyl |   6.00  |   6.000 |   4.00  |   6.000 |   8.00  |   6.00  |   8.00  |   4.00  |   4.00  |   6.00  | ⋯       |   8.000 |   8.00  |   8.000 |  4.000  |   4.00  |   4.000 |   8.00  |   6.00  |   8.00  |   4.00  | \n",
       "| disp | 160.00  | 160.000 | 108.00  | 258.000 | 360.00  | 225.00  | 360.00  | 146.70  | 140.80  | 167.60  | ⋯       | 304.000 | 350.00  | 400.000 | 79.000  | 120.30  |  95.100 | 351.00  | 145.00  | 301.00  | 121.00  | \n",
       "| hp | 110.00  | 110.000 |  93.00  | 110.000 | 175.00  | 105.00  | 245.00  |  62.00  |  95.00  | 123.00  | ⋯       | 150.000 | 245.00  | 175.000 | 66.000  |  91.00  | 113.000 | 264.00  | 175.00  | 335.00  | 109.00  | \n",
       "| drat |   3.90  |   3.900 |   3.85  |   3.080 |   3.15  |   2.76  |   3.21  |   3.69  |   3.92  |   3.92  | ⋯       |   3.150 |   3.73  |   3.080 |  4.080  |   4.43  |   3.770 |   4.22  |   3.62  |   3.54  |   4.11  | \n",
       "| wt |   2.62  |   2.875 |   2.32  |   3.215 |   3.44  |   3.46  |   3.57  |   3.19  |   3.15  |   3.44  | ⋯       |   3.435 |   3.84  |   3.845 |  1.935  |   2.14  |   1.513 |   3.17  |   2.77  |   3.57  |   2.78  | \n",
       "| qsec |  16.46  |  17.020 |  18.61  |  19.440 |  17.02  |  20.22  |  15.84  |  20.00  |  22.90  |  18.30  | ⋯       |  17.300 |  15.41  |  17.050 | 18.900  |  16.70  |  16.900 |  14.50  |  15.50  |  14.60  |  18.60  | \n",
       "| vs |   0.00  |   0.000 |   1.00  |   1.000 |   0.00  |   1.00  |   0.00  |   1.00  |   1.00  |   1.00  | ⋯       |   0.000 |   0.00  |   0.000 |  1.000  |   0.00  |   1.000 |   0.00  |   0.00  |   0.00  |   1.00  | \n",
       "| am |   1.00  |   1.000 |   1.00  |   0.000 |   0.00  |   0.00  |   0.00  |   0.00  |   0.00  |   0.00  | ⋯       |   0.000 |   0.00  |   0.000 |  1.000  |   1.00  |   1.000 |   1.00  |   1.00  |   1.00  |   1.00  | \n",
       "| gear |   4.00  |   4.000 |   4.00  |   3.000 |   3.00  |   3.00  |   3.00  |   4.00  |   4.00  |   4.00  | ⋯       |   3.000 |   3.00  |   3.000 |  4.000  |   5.00  |   5.000 |   5.00  |   5.00  |   5.00  |   4.00  | \n",
       "| carb |   4.00  |   4.000 |   1.00  |   1.000 |   2.00  |   1.00  |   4.00  |   2.00  |   2.00  |   4.00  | ⋯       |   2.000 |   4.00  |   2.000 |  1.000  |   2.00  |   2.000 |   4.00  |   6.00  |   8.00  |   2.00  | \n",
       "\n",
       "\n"
      ],
      "text/plain": [
       "     Mazda RX4 Mazda RX4 Wag Datsun 710 Hornet 4 Drive Hornet Sportabout\n",
       "mpg   21.00     21.000        22.80      21.400         18.70           \n",
       "cyl    6.00      6.000         4.00       6.000          8.00           \n",
       "disp 160.00    160.000       108.00     258.000        360.00           \n",
       "hp   110.00    110.000        93.00     110.000        175.00           \n",
       "drat   3.90      3.900         3.85       3.080          3.15           \n",
       "wt     2.62      2.875         2.32       3.215          3.44           \n",
       "qsec  16.46     17.020        18.61      19.440         17.02           \n",
       "vs     0.00      0.000         1.00       1.000          0.00           \n",
       "am     1.00      1.000         1.00       0.000          0.00           \n",
       "gear   4.00      4.000         4.00       3.000          3.00           \n",
       "carb   4.00      4.000         1.00       1.000          2.00           \n",
       "     Valiant Duster 360 Merc 240D Merc 230 Merc 280 ⋯ AMC Javelin Camaro Z28\n",
       "mpg   18.10   14.30      24.40     22.80    19.20   ⋯  15.200      13.30    \n",
       "cyl    6.00    8.00       4.00      4.00     6.00   ⋯   8.000       8.00    \n",
       "disp 225.00  360.00     146.70    140.80   167.60   ⋯ 304.000     350.00    \n",
       "hp   105.00  245.00      62.00     95.00   123.00   ⋯ 150.000     245.00    \n",
       "drat   2.76    3.21       3.69      3.92     3.92   ⋯   3.150       3.73    \n",
       "wt     3.46    3.57       3.19      3.15     3.44   ⋯   3.435       3.84    \n",
       "qsec  20.22   15.84      20.00     22.90    18.30   ⋯  17.300      15.41    \n",
       "vs     1.00    0.00       1.00      1.00     1.00   ⋯   0.000       0.00    \n",
       "am     0.00    0.00       0.00      0.00     0.00   ⋯   0.000       0.00    \n",
       "gear   3.00    3.00       4.00      4.00     4.00   ⋯   3.000       3.00    \n",
       "carb   1.00    4.00       2.00      2.00     4.00   ⋯   2.000       4.00    \n",
       "     Pontiac Firebird Fiat X1-9 Porsche 914-2 Lotus Europa Ford Pantera L\n",
       "mpg   19.200          27.300     26.00         30.400       15.80        \n",
       "cyl    8.000           4.000      4.00          4.000        8.00        \n",
       "disp 400.000          79.000    120.30         95.100      351.00        \n",
       "hp   175.000          66.000     91.00        113.000      264.00        \n",
       "drat   3.080           4.080      4.43          3.770        4.22        \n",
       "wt     3.845           1.935      2.14          1.513        3.17        \n",
       "qsec  17.050          18.900     16.70         16.900       14.50        \n",
       "vs     0.000           1.000      0.00          1.000        0.00        \n",
       "am     0.000           1.000      1.00          1.000        1.00        \n",
       "gear   3.000           4.000      5.00          5.000        5.00        \n",
       "carb   2.000           1.000      2.00          2.000        4.00        \n",
       "     Ferrari Dino Maserati Bora Volvo 142E\n",
       "mpg   19.70        15.00         21.40    \n",
       "cyl    6.00         8.00          4.00    \n",
       "disp 145.00       301.00        121.00    \n",
       "hp   175.00       335.00        109.00    \n",
       "drat   3.62         3.54          4.11    \n",
       "wt     2.77         3.57          2.78    \n",
       "qsec  15.50        14.60         18.60    \n",
       "vs     0.00         0.00          1.00    \n",
       "am     1.00         1.00          1.00    \n",
       "gear   5.00         5.00          4.00    \n",
       "carb   6.00         8.00          2.00    "
      ]
     },
     "metadata": {},
     "output_type": "display_data"
    }
   ],
   "source": [
    "class(mtcars)\n",
    "head(mtcars)\n",
    "output <- apply(mtcars, 1, function(x) x)\n",
    "mode(output) # numeric\n",
    "class(output)\n",
    "output"
   ]
  },
  {
   "cell_type": "markdown",
   "metadata": {},
   "source": [
    "Pokud je v objektu přítomno více datových typů, jsou všechny položky ve výsledku  převedeny na ten největší společný. Pokud tedy do souboru `mtcars` přidáme sloupec, který je typu `character`, bude pak výsledkem matice, kde všechny prvky budou též typu `character`:"
   ]
  },
  {
   "cell_type": "code",
   "execution_count": 43,
   "metadata": {},
   "outputs": [
    {
     "data": {
      "text/html": [
       "'data.frame'"
      ],
      "text/latex": [
       "'data.frame'"
      ],
      "text/markdown": [
       "'data.frame'"
      ],
      "text/plain": [
       "[1] \"data.frame\""
      ]
     },
     "metadata": {},
     "output_type": "display_data"
    },
    {
     "data": {
      "text/html": [
       "<table>\n",
       "<thead><tr><th></th><th scope=col>mpg</th><th scope=col>cyl</th><th scope=col>disp</th><th scope=col>hp</th><th scope=col>drat</th><th scope=col>wt</th><th scope=col>qsec</th><th scope=col>vs</th><th scope=col>am</th><th scope=col>gear</th><th scope=col>carb</th><th scope=col>model_name</th></tr></thead>\n",
       "<tbody>\n",
       "\t<tr><th scope=row>Mazda RX4</th><td>21.0             </td><td>6                </td><td>160              </td><td>110              </td><td>3.90             </td><td>2.620            </td><td>16.46            </td><td>0                </td><td>1                </td><td>4                </td><td>4                </td><td>Mazda RX4        </td></tr>\n",
       "\t<tr><th scope=row>Mazda RX4 Wag</th><td>21.0             </td><td>6                </td><td>160              </td><td>110              </td><td>3.90             </td><td>2.875            </td><td>17.02            </td><td>0                </td><td>1                </td><td>4                </td><td>4                </td><td>Mazda RX4 Wag    </td></tr>\n",
       "\t<tr><th scope=row>Datsun 710</th><td>22.8             </td><td>4                </td><td>108              </td><td> 93              </td><td>3.85             </td><td>2.320            </td><td>18.61            </td><td>1                </td><td>1                </td><td>4                </td><td>1                </td><td>Datsun 710       </td></tr>\n",
       "\t<tr><th scope=row>Hornet 4 Drive</th><td>21.4             </td><td>6                </td><td>258              </td><td>110              </td><td>3.08             </td><td>3.215            </td><td>19.44            </td><td>1                </td><td>0                </td><td>3                </td><td>1                </td><td>Hornet 4 Drive   </td></tr>\n",
       "\t<tr><th scope=row>Hornet Sportabout</th><td>18.7             </td><td>8                </td><td>360              </td><td>175              </td><td>3.15             </td><td>3.440            </td><td>17.02            </td><td>0                </td><td>0                </td><td>3                </td><td>2                </td><td>Hornet Sportabout</td></tr>\n",
       "\t<tr><th scope=row>Valiant</th><td>18.1             </td><td>6                </td><td>225              </td><td>105              </td><td>2.76             </td><td>3.460            </td><td>20.22            </td><td>1                </td><td>0                </td><td>3                </td><td>1                </td><td>Valiant          </td></tr>\n",
       "</tbody>\n",
       "</table>\n"
      ],
      "text/latex": [
       "\\begin{tabular}{r|llllllllllll}\n",
       "  & mpg & cyl & disp & hp & drat & wt & qsec & vs & am & gear & carb & model\\_name\\\\\n",
       "\\hline\n",
       "\tMazda RX4 & 21.0              & 6                 & 160               & 110               & 3.90              & 2.620             & 16.46             & 0                 & 1                 & 4                 & 4                 & Mazda RX4        \\\\\n",
       "\tMazda RX4 Wag & 21.0              & 6                 & 160               & 110               & 3.90              & 2.875             & 17.02             & 0                 & 1                 & 4                 & 4                 & Mazda RX4 Wag    \\\\\n",
       "\tDatsun 710 & 22.8              & 4                 & 108               &  93               & 3.85              & 2.320             & 18.61             & 1                 & 1                 & 4                 & 1                 & Datsun 710       \\\\\n",
       "\tHornet 4 Drive & 21.4              & 6                 & 258               & 110               & 3.08              & 3.215             & 19.44             & 1                 & 0                 & 3                 & 1                 & Hornet 4 Drive   \\\\\n",
       "\tHornet Sportabout & 18.7              & 8                 & 360               & 175               & 3.15              & 3.440             & 17.02             & 0                 & 0                 & 3                 & 2                 & Hornet Sportabout\\\\\n",
       "\tValiant & 18.1              & 6                 & 225               & 105               & 2.76              & 3.460             & 20.22             & 1                 & 0                 & 3                 & 1                 & Valiant          \\\\\n",
       "\\end{tabular}\n"
      ],
      "text/markdown": [
       "\n",
       "| <!--/--> | mpg | cyl | disp | hp | drat | wt | qsec | vs | am | gear | carb | model_name | \n",
       "|---|---|---|---|---|---|\n",
       "| Mazda RX4 | 21.0              | 6                 | 160               | 110               | 3.90              | 2.620             | 16.46             | 0                 | 1                 | 4                 | 4                 | Mazda RX4         | \n",
       "| Mazda RX4 Wag | 21.0              | 6                 | 160               | 110               | 3.90              | 2.875             | 17.02             | 0                 | 1                 | 4                 | 4                 | Mazda RX4 Wag     | \n",
       "| Datsun 710 | 22.8              | 4                 | 108               |  93               | 3.85              | 2.320             | 18.61             | 1                 | 1                 | 4                 | 1                 | Datsun 710        | \n",
       "| Hornet 4 Drive | 21.4              | 6                 | 258               | 110               | 3.08              | 3.215             | 19.44             | 1                 | 0                 | 3                 | 1                 | Hornet 4 Drive    | \n",
       "| Hornet Sportabout | 18.7              | 8                 | 360               | 175               | 3.15              | 3.440             | 17.02             | 0                 | 0                 | 3                 | 2                 | Hornet Sportabout | \n",
       "| Valiant | 18.1              | 6                 | 225               | 105               | 2.76              | 3.460             | 20.22             | 1                 | 0                 | 3                 | 1                 | Valiant           | \n",
       "\n",
       "\n"
      ],
      "text/plain": [
       "                  mpg  cyl disp hp  drat wt    qsec  vs am gear carb\n",
       "Mazda RX4         21.0 6   160  110 3.90 2.620 16.46 0  1  4    4   \n",
       "Mazda RX4 Wag     21.0 6   160  110 3.90 2.875 17.02 0  1  4    4   \n",
       "Datsun 710        22.8 4   108   93 3.85 2.320 18.61 1  1  4    1   \n",
       "Hornet 4 Drive    21.4 6   258  110 3.08 3.215 19.44 1  0  3    1   \n",
       "Hornet Sportabout 18.7 8   360  175 3.15 3.440 17.02 0  0  3    2   \n",
       "Valiant           18.1 6   225  105 2.76 3.460 20.22 1  0  3    1   \n",
       "                  model_name       \n",
       "Mazda RX4         Mazda RX4        \n",
       "Mazda RX4 Wag     Mazda RX4 Wag    \n",
       "Datsun 710        Datsun 710       \n",
       "Hornet 4 Drive    Hornet 4 Drive   \n",
       "Hornet Sportabout Hornet Sportabout\n",
       "Valiant           Valiant          "
      ]
     },
     "metadata": {},
     "output_type": "display_data"
    },
    {
     "data": {
      "text/html": [
       "'character'"
      ],
      "text/latex": [
       "'character'"
      ],
      "text/markdown": [
       "'character'"
      ],
      "text/plain": [
       "[1] \"character\""
      ]
     },
     "metadata": {},
     "output_type": "display_data"
    },
    {
     "data": {
      "text/html": [
       "'matrix'"
      ],
      "text/latex": [
       "'matrix'"
      ],
      "text/markdown": [
       "'matrix'"
      ],
      "text/plain": [
       "[1] \"matrix\""
      ]
     },
     "metadata": {},
     "output_type": "display_data"
    },
    {
     "data": {
      "text/html": [
       "<table>\n",
       "<thead><tr><th></th><th scope=col>Mazda RX4</th><th scope=col>Mazda RX4 Wag</th><th scope=col>Datsun 710</th><th scope=col>Hornet 4 Drive</th><th scope=col>Hornet Sportabout</th><th scope=col>Valiant</th><th scope=col>Duster 360</th><th scope=col>Merc 240D</th><th scope=col>Merc 230</th><th scope=col>Merc 280</th><th scope=col>⋯</th><th scope=col>AMC Javelin</th><th scope=col>Camaro Z28</th><th scope=col>Pontiac Firebird</th><th scope=col>Fiat X1-9</th><th scope=col>Porsche 914-2</th><th scope=col>Lotus Europa</th><th scope=col>Ford Pantera L</th><th scope=col>Ferrari Dino</th><th scope=col>Maserati Bora</th><th scope=col>Volvo 142E</th></tr></thead>\n",
       "<tbody>\n",
       "\t<tr><th scope=row>mpg</th><td>21.0             </td><td>21.0             </td><td>22.8             </td><td>21.4             </td><td>18.7             </td><td>18.1             </td><td>14.3             </td><td>24.4             </td><td>22.8             </td><td>19.2             </td><td>⋯                </td><td>15.2             </td><td>13.3             </td><td>19.2             </td><td>27.3             </td><td>26.0             </td><td>30.4             </td><td>15.8             </td><td>19.7             </td><td>15.0             </td><td>21.4             </td></tr>\n",
       "\t<tr><th scope=row>cyl</th><td>6                </td><td>6                </td><td>4                </td><td>6                </td><td>8                </td><td>6                </td><td>8                </td><td>4                </td><td>4                </td><td>6                </td><td>⋯                </td><td>8                </td><td>8                </td><td>8                </td><td>4                </td><td>4                </td><td>4                </td><td>8                </td><td>6                </td><td>8                </td><td>4                </td></tr>\n",
       "\t<tr><th scope=row>disp</th><td>160.0            </td><td>160.0            </td><td>108.0            </td><td>258.0            </td><td>360.0            </td><td>225.0            </td><td>360.0            </td><td>146.7            </td><td>140.8            </td><td>167.6            </td><td>⋯                </td><td>304.0            </td><td>350.0            </td><td>400.0            </td><td> 79.0            </td><td>120.3            </td><td> 95.1            </td><td>351.0            </td><td>145.0            </td><td>301.0            </td><td>121.0            </td></tr>\n",
       "\t<tr><th scope=row>hp</th><td>110              </td><td>110              </td><td> 93              </td><td>110              </td><td>175              </td><td>105              </td><td>245              </td><td> 62              </td><td> 95              </td><td>123              </td><td>⋯                </td><td>150              </td><td>245              </td><td>175              </td><td> 66              </td><td> 91              </td><td>113              </td><td>264              </td><td>175              </td><td>335              </td><td>109              </td></tr>\n",
       "\t<tr><th scope=row>drat</th><td>3.90             </td><td>3.90             </td><td>3.85             </td><td>3.08             </td><td>3.15             </td><td>2.76             </td><td>3.21             </td><td>3.69             </td><td>3.92             </td><td>3.92             </td><td>⋯                </td><td>3.15             </td><td>3.73             </td><td>3.08             </td><td>4.08             </td><td>4.43             </td><td>3.77             </td><td>4.22             </td><td>3.62             </td><td>3.54             </td><td>4.11             </td></tr>\n",
       "\t<tr><th scope=row>wt</th><td>2.620            </td><td>2.875            </td><td>2.320            </td><td>3.215            </td><td>3.440            </td><td>3.460            </td><td>3.570            </td><td>3.190            </td><td>3.150            </td><td>3.440            </td><td>⋯                </td><td>3.435            </td><td>3.840            </td><td>3.845            </td><td>1.935            </td><td>2.140            </td><td>1.513            </td><td>3.170            </td><td>2.770            </td><td>3.570            </td><td>2.780            </td></tr>\n",
       "\t<tr><th scope=row>qsec</th><td>16.46            </td><td>17.02            </td><td>18.61            </td><td>19.44            </td><td>17.02            </td><td>20.22            </td><td>15.84            </td><td>20.00            </td><td>22.90            </td><td>18.30            </td><td>⋯                </td><td>17.30            </td><td>15.41            </td><td>17.05            </td><td>18.90            </td><td>16.70            </td><td>16.90            </td><td>14.50            </td><td>15.50            </td><td>14.60            </td><td>18.60            </td></tr>\n",
       "\t<tr><th scope=row>vs</th><td>0                </td><td>0                </td><td>1                </td><td>1                </td><td>0                </td><td>1                </td><td>0                </td><td>1                </td><td>1                </td><td>1                </td><td>⋯                </td><td>0                </td><td>0                </td><td>0                </td><td>1                </td><td>0                </td><td>1                </td><td>0                </td><td>0                </td><td>0                </td><td>1                </td></tr>\n",
       "\t<tr><th scope=row>am</th><td>1                </td><td>1                </td><td>1                </td><td>0                </td><td>0                </td><td>0                </td><td>0                </td><td>0                </td><td>0                </td><td>0                </td><td>⋯                </td><td>0                </td><td>0                </td><td>0                </td><td>1                </td><td>1                </td><td>1                </td><td>1                </td><td>1                </td><td>1                </td><td>1                </td></tr>\n",
       "\t<tr><th scope=row>gear</th><td>4                </td><td>4                </td><td>4                </td><td>3                </td><td>3                </td><td>3                </td><td>3                </td><td>4                </td><td>4                </td><td>4                </td><td>⋯                </td><td>3                </td><td>3                </td><td>3                </td><td>4                </td><td>5                </td><td>5                </td><td>5                </td><td>5                </td><td>5                </td><td>4                </td></tr>\n",
       "\t<tr><th scope=row>carb</th><td>4                </td><td>4                </td><td>1                </td><td>1                </td><td>2                </td><td>1                </td><td>4                </td><td>2                </td><td>2                </td><td>4                </td><td>⋯                </td><td>2                </td><td>4                </td><td>2                </td><td>1                </td><td>2                </td><td>2                </td><td>4                </td><td>6                </td><td>8                </td><td>2                </td></tr>\n",
       "\t<tr><th scope=row>model_name</th><td>Mazda RX4        </td><td>Mazda RX4 Wag    </td><td>Datsun 710       </td><td>Hornet 4 Drive   </td><td>Hornet Sportabout</td><td>Valiant          </td><td>Duster 360       </td><td>Merc 240D        </td><td>Merc 230         </td><td>Merc 280         </td><td>⋯                </td><td>AMC Javelin      </td><td>Camaro Z28       </td><td>Pontiac Firebird </td><td>Fiat X1-9        </td><td>Porsche 914-2    </td><td>Lotus Europa     </td><td>Ford Pantera L   </td><td>Ferrari Dino     </td><td>Maserati Bora    </td><td>Volvo 142E       </td></tr>\n",
       "</tbody>\n",
       "</table>\n"
      ],
      "text/latex": [
       "\\begin{tabular}{r|llllllllllllllllllllllllllllllll}\n",
       "  & Mazda RX4 & Mazda RX4 Wag & Datsun 710 & Hornet 4 Drive & Hornet Sportabout & Valiant & Duster 360 & Merc 240D & Merc 230 & Merc 280 & ⋯ & AMC Javelin & Camaro Z28 & Pontiac Firebird & Fiat X1-9 & Porsche 914-2 & Lotus Europa & Ford Pantera L & Ferrari Dino & Maserati Bora & Volvo 142E\\\\\n",
       "\\hline\n",
       "\tmpg & 21.0              & 21.0              & 22.8              & 21.4              & 18.7              & 18.1              & 14.3              & 24.4              & 22.8              & 19.2              & ⋯                 & 15.2              & 13.3              & 19.2              & 27.3              & 26.0              & 30.4              & 15.8              & 19.7              & 15.0              & 21.4             \\\\\n",
       "\tcyl & 6                 & 6                 & 4                 & 6                 & 8                 & 6                 & 8                 & 4                 & 4                 & 6                 & ⋯                 & 8                 & 8                 & 8                 & 4                 & 4                 & 4                 & 8                 & 6                 & 8                 & 4                \\\\\n",
       "\tdisp & 160.0             & 160.0             & 108.0             & 258.0             & 360.0             & 225.0             & 360.0             & 146.7             & 140.8             & 167.6             & ⋯                 & 304.0             & 350.0             & 400.0             &  79.0             & 120.3             &  95.1             & 351.0             & 145.0             & 301.0             & 121.0            \\\\\n",
       "\thp & 110               & 110               &  93               & 110               & 175               & 105               & 245               &  62               &  95               & 123               & ⋯                 & 150               & 245               & 175               &  66               &  91               & 113               & 264               & 175               & 335               & 109              \\\\\n",
       "\tdrat & 3.90              & 3.90              & 3.85              & 3.08              & 3.15              & 2.76              & 3.21              & 3.69              & 3.92              & 3.92              & ⋯                 & 3.15              & 3.73              & 3.08              & 4.08              & 4.43              & 3.77              & 4.22              & 3.62              & 3.54              & 4.11             \\\\\n",
       "\twt & 2.620             & 2.875             & 2.320             & 3.215             & 3.440             & 3.460             & 3.570             & 3.190             & 3.150             & 3.440             & ⋯                 & 3.435             & 3.840             & 3.845             & 1.935             & 2.140             & 1.513             & 3.170             & 2.770             & 3.570             & 2.780            \\\\\n",
       "\tqsec & 16.46             & 17.02             & 18.61             & 19.44             & 17.02             & 20.22             & 15.84             & 20.00             & 22.90             & 18.30             & ⋯                 & 17.30             & 15.41             & 17.05             & 18.90             & 16.70             & 16.90             & 14.50             & 15.50             & 14.60             & 18.60            \\\\\n",
       "\tvs & 0                 & 0                 & 1                 & 1                 & 0                 & 1                 & 0                 & 1                 & 1                 & 1                 & ⋯                 & 0                 & 0                 & 0                 & 1                 & 0                 & 1                 & 0                 & 0                 & 0                 & 1                \\\\\n",
       "\tam & 1                 & 1                 & 1                 & 0                 & 0                 & 0                 & 0                 & 0                 & 0                 & 0                 & ⋯                 & 0                 & 0                 & 0                 & 1                 & 1                 & 1                 & 1                 & 1                 & 1                 & 1                \\\\\n",
       "\tgear & 4                 & 4                 & 4                 & 3                 & 3                 & 3                 & 3                 & 4                 & 4                 & 4                 & ⋯                 & 3                 & 3                 & 3                 & 4                 & 5                 & 5                 & 5                 & 5                 & 5                 & 4                \\\\\n",
       "\tcarb & 4                 & 4                 & 1                 & 1                 & 2                 & 1                 & 4                 & 2                 & 2                 & 4                 & ⋯                 & 2                 & 4                 & 2                 & 1                 & 2                 & 2                 & 4                 & 6                 & 8                 & 2                \\\\\n",
       "\tmodel\\_name & Mazda RX4         & Mazda RX4 Wag     & Datsun 710        & Hornet 4 Drive    & Hornet Sportabout & Valiant           & Duster 360        & Merc 240D         & Merc 230          & Merc 280          & ⋯                 & AMC Javelin       & Camaro Z28        & Pontiac Firebird  & Fiat X1-9         & Porsche 914-2     & Lotus Europa      & Ford Pantera L    & Ferrari Dino      & Maserati Bora     & Volvo 142E       \\\\\n",
       "\\end{tabular}\n"
      ],
      "text/markdown": [
       "\n",
       "| <!--/--> | Mazda RX4 | Mazda RX4 Wag | Datsun 710 | Hornet 4 Drive | Hornet Sportabout | Valiant | Duster 360 | Merc 240D | Merc 230 | Merc 280 | ⋯ | AMC Javelin | Camaro Z28 | Pontiac Firebird | Fiat X1-9 | Porsche 914-2 | Lotus Europa | Ford Pantera L | Ferrari Dino | Maserati Bora | Volvo 142E | \n",
       "|---|---|---|---|---|---|---|---|---|---|---|---|\n",
       "| mpg | 21.0              | 21.0              | 22.8              | 21.4              | 18.7              | 18.1              | 14.3              | 24.4              | 22.8              | 19.2              | ⋯                 | 15.2              | 13.3              | 19.2              | 27.3              | 26.0              | 30.4              | 15.8              | 19.7              | 15.0              | 21.4              | \n",
       "| cyl | 6                 | 6                 | 4                 | 6                 | 8                 | 6                 | 8                 | 4                 | 4                 | 6                 | ⋯                 | 8                 | 8                 | 8                 | 4                 | 4                 | 4                 | 8                 | 6                 | 8                 | 4                 | \n",
       "| disp | 160.0             | 160.0             | 108.0             | 258.0             | 360.0             | 225.0             | 360.0             | 146.7             | 140.8             | 167.6             | ⋯                 | 304.0             | 350.0             | 400.0             |  79.0             | 120.3             |  95.1             | 351.0             | 145.0             | 301.0             | 121.0             | \n",
       "| hp | 110               | 110               |  93               | 110               | 175               | 105               | 245               |  62               |  95               | 123               | ⋯                 | 150               | 245               | 175               |  66               |  91               | 113               | 264               | 175               | 335               | 109               | \n",
       "| drat | 3.90              | 3.90              | 3.85              | 3.08              | 3.15              | 2.76              | 3.21              | 3.69              | 3.92              | 3.92              | ⋯                 | 3.15              | 3.73              | 3.08              | 4.08              | 4.43              | 3.77              | 4.22              | 3.62              | 3.54              | 4.11              | \n",
       "| wt | 2.620             | 2.875             | 2.320             | 3.215             | 3.440             | 3.460             | 3.570             | 3.190             | 3.150             | 3.440             | ⋯                 | 3.435             | 3.840             | 3.845             | 1.935             | 2.140             | 1.513             | 3.170             | 2.770             | 3.570             | 2.780             | \n",
       "| qsec | 16.46             | 17.02             | 18.61             | 19.44             | 17.02             | 20.22             | 15.84             | 20.00             | 22.90             | 18.30             | ⋯                 | 17.30             | 15.41             | 17.05             | 18.90             | 16.70             | 16.90             | 14.50             | 15.50             | 14.60             | 18.60             | \n",
       "| vs | 0                 | 0                 | 1                 | 1                 | 0                 | 1                 | 0                 | 1                 | 1                 | 1                 | ⋯                 | 0                 | 0                 | 0                 | 1                 | 0                 | 1                 | 0                 | 0                 | 0                 | 1                 | \n",
       "| am | 1                 | 1                 | 1                 | 0                 | 0                 | 0                 | 0                 | 0                 | 0                 | 0                 | ⋯                 | 0                 | 0                 | 0                 | 1                 | 1                 | 1                 | 1                 | 1                 | 1                 | 1                 | \n",
       "| gear | 4                 | 4                 | 4                 | 3                 | 3                 | 3                 | 3                 | 4                 | 4                 | 4                 | ⋯                 | 3                 | 3                 | 3                 | 4                 | 5                 | 5                 | 5                 | 5                 | 5                 | 4                 | \n",
       "| carb | 4                 | 4                 | 1                 | 1                 | 2                 | 1                 | 4                 | 2                 | 2                 | 4                 | ⋯                 | 2                 | 4                 | 2                 | 1                 | 2                 | 2                 | 4                 | 6                 | 8                 | 2                 | \n",
       "| model_name | Mazda RX4         | Mazda RX4 Wag     | Datsun 710        | Hornet 4 Drive    | Hornet Sportabout | Valiant           | Duster 360        | Merc 240D         | Merc 230          | Merc 280          | ⋯                 | AMC Javelin       | Camaro Z28        | Pontiac Firebird  | Fiat X1-9         | Porsche 914-2     | Lotus Europa      | Ford Pantera L    | Ferrari Dino      | Maserati Bora     | Volvo 142E        | \n",
       "\n",
       "\n"
      ],
      "text/plain": [
       "           Mazda RX4 Mazda RX4 Wag Datsun 710 Hornet 4 Drive Hornet Sportabout\n",
       "mpg        21.0      21.0          22.8       21.4           18.7             \n",
       "cyl        6         6             4          6              8                \n",
       "disp       160.0     160.0         108.0      258.0          360.0            \n",
       "hp         110       110            93        110            175              \n",
       "drat       3.90      3.90          3.85       3.08           3.15             \n",
       "wt         2.620     2.875         2.320      3.215          3.440            \n",
       "qsec       16.46     17.02         18.61      19.44          17.02            \n",
       "vs         0         0             1          1              0                \n",
       "am         1         1             1          0              0                \n",
       "gear       4         4             4          3              3                \n",
       "carb       4         4             1          1              2                \n",
       "model_name Mazda RX4 Mazda RX4 Wag Datsun 710 Hornet 4 Drive Hornet Sportabout\n",
       "           Valiant Duster 360 Merc 240D Merc 230 Merc 280 ⋯ AMC Javelin\n",
       "mpg        18.1    14.3       24.4      22.8     19.2     ⋯ 15.2       \n",
       "cyl        6       8          4         4        6        ⋯ 8          \n",
       "disp       225.0   360.0      146.7     140.8    167.6    ⋯ 304.0      \n",
       "hp         105     245         62        95      123      ⋯ 150        \n",
       "drat       2.76    3.21       3.69      3.92     3.92     ⋯ 3.15       \n",
       "wt         3.460   3.570      3.190     3.150    3.440    ⋯ 3.435      \n",
       "qsec       20.22   15.84      20.00     22.90    18.30    ⋯ 17.30      \n",
       "vs         1       0          1         1        1        ⋯ 0          \n",
       "am         0       0          0         0        0        ⋯ 0          \n",
       "gear       3       3          4         4        4        ⋯ 3          \n",
       "carb       1       4          2         2        4        ⋯ 2          \n",
       "model_name Valiant Duster 360 Merc 240D Merc 230 Merc 280 ⋯ AMC Javelin\n",
       "           Camaro Z28 Pontiac Firebird Fiat X1-9 Porsche 914-2 Lotus Europa\n",
       "mpg        13.3       19.2             27.3      26.0          30.4        \n",
       "cyl        8          8                4         4             4           \n",
       "disp       350.0      400.0             79.0     120.3          95.1       \n",
       "hp         245        175               66        91           113         \n",
       "drat       3.73       3.08             4.08      4.43          3.77        \n",
       "wt         3.840      3.845            1.935     2.140         1.513       \n",
       "qsec       15.41      17.05            18.90     16.70         16.90       \n",
       "vs         0          0                1         0             1           \n",
       "am         0          0                1         1             1           \n",
       "gear       3          3                4         5             5           \n",
       "carb       4          2                1         2             2           \n",
       "model_name Camaro Z28 Pontiac Firebird Fiat X1-9 Porsche 914-2 Lotus Europa\n",
       "           Ford Pantera L Ferrari Dino Maserati Bora Volvo 142E\n",
       "mpg        15.8           19.7         15.0          21.4      \n",
       "cyl        8              6            8             4         \n",
       "disp       351.0          145.0        301.0         121.0     \n",
       "hp         264            175          335           109       \n",
       "drat       4.22           3.62         3.54          4.11      \n",
       "wt         3.170          2.770        3.570         2.780     \n",
       "qsec       14.50          15.50        14.60         18.60     \n",
       "vs         0              0            0             1         \n",
       "am         1              1            1             1         \n",
       "gear       5              5            5             4         \n",
       "carb       4              6            8             2         \n",
       "model_name Ford Pantera L Ferrari Dino Maserati Bora Volvo 142E"
      ]
     },
     "metadata": {},
     "output_type": "display_data"
    }
   ],
   "source": [
    "mtcars[[\"model_name\"]] <- row.names(mtcars)\n",
    "\n",
    "class(mtcars)\n",
    "head(mtcars)\n",
    "output <- apply(mtcars, 1, function(x) x)\n",
    "mode(output) # character\n",
    "class(output)\n",
    "output"
   ]
  },
  {
   "cell_type": "markdown",
   "metadata": {},
   "source": [
    "Toho si tedy při použití funkce `apply` musíte být vědomí a rozhodnout se, zda je toto chování pro vás žádoucí. Pokud chcete jiný výstup, bude vás pravděpodobně zajímat některá z dalších funkcí.\n",
    "\n",
    "### `lapply`\n",
    "\n",
    "Písmeno `l` na začátku názvu funkce `lapply` zastupje `list`, jedná se tedy o funkci *list apply*, což se vztahuje jak k jejímu prvnímu argumentu, tak k její návratové hodnotě:"
   ]
  },
  {
   "cell_type": "code",
   "execution_count": 44,
   "metadata": {
    "collapsed": true
   },
   "outputs": [],
   "source": [
    "l_x <- list(\n",
    "    první = seq(1, 10, 0.5)\n",
    "    , druhý = matrix(11:20, ncol = 2)\n",
    "    , třetí = as.character(1:10)\n",
    ")\n",
    "\n",
    "object_info <- function(x) {\n",
    "    list(\n",
    "        třída = class(x)\n",
    "        , data = x\n",
    "        , typ = typeof(x)\n",
    "        , mode = mode(x)\n",
    "    )\n",
    "}\n",
    "\n",
    "info <- lapply(l_x, object_info)"
   ]
  },
  {
   "cell_type": "markdown",
   "metadata": {},
   "source": [
    "Prvním argumentem funkce `lapply` je tedy zpravidla seznam nebo datová struktura, která se dá na seznam převést (např. `data.frame`). Druhým argumentem je potom funkce, která se postupně vykoná na každou položku v seznamu. Stejně jako u funkce `apply` musí opět tato funkce definovat alespoň jeden argument, ze kterého bude právě zpracovávaná položka ve funkci přístupná. Všimněte si, že narozdíl od funkce `apply` nemá tato funkce žádný argument pro dimenzi. Je to proto, že seznamy nemají dimenze. Jsou to lineární datové struktury jako např. vektory.\n",
    "\n",
    "V našem příkladu se tedy na každou položku seznamu `l_x` zavolá funkce `object_info`, která agreguje (opět pomocí seznamu) určité informace o uložených objektech, které do funkce vstupují jako argument `x`. Výsledek je tedy opět seznam o třech položkách, které jsou též seznamy:"
   ]
  },
  {
   "cell_type": "code",
   "execution_count": 45,
   "metadata": {},
   "outputs": [
    {
     "data": {
      "text/html": [
       "3"
      ],
      "text/latex": [
       "3"
      ],
      "text/markdown": [
       "3"
      ],
      "text/plain": [
       "[1] 3"
      ]
     },
     "metadata": {},
     "output_type": "display_data"
    },
    {
     "data": {
      "text/html": [
       "'list'"
      ],
      "text/latex": [
       "'list'"
      ],
      "text/markdown": [
       "'list'"
      ],
      "text/plain": [
       "[1] \"list\""
      ]
     },
     "metadata": {},
     "output_type": "display_data"
    },
    {
     "data": {
      "text/html": [
       "'list'"
      ],
      "text/latex": [
       "'list'"
      ],
      "text/markdown": [
       "'list'"
      ],
      "text/plain": [
       "[1] \"list\""
      ]
     },
     "metadata": {},
     "output_type": "display_data"
    },
    {
     "data": {
      "text/html": [
       "'list'"
      ],
      "text/latex": [
       "'list'"
      ],
      "text/markdown": [
       "'list'"
      ],
      "text/plain": [
       "[1] \"list\""
      ]
     },
     "metadata": {},
     "output_type": "display_data"
    },
    {
     "data": {
      "text/html": [
       "'list'"
      ],
      "text/latex": [
       "'list'"
      ],
      "text/markdown": [
       "'list'"
      ],
      "text/plain": [
       "[1] \"list\""
      ]
     },
     "metadata": {},
     "output_type": "display_data"
    }
   ],
   "source": [
    "length(info)\n",
    "class(info)\n",
    "class(info[[1]])\n",
    "class(info[[2]])\n",
    "class(info[[3]])"
   ]
  },
  {
   "cell_type": "markdown",
   "metadata": {},
   "source": [
    "Takto uspořádanému seznamu se v terminologii R říká rekurzivní seznam, neboť jsou v něm obsaženy další seznamy. Pojďme se teď na jednotlivé položky podívat:"
   ]
  },
  {
   "cell_type": "code",
   "execution_count": 46,
   "metadata": {},
   "outputs": [
    {
     "name": "stdout",
     "output_type": "stream",
     "text": [
      "[1] \"------------------------------------------------------------\"\n",
      "$třída\n",
      "[1] \"numeric\"\n",
      "\n",
      "$data\n",
      " [1]  1.0  1.5  2.0  2.5  3.0  3.5  4.0  4.5  5.0  5.5  6.0  6.5  7.0  7.5  8.0\n",
      "[16]  8.5  9.0  9.5 10.0\n",
      "\n",
      "$typ\n",
      "[1] \"double\"\n",
      "\n",
      "$mode\n",
      "[1] \"numeric\"\n",
      "\n",
      "[1] \"------------------------------------------------------------\"\n",
      "$třída\n",
      "[1] \"matrix\"\n",
      "\n",
      "$data\n",
      "     [,1] [,2]\n",
      "[1,]   11   16\n",
      "[2,]   12   17\n",
      "[3,]   13   18\n",
      "[4,]   14   19\n",
      "[5,]   15   20\n",
      "\n",
      "$typ\n",
      "[1] \"integer\"\n",
      "\n",
      "$mode\n",
      "[1] \"numeric\"\n",
      "\n",
      "[1] \"------------------------------------------------------------\"\n",
      "$třída\n",
      "[1] \"character\"\n",
      "\n",
      "$data\n",
      " [1] \"1\"  \"2\"  \"3\"  \"4\"  \"5\"  \"6\"  \"7\"  \"8\"  \"9\"  \"10\"\n",
      "\n",
      "$typ\n",
      "[1] \"character\"\n",
      "\n",
      "$mode\n",
      "[1] \"character\"\n",
      "\n"
     ]
    }
   ],
   "source": [
    "for (x in info) {\n",
    "    print(paste(rep(\"-\", 60), collapse = '')) # separátor položek ve výstupu\n",
    "    \n",
    "    print(x)\n",
    "}"
   ]
  },
  {
   "cell_type": "markdown",
   "metadata": {},
   "source": [
    "První čeho si všimneme je, že jednotlivé položky \"zdědili\" jména po původních jménech položek ve vektoru `l_x` (tedy \"první\", \"druhý\" a \"třetí\"):"
   ]
  },
  {
   "cell_type": "code",
   "execution_count": 47,
   "metadata": {},
   "outputs": [
    {
     "data": {
      "text/html": [
       "<ol class=list-inline>\n",
       "\t<li>'první'</li>\n",
       "\t<li>'druhý'</li>\n",
       "\t<li>'třetí'</li>\n",
       "</ol>\n"
      ],
      "text/latex": [
       "\\begin{enumerate*}\n",
       "\\item 'první'\n",
       "\\item 'druhý'\n",
       "\\item 'třetí'\n",
       "\\end{enumerate*}\n"
      ],
      "text/markdown": [
       "1. 'první'\n",
       "2. 'druhý'\n",
       "3. 'třetí'\n",
       "\n",
       "\n"
      ],
      "text/plain": [
       "[1] \"první\" \"druhý\" \"třetí\""
      ]
     },
     "metadata": {},
     "output_type": "display_data"
    }
   ],
   "source": [
    "names(info)"
   ]
  },
  {
   "cell_type": "markdown",
   "metadata": {},
   "source": [
    "Lze k nim tedy přes tato jména i přistupovat. Například:"
   ]
  },
  {
   "cell_type": "code",
   "execution_count": 48,
   "metadata": {},
   "outputs": [
    {
     "data": {
      "text/html": [
       "<dl>\n",
       "\t<dt>$třída</dt>\n",
       "\t\t<dd>'matrix'</dd>\n",
       "\t<dt>$data</dt>\n",
       "\t\t<dd><table>\n",
       "<tbody>\n",
       "\t<tr><td>11</td><td>16</td></tr>\n",
       "\t<tr><td>12</td><td>17</td></tr>\n",
       "\t<tr><td>13</td><td>18</td></tr>\n",
       "\t<tr><td>14</td><td>19</td></tr>\n",
       "\t<tr><td>15</td><td>20</td></tr>\n",
       "</tbody>\n",
       "</table>\n",
       "</dd>\n",
       "\t<dt>$typ</dt>\n",
       "\t\t<dd>'integer'</dd>\n",
       "\t<dt>$mode</dt>\n",
       "\t\t<dd>'numeric'</dd>\n",
       "</dl>\n"
      ],
      "text/latex": [
       "\\begin{description}\n",
       "\\item[\\$třída] 'matrix'\n",
       "\\item[\\$data] \\begin{tabular}{ll}\n",
       "\t 11 & 16\\\\\n",
       "\t 12 & 17\\\\\n",
       "\t 13 & 18\\\\\n",
       "\t 14 & 19\\\\\n",
       "\t 15 & 20\\\\\n",
       "\\end{tabular}\n",
       "\n",
       "\\item[\\$typ] 'integer'\n",
       "\\item[\\$mode] 'numeric'\n",
       "\\end{description}\n"
      ],
      "text/markdown": [
       "$třída\n",
       ":   'matrix'\n",
       "$data\n",
       ":   \n",
       "| 11 | 16 | \n",
       "| 12 | 17 | \n",
       "| 13 | 18 | \n",
       "| 14 | 19 | \n",
       "| 15 | 20 | \n",
       "\n",
       "\n",
       "\n",
       "$typ\n",
       ":   'integer'\n",
       "$mode\n",
       ":   'numeric'\n",
       "\n",
       "\n"
      ],
      "text/plain": [
       "$třída\n",
       "[1] \"matrix\"\n",
       "\n",
       "$data\n",
       "     [,1] [,2]\n",
       "[1,]   11   16\n",
       "[2,]   12   17\n",
       "[3,]   13   18\n",
       "[4,]   14   19\n",
       "[5,]   15   20\n",
       "\n",
       "$typ\n",
       "[1] \"integer\"\n",
       "\n",
       "$mode\n",
       "[1] \"numeric\"\n"
      ]
     },
     "metadata": {},
     "output_type": "display_data"
    }
   ],
   "source": [
    "info$druhý"
   ]
  },
  {
   "cell_type": "markdown",
   "metadata": {},
   "source": [
    "Druhá položka tedy skutečně obsahuje kýžené informace, které opět můžeme získat dalším dotazem:"
   ]
  },
  {
   "cell_type": "code",
   "execution_count": 49,
   "metadata": {},
   "outputs": [
    {
     "data": {
      "text/html": [
       "'matrix'"
      ],
      "text/latex": [
       "'matrix'"
      ],
      "text/markdown": [
       "'matrix'"
      ],
      "text/plain": [
       "[1] \"matrix\""
      ]
     },
     "metadata": {},
     "output_type": "display_data"
    },
    {
     "data": {
      "text/html": [
       "<table>\n",
       "<tbody>\n",
       "\t<tr><td>11</td><td>16</td></tr>\n",
       "\t<tr><td>12</td><td>17</td></tr>\n",
       "\t<tr><td>13</td><td>18</td></tr>\n",
       "\t<tr><td>14</td><td>19</td></tr>\n",
       "\t<tr><td>15</td><td>20</td></tr>\n",
       "</tbody>\n",
       "</table>\n"
      ],
      "text/latex": [
       "\\begin{tabular}{ll}\n",
       "\t 11 & 16\\\\\n",
       "\t 12 & 17\\\\\n",
       "\t 13 & 18\\\\\n",
       "\t 14 & 19\\\\\n",
       "\t 15 & 20\\\\\n",
       "\\end{tabular}\n"
      ],
      "text/markdown": [
       "\n",
       "| 11 | 16 | \n",
       "| 12 | 17 | \n",
       "| 13 | 18 | \n",
       "| 14 | 19 | \n",
       "| 15 | 20 | \n",
       "\n",
       "\n"
      ],
      "text/plain": [
       "     [,1] [,2]\n",
       "[1,] 11   16  \n",
       "[2,] 12   17  \n",
       "[3,] 13   18  \n",
       "[4,] 14   19  \n",
       "[5,] 15   20  "
      ]
     },
     "metadata": {},
     "output_type": "display_data"
    }
   ],
   "source": [
    "info$druhý$třída\n",
    "info$druhý$data"
   ]
  },
  {
   "cell_type": "markdown",
   "metadata": {},
   "source": [
    "Samozřejmě bychom mohli použít i následující notaci:"
   ]
  },
  {
   "cell_type": "code",
   "execution_count": 50,
   "metadata": {},
   "outputs": [
    {
     "data": {
      "text/html": [
       "'matrix'"
      ],
      "text/latex": [
       "'matrix'"
      ],
      "text/markdown": [
       "'matrix'"
      ],
      "text/plain": [
       "[1] \"matrix\""
      ]
     },
     "metadata": {},
     "output_type": "display_data"
    },
    {
     "data": {
      "text/html": [
       "<table>\n",
       "<tbody>\n",
       "\t<tr><td>11</td><td>16</td></tr>\n",
       "\t<tr><td>12</td><td>17</td></tr>\n",
       "\t<tr><td>13</td><td>18</td></tr>\n",
       "\t<tr><td>14</td><td>19</td></tr>\n",
       "\t<tr><td>15</td><td>20</td></tr>\n",
       "</tbody>\n",
       "</table>\n"
      ],
      "text/latex": [
       "\\begin{tabular}{ll}\n",
       "\t 11 & 16\\\\\n",
       "\t 12 & 17\\\\\n",
       "\t 13 & 18\\\\\n",
       "\t 14 & 19\\\\\n",
       "\t 15 & 20\\\\\n",
       "\\end{tabular}\n"
      ],
      "text/markdown": [
       "\n",
       "| 11 | 16 | \n",
       "| 12 | 17 | \n",
       "| 13 | 18 | \n",
       "| 14 | 19 | \n",
       "| 15 | 20 | \n",
       "\n",
       "\n"
      ],
      "text/plain": [
       "     [,1] [,2]\n",
       "[1,] 11   16  \n",
       "[2,] 12   17  \n",
       "[3,] 13   18  \n",
       "[4,] 14   19  \n",
       "[5,] 15   20  "
      ]
     },
     "metadata": {},
     "output_type": "display_data"
    }
   ],
   "source": [
    "info[[\"druhý\"]][[\"třída\"]]\n",
    "info[[\"druhý\"]][[\"data\"]]"
   ]
  },
  {
   "cell_type": "markdown",
   "metadata": {},
   "source": [
    "#### `sapply`\n",
    "\n",
    "Funkce `sapply` (*simplified apply*) je v podstatě rozšířením `lapply`. Tato funkce striktně nedodržuje typ návratové hodnoty a snaží se uživateli nabídnout co možná nejpřívětivější výstup. Například výsledkem následujícího zavolání této funkce je matice:"
   ]
  },
  {
   "cell_type": "code",
   "execution_count": 51,
   "metadata": {},
   "outputs": [
    {
     "data": {
      "text/html": [
       "'matrix'"
      ],
      "text/latex": [
       "'matrix'"
      ],
      "text/markdown": [
       "'matrix'"
      ],
      "text/plain": [
       "[1] \"matrix\""
      ]
     },
     "metadata": {},
     "output_type": "display_data"
    },
    {
     "data": {
      "text/html": [
       "'list'"
      ],
      "text/latex": [
       "'list'"
      ],
      "text/markdown": [
       "'list'"
      ],
      "text/plain": [
       "[1] \"list\""
      ]
     },
     "metadata": {},
     "output_type": "display_data"
    },
    {
     "data": {
      "text/html": [
       "<table>\n",
       "<thead><tr><th></th><th scope=col>první</th><th scope=col>druhý</th><th scope=col>třetí</th></tr></thead>\n",
       "<tbody>\n",
       "\t<tr><th scope=row>třída</th><td>numeric  </td><td>matrix   </td><td>character</td></tr>\n",
       "\t<tr><th scope=row>data</th><td>1.0, 1.5, 2.0, 2.5, 3.0, 3.5, 4.0, 4.5, 5.0, 5.5, 6.0, 6.5, 7.0, 7.5, 8.0, 8.5, 9.0, 9.5, 10.0</td><td>11, 12, 13, 14, 15, 16, 17, 18, 19, 20                                                        </td><td>1 , 2 , 3 , 4 , 5 , 6 , 7 , 8 , 9 , 10                                                        </td></tr>\n",
       "\t<tr><th scope=row>typ</th><td>double   </td><td>integer  </td><td>character</td></tr>\n",
       "\t<tr><th scope=row>mode</th><td>numeric  </td><td>numeric  </td><td>character</td></tr>\n",
       "</tbody>\n",
       "</table>\n"
      ],
      "text/latex": [
       "\\begin{tabular}{r|lll}\n",
       "  & první & druhý & třetí\\\\\n",
       "\\hline\n",
       "\ttřída & numeric   & matrix    & character\\\\\n",
       "\tdata & 1.0, 1.5, 2.0, 2.5, 3.0, 3.5, 4.0, 4.5, 5.0, 5.5, 6.0, 6.5, 7.0, 7.5, 8.0, 8.5, 9.0, 9.5, 10.0 & 11, 12, 13, 14, 15, 16, 17, 18, 19, 20                                                         & 1 , 2 , 3 , 4 , 5 , 6 , 7 , 8 , 9 , 10                                                        \\\\\n",
       "\ttyp & double    & integer   & character\\\\\n",
       "\tmode & numeric   & numeric   & character\\\\\n",
       "\\end{tabular}\n"
      ],
      "text/markdown": [
       "\n",
       "| <!--/--> | první | druhý | třetí | \n",
       "|---|---|---|---|\n",
       "| třída | numeric   | matrix    | character | \n",
       "| data | 1.0, 1.5, 2.0, 2.5, 3.0, 3.5, 4.0, 4.5, 5.0, 5.5, 6.0, 6.5, 7.0, 7.5, 8.0, 8.5, 9.0, 9.5, 10.0 | 11, 12, 13, 14, 15, 16, 17, 18, 19, 20                                                         | 1 , 2 , 3 , 4 , 5 , 6 , 7 , 8 , 9 , 10                                                         | \n",
       "| typ | double    | integer   | character | \n",
       "| mode | numeric   | numeric   | character | \n",
       "\n",
       "\n"
      ],
      "text/plain": [
       "      první                                                                                         \n",
       "třída numeric                                                                                       \n",
       "data  1.0, 1.5, 2.0, 2.5, 3.0, 3.5, 4.0, 4.5, 5.0, 5.5, 6.0, 6.5, 7.0, 7.5, 8.0, 8.5, 9.0, 9.5, 10.0\n",
       "typ   double                                                                                        \n",
       "mode  numeric                                                                                       \n",
       "      druhý                                 \n",
       "třída matrix                                \n",
       "data  11, 12, 13, 14, 15, 16, 17, 18, 19, 20\n",
       "typ   integer                               \n",
       "mode  numeric                               \n",
       "      třetí                                 \n",
       "třída character                             \n",
       "data  1 , 2 , 3 , 4 , 5 , 6 , 7 , 8 , 9 , 10\n",
       "typ   character                             \n",
       "mode  character                             "
      ]
     },
     "metadata": {},
     "output_type": "display_data"
    }
   ],
   "source": [
    "info <- sapply(l_x, object_info)\n",
    "class(info)\n",
    "mode(info)\n",
    "info"
   ]
  },
  {
   "cell_type": "markdown",
   "metadata": {},
   "source": [
    "Zda je pro vás uspořádání navržené funkcí `sapply` vhodné si musíte rozhodnout sami. V tomto případě to asi vyjde nastejno, neboť výsledkem je matice, kde každým z jejích prvků je seznam, takže jednotlivé položky jsou opět přístupné ve stejném formátu. Jenom syntaxe pro přístup musí toto uspořádání reflektovat:"
   ]
  },
  {
   "cell_type": "code",
   "execution_count": 52,
   "metadata": {},
   "outputs": [
    {
     "data": {
      "text/html": [
       "'matrix'"
      ],
      "text/latex": [
       "'matrix'"
      ],
      "text/markdown": [
       "'matrix'"
      ],
      "text/plain": [
       "[1] \"matrix\""
      ]
     },
     "metadata": {},
     "output_type": "display_data"
    },
    {
     "data": {
      "text/html": [
       "<table>\n",
       "<tbody>\n",
       "\t<tr><td>11</td><td>16</td></tr>\n",
       "\t<tr><td>12</td><td>17</td></tr>\n",
       "\t<tr><td>13</td><td>18</td></tr>\n",
       "\t<tr><td>14</td><td>19</td></tr>\n",
       "\t<tr><td>15</td><td>20</td></tr>\n",
       "</tbody>\n",
       "</table>\n"
      ],
      "text/latex": [
       "\\begin{tabular}{ll}\n",
       "\t 11 & 16\\\\\n",
       "\t 12 & 17\\\\\n",
       "\t 13 & 18\\\\\n",
       "\t 14 & 19\\\\\n",
       "\t 15 & 20\\\\\n",
       "\\end{tabular}\n"
      ],
      "text/markdown": [
       "\n",
       "| 11 | 16 | \n",
       "| 12 | 17 | \n",
       "| 13 | 18 | \n",
       "| 14 | 19 | \n",
       "| 15 | 20 | \n",
       "\n",
       "\n"
      ],
      "text/plain": [
       "     [,1] [,2]\n",
       "[1,] 11   16  \n",
       "[2,] 12   17  \n",
       "[3,] 13   18  \n",
       "[4,] 14   19  \n",
       "[5,] 15   20  "
      ]
     },
     "metadata": {},
     "output_type": "display_data"
    }
   ],
   "source": [
    "info[,\"druhý\"][[\"třída\"]]\n",
    "info[,\"druhý\"][[\"data\"]]"
   ]
  },
  {
   "cell_type": "markdown",
   "metadata": {},
   "source": [
    "Funkce `sapply` se tedy pokusí uhodnout v jakém formátu výsledek uživateli vrátit. V následujícím příkladě například celkem rozumně vrací pouhý vektor:"
   ]
  },
  {
   "cell_type": "code",
   "execution_count": 53,
   "metadata": {},
   "outputs": [
    {
     "data": {
      "text/html": [
       "<ol class=list-inline>\n",
       "\t<li>1</li>\n",
       "\t<li>2</li>\n",
       "\t<li>3</li>\n",
       "\t<li>4</li>\n",
       "\t<li>5</li>\n",
       "</ol>\n"
      ],
      "text/latex": [
       "\\begin{enumerate*}\n",
       "\\item 1\n",
       "\\item 2\n",
       "\\item 3\n",
       "\\item 4\n",
       "\\item 5\n",
       "\\end{enumerate*}\n"
      ],
      "text/markdown": [
       "1. 1\n",
       "2. 2\n",
       "3. 3\n",
       "4. 4\n",
       "5. 5\n",
       "\n",
       "\n"
      ],
      "text/plain": [
       "[1] 1 2 3 4 5"
      ]
     },
     "metadata": {},
     "output_type": "display_data"
    }
   ],
   "source": [
    "sapply(1:5, function(x) x)"
   ]
  },
  {
   "cell_type": "markdown",
   "metadata": {},
   "source": [
    "Zatímco `lapply` v tomto případě opět tvrdošíjně vrací seznam:"
   ]
  },
  {
   "cell_type": "code",
   "execution_count": 54,
   "metadata": {},
   "outputs": [
    {
     "data": {
      "text/html": [
       "<ol>\n",
       "\t<li>1</li>\n",
       "\t<li>2</li>\n",
       "\t<li>3</li>\n",
       "\t<li>4</li>\n",
       "\t<li>5</li>\n",
       "</ol>\n"
      ],
      "text/latex": [
       "\\begin{enumerate}\n",
       "\\item 1\n",
       "\\item 2\n",
       "\\item 3\n",
       "\\item 4\n",
       "\\item 5\n",
       "\\end{enumerate}\n"
      ],
      "text/markdown": [
       "1. 1\n",
       "2. 2\n",
       "3. 3\n",
       "4. 4\n",
       "5. 5\n",
       "\n",
       "\n"
      ],
      "text/plain": [
       "[[1]]\n",
       "[1] 1\n",
       "\n",
       "[[2]]\n",
       "[1] 2\n",
       "\n",
       "[[3]]\n",
       "[1] 3\n",
       "\n",
       "[[4]]\n",
       "[1] 4\n",
       "\n",
       "[[5]]\n",
       "[1] 5\n"
      ]
     },
     "metadata": {},
     "output_type": "display_data"
    }
   ],
   "source": [
    "lapply(1:5, function(x) x)"
   ]
  },
  {
   "cell_type": "markdown",
   "metadata": {},
   "source": [
    "`sapply` též nabízí možnost konfigurace dalšími argumenty. Můžeme si například explicitně vyžádat stejné chování jako u `lapply`:"
   ]
  },
  {
   "cell_type": "code",
   "execution_count": 55,
   "metadata": {},
   "outputs": [
    {
     "data": {
      "text/html": [
       "<ol>\n",
       "\t<li>1</li>\n",
       "\t<li>2</li>\n",
       "\t<li>3</li>\n",
       "\t<li>4</li>\n",
       "\t<li>5</li>\n",
       "</ol>\n"
      ],
      "text/latex": [
       "\\begin{enumerate}\n",
       "\\item 1\n",
       "\\item 2\n",
       "\\item 3\n",
       "\\item 4\n",
       "\\item 5\n",
       "\\end{enumerate}\n"
      ],
      "text/markdown": [
       "1. 1\n",
       "2. 2\n",
       "3. 3\n",
       "4. 4\n",
       "5. 5\n",
       "\n",
       "\n"
      ],
      "text/plain": [
       "[[1]]\n",
       "[1] 1\n",
       "\n",
       "[[2]]\n",
       "[1] 2\n",
       "\n",
       "[[3]]\n",
       "[1] 3\n",
       "\n",
       "[[4]]\n",
       "[1] 4\n",
       "\n",
       "[[5]]\n",
       "[1] 5\n"
      ]
     },
     "metadata": {},
     "output_type": "display_data"
    }
   ],
   "source": [
    "sapply(1:5, function(x) x, simplify = F)"
   ]
  },
  {
   "cell_type": "markdown",
   "metadata": {
    "collapsed": true
   },
   "source": [
    "To jsme se teď ale trochu vzdálili od našeho původního cíle, kterým je analyzovat data o pozorování UFO, která máme uložená v datové tabulce `df_ufocase`:"
   ]
  },
  {
   "cell_type": "code",
   "execution_count": 56,
   "metadata": {},
   "outputs": [
    {
     "data": {
      "text/html": [
       "<table>\n",
       "<thead><tr><th scope=col>Year</th><th scope=col>EventName</th><th scope=col>Location</th><th scope=col>PhysicalEffects</th><th scope=col>Multimedia</th><th scope=col>ETContact</th><th scope=col>Abduction</th></tr></thead>\n",
       "<tbody>\n",
       "\t<tr><td>1865                                 </td><td>The Great Airships                   </td><td>USA                                  </td><td>1                                    </td><td>0                                    </td><td>1                                    </td><td>0                                    </td></tr>\n",
       "\t<tr><td>1878                                 </td><td>Denison, Texas Daylight UFO          </td><td>USA                                  </td><td>0                                    </td><td>0                                    </td><td>0                                    </td><td>0                                    </td></tr>\n",
       "\t<tr><td>1897                                 </td><td>The Aurora, Texas Crash              </td><td>USA                                  </td><td>1                                    </td><td>0                                    </td><td>1                                    </td><td>0                                    </td></tr>\n",
       "\t<tr><td>1930                                 </td><td>Alien Picture from Alaska            </td><td>Alaska                               </td><td>0                                    </td><td>1                                    </td><td>1                                    </td><td>0                                    </td></tr>\n",
       "\t<tr><td>1937                                 </td><td>Discovery of the Dropa Discs         </td><td>China                                </td><td>0                                    </td><td>0                                    </td><td>0                                    </td><td>0                                    </td></tr>\n",
       "\t<tr><td>1939                                 </td><td>Alien Bodies Confirmed (Cordell Hull)</td><td>USA                                  </td><td>0                                    </td><td>0                                    </td><td>1                                    </td><td>0                                    </td></tr>\n",
       "</tbody>\n",
       "</table>\n"
      ],
      "text/latex": [
       "\\begin{tabular}{r|lllllll}\n",
       " Year & EventName & Location & PhysicalEffects & Multimedia & ETContact & Abduction\\\\\n",
       "\\hline\n",
       "\t 1865                                  & The Great Airships                    & USA                                   & 1                                     & 0                                     & 1                                     & 0                                    \\\\\n",
       "\t 1878                                  & Denison, Texas Daylight UFO           & USA                                   & 0                                     & 0                                     & 0                                     & 0                                    \\\\\n",
       "\t 1897                                  & The Aurora, Texas Crash               & USA                                   & 1                                     & 0                                     & 1                                     & 0                                    \\\\\n",
       "\t 1930                                  & Alien Picture from Alaska             & Alaska                                & 0                                     & 1                                     & 1                                     & 0                                    \\\\\n",
       "\t 1937                                  & Discovery of the Dropa Discs          & China                                 & 0                                     & 0                                     & 0                                     & 0                                    \\\\\n",
       "\t 1939                                  & Alien Bodies Confirmed (Cordell Hull) & USA                                   & 0                                     & 0                                     & 1                                     & 0                                    \\\\\n",
       "\\end{tabular}\n"
      ],
      "text/markdown": [
       "\n",
       "Year | EventName | Location | PhysicalEffects | Multimedia | ETContact | Abduction | \n",
       "|---|---|---|---|---|---|\n",
       "| 1865                                  | The Great Airships                    | USA                                   | 1                                     | 0                                     | 1                                     | 0                                     | \n",
       "| 1878                                  | Denison, Texas Daylight UFO           | USA                                   | 0                                     | 0                                     | 0                                     | 0                                     | \n",
       "| 1897                                  | The Aurora, Texas Crash               | USA                                   | 1                                     | 0                                     | 1                                     | 0                                     | \n",
       "| 1930                                  | Alien Picture from Alaska             | Alaska                                | 0                                     | 1                                     | 1                                     | 0                                     | \n",
       "| 1937                                  | Discovery of the Dropa Discs          | China                                 | 0                                     | 0                                     | 0                                     | 0                                     | \n",
       "| 1939                                  | Alien Bodies Confirmed (Cordell Hull) | USA                                   | 0                                     | 0                                     | 1                                     | 0                                     | \n",
       "\n",
       "\n"
      ],
      "text/plain": [
       "  Year EventName                             Location PhysicalEffects\n",
       "1 1865 The Great Airships                    USA      1              \n",
       "2 1878 Denison, Texas Daylight UFO           USA      0              \n",
       "3 1897 The Aurora, Texas Crash               USA      1              \n",
       "4 1930 Alien Picture from Alaska             Alaska   0              \n",
       "5 1937 Discovery of the Dropa Discs          China    0              \n",
       "6 1939 Alien Bodies Confirmed (Cordell Hull) USA      0              \n",
       "  Multimedia ETContact Abduction\n",
       "1 0          1         0        \n",
       "2 0          0         0        \n",
       "3 0          1         0        \n",
       "4 1          1         0        \n",
       "5 0          0         0        \n",
       "6 0          1         0        "
      ]
     },
     "metadata": {},
     "output_type": "display_data"
    }
   ],
   "source": [
    "head(df_ufocase)"
   ]
  },
  {
   "cell_type": "markdown",
   "metadata": {},
   "source": [
    "Funkci `lapply` můžeme snadno využít i pro analýzu objektů `data.frame`, neboť, jak už jsme si řekli v předchozí lekci, jsou datové tabulky pouhým rozšířením seznamů.\n",
    "\n",
    "V předchozí lekci jsme si též při diskusi faktorů představili funkci `table`, která nám umožňuje snadno vytvářet kontingenční tabulky a agregovat informace o počtu výskytů jednotlivých úrovní faktorů. Teď, když máme naše sloupce reprezentované jako faktory, toho můžeme využít k vytvoření jendoduchých souhrnů každého sloupce:"
   ]
  },
  {
   "cell_type": "code",
   "execution_count": 57,
   "metadata": {},
   "outputs": [
    {
     "data": {
      "text/html": [
       "'list'"
      ],
      "text/latex": [
       "'list'"
      ],
      "text/markdown": [
       "'list'"
      ],
      "text/plain": [
       "[1] \"list\""
      ]
     },
     "metadata": {},
     "output_type": "display_data"
    },
    {
     "data": {
      "text/html": [
       "<ol class=list-inline>\n",
       "\t<li>'Year'</li>\n",
       "\t<li>'EventName'</li>\n",
       "\t<li>'Location'</li>\n",
       "\t<li>'PhysicalEffects'</li>\n",
       "\t<li>'Multimedia'</li>\n",
       "\t<li>'ETContact'</li>\n",
       "\t<li>'Abduction'</li>\n",
       "</ol>\n"
      ],
      "text/latex": [
       "\\begin{enumerate*}\n",
       "\\item 'Year'\n",
       "\\item 'EventName'\n",
       "\\item 'Location'\n",
       "\\item 'PhysicalEffects'\n",
       "\\item 'Multimedia'\n",
       "\\item 'ETContact'\n",
       "\\item 'Abduction'\n",
       "\\end{enumerate*}\n"
      ],
      "text/markdown": [
       "1. 'Year'\n",
       "2. 'EventName'\n",
       "3. 'Location'\n",
       "4. 'PhysicalEffects'\n",
       "5. 'Multimedia'\n",
       "6. 'ETContact'\n",
       "7. 'Abduction'\n",
       "\n",
       "\n"
      ],
      "text/plain": [
       "[1] \"Year\"            \"EventName\"       \"Location\"        \"PhysicalEffects\"\n",
       "[5] \"Multimedia\"      \"ETContact\"       \"Abduction\"      "
      ]
     },
     "metadata": {},
     "output_type": "display_data"
    },
    {
     "data": {
      "text/plain": [
       "\n",
       "1865 1878 1897 1930 1937 1939 1941 1942 1944 1945 1947 1948 1949 1950 1951 1952 \n",
       "   1    1    1    1    1    1    1    1    1    1    4    3    1    3    4   12 \n",
       "1953 1954 1955 1956 1957 1958 1959 1960 1961 1962 1963 1964 1965 1966 1967 1968 \n",
       "   4    1    3    2    7    2    3    1    1    1    2    5    8    5    5    1 \n",
       "1969 1970 1971 1972 1973 1974 1975 1976 1977 1978 1979 1980 1981 1986 1987 1988 \n",
       "   3    2    5    1   10    3    5    4    3    4    2    5    3    1    6    5 \n",
       "1989 1991 1992 1993 1994 1995 1996 1997 1999 2000 2001 2002 2003 2004 \n",
       "   4    1    1    2    2    2    4    7    5    6    1    9    4    5 "
      ]
     },
     "metadata": {},
     "output_type": "display_data"
    },
    {
     "data": {
      "text/plain": [
       "\n",
       "  0   1 \n",
       "182  21 "
      ]
     },
     "metadata": {},
     "output_type": "display_data"
    }
   ],
   "source": [
    "summaries <- lapply(df_ufocase, table)\n",
    "\n",
    "class(summaries)\n",
    "names(summaries) \n",
    "summaries$Year\n",
    "summaries$Abduction"
   ]
  },
  {
   "cell_type": "markdown",
   "metadata": {},
   "source": [
    "Funkce `lapply` se tedy zachovala přesně tak, jak bychom čekali. Výsledkem je seznam, kde každá položka je pojmenovaná po původní sloupci a agreguje počty výskytů jednotlivých úrovní příslušného faktoru. Všimněte si, že výsledek jsme dostali i pro sloupce `EventName`, ačkoliv se nejedná o faktor:"
   ]
  },
  {
   "cell_type": "code",
   "execution_count": 58,
   "metadata": {},
   "outputs": [
    {
     "data": {
      "text/plain": [
       "\n",
       "                Abduction in Illinois                    Abduction in Wales \n",
       "                                    1                                     1 \n",
       "    Afyon, Turkey Sighting with Video         Aircraft Disappears: UFO Seen \n",
       "                                    1                                     1 \n",
       "Alien Bodies Confirmed (Cordell Hull)                  Alien body recovered \n",
       "                                    1                                     1 "
      ]
     },
     "metadata": {},
     "output_type": "display_data"
    }
   ],
   "source": [
    "head(summaries$EventName)"
   ]
  },
  {
   "cell_type": "markdown",
   "metadata": {},
   "source": [
    "Funkce `table` si tento sloupec na faktor totiž tiše převedla. Nám je tato informace celkem k ničemu, neboť víme, že jména událostí jsou unikátní. Toto je ovšem dobrý způosob jak si to ověřit:"
   ]
  },
  {
   "cell_type": "code",
   "execution_count": 59,
   "metadata": {},
   "outputs": [
    {
     "data": {
      "text/html": [
       "TRUE"
      ],
      "text/latex": [
       "TRUE"
      ],
      "text/markdown": [
       "TRUE"
      ],
      "text/plain": [
       "[1] TRUE"
      ]
     },
     "metadata": {},
     "output_type": "display_data"
    }
   ],
   "source": [
    "all(summaries$EventName == 1)"
   ]
  },
  {
   "cell_type": "markdown",
   "metadata": {},
   "source": [
    "Všechny události v našem souboru se tedy vyskytují pouze jednou (nebo se tak jejich jména alespoň tváří).\n",
    "\n",
    "Díky takto uspořádaným výsledkům si též můžete zobrazit počty událostí v jednotlivých letech jako jednoduchý sloupcový graf:"
   ]
  },
  {
   "cell_type": "code",
   "execution_count": 60,
   "metadata": {},
   "outputs": [
    {
     "data": {
      "image/png": "[encoded data removed]",
      "text/plain": [
       "plot without title"
      ]
     },
     "metadata": {},
     "output_type": "display_data"
    }
   ],
   "source": [
    "options(repr.plot.width = 5, repr.plot.height = 10)\n",
    "par(mar = c(4, 4, 1, 1))\n",
    "barplot(\n",
    "    rev(summaries$Year)\n",
    "    , horiz = T\n",
    "    , las = 2\n",
    ")"
   ]
  },
  {
   "cell_type": "markdown",
   "metadata": {},
   "source": [
    "Jednotlivé funkce a jejich argumenty v předchozím příkladě necháme zatím bez podrobnějšího vysvětlení, neboť kreselení grafů v R bude předmětem jedné z dalších lekcí. Zatím zmíníme jen to, že jsme si pomocí funkce `options` nejprve nastavili větší kreslící plochu (5x10 palců) a na ní pak vakreslili náš graf pomocí funkce `barplot`. Funkce `par` řídí různé globální parametry vykreslovaných grafů a my jsme ji použili k manuálnímu nastavení okrajů našeho atypického sloupcového grafu.\n",
    "\n",
    "Z obrázku tedy vidíme, ve kterých letech došlo k nejvíce událostem. Mimozemšťané byli zřejmě nejaktivnější v letech 1952, 1973 a 2002. Zároveň je vidět i nárůst v zaznamenaných pozorováních po skončení druhé světové války.\n",
    "\n",
    "S našimi výsledky bychom si samozřejmě mohli dál hrát a zkoumat různé úhly pohledu a různé podmnožiny souboru. Jako například analyzovat data o pozorováních pouze v USA:"
   ]
  },
  {
   "cell_type": "code",
   "execution_count": 61,
   "metadata": {},
   "outputs": [
    {
     "data": {
      "text/html": [
       "USA"
      ],
      "text/latex": [
       "USA"
      ],
      "text/markdown": [
       "USA"
      ],
      "text/plain": [
       "[1] USA\n",
       "39 Levels: Alaska Australia Austria Belgium Brazil Canada Chile ... Wales"
      ]
     },
     "metadata": {},
     "output_type": "display_data"
    }
   ],
   "source": [
    "df_ufocase_usa <- df_ufocase[df_ufocase$Location == \"USA\",]\n",
    "unique(df_ufocase_usa$Location)"
   ]
  },
  {
   "cell_type": "markdown",
   "metadata": {},
   "source": [
    "nebo pouze data, kde došlo k unesení mimozemšťanem:"
   ]
  },
  {
   "cell_type": "code",
   "execution_count": 62,
   "metadata": {},
   "outputs": [
    {
     "data": {
      "text/html": [
       "<table>\n",
       "<thead><tr><th></th><th scope=col>Year</th><th scope=col>EventName</th><th scope=col>Location</th><th scope=col>PhysicalEffects</th><th scope=col>Multimedia</th><th scope=col>ETContact</th><th scope=col>Abduction</th></tr></thead>\n",
       "<tbody>\n",
       "\t<tr><th scope=row>52</th><td>1957                               </td><td>Villas-Boas Encounter              </td><td>Brazil                             </td><td>1                                  </td><td>0                                  </td><td>1                                  </td><td>1                                  </td></tr>\n",
       "\t<tr><th scope=row>61</th><td>1961                               </td><td>Betty and Barney Hill Abduction    </td><td>USA                                </td><td>1                                  </td><td>0                                  </td><td>1                                  </td><td>1                                  </td></tr>\n",
       "\t<tr><th scope=row>83</th><td>1967                               </td><td>The Betty Andreasson Abduction     </td><td>USA                                </td><td>1                                  </td><td>0                                  </td><td>1                                  </td><td>1                                  </td></tr>\n",
       "\t<tr><th scope=row>87</th><td>1967                               </td><td>Patrolman Herbert Schirmer abducted</td><td>USA                                </td><td>1                                  </td><td>0                                  </td><td>1                                  </td><td>1                                  </td></tr>\n",
       "\t<tr><th scope=row>91</th><td>1969                               </td><td>The Buff Ledge Camp Abduction      </td><td>USA                                </td><td>1                                  </td><td>0                                  </td><td>1                                  </td><td>1                                  </td></tr>\n",
       "\t<tr><th scope=row>101</th><td>1973                               </td><td>The Judy Doraty Abduction          </td><td>USA                                </td><td>1                                  </td><td>0                                  </td><td>1                                  </td><td>1                                  </td></tr>\n",
       "\t<tr><th scope=row>108</th><td>1973                               </td><td>Pascagoula, Mississippi Abduction  </td><td>USA                                </td><td>1                                  </td><td>0                                  </td><td>1                                  </td><td>1                                  </td></tr>\n",
       "\t<tr><th scope=row>114</th><td>1975                               </td><td>Sergeant Charles L. Moody Abduction</td><td>USA                                </td><td>1                                  </td><td>0                                  </td><td>1                                  </td><td>1                                  </td></tr>\n",
       "\t<tr><th scope=row>117</th><td>1975                               </td><td>The Travis Walton Abduction        </td><td>USA                                </td><td>1                                  </td><td>0                                  </td><td>1                                  </td><td>1                                  </td></tr>\n",
       "\t<tr><th scope=row>118</th><td>1976                               </td><td>The Stanford, Kentucky Abductions  </td><td>USA                                </td><td>1                                  </td><td>0                                  </td><td>1                                  </td><td>1                                  </td></tr>\n",
       "\t<tr><th scope=row>121</th><td>1976                               </td><td>The Allagash Waterway Abductions   </td><td>USA                                </td><td>1                                  </td><td>0                                  </td><td>1                                  </td><td>1                                  </td></tr>\n",
       "\t<tr><th scope=row>141</th><td>1987                               </td><td>Hudson Valley Abduction            </td><td>USA                                </td><td>1                                  </td><td>0                                  </td><td>1                                  </td><td>1                                  </td></tr>\n",
       "\t<tr><th scope=row>142</th><td>1987                               </td><td>The Christa Tilton Story           </td><td>USA                                </td><td>1                                  </td><td>0                                  </td><td>1                                  </td><td>1                                  </td></tr>\n",
       "\t<tr><th scope=row>143</th><td>1987                               </td><td>North Canol Road Abduction         </td><td>Canada                             </td><td>1                                  </td><td>0                                  </td><td>1                                  </td><td>1                                  </td></tr>\n",
       "\t<tr><th scope=row>145</th><td>1987                               </td><td>The Ilkley Moor Alien              </td><td>U K                                </td><td>1                                  </td><td>1                                  </td><td>1                                  </td><td>1                                  </td></tr>\n",
       "\t<tr><th scope=row>147</th><td>1988                               </td><td>John Salter and Son Abduction      </td><td>USA                                </td><td>1                                  </td><td>0                                  </td><td>1                                  </td><td>1                                  </td></tr>\n",
       "\t<tr><th scope=row>149</th><td>1988                               </td><td>DNA Sample / Khoury Abduction      </td><td>Australia                          </td><td>1                                  </td><td>0                                  </td><td>1                                  </td><td>1                                  </td></tr>\n",
       "\t<tr><th scope=row>153</th><td>1989                               </td><td>Linda Cortile-Napolitano Abduction </td><td>USA                                </td><td>1                                  </td><td>0                                  </td><td>1                                  </td><td>1                                  </td></tr>\n",
       "\t<tr><th scope=row>158</th><td>1993                               </td><td>The Kelly Cahill Abduction         </td><td>Australia                          </td><td>1                                  </td><td>0                                  </td><td>1                                  </td><td>1                                  </td></tr>\n",
       "\t<tr><th scope=row>173</th><td>1997                               </td><td>Abduction in Wales                 </td><td>Wales                              </td><td>1                                  </td><td>0                                  </td><td>1                                  </td><td>1                                  </td></tr>\n",
       "\t<tr><th scope=row>178</th><td>1999                               </td><td>Abduction in Illinois              </td><td>USA                                </td><td>1                                  </td><td>0                                  </td><td>1                                  </td><td>1                                  </td></tr>\n",
       "</tbody>\n",
       "</table>\n"
      ],
      "text/latex": [
       "\\begin{tabular}{r|lllllll}\n",
       "  & Year & EventName & Location & PhysicalEffects & Multimedia & ETContact & Abduction\\\\\n",
       "\\hline\n",
       "\t52 & 1957                                & Villas-Boas Encounter               & Brazil                              & 1                                   & 0                                   & 1                                   & 1                                  \\\\\n",
       "\t61 & 1961                                & Betty and Barney Hill Abduction     & USA                                 & 1                                   & 0                                   & 1                                   & 1                                  \\\\\n",
       "\t83 & 1967                                & The Betty Andreasson Abduction      & USA                                 & 1                                   & 0                                   & 1                                   & 1                                  \\\\\n",
       "\t87 & 1967                                & Patrolman Herbert Schirmer abducted & USA                                 & 1                                   & 0                                   & 1                                   & 1                                  \\\\\n",
       "\t91 & 1969                                & The Buff Ledge Camp Abduction       & USA                                 & 1                                   & 0                                   & 1                                   & 1                                  \\\\\n",
       "\t101 & 1973                                & The Judy Doraty Abduction           & USA                                 & 1                                   & 0                                   & 1                                   & 1                                  \\\\\n",
       "\t108 & 1973                                & Pascagoula, Mississippi Abduction   & USA                                 & 1                                   & 0                                   & 1                                   & 1                                  \\\\\n",
       "\t114 & 1975                                & Sergeant Charles L. Moody Abduction & USA                                 & 1                                   & 0                                   & 1                                   & 1                                  \\\\\n",
       "\t117 & 1975                                & The Travis Walton Abduction         & USA                                 & 1                                   & 0                                   & 1                                   & 1                                  \\\\\n",
       "\t118 & 1976                                & The Stanford, Kentucky Abductions   & USA                                 & 1                                   & 0                                   & 1                                   & 1                                  \\\\\n",
       "\t121 & 1976                                & The Allagash Waterway Abductions    & USA                                 & 1                                   & 0                                   & 1                                   & 1                                  \\\\\n",
       "\t141 & 1987                                & Hudson Valley Abduction             & USA                                 & 1                                   & 0                                   & 1                                   & 1                                  \\\\\n",
       "\t142 & 1987                                & The Christa Tilton Story            & USA                                 & 1                                   & 0                                   & 1                                   & 1                                  \\\\\n",
       "\t143 & 1987                                & North Canol Road Abduction          & Canada                              & 1                                   & 0                                   & 1                                   & 1                                  \\\\\n",
       "\t145 & 1987                                & The Ilkley Moor Alien               & U K                                 & 1                                   & 1                                   & 1                                   & 1                                  \\\\\n",
       "\t147 & 1988                                & John Salter and Son Abduction       & USA                                 & 1                                   & 0                                   & 1                                   & 1                                  \\\\\n",
       "\t149 & 1988                                & DNA Sample / Khoury Abduction       & Australia                           & 1                                   & 0                                   & 1                                   & 1                                  \\\\\n",
       "\t153 & 1989                                & Linda Cortile-Napolitano Abduction  & USA                                 & 1                                   & 0                                   & 1                                   & 1                                  \\\\\n",
       "\t158 & 1993                                & The Kelly Cahill Abduction          & Australia                           & 1                                   & 0                                   & 1                                   & 1                                  \\\\\n",
       "\t173 & 1997                                & Abduction in Wales                  & Wales                               & 1                                   & 0                                   & 1                                   & 1                                  \\\\\n",
       "\t178 & 1999                                & Abduction in Illinois               & USA                                 & 1                                   & 0                                   & 1                                   & 1                                  \\\\\n",
       "\\end{tabular}\n"
      ],
      "text/markdown": [
       "\n",
       "| <!--/--> | Year | EventName | Location | PhysicalEffects | Multimedia | ETContact | Abduction | \n",
       "|---|---|---|---|---|---|---|---|---|---|---|---|---|---|---|---|---|---|---|---|---|\n",
       "| 52 | 1957                                | Villas-Boas Encounter               | Brazil                              | 1                                   | 0                                   | 1                                   | 1                                   | \n",
       "| 61 | 1961                                | Betty and Barney Hill Abduction     | USA                                 | 1                                   | 0                                   | 1                                   | 1                                   | \n",
       "| 83 | 1967                                | The Betty Andreasson Abduction      | USA                                 | 1                                   | 0                                   | 1                                   | 1                                   | \n",
       "| 87 | 1967                                | Patrolman Herbert Schirmer abducted | USA                                 | 1                                   | 0                                   | 1                                   | 1                                   | \n",
       "| 91 | 1969                                | The Buff Ledge Camp Abduction       | USA                                 | 1                                   | 0                                   | 1                                   | 1                                   | \n",
       "| 101 | 1973                                | The Judy Doraty Abduction           | USA                                 | 1                                   | 0                                   | 1                                   | 1                                   | \n",
       "| 108 | 1973                                | Pascagoula, Mississippi Abduction   | USA                                 | 1                                   | 0                                   | 1                                   | 1                                   | \n",
       "| 114 | 1975                                | Sergeant Charles L. Moody Abduction | USA                                 | 1                                   | 0                                   | 1                                   | 1                                   | \n",
       "| 117 | 1975                                | The Travis Walton Abduction         | USA                                 | 1                                   | 0                                   | 1                                   | 1                                   | \n",
       "| 118 | 1976                                | The Stanford, Kentucky Abductions   | USA                                 | 1                                   | 0                                   | 1                                   | 1                                   | \n",
       "| 121 | 1976                                | The Allagash Waterway Abductions    | USA                                 | 1                                   | 0                                   | 1                                   | 1                                   | \n",
       "| 141 | 1987                                | Hudson Valley Abduction             | USA                                 | 1                                   | 0                                   | 1                                   | 1                                   | \n",
       "| 142 | 1987                                | The Christa Tilton Story            | USA                                 | 1                                   | 0                                   | 1                                   | 1                                   | \n",
       "| 143 | 1987                                | North Canol Road Abduction          | Canada                              | 1                                   | 0                                   | 1                                   | 1                                   | \n",
       "| 145 | 1987                                | The Ilkley Moor Alien               | U K                                 | 1                                   | 1                                   | 1                                   | 1                                   | \n",
       "| 147 | 1988                                | John Salter and Son Abduction       | USA                                 | 1                                   | 0                                   | 1                                   | 1                                   | \n",
       "| 149 | 1988                                | DNA Sample / Khoury Abduction       | Australia                           | 1                                   | 0                                   | 1                                   | 1                                   | \n",
       "| 153 | 1989                                | Linda Cortile-Napolitano Abduction  | USA                                 | 1                                   | 0                                   | 1                                   | 1                                   | \n",
       "| 158 | 1993                                | The Kelly Cahill Abduction          | Australia                           | 1                                   | 0                                   | 1                                   | 1                                   | \n",
       "| 173 | 1997                                | Abduction in Wales                  | Wales                               | 1                                   | 0                                   | 1                                   | 1                                   | \n",
       "| 178 | 1999                                | Abduction in Illinois               | USA                                 | 1                                   | 0                                   | 1                                   | 1                                   | \n",
       "\n",
       "\n"
      ],
      "text/plain": [
       "    Year EventName                           Location  PhysicalEffects\n",
       "52  1957 Villas-Boas Encounter               Brazil    1              \n",
       "61  1961 Betty and Barney Hill Abduction     USA       1              \n",
       "83  1967 The Betty Andreasson Abduction      USA       1              \n",
       "87  1967 Patrolman Herbert Schirmer abducted USA       1              \n",
       "91  1969 The Buff Ledge Camp Abduction       USA       1              \n",
       "101 1973 The Judy Doraty Abduction           USA       1              \n",
       "108 1973 Pascagoula, Mississippi Abduction   USA       1              \n",
       "114 1975 Sergeant Charles L. Moody Abduction USA       1              \n",
       "117 1975 The Travis Walton Abduction         USA       1              \n",
       "118 1976 The Stanford, Kentucky Abductions   USA       1              \n",
       "121 1976 The Allagash Waterway Abductions    USA       1              \n",
       "141 1987 Hudson Valley Abduction             USA       1              \n",
       "142 1987 The Christa Tilton Story            USA       1              \n",
       "143 1987 North Canol Road Abduction          Canada    1              \n",
       "145 1987 The Ilkley Moor Alien               U K       1              \n",
       "147 1988 John Salter and Son Abduction       USA       1              \n",
       "149 1988 DNA Sample / Khoury Abduction       Australia 1              \n",
       "153 1989 Linda Cortile-Napolitano Abduction  USA       1              \n",
       "158 1993 The Kelly Cahill Abduction          Australia 1              \n",
       "173 1997 Abduction in Wales                  Wales     1              \n",
       "178 1999 Abduction in Illinois               USA       1              \n",
       "    Multimedia ETContact Abduction\n",
       "52  0          1         1        \n",
       "61  0          1         1        \n",
       "83  0          1         1        \n",
       "87  0          1         1        \n",
       "91  0          1         1        \n",
       "101 0          1         1        \n",
       "108 0          1         1        \n",
       "114 0          1         1        \n",
       "117 0          1         1        \n",
       "118 0          1         1        \n",
       "121 0          1         1        \n",
       "141 0          1         1        \n",
       "142 0          1         1        \n",
       "143 0          1         1        \n",
       "145 1          1         1        \n",
       "147 0          1         1        \n",
       "149 0          1         1        \n",
       "153 0          1         1        \n",
       "158 0          1         1        \n",
       "173 0          1         1        \n",
       "178 0          1         1        "
      ]
     },
     "metadata": {},
     "output_type": "display_data"
    }
   ],
   "source": [
    "df_ufocase_abd <- df_ufocase[df_ufocase$Abduction == 1,]\n",
    "df_ufocase_abd"
   ]
  },
  {
   "cell_type": "markdown",
   "metadata": {},
   "source": [
    "Pokud vás zajímá rychlý souhrn dat ve vaší tabulce, můžete si jej snadno vytisknout pomocí funkce `summary`:"
   ]
  },
  {
   "cell_type": "code",
   "execution_count": 63,
   "metadata": {},
   "outputs": [
    {
     "data": {
      "text/plain": [
       "      Year      EventName              Location   PhysicalEffects Multimedia\n",
       " 1952   : 12   Length:203         USA      :122   0: 74           0:141     \n",
       " 1973   : 10   Class :character   U K      : 10   1:129           1: 62     \n",
       " 2002   :  9   Mode  :character   Australia:  9                             \n",
       " 1965   :  8                      Canada   :  7                             \n",
       " 1957   :  7                      Russia   :  6                             \n",
       " 1997   :  7                      Brazil   :  5                             \n",
       " (Other):150                      (Other)  : 44                             \n",
       " ETContact Abduction\n",
       " 0:146     0:182    \n",
       " 1: 57     1: 21    \n",
       "                    \n",
       "                    \n",
       "                    \n",
       "                    \n",
       "                    "
      ]
     },
     "metadata": {},
     "output_type": "display_data"
    }
   ],
   "source": [
    "summary(df_ufocase)"
   ]
  },
  {
   "cell_type": "markdown",
   "metadata": {},
   "source": [
    "Zde na jednom místě vidíme jak roky s největším počtem incidentů, tak další data jako například země s největším počtem zaznamenaných událostí nebo počet událostí, pro které existuje záznam.\n",
    "\n",
    "## Funkce pro použití s faktory (`tapply`, `by`, `split`, `aggregate` a `cut`)\n",
    "\n",
    "Faktory umožnují aggregovat data do skupin podle svých úrovní. Tyto funkce pak umožnují manipulaci dat právě s ohledem na tato rozdělení. Jsou tedy vhodným nástrojem k výběru a analýze nejrůznějších podmnožin původního souboru.\n",
    "\n",
    "\n",
    "### `tapply`\n",
    "\n",
    "Tato funkce je z této rodiny funkcí nejjednodušší a umožňuje uživateli procházet jednotlivé položky daného vektoru (nebo jiné lineární struktury) podle příslušnosti do skupin definované úrovněmi daného faktoru. Podrobněji to demonstruje následující příklad:"
   ]
  },
  {
   "cell_type": "code",
   "execution_count": 64,
   "metadata": {
    "collapsed": true
   },
   "outputs": [],
   "source": [
    "get_name_list <- function(x) {\n",
    "    paste(x, collapse = \"; \")\n",
    "}\n",
    "\n",
    "output <- tapply(\n",
    "    df_ufocase$EventName\n",
    "    , df_ufocase$Abduction\n",
    "    , get_name_list\n",
    ")"
   ]
  },
  {
   "cell_type": "markdown",
   "metadata": {},
   "source": [
    "Tímto jednoduchým zavoláním jsme získali jednorozměrné pole, které má dva pojmenované řádky (je to tedy ekvivalent obyčejného vektoru s pojmenovanými položkami):"
   ]
  },
  {
   "cell_type": "code",
   "execution_count": 65,
   "metadata": {},
   "outputs": [
    {
     "data": {
      "text/html": [
       "'array'"
      ],
      "text/latex": [
       "'array'"
      ],
      "text/markdown": [
       "'array'"
      ],
      "text/plain": [
       "[1] \"array\""
      ]
     },
     "metadata": {},
     "output_type": "display_data"
    },
    {
     "data": {
      "text/html": [
       "2"
      ],
      "text/latex": [
       "2"
      ],
      "text/markdown": [
       "2"
      ],
      "text/plain": [
       "[1] 2"
      ]
     },
     "metadata": {},
     "output_type": "display_data"
    },
    {
     "data": {
      "text/html": [
       "2"
      ],
      "text/latex": [
       "2"
      ],
      "text/markdown": [
       "2"
      ],
      "text/plain": [
       "[1] 2"
      ]
     },
     "metadata": {},
     "output_type": "display_data"
    },
    {
     "data": {
      "text/html": [
       "<ol class=list-inline>\n",
       "\t<li>'0'</li>\n",
       "\t<li>'1'</li>\n",
       "</ol>\n"
      ],
      "text/latex": [
       "\\begin{enumerate*}\n",
       "\\item '0'\n",
       "\\item '1'\n",
       "\\end{enumerate*}\n"
      ],
      "text/markdown": [
       "1. '0'\n",
       "2. '1'\n",
       "\n",
       "\n"
      ],
      "text/plain": [
       "[1] \"0\" \"1\""
      ]
     },
     "metadata": {},
     "output_type": "display_data"
    }
   ],
   "source": [
    "class(output)\n",
    "dim(output)\n",
    "nrow(output)\n",
    "names(output)"
   ]
  },
  {
   "cell_type": "markdown",
   "metadata": {},
   "source": [
    "Jména odpovídají jednotlivým úrovním faktoru. V tomto případě 0 nebo 1 podle toho zda došlo k unesení nebo ne. Do naší funkce tedy postupně jako argument připlul vektor jmen událostí, ve kterých nedošlo k unesení, a hned potom událostí, ve kterých k unesení došlo. My jsme názvy ve funkci `get_names` pouze spojili do jednoho řetězce a vrátili. A takto spojená jména jsou skutečně i to, co najdeme v našem poli pod příslušným jménem. Například toto je tedy řetězec spojující všechny případy unesení:"
   ]
  },
  {
   "cell_type": "code",
   "execution_count": 66,
   "metadata": {},
   "outputs": [
    {
     "data": {
      "text/html": [
       "<strong>1:</strong> 'Villas-Boas Encounter; Betty and Barney Hill Abduction; The Betty Andreasson Abduction; Patrolman Herbert Schirmer abducted; The Buff Ledge Camp Abduction; The Judy Doraty Abduction; Pascagoula, Mississippi Abduction; Sergeant Charles L. Moody Abduction; The Travis Walton Abduction; The Stanford, Kentucky Abductions; The Allagash Waterway Abductions; Hudson Valley Abduction; The Christa Tilton Story; North Canol Road Abduction; The Ilkley Moor Alien; John Salter and Son Abduction; DNA Sample / Khoury Abduction; Linda Cortile-Napolitano Abduction; The Kelly Cahill Abduction; Abduction in Wales; Abduction in Illinois'"
      ],
      "text/latex": [
       "\\textbf{1:} 'Villas-Boas Encounter; Betty and Barney Hill Abduction; The Betty Andreasson Abduction; Patrolman Herbert Schirmer abducted; The Buff Ledge Camp Abduction; The Judy Doraty Abduction; Pascagoula, Mississippi Abduction; Sergeant Charles L. Moody Abduction; The Travis Walton Abduction; The Stanford, Kentucky Abductions; The Allagash Waterway Abductions; Hudson Valley Abduction; The Christa Tilton Story; North Canol Road Abduction; The Ilkley Moor Alien; John Salter and Son Abduction; DNA Sample / Khoury Abduction; Linda Cortile-Napolitano Abduction; The Kelly Cahill Abduction; Abduction in Wales; Abduction in Illinois'"
      ],
      "text/markdown": [
       "**1:** 'Villas-Boas Encounter; Betty and Barney Hill Abduction; The Betty Andreasson Abduction; Patrolman Herbert Schirmer abducted; The Buff Ledge Camp Abduction; The Judy Doraty Abduction; Pascagoula, Mississippi Abduction; Sergeant Charles L. Moody Abduction; The Travis Walton Abduction; The Stanford, Kentucky Abductions; The Allagash Waterway Abductions; Hudson Valley Abduction; The Christa Tilton Story; North Canol Road Abduction; The Ilkley Moor Alien; John Salter and Son Abduction; DNA Sample / Khoury Abduction; Linda Cortile-Napolitano Abduction; The Kelly Cahill Abduction; Abduction in Wales; Abduction in Illinois'"
      ],
      "text/plain": [
       "                                                                                                                                                                                                                                                                                                                                                                                                                                                                                                                                                                                                                                               1 \n",
       "\"Villas-Boas Encounter; Betty and Barney Hill Abduction; The Betty Andreasson Abduction; Patrolman Herbert Schirmer abducted; The Buff Ledge Camp Abduction; The Judy Doraty Abduction; Pascagoula, Mississippi Abduction; Sergeant Charles L. Moody Abduction; The Travis Walton Abduction; The Stanford, Kentucky Abductions; The Allagash Waterway Abductions; Hudson Valley Abduction; The Christa Tilton Story; North Canol Road Abduction; The Ilkley Moor Alien; John Salter and Son Abduction; DNA Sample / Khoury Abduction; Linda Cortile-Napolitano Abduction; The Kelly Cahill Abduction; Abduction in Wales; Abduction in Illinois\" "
      ]
     },
     "metadata": {},
     "output_type": "display_data"
    }
   ],
   "source": [
    "output[\"1\"]"
   ]
  },
  {
   "cell_type": "markdown",
   "metadata": {},
   "source": [
    "Druhým argumentem může být i více faktorů najednou:"
   ]
  },
  {
   "cell_type": "code",
   "execution_count": 67,
   "metadata": {
    "collapsed": true
   },
   "outputs": [],
   "source": [
    "output <- tapply(\n",
    "    df_ufocase$EventName\n",
    "    , list(\n",
    "        df_ufocase$Year\n",
    "        , df_ufocase$Abduction\n",
    "    )\n",
    "    , get_name_list\n",
    ")"
   ]
  },
  {
   "cell_type": "markdown",
   "metadata": {},
   "source": [
    "Výsledkem je v tomto případě matice:"
   ]
  },
  {
   "cell_type": "code",
   "execution_count": 68,
   "metadata": {},
   "outputs": [
    {
     "data": {
      "text/html": [
       "'matrix'"
      ],
      "text/latex": [
       "'matrix'"
      ],
      "text/markdown": [
       "'matrix'"
      ],
      "text/plain": [
       "[1] \"matrix\""
      ]
     },
     "metadata": {},
     "output_type": "display_data"
    },
    {
     "data": {
      "text/html": [
       "<ol class=list-inline>\n",
       "\t<li>62</li>\n",
       "\t<li>2</li>\n",
       "</ol>\n"
      ],
      "text/latex": [
       "\\begin{enumerate*}\n",
       "\\item 62\n",
       "\\item 2\n",
       "\\end{enumerate*}\n"
      ],
      "text/markdown": [
       "1. 62\n",
       "2. 2\n",
       "\n",
       "\n"
      ],
      "text/plain": [
       "[1] 62  2"
      ]
     },
     "metadata": {},
     "output_type": "display_data"
    },
    {
     "data": {
      "text/html": [
       "<ol class=list-inline>\n",
       "\t<li>'1865'</li>\n",
       "\t<li>'1878'</li>\n",
       "\t<li>'1897'</li>\n",
       "\t<li>'1930'</li>\n",
       "\t<li>'1937'</li>\n",
       "\t<li>'1939'</li>\n",
       "\t<li>'1941'</li>\n",
       "\t<li>'1942'</li>\n",
       "\t<li>'1944'</li>\n",
       "\t<li>'1945'</li>\n",
       "\t<li>'1947'</li>\n",
       "\t<li>'1948'</li>\n",
       "\t<li>'1949'</li>\n",
       "\t<li>'1950'</li>\n",
       "\t<li>'1951'</li>\n",
       "\t<li>'1952'</li>\n",
       "\t<li>'1953'</li>\n",
       "\t<li>'1954'</li>\n",
       "\t<li>'1955'</li>\n",
       "\t<li>'1956'</li>\n",
       "\t<li>'1957'</li>\n",
       "\t<li>'1958'</li>\n",
       "\t<li>'1959'</li>\n",
       "\t<li>'1960'</li>\n",
       "\t<li>'1961'</li>\n",
       "\t<li>'1962'</li>\n",
       "\t<li>'1963'</li>\n",
       "\t<li>'1964'</li>\n",
       "\t<li>'1965'</li>\n",
       "\t<li>'1966'</li>\n",
       "\t<li>'1967'</li>\n",
       "\t<li>'1968'</li>\n",
       "\t<li>'1969'</li>\n",
       "\t<li>'1970'</li>\n",
       "\t<li>'1971'</li>\n",
       "\t<li>'1972'</li>\n",
       "\t<li>'1973'</li>\n",
       "\t<li>'1974'</li>\n",
       "\t<li>'1975'</li>\n",
       "\t<li>'1976'</li>\n",
       "\t<li>'1977'</li>\n",
       "\t<li>'1978'</li>\n",
       "\t<li>'1979'</li>\n",
       "\t<li>'1980'</li>\n",
       "\t<li>'1981'</li>\n",
       "\t<li>'1986'</li>\n",
       "\t<li>'1987'</li>\n",
       "\t<li>'1988'</li>\n",
       "\t<li>'1989'</li>\n",
       "\t<li>'1991'</li>\n",
       "\t<li>'1992'</li>\n",
       "\t<li>'1993'</li>\n",
       "\t<li>'1994'</li>\n",
       "\t<li>'1995'</li>\n",
       "\t<li>'1996'</li>\n",
       "\t<li>'1997'</li>\n",
       "\t<li>'1999'</li>\n",
       "\t<li>'2000'</li>\n",
       "\t<li>'2001'</li>\n",
       "\t<li>'2002'</li>\n",
       "\t<li>'2003'</li>\n",
       "\t<li>'2004'</li>\n",
       "</ol>\n"
      ],
      "text/latex": [
       "\\begin{enumerate*}\n",
       "\\item '1865'\n",
       "\\item '1878'\n",
       "\\item '1897'\n",
       "\\item '1930'\n",
       "\\item '1937'\n",
       "\\item '1939'\n",
       "\\item '1941'\n",
       "\\item '1942'\n",
       "\\item '1944'\n",
       "\\item '1945'\n",
       "\\item '1947'\n",
       "\\item '1948'\n",
       "\\item '1949'\n",
       "\\item '1950'\n",
       "\\item '1951'\n",
       "\\item '1952'\n",
       "\\item '1953'\n",
       "\\item '1954'\n",
       "\\item '1955'\n",
       "\\item '1956'\n",
       "\\item '1957'\n",
       "\\item '1958'\n",
       "\\item '1959'\n",
       "\\item '1960'\n",
       "\\item '1961'\n",
       "\\item '1962'\n",
       "\\item '1963'\n",
       "\\item '1964'\n",
       "\\item '1965'\n",
       "\\item '1966'\n",
       "\\item '1967'\n",
       "\\item '1968'\n",
       "\\item '1969'\n",
       "\\item '1970'\n",
       "\\item '1971'\n",
       "\\item '1972'\n",
       "\\item '1973'\n",
       "\\item '1974'\n",
       "\\item '1975'\n",
       "\\item '1976'\n",
       "\\item '1977'\n",
       "\\item '1978'\n",
       "\\item '1979'\n",
       "\\item '1980'\n",
       "\\item '1981'\n",
       "\\item '1986'\n",
       "\\item '1987'\n",
       "\\item '1988'\n",
       "\\item '1989'\n",
       "\\item '1991'\n",
       "\\item '1992'\n",
       "\\item '1993'\n",
       "\\item '1994'\n",
       "\\item '1995'\n",
       "\\item '1996'\n",
       "\\item '1997'\n",
       "\\item '1999'\n",
       "\\item '2000'\n",
       "\\item '2001'\n",
       "\\item '2002'\n",
       "\\item '2003'\n",
       "\\item '2004'\n",
       "\\end{enumerate*}\n"
      ],
      "text/markdown": [
       "1. '1865'\n",
       "2. '1878'\n",
       "3. '1897'\n",
       "4. '1930'\n",
       "5. '1937'\n",
       "6. '1939'\n",
       "7. '1941'\n",
       "8. '1942'\n",
       "9. '1944'\n",
       "10. '1945'\n",
       "11. '1947'\n",
       "12. '1948'\n",
       "13. '1949'\n",
       "14. '1950'\n",
       "15. '1951'\n",
       "16. '1952'\n",
       "17. '1953'\n",
       "18. '1954'\n",
       "19. '1955'\n",
       "20. '1956'\n",
       "21. '1957'\n",
       "22. '1958'\n",
       "23. '1959'\n",
       "24. '1960'\n",
       "25. '1961'\n",
       "26. '1962'\n",
       "27. '1963'\n",
       "28. '1964'\n",
       "29. '1965'\n",
       "30. '1966'\n",
       "31. '1967'\n",
       "32. '1968'\n",
       "33. '1969'\n",
       "34. '1970'\n",
       "35. '1971'\n",
       "36. '1972'\n",
       "37. '1973'\n",
       "38. '1974'\n",
       "39. '1975'\n",
       "40. '1976'\n",
       "41. '1977'\n",
       "42. '1978'\n",
       "43. '1979'\n",
       "44. '1980'\n",
       "45. '1981'\n",
       "46. '1986'\n",
       "47. '1987'\n",
       "48. '1988'\n",
       "49. '1989'\n",
       "50. '1991'\n",
       "51. '1992'\n",
       "52. '1993'\n",
       "53. '1994'\n",
       "54. '1995'\n",
       "55. '1996'\n",
       "56. '1997'\n",
       "57. '1999'\n",
       "58. '2000'\n",
       "59. '2001'\n",
       "60. '2002'\n",
       "61. '2003'\n",
       "62. '2004'\n",
       "\n",
       "\n"
      ],
      "text/plain": [
       " [1] \"1865\" \"1878\" \"1897\" \"1930\" \"1937\" \"1939\" \"1941\" \"1942\" \"1944\" \"1945\"\n",
       "[11] \"1947\" \"1948\" \"1949\" \"1950\" \"1951\" \"1952\" \"1953\" \"1954\" \"1955\" \"1956\"\n",
       "[21] \"1957\" \"1958\" \"1959\" \"1960\" \"1961\" \"1962\" \"1963\" \"1964\" \"1965\" \"1966\"\n",
       "[31] \"1967\" \"1968\" \"1969\" \"1970\" \"1971\" \"1972\" \"1973\" \"1974\" \"1975\" \"1976\"\n",
       "[41] \"1977\" \"1978\" \"1979\" \"1980\" \"1981\" \"1986\" \"1987\" \"1988\" \"1989\" \"1991\"\n",
       "[51] \"1992\" \"1993\" \"1994\" \"1995\" \"1996\" \"1997\" \"1999\" \"2000\" \"2001\" \"2002\"\n",
       "[61] \"2003\" \"2004\""
      ]
     },
     "metadata": {},
     "output_type": "display_data"
    },
    {
     "data": {
      "text/html": [
       "<ol class=list-inline>\n",
       "\t<li>'0'</li>\n",
       "\t<li>'1'</li>\n",
       "</ol>\n"
      ],
      "text/latex": [
       "\\begin{enumerate*}\n",
       "\\item '0'\n",
       "\\item '1'\n",
       "\\end{enumerate*}\n"
      ],
      "text/markdown": [
       "1. '0'\n",
       "2. '1'\n",
       "\n",
       "\n"
      ],
      "text/plain": [
       "[1] \"0\" \"1\""
      ]
     },
     "metadata": {},
     "output_type": "display_data"
    }
   ],
   "source": [
    "class(output)\n",
    "dim(output)\n",
    "rownames(output)\n",
    "colnames(output)"
   ]
  },
  {
   "cell_type": "markdown",
   "metadata": {},
   "source": [
    "V této matici představují úrovně prvního faktoru (\"Year\") řádky a úrovně druhého (\"Abduction\") sloupce. V jednotlivých buňkách se pak nachází data vrácená naší funkcí. Dostáváme tedy informaci o tom, ke kterým událostem došlo v konkrétních letech a zároveň je máme rozdělené podle toho, zda se jednalo o unesení či nikoliv:"
   ]
  },
  {
   "cell_type": "code",
   "execution_count": 69,
   "metadata": {},
   "outputs": [
    {
     "data": {
      "text/html": [
       "<table>\n",
       "<thead><tr><th></th><th scope=col>0</th><th scope=col>1</th></tr></thead>\n",
       "<tbody>\n",
       "\t<tr><th scope=row>1994</th><td>UFO Sightings in Holland, Michigan; UFO Photographed in Mongo, Indiana                                                                                                                                                                                                                             </td><td>NA                                                                                                                                                                                                                                                                                                 </td></tr>\n",
       "\t<tr><th scope=row>1995</th><td>American West 564 UFO Encounter; UFO Crash in Israel                                                                                                                                                                                                                                               </td><td>NA                                                                                                                                                                                                                                                                                                 </td></tr>\n",
       "\t<tr><th scope=row>1996</th><td>The Varginha, Brazil Entity; Alien Body Recovered; UFO Photograph Case, Alabama; UFO Photo Hungary                                                                                                                                                                                                 </td><td>NA                                                                                                                                                                                                                                                                                                 </td></tr>\n",
       "\t<tr><th scope=row>1997</th><td>UFOs merging on film; St. Petersburg, Russia UFO; The Phoenix, Arizona Lights; UFO Encounter, Boyne Island; Swissair jet / near miss UFO; South Africa UFO Encounter                                                                                                                               </td><td>Abduction in Wales                                                                                                                                                                                                                                                                                 </td></tr>\n",
       "\t<tr><th scope=row>1999</th><td>Aliens photographed in London; Jet Crew Encounters UFO; British Charter Encounters UFO; UFO Crash in Swedish Lake                                                                                                                                                                                  </td><td>Abduction in Illinois                                                                                                                                                                                                                                                                              </td></tr>\n",
       "\t<tr><th scope=row>2000</th><td>The Illinois Sightings; UFO Photographed / Stinson Lake; UFO shoots beam at photographer; UFO landing in West Malaysia; The Twin Towers UFO Video(hoax); UFO Visits Idaho Mountain                                                                                                                 </td><td>NA                                                                                                                                                                                                                                                                                                 </td></tr>\n",
       "\t<tr><th scope=row>2001</th><td>Waynesville, Ohio Police UFO Report                                                                                                                                                                                                                                                                </td><td>NA                                                                                                                                                                                                                                                                                                 </td></tr>\n",
       "\t<tr><th scope=row>2002</th><td>Roswell (General Ramey Memo); Gulfport, Mississippi UFO Incident; Trenton / Brookville UFO Sightings; Tyrone, PA Sighting &amp; Photograph; The Albany Airport UFO Video; Rendlesham Documents released; The Leyland, Lancashire Videos; Afyon, Turkey Sighting with Video; Possible UFO Landing, Chile</td><td><span style=white-space:pre-wrap>NA                   </span>                                                                                                                                                                                                                                          </td></tr>\n",
       "\t<tr><th scope=row>2003</th><td>UFO Photographed / Wisconsin; UFO Video / Tennessee, Shaffer; UFO Incident, Screaming Sounds; Ashland, Nebraska UFO Video                                                                                                                                                                          </td><td>NA                                                                                                                                                                                                                                                                                                 </td></tr>\n",
       "\t<tr><th scope=row>2004</th><td>Amelia, Ohio Bizarre UFO Incident; Mexican Military Releases UFO Footage; Centerville, Ohio UFO Report; Close Encounter in Tennessee; Northern Ohio Sightings                                                                                                                                      </td><td>NA                                                                                                                                                                                                                                                                                                 </td></tr>\n",
       "</tbody>\n",
       "</table>\n"
      ],
      "text/latex": [
       "\\begin{tabular}{r|ll}\n",
       "  & 0 & 1\\\\\n",
       "\\hline\n",
       "\t1994 & UFO Sightings in Holland, Michigan; UFO Photographed in Mongo, Indiana                                                                                                                                                                                                                              & NA                                                                                                                                                                                                                                                                                                 \\\\\n",
       "\t1995 & American West 564 UFO Encounter; UFO Crash in Israel                                                                                                                                                                                                                                                & NA                                                                                                                                                                                                                                                                                                 \\\\\n",
       "\t1996 & The Varginha, Brazil Entity; Alien Body Recovered; UFO Photograph Case, Alabama; UFO Photo Hungary                                                                                                                                                                                                  & NA                                                                                                                                                                                                                                                                                                 \\\\\n",
       "\t1997 & UFOs merging on film; St. Petersburg, Russia UFO; The Phoenix, Arizona Lights; UFO Encounter, Boyne Island; Swissair jet / near miss UFO; South Africa UFO Encounter                                                                                                                                & Abduction in Wales                                                                                                                                                                                                                                                                                 \\\\\n",
       "\t1999 & Aliens photographed in London; Jet Crew Encounters UFO; British Charter Encounters UFO; UFO Crash in Swedish Lake                                                                                                                                                                                   & Abduction in Illinois                                                                                                                                                                                                                                                                              \\\\\n",
       "\t2000 & The Illinois Sightings; UFO Photographed / Stinson Lake; UFO shoots beam at photographer; UFO landing in West Malaysia; The Twin Towers UFO Video(hoax); UFO Visits Idaho Mountain                                                                                                                  & NA                                                                                                                                                                                                                                                                                                 \\\\\n",
       "\t2001 & Waynesville, Ohio Police UFO Report                                                                                                                                                                                                                                                                 & NA                                                                                                                                                                                                                                                                                                 \\\\\n",
       "\t2002 & Roswell (General Ramey Memo); Gulfport, Mississippi UFO Incident; Trenton / Brookville UFO Sightings; Tyrone, PA Sighting \\& Photograph; The Albany Airport UFO Video; Rendlesham Documents released; The Leyland, Lancashire Videos; Afyon, Turkey Sighting with Video; Possible UFO Landing, Chile & NA                                                                                                                                                                                                                                                                                                   \\\\\n",
       "\t2003 & UFO Photographed / Wisconsin; UFO Video / Tennessee, Shaffer; UFO Incident, Screaming Sounds; Ashland, Nebraska UFO Video                                                                                                                                                                           & NA                                                                                                                                                                                                                                                                                                 \\\\\n",
       "\t2004 & Amelia, Ohio Bizarre UFO Incident; Mexican Military Releases UFO Footage; Centerville, Ohio UFO Report; Close Encounter in Tennessee; Northern Ohio Sightings                                                                                                                                       & NA                                                                                                                                                                                                                                                                                                 \\\\\n",
       "\\end{tabular}\n"
      ],
      "text/markdown": [
       "\n",
       "| <!--/--> | 0 | 1 | \n",
       "|---|---|---|---|---|---|---|---|---|---|\n",
       "| 1994 | UFO Sightings in Holland, Michigan; UFO Photographed in Mongo, Indiana                                                                                                                                                                                                                              | NA                                                                                                                                                                                                                                                                                                  | \n",
       "| 1995 | American West 564 UFO Encounter; UFO Crash in Israel                                                                                                                                                                                                                                                | NA                                                                                                                                                                                                                                                                                                  | \n",
       "| 1996 | The Varginha, Brazil Entity; Alien Body Recovered; UFO Photograph Case, Alabama; UFO Photo Hungary                                                                                                                                                                                                  | NA                                                                                                                                                                                                                                                                                                  | \n",
       "| 1997 | UFOs merging on film; St. Petersburg, Russia UFO; The Phoenix, Arizona Lights; UFO Encounter, Boyne Island; Swissair jet / near miss UFO; South Africa UFO Encounter                                                                                                                                | Abduction in Wales                                                                                                                                                                                                                                                                                  | \n",
       "| 1999 | Aliens photographed in London; Jet Crew Encounters UFO; British Charter Encounters UFO; UFO Crash in Swedish Lake                                                                                                                                                                                   | Abduction in Illinois                                                                                                                                                                                                                                                                               | \n",
       "| 2000 | The Illinois Sightings; UFO Photographed / Stinson Lake; UFO shoots beam at photographer; UFO landing in West Malaysia; The Twin Towers UFO Video(hoax); UFO Visits Idaho Mountain                                                                                                                  | NA                                                                                                                                                                                                                                                                                                  | \n",
       "| 2001 | Waynesville, Ohio Police UFO Report                                                                                                                                                                                                                                                                 | NA                                                                                                                                                                                                                                                                                                  | \n",
       "| 2002 | Roswell (General Ramey Memo); Gulfport, Mississippi UFO Incident; Trenton / Brookville UFO Sightings; Tyrone, PA Sighting & Photograph; The Albany Airport UFO Video; Rendlesham Documents released; The Leyland, Lancashire Videos; Afyon, Turkey Sighting with Video; Possible UFO Landing, Chile | NA                                                                                                                                                                                                                                                                                                  | \n",
       "| 2003 | UFO Photographed / Wisconsin; UFO Video / Tennessee, Shaffer; UFO Incident, Screaming Sounds; Ashland, Nebraska UFO Video                                                                                                                                                                           | NA                                                                                                                                                                                                                                                                                                  | \n",
       "| 2004 | Amelia, Ohio Bizarre UFO Incident; Mexican Military Releases UFO Footage; Centerville, Ohio UFO Report; Close Encounter in Tennessee; Northern Ohio Sightings                                                                                                                                       | NA                                                                                                                                                                                                                                                                                                  | \n",
       "\n",
       "\n"
      ],
      "text/plain": [
       "     0                                                                                                                                                                                                                                                                                                  \n",
       "1994 UFO Sightings in Holland, Michigan; UFO Photographed in Mongo, Indiana                                                                                                                                                                                                                             \n",
       "1995 American West 564 UFO Encounter; UFO Crash in Israel                                                                                                                                                                                                                                               \n",
       "1996 The Varginha, Brazil Entity; Alien Body Recovered; UFO Photograph Case, Alabama; UFO Photo Hungary                                                                                                                                                                                                 \n",
       "1997 UFOs merging on film; St. Petersburg, Russia UFO; The Phoenix, Arizona Lights; UFO Encounter, Boyne Island; Swissair jet / near miss UFO; South Africa UFO Encounter                                                                                                                               \n",
       "1999 Aliens photographed in London; Jet Crew Encounters UFO; British Charter Encounters UFO; UFO Crash in Swedish Lake                                                                                                                                                                                  \n",
       "2000 The Illinois Sightings; UFO Photographed / Stinson Lake; UFO shoots beam at photographer; UFO landing in West Malaysia; The Twin Towers UFO Video(hoax); UFO Visits Idaho Mountain                                                                                                                 \n",
       "2001 Waynesville, Ohio Police UFO Report                                                                                                                                                                                                                                                                \n",
       "2002 Roswell (General Ramey Memo); Gulfport, Mississippi UFO Incident; Trenton / Brookville UFO Sightings; Tyrone, PA Sighting & Photograph; The Albany Airport UFO Video; Rendlesham Documents released; The Leyland, Lancashire Videos; Afyon, Turkey Sighting with Video; Possible UFO Landing, Chile\n",
       "2003 UFO Photographed / Wisconsin; UFO Video / Tennessee, Shaffer; UFO Incident, Screaming Sounds; Ashland, Nebraska UFO Video                                                                                                                                                                          \n",
       "2004 Amelia, Ohio Bizarre UFO Incident; Mexican Military Releases UFO Footage; Centerville, Ohio UFO Report; Close Encounter in Tennessee; Northern Ohio Sightings                                                                                                                                      \n",
       "     1                    \n",
       "1994 NA                   \n",
       "1995 NA                   \n",
       "1996 NA                   \n",
       "1997 Abduction in Wales   \n",
       "1999 Abduction in Illinois\n",
       "2000 NA                   \n",
       "2001 NA                   \n",
       "2002 NA                   \n",
       "2003 NA                   \n",
       "2004 NA                   "
      ]
     },
     "metadata": {},
     "output_type": "display_data"
    }
   ],
   "source": [
    "tail(output, 10)"
   ]
  },
  {
   "cell_type": "markdown",
   "metadata": {},
   "source": [
    "Naše funkce zatím vracela pouze řetězec. Jak je to ale s funkcí, která vrací prvků více?"
   ]
  },
  {
   "cell_type": "code",
   "execution_count": 70,
   "metadata": {},
   "outputs": [
    {
     "data": {
      "text/html": [
       "'matrix'"
      ],
      "text/latex": [
       "'matrix'"
      ],
      "text/markdown": [
       "'matrix'"
      ],
      "text/plain": [
       "[1] \"matrix\""
      ]
     },
     "metadata": {},
     "output_type": "display_data"
    },
    {
     "data": {
      "text/html": [
       "'list'"
      ],
      "text/latex": [
       "'list'"
      ],
      "text/markdown": [
       "'list'"
      ],
      "text/plain": [
       "[1] \"list\""
      ]
     },
     "metadata": {},
     "output_type": "display_data"
    },
    {
     "data": {
      "text/html": [
       "<ol class=list-inline>\n",
       "\t<li>62</li>\n",
       "\t<li>2</li>\n",
       "</ol>\n"
      ],
      "text/latex": [
       "\\begin{enumerate*}\n",
       "\\item 62\n",
       "\\item 2\n",
       "\\end{enumerate*}\n"
      ],
      "text/markdown": [
       "1. 62\n",
       "2. 2\n",
       "\n",
       "\n"
      ],
      "text/plain": [
       "[1] 62  2"
      ]
     },
     "metadata": {},
     "output_type": "display_data"
    },
    {
     "data": {
      "text/html": [
       "<table>\n",
       "<thead><tr><th></th><th scope=col>0</th><th scope=col>1</th></tr></thead>\n",
       "<tbody>\n",
       "\t<tr><th scope=row>1994</th><td>UFO Sightings in Holland, Michigan, UFO Photographed in Mongo, Indiana</td><td>NULL                                                                  </td></tr>\n",
       "\t<tr><th scope=row>1995</th><td>American West 564 UFO Encounter, UFO Crash in Israel            </td><td>NULL                                                            </td></tr>\n",
       "\t<tr><th scope=row>1996</th><td>The Varginha, Brazil Entity , Alien Body Recovered        , UFO Photograph Case, Alabama, UFO Photo Hungary           </td><td>NULL                                                                                                                  </td></tr>\n",
       "\t<tr><th scope=row>1997</th><td>UFOs merging on film        , St. Petersburg, Russia UFO  , The Phoenix, Arizona Lights , UFO Encounter, Boyne Island , Swissair jet / near miss UFO, South Africa UFO Encounter  </td><td>Abduction in Wales                                                                                                                                                                </td></tr>\n",
       "\t<tr><th scope=row>1999</th><td>Aliens photographed in London , Jet Crew Encounters UFO       , British Charter Encounters UFO, UFO Crash in Swedish Lake     </td><td>Abduction in Illinois                                                                                                         </td></tr>\n",
       "\t<tr><th scope=row>2000</th><td>The Illinois Sightings         , UFO Photographed / Stinson Lake, UFO shoots beam at photographer, UFO landing in West Malaysia   , The Twin Towers UFO Video(hoax), UFO Visits Idaho Mountain      </td><td>NULL                                                                                                                                                                                                </td></tr>\n",
       "\t<tr><th scope=row>2001</th><td>Waynesville, Ohio Police UFO Report</td><td>NULL                               </td></tr>\n",
       "\t<tr><th scope=row>2002</th><td><span style=white-space:pre-wrap>Roswell (General Ramey Memo)      , Gulfport, Mississippi UFO Incident, Trenton / Brookville UFO Sightings, Tyrone, PA Sighting &amp; Photograph  , The Albany Airport UFO Video      , Rendlesham Documents released     , The Leyland, Lancashire Videos    , Afyon, Turkey Sighting with Video , Possible UFO Landing, Chile       </span></td><td>NULL                                                                                                                                                                                                                                                                                                                                                                          </td></tr>\n",
       "\t<tr><th scope=row>2003</th><td>UFO Photographed / Wisconsin  , UFO Video / Tennessee, Shaffer, UFO Incident, Screaming Sounds, Ashland, Nebraska UFO Video   </td><td>NULL                                                                                                                          </td></tr>\n",
       "\t<tr><th scope=row>2004</th><td>Amelia, Ohio Bizarre UFO Incident    , Mexican Military Releases UFO Footage, Centerville, Ohio UFO Report         , Close Encounter in Tennessee         , Northern Ohio Sightings              </td><td>NULL                                                                                                                                                                                             </td></tr>\n",
       "</tbody>\n",
       "</table>\n"
      ],
      "text/latex": [
       "\\begin{tabular}{r|ll}\n",
       "  & 0 & 1\\\\\n",
       "\\hline\n",
       "\t1994 & UFO Sightings in Holland, Michigan, UFO Photographed in Mongo, Indiana & NULL                                                                  \\\\\n",
       "\t1995 & American West 564 UFO Encounter, UFO Crash in Israel             & NULL                                                            \\\\\n",
       "\t1996 & The Varginha, Brazil Entity , Alien Body Recovered        , UFO Photograph Case, Alabama, UFO Photo Hungary            & NULL                                                                                                                  \\\\\n",
       "\t1997 & UFOs merging on film        , St. Petersburg, Russia UFO  , The Phoenix, Arizona Lights , UFO Encounter, Boyne Island , Swissair jet / near miss UFO, South Africa UFO Encounter   & Abduction in Wales                                                                                                                                                                \\\\\n",
       "\t1999 & Aliens photographed in London , Jet Crew Encounters UFO       , British Charter Encounters UFO, UFO Crash in Swedish Lake      & Abduction in Illinois                                                                                                         \\\\\n",
       "\t2000 & The Illinois Sightings         , UFO Photographed / Stinson Lake, UFO shoots beam at photographer, UFO landing in West Malaysia   , The Twin Towers UFO Video(hoax), UFO Visits Idaho Mountain       & NULL                                                                                                                                                                                                \\\\\n",
       "\t2001 & Waynesville, Ohio Police UFO Report & NULL                               \\\\\n",
       "\t2002 & Roswell (General Ramey Memo)      , Gulfport, Mississippi UFO Incident, Trenton / Brookville UFO Sightings, Tyrone, PA Sighting \\& Photograph  , The Albany Airport UFO Video      , Rendlesham Documents released     , The Leyland, Lancashire Videos    , Afyon, Turkey Sighting with Video , Possible UFO Landing, Chile        & NULL                                                                                                                                                                                                                                                                                                                                \\\\\n",
       "\t2003 & UFO Photographed / Wisconsin  , UFO Video / Tennessee, Shaffer, UFO Incident, Screaming Sounds, Ashland, Nebraska UFO Video    & NULL                                                                                                                          \\\\\n",
       "\t2004 & Amelia, Ohio Bizarre UFO Incident    , Mexican Military Releases UFO Footage, Centerville, Ohio UFO Report         , Close Encounter in Tennessee         , Northern Ohio Sightings               & NULL                                                                                                                                                                                             \\\\\n",
       "\\end{tabular}\n"
      ],
      "text/markdown": [
       "\n",
       "| <!--/--> | 0 | 1 | \n",
       "|---|---|---|---|---|---|---|---|---|---|\n",
       "| 1994 | UFO Sightings in Holland, Michigan, UFO Photographed in Mongo, Indiana | NULL                                                                   | \n",
       "| 1995 | American West 564 UFO Encounter, UFO Crash in Israel             | NULL                                                             | \n",
       "| 1996 | The Varginha, Brazil Entity , Alien Body Recovered        , UFO Photograph Case, Alabama, UFO Photo Hungary            | NULL                                                                                                                   | \n",
       "| 1997 | UFOs merging on film        , St. Petersburg, Russia UFO  , The Phoenix, Arizona Lights , UFO Encounter, Boyne Island , Swissair jet / near miss UFO, South Africa UFO Encounter   | Abduction in Wales                                                                                                                                                                 | \n",
       "| 1999 | Aliens photographed in London , Jet Crew Encounters UFO       , British Charter Encounters UFO, UFO Crash in Swedish Lake      | Abduction in Illinois                                                                                                          | \n",
       "| 2000 | The Illinois Sightings         , UFO Photographed / Stinson Lake, UFO shoots beam at photographer, UFO landing in West Malaysia   , The Twin Towers UFO Video(hoax), UFO Visits Idaho Mountain       | NULL                                                                                                                                                                                                 | \n",
       "| 2001 | Waynesville, Ohio Police UFO Report | NULL                                | \n",
       "| 2002 | Roswell (General Ramey Memo)      , Gulfport, Mississippi UFO Incident, Trenton / Brookville UFO Sightings, Tyrone, PA Sighting & Photograph  , The Albany Airport UFO Video      , Rendlesham Documents released     , The Leyland, Lancashire Videos    , Afyon, Turkey Sighting with Video , Possible UFO Landing, Chile        | NULL                                                                                                                                                                                                                                                                                                                               | \n",
       "| 2003 | UFO Photographed / Wisconsin  , UFO Video / Tennessee, Shaffer, UFO Incident, Screaming Sounds, Ashland, Nebraska UFO Video    | NULL                                                                                                                           | \n",
       "| 2004 | Amelia, Ohio Bizarre UFO Incident    , Mexican Military Releases UFO Footage, Centerville, Ohio UFO Report         , Close Encounter in Tennessee         , Northern Ohio Sightings               | NULL                                                                                                                                                                                              | \n",
       "\n",
       "\n"
      ],
      "text/plain": [
       "     0                                                                                                                                                                                                                                                                                                                                 \n",
       "1994 UFO Sightings in Holland, Michigan, UFO Photographed in Mongo, Indiana                                                                                                                                                                                                                                                            \n",
       "1995 American West 564 UFO Encounter, UFO Crash in Israel                                                                                                                                                                                                                                                                              \n",
       "1996 The Varginha, Brazil Entity , Alien Body Recovered        , UFO Photograph Case, Alabama, UFO Photo Hungary                                                                                                                                                                                                                       \n",
       "1997 UFOs merging on film        , St. Petersburg, Russia UFO  , The Phoenix, Arizona Lights , UFO Encounter, Boyne Island , Swissair jet / near miss UFO, South Africa UFO Encounter                                                                                                                                                  \n",
       "1999 Aliens photographed in London , Jet Crew Encounters UFO       , British Charter Encounters UFO, UFO Crash in Swedish Lake                                                                                                                                                                                                         \n",
       "2000 The Illinois Sightings         , UFO Photographed / Stinson Lake, UFO shoots beam at photographer, UFO landing in West Malaysia   , The Twin Towers UFO Video(hoax), UFO Visits Idaho Mountain                                                                                                                                    \n",
       "2001 Waynesville, Ohio Police UFO Report                                                                                                                                                                                                                                                                                               \n",
       "2002 Roswell (General Ramey Memo)      , Gulfport, Mississippi UFO Incident, Trenton / Brookville UFO Sightings, Tyrone, PA Sighting & Photograph  , The Albany Airport UFO Video      , Rendlesham Documents released     , The Leyland, Lancashire Videos    , Afyon, Turkey Sighting with Video , Possible UFO Landing, Chile       \n",
       "2003 UFO Photographed / Wisconsin  , UFO Video / Tennessee, Shaffer, UFO Incident, Screaming Sounds, Ashland, Nebraska UFO Video                                                                                                                                                                                                       \n",
       "2004 Amelia, Ohio Bizarre UFO Incident    , Mexican Military Releases UFO Footage, Centerville, Ohio UFO Report         , Close Encounter in Tennessee         , Northern Ohio Sightings                                                                                                                                               \n",
       "     1                    \n",
       "1994 NULL                 \n",
       "1995 NULL                 \n",
       "1996 NULL                 \n",
       "1997 Abduction in Wales   \n",
       "1999 Abduction in Illinois\n",
       "2000 NULL                 \n",
       "2001 NULL                 \n",
       "2002 NULL                 \n",
       "2003 NULL                 \n",
       "2004 NULL                 "
      ]
     },
     "metadata": {},
     "output_type": "display_data"
    }
   ],
   "source": [
    "output <- tapply(\n",
    "    df_ufocase$EventName\n",
    "    , list(\n",
    "        df_ufocase$Year\n",
    "        , df_ufocase$Abduction\n",
    "    )\n",
    "    , function(x) x\n",
    ")\n",
    "        \n",
    "class(output)\n",
    "mode(output)\n",
    "dim(output)\n",
    "tail(output, 10)"
   ]
  },
  {
   "cell_type": "markdown",
   "metadata": {},
   "source": [
    "Jak vidíte, chování funkce je analogické jako například v případě funkce `sapply`, která též v podobné situaci uživateli vrátí matici seznamů. Tento seznam má vždy jeden prvek, ve kterém je uložena naše návratová hodnota:"
   ]
  },
  {
   "cell_type": "code",
   "execution_count": 71,
   "metadata": {},
   "outputs": [
    {
     "data": {
      "text/html": [
       "<ol>\n",
       "\t<li><ol class=list-inline>\n",
       "\t<li>'Aliens photographed in London'</li>\n",
       "\t<li>'Jet Crew Encounters UFO'</li>\n",
       "\t<li>'British Charter Encounters UFO'</li>\n",
       "\t<li>'UFO Crash in Swedish Lake'</li>\n",
       "</ol>\n",
       "</li>\n",
       "</ol>\n"
      ],
      "text/latex": [
       "\\begin{enumerate}\n",
       "\\item \\begin{enumerate*}\n",
       "\\item 'Aliens photographed in London'\n",
       "\\item 'Jet Crew Encounters UFO'\n",
       "\\item 'British Charter Encounters UFO'\n",
       "\\item 'UFO Crash in Swedish Lake'\n",
       "\\end{enumerate*}\n",
       "\n",
       "\\end{enumerate}\n"
      ],
      "text/markdown": [
       "1. 1. 'Aliens photographed in London'\n",
       "2. 'Jet Crew Encounters UFO'\n",
       "3. 'British Charter Encounters UFO'\n",
       "4. 'UFO Crash in Swedish Lake'\n",
       "\n",
       "\n",
       "\n",
       "\n",
       "\n"
      ],
      "text/plain": [
       "[[1]]\n",
       "[1] \"Aliens photographed in London\"  \"Jet Crew Encounters UFO\"       \n",
       "[3] \"British Charter Encounters UFO\" \"UFO Crash in Swedish Lake\"     \n"
      ]
     },
     "metadata": {},
     "output_type": "display_data"
    }
   ],
   "source": [
    "output[\"1999\", \"0\"]"
   ]
  },
  {
   "cell_type": "markdown",
   "metadata": {},
   "source": [
    "Toto je tedy vektor událostí z roku 1999, kde mimozemšťané nikoho neunesli:"
   ]
  },
  {
   "cell_type": "code",
   "execution_count": 72,
   "metadata": {},
   "outputs": [
    {
     "data": {
      "text/html": [
       "<ol class=list-inline>\n",
       "\t<li>'Aliens photographed in London'</li>\n",
       "\t<li>'Jet Crew Encounters UFO'</li>\n",
       "\t<li>'British Charter Encounters UFO'</li>\n",
       "\t<li>'UFO Crash in Swedish Lake'</li>\n",
       "</ol>\n"
      ],
      "text/latex": [
       "\\begin{enumerate*}\n",
       "\\item 'Aliens photographed in London'\n",
       "\\item 'Jet Crew Encounters UFO'\n",
       "\\item 'British Charter Encounters UFO'\n",
       "\\item 'UFO Crash in Swedish Lake'\n",
       "\\end{enumerate*}\n"
      ],
      "text/markdown": [
       "1. 'Aliens photographed in London'\n",
       "2. 'Jet Crew Encounters UFO'\n",
       "3. 'British Charter Encounters UFO'\n",
       "4. 'UFO Crash in Swedish Lake'\n",
       "\n",
       "\n"
      ],
      "text/plain": [
       "[1] \"Aliens photographed in London\"  \"Jet Crew Encounters UFO\"       \n",
       "[3] \"British Charter Encounters UFO\" \"UFO Crash in Swedish Lake\"     "
      ]
     },
     "metadata": {},
     "output_type": "display_data"
    }
   ],
   "source": [
    "unlist(output[\"1999\", \"0\"])"
   ]
  },
  {
   "cell_type": "markdown",
   "metadata": {},
   "source": [
    "### `by`\n",
    "\n",
    "Funkce by je v podstatě `tapply`, ale jejím prvním parametrem není pouze lineární datová struktura (např. jeden sloupec datové tabulky), ale vícerozměrný objekt. Do naší funkce tedy jako parametr dostáváme celou podmnožinu daného objektu. Pro náší datovou tabulku s pozorováním UFO to například dopadne takto:"
   ]
  },
  {
   "cell_type": "code",
   "execution_count": 73,
   "metadata": {},
   "outputs": [
    {
     "data": {
      "text/html": [
       "'by'"
      ],
      "text/latex": [
       "'by'"
      ],
      "text/markdown": [
       "'by'"
      ],
      "text/plain": [
       "[1] \"by\""
      ]
     },
     "metadata": {},
     "output_type": "display_data"
    },
    {
     "data": {
      "text/html": [
       "'list'"
      ],
      "text/latex": [
       "'list'"
      ],
      "text/markdown": [
       "'list'"
      ],
      "text/plain": [
       "[1] \"list\""
      ]
     },
     "metadata": {},
     "output_type": "display_data"
    },
    {
     "data": {
      "text/html": [
       "62"
      ],
      "text/latex": [
       "62"
      ],
      "text/markdown": [
       "62"
      ],
      "text/plain": [
       "[1] 62"
      ]
     },
     "metadata": {},
     "output_type": "display_data"
    },
    {
     "data": {
      "text/html": [
       "<ol class=list-inline>\n",
       "\t<li>'1865'</li>\n",
       "\t<li>'1878'</li>\n",
       "\t<li>'1897'</li>\n",
       "\t<li>'1930'</li>\n",
       "\t<li>'1937'</li>\n",
       "\t<li>'1939'</li>\n",
       "\t<li>'1941'</li>\n",
       "\t<li>'1942'</li>\n",
       "\t<li>'1944'</li>\n",
       "\t<li>'1945'</li>\n",
       "\t<li>'1947'</li>\n",
       "\t<li>'1948'</li>\n",
       "\t<li>'1949'</li>\n",
       "\t<li>'1950'</li>\n",
       "\t<li>'1951'</li>\n",
       "\t<li>'1952'</li>\n",
       "\t<li>'1953'</li>\n",
       "\t<li>'1954'</li>\n",
       "\t<li>'1955'</li>\n",
       "\t<li>'1956'</li>\n",
       "\t<li>'1957'</li>\n",
       "\t<li>'1958'</li>\n",
       "\t<li>'1959'</li>\n",
       "\t<li>'1960'</li>\n",
       "\t<li>'1961'</li>\n",
       "\t<li>'1962'</li>\n",
       "\t<li>'1963'</li>\n",
       "\t<li>'1964'</li>\n",
       "\t<li>'1965'</li>\n",
       "\t<li>'1966'</li>\n",
       "\t<li>'1967'</li>\n",
       "\t<li>'1968'</li>\n",
       "\t<li>'1969'</li>\n",
       "\t<li>'1970'</li>\n",
       "\t<li>'1971'</li>\n",
       "\t<li>'1972'</li>\n",
       "\t<li>'1973'</li>\n",
       "\t<li>'1974'</li>\n",
       "\t<li>'1975'</li>\n",
       "\t<li>'1976'</li>\n",
       "\t<li>'1977'</li>\n",
       "\t<li>'1978'</li>\n",
       "\t<li>'1979'</li>\n",
       "\t<li>'1980'</li>\n",
       "\t<li>'1981'</li>\n",
       "\t<li>'1986'</li>\n",
       "\t<li>'1987'</li>\n",
       "\t<li>'1988'</li>\n",
       "\t<li>'1989'</li>\n",
       "\t<li>'1991'</li>\n",
       "\t<li>'1992'</li>\n",
       "\t<li>'1993'</li>\n",
       "\t<li>'1994'</li>\n",
       "\t<li>'1995'</li>\n",
       "\t<li>'1996'</li>\n",
       "\t<li>'1997'</li>\n",
       "\t<li>'1999'</li>\n",
       "\t<li>'2000'</li>\n",
       "\t<li>'2001'</li>\n",
       "\t<li>'2002'</li>\n",
       "\t<li>'2003'</li>\n",
       "\t<li>'2004'</li>\n",
       "</ol>\n"
      ],
      "text/latex": [
       "\\begin{enumerate*}\n",
       "\\item '1865'\n",
       "\\item '1878'\n",
       "\\item '1897'\n",
       "\\item '1930'\n",
       "\\item '1937'\n",
       "\\item '1939'\n",
       "\\item '1941'\n",
       "\\item '1942'\n",
       "\\item '1944'\n",
       "\\item '1945'\n",
       "\\item '1947'\n",
       "\\item '1948'\n",
       "\\item '1949'\n",
       "\\item '1950'\n",
       "\\item '1951'\n",
       "\\item '1952'\n",
       "\\item '1953'\n",
       "\\item '1954'\n",
       "\\item '1955'\n",
       "\\item '1956'\n",
       "\\item '1957'\n",
       "\\item '1958'\n",
       "\\item '1959'\n",
       "\\item '1960'\n",
       "\\item '1961'\n",
       "\\item '1962'\n",
       "\\item '1963'\n",
       "\\item '1964'\n",
       "\\item '1965'\n",
       "\\item '1966'\n",
       "\\item '1967'\n",
       "\\item '1968'\n",
       "\\item '1969'\n",
       "\\item '1970'\n",
       "\\item '1971'\n",
       "\\item '1972'\n",
       "\\item '1973'\n",
       "\\item '1974'\n",
       "\\item '1975'\n",
       "\\item '1976'\n",
       "\\item '1977'\n",
       "\\item '1978'\n",
       "\\item '1979'\n",
       "\\item '1980'\n",
       "\\item '1981'\n",
       "\\item '1986'\n",
       "\\item '1987'\n",
       "\\item '1988'\n",
       "\\item '1989'\n",
       "\\item '1991'\n",
       "\\item '1992'\n",
       "\\item '1993'\n",
       "\\item '1994'\n",
       "\\item '1995'\n",
       "\\item '1996'\n",
       "\\item '1997'\n",
       "\\item '1999'\n",
       "\\item '2000'\n",
       "\\item '2001'\n",
       "\\item '2002'\n",
       "\\item '2003'\n",
       "\\item '2004'\n",
       "\\end{enumerate*}\n"
      ],
      "text/markdown": [
       "1. '1865'\n",
       "2. '1878'\n",
       "3. '1897'\n",
       "4. '1930'\n",
       "5. '1937'\n",
       "6. '1939'\n",
       "7. '1941'\n",
       "8. '1942'\n",
       "9. '1944'\n",
       "10. '1945'\n",
       "11. '1947'\n",
       "12. '1948'\n",
       "13. '1949'\n",
       "14. '1950'\n",
       "15. '1951'\n",
       "16. '1952'\n",
       "17. '1953'\n",
       "18. '1954'\n",
       "19. '1955'\n",
       "20. '1956'\n",
       "21. '1957'\n",
       "22. '1958'\n",
       "23. '1959'\n",
       "24. '1960'\n",
       "25. '1961'\n",
       "26. '1962'\n",
       "27. '1963'\n",
       "28. '1964'\n",
       "29. '1965'\n",
       "30. '1966'\n",
       "31. '1967'\n",
       "32. '1968'\n",
       "33. '1969'\n",
       "34. '1970'\n",
       "35. '1971'\n",
       "36. '1972'\n",
       "37. '1973'\n",
       "38. '1974'\n",
       "39. '1975'\n",
       "40. '1976'\n",
       "41. '1977'\n",
       "42. '1978'\n",
       "43. '1979'\n",
       "44. '1980'\n",
       "45. '1981'\n",
       "46. '1986'\n",
       "47. '1987'\n",
       "48. '1988'\n",
       "49. '1989'\n",
       "50. '1991'\n",
       "51. '1992'\n",
       "52. '1993'\n",
       "53. '1994'\n",
       "54. '1995'\n",
       "55. '1996'\n",
       "56. '1997'\n",
       "57. '1999'\n",
       "58. '2000'\n",
       "59. '2001'\n",
       "60. '2002'\n",
       "61. '2003'\n",
       "62. '2004'\n",
       "\n",
       "\n"
      ],
      "text/plain": [
       " [1] \"1865\" \"1878\" \"1897\" \"1930\" \"1937\" \"1939\" \"1941\" \"1942\" \"1944\" \"1945\"\n",
       "[11] \"1947\" \"1948\" \"1949\" \"1950\" \"1951\" \"1952\" \"1953\" \"1954\" \"1955\" \"1956\"\n",
       "[21] \"1957\" \"1958\" \"1959\" \"1960\" \"1961\" \"1962\" \"1963\" \"1964\" \"1965\" \"1966\"\n",
       "[31] \"1967\" \"1968\" \"1969\" \"1970\" \"1971\" \"1972\" \"1973\" \"1974\" \"1975\" \"1976\"\n",
       "[41] \"1977\" \"1978\" \"1979\" \"1980\" \"1981\" \"1986\" \"1987\" \"1988\" \"1989\" \"1991\"\n",
       "[51] \"1992\" \"1993\" \"1994\" \"1995\" \"1996\" \"1997\" \"1999\" \"2000\" \"2001\" \"2002\"\n",
       "[61] \"2003\" \"2004\""
      ]
     },
     "metadata": {},
     "output_type": "display_data"
    },
    {
     "data": {
      "text/html": [
       "'data.frame'"
      ],
      "text/latex": [
       "'data.frame'"
      ],
      "text/markdown": [
       "'data.frame'"
      ],
      "text/plain": [
       "[1] \"data.frame\""
      ]
     },
     "metadata": {},
     "output_type": "display_data"
    },
    {
     "data": {
      "text/html": [
       "<table>\n",
       "<thead><tr><th></th><th scope=col>Year</th><th scope=col>EventName</th><th scope=col>Location</th><th scope=col>PhysicalEffects</th><th scope=col>Multimedia</th><th scope=col>ETContact</th><th scope=col>Abduction</th></tr></thead>\n",
       "<tbody>\n",
       "\t<tr><th scope=row>174</th><td>1999                          </td><td>Aliens photographed in London </td><td>U K                           </td><td>0                             </td><td>1                             </td><td>1                             </td><td>0                             </td></tr>\n",
       "\t<tr><th scope=row>175</th><td>1999                          </td><td>Jet Crew Encounters UFO       </td><td>Den.                          </td><td>0                             </td><td>0                             </td><td>0                             </td><td>0                             </td></tr>\n",
       "\t<tr><th scope=row>176</th><td>1999                          </td><td>British Charter Encounters UFO</td><td>U K                           </td><td>0                             </td><td>0                             </td><td>0                             </td><td>0                             </td></tr>\n",
       "\t<tr><th scope=row>177</th><td>1999                          </td><td>UFO Crash in Swedish Lake     </td><td>Sweden                        </td><td>0                             </td><td>0                             </td><td>0                             </td><td>0                             </td></tr>\n",
       "\t<tr><th scope=row>178</th><td>1999                          </td><td>Abduction in Illinois         </td><td>USA                           </td><td>1                             </td><td>0                             </td><td>1                             </td><td>1                             </td></tr>\n",
       "</tbody>\n",
       "</table>\n"
      ],
      "text/latex": [
       "\\begin{tabular}{r|lllllll}\n",
       "  & Year & EventName & Location & PhysicalEffects & Multimedia & ETContact & Abduction\\\\\n",
       "\\hline\n",
       "\t174 & 1999                           & Aliens photographed in London  & U K                            & 0                              & 1                              & 1                              & 0                             \\\\\n",
       "\t175 & 1999                           & Jet Crew Encounters UFO        & Den.                           & 0                              & 0                              & 0                              & 0                             \\\\\n",
       "\t176 & 1999                           & British Charter Encounters UFO & U K                            & 0                              & 0                              & 0                              & 0                             \\\\\n",
       "\t177 & 1999                           & UFO Crash in Swedish Lake      & Sweden                         & 0                              & 0                              & 0                              & 0                             \\\\\n",
       "\t178 & 1999                           & Abduction in Illinois          & USA                            & 1                              & 0                              & 1                              & 1                             \\\\\n",
       "\\end{tabular}\n"
      ],
      "text/markdown": [
       "\n",
       "| <!--/--> | Year | EventName | Location | PhysicalEffects | Multimedia | ETContact | Abduction | \n",
       "|---|---|---|---|---|\n",
       "| 174 | 1999                           | Aliens photographed in London  | U K                            | 0                              | 1                              | 1                              | 0                              | \n",
       "| 175 | 1999                           | Jet Crew Encounters UFO        | Den.                           | 0                              | 0                              | 0                              | 0                              | \n",
       "| 176 | 1999                           | British Charter Encounters UFO | U K                            | 0                              | 0                              | 0                              | 0                              | \n",
       "| 177 | 1999                           | UFO Crash in Swedish Lake      | Sweden                         | 0                              | 0                              | 0                              | 0                              | \n",
       "| 178 | 1999                           | Abduction in Illinois          | USA                            | 1                              | 0                              | 1                              | 1                              | \n",
       "\n",
       "\n"
      ],
      "text/plain": [
       "    Year EventName                      Location PhysicalEffects Multimedia\n",
       "174 1999 Aliens photographed in London  U K      0               1         \n",
       "175 1999 Jet Crew Encounters UFO        Den.     0               0         \n",
       "176 1999 British Charter Encounters UFO U K      0               0         \n",
       "177 1999 UFO Crash in Swedish Lake      Sweden   0               0         \n",
       "178 1999 Abduction in Illinois          USA      1               0         \n",
       "    ETContact Abduction\n",
       "174 1         0        \n",
       "175 0         0        \n",
       "176 0         0        \n",
       "177 0         0        \n",
       "178 1         1        "
      ]
     },
     "metadata": {},
     "output_type": "display_data"
    }
   ],
   "source": [
    "output <- by(\n",
    "    df_ufocase\n",
    "    , df_ufocase$Year\n",
    "    , function(x) x\n",
    ")\n",
    "        \n",
    "class(output)\n",
    "mode(output)\n",
    "dim(output)\n",
    "names(output)\n",
    "class(output[[\"1999\"]])\n",
    "output[[\"1999\"]]"
   ]
  },
  {
   "cell_type": "markdown",
   "metadata": {},
   "source": [
    "Výsledkem je tedy objekt třídy `by`, který agreguje výsledky volání této funkce. V našem případě je to pouze dlouhý seznam, jehož položky jsou pojmenované podle jednotlivých let (tedy úrovní faktoru, podle kterého jsme původní tabulku rozdělili). \n",
    "\n",
    "V případě použití více faktorů je výsledný objekt dvourozměrný:"
   ]
  },
  {
   "cell_type": "code",
   "execution_count": 74,
   "metadata": {},
   "outputs": [
    {
     "data": {
      "text/html": [
       "'by'"
      ],
      "text/latex": [
       "'by'"
      ],
      "text/markdown": [
       "'by'"
      ],
      "text/plain": [
       "[1] \"by\""
      ]
     },
     "metadata": {},
     "output_type": "display_data"
    },
    {
     "data": {
      "text/html": [
       "'list'"
      ],
      "text/latex": [
       "'list'"
      ],
      "text/markdown": [
       "'list'"
      ],
      "text/plain": [
       "[1] \"list\""
      ]
     },
     "metadata": {},
     "output_type": "display_data"
    },
    {
     "data": {
      "text/html": [
       "<ol class=list-inline>\n",
       "\t<li>62</li>\n",
       "\t<li>2</li>\n",
       "</ol>\n"
      ],
      "text/latex": [
       "\\begin{enumerate*}\n",
       "\\item 62\n",
       "\\item 2\n",
       "\\end{enumerate*}\n"
      ],
      "text/markdown": [
       "1. 62\n",
       "2. 2\n",
       "\n",
       "\n"
      ],
      "text/plain": [
       "[1] 62  2"
      ]
     },
     "metadata": {},
     "output_type": "display_data"
    },
    {
     "data": {
      "text/html": [
       "<ol>\n",
       "\t<li><ol class=list-inline>\n",
       "\t<li>'1865'</li>\n",
       "\t<li>'1878'</li>\n",
       "\t<li>'1897'</li>\n",
       "\t<li>'1930'</li>\n",
       "\t<li>'1937'</li>\n",
       "\t<li>'1939'</li>\n",
       "\t<li>'1941'</li>\n",
       "\t<li>'1942'</li>\n",
       "\t<li>'1944'</li>\n",
       "\t<li>'1945'</li>\n",
       "\t<li>'1947'</li>\n",
       "\t<li>'1948'</li>\n",
       "\t<li>'1949'</li>\n",
       "\t<li>'1950'</li>\n",
       "\t<li>'1951'</li>\n",
       "\t<li>'1952'</li>\n",
       "\t<li>'1953'</li>\n",
       "\t<li>'1954'</li>\n",
       "\t<li>'1955'</li>\n",
       "\t<li>'1956'</li>\n",
       "\t<li>'1957'</li>\n",
       "\t<li>'1958'</li>\n",
       "\t<li>'1959'</li>\n",
       "\t<li>'1960'</li>\n",
       "\t<li>'1961'</li>\n",
       "\t<li>'1962'</li>\n",
       "\t<li>'1963'</li>\n",
       "\t<li>'1964'</li>\n",
       "\t<li>'1965'</li>\n",
       "\t<li>'1966'</li>\n",
       "\t<li>'1967'</li>\n",
       "\t<li>'1968'</li>\n",
       "\t<li>'1969'</li>\n",
       "\t<li>'1970'</li>\n",
       "\t<li>'1971'</li>\n",
       "\t<li>'1972'</li>\n",
       "\t<li>'1973'</li>\n",
       "\t<li>'1974'</li>\n",
       "\t<li>'1975'</li>\n",
       "\t<li>'1976'</li>\n",
       "\t<li>'1977'</li>\n",
       "\t<li>'1978'</li>\n",
       "\t<li>'1979'</li>\n",
       "\t<li>'1980'</li>\n",
       "\t<li>'1981'</li>\n",
       "\t<li>'1986'</li>\n",
       "\t<li>'1987'</li>\n",
       "\t<li>'1988'</li>\n",
       "\t<li>'1989'</li>\n",
       "\t<li>'1991'</li>\n",
       "\t<li>'1992'</li>\n",
       "\t<li>'1993'</li>\n",
       "\t<li>'1994'</li>\n",
       "\t<li>'1995'</li>\n",
       "\t<li>'1996'</li>\n",
       "\t<li>'1997'</li>\n",
       "\t<li>'1999'</li>\n",
       "\t<li>'2000'</li>\n",
       "\t<li>'2001'</li>\n",
       "\t<li>'2002'</li>\n",
       "\t<li>'2003'</li>\n",
       "\t<li>'2004'</li>\n",
       "</ol>\n",
       "</li>\n",
       "\t<li><ol class=list-inline>\n",
       "\t<li>'0'</li>\n",
       "\t<li>'1'</li>\n",
       "</ol>\n",
       "</li>\n",
       "</ol>\n"
      ],
      "text/latex": [
       "\\begin{enumerate}\n",
       "\\item \\begin{enumerate*}\n",
       "\\item '1865'\n",
       "\\item '1878'\n",
       "\\item '1897'\n",
       "\\item '1930'\n",
       "\\item '1937'\n",
       "\\item '1939'\n",
       "\\item '1941'\n",
       "\\item '1942'\n",
       "\\item '1944'\n",
       "\\item '1945'\n",
       "\\item '1947'\n",
       "\\item '1948'\n",
       "\\item '1949'\n",
       "\\item '1950'\n",
       "\\item '1951'\n",
       "\\item '1952'\n",
       "\\item '1953'\n",
       "\\item '1954'\n",
       "\\item '1955'\n",
       "\\item '1956'\n",
       "\\item '1957'\n",
       "\\item '1958'\n",
       "\\item '1959'\n",
       "\\item '1960'\n",
       "\\item '1961'\n",
       "\\item '1962'\n",
       "\\item '1963'\n",
       "\\item '1964'\n",
       "\\item '1965'\n",
       "\\item '1966'\n",
       "\\item '1967'\n",
       "\\item '1968'\n",
       "\\item '1969'\n",
       "\\item '1970'\n",
       "\\item '1971'\n",
       "\\item '1972'\n",
       "\\item '1973'\n",
       "\\item '1974'\n",
       "\\item '1975'\n",
       "\\item '1976'\n",
       "\\item '1977'\n",
       "\\item '1978'\n",
       "\\item '1979'\n",
       "\\item '1980'\n",
       "\\item '1981'\n",
       "\\item '1986'\n",
       "\\item '1987'\n",
       "\\item '1988'\n",
       "\\item '1989'\n",
       "\\item '1991'\n",
       "\\item '1992'\n",
       "\\item '1993'\n",
       "\\item '1994'\n",
       "\\item '1995'\n",
       "\\item '1996'\n",
       "\\item '1997'\n",
       "\\item '1999'\n",
       "\\item '2000'\n",
       "\\item '2001'\n",
       "\\item '2002'\n",
       "\\item '2003'\n",
       "\\item '2004'\n",
       "\\end{enumerate*}\n",
       "\n",
       "\\item \\begin{enumerate*}\n",
       "\\item '0'\n",
       "\\item '1'\n",
       "\\end{enumerate*}\n",
       "\n",
       "\\end{enumerate}\n"
      ],
      "text/markdown": [
       "1. 1. '1865'\n",
       "2. '1878'\n",
       "3. '1897'\n",
       "4. '1930'\n",
       "5. '1937'\n",
       "6. '1939'\n",
       "7. '1941'\n",
       "8. '1942'\n",
       "9. '1944'\n",
       "10. '1945'\n",
       "11. '1947'\n",
       "12. '1948'\n",
       "13. '1949'\n",
       "14. '1950'\n",
       "15. '1951'\n",
       "16. '1952'\n",
       "17. '1953'\n",
       "18. '1954'\n",
       "19. '1955'\n",
       "20. '1956'\n",
       "21. '1957'\n",
       "22. '1958'\n",
       "23. '1959'\n",
       "24. '1960'\n",
       "25. '1961'\n",
       "26. '1962'\n",
       "27. '1963'\n",
       "28. '1964'\n",
       "29. '1965'\n",
       "30. '1966'\n",
       "31. '1967'\n",
       "32. '1968'\n",
       "33. '1969'\n",
       "34. '1970'\n",
       "35. '1971'\n",
       "36. '1972'\n",
       "37. '1973'\n",
       "38. '1974'\n",
       "39. '1975'\n",
       "40. '1976'\n",
       "41. '1977'\n",
       "42. '1978'\n",
       "43. '1979'\n",
       "44. '1980'\n",
       "45. '1981'\n",
       "46. '1986'\n",
       "47. '1987'\n",
       "48. '1988'\n",
       "49. '1989'\n",
       "50. '1991'\n",
       "51. '1992'\n",
       "52. '1993'\n",
       "53. '1994'\n",
       "54. '1995'\n",
       "55. '1996'\n",
       "56. '1997'\n",
       "57. '1999'\n",
       "58. '2000'\n",
       "59. '2001'\n",
       "60. '2002'\n",
       "61. '2003'\n",
       "62. '2004'\n",
       "\n",
       "\n",
       "\n",
       "2. 1. '0'\n",
       "2. '1'\n",
       "\n",
       "\n",
       "\n",
       "\n",
       "\n"
      ],
      "text/plain": [
       "[[1]]\n",
       " [1] \"1865\" \"1878\" \"1897\" \"1930\" \"1937\" \"1939\" \"1941\" \"1942\" \"1944\" \"1945\"\n",
       "[11] \"1947\" \"1948\" \"1949\" \"1950\" \"1951\" \"1952\" \"1953\" \"1954\" \"1955\" \"1956\"\n",
       "[21] \"1957\" \"1958\" \"1959\" \"1960\" \"1961\" \"1962\" \"1963\" \"1964\" \"1965\" \"1966\"\n",
       "[31] \"1967\" \"1968\" \"1969\" \"1970\" \"1971\" \"1972\" \"1973\" \"1974\" \"1975\" \"1976\"\n",
       "[41] \"1977\" \"1978\" \"1979\" \"1980\" \"1981\" \"1986\" \"1987\" \"1988\" \"1989\" \"1991\"\n",
       "[51] \"1992\" \"1993\" \"1994\" \"1995\" \"1996\" \"1997\" \"1999\" \"2000\" \"2001\" \"2002\"\n",
       "[61] \"2003\" \"2004\"\n",
       "\n",
       "[[2]]\n",
       "[1] \"0\" \"1\"\n"
      ]
     },
     "metadata": {},
     "output_type": "display_data"
    },
    {
     "data": {
      "text/html": [
       "<table>\n",
       "<thead><tr><th></th><th scope=col>Year</th><th scope=col>EventName</th><th scope=col>Location</th><th scope=col>PhysicalEffects</th><th scope=col>Multimedia</th><th scope=col>ETContact</th><th scope=col>Abduction</th></tr></thead>\n",
       "<tbody>\n",
       "\t<tr><th scope=row>174</th><td>1999                          </td><td>Aliens photographed in London </td><td>U K                           </td><td>0                             </td><td>1                             </td><td>1                             </td><td>0                             </td></tr>\n",
       "\t<tr><th scope=row>175</th><td>1999                          </td><td>Jet Crew Encounters UFO       </td><td>Den.                          </td><td>0                             </td><td>0                             </td><td>0                             </td><td>0                             </td></tr>\n",
       "\t<tr><th scope=row>176</th><td>1999                          </td><td>British Charter Encounters UFO</td><td>U K                           </td><td>0                             </td><td>0                             </td><td>0                             </td><td>0                             </td></tr>\n",
       "\t<tr><th scope=row>177</th><td>1999                          </td><td>UFO Crash in Swedish Lake     </td><td>Sweden                        </td><td>0                             </td><td>0                             </td><td>0                             </td><td>0                             </td></tr>\n",
       "</tbody>\n",
       "</table>\n"
      ],
      "text/latex": [
       "\\begin{tabular}{r|lllllll}\n",
       "  & Year & EventName & Location & PhysicalEffects & Multimedia & ETContact & Abduction\\\\\n",
       "\\hline\n",
       "\t174 & 1999                           & Aliens photographed in London  & U K                            & 0                              & 1                              & 1                              & 0                             \\\\\n",
       "\t175 & 1999                           & Jet Crew Encounters UFO        & Den.                           & 0                              & 0                              & 0                              & 0                             \\\\\n",
       "\t176 & 1999                           & British Charter Encounters UFO & U K                            & 0                              & 0                              & 0                              & 0                             \\\\\n",
       "\t177 & 1999                           & UFO Crash in Swedish Lake      & Sweden                         & 0                              & 0                              & 0                              & 0                             \\\\\n",
       "\\end{tabular}\n"
      ],
      "text/markdown": [
       "\n",
       "| <!--/--> | Year | EventName | Location | PhysicalEffects | Multimedia | ETContact | Abduction | \n",
       "|---|---|---|---|\n",
       "| 174 | 1999                           | Aliens photographed in London  | U K                            | 0                              | 1                              | 1                              | 0                              | \n",
       "| 175 | 1999                           | Jet Crew Encounters UFO        | Den.                           | 0                              | 0                              | 0                              | 0                              | \n",
       "| 176 | 1999                           | British Charter Encounters UFO | U K                            | 0                              | 0                              | 0                              | 0                              | \n",
       "| 177 | 1999                           | UFO Crash in Swedish Lake      | Sweden                         | 0                              | 0                              | 0                              | 0                              | \n",
       "\n",
       "\n"
      ],
      "text/plain": [
       "    Year EventName                      Location PhysicalEffects Multimedia\n",
       "174 1999 Aliens photographed in London  U K      0               1         \n",
       "175 1999 Jet Crew Encounters UFO        Den.     0               0         \n",
       "176 1999 British Charter Encounters UFO U K      0               0         \n",
       "177 1999 UFO Crash in Swedish Lake      Sweden   0               0         \n",
       "    ETContact Abduction\n",
       "174 1         0        \n",
       "175 0         0        \n",
       "176 0         0        \n",
       "177 0         0        "
      ]
     },
     "metadata": {},
     "output_type": "display_data"
    },
    {
     "data": {
      "text/html": [
       "'data.frame'"
      ],
      "text/latex": [
       "'data.frame'"
      ],
      "text/markdown": [
       "'data.frame'"
      ],
      "text/plain": [
       "[1] \"data.frame\""
      ]
     },
     "metadata": {},
     "output_type": "display_data"
    }
   ],
   "source": [
    "output <- by(\n",
    "    df_ufocase\n",
    "    , list(\n",
    "        df_ufocase$Year\n",
    "        , df_ufocase$Abduction\n",
    "    )\n",
    "    , function(x) x\n",
    ")\n",
    "        \n",
    "class(output)\n",
    "mode(output)\n",
    "dim(output)        \n",
    "dimnames(output)\n",
    "output[[\"1999\", \"0\"]]\n",
    "class(output[[\"1999\", \"0\"]])"
   ]
  },
  {
   "cell_type": "markdown",
   "metadata": {},
   "source": [
    "Jak vidíte, každá dimenze je opět pojmenovaná podle jednotlivých úrovní faktorů, podle kterých jsme data dělili. Po dotazu na konkrétní položku objektu pak dostaneme opět tabulku, která obsahuje příslušná data.\n",
    "\n",
    "Funkce `by` by se nám mohla hodit například pro stanovení procentuálního počtu přímých kontatků s mimozemšťanem, které skončily v jednotlivých lokacích unesením:"
   ]
  },
  {
   "cell_type": "code",
   "execution_count": 75,
   "metadata": {},
   "outputs": [
    {
     "data": {
      "text/html": [
       "<dl class=dl-horizontal>\n",
       "\t<dt>Australia</dt>\n",
       "\t\t<dd>100</dd>\n",
       "\t<dt>Wales</dt>\n",
       "\t\t<dd>100</dd>\n",
       "\t<dt>Brazil</dt>\n",
       "\t\t<dd>50</dd>\n",
       "\t<dt>Canada</dt>\n",
       "\t\t<dd>50</dd>\n",
       "\t<dt>USA</dt>\n",
       "\t\t<dd>46.875</dd>\n",
       "\t<dt>U K</dt>\n",
       "\t\t<dd>25</dd>\n",
       "\t<dt>Alaska</dt>\n",
       "\t\t<dd>0</dd>\n",
       "\t<dt>France</dt>\n",
       "\t\t<dd>0</dd>\n",
       "\t<dt>GOM</dt>\n",
       "\t\t<dd>0</dd>\n",
       "\t<dt>Malta</dt>\n",
       "\t\t<dd>0</dd>\n",
       "\t<dt>Mexico</dt>\n",
       "\t\t<dd>0</dd>\n",
       "\t<dt>N Guinea</dt>\n",
       "\t\t<dd>0</dd>\n",
       "\t<dt>P. Rico</dt>\n",
       "\t\t<dd>0</dd>\n",
       "\t<dt>Russia</dt>\n",
       "\t\t<dd>0</dd>\n",
       "\t<dt>S Amer</dt>\n",
       "\t\t<dd>0</dd>\n",
       "\t<dt>Spain</dt>\n",
       "\t\t<dd>0</dd>\n",
       "\t<dt>Switz</dt>\n",
       "\t\t<dd>0</dd>\n",
       "</dl>\n"
      ],
      "text/plain": [
       "df_ufocase$Location\n",
       "Australia     Wales    Brazil    Canada       USA       U K    Alaska    France \n",
       "  100.000   100.000    50.000    50.000    46.875    25.000     0.000     0.000 \n",
       "      GOM     Malta    Mexico  N Guinea   P. Rico    Russia    S Amer     Spain \n",
       "    0.000     0.000     0.000     0.000     0.000     0.000     0.000     0.000 \n",
       "    Switz \n",
       "    0.000 "
      ]
     },
     "metadata": {},
     "output_type": "display_data"
    }
   ],
   "source": [
    "get_abd_perc <- function(data) {\n",
    "    contacts <- sum(data[[\"ETContact\"]] == 1)\n",
    "    abductions <- sum(data[[\"Abduction\"]] == 1)\n",
    "    \n",
    "    100 * (abductions / contacts)\n",
    "}\n",
    "\n",
    "output <- by(\n",
    "    df_ufocase\n",
    "    , df_ufocase$Location\n",
    "    , get_abd_perc\n",
    ")\n",
    "\n",
    "sort(output, decreasing = T)"
   ]
  },
  {
   "cell_type": "markdown",
   "metadata": {},
   "source": [
    "V tomto příkladě jsme též vhodně použili funkci `sum`, která počítá součet položek v daném vektoru. V tomto případě tedy vrací počet `TRUE` v logickém vektoru, neboť logické hodnoty lze převést na 1 a 0, `TRUE` a `FALSE`.\n",
    "\n",
    "### `split`\n",
    "\n",
    "Funkce `split` vlastně postupuje stejné jako `tapply`, ale bez zavolání funkce. V podstatě jen daný vektor rozdělí do skupin tak, jak je definováno úrovněmi faktoru:"
   ]
  },
  {
   "cell_type": "code",
   "execution_count": 76,
   "metadata": {},
   "outputs": [
    {
     "data": {
      "text/html": [
       "'list'"
      ],
      "text/latex": [
       "'list'"
      ],
      "text/markdown": [
       "'list'"
      ],
      "text/plain": [
       "[1] \"list\""
      ]
     },
     "metadata": {},
     "output_type": "display_data"
    },
    {
     "data": {
      "text/html": [
       "<ol class=list-inline>\n",
       "\t<li>'1865'</li>\n",
       "\t<li>'1878'</li>\n",
       "\t<li>'1897'</li>\n",
       "\t<li>'1930'</li>\n",
       "\t<li>'1937'</li>\n",
       "\t<li>'1939'</li>\n",
       "\t<li>'1941'</li>\n",
       "\t<li>'1942'</li>\n",
       "\t<li>'1944'</li>\n",
       "\t<li>'1945'</li>\n",
       "\t<li>'1947'</li>\n",
       "\t<li>'1948'</li>\n",
       "\t<li>'1949'</li>\n",
       "\t<li>'1950'</li>\n",
       "\t<li>'1951'</li>\n",
       "\t<li>'1952'</li>\n",
       "\t<li>'1953'</li>\n",
       "\t<li>'1954'</li>\n",
       "\t<li>'1955'</li>\n",
       "\t<li>'1956'</li>\n",
       "\t<li>'1957'</li>\n",
       "\t<li>'1958'</li>\n",
       "\t<li>'1959'</li>\n",
       "\t<li>'1960'</li>\n",
       "\t<li>'1961'</li>\n",
       "\t<li>'1962'</li>\n",
       "\t<li>'1963'</li>\n",
       "\t<li>'1964'</li>\n",
       "\t<li>'1965'</li>\n",
       "\t<li>'1966'</li>\n",
       "\t<li>'1967'</li>\n",
       "\t<li>'1968'</li>\n",
       "\t<li>'1969'</li>\n",
       "\t<li>'1970'</li>\n",
       "\t<li>'1971'</li>\n",
       "\t<li>'1972'</li>\n",
       "\t<li>'1973'</li>\n",
       "\t<li>'1974'</li>\n",
       "\t<li>'1975'</li>\n",
       "\t<li>'1976'</li>\n",
       "\t<li>'1977'</li>\n",
       "\t<li>'1978'</li>\n",
       "\t<li>'1979'</li>\n",
       "\t<li>'1980'</li>\n",
       "\t<li>'1981'</li>\n",
       "\t<li>'1986'</li>\n",
       "\t<li>'1987'</li>\n",
       "\t<li>'1988'</li>\n",
       "\t<li>'1989'</li>\n",
       "\t<li>'1991'</li>\n",
       "\t<li>'1992'</li>\n",
       "\t<li>'1993'</li>\n",
       "\t<li>'1994'</li>\n",
       "\t<li>'1995'</li>\n",
       "\t<li>'1996'</li>\n",
       "\t<li>'1997'</li>\n",
       "\t<li>'1999'</li>\n",
       "\t<li>'2000'</li>\n",
       "\t<li>'2001'</li>\n",
       "\t<li>'2002'</li>\n",
       "\t<li>'2003'</li>\n",
       "\t<li>'2004'</li>\n",
       "</ol>\n"
      ],
      "text/latex": [
       "\\begin{enumerate*}\n",
       "\\item '1865'\n",
       "\\item '1878'\n",
       "\\item '1897'\n",
       "\\item '1930'\n",
       "\\item '1937'\n",
       "\\item '1939'\n",
       "\\item '1941'\n",
       "\\item '1942'\n",
       "\\item '1944'\n",
       "\\item '1945'\n",
       "\\item '1947'\n",
       "\\item '1948'\n",
       "\\item '1949'\n",
       "\\item '1950'\n",
       "\\item '1951'\n",
       "\\item '1952'\n",
       "\\item '1953'\n",
       "\\item '1954'\n",
       "\\item '1955'\n",
       "\\item '1956'\n",
       "\\item '1957'\n",
       "\\item '1958'\n",
       "\\item '1959'\n",
       "\\item '1960'\n",
       "\\item '1961'\n",
       "\\item '1962'\n",
       "\\item '1963'\n",
       "\\item '1964'\n",
       "\\item '1965'\n",
       "\\item '1966'\n",
       "\\item '1967'\n",
       "\\item '1968'\n",
       "\\item '1969'\n",
       "\\item '1970'\n",
       "\\item '1971'\n",
       "\\item '1972'\n",
       "\\item '1973'\n",
       "\\item '1974'\n",
       "\\item '1975'\n",
       "\\item '1976'\n",
       "\\item '1977'\n",
       "\\item '1978'\n",
       "\\item '1979'\n",
       "\\item '1980'\n",
       "\\item '1981'\n",
       "\\item '1986'\n",
       "\\item '1987'\n",
       "\\item '1988'\n",
       "\\item '1989'\n",
       "\\item '1991'\n",
       "\\item '1992'\n",
       "\\item '1993'\n",
       "\\item '1994'\n",
       "\\item '1995'\n",
       "\\item '1996'\n",
       "\\item '1997'\n",
       "\\item '1999'\n",
       "\\item '2000'\n",
       "\\item '2001'\n",
       "\\item '2002'\n",
       "\\item '2003'\n",
       "\\item '2004'\n",
       "\\end{enumerate*}\n"
      ],
      "text/markdown": [
       "1. '1865'\n",
       "2. '1878'\n",
       "3. '1897'\n",
       "4. '1930'\n",
       "5. '1937'\n",
       "6. '1939'\n",
       "7. '1941'\n",
       "8. '1942'\n",
       "9. '1944'\n",
       "10. '1945'\n",
       "11. '1947'\n",
       "12. '1948'\n",
       "13. '1949'\n",
       "14. '1950'\n",
       "15. '1951'\n",
       "16. '1952'\n",
       "17. '1953'\n",
       "18. '1954'\n",
       "19. '1955'\n",
       "20. '1956'\n",
       "21. '1957'\n",
       "22. '1958'\n",
       "23. '1959'\n",
       "24. '1960'\n",
       "25. '1961'\n",
       "26. '1962'\n",
       "27. '1963'\n",
       "28. '1964'\n",
       "29. '1965'\n",
       "30. '1966'\n",
       "31. '1967'\n",
       "32. '1968'\n",
       "33. '1969'\n",
       "34. '1970'\n",
       "35. '1971'\n",
       "36. '1972'\n",
       "37. '1973'\n",
       "38. '1974'\n",
       "39. '1975'\n",
       "40. '1976'\n",
       "41. '1977'\n",
       "42. '1978'\n",
       "43. '1979'\n",
       "44. '1980'\n",
       "45. '1981'\n",
       "46. '1986'\n",
       "47. '1987'\n",
       "48. '1988'\n",
       "49. '1989'\n",
       "50. '1991'\n",
       "51. '1992'\n",
       "52. '1993'\n",
       "53. '1994'\n",
       "54. '1995'\n",
       "55. '1996'\n",
       "56. '1997'\n",
       "57. '1999'\n",
       "58. '2000'\n",
       "59. '2001'\n",
       "60. '2002'\n",
       "61. '2003'\n",
       "62. '2004'\n",
       "\n",
       "\n"
      ],
      "text/plain": [
       " [1] \"1865\" \"1878\" \"1897\" \"1930\" \"1937\" \"1939\" \"1941\" \"1942\" \"1944\" \"1945\"\n",
       "[11] \"1947\" \"1948\" \"1949\" \"1950\" \"1951\" \"1952\" \"1953\" \"1954\" \"1955\" \"1956\"\n",
       "[21] \"1957\" \"1958\" \"1959\" \"1960\" \"1961\" \"1962\" \"1963\" \"1964\" \"1965\" \"1966\"\n",
       "[31] \"1967\" \"1968\" \"1969\" \"1970\" \"1971\" \"1972\" \"1973\" \"1974\" \"1975\" \"1976\"\n",
       "[41] \"1977\" \"1978\" \"1979\" \"1980\" \"1981\" \"1986\" \"1987\" \"1988\" \"1989\" \"1991\"\n",
       "[51] \"1992\" \"1993\" \"1994\" \"1995\" \"1996\" \"1997\" \"1999\" \"2000\" \"2001\" \"2002\"\n",
       "[61] \"2003\" \"2004\""
      ]
     },
     "metadata": {},
     "output_type": "display_data"
    },
    {
     "data": {
      "text/html": [
       "<dl>\n",
       "\t<dt>$`1999`</dt>\n",
       "\t\t<dd><ol class=list-inline>\n",
       "\t<li>'Aliens photographed in London'</li>\n",
       "\t<li>'Jet Crew Encounters UFO'</li>\n",
       "\t<li>'British Charter Encounters UFO'</li>\n",
       "\t<li>'UFO Crash in Swedish Lake'</li>\n",
       "\t<li>'Abduction in Illinois'</li>\n",
       "</ol>\n",
       "</dd>\n",
       "\t<dt>$`2000`</dt>\n",
       "\t\t<dd><ol class=list-inline>\n",
       "\t<li>'The Illinois Sightings'</li>\n",
       "\t<li>'UFO Photographed / Stinson Lake'</li>\n",
       "\t<li>'UFO shoots beam at photographer'</li>\n",
       "\t<li>'UFO landing in West Malaysia'</li>\n",
       "\t<li>'The Twin Towers UFO Video(hoax)'</li>\n",
       "\t<li>'UFO Visits Idaho Mountain'</li>\n",
       "</ol>\n",
       "</dd>\n",
       "\t<dt>$`2001`</dt>\n",
       "\t\t<dd>'Waynesville, Ohio Police UFO Report'</dd>\n",
       "\t<dt>$`2002`</dt>\n",
       "\t\t<dd><ol class=list-inline>\n",
       "\t<li>'Roswell (General Ramey Memo)'</li>\n",
       "\t<li>'Gulfport, Mississippi UFO Incident'</li>\n",
       "\t<li>'Trenton / Brookville UFO Sightings'</li>\n",
       "\t<li>'Tyrone, PA Sighting &amp; Photograph'</li>\n",
       "\t<li>'The Albany Airport UFO Video'</li>\n",
       "\t<li>'Rendlesham Documents released'</li>\n",
       "\t<li>'The Leyland, Lancashire Videos'</li>\n",
       "\t<li>'Afyon, Turkey Sighting with Video'</li>\n",
       "\t<li>'Possible UFO Landing, Chile'</li>\n",
       "</ol>\n",
       "</dd>\n",
       "\t<dt>$`2003`</dt>\n",
       "\t\t<dd><ol class=list-inline>\n",
       "\t<li>'UFO Photographed / Wisconsin'</li>\n",
       "\t<li>'UFO Video / Tennessee, Shaffer'</li>\n",
       "\t<li>'UFO Incident, Screaming Sounds'</li>\n",
       "\t<li>'Ashland, Nebraska UFO Video'</li>\n",
       "</ol>\n",
       "</dd>\n",
       "\t<dt>$`2004`</dt>\n",
       "\t\t<dd><ol class=list-inline>\n",
       "\t<li>'Amelia, Ohio Bizarre UFO Incident'</li>\n",
       "\t<li>'Mexican Military Releases UFO Footage'</li>\n",
       "\t<li>'Centerville, Ohio UFO Report'</li>\n",
       "\t<li>'Close Encounter in Tennessee'</li>\n",
       "\t<li>'Northern Ohio Sightings'</li>\n",
       "</ol>\n",
       "</dd>\n",
       "</dl>\n"
      ],
      "text/latex": [
       "\\begin{description}\n",
       "\\item[\\$`1999`] \\begin{enumerate*}\n",
       "\\item 'Aliens photographed in London'\n",
       "\\item 'Jet Crew Encounters UFO'\n",
       "\\item 'British Charter Encounters UFO'\n",
       "\\item 'UFO Crash in Swedish Lake'\n",
       "\\item 'Abduction in Illinois'\n",
       "\\end{enumerate*}\n",
       "\n",
       "\\item[\\$`2000`] \\begin{enumerate*}\n",
       "\\item 'The Illinois Sightings'\n",
       "\\item 'UFO Photographed / Stinson Lake'\n",
       "\\item 'UFO shoots beam at photographer'\n",
       "\\item 'UFO landing in West Malaysia'\n",
       "\\item 'The Twin Towers UFO Video(hoax)'\n",
       "\\item 'UFO Visits Idaho Mountain'\n",
       "\\end{enumerate*}\n",
       "\n",
       "\\item[\\$`2001`] 'Waynesville, Ohio Police UFO Report'\n",
       "\\item[\\$`2002`] \\begin{enumerate*}\n",
       "\\item 'Roswell (General Ramey Memo)'\n",
       "\\item 'Gulfport, Mississippi UFO Incident'\n",
       "\\item 'Trenton / Brookville UFO Sightings'\n",
       "\\item 'Tyrone, PA Sighting \\& Photograph'\n",
       "\\item 'The Albany Airport UFO Video'\n",
       "\\item 'Rendlesham Documents released'\n",
       "\\item 'The Leyland, Lancashire Videos'\n",
       "\\item 'Afyon, Turkey Sighting with Video'\n",
       "\\item 'Possible UFO Landing, Chile'\n",
       "\\end{enumerate*}\n",
       "\n",
       "\\item[\\$`2003`] \\begin{enumerate*}\n",
       "\\item 'UFO Photographed / Wisconsin'\n",
       "\\item 'UFO Video / Tennessee, Shaffer'\n",
       "\\item 'UFO Incident, Screaming Sounds'\n",
       "\\item 'Ashland, Nebraska UFO Video'\n",
       "\\end{enumerate*}\n",
       "\n",
       "\\item[\\$`2004`] \\begin{enumerate*}\n",
       "\\item 'Amelia, Ohio Bizarre UFO Incident'\n",
       "\\item 'Mexican Military Releases UFO Footage'\n",
       "\\item 'Centerville, Ohio UFO Report'\n",
       "\\item 'Close Encounter in Tennessee'\n",
       "\\item 'Northern Ohio Sightings'\n",
       "\\end{enumerate*}\n",
       "\n",
       "\\end{description}\n"
      ],
      "text/markdown": [
       "$`1999`\n",
       ":   1. 'Aliens photographed in London'\n",
       "2. 'Jet Crew Encounters UFO'\n",
       "3. 'British Charter Encounters UFO'\n",
       "4. 'UFO Crash in Swedish Lake'\n",
       "5. 'Abduction in Illinois'\n",
       "\n",
       "\n",
       "\n",
       "$`2000`\n",
       ":   1. 'The Illinois Sightings'\n",
       "2. 'UFO Photographed / Stinson Lake'\n",
       "3. 'UFO shoots beam at photographer'\n",
       "4. 'UFO landing in West Malaysia'\n",
       "5. 'The Twin Towers UFO Video(hoax)'\n",
       "6. 'UFO Visits Idaho Mountain'\n",
       "\n",
       "\n",
       "\n",
       "$`2001`\n",
       ":   'Waynesville, Ohio Police UFO Report'\n",
       "$`2002`\n",
       ":   1. 'Roswell (General Ramey Memo)'\n",
       "2. 'Gulfport, Mississippi UFO Incident'\n",
       "3. 'Trenton / Brookville UFO Sightings'\n",
       "4. 'Tyrone, PA Sighting &amp; Photograph'\n",
       "5. 'The Albany Airport UFO Video'\n",
       "6. 'Rendlesham Documents released'\n",
       "7. 'The Leyland, Lancashire Videos'\n",
       "8. 'Afyon, Turkey Sighting with Video'\n",
       "9. 'Possible UFO Landing, Chile'\n",
       "\n",
       "\n",
       "\n",
       "$`2003`\n",
       ":   1. 'UFO Photographed / Wisconsin'\n",
       "2. 'UFO Video / Tennessee, Shaffer'\n",
       "3. 'UFO Incident, Screaming Sounds'\n",
       "4. 'Ashland, Nebraska UFO Video'\n",
       "\n",
       "\n",
       "\n",
       "$`2004`\n",
       ":   1. 'Amelia, Ohio Bizarre UFO Incident'\n",
       "2. 'Mexican Military Releases UFO Footage'\n",
       "3. 'Centerville, Ohio UFO Report'\n",
       "4. 'Close Encounter in Tennessee'\n",
       "5. 'Northern Ohio Sightings'\n",
       "\n",
       "\n",
       "\n",
       "\n",
       "\n"
      ],
      "text/plain": [
       "$`1999`\n",
       "[1] \"Aliens photographed in London\"  \"Jet Crew Encounters UFO\"       \n",
       "[3] \"British Charter Encounters UFO\" \"UFO Crash in Swedish Lake\"     \n",
       "[5] \"Abduction in Illinois\"         \n",
       "\n",
       "$`2000`\n",
       "[1] \"The Illinois Sightings\"          \"UFO Photographed / Stinson Lake\"\n",
       "[3] \"UFO shoots beam at photographer\" \"UFO landing in West Malaysia\"   \n",
       "[5] \"The Twin Towers UFO Video(hoax)\" \"UFO Visits Idaho Mountain\"      \n",
       "\n",
       "$`2001`\n",
       "[1] \"Waynesville, Ohio Police UFO Report\"\n",
       "\n",
       "$`2002`\n",
       "[1] \"Roswell (General Ramey Memo)\"       \"Gulfport, Mississippi UFO Incident\"\n",
       "[3] \"Trenton / Brookville UFO Sightings\" \"Tyrone, PA Sighting & Photograph\"  \n",
       "[5] \"The Albany Airport UFO Video\"       \"Rendlesham Documents released\"     \n",
       "[7] \"The Leyland, Lancashire Videos\"     \"Afyon, Turkey Sighting with Video\" \n",
       "[9] \"Possible UFO Landing, Chile\"       \n",
       "\n",
       "$`2003`\n",
       "[1] \"UFO Photographed / Wisconsin\"   \"UFO Video / Tennessee, Shaffer\"\n",
       "[3] \"UFO Incident, Screaming Sounds\" \"Ashland, Nebraska UFO Video\"   \n",
       "\n",
       "$`2004`\n",
       "[1] \"Amelia, Ohio Bizarre UFO Incident\"    \n",
       "[2] \"Mexican Military Releases UFO Footage\"\n",
       "[3] \"Centerville, Ohio UFO Report\"         \n",
       "[4] \"Close Encounter in Tennessee\"         \n",
       "[5] \"Northern Ohio Sightings\"              \n"
      ]
     },
     "metadata": {},
     "output_type": "display_data"
    }
   ],
   "source": [
    "output <- split(df_ufocase$EventName, df_ufocase$Year)\n",
    "\n",
    "class(output)\n",
    "names(output)\n",
    "tail(output)"
   ]
  },
  {
   "cell_type": "markdown",
   "metadata": {},
   "source": [
    "Dostali jsme tedy seznam, ve kterém každá položka reprezentuje jeden rok a obsahuje jména událostí v daném roce jako vektor.\n",
    "\n",
    "Na rozdíl od funkce `tapply` můžete s funkcí `split` použít rovnou celý `data.frame`:"
   ]
  },
  {
   "cell_type": "code",
   "execution_count": 77,
   "metadata": {},
   "outputs": [
    {
     "data": {
      "text/html": [
       "'list'"
      ],
      "text/latex": [
       "'list'"
      ],
      "text/markdown": [
       "'list'"
      ],
      "text/plain": [
       "[1] \"list\""
      ]
     },
     "metadata": {},
     "output_type": "display_data"
    },
    {
     "data": {
      "text/html": [
       "<ol class=list-inline>\n",
       "\t<li>'1865'</li>\n",
       "\t<li>'1878'</li>\n",
       "\t<li>'1897'</li>\n",
       "\t<li>'1930'</li>\n",
       "\t<li>'1937'</li>\n",
       "\t<li>'1939'</li>\n",
       "\t<li>'1941'</li>\n",
       "\t<li>'1942'</li>\n",
       "\t<li>'1944'</li>\n",
       "\t<li>'1945'</li>\n",
       "\t<li>'1947'</li>\n",
       "\t<li>'1948'</li>\n",
       "\t<li>'1949'</li>\n",
       "\t<li>'1950'</li>\n",
       "\t<li>'1951'</li>\n",
       "\t<li>'1952'</li>\n",
       "\t<li>'1953'</li>\n",
       "\t<li>'1954'</li>\n",
       "\t<li>'1955'</li>\n",
       "\t<li>'1956'</li>\n",
       "\t<li>'1957'</li>\n",
       "\t<li>'1958'</li>\n",
       "\t<li>'1959'</li>\n",
       "\t<li>'1960'</li>\n",
       "\t<li>'1961'</li>\n",
       "\t<li>'1962'</li>\n",
       "\t<li>'1963'</li>\n",
       "\t<li>'1964'</li>\n",
       "\t<li>'1965'</li>\n",
       "\t<li>'1966'</li>\n",
       "\t<li>'1967'</li>\n",
       "\t<li>'1968'</li>\n",
       "\t<li>'1969'</li>\n",
       "\t<li>'1970'</li>\n",
       "\t<li>'1971'</li>\n",
       "\t<li>'1972'</li>\n",
       "\t<li>'1973'</li>\n",
       "\t<li>'1974'</li>\n",
       "\t<li>'1975'</li>\n",
       "\t<li>'1976'</li>\n",
       "\t<li>'1977'</li>\n",
       "\t<li>'1978'</li>\n",
       "\t<li>'1979'</li>\n",
       "\t<li>'1980'</li>\n",
       "\t<li>'1981'</li>\n",
       "\t<li>'1986'</li>\n",
       "\t<li>'1987'</li>\n",
       "\t<li>'1988'</li>\n",
       "\t<li>'1989'</li>\n",
       "\t<li>'1991'</li>\n",
       "\t<li>'1992'</li>\n",
       "\t<li>'1993'</li>\n",
       "\t<li>'1994'</li>\n",
       "\t<li>'1995'</li>\n",
       "\t<li>'1996'</li>\n",
       "\t<li>'1997'</li>\n",
       "\t<li>'1999'</li>\n",
       "\t<li>'2000'</li>\n",
       "\t<li>'2001'</li>\n",
       "\t<li>'2002'</li>\n",
       "\t<li>'2003'</li>\n",
       "\t<li>'2004'</li>\n",
       "</ol>\n"
      ],
      "text/latex": [
       "\\begin{enumerate*}\n",
       "\\item '1865'\n",
       "\\item '1878'\n",
       "\\item '1897'\n",
       "\\item '1930'\n",
       "\\item '1937'\n",
       "\\item '1939'\n",
       "\\item '1941'\n",
       "\\item '1942'\n",
       "\\item '1944'\n",
       "\\item '1945'\n",
       "\\item '1947'\n",
       "\\item '1948'\n",
       "\\item '1949'\n",
       "\\item '1950'\n",
       "\\item '1951'\n",
       "\\item '1952'\n",
       "\\item '1953'\n",
       "\\item '1954'\n",
       "\\item '1955'\n",
       "\\item '1956'\n",
       "\\item '1957'\n",
       "\\item '1958'\n",
       "\\item '1959'\n",
       "\\item '1960'\n",
       "\\item '1961'\n",
       "\\item '1962'\n",
       "\\item '1963'\n",
       "\\item '1964'\n",
       "\\item '1965'\n",
       "\\item '1966'\n",
       "\\item '1967'\n",
       "\\item '1968'\n",
       "\\item '1969'\n",
       "\\item '1970'\n",
       "\\item '1971'\n",
       "\\item '1972'\n",
       "\\item '1973'\n",
       "\\item '1974'\n",
       "\\item '1975'\n",
       "\\item '1976'\n",
       "\\item '1977'\n",
       "\\item '1978'\n",
       "\\item '1979'\n",
       "\\item '1980'\n",
       "\\item '1981'\n",
       "\\item '1986'\n",
       "\\item '1987'\n",
       "\\item '1988'\n",
       "\\item '1989'\n",
       "\\item '1991'\n",
       "\\item '1992'\n",
       "\\item '1993'\n",
       "\\item '1994'\n",
       "\\item '1995'\n",
       "\\item '1996'\n",
       "\\item '1997'\n",
       "\\item '1999'\n",
       "\\item '2000'\n",
       "\\item '2001'\n",
       "\\item '2002'\n",
       "\\item '2003'\n",
       "\\item '2004'\n",
       "\\end{enumerate*}\n"
      ],
      "text/markdown": [
       "1. '1865'\n",
       "2. '1878'\n",
       "3. '1897'\n",
       "4. '1930'\n",
       "5. '1937'\n",
       "6. '1939'\n",
       "7. '1941'\n",
       "8. '1942'\n",
       "9. '1944'\n",
       "10. '1945'\n",
       "11. '1947'\n",
       "12. '1948'\n",
       "13. '1949'\n",
       "14. '1950'\n",
       "15. '1951'\n",
       "16. '1952'\n",
       "17. '1953'\n",
       "18. '1954'\n",
       "19. '1955'\n",
       "20. '1956'\n",
       "21. '1957'\n",
       "22. '1958'\n",
       "23. '1959'\n",
       "24. '1960'\n",
       "25. '1961'\n",
       "26. '1962'\n",
       "27. '1963'\n",
       "28. '1964'\n",
       "29. '1965'\n",
       "30. '1966'\n",
       "31. '1967'\n",
       "32. '1968'\n",
       "33. '1969'\n",
       "34. '1970'\n",
       "35. '1971'\n",
       "36. '1972'\n",
       "37. '1973'\n",
       "38. '1974'\n",
       "39. '1975'\n",
       "40. '1976'\n",
       "41. '1977'\n",
       "42. '1978'\n",
       "43. '1979'\n",
       "44. '1980'\n",
       "45. '1981'\n",
       "46. '1986'\n",
       "47. '1987'\n",
       "48. '1988'\n",
       "49. '1989'\n",
       "50. '1991'\n",
       "51. '1992'\n",
       "52. '1993'\n",
       "53. '1994'\n",
       "54. '1995'\n",
       "55. '1996'\n",
       "56. '1997'\n",
       "57. '1999'\n",
       "58. '2000'\n",
       "59. '2001'\n",
       "60. '2002'\n",
       "61. '2003'\n",
       "62. '2004'\n",
       "\n",
       "\n"
      ],
      "text/plain": [
       " [1] \"1865\" \"1878\" \"1897\" \"1930\" \"1937\" \"1939\" \"1941\" \"1942\" \"1944\" \"1945\"\n",
       "[11] \"1947\" \"1948\" \"1949\" \"1950\" \"1951\" \"1952\" \"1953\" \"1954\" \"1955\" \"1956\"\n",
       "[21] \"1957\" \"1958\" \"1959\" \"1960\" \"1961\" \"1962\" \"1963\" \"1964\" \"1965\" \"1966\"\n",
       "[31] \"1967\" \"1968\" \"1969\" \"1970\" \"1971\" \"1972\" \"1973\" \"1974\" \"1975\" \"1976\"\n",
       "[41] \"1977\" \"1978\" \"1979\" \"1980\" \"1981\" \"1986\" \"1987\" \"1988\" \"1989\" \"1991\"\n",
       "[51] \"1992\" \"1993\" \"1994\" \"1995\" \"1996\" \"1997\" \"1999\" \"2000\" \"2001\" \"2002\"\n",
       "[61] \"2003\" \"2004\""
      ]
     },
     "metadata": {},
     "output_type": "display_data"
    },
    {
     "data": {
      "text/html": [
       "<dl>\n",
       "\t<dt>$`2003`</dt>\n",
       "\t\t<dd><table>\n",
       "<thead><tr><th></th><th scope=col>Year</th><th scope=col>EventName</th><th scope=col>Location</th><th scope=col>PhysicalEffects</th><th scope=col>Multimedia</th><th scope=col>ETContact</th><th scope=col>Abduction</th></tr></thead>\n",
       "<tbody>\n",
       "\t<tr><th scope=row>195</th><td>2003                          </td><td>UFO Photographed / Wisconsin  </td><td>USA                           </td><td>0                             </td><td>1                             </td><td>0                             </td><td>0                             </td></tr>\n",
       "\t<tr><th scope=row>196</th><td>2003                          </td><td>UFO Video / Tennessee, Shaffer</td><td>USA                           </td><td>0                             </td><td>1                             </td><td>0                             </td><td>0                             </td></tr>\n",
       "\t<tr><th scope=row>197</th><td>2003                          </td><td>UFO Incident, Screaming Sounds</td><td>USA                           </td><td>1                             </td><td>0                             </td><td>0                             </td><td>0                             </td></tr>\n",
       "\t<tr><th scope=row>198</th><td>2003                          </td><td>Ashland, Nebraska UFO Video   </td><td>USA                           </td><td>0                             </td><td>1                             </td><td>0                             </td><td>0                             </td></tr>\n",
       "</tbody>\n",
       "</table>\n",
       "</dd>\n",
       "\t<dt>$`2004`</dt>\n",
       "\t\t<dd><table>\n",
       "<thead><tr><th></th><th scope=col>Year</th><th scope=col>EventName</th><th scope=col>Location</th><th scope=col>PhysicalEffects</th><th scope=col>Multimedia</th><th scope=col>ETContact</th><th scope=col>Abduction</th></tr></thead>\n",
       "<tbody>\n",
       "\t<tr><th scope=row>199</th><td>2004                                 </td><td>Amelia, Ohio Bizarre UFO Incident    </td><td>USA                                  </td><td>1                                    </td><td>0                                    </td><td>0                                    </td><td>0                                    </td></tr>\n",
       "\t<tr><th scope=row>200</th><td>2004                                 </td><td>Mexican Military Releases UFO Footage</td><td>Mexico                               </td><td>1                                    </td><td>1                                    </td><td>0                                    </td><td>0                                    </td></tr>\n",
       "\t<tr><th scope=row>201</th><td>2004                                 </td><td>Centerville, Ohio UFO Report         </td><td>USA                                  </td><td>1                                    </td><td>0                                    </td><td>0                                    </td><td>0                                    </td></tr>\n",
       "\t<tr><th scope=row>202</th><td>2004                                 </td><td>Close Encounter in Tennessee         </td><td>USA                                  </td><td>1                                    </td><td>0                                    </td><td>0                                    </td><td>0                                    </td></tr>\n",
       "\t<tr><th scope=row>203</th><td>2004                                 </td><td>Northern Ohio Sightings              </td><td>USA                                  </td><td>1                                    </td><td>0                                    </td><td>0                                    </td><td>0                                    </td></tr>\n",
       "</tbody>\n",
       "</table>\n",
       "</dd>\n",
       "</dl>\n"
      ],
      "text/latex": [
       "\\begin{description}\n",
       "\\item[\\$`2003`] \\begin{tabular}{r|lllllll}\n",
       "  & Year & EventName & Location & PhysicalEffects & Multimedia & ETContact & Abduction\\\\\n",
       "\\hline\n",
       "\t195 & 2003                           & UFO Photographed / Wisconsin   & USA                            & 0                              & 1                              & 0                              & 0                             \\\\\n",
       "\t196 & 2003                           & UFO Video / Tennessee, Shaffer & USA                            & 0                              & 1                              & 0                              & 0                             \\\\\n",
       "\t197 & 2003                           & UFO Incident, Screaming Sounds & USA                            & 1                              & 0                              & 0                              & 0                             \\\\\n",
       "\t198 & 2003                           & Ashland, Nebraska UFO Video    & USA                            & 0                              & 1                              & 0                              & 0                             \\\\\n",
       "\\end{tabular}\n",
       "\n",
       "\\item[\\$`2004`] \\begin{tabular}{r|lllllll}\n",
       "  & Year & EventName & Location & PhysicalEffects & Multimedia & ETContact & Abduction\\\\\n",
       "\\hline\n",
       "\t199 & 2004                                  & Amelia, Ohio Bizarre UFO Incident     & USA                                   & 1                                     & 0                                     & 0                                     & 0                                    \\\\\n",
       "\t200 & 2004                                  & Mexican Military Releases UFO Footage & Mexico                                & 1                                     & 1                                     & 0                                     & 0                                    \\\\\n",
       "\t201 & 2004                                  & Centerville, Ohio UFO Report          & USA                                   & 1                                     & 0                                     & 0                                     & 0                                    \\\\\n",
       "\t202 & 2004                                  & Close Encounter in Tennessee          & USA                                   & 1                                     & 0                                     & 0                                     & 0                                    \\\\\n",
       "\t203 & 2004                                  & Northern Ohio Sightings               & USA                                   & 1                                     & 0                                     & 0                                     & 0                                    \\\\\n",
       "\\end{tabular}\n",
       "\n",
       "\\end{description}\n"
      ],
      "text/markdown": [
       "$`2003`\n",
       ":   \n",
       "| <!--/--> | Year | EventName | Location | PhysicalEffects | Multimedia | ETContact | Abduction | \n",
       "|---|---|---|---|\n",
       "| 195 | 2003                           | UFO Photographed / Wisconsin   | USA                            | 0                              | 1                              | 0                              | 0                              | \n",
       "| 196 | 2003                           | UFO Video / Tennessee, Shaffer | USA                            | 0                              | 1                              | 0                              | 0                              | \n",
       "| 197 | 2003                           | UFO Incident, Screaming Sounds | USA                            | 1                              | 0                              | 0                              | 0                              | \n",
       "| 198 | 2003                           | Ashland, Nebraska UFO Video    | USA                            | 0                              | 1                              | 0                              | 0                              | \n",
       "\n",
       "\n",
       "\n",
       "$`2004`\n",
       ":   \n",
       "| <!--/--> | Year | EventName | Location | PhysicalEffects | Multimedia | ETContact | Abduction | \n",
       "|---|---|---|---|---|\n",
       "| 199 | 2004                                  | Amelia, Ohio Bizarre UFO Incident     | USA                                   | 1                                     | 0                                     | 0                                     | 0                                     | \n",
       "| 200 | 2004                                  | Mexican Military Releases UFO Footage | Mexico                                | 1                                     | 1                                     | 0                                     | 0                                     | \n",
       "| 201 | 2004                                  | Centerville, Ohio UFO Report          | USA                                   | 1                                     | 0                                     | 0                                     | 0                                     | \n",
       "| 202 | 2004                                  | Close Encounter in Tennessee          | USA                                   | 1                                     | 0                                     | 0                                     | 0                                     | \n",
       "| 203 | 2004                                  | Northern Ohio Sightings               | USA                                   | 1                                     | 0                                     | 0                                     | 0                                     | \n",
       "\n",
       "\n",
       "\n",
       "\n",
       "\n"
      ],
      "text/plain": [
       "$`2003`\n",
       "    Year                      EventName Location PhysicalEffects Multimedia\n",
       "195 2003   UFO Photographed / Wisconsin      USA               0          1\n",
       "196 2003 UFO Video / Tennessee, Shaffer      USA               0          1\n",
       "197 2003 UFO Incident, Screaming Sounds      USA               1          0\n",
       "198 2003    Ashland, Nebraska UFO Video      USA               0          1\n",
       "    ETContact Abduction\n",
       "195         0         0\n",
       "196         0         0\n",
       "197         0         0\n",
       "198         0         0\n",
       "\n",
       "$`2004`\n",
       "    Year                             EventName Location PhysicalEffects\n",
       "199 2004     Amelia, Ohio Bizarre UFO Incident      USA               1\n",
       "200 2004 Mexican Military Releases UFO Footage   Mexico               1\n",
       "201 2004          Centerville, Ohio UFO Report      USA               1\n",
       "202 2004          Close Encounter in Tennessee      USA               1\n",
       "203 2004               Northern Ohio Sightings      USA               1\n",
       "    Multimedia ETContact Abduction\n",
       "199          0         0         0\n",
       "200          1         0         0\n",
       "201          0         0         0\n",
       "202          0         0         0\n",
       "203          0         0         0\n"
      ]
     },
     "metadata": {},
     "output_type": "display_data"
    }
   ],
   "source": [
    "output <- split(df_ufocase, df_ufocase$Year)\n",
    "\n",
    "class(output)\n",
    "names(output)\n",
    "tail(output, 2)"
   ]
  },
  {
   "cell_type": "markdown",
   "metadata": {},
   "source": [
    "Výsledkem je pak tedy obdobný seznam, ale jeho položkami jsou datové tabulky reprezentující konkrétní podmnožiny té původní. V případě použití funkce `by` by toto vlastně byly jednotlivé argumenty, které vstupují do volané funkce.\n",
    "\n",
    "### `aggregate`\n",
    "\n",
    "Jak již napovídá její název, tato funkce pomáhá uživateli snadno agregovat data a to opět podle úrovní faktorů. Podobně jako u funkce split je prvním argumentem datová tabulka nebo vektor, který je třeba rozdělit do skupin, ve kterých se bude agregovat. Druhý pak definuje dané skupiny a to ve formě seznamu, který nejčastěji dostaneme pouhým převedením faktoru, podle kterého chceme data rozdělit. Posledním argumentem je opět funkce, která se stará o samotnou agregaci hodnot v jednotlivých sloupcích a skupinách. Aplikaci funkce `aggregate` demonstruje následující příklad:"
   ]
  },
  {
   "cell_type": "code",
   "execution_count": 78,
   "metadata": {},
   "outputs": [
    {
     "data": {
      "text/html": [
       "<table>\n",
       "<thead><tr><th scope=col>Group.1</th><th scope=col>ETContact</th><th scope=col>Abduction</th></tr></thead>\n",
       "<tbody>\n",
       "\t<tr><td>Alaska   </td><td>1        </td><td>0        </td></tr>\n",
       "\t<tr><td>Australia</td><td>2        </td><td>2        </td></tr>\n",
       "\t<tr><td>Austria  </td><td>0        </td><td>0        </td></tr>\n",
       "\t<tr><td>Belgium  </td><td>0        </td><td>0        </td></tr>\n",
       "\t<tr><td>Brazil   </td><td>2        </td><td>1        </td></tr>\n",
       "\t<tr><td>Canada   </td><td>2        </td><td>1        </td></tr>\n",
       "</tbody>\n",
       "</table>\n"
      ],
      "text/latex": [
       "\\begin{tabular}{r|lll}\n",
       " Group.1 & ETContact & Abduction\\\\\n",
       "\\hline\n",
       "\t Alaska    & 1         & 0        \\\\\n",
       "\t Australia & 2         & 2        \\\\\n",
       "\t Austria   & 0         & 0        \\\\\n",
       "\t Belgium   & 0         & 0        \\\\\n",
       "\t Brazil    & 2         & 1        \\\\\n",
       "\t Canada    & 2         & 1        \\\\\n",
       "\\end{tabular}\n"
      ],
      "text/markdown": [
       "\n",
       "Group.1 | ETContact | Abduction | \n",
       "|---|---|---|---|---|---|\n",
       "| Alaska    | 1         | 0         | \n",
       "| Australia | 2         | 2         | \n",
       "| Austria   | 0         | 0         | \n",
       "| Belgium   | 0         | 0         | \n",
       "| Brazil    | 2         | 1         | \n",
       "| Canada    | 2         | 1         | \n",
       "\n",
       "\n"
      ],
      "text/plain": [
       "  Group.1   ETContact Abduction\n",
       "1 Alaska    1         0        \n",
       "2 Australia 2         2        \n",
       "3 Austria   0         0        \n",
       "4 Belgium   0         0        \n",
       "5 Brazil    2         1        \n",
       "6 Canada    2         1        "
      ]
     },
     "metadata": {},
     "output_type": "display_data"
    }
   ],
   "source": [
    "sum_true <- function(x) {\n",
    "    sum(x == 1)\n",
    "}\n",
    "\n",
    "output <- aggregate(\n",
    "    df_ufocase[c(\"ETContact\", \"Abduction\")]\n",
    "    , list(df_ufocase$Location) # vždy musí být seznam stejné délky jako počet řádek v datech\n",
    "    , sum_true\n",
    ")\n",
    "\n",
    "head(output)"
   ]
  },
  {
   "cell_type": "markdown",
   "metadata": {},
   "source": [
    "Argumentem funkce `sum_true` je zde tedy vždy vektor, který reprezentuje hodnoty v tabulce pro danou lokaci a z jednoho konkrétního sloupce (\"ETContact\" nebo \"Abduction\"). Ve výstupu jsou pak jednotlivé výsledky agregací uspořádány do tabulky, kde jeden sloupec označuje příslušnost do skupiny a ostatní agregované výsledky pro jednotlivé nezávislé proměnné.\n",
    "\n",
    "Tabulka nahoře vlastně agreguje stejnou informaci, jakou jsme se snažili získat v přechozím příkladu s funkcí `by`, kde jsme počítali procentuální počty přímých kontatků s mimozemšťanem, které skončily v jednotlivých lokacích unesením. Toto bychom mohli snadno spočítat i z naší tabulky:"
   ]
  },
  {
   "cell_type": "code",
   "execution_count": 79,
   "metadata": {},
   "outputs": [
    {
     "data": {
      "text/html": [
       "<dl class=dl-horizontal>\n",
       "\t<dt>Australia</dt>\n",
       "\t\t<dd>100</dd>\n",
       "\t<dt>Wales</dt>\n",
       "\t\t<dd>100</dd>\n",
       "\t<dt>Brazil</dt>\n",
       "\t\t<dd>50</dd>\n",
       "\t<dt>Canada</dt>\n",
       "\t\t<dd>50</dd>\n",
       "\t<dt>USA</dt>\n",
       "\t\t<dd>46.875</dd>\n",
       "\t<dt>U K</dt>\n",
       "\t\t<dd>25</dd>\n",
       "\t<dt>Alaska</dt>\n",
       "\t\t<dd>0</dd>\n",
       "\t<dt>France</dt>\n",
       "\t\t<dd>0</dd>\n",
       "\t<dt>GOM</dt>\n",
       "\t\t<dd>0</dd>\n",
       "\t<dt>Malta</dt>\n",
       "\t\t<dd>0</dd>\n",
       "\t<dt>Mexico</dt>\n",
       "\t\t<dd>0</dd>\n",
       "\t<dt>N Guinea</dt>\n",
       "\t\t<dd>0</dd>\n",
       "\t<dt>P. Rico</dt>\n",
       "\t\t<dd>0</dd>\n",
       "\t<dt>Russia</dt>\n",
       "\t\t<dd>0</dd>\n",
       "\t<dt>S Amer</dt>\n",
       "\t\t<dd>0</dd>\n",
       "\t<dt>Spain</dt>\n",
       "\t\t<dd>0</dd>\n",
       "\t<dt>Switz</dt>\n",
       "\t\t<dd>0</dd>\n",
       "</dl>\n"
      ],
      "text/latex": [
       "\\begin{description*}\n",
       "\\item[Australia] 100\n",
       "\\item[Wales] 100\n",
       "\\item[Brazil] 50\n",
       "\\item[Canada] 50\n",
       "\\item[USA] 46.875\n",
       "\\item[U K] 25\n",
       "\\item[Alaska] 0\n",
       "\\item[France] 0\n",
       "\\item[GOM] 0\n",
       "\\item[Malta] 0\n",
       "\\item[Mexico] 0\n",
       "\\item[N Guinea] 0\n",
       "\\item[P. Rico] 0\n",
       "\\item[Russia] 0\n",
       "\\item[S Amer] 0\n",
       "\\item[Spain] 0\n",
       "\\item[Switz] 0\n",
       "\\end{description*}\n"
      ],
      "text/markdown": [
       "Australia\n",
       ":   100Wales\n",
       ":   100Brazil\n",
       ":   50Canada\n",
       ":   50USA\n",
       ":   46.875U K\n",
       ":   25Alaska\n",
       ":   0France\n",
       ":   0GOM\n",
       ":   0Malta\n",
       ":   0Mexico\n",
       ":   0N Guinea\n",
       ":   0P. Rico\n",
       ":   0Russia\n",
       ":   0S Amer\n",
       ":   0Spain\n",
       ":   0Switz\n",
       ":   0\n",
       "\n"
      ],
      "text/plain": [
       "Australia     Wales    Brazil    Canada       USA       U K    Alaska    France \n",
       "  100.000   100.000    50.000    50.000    46.875    25.000     0.000     0.000 \n",
       "      GOM     Malta    Mexico  N Guinea   P. Rico    Russia    S Amer     Spain \n",
       "    0.000     0.000     0.000     0.000     0.000     0.000     0.000     0.000 \n",
       "    Switz \n",
       "    0.000 "
      ]
     },
     "metadata": {},
     "output_type": "display_data"
    }
   ],
   "source": [
    "percentages <- 100 * (output$Abduction / output$ETContact)\n",
    "names(percentages) <- output$Group.1\n",
    "sort(percentages, decreasing = T)"
   ]
  },
  {
   "cell_type": "markdown",
   "metadata": {},
   "source": [
    "### `cut`\n",
    "\n",
    "Tato funkce se hodí především pokud potřebujete nějakou reálnou proměnnou reprezentovat jako faktor, tj. rozdělit jí do intervalů, které pak budou reprezentovat jednotlivé skupiny. \n",
    "\n",
    "My jsme v našem příkladě převedli jednotlivé roky rovnou na faktory a události tak seskupovali podle jednotlivých let. Bylo by ale též možné jednotlivé události seskupit podle desetiletí vytvořením nového faktoru právě pomocí funkce `cut`:"
   ]
  },
  {
   "cell_type": "code",
   "execution_count": 80,
   "metadata": {},
   "outputs": [
    {
     "data": {
      "text/html": [
       "'factor'"
      ],
      "text/latex": [
       "'factor'"
      ],
      "text/markdown": [
       "'factor'"
      ],
      "text/plain": [
       "[1] \"factor\""
      ]
     },
     "metadata": {},
     "output_type": "display_data"
    },
    {
     "data": {
      "text/html": [
       "<ol class=list-inline>\n",
       "\t<li>'(1.86e+03,1.87e+03]'</li>\n",
       "\t<li>'(1.87e+03,1.88e+03]'</li>\n",
       "\t<li>'(1.88e+03,1.89e+03]'</li>\n",
       "\t<li>'(1.89e+03,1.9e+03]'</li>\n",
       "\t<li>'(1.9e+03,1.91e+03]'</li>\n",
       "\t<li>'(1.91e+03,1.92e+03]'</li>\n",
       "\t<li>'(1.92e+03,1.93e+03]'</li>\n",
       "\t<li>'(1.93e+03,1.94e+03]'</li>\n",
       "\t<li>'(1.94e+03,1.95e+03]'</li>\n",
       "\t<li>'(1.95e+03,1.96e+03]'</li>\n",
       "\t<li>'(1.96e+03,1.97e+03]'</li>\n",
       "\t<li>'(1.97e+03,1.98e+03]'</li>\n",
       "\t<li>'(1.98e+03,1.99e+03]'</li>\n",
       "\t<li>'(1.99e+03,2e+03]'</li>\n",
       "\t<li>'(2e+03,2.01e+03]'</li>\n",
       "</ol>\n"
      ],
      "text/latex": [
       "\\begin{enumerate*}\n",
       "\\item '(1.86e+03,1.87e+03{]}'\n",
       "\\item '(1.87e+03,1.88e+03{]}'\n",
       "\\item '(1.88e+03,1.89e+03{]}'\n",
       "\\item '(1.89e+03,1.9e+03{]}'\n",
       "\\item '(1.9e+03,1.91e+03{]}'\n",
       "\\item '(1.91e+03,1.92e+03{]}'\n",
       "\\item '(1.92e+03,1.93e+03{]}'\n",
       "\\item '(1.93e+03,1.94e+03{]}'\n",
       "\\item '(1.94e+03,1.95e+03{]}'\n",
       "\\item '(1.95e+03,1.96e+03{]}'\n",
       "\\item '(1.96e+03,1.97e+03{]}'\n",
       "\\item '(1.97e+03,1.98e+03{]}'\n",
       "\\item '(1.98e+03,1.99e+03{]}'\n",
       "\\item '(1.99e+03,2e+03{]}'\n",
       "\\item '(2e+03,2.01e+03{]}'\n",
       "\\end{enumerate*}\n"
      ],
      "text/markdown": [
       "1. '(1.86e+03,1.87e+03]'\n",
       "2. '(1.87e+03,1.88e+03]'\n",
       "3. '(1.88e+03,1.89e+03]'\n",
       "4. '(1.89e+03,1.9e+03]'\n",
       "5. '(1.9e+03,1.91e+03]'\n",
       "6. '(1.91e+03,1.92e+03]'\n",
       "7. '(1.92e+03,1.93e+03]'\n",
       "8. '(1.93e+03,1.94e+03]'\n",
       "9. '(1.94e+03,1.95e+03]'\n",
       "10. '(1.95e+03,1.96e+03]'\n",
       "11. '(1.96e+03,1.97e+03]'\n",
       "12. '(1.97e+03,1.98e+03]'\n",
       "13. '(1.98e+03,1.99e+03]'\n",
       "14. '(1.99e+03,2e+03]'\n",
       "15. '(2e+03,2.01e+03]'\n",
       "\n",
       "\n"
      ],
      "text/plain": [
       " [1] \"(1.86e+03,1.87e+03]\" \"(1.87e+03,1.88e+03]\" \"(1.88e+03,1.89e+03]\"\n",
       " [4] \"(1.89e+03,1.9e+03]\"  \"(1.9e+03,1.91e+03]\"  \"(1.91e+03,1.92e+03]\"\n",
       " [7] \"(1.92e+03,1.93e+03]\" \"(1.93e+03,1.94e+03]\" \"(1.94e+03,1.95e+03]\"\n",
       "[10] \"(1.95e+03,1.96e+03]\" \"(1.96e+03,1.97e+03]\" \"(1.97e+03,1.98e+03]\"\n",
       "[13] \"(1.98e+03,1.99e+03]\" \"(1.99e+03,2e+03]\"    \"(2e+03,2.01e+03]\"   "
      ]
     },
     "metadata": {},
     "output_type": "display_data"
    }
   ],
   "source": [
    "desetiletí <- seq(1860, 2010, 10)\n",
    "roky <- as.numeric(as.character(df_ufocase$Year))\n",
    "\n",
    "rozdělení <- cut(roky, desetiletí)\n",
    "\n",
    "class(rozdělení)\n",
    "levels(rozdělení)"
   ]
  },
  {
   "cell_type": "markdown",
   "metadata": {},
   "source": [
    "Zde jsme si tedy nejprve připravili vektor `desetiletí`, který bude představovat jednotlivé hranice intervalů, tedy rozdělení let do epoch. Původní faktor uložený ve sloupci \"Year\" je též třeba explicitně převést na numerický vektor `roky`, jinak nebude funkce `cut` vědět, jak s hodnotami naložit. Toho jsme docílili nejprve převedením původního faktoru zpět na vektor řetězců pomocí funkce `as.character`, který jsme následně převedli na čísla voláním funkce `as.numeric`.\n",
    "\n",
    "Funkci `cut` jsme potom prvním argumentem specifikovali rozdělovaný vektor reálných čísel a druhým parametrem jsme specifikovali hranice intervalů. Jak vidíte, výsledkem je faktor, jehož úrovně jsou zprava uzavřené intervaly, kde pravé hranice korespondují s roky ve vektoru `desetiletí`. Toto však není úplně to, co chceme. Jednotlivé epochy by totiž měly začínat rokem s nulou na konci a končit rokem ukončeným devítkou. To lze ale jednoduše změnit parametrem `right`, kterým funkci `cut` lze říct, zda jsou intervaly uzavřené zprava či zleva:"
   ]
  },
  {
   "cell_type": "code",
   "execution_count": 81,
   "metadata": {},
   "outputs": [
    {
     "data": {
      "text/html": [
       "<ol class=list-inline>\n",
       "\t<li>'[1.86e+03,1.87e+03)'</li>\n",
       "\t<li>'[1.87e+03,1.88e+03)'</li>\n",
       "\t<li>'[1.88e+03,1.89e+03)'</li>\n",
       "\t<li>'[1.89e+03,1.9e+03)'</li>\n",
       "\t<li>'[1.9e+03,1.91e+03)'</li>\n",
       "\t<li>'[1.91e+03,1.92e+03)'</li>\n",
       "\t<li>'[1.92e+03,1.93e+03)'</li>\n",
       "\t<li>'[1.93e+03,1.94e+03)'</li>\n",
       "\t<li>'[1.94e+03,1.95e+03)'</li>\n",
       "\t<li>'[1.95e+03,1.96e+03)'</li>\n",
       "\t<li>'[1.96e+03,1.97e+03)'</li>\n",
       "\t<li>'[1.97e+03,1.98e+03)'</li>\n",
       "\t<li>'[1.98e+03,1.99e+03)'</li>\n",
       "\t<li>'[1.99e+03,2e+03)'</li>\n",
       "\t<li>'[2e+03,2.01e+03)'</li>\n",
       "</ol>\n"
      ],
      "text/latex": [
       "\\begin{enumerate*}\n",
       "\\item '{[}1.86e+03,1.87e+03)'\n",
       "\\item '{[}1.87e+03,1.88e+03)'\n",
       "\\item '{[}1.88e+03,1.89e+03)'\n",
       "\\item '{[}1.89e+03,1.9e+03)'\n",
       "\\item '{[}1.9e+03,1.91e+03)'\n",
       "\\item '{[}1.91e+03,1.92e+03)'\n",
       "\\item '{[}1.92e+03,1.93e+03)'\n",
       "\\item '{[}1.93e+03,1.94e+03)'\n",
       "\\item '{[}1.94e+03,1.95e+03)'\n",
       "\\item '{[}1.95e+03,1.96e+03)'\n",
       "\\item '{[}1.96e+03,1.97e+03)'\n",
       "\\item '{[}1.97e+03,1.98e+03)'\n",
       "\\item '{[}1.98e+03,1.99e+03)'\n",
       "\\item '{[}1.99e+03,2e+03)'\n",
       "\\item '{[}2e+03,2.01e+03)'\n",
       "\\end{enumerate*}\n"
      ],
      "text/markdown": [
       "1. '[1.86e+03,1.87e+03)'\n",
       "2. '[1.87e+03,1.88e+03)'\n",
       "3. '[1.88e+03,1.89e+03)'\n",
       "4. '[1.89e+03,1.9e+03)'\n",
       "5. '[1.9e+03,1.91e+03)'\n",
       "6. '[1.91e+03,1.92e+03)'\n",
       "7. '[1.92e+03,1.93e+03)'\n",
       "8. '[1.93e+03,1.94e+03)'\n",
       "9. '[1.94e+03,1.95e+03)'\n",
       "10. '[1.95e+03,1.96e+03)'\n",
       "11. '[1.96e+03,1.97e+03)'\n",
       "12. '[1.97e+03,1.98e+03)'\n",
       "13. '[1.98e+03,1.99e+03)'\n",
       "14. '[1.99e+03,2e+03)'\n",
       "15. '[2e+03,2.01e+03)'\n",
       "\n",
       "\n"
      ],
      "text/plain": [
       " [1] \"[1.86e+03,1.87e+03)\" \"[1.87e+03,1.88e+03)\" \"[1.88e+03,1.89e+03)\"\n",
       " [4] \"[1.89e+03,1.9e+03)\"  \"[1.9e+03,1.91e+03)\"  \"[1.91e+03,1.92e+03)\"\n",
       " [7] \"[1.92e+03,1.93e+03)\" \"[1.93e+03,1.94e+03)\" \"[1.94e+03,1.95e+03)\"\n",
       "[10] \"[1.95e+03,1.96e+03)\" \"[1.96e+03,1.97e+03)\" \"[1.97e+03,1.98e+03)\"\n",
       "[13] \"[1.98e+03,1.99e+03)\" \"[1.99e+03,2e+03)\"    \"[2e+03,2.01e+03)\"   "
      ]
     },
     "metadata": {},
     "output_type": "display_data"
    }
   ],
   "source": [
    "rozdělení <- cut(roky, desetiletí, right = F)\n",
    "levels(rozdělení)"
   ]
  },
  {
   "cell_type": "markdown",
   "metadata": {},
   "source": [
    "Pokud se podíváme na náš nově vytvořený faktor, zjistíme, že jednolivé intervaly jsou v něm explicitně uvedené:"
   ]
  },
  {
   "cell_type": "code",
   "execution_count": 82,
   "metadata": {},
   "outputs": [
    {
     "name": "stdout",
     "output_type": "stream",
     "text": [
      "[1] [1.86e+03,1.87e+03) [1.87e+03,1.88e+03) [1.89e+03,1.9e+03) \n",
      "[4] [1.93e+03,1.94e+03) [1.93e+03,1.94e+03) [1.93e+03,1.94e+03)\n",
      "15 Levels: [1.86e+03,1.87e+03) [1.87e+03,1.88e+03) ... [2e+03,2.01e+03)\n"
     ]
    }
   ],
   "source": [
    "print(head(rozdělení))"
   ]
  },
  {
   "cell_type": "markdown",
   "metadata": {},
   "source": [
    "To pro nás však ale momentálně nepředstavuje ideální řešení, neboť nám záleží pouze na levé hranici intervalu, tedy na roce ve kterém daná epocha začíná. Naštěstí můžeme funkci `cut` říci, aby nám hodnoty pouze rozdělila a příslušnost do skupiny označila pouze číslem:"
   ]
  },
  {
   "cell_type": "code",
   "execution_count": 83,
   "metadata": {},
   "outputs": [
    {
     "name": "stdout",
     "output_type": "stream",
     "text": [
      "  [1]  1  2  4  8  8  8  9  9  9  9  9  9  9  9  9  9  9  9 10 10 10 10 10 10 10\n",
      " [26] 10 10 10 10 10 10 10 10 10 10 10 10 10 10 10 10 10 10 10 10 10 10 10 10 10\n",
      " [51] 10 10 10 10 10 10 10 10 10 11 11 11 11 11 11 11 11 11 11 11 11 11 11 11 11\n",
      " [76] 11 11 11 11 11 11 11 11 11 11 11 11 11 11 11 11 12 12 12 12 12 12 12 12 12\n",
      "[101] 12 12 12 12 12 12 12 12 12 12 12 12 12 12 12 12 12 12 12 12 12 12 12 12 12\n",
      "[126] 12 12 12 12 12 13 13 13 13 13 13 13 13 13 13 13 13 13 13 13 13 13 13 13 13\n",
      "[151] 13 13 13 13 14 14 14 14 14 14 14 14 14 14 14 14 14 14 14 14 14 14 14 14 14\n",
      "[176] 14 14 14 15 15 15 15 15 15 15 15 15 15 15 15 15 15 15 15 15 15 15 15 15 15\n",
      "[201] 15 15 15\n"
     ]
    }
   ],
   "source": [
    "rozdělení <- cut(roky, desetiletí, right = F, labels = F)\n",
    "print(rozdělení)"
   ]
  },
  {
   "cell_type": "markdown",
   "metadata": {},
   "source": [
    "Tato čísla pak reprezentují pouze indexy jednotlivých hranic intervalů, které jsme specifikovali ve vektoru `desetiletí`. Příslušnost událostí k jednotlivým epochám pak tedy jednoduše zjisíte pouhým použitím této návratové hodnoty jako indexu pro původní vektor `rozdělení`:"
   ]
  },
  {
   "cell_type": "code",
   "execution_count": 84,
   "metadata": {},
   "outputs": [
    {
     "name": "stdout",
     "output_type": "stream",
     "text": [
      "  [1] 1860 1870 1890 1930 1930 1930 1940 1940 1940 1940 1940 1940 1940 1940 1940\n",
      " [16] 1940 1940 1940 1950 1950 1950 1950 1950 1950 1950 1950 1950 1950 1950 1950\n",
      " [31] 1950 1950 1950 1950 1950 1950 1950 1950 1950 1950 1950 1950 1950 1950 1950\n",
      " [46] 1950 1950 1950 1950 1950 1950 1950 1950 1950 1950 1950 1950 1950 1950 1960\n",
      " [61] 1960 1960 1960 1960 1960 1960 1960 1960 1960 1960 1960 1960 1960 1960 1960\n",
      " [76] 1960 1960 1960 1960 1960 1960 1960 1960 1960 1960 1960 1960 1960 1960 1960\n",
      " [91] 1960 1970 1970 1970 1970 1970 1970 1970 1970 1970 1970 1970 1970 1970 1970\n",
      "[106] 1970 1970 1970 1970 1970 1970 1970 1970 1970 1970 1970 1970 1970 1970 1970\n",
      "[121] 1970 1970 1970 1970 1970 1970 1970 1970 1970 1970 1980 1980 1980 1980 1980\n",
      "[136] 1980 1980 1980 1980 1980 1980 1980 1980 1980 1980 1980 1980 1980 1980 1980\n",
      "[151] 1980 1980 1980 1980 1990 1990 1990 1990 1990 1990 1990 1990 1990 1990 1990\n",
      "[166] 1990 1990 1990 1990 1990 1990 1990 1990 1990 1990 1990 1990 1990 2000 2000\n",
      "[181] 2000 2000 2000 2000 2000 2000 2000 2000 2000 2000 2000 2000 2000 2000 2000\n",
      "[196] 2000 2000 2000 2000 2000 2000 2000 2000\n"
     ]
    }
   ],
   "source": [
    "print(desetiletí[rozdělení])"
   ]
  },
  {
   "cell_type": "markdown",
   "metadata": {},
   "source": [
    "Jednotlivé názvy epoch v našem datasetu jako faktor pak můžete jednoduše záskat například následujícím způsobem:"
   ]
  },
  {
   "cell_type": "code",
   "execution_count": 85,
   "metadata": {},
   "outputs": [
    {
     "name": "stdout",
     "output_type": "stream",
     "text": [
      "  [1] 1860s 1870s 1890s 1930s 1930s 1930s 1940s 1940s 1940s 1940s 1940s 1940s\n",
      " [13] 1940s 1940s 1940s 1940s 1940s 1940s 1950s 1950s 1950s 1950s 1950s 1950s\n",
      " [25] 1950s 1950s 1950s 1950s 1950s 1950s 1950s 1950s 1950s 1950s 1950s 1950s\n",
      " [37] 1950s 1950s 1950s 1950s 1950s 1950s 1950s 1950s 1950s 1950s 1950s 1950s\n",
      " [49] 1950s 1950s 1950s 1950s 1950s 1950s 1950s 1950s 1950s 1950s 1950s 1960s\n",
      " [61] 1960s 1960s 1960s 1960s 1960s 1960s 1960s 1960s 1960s 1960s 1960s 1960s\n",
      " [73] 1960s 1960s 1960s 1960s 1960s 1960s 1960s 1960s 1960s 1960s 1960s 1960s\n",
      " [85] 1960s 1960s 1960s 1960s 1960s 1960s 1960s 1970s 1970s 1970s 1970s 1970s\n",
      " [97] 1970s 1970s 1970s 1970s 1970s 1970s 1970s 1970s 1970s 1970s 1970s 1970s\n",
      "[109] 1970s 1970s 1970s 1970s 1970s 1970s 1970s 1970s 1970s 1970s 1970s 1970s\n",
      "[121] 1970s 1970s 1970s 1970s 1970s 1970s 1970s 1970s 1970s 1970s 1980s 1980s\n",
      "[133] 1980s 1980s 1980s 1980s 1980s 1980s 1980s 1980s 1980s 1980s 1980s 1980s\n",
      "[145] 1980s 1980s 1980s 1980s 1980s 1980s 1980s 1980s 1980s 1980s 1990s 1990s\n",
      "[157] 1990s 1990s 1990s 1990s 1990s 1990s 1990s 1990s 1990s 1990s 1990s 1990s\n",
      "[169] 1990s 1990s 1990s 1990s 1990s 1990s 1990s 1990s 1990s 1990s 2000s 2000s\n",
      "[181] 2000s 2000s 2000s 2000s 2000s 2000s 2000s 2000s 2000s 2000s 2000s 2000s\n",
      "[193] 2000s 2000s 2000s 2000s 2000s 2000s 2000s 2000s 2000s 2000s 2000s\n",
      "11 Levels: 1860s 1870s 1890s 1930s 1940s 1950s 1960s 1970s 1980s ... 2000s\n"
     ]
    }
   ],
   "source": [
    "epochy <- as.factor(paste(\n",
    "    desetiletí[rozdělení]\n",
    "    , \"s\"\n",
    "    , sep = \"\"\n",
    "))\n",
    "\n",
    "print(epochy)"
   ]
  },
  {
   "cell_type": "markdown",
   "metadata": {},
   "source": [
    "a uložit jej jako nový sloupec do naší datové tabulky:"
   ]
  },
  {
   "cell_type": "code",
   "execution_count": 86,
   "metadata": {},
   "outputs": [
    {
     "data": {
      "text/html": [
       "<table>\n",
       "<thead><tr><th scope=col>Year</th><th scope=col>EventName</th><th scope=col>Location</th><th scope=col>PhysicalEffects</th><th scope=col>Multimedia</th><th scope=col>ETContact</th><th scope=col>Abduction</th><th scope=col>Epoch</th></tr></thead>\n",
       "<tbody>\n",
       "\t<tr><td>1865                                 </td><td>The Great Airships                   </td><td>USA                                  </td><td>1                                    </td><td>0                                    </td><td>1                                    </td><td>0                                    </td><td>1860s                                </td></tr>\n",
       "\t<tr><td>1878                                 </td><td>Denison, Texas Daylight UFO          </td><td>USA                                  </td><td>0                                    </td><td>0                                    </td><td>0                                    </td><td>0                                    </td><td>1870s                                </td></tr>\n",
       "\t<tr><td>1897                                 </td><td>The Aurora, Texas Crash              </td><td>USA                                  </td><td>1                                    </td><td>0                                    </td><td>1                                    </td><td>0                                    </td><td>1890s                                </td></tr>\n",
       "\t<tr><td>1930                                 </td><td>Alien Picture from Alaska            </td><td>Alaska                               </td><td>0                                    </td><td>1                                    </td><td>1                                    </td><td>0                                    </td><td>1930s                                </td></tr>\n",
       "\t<tr><td>1937                                 </td><td>Discovery of the Dropa Discs         </td><td>China                                </td><td>0                                    </td><td>0                                    </td><td>0                                    </td><td>0                                    </td><td>1930s                                </td></tr>\n",
       "\t<tr><td>1939                                 </td><td>Alien Bodies Confirmed (Cordell Hull)</td><td>USA                                  </td><td>0                                    </td><td>0                                    </td><td>1                                    </td><td>0                                    </td><td>1930s                                </td></tr>\n",
       "\t<tr><td>1941                                                                             </td><td><span style=white-space:pre-wrap>Missouri Crash &amp; Retrieval           </span></td><td><span style=white-space:pre-wrap>USA   </span>                                   </td><td>1                                                                                </td><td>1                                                                                </td><td>1                                                                                </td><td>0                                                                                </td><td>1940s                                                                            </td></tr>\n",
       "\t<tr><td>1942                                 </td><td>The Battle of Los Angeles            </td><td>USA                                  </td><td>1                                    </td><td>1                                    </td><td>0                                    </td><td>0                                    </td><td>1940s                                </td></tr>\n",
       "\t<tr><td>1944                                 </td><td>World War II Foo-Fighters            </td><td>Europe                               </td><td>0                                    </td><td>1                                    </td><td>0                                    </td><td>0                                    </td><td>1940s                                </td></tr>\n",
       "\t<tr><td>1945                                 </td><td>Lt. Gorman Chases a UFO              </td><td>USA                                  </td><td>0                                    </td><td>0                                    </td><td>0                                    </td><td>0                                    </td><td>1940s                                </td></tr>\n",
       "</tbody>\n",
       "</table>\n"
      ],
      "text/latex": [
       "\\begin{tabular}{r|llllllll}\n",
       " Year & EventName & Location & PhysicalEffects & Multimedia & ETContact & Abduction & Epoch\\\\\n",
       "\\hline\n",
       "\t 1865                                  & The Great Airships                    & USA                                   & 1                                     & 0                                     & 1                                     & 0                                     & 1860s                                \\\\\n",
       "\t 1878                                  & Denison, Texas Daylight UFO           & USA                                   & 0                                     & 0                                     & 0                                     & 0                                     & 1870s                                \\\\\n",
       "\t 1897                                  & The Aurora, Texas Crash               & USA                                   & 1                                     & 0                                     & 1                                     & 0                                     & 1890s                                \\\\\n",
       "\t 1930                                  & Alien Picture from Alaska             & Alaska                                & 0                                     & 1                                     & 1                                     & 0                                     & 1930s                                \\\\\n",
       "\t 1937                                  & Discovery of the Dropa Discs          & China                                 & 0                                     & 0                                     & 0                                     & 0                                     & 1930s                                \\\\\n",
       "\t 1939                                  & Alien Bodies Confirmed (Cordell Hull) & USA                                   & 0                                     & 0                                     & 1                                     & 0                                     & 1930s                                \\\\\n",
       "\t 1941                                    & Missouri Crash \\& Retrieval            & USA                                     & 1                                       & 1                                       & 1                                       & 0                                       & 1940s                                  \\\\\n",
       "\t 1942                                  & The Battle of Los Angeles             & USA                                   & 1                                     & 1                                     & 0                                     & 0                                     & 1940s                                \\\\\n",
       "\t 1944                                  & World War II Foo-Fighters             & Europe                                & 0                                     & 1                                     & 0                                     & 0                                     & 1940s                                \\\\\n",
       "\t 1945                                  & Lt. Gorman Chases a UFO               & USA                                   & 0                                     & 0                                     & 0                                     & 0                                     & 1940s                                \\\\\n",
       "\\end{tabular}\n"
      ],
      "text/markdown": [
       "\n",
       "Year | EventName | Location | PhysicalEffects | Multimedia | ETContact | Abduction | Epoch | \n",
       "|---|---|---|---|---|---|---|---|---|---|\n",
       "| 1865                                  | The Great Airships                    | USA                                   | 1                                     | 0                                     | 1                                     | 0                                     | 1860s                                 | \n",
       "| 1878                                  | Denison, Texas Daylight UFO           | USA                                   | 0                                     | 0                                     | 0                                     | 0                                     | 1870s                                 | \n",
       "| 1897                                  | The Aurora, Texas Crash               | USA                                   | 1                                     | 0                                     | 1                                     | 0                                     | 1890s                                 | \n",
       "| 1930                                  | Alien Picture from Alaska             | Alaska                                | 0                                     | 1                                     | 1                                     | 0                                     | 1930s                                 | \n",
       "| 1937                                  | Discovery of the Dropa Discs          | China                                 | 0                                     | 0                                     | 0                                     | 0                                     | 1930s                                 | \n",
       "| 1939                                  | Alien Bodies Confirmed (Cordell Hull) | USA                                   | 0                                     | 0                                     | 1                                     | 0                                     | 1930s                                 | \n",
       "| 1941                                  | Missouri Crash & Retrieval            | USA                                   | 1                                     | 1                                     | 1                                     | 0                                     | 1940s                                 | \n",
       "| 1942                                  | The Battle of Los Angeles             | USA                                   | 1                                     | 1                                     | 0                                     | 0                                     | 1940s                                 | \n",
       "| 1944                                  | World War II Foo-Fighters             | Europe                                | 0                                     | 1                                     | 0                                     | 0                                     | 1940s                                 | \n",
       "| 1945                                  | Lt. Gorman Chases a UFO               | USA                                   | 0                                     | 0                                     | 0                                     | 0                                     | 1940s                                 | \n",
       "\n",
       "\n"
      ],
      "text/plain": [
       "   Year EventName                             Location PhysicalEffects\n",
       "1  1865 The Great Airships                    USA      1              \n",
       "2  1878 Denison, Texas Daylight UFO           USA      0              \n",
       "3  1897 The Aurora, Texas Crash               USA      1              \n",
       "4  1930 Alien Picture from Alaska             Alaska   0              \n",
       "5  1937 Discovery of the Dropa Discs          China    0              \n",
       "6  1939 Alien Bodies Confirmed (Cordell Hull) USA      0              \n",
       "7  1941 Missouri Crash & Retrieval            USA      1              \n",
       "8  1942 The Battle of Los Angeles             USA      1              \n",
       "9  1944 World War II Foo-Fighters             Europe   0              \n",
       "10 1945 Lt. Gorman Chases a UFO               USA      0              \n",
       "   Multimedia ETContact Abduction Epoch\n",
       "1  0          1         0         1860s\n",
       "2  0          0         0         1870s\n",
       "3  0          1         0         1890s\n",
       "4  1          1         0         1930s\n",
       "5  0          0         0         1930s\n",
       "6  0          1         0         1930s\n",
       "7  1          1         0         1940s\n",
       "8  1          0         0         1940s\n",
       "9  1          0         0         1940s\n",
       "10 0          0         0         1940s"
      ]
     },
     "metadata": {},
     "output_type": "display_data"
    }
   ],
   "source": [
    "df_ufocase[\"Epoch\"] <- epochy\n",
    "head(df_ufocase, 10)"
   ]
  },
  {
   "cell_type": "markdown",
   "metadata": {},
   "source": [
    "Jak vidíte, epochy korespondují s jednotlivými roky a byly automaticky přidány jako poslední sloupec naší tabulky. Pro přehlednost si sloupce můžete přeřadit například následujícím způsobem:"
   ]
  },
  {
   "cell_type": "code",
   "execution_count": 87,
   "metadata": {},
   "outputs": [
    {
     "data": {
      "text/html": [
       "<table>\n",
       "<thead><tr><th scope=col>Epoch</th><th scope=col>Year</th><th scope=col>EventName</th><th scope=col>Location</th><th scope=col>PhysicalEffects</th><th scope=col>Multimedia</th><th scope=col>ETContact</th><th scope=col>Abduction</th></tr></thead>\n",
       "<tbody>\n",
       "\t<tr><td>1860s                                </td><td>1865                                 </td><td>The Great Airships                   </td><td>USA                                  </td><td>1                                    </td><td>0                                    </td><td>1                                    </td><td>0                                    </td></tr>\n",
       "\t<tr><td>1870s                                </td><td>1878                                 </td><td>Denison, Texas Daylight UFO          </td><td>USA                                  </td><td>0                                    </td><td>0                                    </td><td>0                                    </td><td>0                                    </td></tr>\n",
       "\t<tr><td>1890s                                </td><td>1897                                 </td><td>The Aurora, Texas Crash              </td><td>USA                                  </td><td>1                                    </td><td>0                                    </td><td>1                                    </td><td>0                                    </td></tr>\n",
       "\t<tr><td>1930s                                </td><td>1930                                 </td><td>Alien Picture from Alaska            </td><td>Alaska                               </td><td>0                                    </td><td>1                                    </td><td>1                                    </td><td>0                                    </td></tr>\n",
       "\t<tr><td>1930s                                </td><td>1937                                 </td><td>Discovery of the Dropa Discs         </td><td>China                                </td><td>0                                    </td><td>0                                    </td><td>0                                    </td><td>0                                    </td></tr>\n",
       "\t<tr><td>1930s                                </td><td>1939                                 </td><td>Alien Bodies Confirmed (Cordell Hull)</td><td>USA                                  </td><td>0                                    </td><td>0                                    </td><td>1                                    </td><td>0                                    </td></tr>\n",
       "\t<tr><td>1940s                                                                            </td><td>1941                                                                             </td><td><span style=white-space:pre-wrap>Missouri Crash &amp; Retrieval           </span></td><td><span style=white-space:pre-wrap>USA   </span>                                   </td><td>1                                                                                </td><td>1                                                                                </td><td>1                                                                                </td><td>0                                                                                </td></tr>\n",
       "\t<tr><td>1940s                                </td><td>1942                                 </td><td>The Battle of Los Angeles            </td><td>USA                                  </td><td>1                                    </td><td>1                                    </td><td>0                                    </td><td>0                                    </td></tr>\n",
       "\t<tr><td>1940s                                </td><td>1944                                 </td><td>World War II Foo-Fighters            </td><td>Europe                               </td><td>0                                    </td><td>1                                    </td><td>0                                    </td><td>0                                    </td></tr>\n",
       "\t<tr><td>1940s                                </td><td>1945                                 </td><td>Lt. Gorman Chases a UFO              </td><td>USA                                  </td><td>0                                    </td><td>0                                    </td><td>0                                    </td><td>0                                    </td></tr>\n",
       "</tbody>\n",
       "</table>\n"
      ],
      "text/latex": [
       "\\begin{tabular}{r|llllllll}\n",
       " Epoch & Year & EventName & Location & PhysicalEffects & Multimedia & ETContact & Abduction\\\\\n",
       "\\hline\n",
       "\t 1860s                                 & 1865                                  & The Great Airships                    & USA                                   & 1                                     & 0                                     & 1                                     & 0                                    \\\\\n",
       "\t 1870s                                 & 1878                                  & Denison, Texas Daylight UFO           & USA                                   & 0                                     & 0                                     & 0                                     & 0                                    \\\\\n",
       "\t 1890s                                 & 1897                                  & The Aurora, Texas Crash               & USA                                   & 1                                     & 0                                     & 1                                     & 0                                    \\\\\n",
       "\t 1930s                                 & 1930                                  & Alien Picture from Alaska             & Alaska                                & 0                                     & 1                                     & 1                                     & 0                                    \\\\\n",
       "\t 1930s                                 & 1937                                  & Discovery of the Dropa Discs          & China                                 & 0                                     & 0                                     & 0                                     & 0                                    \\\\\n",
       "\t 1930s                                 & 1939                                  & Alien Bodies Confirmed (Cordell Hull) & USA                                   & 0                                     & 0                                     & 1                                     & 0                                    \\\\\n",
       "\t 1940s                                   & 1941                                    & Missouri Crash \\& Retrieval            & USA                                     & 1                                       & 1                                       & 1                                       & 0                                      \\\\\n",
       "\t 1940s                                 & 1942                                  & The Battle of Los Angeles             & USA                                   & 1                                     & 1                                     & 0                                     & 0                                    \\\\\n",
       "\t 1940s                                 & 1944                                  & World War II Foo-Fighters             & Europe                                & 0                                     & 1                                     & 0                                     & 0                                    \\\\\n",
       "\t 1940s                                 & 1945                                  & Lt. Gorman Chases a UFO               & USA                                   & 0                                     & 0                                     & 0                                     & 0                                    \\\\\n",
       "\\end{tabular}\n"
      ],
      "text/markdown": [
       "\n",
       "Epoch | Year | EventName | Location | PhysicalEffects | Multimedia | ETContact | Abduction | \n",
       "|---|---|---|---|---|---|---|---|---|---|\n",
       "| 1860s                                 | 1865                                  | The Great Airships                    | USA                                   | 1                                     | 0                                     | 1                                     | 0                                     | \n",
       "| 1870s                                 | 1878                                  | Denison, Texas Daylight UFO           | USA                                   | 0                                     | 0                                     | 0                                     | 0                                     | \n",
       "| 1890s                                 | 1897                                  | The Aurora, Texas Crash               | USA                                   | 1                                     | 0                                     | 1                                     | 0                                     | \n",
       "| 1930s                                 | 1930                                  | Alien Picture from Alaska             | Alaska                                | 0                                     | 1                                     | 1                                     | 0                                     | \n",
       "| 1930s                                 | 1937                                  | Discovery of the Dropa Discs          | China                                 | 0                                     | 0                                     | 0                                     | 0                                     | \n",
       "| 1930s                                 | 1939                                  | Alien Bodies Confirmed (Cordell Hull) | USA                                   | 0                                     | 0                                     | 1                                     | 0                                     | \n",
       "| 1940s                                 | 1941                                  | Missouri Crash & Retrieval            | USA                                   | 1                                     | 1                                     | 1                                     | 0                                     | \n",
       "| 1940s                                 | 1942                                  | The Battle of Los Angeles             | USA                                   | 1                                     | 1                                     | 0                                     | 0                                     | \n",
       "| 1940s                                 | 1944                                  | World War II Foo-Fighters             | Europe                                | 0                                     | 1                                     | 0                                     | 0                                     | \n",
       "| 1940s                                 | 1945                                  | Lt. Gorman Chases a UFO               | USA                                   | 0                                     | 0                                     | 0                                     | 0                                     | \n",
       "\n",
       "\n"
      ],
      "text/plain": [
       "   Epoch Year EventName                             Location PhysicalEffects\n",
       "1  1860s 1865 The Great Airships                    USA      1              \n",
       "2  1870s 1878 Denison, Texas Daylight UFO           USA      0              \n",
       "3  1890s 1897 The Aurora, Texas Crash               USA      1              \n",
       "4  1930s 1930 Alien Picture from Alaska             Alaska   0              \n",
       "5  1930s 1937 Discovery of the Dropa Discs          China    0              \n",
       "6  1930s 1939 Alien Bodies Confirmed (Cordell Hull) USA      0              \n",
       "7  1940s 1941 Missouri Crash & Retrieval            USA      1              \n",
       "8  1940s 1942 The Battle of Los Angeles             USA      1              \n",
       "9  1940s 1944 World War II Foo-Fighters             Europe   0              \n",
       "10 1940s 1945 Lt. Gorman Chases a UFO               USA      0              \n",
       "   Multimedia ETContact Abduction\n",
       "1  0          1         0        \n",
       "2  0          0         0        \n",
       "3  0          1         0        \n",
       "4  1          1         0        \n",
       "5  0          0         0        \n",
       "6  0          1         0        \n",
       "7  1          1         0        \n",
       "8  1          0         0        \n",
       "9  1          0         0        \n",
       "10 0          0         0        "
      ]
     },
     "metadata": {},
     "output_type": "display_data"
    }
   ],
   "source": [
    "df_ufocase <- df_ufocase[\n",
    "    c(\n",
    "        \"Epoch\"\n",
    "        , \"Year\"\n",
    "        , colnames(df_ufocase)[!(colnames(df_ufocase) %in% c(\"Epoch\", \"Year\"))]\n",
    "    )\n",
    "]\n",
    "\n",
    "head(df_ufocase, 10)"
   ]
  },
  {
   "cell_type": "markdown",
   "metadata": {},
   "source": [
    "Vizualizaci počtu událostí v jednotlivých epochách bychom pak mohli dostat například opět pomocí funkce `lapply`:"
   ]
  },
  {
   "cell_type": "code",
   "execution_count": 88,
   "metadata": {},
   "outputs": [
    {
     "data": {
      "image/png": "[encoded data removed]",
      "text/plain": [
       "plot without title"
      ]
     },
     "metadata": {},
     "output_type": "display_data"
    }
   ],
   "source": [
    "summaries <- lapply(df_ufocase, table)\n",
    "options(repr.plot.width = 2.5, repr.plot.height = 5)\n",
    "par(mar = c(4, 4, 1, 1))\n",
    "barplot(\n",
    "    rev(summaries$Epoch)\n",
    "    , horiz = T\n",
    "    , las = 2\n",
    ")"
   ]
  },
  {
   "cell_type": "markdown",
   "metadata": {},
   "source": [
    "## Funkce `Map`, `Reduce` a `Filter`\n",
    "\n",
    "Jak již bylo řečeno několikrát dříve, R je funkcionální jazyk, a proto není překvapením, že i v R se nachází tyto tři funkce, které tvoří základní pilíř funkcionálně orientovaných jazyků. V této sekci si je v rychlosti představíme a ukážeme se k čemu by nám mohli být dobré. Všechny tyto funkce operují pouze nad vektory a lineárními strukturami a jejich výsledkem je vždy seznam nebo skalární hodnota (v případě funkce `Reduce`). Tvoří v R tedy opravdový základ, ale pokud potřebujete udělat něco jednoduchého a nechcete k tomu používat cykly, pak pro vás mohou být velice užitečné.\n",
    "\n",
    "### `Map`\n",
    "\n",
    "Funkce map je vlastně jednorozměrnou verzí funkce `apply`. Její volání je též velice podobné. Jenom zde chybí rozměr podle kterého se funkce bude aplikovat (takový zde nemá smysl) a pořadí jejích argumentů je otočené, neprve se tedy specifikuje funkce a až potom struktura, na jejíž prvky bychom rádi naší funkci aplikovali:"
   ]
  },
  {
   "cell_type": "code",
   "execution_count": 89,
   "metadata": {},
   "outputs": [
    {
     "data": {
      "text/html": [
       "<ol>\n",
       "\t<li>2</li>\n",
       "\t<li>4</li>\n",
       "\t<li>8</li>\n",
       "\t<li>16</li>\n",
       "\t<li>32</li>\n",
       "\t<li>64</li>\n",
       "\t<li>128</li>\n",
       "\t<li>256</li>\n",
       "\t<li>512</li>\n",
       "\t<li>1024</li>\n",
       "</ol>\n"
      ],
      "text/latex": [
       "\\begin{enumerate}\n",
       "\\item 2\n",
       "\\item 4\n",
       "\\item 8\n",
       "\\item 16\n",
       "\\item 32\n",
       "\\item 64\n",
       "\\item 128\n",
       "\\item 256\n",
       "\\item 512\n",
       "\\item 1024\n",
       "\\end{enumerate}\n"
      ],
      "text/markdown": [
       "1. 2\n",
       "2. 4\n",
       "3. 8\n",
       "4. 16\n",
       "5. 32\n",
       "6. 64\n",
       "7. 128\n",
       "8. 256\n",
       "9. 512\n",
       "10. 1024\n",
       "\n",
       "\n"
      ],
      "text/plain": [
       "[[1]]\n",
       "[1] 2\n",
       "\n",
       "[[2]]\n",
       "[1] 4\n",
       "\n",
       "[[3]]\n",
       "[1] 8\n",
       "\n",
       "[[4]]\n",
       "[1] 16\n",
       "\n",
       "[[5]]\n",
       "[1] 32\n",
       "\n",
       "[[6]]\n",
       "[1] 64\n",
       "\n",
       "[[7]]\n",
       "[1] 128\n",
       "\n",
       "[[8]]\n",
       "[1] 256\n",
       "\n",
       "[[9]]\n",
       "[1] 512\n",
       "\n",
       "[[10]]\n",
       "[1] 1024\n"
      ]
     },
     "metadata": {},
     "output_type": "display_data"
    }
   ],
   "source": [
    "Map(function (x) 2^x, 1:10)"
   ]
  },
  {
   "cell_type": "markdown",
   "metadata": {},
   "source": [
    "Funkci lze též aplikovat na matici nebo pole, ale bude se k němu přistupovat bez ohledu na rozměry:"
   ]
  },
  {
   "cell_type": "code",
   "execution_count": 90,
   "metadata": {},
   "outputs": [
    {
     "data": {
      "text/html": [
       "'list'"
      ],
      "text/latex": [
       "'list'"
      ],
      "text/markdown": [
       "'list'"
      ],
      "text/plain": [
       "[1] \"list\""
      ]
     },
     "metadata": {},
     "output_type": "display_data"
    },
    {
     "data": {
      "text/html": [
       "<dl>\n",
       "\t<dt>$`1865`</dt>\n",
       "\t\t<dd>'_ 1865 _'</dd>\n",
       "\t<dt>$`1878`</dt>\n",
       "\t\t<dd>'_ 1878 _'</dd>\n",
       "\t<dt>$`1897`</dt>\n",
       "\t\t<dd>'_ 1897 _'</dd>\n",
       "\t<dt>$`1930`</dt>\n",
       "\t\t<dd>'_ 1930 _'</dd>\n",
       "\t<dt>$`1937`</dt>\n",
       "\t\t<dd>'_ 1937 _'</dd>\n",
       "\t<dt>$`1939`</dt>\n",
       "\t\t<dd>'_ 1939 _'</dd>\n",
       "</dl>\n"
      ],
      "text/latex": [
       "\\begin{description}\n",
       "\\item[\\$`1865`] '\\_ 1865 \\_'\n",
       "\\item[\\$`1878`] '\\_ 1878 \\_'\n",
       "\\item[\\$`1897`] '\\_ 1897 \\_'\n",
       "\\item[\\$`1930`] '\\_ 1930 \\_'\n",
       "\\item[\\$`1937`] '\\_ 1937 \\_'\n",
       "\\item[\\$`1939`] '\\_ 1939 \\_'\n",
       "\\end{description}\n"
      ],
      "text/markdown": [
       "$`1865`\n",
       ":   '_ 1865 _'\n",
       "$`1878`\n",
       ":   '_ 1878 _'\n",
       "$`1897`\n",
       ":   '_ 1897 _'\n",
       "$`1930`\n",
       ":   '_ 1930 _'\n",
       "$`1937`\n",
       ":   '_ 1937 _'\n",
       "$`1939`\n",
       ":   '_ 1939 _'\n",
       "\n",
       "\n"
      ],
      "text/plain": [
       "$`1865`\n",
       "[1] \"_ 1865 _\"\n",
       "\n",
       "$`1878`\n",
       "[1] \"_ 1878 _\"\n",
       "\n",
       "$`1897`\n",
       "[1] \"_ 1897 _\"\n",
       "\n",
       "$`1930`\n",
       "[1] \"_ 1930 _\"\n",
       "\n",
       "$`1937`\n",
       "[1] \"_ 1937 _\"\n",
       "\n",
       "$`1939`\n",
       "[1] \"_ 1939 _\"\n"
      ]
     },
     "metadata": {},
     "output_type": "display_data"
    }
   ],
   "source": [
    "output <- Map(function (x) paste(\"_\",x, \"_\"), m_ufocase)\n",
    "class(output)\n",
    "head(output)"
   ]
  },
  {
   "cell_type": "markdown",
   "metadata": {},
   "source": [
    "Výsledkem je tedy seznam, který má podle druhu vstupu výsledky pojmenované nebo ne. Funkce `map` tedy pouze mapuje vstupní lineární strukturu (nebo její linární reprezentaci) na jinou, resp. seznam.\n",
    "\n",
    "### Reduce\n",
    "\n",
    "Funkce `Reduce` se od těch, které jsme si zatím ukázali, liší tím, že má dva argumenty. Tato funkce totiž rekurzivně prochází vektorem (nebo jinou lineární strukturou) a postupně \"redukuje\" jeho prvky. Celý proces ilusturje následující příklad:"
   ]
  },
  {
   "cell_type": "code",
   "execution_count": 91,
   "metadata": {},
   "outputs": [
    {
     "name": "stdout",
     "output_type": "stream",
     "text": [
      "[1] 1\n",
      "[1] 2\n",
      "[1] \"-\"\n",
      "[1] 3\n",
      "[1] 3\n",
      "[1] \"-\"\n",
      "[1] 6\n",
      "[1] 4\n",
      "[1] \"-\"\n",
      "[1] 10\n",
      "[1] 5\n",
      "[1] \"-\"\n"
     ]
    },
    {
     "data": {
      "text/html": [
       "15"
      ],
      "text/latex": [
       "15"
      ],
      "text/markdown": [
       "15"
      ],
      "text/plain": [
       "[1] 15"
      ]
     },
     "metadata": {},
     "output_type": "display_data"
    }
   ],
   "source": [
    "sum_stuff <- function(a, b) {\n",
    "    print(a)\n",
    "    print(b)\n",
    "    print(\"-\")\n",
    "    \n",
    "    a + b\n",
    "}\n",
    "\n",
    "Reduce(sum_stuff, 1:5)"
   ]
  },
  {
   "cell_type": "code",
   "execution_count": 92,
   "metadata": {},
   "outputs": [
    {
     "data": {
      "text/html": [
       "15"
      ],
      "text/latex": [
       "15"
      ],
      "text/markdown": [
       "15"
      ],
      "text/plain": [
       "[1] 15"
      ]
     },
     "metadata": {},
     "output_type": "display_data"
    }
   ],
   "source": [
    "sum(1:5)"
   ]
  },
  {
   "cell_type": "markdown",
   "metadata": {},
   "source": [
    "V první fázi se tedy funkce aplikuje na první dva prvky vektoru a výsledkem je součet 1 + 2 = 3. Tento součet se pak stane prvním prvkem nového vektoru, který má o jedem prvek méně. Výsledek funkce tedy vlastně zastupuje dva \"zredukované\" prvky. Tento nový vektor se pak dále zpracovává podle stejného klíče, dokud nedojde k situaci, kde je ve vektoru pouze jedna hodnota, která reprezentuje konečný výsledek. Ve druhém kroku do funkce `sum_stuff` tedy již vstupuje číslo 3 a 3, ve třetím 6 a 4 a tak dále.\n",
    "\n",
    "Jedoduchou funkci `Reduce` bychom si ostatně mohli napsat i sami. Není to vůbec těžké:"
   ]
  },
  {
   "cell_type": "code",
   "execution_count": 93,
   "metadata": {},
   "outputs": [
    {
     "name": "stdout",
     "output_type": "stream",
     "text": [
      "[1] 1\n",
      "[1] 2\n",
      "[1] \"-\"\n",
      "[1] 3\n",
      "[1] 3\n",
      "[1] \"-\"\n",
      "[1] 6\n",
      "[1] 4\n",
      "[1] \"-\"\n",
      "[1] 10\n",
      "[1] 5\n",
      "[1] \"-\"\n"
     ]
    },
    {
     "data": {
      "text/html": [
       "15"
      ],
      "text/latex": [
       "15"
      ],
      "text/markdown": [
       "15"
      ],
      "text/plain": [
       "[1] 15"
      ]
     },
     "metadata": {},
     "output_type": "display_data"
    }
   ],
   "source": [
    "my_reduce <- function(func, vc) {\n",
    "    res <- func(vc[1], vc[2])\n",
    "    new_vc <- vc[-1]\n",
    "    if (length(new_vc) > 1) {\n",
    "        new_vc[1] <- res\n",
    "        return(my_reduce(func, new_vc))\n",
    "    } else {\n",
    "        return(res)\n",
    "    }\n",
    "}\n",
    "\n",
    "my_reduce(sum_stuff, 1:5)"
   ]
  },
  {
   "cell_type": "markdown",
   "metadata": {},
   "source": [
    "Pokud bychom nevěděli o existenci funkce `sum`, mohli bychom u našich dat funkci `Reduce` třeba použít pro výpočet celkového procentuálního počtu případů, kdy došlo k unesení mimozemšťanem:"
   ]
  },
  {
   "cell_type": "code",
   "execution_count": 94,
   "metadata": {},
   "outputs": [
    {
     "data": {
      "text/html": [
       "10.3448275862069"
      ],
      "text/latex": [
       "10.3448275862069"
      ],
      "text/markdown": [
       "10.3448275862069"
      ],
      "text/plain": [
       "[1] 10.34483"
      ]
     },
     "metadata": {},
     "output_type": "display_data"
    }
   ],
   "source": [
    "100 * Reduce(\n",
    "    function(x, y) x + y\n",
    "    , df_ufocase$Abduction == 1\n",
    ") / length(df_ufocase$Abduction)"
   ]
  },
  {
   "cell_type": "markdown",
   "metadata": {},
   "source": [
    "### Filter\n",
    "\n",
    "Funkce `Filter` je velice jednoduchá ale někdy se vám může hodit, pokud potřebujete třídit data podle složitějších podmínek. Funkce, která se na jednotlivé prvky seznamu (nebo jiné struktury) volá by v tomto případě totiž měla vracet pravdivostní hodnotu, která indikuje, zda prvek ve výsledku uvést či nikoliv. Opět to ilustruje následující příklad:"
   ]
  },
  {
   "cell_type": "code",
   "execution_count": 95,
   "metadata": {},
   "outputs": [
    {
     "name": "stdout",
     "output_type": "stream",
     "text": [
      "[1] 1\n",
      "[1] 2\n",
      "[1] 3\n",
      "[1] 4\n",
      "[1] 5\n",
      "[1] 6\n",
      "[1] 7\n",
      "[1] 8\n",
      "[1] 9\n",
      "[1] 10\n"
     ]
    },
    {
     "data": {
      "text/html": [
       "<ol class=list-inline>\n",
       "\t<li>2</li>\n",
       "\t<li>4</li>\n",
       "\t<li>10</li>\n",
       "</ol>\n"
      ],
      "text/latex": [
       "\\begin{enumerate*}\n",
       "\\item 2\n",
       "\\item 4\n",
       "\\item 10\n",
       "\\end{enumerate*}\n"
      ],
      "text/markdown": [
       "1. 2\n",
       "2. 4\n",
       "3. 10\n",
       "\n",
       "\n"
      ],
      "text/plain": [
       "[1]  2  4 10"
      ]
     },
     "metadata": {},
     "output_type": "display_data"
    }
   ],
   "source": [
    "nálada <- \"nic moc\"\n",
    "my_weird_condition <- function(x) {\n",
    "    print(x)\n",
    "    if (nálada == \"dobrá\") {\n",
    "        return(T)\n",
    "    }\n",
    "    \n",
    "    if (x%%2!=0) {\n",
    "        return(F)\n",
    "    } else if (x > 5 && x < 10) {\n",
    "        return(F)\n",
    "    } else {\n",
    "        return(T)\n",
    "    }\n",
    "}\n",
    "\n",
    "Filter(my_weird_condition, 1:10)"
   ]
  },
  {
   "cell_type": "markdown",
   "metadata": {},
   "source": [
    "Jelikož `nálada` je \"nic moc\" tak nám ve vektoru zbyla pouze sudá čísla mimo 6 a 8, které nesplňují druhou podmínku v posledním výrazu funkce `my_weird_condition`.\n",
    "\n",
    "V případě našich dat bychom takto mohli například rychle získat události, které ve svém popisku obsahují klíčové slovo, například \"lake\":"
   ]
  },
  {
   "cell_type": "code",
   "execution_count": 96,
   "metadata": {},
   "outputs": [
    {
     "data": {
      "text/html": [
       "<ol class=list-inline>\n",
       "\t<li>'Falcon Lake (Michalak) Encounter'</li>\n",
       "\t<li>'UFO Encounter at Ontario Lake'</li>\n",
       "\t<li>'UFO Crash in Swedish Lake'</li>\n",
       "\t<li>'UFO Photographed / Stinson Lake'</li>\n",
       "</ol>\n"
      ],
      "text/latex": [
       "\\begin{enumerate*}\n",
       "\\item 'Falcon Lake (Michalak) Encounter'\n",
       "\\item 'UFO Encounter at Ontario Lake'\n",
       "\\item 'UFO Crash in Swedish Lake'\n",
       "\\item 'UFO Photographed / Stinson Lake'\n",
       "\\end{enumerate*}\n"
      ],
      "text/markdown": [
       "1. 'Falcon Lake (Michalak) Encounter'\n",
       "2. 'UFO Encounter at Ontario Lake'\n",
       "3. 'UFO Crash in Swedish Lake'\n",
       "4. 'UFO Photographed / Stinson Lake'\n",
       "\n",
       "\n"
      ],
      "text/plain": [
       "[1] \"Falcon Lake (Michalak) Encounter\" \"UFO Encounter at Ontario Lake\"   \n",
       "[3] \"UFO Crash in Swedish Lake\"        \"UFO Photographed / Stinson Lake\" "
      ]
     },
     "metadata": {},
     "output_type": "display_data"
    }
   ],
   "source": [
    "keyword <- \"lake\"\n",
    "find_word <- function(x) {\n",
    "    words <- unlist(strsplit(tolower(x), \" \"))\n",
    "    if (keyword %in% words) {\n",
    "        return(T)\n",
    "    } else {\n",
    "        return(F)\n",
    "    }\n",
    "}\n",
    "\n",
    "Filter(find_word, df_ufocase$EventName)"
   ]
  },
  {
   "cell_type": "markdown",
   "metadata": {},
   "source": [
    "Jak jste si asi všimli, tyto jednoduché funkce bohužel neumožňují aplikovaným funkcím předávat jiné argumenty, než ty, které vyplývají z principu jejich použití. Ve většině případů tedy stejně sáhnete po nějaké z funkcí z rodiny \"apply\" nebo podobné."
   ]
  },
  {
   "cell_type": "code",
   "execution_count": null,
   "metadata": {
    "collapsed": true
   },
   "outputs": [],
   "source": []
  }
 ],
 "metadata": {
  "kernelspec": {
   "display_name": "R",
   "language": "R",
   "name": "ir"
  },
  "language_info": {
   "codemirror_mode": "r",
   "file_extension": ".r",
   "mimetype": "text/x-r-source",
   "name": "R",
   "pygments_lexer": "r",
   "version": "3.3.2"
  },
  "toc": {
   "nav_menu": {},
   "number_sections": true,
   "sideBar": true,
   "skip_h1_title": true,
   "toc_cell": true,
   "toc_position": {},
   "toc_section_display": "block",
   "toc_window_display": false
  }
 },
 "nbformat": 4,
 "nbformat_minor": 2
}
