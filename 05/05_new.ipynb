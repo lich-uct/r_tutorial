{
 "cells": [
  {
   "cell_type": "markdown",
   "metadata": {
    "toc": true
   },
   "source": [
    "<h1>Table of Contents<span class=\"tocSkip\"></span></h1>\n",
    "<div class=\"toc\"><ul class=\"toc-item\"><li><span><a href=\"#Affairs\" data-toc-modified-id=\"Affairs-1\"><span class=\"toc-item-num\">1&nbsp;&nbsp;</span>Affairs</a></span></li></ul></div>"
   ]
  },
  {
   "cell_type": "markdown",
   "metadata": {},
   "source": [
    "## Affairs\n",
    "\n",
    "https://fairmodel.econ.yale.edu/rayfair/pdf/1978a200.pdf\n",
    "\n",
    "https://vincentarelbundock.github.io/Rdatasets/doc/COUNT/affairs.html\n",
    "\n",
    "Usage\n",
    "\n",
    "data(affairs)\n",
    "\n",
    "Format\n",
    "\n",
    "A data frame with 601 observations on the following 18 variables.\n",
    "\n",
    "naffairs\n",
    "\n",
    "    number of affairs within last year\n",
    "kids\n",
    "\n",
    "    1=have children;0= no children\n",
    "vryunhap\n",
    "\n",
    "    (1/0) very unhappily married\n",
    "unhap\n",
    "\n",
    "    (1/0) unhappily married\n",
    "avgmarr\n",
    "\n",
    "    (1/0) average married\n",
    "hapavg\n",
    "\n",
    "    (1/0) happily married\n",
    "vryhap\n",
    "\n",
    "    (1/0) very happily married\n",
    "antirel\n",
    "\n",
    "    (1/0) anti religious\n",
    "notrel\n",
    "\n",
    "    (1/0) not religious\n",
    "slghtrel\n",
    "\n",
    "    (1/0) slightly religious\n",
    "smerel\n",
    "\n",
    "    (1/0) somewhat religious\n",
    "vryrel\n",
    "\n",
    "    (1/0) very religious\n",
    "yrsmarr1\n",
    "\n",
    "    (1/0) >0.75 yrs\n",
    "yrsmarr2\n",
    "\n",
    "    (1/0) >1.5 yrs\n",
    "yrsmarr3\n",
    "\n",
    "    (1/0) >4.0 yrs\n",
    "yrsmarr4\n",
    "\n",
    "    (1/0) >7.0 yrs\n",
    "yrsmarr5\n",
    "\n",
    "    (1/0) >10.0 yrs\n",
    "yrsmarr6\n",
    "\n",
    "    (1/0) >15.0 yrs"
   ]
  },
  {
   "cell_type": "code",
   "execution_count": 1,
   "metadata": {},
   "outputs": [
    {
     "data": {
      "text/html": [
       "<table>\n",
       "<thead><tr><th scope=col>X</th><th scope=col>naffairs</th><th scope=col>kids</th><th scope=col>vryunhap</th><th scope=col>unhap</th><th scope=col>avgmarr</th><th scope=col>hapavg</th><th scope=col>vryhap</th><th scope=col>antirel</th><th scope=col>notrel</th><th scope=col>slghtrel</th><th scope=col>smerel</th><th scope=col>vryrel</th><th scope=col>yrsmarr1</th><th scope=col>yrsmarr2</th><th scope=col>yrsmarr3</th><th scope=col>yrsmarr4</th><th scope=col>yrsmarr5</th><th scope=col>yrsmarr6</th></tr></thead>\n",
       "<tbody>\n",
       "\t<tr><td>1</td><td>0</td><td>0</td><td>0</td><td>0</td><td>0</td><td>1</td><td>0</td><td>0</td><td>0</td><td>1</td><td>0</td><td>0</td><td>0</td><td>0</td><td>0</td><td>0</td><td>1</td><td>0</td></tr>\n",
       "\t<tr><td>2</td><td>0</td><td>0</td><td>0</td><td>0</td><td>0</td><td>1</td><td>0</td><td>0</td><td>0</td><td>0</td><td>1</td><td>0</td><td>0</td><td>0</td><td>1</td><td>0</td><td>0</td><td>0</td></tr>\n",
       "\t<tr><td>3</td><td>3</td><td>0</td><td>0</td><td>0</td><td>0</td><td>1</td><td>0</td><td>0</td><td>0</td><td>1</td><td>0</td><td>0</td><td>0</td><td>1</td><td>0</td><td>0</td><td>0</td><td>0</td></tr>\n",
       "\t<tr><td>4</td><td>0</td><td>1</td><td>0</td><td>0</td><td>0</td><td>1</td><td>0</td><td>1</td><td>0</td><td>0</td><td>0</td><td>0</td><td>0</td><td>0</td><td>0</td><td>0</td><td>0</td><td>1</td></tr>\n",
       "\t<tr><td>5</td><td>3</td><td>1</td><td>0</td><td>0</td><td>0</td><td>0</td><td>1</td><td>0</td><td>0</td><td>1</td><td>0</td><td>0</td><td>0</td><td>0</td><td>1</td><td>0</td><td>0</td><td>0</td></tr>\n",
       "\t<tr><td>6</td><td>0</td><td>1</td><td>0</td><td>0</td><td>0</td><td>0</td><td>1</td><td>0</td><td>0</td><td>0</td><td>0</td><td>1</td><td>0</td><td>0</td><td>0</td><td>0</td><td>0</td><td>1</td></tr>\n",
       "</tbody>\n",
       "</table>\n"
      ],
      "text/latex": [
       "\\begin{tabular}{r|lllllllllllllllllll}\n",
       " X & naffairs & kids & vryunhap & unhap & avgmarr & hapavg & vryhap & antirel & notrel & slghtrel & smerel & vryrel & yrsmarr1 & yrsmarr2 & yrsmarr3 & yrsmarr4 & yrsmarr5 & yrsmarr6\\\\\n",
       "\\hline\n",
       "\t 1 & 0 & 0 & 0 & 0 & 0 & 1 & 0 & 0 & 0 & 1 & 0 & 0 & 0 & 0 & 0 & 0 & 1 & 0\\\\\n",
       "\t 2 & 0 & 0 & 0 & 0 & 0 & 1 & 0 & 0 & 0 & 0 & 1 & 0 & 0 & 0 & 1 & 0 & 0 & 0\\\\\n",
       "\t 3 & 3 & 0 & 0 & 0 & 0 & 1 & 0 & 0 & 0 & 1 & 0 & 0 & 0 & 1 & 0 & 0 & 0 & 0\\\\\n",
       "\t 4 & 0 & 1 & 0 & 0 & 0 & 1 & 0 & 1 & 0 & 0 & 0 & 0 & 0 & 0 & 0 & 0 & 0 & 1\\\\\n",
       "\t 5 & 3 & 1 & 0 & 0 & 0 & 0 & 1 & 0 & 0 & 1 & 0 & 0 & 0 & 0 & 1 & 0 & 0 & 0\\\\\n",
       "\t 6 & 0 & 1 & 0 & 0 & 0 & 0 & 1 & 0 & 0 & 0 & 0 & 1 & 0 & 0 & 0 & 0 & 0 & 1\\\\\n",
       "\\end{tabular}\n"
      ],
      "text/markdown": [
       "\n",
       "X | naffairs | kids | vryunhap | unhap | avgmarr | hapavg | vryhap | antirel | notrel | slghtrel | smerel | vryrel | yrsmarr1 | yrsmarr2 | yrsmarr3 | yrsmarr4 | yrsmarr5 | yrsmarr6 | \n",
       "|---|---|---|---|---|---|\n",
       "| 1 | 0 | 0 | 0 | 0 | 0 | 1 | 0 | 0 | 0 | 1 | 0 | 0 | 0 | 0 | 0 | 0 | 1 | 0 | \n",
       "| 2 | 0 | 0 | 0 | 0 | 0 | 1 | 0 | 0 | 0 | 0 | 1 | 0 | 0 | 0 | 1 | 0 | 0 | 0 | \n",
       "| 3 | 3 | 0 | 0 | 0 | 0 | 1 | 0 | 0 | 0 | 1 | 0 | 0 | 0 | 1 | 0 | 0 | 0 | 0 | \n",
       "| 4 | 0 | 1 | 0 | 0 | 0 | 1 | 0 | 1 | 0 | 0 | 0 | 0 | 0 | 0 | 0 | 0 | 0 | 1 | \n",
       "| 5 | 3 | 1 | 0 | 0 | 0 | 0 | 1 | 0 | 0 | 1 | 0 | 0 | 0 | 0 | 1 | 0 | 0 | 0 | \n",
       "| 6 | 0 | 1 | 0 | 0 | 0 | 0 | 1 | 0 | 0 | 0 | 0 | 1 | 0 | 0 | 0 | 0 | 0 | 1 | \n",
       "\n",
       "\n"
      ],
      "text/plain": [
       "  X naffairs kids vryunhap unhap avgmarr hapavg vryhap antirel notrel slghtrel\n",
       "1 1 0        0    0        0     0       1      0      0       0      1       \n",
       "2 2 0        0    0        0     0       1      0      0       0      0       \n",
       "3 3 3        0    0        0     0       1      0      0       0      1       \n",
       "4 4 0        1    0        0     0       1      0      1       0      0       \n",
       "5 5 3        1    0        0     0       0      1      0       0      1       \n",
       "6 6 0        1    0        0     0       0      1      0       0      0       \n",
       "  smerel vryrel yrsmarr1 yrsmarr2 yrsmarr3 yrsmarr4 yrsmarr5 yrsmarr6\n",
       "1 0      0      0        0        0        0        1        0       \n",
       "2 1      0      0        0        1        0        0        0       \n",
       "3 0      0      0        1        0        0        0        0       \n",
       "4 0      0      0        0        0        0        0        1       \n",
       "5 0      0      0        0        1        0        0        0       \n",
       "6 0      1      0        0        0        0        0        1       "
      ]
     },
     "metadata": {},
     "output_type": "display_data"
    }
   ],
   "source": [
    "affairs_df <- read.table(\"affairs.csv\", header = TRUE, sep = \",\")\n",
    "head(affairs_df)"
   ]
  },
  {
   "cell_type": "code",
   "execution_count": 2,
   "metadata": {},
   "outputs": [
    {
     "data": {
      "text/html": [
       "<table>\n",
       "<thead><tr><th></th><th scope=col>X</th><th scope=col>naffairs</th><th scope=col>kids</th><th scope=col>vryunhap</th><th scope=col>unhap</th><th scope=col>avgmarr</th><th scope=col>hapavg</th><th scope=col>vryhap</th><th scope=col>antirel</th><th scope=col>notrel</th><th scope=col>slghtrel</th><th scope=col>smerel</th><th scope=col>vryrel</th><th scope=col>yrsmarr1</th><th scope=col>yrsmarr2</th><th scope=col>yrsmarr3</th><th scope=col>yrsmarr4</th><th scope=col>yrsmarr5</th><th scope=col>yrsmarr6</th></tr></thead>\n",
       "<tbody>\n",
       "\t<tr><th scope=row>596</th><td>596</td><td>0  </td><td>0  </td><td>0  </td><td>0  </td><td>0  </td><td>0  </td><td>1  </td><td>0  </td><td>1  </td><td>0  </td><td>0  </td><td>0  </td><td>0  </td><td>1  </td><td>0  </td><td>0  </td><td>0  </td><td>0  </td></tr>\n",
       "\t<tr><th scope=row>597</th><td>597</td><td>0  </td><td>0  </td><td>0  </td><td>0  </td><td>0  </td><td>1  </td><td>0  </td><td>0  </td><td>0  </td><td>0  </td><td>1  </td><td>0  </td><td>0  </td><td>0  </td><td>0  </td><td>0  </td><td>0  </td><td>1  </td></tr>\n",
       "\t<tr><th scope=row>598</th><td>598</td><td>1  </td><td>1  </td><td>0  </td><td>0  </td><td>0  </td><td>0  </td><td>1  </td><td>0  </td><td>0  </td><td>1  </td><td>0  </td><td>0  </td><td>0  </td><td>0  </td><td>0  </td><td>0  </td><td>0  </td><td>1  </td></tr>\n",
       "\t<tr><th scope=row>599</th><td>599</td><td>0  </td><td>1  </td><td>0  </td><td>1  </td><td>0  </td><td>0  </td><td>0  </td><td>0  </td><td>1  </td><td>0  </td><td>0  </td><td>0  </td><td>0  </td><td>0  </td><td>0  </td><td>0  </td><td>1  </td><td>0  </td></tr>\n",
       "\t<tr><th scope=row>600</th><td>600</td><td>0  </td><td>1  </td><td>0  </td><td>0  </td><td>0  </td><td>1  </td><td>0  </td><td>0  </td><td>0  </td><td>1  </td><td>0  </td><td>0  </td><td>0  </td><td>0  </td><td>0  </td><td>0  </td><td>0  </td><td>1  </td></tr>\n",
       "\t<tr><th scope=row>601</th><td>601</td><td>0  </td><td>1  </td><td>0  </td><td>0  </td><td>0  </td><td>1  </td><td>0  </td><td>0  </td><td>1  </td><td>0  </td><td>0  </td><td>0  </td><td>0  </td><td>0  </td><td>1  </td><td>0  </td><td>0  </td><td>0  </td></tr>\n",
       "</tbody>\n",
       "</table>\n"
      ],
      "text/latex": [
       "\\begin{tabular}{r|lllllllllllllllllll}\n",
       "  & X & naffairs & kids & vryunhap & unhap & avgmarr & hapavg & vryhap & antirel & notrel & slghtrel & smerel & vryrel & yrsmarr1 & yrsmarr2 & yrsmarr3 & yrsmarr4 & yrsmarr5 & yrsmarr6\\\\\n",
       "\\hline\n",
       "\t596 & 596 & 0   & 0   & 0   & 0   & 0   & 0   & 1   & 0   & 1   & 0   & 0   & 0   & 0   & 1   & 0   & 0   & 0   & 0  \\\\\n",
       "\t597 & 597 & 0   & 0   & 0   & 0   & 0   & 1   & 0   & 0   & 0   & 0   & 1   & 0   & 0   & 0   & 0   & 0   & 0   & 1  \\\\\n",
       "\t598 & 598 & 1   & 1   & 0   & 0   & 0   & 0   & 1   & 0   & 0   & 1   & 0   & 0   & 0   & 0   & 0   & 0   & 0   & 1  \\\\\n",
       "\t599 & 599 & 0   & 1   & 0   & 1   & 0   & 0   & 0   & 0   & 1   & 0   & 0   & 0   & 0   & 0   & 0   & 0   & 1   & 0  \\\\\n",
       "\t600 & 600 & 0   & 1   & 0   & 0   & 0   & 1   & 0   & 0   & 0   & 1   & 0   & 0   & 0   & 0   & 0   & 0   & 0   & 1  \\\\\n",
       "\t601 & 601 & 0   & 1   & 0   & 0   & 0   & 1   & 0   & 0   & 1   & 0   & 0   & 0   & 0   & 0   & 1   & 0   & 0   & 0  \\\\\n",
       "\\end{tabular}\n"
      ],
      "text/markdown": [
       "\n",
       "| <!--/--> | X | naffairs | kids | vryunhap | unhap | avgmarr | hapavg | vryhap | antirel | notrel | slghtrel | smerel | vryrel | yrsmarr1 | yrsmarr2 | yrsmarr3 | yrsmarr4 | yrsmarr5 | yrsmarr6 | \n",
       "|---|---|---|---|---|---|\n",
       "| 596 | 596 | 0   | 0   | 0   | 0   | 0   | 0   | 1   | 0   | 1   | 0   | 0   | 0   | 0   | 1   | 0   | 0   | 0   | 0   | \n",
       "| 597 | 597 | 0   | 0   | 0   | 0   | 0   | 1   | 0   | 0   | 0   | 0   | 1   | 0   | 0   | 0   | 0   | 0   | 0   | 1   | \n",
       "| 598 | 598 | 1   | 1   | 0   | 0   | 0   | 0   | 1   | 0   | 0   | 1   | 0   | 0   | 0   | 0   | 0   | 0   | 0   | 1   | \n",
       "| 599 | 599 | 0   | 1   | 0   | 1   | 0   | 0   | 0   | 0   | 1   | 0   | 0   | 0   | 0   | 0   | 0   | 0   | 1   | 0   | \n",
       "| 600 | 600 | 0   | 1   | 0   | 0   | 0   | 1   | 0   | 0   | 0   | 1   | 0   | 0   | 0   | 0   | 0   | 0   | 0   | 1   | \n",
       "| 601 | 601 | 0   | 1   | 0   | 0   | 0   | 1   | 0   | 0   | 1   | 0   | 0   | 0   | 0   | 0   | 1   | 0   | 0   | 0   | \n",
       "\n",
       "\n"
      ],
      "text/plain": [
       "    X   naffairs kids vryunhap unhap avgmarr hapavg vryhap antirel notrel\n",
       "596 596 0        0    0        0     0       0      1      0       1     \n",
       "597 597 0        0    0        0     0       1      0      0       0     \n",
       "598 598 1        1    0        0     0       0      1      0       0     \n",
       "599 599 0        1    0        1     0       0      0      0       1     \n",
       "600 600 0        1    0        0     0       1      0      0       0     \n",
       "601 601 0        1    0        0     0       1      0      0       1     \n",
       "    slghtrel smerel vryrel yrsmarr1 yrsmarr2 yrsmarr3 yrsmarr4 yrsmarr5\n",
       "596 0        0      0      0        1        0        0        0       \n",
       "597 0        1      0      0        0        0        0        0       \n",
       "598 1        0      0      0        0        0        0        0       \n",
       "599 0        0      0      0        0        0        0        1       \n",
       "600 1        0      0      0        0        0        0        0       \n",
       "601 0        0      0      0        0        1        0        0       \n",
       "    yrsmarr6\n",
       "596 0       \n",
       "597 1       \n",
       "598 1       \n",
       "599 0       \n",
       "600 1       \n",
       "601 0       "
      ]
     },
     "metadata": {},
     "output_type": "display_data"
    }
   ],
   "source": [
    "tail(affairs_df)"
   ]
  },
  {
   "cell_type": "code",
   "execution_count": 3,
   "metadata": {},
   "outputs": [
    {
     "data": {
      "text/plain": [
       "       Kids (yes/no)\n",
       "Affairs   0   1\n",
       "     0  144 307\n",
       "     1    7  27\n",
       "     2    2  15\n",
       "     3    4  15\n",
       "     7    7  35\n",
       "     12   7  31"
      ]
     },
     "metadata": {},
     "output_type": "display_data"
    }
   ],
   "source": [
    "cont_table <- table(\n",
    "    affairs_df[c(\"naffairs\", \"kids\")]\n",
    "    , dnn = c(\"Affairs\", \"Kids (yes/no)\")\n",
    ")\n",
    "cont_table"
   ]
  },
  {
   "cell_type": "code",
   "execution_count": 4,
   "metadata": {},
   "outputs": [
    {
     "data": {
      "text/html": [
       "'table'"
      ],
      "text/latex": [
       "'table'"
      ],
      "text/markdown": [
       "'table'"
      ],
      "text/plain": [
       "[1] \"table\""
      ]
     },
     "metadata": {},
     "output_type": "display_data"
    }
   ],
   "source": [
    "class(cont_table)"
   ]
  },
  {
   "cell_type": "code",
   "execution_count": 5,
   "metadata": {},
   "outputs": [
    {
     "data": {
      "text/html": [
       "<table>\n",
       "<thead><tr><th></th><th scope=col>0</th><th scope=col>1</th></tr></thead>\n",
       "<tbody>\n",
       "\t<tr><th scope=row>0</th><td>144</td><td>307</td></tr>\n",
       "\t<tr><th scope=row>1</th><td>  7</td><td> 27</td></tr>\n",
       "\t<tr><th scope=row>2</th><td>  2</td><td> 15</td></tr>\n",
       "\t<tr><th scope=row>3</th><td>  4</td><td> 15</td></tr>\n",
       "\t<tr><th scope=row>7</th><td>  7</td><td> 35</td></tr>\n",
       "\t<tr><th scope=row>12</th><td>  7</td><td> 31</td></tr>\n",
       "</tbody>\n",
       "</table>\n"
      ],
      "text/latex": [
       "\\begin{tabular}{r|ll}\n",
       "  & 0 & 1\\\\\n",
       "\\hline\n",
       "\t0 & 144 & 307\\\\\n",
       "\t1 &   7 &  27\\\\\n",
       "\t2 &   2 &  15\\\\\n",
       "\t3 &   4 &  15\\\\\n",
       "\t7 &   7 &  35\\\\\n",
       "\t12 &   7 &  31\\\\\n",
       "\\end{tabular}\n"
      ],
      "text/markdown": [
       "\n",
       "| <!--/--> | 0 | 1 | \n",
       "|---|---|---|---|---|---|\n",
       "| 0 | 144 | 307 | \n",
       "| 1 |   7 |  27 | \n",
       "| 2 |   2 |  15 | \n",
       "| 3 |   4 |  15 | \n",
       "| 7 |   7 |  35 | \n",
       "| 12 |   7 |  31 | \n",
       "\n",
       "\n"
      ],
      "text/plain": [
       "       Kids (yes/no)\n",
       "Affairs 0   1  \n",
       "     0  144 307\n",
       "     1    7  27\n",
       "     2    2  15\n",
       "     3    4  15\n",
       "     7    7  35\n",
       "     12   7  31"
      ]
     },
     "metadata": {},
     "output_type": "display_data"
    }
   ],
   "source": [
    "matrix(\n",
    "    cont_table\n",
    "    , ncol = ncol(cont_table)\n",
    "    , nrow = nrow(cont_table)\n",
    "    , dimnames = dimnames(cont_table)\n",
    ")"
   ]
  },
  {
   "cell_type": "code",
   "execution_count": 6,
   "metadata": {},
   "outputs": [
    {
     "data": {
      "text/html": [
       "<table>\n",
       "<thead><tr><th></th><th scope=col>Kids no</th><th scope=col>Kids yes</th></tr></thead>\n",
       "<tbody>\n",
       "\t<tr><th scope=row>0</th><td>144</td><td>307</td></tr>\n",
       "\t<tr><th scope=row>1</th><td>  7</td><td> 27</td></tr>\n",
       "\t<tr><th scope=row>2</th><td>  2</td><td> 15</td></tr>\n",
       "\t<tr><th scope=row>3</th><td>  4</td><td> 15</td></tr>\n",
       "\t<tr><th scope=row>7</th><td>  7</td><td> 35</td></tr>\n",
       "\t<tr><th scope=row>12</th><td>  7</td><td> 31</td></tr>\n",
       "</tbody>\n",
       "</table>\n"
      ],
      "text/latex": [
       "\\begin{tabular}{r|ll}\n",
       "  & Kids no & Kids yes\\\\\n",
       "\\hline\n",
       "\t0 & 144 & 307\\\\\n",
       "\t1 &   7 &  27\\\\\n",
       "\t2 &   2 &  15\\\\\n",
       "\t3 &   4 &  15\\\\\n",
       "\t7 &   7 &  35\\\\\n",
       "\t12 &   7 &  31\\\\\n",
       "\\end{tabular}\n"
      ],
      "text/markdown": [
       "\n",
       "| <!--/--> | Kids no | Kids yes | \n",
       "|---|---|---|---|---|---|\n",
       "| 0 | 144 | 307 | \n",
       "| 1 |   7 |  27 | \n",
       "| 2 |   2 |  15 | \n",
       "| 3 |   4 |  15 | \n",
       "| 7 |   7 |  35 | \n",
       "| 12 |   7 |  31 | \n",
       "\n",
       "\n"
      ],
      "text/plain": [
       "   Kids no Kids yes\n",
       "0  144     307     \n",
       "1    7      27     \n",
       "2    2      15     \n",
       "3    4      15     \n",
       "7    7      35     \n",
       "12   7      31     "
      ]
     },
     "metadata": {},
     "output_type": "display_data"
    }
   ],
   "source": [
    "counts <- as.data.frame.matrix(\n",
    "    cont_table\n",
    ")\n",
    "colnames(counts) <- c(\"Kids no\", \"Kids yes\")\n",
    "counts"
   ]
  },
  {
   "cell_type": "code",
   "execution_count": 7,
   "metadata": {},
   "outputs": [
    {
     "data": {
      "text/html": [
       "<dl>\n",
       "\t<dt>$`Kids yes`</dt>\n",
       "\t\t<dd>2.13194444444444</dd>\n",
       "\t<dt>$`Kids yes`</dt>\n",
       "\t\t<dd>3.85714285714286</dd>\n",
       "\t<dt>$`Kids yes`</dt>\n",
       "\t\t<dd>7.5</dd>\n",
       "\t<dt>$`Kids yes`</dt>\n",
       "\t\t<dd>3.75</dd>\n",
       "\t<dt>$`Kids yes`</dt>\n",
       "\t\t<dd>5</dd>\n",
       "\t<dt>$`Kids yes`</dt>\n",
       "\t\t<dd>4.42857142857143</dd>\n",
       "</dl>\n"
      ],
      "text/latex": [
       "\\begin{description}\n",
       "\\item[\\$`Kids yes`] 2.13194444444444\n",
       "\\item[\\$`Kids yes`] 3.85714285714286\n",
       "\\item[\\$`Kids yes`] 7.5\n",
       "\\item[\\$`Kids yes`] 3.75\n",
       "\\item[\\$`Kids yes`] 5\n",
       "\\item[\\$`Kids yes`] 4.42857142857143\n",
       "\\end{description}\n"
      ],
      "text/markdown": [
       "$`Kids yes`\n",
       ":   2.13194444444444\n",
       "$`Kids yes`\n",
       ":   3.85714285714286\n",
       "$`Kids yes`\n",
       ":   7.5\n",
       "$`Kids yes`\n",
       ":   3.75\n",
       "$`Kids yes`\n",
       ":   5\n",
       "$`Kids yes`\n",
       ":   4.42857142857143\n",
       "\n",
       "\n"
      ],
      "text/plain": [
       "$`Kids yes`\n",
       "[1] 2.131944\n",
       "\n",
       "$`Kids yes`\n",
       "[1] 3.857143\n",
       "\n",
       "$`Kids yes`\n",
       "[1] 7.5\n",
       "\n",
       "$`Kids yes`\n",
       "[1] 3.75\n",
       "\n",
       "$`Kids yes`\n",
       "[1] 5\n",
       "\n",
       "$`Kids yes`\n",
       "[1] 4.428571\n"
      ]
     },
     "metadata": {},
     "output_type": "display_data"
    }
   ],
   "source": [
    "ret <- c()\n",
    "for (i in 1:nrow(counts)) {\n",
    "    row <- counts[i,]\n",
    "    ret <- c(ret, row[\"Kids yes\"] / row[\"Kids no\"])\n",
    "}\n",
    "ret"
   ]
  },
  {
   "cell_type": "code",
   "execution_count": 8,
   "metadata": {},
   "outputs": [
    {
     "data": {
      "text/html": [
       "<dl class=dl-horizontal>\n",
       "\t<dt>0</dt>\n",
       "\t\t<dd>2.13194444444444</dd>\n",
       "\t<dt>1</dt>\n",
       "\t\t<dd>3.85714285714286</dd>\n",
       "\t<dt>2</dt>\n",
       "\t\t<dd>7.5</dd>\n",
       "\t<dt>3</dt>\n",
       "\t\t<dd>3.75</dd>\n",
       "\t<dt>7</dt>\n",
       "\t\t<dd>5</dd>\n",
       "\t<dt>12</dt>\n",
       "\t\t<dd>4.42857142857143</dd>\n",
       "</dl>\n"
      ],
      "text/latex": [
       "\\begin{description*}\n",
       "\\item[0] 2.13194444444444\n",
       "\\item[1] 3.85714285714286\n",
       "\\item[2] 7.5\n",
       "\\item[3] 3.75\n",
       "\\item[7] 5\n",
       "\\item[12] 4.42857142857143\n",
       "\\end{description*}\n"
      ],
      "text/markdown": [
       "0\n",
       ":   2.131944444444441\n",
       ":   3.857142857142862\n",
       ":   7.53\n",
       ":   3.757\n",
       ":   512\n",
       ":   4.42857142857143\n",
       "\n"
      ],
      "text/plain": [
       "       0        1        2        3        7       12 \n",
       "2.131944 3.857143 7.500000 3.750000 5.000000 4.428571 "
      ]
     },
     "metadata": {},
     "output_type": "display_data"
    }
   ],
   "source": [
    "apply(counts, 1, function(row) {\n",
    "        row[\"Kids yes\"] / row[\"Kids no\"]\n",
    "    }\n",
    ")"
   ]
  },
  {
   "cell_type": "code",
   "execution_count": 9,
   "metadata": {},
   "outputs": [
    {
     "data": {
      "text/html": [
       "<dl class=dl-horizontal>\n",
       "\t<dt>Kids no</dt>\n",
       "\t\t<dd>171</dd>\n",
       "\t<dt>Kids yes</dt>\n",
       "\t\t<dd>430</dd>\n",
       "</dl>\n"
      ],
      "text/latex": [
       "\\begin{description*}\n",
       "\\item[Kids no] 171\n",
       "\\item[Kids yes] 430\n",
       "\\end{description*}\n"
      ],
      "text/markdown": [
       "Kids no\n",
       ":   171Kids yes\n",
       ":   430\n",
       "\n"
      ],
      "text/plain": [
       " Kids no Kids yes \n",
       "     171      430 "
      ]
     },
     "metadata": {},
     "output_type": "display_data"
    }
   ],
   "source": [
    "apply(counts, 2, function(x) {sum(x)})"
   ]
  },
  {
   "cell_type": "code",
   "execution_count": 10,
   "metadata": {},
   "outputs": [
    {
     "data": {
      "text/html": [
       "430"
      ],
      "text/latex": [
       "430"
      ],
      "text/markdown": [
       "430"
      ],
      "text/plain": [
       "[1] 430"
      ]
     },
     "metadata": {},
     "output_type": "display_data"
    }
   ],
   "source": [
    "sum(counts$\"Kids yes\")"
   ]
  },
  {
   "cell_type": "code",
   "execution_count": 11,
   "metadata": {},
   "outputs": [
    {
     "data": {
      "text/html": [
       "<dl>\n",
       "\t<dt>$prvni</dt>\n",
       "\t\t<dd><ol class=list-inline>\n",
       "\t<li>1</li>\n",
       "\t<li>1.5</li>\n",
       "\t<li>2</li>\n",
       "\t<li>2.5</li>\n",
       "\t<li>3</li>\n",
       "\t<li>3.5</li>\n",
       "\t<li>4</li>\n",
       "\t<li>4.5</li>\n",
       "\t<li>5</li>\n",
       "\t<li>5.5</li>\n",
       "\t<li>6</li>\n",
       "\t<li>6.5</li>\n",
       "\t<li>7</li>\n",
       "\t<li>7.5</li>\n",
       "\t<li>8</li>\n",
       "\t<li>8.5</li>\n",
       "\t<li>9</li>\n",
       "\t<li>9.5</li>\n",
       "\t<li>10</li>\n",
       "</ol>\n",
       "</dd>\n",
       "\t<dt>$druha</dt>\n",
       "\t\t<dd><table>\n",
       "<tbody>\n",
       "\t<tr><td>11</td><td>16</td></tr>\n",
       "\t<tr><td>12</td><td>17</td></tr>\n",
       "\t<tr><td>13</td><td>18</td></tr>\n",
       "\t<tr><td>14</td><td>19</td></tr>\n",
       "\t<tr><td>15</td><td>20</td></tr>\n",
       "</tbody>\n",
       "</table>\n",
       "</dd>\n",
       "\t<dt>$treti</dt>\n",
       "\t\t<dd><ol class=list-inline>\n",
       "\t<li>'1'</li>\n",
       "\t<li>'2'</li>\n",
       "\t<li>'3'</li>\n",
       "\t<li>'4'</li>\n",
       "\t<li>'5'</li>\n",
       "\t<li>'6'</li>\n",
       "\t<li>'7'</li>\n",
       "\t<li>'8'</li>\n",
       "\t<li>'9'</li>\n",
       "\t<li>'10'</li>\n",
       "</ol>\n",
       "</dd>\n",
       "</dl>\n"
      ],
      "text/latex": [
       "\\begin{description}\n",
       "\\item[\\$prvni] \\begin{enumerate*}\n",
       "\\item 1\n",
       "\\item 1.5\n",
       "\\item 2\n",
       "\\item 2.5\n",
       "\\item 3\n",
       "\\item 3.5\n",
       "\\item 4\n",
       "\\item 4.5\n",
       "\\item 5\n",
       "\\item 5.5\n",
       "\\item 6\n",
       "\\item 6.5\n",
       "\\item 7\n",
       "\\item 7.5\n",
       "\\item 8\n",
       "\\item 8.5\n",
       "\\item 9\n",
       "\\item 9.5\n",
       "\\item 10\n",
       "\\end{enumerate*}\n",
       "\n",
       "\\item[\\$druha] \\begin{tabular}{ll}\n",
       "\t 11 & 16\\\\\n",
       "\t 12 & 17\\\\\n",
       "\t 13 & 18\\\\\n",
       "\t 14 & 19\\\\\n",
       "\t 15 & 20\\\\\n",
       "\\end{tabular}\n",
       "\n",
       "\\item[\\$treti] \\begin{enumerate*}\n",
       "\\item '1'\n",
       "\\item '2'\n",
       "\\item '3'\n",
       "\\item '4'\n",
       "\\item '5'\n",
       "\\item '6'\n",
       "\\item '7'\n",
       "\\item '8'\n",
       "\\item '9'\n",
       "\\item '10'\n",
       "\\end{enumerate*}\n",
       "\n",
       "\\end{description}\n"
      ],
      "text/markdown": [
       "$prvni\n",
       ":   1. 1\n",
       "2. 1.5\n",
       "3. 2\n",
       "4. 2.5\n",
       "5. 3\n",
       "6. 3.5\n",
       "7. 4\n",
       "8. 4.5\n",
       "9. 5\n",
       "10. 5.5\n",
       "11. 6\n",
       "12. 6.5\n",
       "13. 7\n",
       "14. 7.5\n",
       "15. 8\n",
       "16. 8.5\n",
       "17. 9\n",
       "18. 9.5\n",
       "19. 10\n",
       "\n",
       "\n",
       "\n",
       "$druha\n",
       ":   \n",
       "| 11 | 16 | \n",
       "| 12 | 17 | \n",
       "| 13 | 18 | \n",
       "| 14 | 19 | \n",
       "| 15 | 20 | \n",
       "\n",
       "\n",
       "\n",
       "$treti\n",
       ":   1. '1'\n",
       "2. '2'\n",
       "3. '3'\n",
       "4. '4'\n",
       "5. '5'\n",
       "6. '6'\n",
       "7. '7'\n",
       "8. '8'\n",
       "9. '9'\n",
       "10. '10'\n",
       "\n",
       "\n",
       "\n",
       "\n",
       "\n"
      ],
      "text/plain": [
       "$prvni\n",
       " [1]  1.0  1.5  2.0  2.5  3.0  3.5  4.0  4.5  5.0  5.5  6.0  6.5  7.0  7.5  8.0\n",
       "[16]  8.5  9.0  9.5 10.0\n",
       "\n",
       "$druha\n",
       "     [,1] [,2]\n",
       "[1,]   11   16\n",
       "[2,]   12   17\n",
       "[3,]   13   18\n",
       "[4,]   14   19\n",
       "[5,]   15   20\n",
       "\n",
       "$treti\n",
       " [1] \"1\"  \"2\"  \"3\"  \"4\"  \"5\"  \"6\"  \"7\"  \"8\"  \"9\"  \"10\"\n"
      ]
     },
     "metadata": {},
     "output_type": "display_data"
    }
   ],
   "source": [
    "l_x <- list(\n",
    "    prvni = seq(1, 10, 0.5)\n",
    "    , druha = matrix(11:20, ncol = 2)\n",
    "    , treti = as.character(1:10)\n",
    ")\n",
    "l_x"
   ]
  },
  {
   "cell_type": "code",
   "execution_count": 12,
   "metadata": {},
   "outputs": [
    {
     "data": {
      "text/html": [
       "<dl>\n",
       "\t<dt>$trida</dt>\n",
       "\t\t<dd>'numeric'</dd>\n",
       "\t<dt>$typ</dt>\n",
       "\t\t<dd>'double'</dd>\n",
       "\t<dt>$mode</dt>\n",
       "\t\t<dd>'numeric'</dd>\n",
       "</dl>\n"
      ],
      "text/latex": [
       "\\begin{description}\n",
       "\\item[\\$trida] 'numeric'\n",
       "\\item[\\$typ] 'double'\n",
       "\\item[\\$mode] 'numeric'\n",
       "\\end{description}\n"
      ],
      "text/markdown": [
       "$trida\n",
       ":   'numeric'\n",
       "$typ\n",
       ":   'double'\n",
       "$mode\n",
       ":   'numeric'\n",
       "\n",
       "\n"
      ],
      "text/plain": [
       "$trida\n",
       "[1] \"numeric\"\n",
       "\n",
       "$typ\n",
       "[1] \"double\"\n",
       "\n",
       "$mode\n",
       "[1] \"numeric\"\n"
      ]
     },
     "metadata": {},
     "output_type": "display_data"
    },
    {
     "data": {
      "text/html": [
       "'numeric'"
      ],
      "text/latex": [
       "'numeric'"
      ],
      "text/markdown": [
       "'numeric'"
      ],
      "text/plain": [
       "[1] \"numeric\""
      ]
     },
     "metadata": {},
     "output_type": "display_data"
    }
   ],
   "source": [
    "object_info <- function(x) {\n",
    "    list(\n",
    "        trida = class(x)\n",
    "        , typ = typeof(x)\n",
    "        , mode = mode(x)\n",
    "    )\n",
    "}\n",
    "\n",
    "info <- lapply(l_x, object_info)\n",
    "info[[\"prvni\"]]\n",
    "info[[\"prvni\"]][[\"mode\"]]"
   ]
  },
  {
   "cell_type": "code",
   "execution_count": 13,
   "metadata": {},
   "outputs": [
    {
     "data": {
      "text/html": [
       "<ol class=list-inline>\n",
       "\t<li>0.1</li>\n",
       "\t<li>0.2</li>\n",
       "\t<li>0.3</li>\n",
       "\t<li>0.4</li>\n",
       "\t<li>0.5</li>\n",
       "\t<li>0.6</li>\n",
       "\t<li>0.7</li>\n",
       "\t<li>0.8</li>\n",
       "\t<li>0.9</li>\n",
       "\t<li>1</li>\n",
       "</ol>\n"
      ],
      "text/latex": [
       "\\begin{enumerate*}\n",
       "\\item 0.1\n",
       "\\item 0.2\n",
       "\\item 0.3\n",
       "\\item 0.4\n",
       "\\item 0.5\n",
       "\\item 0.6\n",
       "\\item 0.7\n",
       "\\item 0.8\n",
       "\\item 0.9\n",
       "\\item 1\n",
       "\\end{enumerate*}\n"
      ],
      "text/markdown": [
       "1. 0.1\n",
       "2. 0.2\n",
       "3. 0.3\n",
       "4. 0.4\n",
       "5. 0.5\n",
       "6. 0.6\n",
       "7. 0.7\n",
       "8. 0.8\n",
       "9. 0.9\n",
       "10. 1\n",
       "\n",
       "\n"
      ],
      "text/plain": [
       " [1] 0.1 0.2 0.3 0.4 0.5 0.6 0.7 0.8 0.9 1.0"
      ]
     },
     "metadata": {},
     "output_type": "display_data"
    }
   ],
   "source": [
    "unlist(lapply(1:10, function(x) {x / 10}))"
   ]
  },
  {
   "cell_type": "code",
   "execution_count": 14,
   "metadata": {},
   "outputs": [
    {
     "data": {
      "text/html": [
       "<ol>\n",
       "\t<li>0.1</li>\n",
       "\t<li>0.2</li>\n",
       "\t<li>0.3</li>\n",
       "\t<li>0.4</li>\n",
       "\t<li>0.5</li>\n",
       "\t<li>0.6</li>\n",
       "\t<li>0.7</li>\n",
       "\t<li>0.8</li>\n",
       "\t<li>0.9</li>\n",
       "\t<li>1</li>\n",
       "</ol>\n"
      ],
      "text/latex": [
       "\\begin{enumerate}\n",
       "\\item 0.1\n",
       "\\item 0.2\n",
       "\\item 0.3\n",
       "\\item 0.4\n",
       "\\item 0.5\n",
       "\\item 0.6\n",
       "\\item 0.7\n",
       "\\item 0.8\n",
       "\\item 0.9\n",
       "\\item 1\n",
       "\\end{enumerate}\n"
      ],
      "text/markdown": [
       "1. 0.1\n",
       "2. 0.2\n",
       "3. 0.3\n",
       "4. 0.4\n",
       "5. 0.5\n",
       "6. 0.6\n",
       "7. 0.7\n",
       "8. 0.8\n",
       "9. 0.9\n",
       "10. 1\n",
       "\n",
       "\n"
      ],
      "text/plain": [
       "[[1]]\n",
       "[1] 0.1\n",
       "\n",
       "[[2]]\n",
       "[1] 0.2\n",
       "\n",
       "[[3]]\n",
       "[1] 0.3\n",
       "\n",
       "[[4]]\n",
       "[1] 0.4\n",
       "\n",
       "[[5]]\n",
       "[1] 0.5\n",
       "\n",
       "[[6]]\n",
       "[1] 0.6\n",
       "\n",
       "[[7]]\n",
       "[1] 0.7\n",
       "\n",
       "[[8]]\n",
       "[1] 0.8\n",
       "\n",
       "[[9]]\n",
       "[1] 0.9\n",
       "\n",
       "[[10]]\n",
       "[1] 1\n"
      ]
     },
     "metadata": {},
     "output_type": "display_data"
    }
   ],
   "source": [
    "sapply(1:10, function(x) {x / 10}, simplify = F)"
   ]
  },
  {
   "cell_type": "code",
   "execution_count": 15,
   "metadata": {},
   "outputs": [
    {
     "data": {
      "text/html": [
       "<dl>\n",
       "\t<dt>$X</dt>\n",
       "\t\t<dd>301</dd>\n",
       "\t<dt>$naffairs</dt>\n",
       "\t\t<dd>1.45590682196339</dd>\n",
       "\t<dt>$kids</dt>\n",
       "\t\t<dd>0.715474209650582</dd>\n",
       "\t<dt>$vryunhap</dt>\n",
       "\t\t<dd>0.0266222961730449</dd>\n",
       "\t<dt>$unhap</dt>\n",
       "\t\t<dd>0.10981697171381</dd>\n",
       "\t<dt>$avgmarr</dt>\n",
       "\t\t<dd>0.154742096505824</dd>\n",
       "\t<dt>$hapavg</dt>\n",
       "\t\t<dd>0.32279534109817</dd>\n",
       "\t<dt>$vryhap</dt>\n",
       "\t\t<dd>0.386023294509151</dd>\n",
       "\t<dt>$antirel</dt>\n",
       "\t\t<dd>0.0798668885191348</dd>\n",
       "\t<dt>$notrel</dt>\n",
       "\t\t<dd>0.27287853577371</dd>\n",
       "\t<dt>$slghtrel</dt>\n",
       "\t\t<dd>0.214642262895175</dd>\n",
       "\t<dt>$smerel</dt>\n",
       "\t\t<dd>0.316139767054908</dd>\n",
       "\t<dt>$vryrel</dt>\n",
       "\t\t<dd>0.116472545757072</dd>\n",
       "\t<dt>$yrsmarr1</dt>\n",
       "\t\t<dd>0.086522462562396</dd>\n",
       "\t<dt>$yrsmarr2</dt>\n",
       "\t\t<dd>0.146422628951747</dd>\n",
       "\t<dt>$yrsmarr3</dt>\n",
       "\t\t<dd>0.174708818635607</dd>\n",
       "\t<dt>$yrsmarr4</dt>\n",
       "\t\t<dd>0.136439267886855</dd>\n",
       "\t<dt>$yrsmarr5</dt>\n",
       "\t\t<dd>0.116472545757072</dd>\n",
       "\t<dt>$yrsmarr6</dt>\n",
       "\t\t<dd>0.339434276206323</dd>\n",
       "</dl>\n"
      ],
      "text/latex": [
       "\\begin{description}\n",
       "\\item[\\$X] 301\n",
       "\\item[\\$naffairs] 1.45590682196339\n",
       "\\item[\\$kids] 0.715474209650582\n",
       "\\item[\\$vryunhap] 0.0266222961730449\n",
       "\\item[\\$unhap] 0.10981697171381\n",
       "\\item[\\$avgmarr] 0.154742096505824\n",
       "\\item[\\$hapavg] 0.32279534109817\n",
       "\\item[\\$vryhap] 0.386023294509151\n",
       "\\item[\\$antirel] 0.0798668885191348\n",
       "\\item[\\$notrel] 0.27287853577371\n",
       "\\item[\\$slghtrel] 0.214642262895175\n",
       "\\item[\\$smerel] 0.316139767054908\n",
       "\\item[\\$vryrel] 0.116472545757072\n",
       "\\item[\\$yrsmarr1] 0.086522462562396\n",
       "\\item[\\$yrsmarr2] 0.146422628951747\n",
       "\\item[\\$yrsmarr3] 0.174708818635607\n",
       "\\item[\\$yrsmarr4] 0.136439267886855\n",
       "\\item[\\$yrsmarr5] 0.116472545757072\n",
       "\\item[\\$yrsmarr6] 0.339434276206323\n",
       "\\end{description}\n"
      ],
      "text/markdown": [
       "$X\n",
       ":   301\n",
       "$naffairs\n",
       ":   1.45590682196339\n",
       "$kids\n",
       ":   0.715474209650582\n",
       "$vryunhap\n",
       ":   0.0266222961730449\n",
       "$unhap\n",
       ":   0.10981697171381\n",
       "$avgmarr\n",
       ":   0.154742096505824\n",
       "$hapavg\n",
       ":   0.32279534109817\n",
       "$vryhap\n",
       ":   0.386023294509151\n",
       "$antirel\n",
       ":   0.0798668885191348\n",
       "$notrel\n",
       ":   0.27287853577371\n",
       "$slghtrel\n",
       ":   0.214642262895175\n",
       "$smerel\n",
       ":   0.316139767054908\n",
       "$vryrel\n",
       ":   0.116472545757072\n",
       "$yrsmarr1\n",
       ":   0.086522462562396\n",
       "$yrsmarr2\n",
       ":   0.146422628951747\n",
       "$yrsmarr3\n",
       ":   0.174708818635607\n",
       "$yrsmarr4\n",
       ":   0.136439267886855\n",
       "$yrsmarr5\n",
       ":   0.116472545757072\n",
       "$yrsmarr6\n",
       ":   0.339434276206323\n",
       "\n",
       "\n"
      ],
      "text/plain": [
       "$X\n",
       "[1] 301\n",
       "\n",
       "$naffairs\n",
       "[1] 1.455907\n",
       "\n",
       "$kids\n",
       "[1] 0.7154742\n",
       "\n",
       "$vryunhap\n",
       "[1] 0.0266223\n",
       "\n",
       "$unhap\n",
       "[1] 0.109817\n",
       "\n",
       "$avgmarr\n",
       "[1] 0.1547421\n",
       "\n",
       "$hapavg\n",
       "[1] 0.3227953\n",
       "\n",
       "$vryhap\n",
       "[1] 0.3860233\n",
       "\n",
       "$antirel\n",
       "[1] 0.07986689\n",
       "\n",
       "$notrel\n",
       "[1] 0.2728785\n",
       "\n",
       "$slghtrel\n",
       "[1] 0.2146423\n",
       "\n",
       "$smerel\n",
       "[1] 0.3161398\n",
       "\n",
       "$vryrel\n",
       "[1] 0.1164725\n",
       "\n",
       "$yrsmarr1\n",
       "[1] 0.08652246\n",
       "\n",
       "$yrsmarr2\n",
       "[1] 0.1464226\n",
       "\n",
       "$yrsmarr3\n",
       "[1] 0.1747088\n",
       "\n",
       "$yrsmarr4\n",
       "[1] 0.1364393\n",
       "\n",
       "$yrsmarr5\n",
       "[1] 0.1164725\n",
       "\n",
       "$yrsmarr6\n",
       "[1] 0.3394343\n"
      ]
     },
     "metadata": {},
     "output_type": "display_data"
    }
   ],
   "source": [
    "lapply(affairs_df, function(x) {sum(x) / length(x)})"
   ]
  },
  {
   "cell_type": "code",
   "execution_count": 16,
   "metadata": {},
   "outputs": [
    {
     "data": {
      "text/html": [
       "<table>\n",
       "<thead><tr><th scope=col>X</th><th scope=col>naffairs</th><th scope=col>kids</th><th scope=col>vryunhap</th><th scope=col>unhap</th><th scope=col>avgmarr</th><th scope=col>hapavg</th><th scope=col>vryhap</th><th scope=col>antirel</th><th scope=col>notrel</th><th scope=col>slghtrel</th><th scope=col>smerel</th><th scope=col>vryrel</th><th scope=col>yrsmarr1</th><th scope=col>yrsmarr2</th><th scope=col>yrsmarr3</th><th scope=col>yrsmarr4</th><th scope=col>yrsmarr5</th><th scope=col>yrsmarr6</th></tr></thead>\n",
       "<tbody>\n",
       "\t<tr><td>1</td><td>0</td><td>0</td><td>0</td><td>0</td><td>0</td><td>1</td><td>0</td><td>0</td><td>0</td><td>1</td><td>0</td><td>0</td><td>0</td><td>0</td><td>0</td><td>0</td><td>1</td><td>0</td></tr>\n",
       "\t<tr><td>2</td><td>0</td><td>0</td><td>0</td><td>0</td><td>0</td><td>1</td><td>0</td><td>0</td><td>0</td><td>0</td><td>1</td><td>0</td><td>0</td><td>0</td><td>1</td><td>0</td><td>0</td><td>0</td></tr>\n",
       "\t<tr><td>3</td><td>3</td><td>0</td><td>0</td><td>0</td><td>0</td><td>1</td><td>0</td><td>0</td><td>0</td><td>1</td><td>0</td><td>0</td><td>0</td><td>1</td><td>0</td><td>0</td><td>0</td><td>0</td></tr>\n",
       "\t<tr><td>4</td><td>0</td><td>1</td><td>0</td><td>0</td><td>0</td><td>1</td><td>0</td><td>1</td><td>0</td><td>0</td><td>0</td><td>0</td><td>0</td><td>0</td><td>0</td><td>0</td><td>0</td><td>1</td></tr>\n",
       "\t<tr><td>5</td><td>3</td><td>1</td><td>0</td><td>0</td><td>0</td><td>0</td><td>1</td><td>0</td><td>0</td><td>1</td><td>0</td><td>0</td><td>0</td><td>0</td><td>1</td><td>0</td><td>0</td><td>0</td></tr>\n",
       "\t<tr><td>6</td><td>0</td><td>1</td><td>0</td><td>0</td><td>0</td><td>0</td><td>1</td><td>0</td><td>0</td><td>0</td><td>0</td><td>1</td><td>0</td><td>0</td><td>0</td><td>0</td><td>0</td><td>1</td></tr>\n",
       "</tbody>\n",
       "</table>\n"
      ],
      "text/latex": [
       "\\begin{tabular}{r|lllllllllllllllllll}\n",
       " X & naffairs & kids & vryunhap & unhap & avgmarr & hapavg & vryhap & antirel & notrel & slghtrel & smerel & vryrel & yrsmarr1 & yrsmarr2 & yrsmarr3 & yrsmarr4 & yrsmarr5 & yrsmarr6\\\\\n",
       "\\hline\n",
       "\t 1 & 0 & 0 & 0 & 0 & 0 & 1 & 0 & 0 & 0 & 1 & 0 & 0 & 0 & 0 & 0 & 0 & 1 & 0\\\\\n",
       "\t 2 & 0 & 0 & 0 & 0 & 0 & 1 & 0 & 0 & 0 & 0 & 1 & 0 & 0 & 0 & 1 & 0 & 0 & 0\\\\\n",
       "\t 3 & 3 & 0 & 0 & 0 & 0 & 1 & 0 & 0 & 0 & 1 & 0 & 0 & 0 & 1 & 0 & 0 & 0 & 0\\\\\n",
       "\t 4 & 0 & 1 & 0 & 0 & 0 & 1 & 0 & 1 & 0 & 0 & 0 & 0 & 0 & 0 & 0 & 0 & 0 & 1\\\\\n",
       "\t 5 & 3 & 1 & 0 & 0 & 0 & 0 & 1 & 0 & 0 & 1 & 0 & 0 & 0 & 0 & 1 & 0 & 0 & 0\\\\\n",
       "\t 6 & 0 & 1 & 0 & 0 & 0 & 0 & 1 & 0 & 0 & 0 & 0 & 1 & 0 & 0 & 0 & 0 & 0 & 1\\\\\n",
       "\\end{tabular}\n"
      ],
      "text/markdown": [
       "\n",
       "X | naffairs | kids | vryunhap | unhap | avgmarr | hapavg | vryhap | antirel | notrel | slghtrel | smerel | vryrel | yrsmarr1 | yrsmarr2 | yrsmarr3 | yrsmarr4 | yrsmarr5 | yrsmarr6 | \n",
       "|---|---|---|---|---|---|\n",
       "| 1 | 0 | 0 | 0 | 0 | 0 | 1 | 0 | 0 | 0 | 1 | 0 | 0 | 0 | 0 | 0 | 0 | 1 | 0 | \n",
       "| 2 | 0 | 0 | 0 | 0 | 0 | 1 | 0 | 0 | 0 | 0 | 1 | 0 | 0 | 0 | 1 | 0 | 0 | 0 | \n",
       "| 3 | 3 | 0 | 0 | 0 | 0 | 1 | 0 | 0 | 0 | 1 | 0 | 0 | 0 | 1 | 0 | 0 | 0 | 0 | \n",
       "| 4 | 0 | 1 | 0 | 0 | 0 | 1 | 0 | 1 | 0 | 0 | 0 | 0 | 0 | 0 | 0 | 0 | 0 | 1 | \n",
       "| 5 | 3 | 1 | 0 | 0 | 0 | 0 | 1 | 0 | 0 | 1 | 0 | 0 | 0 | 0 | 1 | 0 | 0 | 0 | \n",
       "| 6 | 0 | 1 | 0 | 0 | 0 | 0 | 1 | 0 | 0 | 0 | 0 | 1 | 0 | 0 | 0 | 0 | 0 | 1 | \n",
       "\n",
       "\n"
      ],
      "text/plain": [
       "  X naffairs kids vryunhap unhap avgmarr hapavg vryhap antirel notrel slghtrel\n",
       "1 1 0        0    0        0     0       1      0      0       0      1       \n",
       "2 2 0        0    0        0     0       1      0      0       0      0       \n",
       "3 3 3        0    0        0     0       1      0      0       0      1       \n",
       "4 4 0        1    0        0     0       1      0      1       0      0       \n",
       "5 5 3        1    0        0     0       0      1      0       0      1       \n",
       "6 6 0        1    0        0     0       0      1      0       0      0       \n",
       "  smerel vryrel yrsmarr1 yrsmarr2 yrsmarr3 yrsmarr4 yrsmarr5 yrsmarr6\n",
       "1 0      0      0        0        0        0        1        0       \n",
       "2 1      0      0        0        1        0        0        0       \n",
       "3 0      0      0        1        0        0        0        0       \n",
       "4 0      0      0        0        0        0        0        1       \n",
       "5 0      0      0        0        1        0        0        0       \n",
       "6 0      1      0        0        0        0        0        1       "
      ]
     },
     "metadata": {},
     "output_type": "display_data"
    }
   ],
   "source": [
    "head(affairs_df)"
   ]
  },
  {
   "cell_type": "code",
   "execution_count": 17,
   "metadata": {},
   "outputs": [],
   "source": [
    "aggregate_vals <- function(row) {\n",
    "    return(which(row == 1))\n",
    "}\n",
    "\n",
    "cols_to_levels <- function(data, cols) {\n",
    "    data_subset <- data[cols]\n",
    "    return(\n",
    "        apply(data_subset, 1, aggregate_vals)\n",
    "    )\n",
    "}\n",
    "\n",
    "happy_cols <- c(\"vryunhap\", \"unhap\", \"avgmarr\", \"hapavg\", \"vryhap\")\n",
    "affairs_df[\"Happiness\"] <- cols_to_levels(\n",
    "    affairs_df\n",
    "    , happy_cols\n",
    ")"
   ]
  },
  {
   "cell_type": "code",
   "execution_count": 18,
   "metadata": {},
   "outputs": [
    {
     "data": {
      "text/html": [
       "<table>\n",
       "<thead><tr><th scope=col>X</th><th scope=col>naffairs</th><th scope=col>kids</th><th scope=col>vryunhap</th><th scope=col>unhap</th><th scope=col>avgmarr</th><th scope=col>hapavg</th><th scope=col>vryhap</th><th scope=col>antirel</th><th scope=col>notrel</th><th scope=col>slghtrel</th><th scope=col>smerel</th><th scope=col>vryrel</th><th scope=col>yrsmarr1</th><th scope=col>yrsmarr2</th><th scope=col>yrsmarr3</th><th scope=col>yrsmarr4</th><th scope=col>yrsmarr5</th><th scope=col>yrsmarr6</th><th scope=col>Happiness</th></tr></thead>\n",
       "<tbody>\n",
       "\t<tr><td>1</td><td>0</td><td>0</td><td>0</td><td>0</td><td>0</td><td>1</td><td>0</td><td>0</td><td>0</td><td>1</td><td>0</td><td>0</td><td>0</td><td>0</td><td>0</td><td>0</td><td>1</td><td>0</td><td>4</td></tr>\n",
       "\t<tr><td>2</td><td>0</td><td>0</td><td>0</td><td>0</td><td>0</td><td>1</td><td>0</td><td>0</td><td>0</td><td>0</td><td>1</td><td>0</td><td>0</td><td>0</td><td>1</td><td>0</td><td>0</td><td>0</td><td>4</td></tr>\n",
       "\t<tr><td>3</td><td>3</td><td>0</td><td>0</td><td>0</td><td>0</td><td>1</td><td>0</td><td>0</td><td>0</td><td>1</td><td>0</td><td>0</td><td>0</td><td>1</td><td>0</td><td>0</td><td>0</td><td>0</td><td>4</td></tr>\n",
       "\t<tr><td>4</td><td>0</td><td>1</td><td>0</td><td>0</td><td>0</td><td>1</td><td>0</td><td>1</td><td>0</td><td>0</td><td>0</td><td>0</td><td>0</td><td>0</td><td>0</td><td>0</td><td>0</td><td>1</td><td>4</td></tr>\n",
       "\t<tr><td>5</td><td>3</td><td>1</td><td>0</td><td>0</td><td>0</td><td>0</td><td>1</td><td>0</td><td>0</td><td>1</td><td>0</td><td>0</td><td>0</td><td>0</td><td>1</td><td>0</td><td>0</td><td>0</td><td>5</td></tr>\n",
       "\t<tr><td>6</td><td>0</td><td>1</td><td>0</td><td>0</td><td>0</td><td>0</td><td>1</td><td>0</td><td>0</td><td>0</td><td>0</td><td>1</td><td>0</td><td>0</td><td>0</td><td>0</td><td>0</td><td>1</td><td>5</td></tr>\n",
       "</tbody>\n",
       "</table>\n"
      ],
      "text/latex": [
       "\\begin{tabular}{r|llllllllllllllllllll}\n",
       " X & naffairs & kids & vryunhap & unhap & avgmarr & hapavg & vryhap & antirel & notrel & slghtrel & smerel & vryrel & yrsmarr1 & yrsmarr2 & yrsmarr3 & yrsmarr4 & yrsmarr5 & yrsmarr6 & Happiness\\\\\n",
       "\\hline\n",
       "\t 1 & 0 & 0 & 0 & 0 & 0 & 1 & 0 & 0 & 0 & 1 & 0 & 0 & 0 & 0 & 0 & 0 & 1 & 0 & 4\\\\\n",
       "\t 2 & 0 & 0 & 0 & 0 & 0 & 1 & 0 & 0 & 0 & 0 & 1 & 0 & 0 & 0 & 1 & 0 & 0 & 0 & 4\\\\\n",
       "\t 3 & 3 & 0 & 0 & 0 & 0 & 1 & 0 & 0 & 0 & 1 & 0 & 0 & 0 & 1 & 0 & 0 & 0 & 0 & 4\\\\\n",
       "\t 4 & 0 & 1 & 0 & 0 & 0 & 1 & 0 & 1 & 0 & 0 & 0 & 0 & 0 & 0 & 0 & 0 & 0 & 1 & 4\\\\\n",
       "\t 5 & 3 & 1 & 0 & 0 & 0 & 0 & 1 & 0 & 0 & 1 & 0 & 0 & 0 & 0 & 1 & 0 & 0 & 0 & 5\\\\\n",
       "\t 6 & 0 & 1 & 0 & 0 & 0 & 0 & 1 & 0 & 0 & 0 & 0 & 1 & 0 & 0 & 0 & 0 & 0 & 1 & 5\\\\\n",
       "\\end{tabular}\n"
      ],
      "text/markdown": [
       "\n",
       "X | naffairs | kids | vryunhap | unhap | avgmarr | hapavg | vryhap | antirel | notrel | slghtrel | smerel | vryrel | yrsmarr1 | yrsmarr2 | yrsmarr3 | yrsmarr4 | yrsmarr5 | yrsmarr6 | Happiness | \n",
       "|---|---|---|---|---|---|\n",
       "| 1 | 0 | 0 | 0 | 0 | 0 | 1 | 0 | 0 | 0 | 1 | 0 | 0 | 0 | 0 | 0 | 0 | 1 | 0 | 4 | \n",
       "| 2 | 0 | 0 | 0 | 0 | 0 | 1 | 0 | 0 | 0 | 0 | 1 | 0 | 0 | 0 | 1 | 0 | 0 | 0 | 4 | \n",
       "| 3 | 3 | 0 | 0 | 0 | 0 | 1 | 0 | 0 | 0 | 1 | 0 | 0 | 0 | 1 | 0 | 0 | 0 | 0 | 4 | \n",
       "| 4 | 0 | 1 | 0 | 0 | 0 | 1 | 0 | 1 | 0 | 0 | 0 | 0 | 0 | 0 | 0 | 0 | 0 | 1 | 4 | \n",
       "| 5 | 3 | 1 | 0 | 0 | 0 | 0 | 1 | 0 | 0 | 1 | 0 | 0 | 0 | 0 | 1 | 0 | 0 | 0 | 5 | \n",
       "| 6 | 0 | 1 | 0 | 0 | 0 | 0 | 1 | 0 | 0 | 0 | 0 | 1 | 0 | 0 | 0 | 0 | 0 | 1 | 5 | \n",
       "\n",
       "\n"
      ],
      "text/plain": [
       "  X naffairs kids vryunhap unhap avgmarr hapavg vryhap antirel notrel slghtrel\n",
       "1 1 0        0    0        0     0       1      0      0       0      1       \n",
       "2 2 0        0    0        0     0       1      0      0       0      0       \n",
       "3 3 3        0    0        0     0       1      0      0       0      1       \n",
       "4 4 0        1    0        0     0       1      0      1       0      0       \n",
       "5 5 3        1    0        0     0       0      1      0       0      1       \n",
       "6 6 0        1    0        0     0       0      1      0       0      0       \n",
       "  smerel vryrel yrsmarr1 yrsmarr2 yrsmarr3 yrsmarr4 yrsmarr5 yrsmarr6 Happiness\n",
       "1 0      0      0        0        0        0        1        0        4        \n",
       "2 1      0      0        0        1        0        0        0        4        \n",
       "3 0      0      0        1        0        0        0        0        4        \n",
       "4 0      0      0        0        0        0        0        1        4        \n",
       "5 0      0      0        0        1        0        0        0        5        \n",
       "6 0      1      0        0        0        0        0        1        5        "
      ]
     },
     "metadata": {},
     "output_type": "display_data"
    }
   ],
   "source": [
    "head(affairs_df)"
   ]
  },
  {
   "cell_type": "code",
   "execution_count": 19,
   "metadata": {},
   "outputs": [
    {
     "data": {
      "text/html": [
       "<table>\n",
       "<thead><tr><th scope=col>X</th><th scope=col>naffairs</th><th scope=col>kids</th><th scope=col>antirel</th><th scope=col>notrel</th><th scope=col>slghtrel</th><th scope=col>smerel</th><th scope=col>vryrel</th><th scope=col>yrsmarr1</th><th scope=col>yrsmarr2</th><th scope=col>yrsmarr3</th><th scope=col>yrsmarr4</th><th scope=col>yrsmarr5</th><th scope=col>yrsmarr6</th><th scope=col>Happiness</th></tr></thead>\n",
       "<tbody>\n",
       "\t<tr><td>1</td><td>0</td><td>0</td><td>0</td><td>0</td><td>1</td><td>0</td><td>0</td><td>0</td><td>0</td><td>0</td><td>0</td><td>1</td><td>0</td><td>4</td></tr>\n",
       "\t<tr><td>2</td><td>0</td><td>0</td><td>0</td><td>0</td><td>0</td><td>1</td><td>0</td><td>0</td><td>0</td><td>1</td><td>0</td><td>0</td><td>0</td><td>4</td></tr>\n",
       "\t<tr><td>3</td><td>3</td><td>0</td><td>0</td><td>0</td><td>1</td><td>0</td><td>0</td><td>0</td><td>1</td><td>0</td><td>0</td><td>0</td><td>0</td><td>4</td></tr>\n",
       "\t<tr><td>4</td><td>0</td><td>1</td><td>1</td><td>0</td><td>0</td><td>0</td><td>0</td><td>0</td><td>0</td><td>0</td><td>0</td><td>0</td><td>1</td><td>4</td></tr>\n",
       "\t<tr><td>5</td><td>3</td><td>1</td><td>0</td><td>0</td><td>1</td><td>0</td><td>0</td><td>0</td><td>0</td><td>1</td><td>0</td><td>0</td><td>0</td><td>5</td></tr>\n",
       "\t<tr><td>6</td><td>0</td><td>1</td><td>0</td><td>0</td><td>0</td><td>0</td><td>1</td><td>0</td><td>0</td><td>0</td><td>0</td><td>0</td><td>1</td><td>5</td></tr>\n",
       "</tbody>\n",
       "</table>\n"
      ],
      "text/latex": [
       "\\begin{tabular}{r|lllllllllllllll}\n",
       " X & naffairs & kids & antirel & notrel & slghtrel & smerel & vryrel & yrsmarr1 & yrsmarr2 & yrsmarr3 & yrsmarr4 & yrsmarr5 & yrsmarr6 & Happiness\\\\\n",
       "\\hline\n",
       "\t 1 & 0 & 0 & 0 & 0 & 1 & 0 & 0 & 0 & 0 & 0 & 0 & 1 & 0 & 4\\\\\n",
       "\t 2 & 0 & 0 & 0 & 0 & 0 & 1 & 0 & 0 & 0 & 1 & 0 & 0 & 0 & 4\\\\\n",
       "\t 3 & 3 & 0 & 0 & 0 & 1 & 0 & 0 & 0 & 1 & 0 & 0 & 0 & 0 & 4\\\\\n",
       "\t 4 & 0 & 1 & 1 & 0 & 0 & 0 & 0 & 0 & 0 & 0 & 0 & 0 & 1 & 4\\\\\n",
       "\t 5 & 3 & 1 & 0 & 0 & 1 & 0 & 0 & 0 & 0 & 1 & 0 & 0 & 0 & 5\\\\\n",
       "\t 6 & 0 & 1 & 0 & 0 & 0 & 0 & 1 & 0 & 0 & 0 & 0 & 0 & 1 & 5\\\\\n",
       "\\end{tabular}\n"
      ],
      "text/markdown": [
       "\n",
       "X | naffairs | kids | antirel | notrel | slghtrel | smerel | vryrel | yrsmarr1 | yrsmarr2 | yrsmarr3 | yrsmarr4 | yrsmarr5 | yrsmarr6 | Happiness | \n",
       "|---|---|---|---|---|---|\n",
       "| 1 | 0 | 0 | 0 | 0 | 1 | 0 | 0 | 0 | 0 | 0 | 0 | 1 | 0 | 4 | \n",
       "| 2 | 0 | 0 | 0 | 0 | 0 | 1 | 0 | 0 | 0 | 1 | 0 | 0 | 0 | 4 | \n",
       "| 3 | 3 | 0 | 0 | 0 | 1 | 0 | 0 | 0 | 1 | 0 | 0 | 0 | 0 | 4 | \n",
       "| 4 | 0 | 1 | 1 | 0 | 0 | 0 | 0 | 0 | 0 | 0 | 0 | 0 | 1 | 4 | \n",
       "| 5 | 3 | 1 | 0 | 0 | 1 | 0 | 0 | 0 | 0 | 1 | 0 | 0 | 0 | 5 | \n",
       "| 6 | 0 | 1 | 0 | 0 | 0 | 0 | 1 | 0 | 0 | 0 | 0 | 0 | 1 | 5 | \n",
       "\n",
       "\n"
      ],
      "text/plain": [
       "  X naffairs kids antirel notrel slghtrel smerel vryrel yrsmarr1 yrsmarr2\n",
       "1 1 0        0    0       0      1        0      0      0        0       \n",
       "2 2 0        0    0       0      0        1      0      0        0       \n",
       "3 3 3        0    0       0      1        0      0      0        1       \n",
       "4 4 0        1    1       0      0        0      0      0        0       \n",
       "5 5 3        1    0       0      1        0      0      0        0       \n",
       "6 6 0        1    0       0      0        0      1      0        0       \n",
       "  yrsmarr3 yrsmarr4 yrsmarr5 yrsmarr6 Happiness\n",
       "1 0        0        1        0        4        \n",
       "2 1        0        0        0        4        \n",
       "3 0        0        0        0        4        \n",
       "4 0        0        0        1        4        \n",
       "5 1        0        0        0        5        \n",
       "6 0        0        0        1        5        "
      ]
     },
     "metadata": {},
     "output_type": "display_data"
    }
   ],
   "source": [
    "affairs_df[happy_cols] <- NULL\n",
    "head(affairs_df)"
   ]
  },
  {
   "cell_type": "code",
   "execution_count": 20,
   "metadata": {},
   "outputs": [
    {
     "data": {
      "text/html": [
       "<table>\n",
       "<thead><tr><th scope=col>X</th><th scope=col>naffairs</th><th scope=col>kids</th><th scope=col>antirel</th><th scope=col>notrel</th><th scope=col>slghtrel</th><th scope=col>smerel</th><th scope=col>vryrel</th><th scope=col>Happiness</th><th scope=col>Years</th></tr></thead>\n",
       "<tbody>\n",
       "\t<tr><td>1</td><td>0</td><td>0</td><td>0</td><td>0</td><td>1</td><td>0</td><td>0</td><td>4</td><td>5</td></tr>\n",
       "\t<tr><td>2</td><td>0</td><td>0</td><td>0</td><td>0</td><td>0</td><td>1</td><td>0</td><td>4</td><td>3</td></tr>\n",
       "\t<tr><td>3</td><td>3</td><td>0</td><td>0</td><td>0</td><td>1</td><td>0</td><td>0</td><td>4</td><td>2</td></tr>\n",
       "\t<tr><td>4</td><td>0</td><td>1</td><td>1</td><td>0</td><td>0</td><td>0</td><td>0</td><td>4</td><td>6</td></tr>\n",
       "\t<tr><td>5</td><td>3</td><td>1</td><td>0</td><td>0</td><td>1</td><td>0</td><td>0</td><td>5</td><td>3</td></tr>\n",
       "\t<tr><td>6</td><td>0</td><td>1</td><td>0</td><td>0</td><td>0</td><td>0</td><td>1</td><td>5</td><td>6</td></tr>\n",
       "</tbody>\n",
       "</table>\n"
      ],
      "text/latex": [
       "\\begin{tabular}{r|llllllllll}\n",
       " X & naffairs & kids & antirel & notrel & slghtrel & smerel & vryrel & Happiness & Years\\\\\n",
       "\\hline\n",
       "\t 1 & 0 & 0 & 0 & 0 & 1 & 0 & 0 & 4 & 5\\\\\n",
       "\t 2 & 0 & 0 & 0 & 0 & 0 & 1 & 0 & 4 & 3\\\\\n",
       "\t 3 & 3 & 0 & 0 & 0 & 1 & 0 & 0 & 4 & 2\\\\\n",
       "\t 4 & 0 & 1 & 1 & 0 & 0 & 0 & 0 & 4 & 6\\\\\n",
       "\t 5 & 3 & 1 & 0 & 0 & 1 & 0 & 0 & 5 & 3\\\\\n",
       "\t 6 & 0 & 1 & 0 & 0 & 0 & 0 & 1 & 5 & 6\\\\\n",
       "\\end{tabular}\n"
      ],
      "text/markdown": [
       "\n",
       "X | naffairs | kids | antirel | notrel | slghtrel | smerel | vryrel | Happiness | Years | \n",
       "|---|---|---|---|---|---|\n",
       "| 1 | 0 | 0 | 0 | 0 | 1 | 0 | 0 | 4 | 5 | \n",
       "| 2 | 0 | 0 | 0 | 0 | 0 | 1 | 0 | 4 | 3 | \n",
       "| 3 | 3 | 0 | 0 | 0 | 1 | 0 | 0 | 4 | 2 | \n",
       "| 4 | 0 | 1 | 1 | 0 | 0 | 0 | 0 | 4 | 6 | \n",
       "| 5 | 3 | 1 | 0 | 0 | 1 | 0 | 0 | 5 | 3 | \n",
       "| 6 | 0 | 1 | 0 | 0 | 0 | 0 | 1 | 5 | 6 | \n",
       "\n",
       "\n"
      ],
      "text/plain": [
       "  X naffairs kids antirel notrel slghtrel smerel vryrel Happiness Years\n",
       "1 1 0        0    0       0      1        0      0      4         5    \n",
       "2 2 0        0    0       0      0        1      0      4         3    \n",
       "3 3 3        0    0       0      1        0      0      4         2    \n",
       "4 4 0        1    1       0      0        0      0      4         6    \n",
       "5 5 3        1    0       0      1        0      0      5         3    \n",
       "6 6 0        1    0       0      0        0      1      5         6    "
      ]
     },
     "metadata": {},
     "output_type": "display_data"
    }
   ],
   "source": [
    "years_cols <- c(\"yrsmarr1\", \"yrsmarr2\", \"yrsmarr3\", \"yrsmarr4\", \"yrsmarr5\", \"yrsmarr6\")\n",
    "affairs_df[\"Years\"] <- cols_to_levels(\n",
    "    affairs_df\n",
    "    , years_cols\n",
    ")\n",
    "affairs_df[years_cols] <- NULL\n",
    "head(affairs_df)"
   ]
  },
  {
   "cell_type": "code",
   "execution_count": 21,
   "metadata": {},
   "outputs": [
    {
     "data": {
      "text/html": [
       "<table>\n",
       "<thead><tr><th scope=col>X</th><th scope=col>naffairs</th><th scope=col>kids</th><th scope=col>Happiness</th><th scope=col>Years</th><th scope=col>Religion</th></tr></thead>\n",
       "<tbody>\n",
       "\t<tr><td>1</td><td>0</td><td>0</td><td>4</td><td>5</td><td>3</td></tr>\n",
       "\t<tr><td>2</td><td>0</td><td>0</td><td>4</td><td>3</td><td>4</td></tr>\n",
       "\t<tr><td>3</td><td>3</td><td>0</td><td>4</td><td>2</td><td>3</td></tr>\n",
       "\t<tr><td>4</td><td>0</td><td>1</td><td>4</td><td>6</td><td>1</td></tr>\n",
       "\t<tr><td>5</td><td>3</td><td>1</td><td>5</td><td>3</td><td>3</td></tr>\n",
       "\t<tr><td>6</td><td>0</td><td>1</td><td>5</td><td>6</td><td>5</td></tr>\n",
       "</tbody>\n",
       "</table>\n"
      ],
      "text/latex": [
       "\\begin{tabular}{r|llllll}\n",
       " X & naffairs & kids & Happiness & Years & Religion\\\\\n",
       "\\hline\n",
       "\t 1 & 0 & 0 & 4 & 5 & 3\\\\\n",
       "\t 2 & 0 & 0 & 4 & 3 & 4\\\\\n",
       "\t 3 & 3 & 0 & 4 & 2 & 3\\\\\n",
       "\t 4 & 0 & 1 & 4 & 6 & 1\\\\\n",
       "\t 5 & 3 & 1 & 5 & 3 & 3\\\\\n",
       "\t 6 & 0 & 1 & 5 & 6 & 5\\\\\n",
       "\\end{tabular}\n"
      ],
      "text/markdown": [
       "\n",
       "X | naffairs | kids | Happiness | Years | Religion | \n",
       "|---|---|---|---|---|---|\n",
       "| 1 | 0 | 0 | 4 | 5 | 3 | \n",
       "| 2 | 0 | 0 | 4 | 3 | 4 | \n",
       "| 3 | 3 | 0 | 4 | 2 | 3 | \n",
       "| 4 | 0 | 1 | 4 | 6 | 1 | \n",
       "| 5 | 3 | 1 | 5 | 3 | 3 | \n",
       "| 6 | 0 | 1 | 5 | 6 | 5 | \n",
       "\n",
       "\n"
      ],
      "text/plain": [
       "  X naffairs kids Happiness Years Religion\n",
       "1 1 0        0    4         5     3       \n",
       "2 2 0        0    4         3     4       \n",
       "3 3 3        0    4         2     3       \n",
       "4 4 0        1    4         6     1       \n",
       "5 5 3        1    5         3     3       \n",
       "6 6 0        1    5         6     5       "
      ]
     },
     "metadata": {},
     "output_type": "display_data"
    }
   ],
   "source": [
    "rel_cols <- c(\"antirel\", \"notrel\", \"slghtrel\", \"smerel\", \"vryrel\")\n",
    "affairs_df[\"Religion\"] <- cols_to_levels(\n",
    "    affairs_df\n",
    "    , rel_cols\n",
    ")\n",
    "affairs_df[rel_cols] <- NULL\n",
    "head(affairs_df)"
   ]
  },
  {
   "cell_type": "code",
   "execution_count": 22,
   "metadata": {},
   "outputs": [
    {
     "data": {
      "text/plain": [
       "              Happiness Level\n",
       "Religion Level  1  2  3  4  5\n",
       "             1  1  3  5 17 22\n",
       "             2  5 24 25 51 59\n",
       "             3  4 16 22 41 46\n",
       "             4  4 17 30 64 75\n",
       "             5  2  6 11 21 30"
      ]
     },
     "metadata": {},
     "output_type": "display_data"
    }
   ],
   "source": [
    "rel_happ <- table(\n",
    "    affairs_df[[\"Religion\"]]\n",
    "    , affairs_df[[\"Happiness\"]]\n",
    "    , dnn = c(\"Religion Level\", \"Happiness Level\")\n",
    ")\n",
    "rel_happ"
   ]
  },
  {
   "cell_type": "code",
   "execution_count": 23,
   "metadata": {},
   "outputs": [
    {
     "data": {
      "text/plain": [
       "              Happiness Level\n",
       "Religion Level    1    2    3    4    5\n",
       "             1 0.00 0.00 0.01 0.03 0.04\n",
       "             2 0.01 0.04 0.04 0.08 0.10\n",
       "             3 0.01 0.03 0.04 0.07 0.08\n",
       "             4 0.01 0.03 0.05 0.11 0.12\n",
       "             5 0.00 0.01 0.02 0.03 0.05"
      ]
     },
     "metadata": {},
     "output_type": "display_data"
    }
   ],
   "source": [
    "rel_happ <- round(rel_happ / nrow(affairs_df), digits = 2)\n",
    "rel_happ"
   ]
  },
  {
   "cell_type": "code",
   "execution_count": 24,
   "metadata": {},
   "outputs": [
    {
     "data": {
      "image/png": "[encoded data removed]",
      "text/plain": [
       "plot without title"
      ]
     },
     "metadata": {},
     "output_type": "display_data"
    }
   ],
   "source": [
    "image(1:ncol(rel_happ), 1:nrow(rel_happ), t(rel_happ), col = heat.colors(256), axes = FALSE)\n",
    "axis(1, 1:ncol(rel_happ), colnames(rel_happ))\n",
    "axis(2, 1:nrow(rel_happ), rownames(rel_happ))\n",
    "for (x in 1:ncol(rel_happ))\n",
    "  for (y in 1:nrow(rel_happ))\n",
    "    text(x, y, rel_happ[y,x])"
   ]
  },
  {
   "cell_type": "code",
   "execution_count": 25,
   "metadata": {},
   "outputs": [
    {
     "data": {
      "text/html": [
       "<table>\n",
       "<thead><tr><th scope=col>X</th><th scope=col>naffairs</th><th scope=col>kids</th><th scope=col>Happiness</th><th scope=col>Years</th><th scope=col>Religion</th></tr></thead>\n",
       "<tbody>\n",
       "\t<tr><td>1</td><td>0</td><td>0</td><td>4</td><td>5</td><td>3</td></tr>\n",
       "\t<tr><td>2</td><td>0</td><td>0</td><td>4</td><td>3</td><td>4</td></tr>\n",
       "\t<tr><td>3</td><td>3</td><td>0</td><td>4</td><td>2</td><td>3</td></tr>\n",
       "\t<tr><td>4</td><td>0</td><td>1</td><td>4</td><td>6</td><td>1</td></tr>\n",
       "\t<tr><td>5</td><td>3</td><td>1</td><td>5</td><td>3</td><td>3</td></tr>\n",
       "\t<tr><td>6</td><td>0</td><td>1</td><td>5</td><td>6</td><td>5</td></tr>\n",
       "</tbody>\n",
       "</table>\n"
      ],
      "text/latex": [
       "\\begin{tabular}{r|llllll}\n",
       " X & naffairs & kids & Happiness & Years & Religion\\\\\n",
       "\\hline\n",
       "\t 1 & 0 & 0 & 4 & 5 & 3\\\\\n",
       "\t 2 & 0 & 0 & 4 & 3 & 4\\\\\n",
       "\t 3 & 3 & 0 & 4 & 2 & 3\\\\\n",
       "\t 4 & 0 & 1 & 4 & 6 & 1\\\\\n",
       "\t 5 & 3 & 1 & 5 & 3 & 3\\\\\n",
       "\t 6 & 0 & 1 & 5 & 6 & 5\\\\\n",
       "\\end{tabular}\n"
      ],
      "text/markdown": [
       "\n",
       "X | naffairs | kids | Happiness | Years | Religion | \n",
       "|---|---|---|---|---|---|\n",
       "| 1 | 0 | 0 | 4 | 5 | 3 | \n",
       "| 2 | 0 | 0 | 4 | 3 | 4 | \n",
       "| 3 | 3 | 0 | 4 | 2 | 3 | \n",
       "| 4 | 0 | 1 | 4 | 6 | 1 | \n",
       "| 5 | 3 | 1 | 5 | 3 | 3 | \n",
       "| 6 | 0 | 1 | 5 | 6 | 5 | \n",
       "\n",
       "\n"
      ],
      "text/plain": [
       "  X naffairs kids Happiness Years Religion\n",
       "1 1 0        0    4         5     3       \n",
       "2 2 0        0    4         3     4       \n",
       "3 3 3        0    4         2     3       \n",
       "4 4 0        1    4         6     1       \n",
       "5 5 3        1    5         3     3       \n",
       "6 6 0        1    5         6     5       "
      ]
     },
     "metadata": {},
     "output_type": "display_data"
    }
   ],
   "source": [
    "head(affairs_df)"
   ]
  },
  {
   "cell_type": "code",
   "execution_count": 26,
   "metadata": {},
   "outputs": [
    {
     "data": {
      "text/plain": [
       "affairs_df[[\"Years\"]]: 1\n",
       "$kid_ratio\n",
       "[1] 0.1730769\n",
       "\n",
       "$affairs_ratio\n",
       "[1] 0.09615385\n",
       "\n",
       "------------------------------------------------------------ \n",
       "affairs_df[[\"Years\"]]: 2\n",
       "$kid_ratio\n",
       "[1] 0.25\n",
       "\n",
       "$affairs_ratio\n",
       "[1] 0.1363636\n",
       "\n",
       "------------------------------------------------------------ \n",
       "affairs_df[[\"Years\"]]: 3\n",
       "$kid_ratio\n",
       "[1] 0.6571429\n",
       "\n",
       "$affairs_ratio\n",
       "[1] 0.2571429\n",
       "\n",
       "------------------------------------------------------------ \n",
       "affairs_df[[\"Years\"]]: 4\n",
       "$kid_ratio\n",
       "[1] 0.8658537\n",
       "\n",
       "$affairs_ratio\n",
       "[1] 0.2804878\n",
       "\n",
       "------------------------------------------------------------ \n",
       "affairs_df[[\"Years\"]]: 5\n",
       "$kid_ratio\n",
       "[1] 0.9\n",
       "\n",
       "$affairs_ratio\n",
       "[1] 0.3\n",
       "\n",
       "------------------------------------------------------------ \n",
       "affairs_df[[\"Years\"]]: 6\n",
       "$kid_ratio\n",
       "[1] 0.9607843\n",
       "\n",
       "$affairs_ratio\n",
       "[1] 0.3039216\n"
      ]
     },
     "metadata": {},
     "output_type": "display_data"
    }
   ],
   "source": [
    "output <- by(\n",
    "    affairs_df\n",
    "    , affairs_df[[\"Years\"]]\n",
    "    , function(x) {\n",
    "        list(\n",
    "            kid_ratio = sum(x[[\"kids\"]]) / nrow(x)\n",
    "            , affairs_ratio = sum(x[[\"naffairs\"]] > 0) / nrow(x)\n",
    "        )\n",
    "    }\n",
    ")\n",
    "output"
   ]
  },
  {
   "cell_type": "code",
   "execution_count": 27,
   "metadata": {},
   "outputs": [
    {
     "data": {
      "text/html": [
       "<table>\n",
       "<thead><tr><th></th><th scope=col>kid_ratio</th><th scope=col>affairs_ratio</th></tr></thead>\n",
       "<tbody>\n",
       "\t<tr><th scope=row>1</th><td>0.1730769 </td><td>0.09615385</td></tr>\n",
       "\t<tr><th scope=row>2</th><td>0.25     </td><td>0.1363636</td></tr>\n",
       "\t<tr><th scope=row>3</th><td>0.6571429</td><td>0.2571429</td></tr>\n",
       "\t<tr><th scope=row>4</th><td>0.8658537</td><td>0.2804878</td></tr>\n",
       "\t<tr><th scope=row>5</th><td>0.9</td><td>0.3</td></tr>\n",
       "\t<tr><th scope=row>6</th><td>0.9607843</td><td>0.3039216</td></tr>\n",
       "</tbody>\n",
       "</table>\n"
      ],
      "text/latex": [
       "\\begin{tabular}{r|ll}\n",
       "  & kid\\_ratio & affairs\\_ratio\\\\\n",
       "\\hline\n",
       "\t1 & 0.1730769  & 0.09615385\\\\\n",
       "\t2 & 0.25      & 0.1363636\\\\\n",
       "\t3 & 0.6571429 & 0.2571429\\\\\n",
       "\t4 & 0.8658537 & 0.2804878\\\\\n",
       "\t5 & 0.9 & 0.3\\\\\n",
       "\t6 & 0.9607843 & 0.3039216\\\\\n",
       "\\end{tabular}\n"
      ],
      "text/markdown": [
       "\n",
       "| <!--/--> | kid_ratio | affairs_ratio | \n",
       "|---|---|---|---|---|---|\n",
       "| 1 | 0.1730769  | 0.09615385 | \n",
       "| 2 | 0.25      | 0.1363636 | \n",
       "| 3 | 0.6571429 | 0.2571429 | \n",
       "| 4 | 0.8658537 | 0.2804878 | \n",
       "| 5 | 0.9 | 0.3 | \n",
       "| 6 | 0.9607843 | 0.3039216 | \n",
       "\n",
       "\n"
      ],
      "text/plain": [
       "  kid_ratio affairs_ratio\n",
       "1 0.1730769 0.09615385   \n",
       "2 0.25      0.1363636    \n",
       "3 0.6571429 0.2571429    \n",
       "4 0.8658537 0.2804878    \n",
       "5 0.9       0.3          \n",
       "6 0.9607843 0.3039216    "
      ]
     },
     "metadata": {},
     "output_type": "display_data"
    }
   ],
   "source": [
    "do.call(rbind, output)"
   ]
  },
  {
   "cell_type": "code",
   "execution_count": 28,
   "metadata": {},
   "outputs": [
    {
     "data": {
      "text/html": [
       "<table>\n",
       "<tbody>\n",
       "\t<tr><td> 1</td><td> 2</td><td> 3</td><td> 4</td><td> 5</td><td> 6</td><td> 7</td><td> 8</td><td> 9</td><td>10</td></tr>\n",
       "\t<tr><td>11</td><td>12</td><td>13</td><td>14</td><td>15</td><td>16</td><td>17</td><td>18</td><td>19</td><td>20</td></tr>\n",
       "</tbody>\n",
       "</table>\n"
      ],
      "text/latex": [
       "\\begin{tabular}{llllllllll}\n",
       "\t  1 &  2 &  3 &  4 &  5 &  6 &  7 &  8 &  9 & 10\\\\\n",
       "\t 11 & 12 & 13 & 14 & 15 & 16 & 17 & 18 & 19 & 20\\\\\n",
       "\\end{tabular}\n"
      ],
      "text/markdown": [
       "\n",
       "|  1 |  2 |  3 |  4 |  5 |  6 |  7 |  8 |  9 | 10 | \n",
       "| 11 | 12 | 13 | 14 | 15 | 16 | 17 | 18 | 19 | 20 | \n",
       "\n",
       "\n"
      ],
      "text/plain": [
       "     [,1] [,2] [,3] [,4] [,5] [,6] [,7] [,8] [,9] [,10]\n",
       "[1,]  1    2    3    4    5    6    7    8    9   10   \n",
       "[2,] 11   12   13   14   15   16   17   18   19   20   "
      ]
     },
     "metadata": {},
     "output_type": "display_data"
    }
   ],
   "source": [
    "rbind(1:10, 11:20)"
   ]
  },
  {
   "cell_type": "code",
   "execution_count": 29,
   "metadata": {},
   "outputs": [
    {
     "data": {
      "text/html": [
       "<table>\n",
       "<tbody>\n",
       "\t<tr><td> 1</td><td>11</td></tr>\n",
       "\t<tr><td> 2</td><td>12</td></tr>\n",
       "\t<tr><td> 3</td><td>13</td></tr>\n",
       "\t<tr><td> 4</td><td>14</td></tr>\n",
       "\t<tr><td> 5</td><td>15</td></tr>\n",
       "\t<tr><td> 6</td><td>16</td></tr>\n",
       "\t<tr><td> 7</td><td>17</td></tr>\n",
       "\t<tr><td> 8</td><td>18</td></tr>\n",
       "\t<tr><td> 9</td><td>19</td></tr>\n",
       "\t<tr><td>10</td><td>20</td></tr>\n",
       "</tbody>\n",
       "</table>\n"
      ],
      "text/latex": [
       "\\begin{tabular}{ll}\n",
       "\t  1 & 11\\\\\n",
       "\t  2 & 12\\\\\n",
       "\t  3 & 13\\\\\n",
       "\t  4 & 14\\\\\n",
       "\t  5 & 15\\\\\n",
       "\t  6 & 16\\\\\n",
       "\t  7 & 17\\\\\n",
       "\t  8 & 18\\\\\n",
       "\t  9 & 19\\\\\n",
       "\t 10 & 20\\\\\n",
       "\\end{tabular}\n"
      ],
      "text/markdown": [
       "\n",
       "|  1 | 11 | \n",
       "|  2 | 12 | \n",
       "|  3 | 13 | \n",
       "|  4 | 14 | \n",
       "|  5 | 15 | \n",
       "|  6 | 16 | \n",
       "|  7 | 17 | \n",
       "|  8 | 18 | \n",
       "|  9 | 19 | \n",
       "| 10 | 20 | \n",
       "\n",
       "\n"
      ],
      "text/plain": [
       "      [,1] [,2]\n",
       " [1,]  1   11  \n",
       " [2,]  2   12  \n",
       " [3,]  3   13  \n",
       " [4,]  4   14  \n",
       " [5,]  5   15  \n",
       " [6,]  6   16  \n",
       " [7,]  7   17  \n",
       " [8,]  8   18  \n",
       " [9,]  9   19  \n",
       "[10,] 10   20  "
      ]
     },
     "metadata": {},
     "output_type": "display_data"
    }
   ],
   "source": [
    "cbind(1:10, 11:20)"
   ]
  },
  {
   "cell_type": "code",
   "execution_count": 30,
   "metadata": {},
   "outputs": [
    {
     "data": {
      "text/html": [
       "23"
      ],
      "text/latex": [
       "23"
      ],
      "text/markdown": [
       "23"
      ],
      "text/plain": [
       "[1] 23"
      ]
     },
     "metadata": {},
     "output_type": "display_data"
    },
    {
     "data": {
      "text/html": [
       "<table>\n",
       "<tbody>\n",
       "\t<tr><td>1</td><td>2</td><td>5</td></tr>\n",
       "\t<tr><td>3</td><td>4</td><td>8</td></tr>\n",
       "</tbody>\n",
       "</table>\n"
      ],
      "text/latex": [
       "\\begin{tabular}{lll}\n",
       "\t 1 & 2 & 5\\\\\n",
       "\t 3 & 4 & 8\\\\\n",
       "\\end{tabular}\n"
      ],
      "text/markdown": [
       "\n",
       "| 1 | 2 | 5 | \n",
       "| 3 | 4 | 8 | \n",
       "\n",
       "\n"
      ],
      "text/plain": [
       "     [,1] [,2] [,3]\n",
       "[1,] 1    2    5   \n",
       "[2,] 3    4    8   "
      ]
     },
     "metadata": {},
     "output_type": "display_data"
    }
   ],
   "source": [
    "x1 <- c(1, 2, 5)\n",
    "x2 <- c(3, 4, 8)\n",
    "\n",
    "do.call(sum, list(x1, x2))\n",
    "do.call(rbind, list(x1, x2))"
   ]
  },
  {
   "cell_type": "markdown",
   "metadata": {},
   "source": [
    "V podstatě stejné jako:"
   ]
  },
  {
   "cell_type": "code",
   "execution_count": 31,
   "metadata": {},
   "outputs": [
    {
     "data": {
      "text/html": [
       "23"
      ],
      "text/latex": [
       "23"
      ],
      "text/markdown": [
       "23"
      ],
      "text/plain": [
       "[1] 23"
      ]
     },
     "metadata": {},
     "output_type": "display_data"
    },
    {
     "data": {
      "text/html": [
       "<table>\n",
       "<tbody>\n",
       "\t<tr><th scope=row>x1</th><td>1</td><td>2</td><td>5</td></tr>\n",
       "\t<tr><th scope=row>x2</th><td>3</td><td>4</td><td>8</td></tr>\n",
       "</tbody>\n",
       "</table>\n"
      ],
      "text/latex": [
       "\\begin{tabular}{r|lll}\n",
       "\tx1 & 1 & 2 & 5\\\\\n",
       "\tx2 & 3 & 4 & 8\\\\\n",
       "\\end{tabular}\n"
      ],
      "text/markdown": [
       "\n",
       "| x1 | 1 | 2 | 5 | \n",
       "| x2 | 3 | 4 | 8 | \n",
       "\n",
       "\n"
      ],
      "text/plain": [
       "   [,1] [,2] [,3]\n",
       "x1 1    2    5   \n",
       "x2 3    4    8   "
      ]
     },
     "metadata": {},
     "output_type": "display_data"
    }
   ],
   "source": [
    "sum(x1, x2)\n",
    "rbind(x1, x2)"
   ]
  },
  {
   "cell_type": "code",
   "execution_count": null,
   "metadata": {},
   "outputs": [],
   "source": []
  }
 ],
 "metadata": {
  "kernelspec": {
   "display_name": "R",
   "language": "R",
   "name": "ir"
  },
  "language_info": {
   "codemirror_mode": "r",
   "file_extension": ".r",
   "mimetype": "text/x-r-source",
   "name": "R",
   "pygments_lexer": "r",
   "version": "3.3.2"
  },
  "toc": {
   "base_numbering": 1,
   "nav_menu": {},
   "number_sections": true,
   "sideBar": true,
   "skip_h1_title": true,
   "title_cell": "Table of Contents",
   "title_sidebar": "Contents",
   "toc_cell": true,
   "toc_position": {},
   "toc_section_display": true,
   "toc_window_display": false
  }
 },
 "nbformat": 4,
 "nbformat_minor": 2
}
