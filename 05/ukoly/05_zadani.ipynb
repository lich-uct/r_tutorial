{
 "cells": [
  {
   "cell_type": "markdown",
   "metadata": {
    "toc": true
   },
   "source": [
    "<h1>Table of Contents<span class=\"tocSkip\"></span></h1>\n",
    "<div class=\"toc\"><ul class=\"toc-item\"></ul></div>"
   ]
  },
  {
   "cell_type": "markdown",
   "metadata": {},
   "source": [
    "# International Movie Database\n",
    "\n",
    "1. Zobrazte deset nejlépe hodnocených filmů (sloupec `rating`).\n",
    "2. Zobrazte deset nejlépe hodnocených filmů, které mají alespoň 5000 hodnocení (sloupec `votes`).\n",
    "3. Přidejte do tabulky nový sloupec `GenreCount`, který bude označovat, do kolika žánrů najednou film patří.\n",
    "4. Ve kterém roce se natočilo nejvíce dokumentárních filmů?\n",
    "5. Zobrazte tři nejlépe hodnocené filmy pro každý žánr. Uložte jako seznam (`list`), kde klíč je název žánru a hodnota je vektor jmen těchto filmů.\n",
    "6. Spočítejte průměrná hodnocení filmů v jednotlivých žánrech. Jsou komedie v průměru lépe hodnocené než akční filmy? Zkusíte navrhnout a provést statistický test?\n",
    "7. Najděte tři nejlepší romantické komedie v každém desetiletí."
   ]
  },
  {
   "cell_type": "code",
   "execution_count": 5,
   "metadata": {},
   "outputs": [
    {
     "data": {
      "text/html": [
       "<table>\n",
       "<thead><tr><th scope=col>var1</th><th scope=col>title</th><th scope=col>year</th><th scope=col>length</th><th scope=col>budget</th><th scope=col>rating</th><th scope=col>votes</th><th scope=col>r1</th><th scope=col>r2</th><th scope=col>r3</th><th scope=col>⋯</th><th scope=col>r9</th><th scope=col>r10</th><th scope=col>mpaa</th><th scope=col>Action</th><th scope=col>Animation</th><th scope=col>Comedy</th><th scope=col>Drama</th><th scope=col>Documentary</th><th scope=col>Romance</th><th scope=col>Short</th></tr></thead>\n",
       "<tbody>\n",
       "\t<tr><td>1                       </td><td>$                       </td><td>1971                    </td><td>121                     </td><td>NA                      </td><td>6.4                     </td><td>348                     </td><td> 4.5                    </td><td> 4.5                    </td><td>4.5                     </td><td>⋯                       </td><td> 4.5                    </td><td> 4.5                    </td><td>                        </td><td>0                       </td><td>0                       </td><td>1                       </td><td>1                       </td><td>0                       </td><td>0                       </td><td>0                       </td></tr>\n",
       "\t<tr><td>2                       </td><td>$1000 a Touchdown       </td><td>1939                    </td><td> 71                     </td><td>NA                      </td><td>6.0                     </td><td> 20                     </td><td> 0.0                    </td><td>14.5                    </td><td>4.5                     </td><td>⋯                       </td><td> 4.5                    </td><td>14.5                    </td><td>                        </td><td>0                       </td><td>0                       </td><td>1                       </td><td>0                       </td><td>0                       </td><td>0                       </td><td>0                       </td></tr>\n",
       "\t<tr><td>3                       </td><td>$21 a Day Once a Month  </td><td>1941                    </td><td>  7                     </td><td>NA                      </td><td>8.2                     </td><td>  5                     </td><td> 0.0                    </td><td> 0.0                    </td><td>0.0                     </td><td>⋯                       </td><td>24.5                    </td><td>24.5                    </td><td>                        </td><td>0                       </td><td>1                       </td><td>0                       </td><td>0                       </td><td>0                       </td><td>0                       </td><td>1                       </td></tr>\n",
       "\t<tr><td>4                       </td><td>40000                   </td><td>1996                    </td><td> 70                     </td><td>NA                      </td><td>8.2                     </td><td>  6                     </td><td>14.5                    </td><td> 0.0                    </td><td>0.0                     </td><td>⋯                       </td><td>34.5                    </td><td>45.5                    </td><td>                        </td><td>0                       </td><td>0                       </td><td>1                       </td><td>0                       </td><td>0                       </td><td>0                       </td><td>0                       </td></tr>\n",
       "\t<tr><td>5                       </td><td>$50,000 Climax Show, The</td><td>1975                    </td><td> 71                     </td><td>NA                      </td><td>3.4                     </td><td> 17                     </td><td>24.5                    </td><td> 4.5                    </td><td>0.0                     </td><td>⋯                       </td><td> 0.0                    </td><td>24.5                    </td><td>                        </td><td>0                       </td><td>0                       </td><td>0                       </td><td>0                       </td><td>0                       </td><td>0                       </td><td>0                       </td></tr>\n",
       "\t<tr><td>6                       </td><td>$pent                   </td><td>2000                    </td><td> 91                     </td><td>NA                      </td><td>4.3                     </td><td> 45                     </td><td> 4.5                    </td><td> 4.5                    </td><td>4.5                     </td><td>⋯                       </td><td>14.5                    </td><td>14.5                    </td><td>                        </td><td>0                       </td><td>0                       </td><td>0                       </td><td>1                       </td><td>0                       </td><td>0                       </td><td>0                       </td></tr>\n",
       "</tbody>\n",
       "</table>\n"
      ],
      "text/latex": [
       "\\begin{tabular}{r|lllllllllllllllllllllllll}\n",
       " var1 & title & year & length & budget & rating & votes & r1 & r2 & r3 & ⋯ & r9 & r10 & mpaa & Action & Animation & Comedy & Drama & Documentary & Romance & Short\\\\\n",
       "\\hline\n",
       "\t 1                          & \\$                        & 1971                       & 121                        & NA                         & 6.4                        & 348                        &  4.5                       &  4.5                       & 4.5                        & ⋯                          &  4.5                       &  4.5                       &                            & 0                          & 0                          & 1                          & 1                          & 0                          & 0                          & 0                         \\\\\n",
       "\t 2                          & \\$1000 a Touchdown        & 1939                       &  71                        & NA                         & 6.0                        &  20                        &  0.0                       & 14.5                       & 4.5                        & ⋯                          &  4.5                       & 14.5                       &                            & 0                          & 0                          & 1                          & 0                          & 0                          & 0                          & 0                         \\\\\n",
       "\t 3                          & \\$21 a Day Once a Month   & 1941                       &   7                        & NA                         & 8.2                        &   5                        &  0.0                       &  0.0                       & 0.0                        & ⋯                          & 24.5                       & 24.5                       &                            & 0                          & 1                          & 0                          & 0                          & 0                          & 0                          & 1                         \\\\\n",
       "\t 4                        & 40000                    & 1996                     &  70                      & NA                       & 8.2                      &   6                      & 14.5                     &  0.0                     & 0.0                      & ⋯                        & 34.5                     & 45.5                     &                          & 0                        & 0                        & 1                        & 0                        & 0                        & 0                        & 0                       \\\\\n",
       "\t 5                          & \\$50,000 Climax Show, The & 1975                       &  71                        & NA                         & 3.4                        &  17                        & 24.5                       &  4.5                       & 0.0                        & ⋯                          &  0.0                       & 24.5                       &                            & 0                          & 0                          & 0                          & 0                          & 0                          & 0                          & 0                         \\\\\n",
       "\t 6                          & \\$pent                    & 2000                       &  91                        & NA                         & 4.3                        &  45                        &  4.5                       &  4.5                       & 4.5                        & ⋯                          & 14.5                       & 14.5                       &                            & 0                          & 0                          & 0                          & 1                          & 0                          & 0                          & 0                         \\\\\n",
       "\\end{tabular}\n"
      ],
      "text/markdown": [
       "\n",
       "var1 | title | year | length | budget | rating | votes | r1 | r2 | r3 | ⋯ | r9 | r10 | mpaa | Action | Animation | Comedy | Drama | Documentary | Romance | Short | \n",
       "|---|---|---|---|---|---|\n",
       "| 1                        | $                        | 1971                     | 121                      | NA                       | 6.4                      | 348                      |  4.5                     |  4.5                     | 4.5                      | ⋯                        |  4.5                     |  4.5                     |                          | 0                        | 0                        | 1                        | 1                        | 0                        | 0                        | 0                        | \n",
       "| 2                        | $1000 a Touchdown        | 1939                     |  71                      | NA                       | 6.0                      |  20                      |  0.0                     | 14.5                     | 4.5                      | ⋯                        |  4.5                     | 14.5                     |                          | 0                        | 0                        | 1                        | 0                        | 0                        | 0                        | 0                        | \n",
       "| 3                        | $21 a Day Once a Month   | 1941                     |   7                      | NA                       | 8.2                      |   5                      |  0.0                     |  0.0                     | 0.0                      | ⋯                        | 24.5                     | 24.5                     |                          | 0                        | 1                        | 0                        | 0                        | 0                        | 0                        | 1                        | \n",
       "| 4                        | 40000                    | 1996                     |  70                      | NA                       | 8.2                      |   6                      | 14.5                     |  0.0                     | 0.0                      | ⋯                        | 34.5                     | 45.5                     |                          | 0                        | 0                        | 1                        | 0                        | 0                        | 0                        | 0                        | \n",
       "| 5                        | $50,000 Climax Show, The | 1975                     |  71                      | NA                       | 3.4                      |  17                      | 24.5                     |  4.5                     | 0.0                      | ⋯                        |  0.0                     | 24.5                     |                          | 0                        | 0                        | 0                        | 0                        | 0                        | 0                        | 0                        | \n",
       "| 6                        | $pent                    | 2000                     |  91                      | NA                       | 4.3                      |  45                      |  4.5                     |  4.5                     | 4.5                      | ⋯                        | 14.5                     | 14.5                     |                          | 0                        | 0                        | 0                        | 1                        | 0                        | 0                        | 0                        | \n",
       "\n",
       "\n"
      ],
      "text/plain": [
       "  var1 title                    year length budget rating votes r1   r2   r3  ⋯\n",
       "1 1    $                        1971 121    NA     6.4    348    4.5  4.5 4.5 ⋯\n",
       "2 2    $1000 a Touchdown        1939  71    NA     6.0     20    0.0 14.5 4.5 ⋯\n",
       "3 3    $21 a Day Once a Month   1941   7    NA     8.2      5    0.0  0.0 0.0 ⋯\n",
       "4 4    40000                    1996  70    NA     8.2      6   14.5  0.0 0.0 ⋯\n",
       "5 5    $50,000 Climax Show, The 1975  71    NA     3.4     17   24.5  4.5 0.0 ⋯\n",
       "6 6    $pent                    2000  91    NA     4.3     45    4.5  4.5 4.5 ⋯\n",
       "  r9   r10  mpaa Action Animation Comedy Drama Documentary Romance Short\n",
       "1  4.5  4.5      0      0         1      1     0           0       0    \n",
       "2  4.5 14.5      0      0         1      0     0           0       0    \n",
       "3 24.5 24.5      0      1         0      0     0           0       1    \n",
       "4 34.5 45.5      0      0         1      0     0           0       0    \n",
       "5  0.0 24.5      0      0         0      0     0           0       0    \n",
       "6 14.5 14.5      0      0         0      1     0           0       0    "
      ]
     },
     "metadata": {},
     "output_type": "display_data"
    }
   ],
   "source": [
    "df_imdb <- read.table('imdb.csv', sep=';', header = T)\n",
    "head(df_imdb)"
   ]
  },
  {
   "cell_type": "code",
   "execution_count": null,
   "metadata": {},
   "outputs": [],
   "source": []
  }
 ],
 "metadata": {
  "kernelspec": {
   "display_name": "R",
   "language": "R",
   "name": "ir"
  },
  "language_info": {
   "codemirror_mode": "r",
   "file_extension": ".r",
   "mimetype": "text/x-r-source",
   "name": "R",
   "pygments_lexer": "r",
   "version": "3.3.2"
  },
  "toc": {
   "base_numbering": 1,
   "nav_menu": {},
   "number_sections": true,
   "sideBar": true,
   "skip_h1_title": true,
   "title_cell": "Table of Contents",
   "title_sidebar": "Contents",
   "toc_cell": true,
   "toc_position": {},
   "toc_section_display": true,
   "toc_window_display": false
  }
 },
 "nbformat": 4,
 "nbformat_minor": 2
}
